{
 "cells": [
  {
   "cell_type": "markdown",
   "id": "ba8e0db0",
   "metadata": {},
   "source": [
    "# 데이터 집계와 시각화\n",
    "\n",
    "### 주요 내용\n",
    "\n",
    "1. 건수, 합계 평균 등 집계값 계산\n",
    "2. 히스토그램, 상자그림, 막대그래프 등 그래프 작성 \n",
    "3. 정렬 및 피벗테이블 활용\n",
    "\n",
    "<br>\n",
    "\n",
    "### 목표 \n",
    "1. 집계값을 계산할 수 있다.\n",
    "2. 적절한 그래프를 작성하고 올바르게 해석할 수 있다.\n",
    "3. 피벗 테이블 등 다양한 방법으로 집계하고, 결과값을 적절히 정렬할 수 있다. \n",
    "\n",
    "\n",
    "<br>\n",
    "<hr>\n",
    "<br>"
   ]
  },
  {
   "cell_type": "markdown",
   "id": "9e7039ec",
   "metadata": {},
   "source": [
    "## 예제 및 실습 데이터 불러오기"
   ]
  },
  {
   "cell_type": "code",
   "execution_count": null,
   "id": "d8b0a22e",
   "metadata": {},
   "outputs": [],
   "source": [
    "# 데이터 불러오기\n",
    "import pandas as pd\n",
    "df_ins = pd.read_csv('data/insurance.csv')\n",
    "df_ins.head()"
   ]
  },
  {
   "cell_type": "code",
   "execution_count": null,
   "id": "66448535",
   "metadata": {
    "scrolled": true
   },
   "outputs": [],
   "source": [
    "df_sp = pd.read_csv('data/StudentsPerformance.csv')\n",
    "df_sp.head()"
   ]
  },
  {
   "cell_type": "code",
   "execution_count": null,
   "id": "13789c2f",
   "metadata": {},
   "outputs": [],
   "source": [
    "#df_sp.describe()\n",
    "#df_sp.describe(include='number')\n",
    "df_sp.describe(include='object')"
   ]
  },
  {
   "cell_type": "markdown",
   "id": "8012b0c1",
   "metadata": {},
   "source": [
    "<br>\n",
    "\n",
    "## 1. 수치형 변수의 집계값과 히스토그램\n",
    "\n",
    "하나의 수치형 변수로 합계, 평균과 같은 집계값을 계산할 수 있고 히스토그램으로 분포를 확인\n",
    "\n",
    "\n",
    "<br>\n",
    "\n",
    "### 1.1. 수치형 변수의 집계값 계산\n",
    "\n",
    "수치형 변수를 선택한 다음 sum( ), mean( ) 같은 메서드를 활용해서 단순한 집계값을 계산  \n",
    "먼저 변수를 선택하고 다양한 집계 함수를 메서드로 활용"
   ]
  },
  {
   "cell_type": "code",
   "execution_count": null,
   "id": "c8866431",
   "metadata": {},
   "outputs": [],
   "source": [
    "# 관심 변수 선택\n",
    "df_ins['charges']"
   ]
  },
  {
   "cell_type": "code",
   "execution_count": null,
   "id": "39731115",
   "metadata": {},
   "outputs": [],
   "source": [
    "# 수치형 변수의 집계값 계산\n",
    "    # mean( ) : 수치형 Series의 메서드\n",
    "df_ins['charges'].mean()"
   ]
  },
  {
   "cell_type": "code",
   "execution_count": null,
   "id": "cf07e50e",
   "metadata": {},
   "outputs": [],
   "source": [
    "df_ins['charges'].sum()"
   ]
  },
  {
   "cell_type": "code",
   "execution_count": null,
   "id": "77ccd25e",
   "metadata": {},
   "outputs": [],
   "source": [
    "# 분산과 표준편차계산\n",
    "df_ins['charges'].var(), df_ins['charges'].std()"
   ]
  },
  {
   "cell_type": "code",
   "execution_count": null,
   "id": "cee0ae55",
   "metadata": {},
   "outputs": [],
   "source": [
    "# 관측치 수 계산하기\n",
    "df_ins['charges'].min()"
   ]
  },
  {
   "cell_type": "markdown",
   "id": "c9e3d738",
   "metadata": {},
   "source": [
    "<br>\n",
    "\n",
    "### 1.2. 히스토그램 그리기\n",
    "\n",
    "하나의 수치형변수의 분포를 파악하기 위해서 히스토그램을 활용  \n",
    "Python에서 그래프를 그릴때는 기본적으로 matplotlib 라이브러리를 활용하지만, 좀 더 가독성이 좋고 그래프가 이쁜 seaborn 라이브러리를 추가로 활용   \n",
    "\n"
   ]
  },
  {
   "cell_type": "markdown",
   "id": "ce1221c5",
   "metadata": {},
   "source": [
    "<br>\n",
    "\n",
    "#### 1.2.1. pandas의 메서드와 matplotlib을 활용한 그래프"
   ]
  },
  {
   "cell_type": "code",
   "execution_count": null,
   "id": "41304196",
   "metadata": {},
   "outputs": [],
   "source": [
    "# 라이브러리 불러오기\n",
    "import matplotlib.pyplot as plt\n",
    "import seaborn as sns"
   ]
  },
  {
   "cell_type": "code",
   "execution_count": null,
   "id": "4f314d03",
   "metadata": {},
   "outputs": [],
   "source": [
    "# 한글 폰트 설정 (Windows)\n",
    "plt.rc('font', family='Malgun Gothic')\n",
    "plt.rc('axes', unicode_minus=False)"
   ]
  },
  {
   "cell_type": "code",
   "execution_count": null,
   "id": "99ae608b",
   "metadata": {},
   "outputs": [],
   "source": [
    "# 한글 폰트 설정 (macOS)\n",
    "# plt.rc('font', family='AppleGothic')\n",
    "# plt.rc('axes', unicode_minus=False)"
   ]
  },
  {
   "cell_type": "code",
   "execution_count": null,
   "id": "40ad4315",
   "metadata": {},
   "outputs": [],
   "source": [
    "# 가장 간단한 히스토그램과 상자그림\n",
    "    # DataFrame의 plot 메서드 활용\n",
    "    # plt.show() : 최종 그래프 출력함수, 생략 가능\n",
    "df_ins['age'].plot(kind='hist')\n",
    "plt.show()"
   ]
  },
  {
   "cell_type": "code",
   "execution_count": null,
   "id": "6e7737b8",
   "metadata": {},
   "outputs": [],
   "source": [
    "# matplotlib의 hist( )를 활용한 히스토그램 그리기\n",
    "plt.hist(df_ins['age'])\n",
    "plt.show()"
   ]
  },
  {
   "cell_type": "code",
   "execution_count": null,
   "id": "e8a5ec7e",
   "metadata": {},
   "outputs": [],
   "source": [
    "# 그래프를 꾸며 다시 그리기\n",
    "plt.figure(figsize=(10,6)) ##사이즈 정하고\n",
    "\n",
    "plt.hist(df_ins['age'])\n",
    "\n",
    "plt.title('Histogram', fontsize=30)\n",
    "plt.xlabel('나이', fontsize=20)\n",
    "plt.ylabel('수', fontsize=20)\n",
    "\n",
    "plt.show()\n"
   ]
  },
  {
   "cell_type": "markdown",
   "id": "cc93a106",
   "metadata": {},
   "source": [
    "<br>\n",
    "\n",
    "#### 1.2.2. seaborn을 활용한 히스토그램\n",
    "\n",
    "seaborn 라이브러리를 활용하면 그래프를 그리는 명령어가 좀 더 직관적이고 DataFrame 형식을 활용하기 편함"
   ]
  },
  {
   "cell_type": "code",
   "execution_count": null,
   "id": "6cfe3ac5",
   "metadata": {},
   "outputs": [],
   "source": [
    "# histplot()을 활용한 히스토그램\n",
    "sns.histplot(data=df_ins,\n",
    "             x='age', bins= 10)\n",
    "plt.show()"
   ]
  },
  {
   "cell_type": "markdown",
   "id": "c6210cb3",
   "metadata": {},
   "source": [
    "<br>\n",
    "\n",
    "#### [실습] 한 수치형 변수에 대한 요약과 시각화\n",
    "\n",
    "1. df_sp에서 'math score'의 평균 계산하기\n",
    "\n",
    "2. df_sp에서 'math score'의 히스토그램을 matplotlib으로 그려기\n",
    "\n",
    "3. df_sp에서 'math score'의 히스토그램을 seaborn으로 그려기\n",
    "\n"
   ]
  },
  {
   "cell_type": "code",
   "execution_count": null,
   "id": "201e72c5",
   "metadata": {},
   "outputs": [],
   "source": [
    "df_sp['math score'].mean()"
   ]
  },
  {
   "cell_type": "code",
   "execution_count": null,
   "id": "3cf6437f",
   "metadata": {},
   "outputs": [],
   "source": [
    "plt.hist(df_sp['math score'])"
   ]
  },
  {
   "cell_type": "code",
   "execution_count": null,
   "id": "37165a3e",
   "metadata": {},
   "outputs": [],
   "source": [
    "sns.histplot(data=df_sp, x='math score')"
   ]
  },
  {
   "cell_type": "code",
   "execution_count": null,
   "id": "69091112",
   "metadata": {},
   "outputs": [],
   "source": []
  },
  {
   "cell_type": "markdown",
   "id": "80f16c9c",
   "metadata": {},
   "source": [
    "### 1.3. 분위수와 상자그림\n",
    "\n",
    "`quantile()`을 활용해서 분위수를 계산  \n",
    "\n",
    "최솟값(minimum, 0%), Q1(1st Quartile, 25%), 중앙값(median, 50%), Q3(3rd Quartile, 75%), 최댓값(maximum, 100%)을 사분위수(quartile)이라고 부르고, **상자그림(boxplot)**으로 시각화"
   ]
  },
  {
   "cell_type": "code",
   "execution_count": null,
   "id": "d8b0a9ad",
   "metadata": {},
   "outputs": [],
   "source": [
    "df_ins['charges'].quantile(0.1)"
   ]
  },
  {
   "cell_type": "code",
   "execution_count": null,
   "id": "c09f9f88",
   "metadata": {},
   "outputs": [],
   "source": [
    "df_ins['charges'].quantile([0.0,0.25,0.5,0.75,1.0, 0.9, 0.8])\n",
    "    ## quantile( ) : 계산할 분위(1.0이 최댓값) 를 리스트로 묶기"
   ]
  },
  {
   "cell_type": "code",
   "execution_count": null,
   "id": "1a2e6849",
   "metadata": {},
   "outputs": [],
   "source": [
    "# matplotlib의 boxplot()으로 상자그림 그리기\n",
    "plt.boxplot(df_ins['charges'])\n",
    "plt.show()"
   ]
  },
  {
   "cell_type": "code",
   "execution_count": null,
   "id": "d4d09c04",
   "metadata": {},
   "outputs": [],
   "source": [
    "# boxplot( )을 활용한상자그림\n",
    "sns.boxplot(data=df_ins,\n",
    "            y='charges')\n",
    "plt.show()"
   ]
  },
  {
   "cell_type": "markdown",
   "id": "83096bcf",
   "metadata": {},
   "source": [
    "<br>\n",
    "\n",
    "\n",
    "#### [실습]\n",
    "\n",
    "1. df_sp에서 'reading score'의 Q1(25%), 중위수(median, 50%), Q3(75%) 계산하기\n",
    "2. df_sp에서 'reading score'의 상자그림을 seaborn으로 그리기"
   ]
  },
  {
   "cell_type": "code",
   "execution_count": null,
   "id": "2798523f",
   "metadata": {},
   "outputs": [],
   "source": [
    "df_sp['reading score'].quantile([0.25, 0.5, 0.75])"
   ]
  },
  {
   "cell_type": "code",
   "execution_count": null,
   "id": "e1d42455",
   "metadata": {},
   "outputs": [],
   "source": [
    "sns.boxplot(data=df_sp, y='reading score')"
   ]
  },
  {
   "cell_type": "code",
   "execution_count": null,
   "id": "84367a93",
   "metadata": {},
   "outputs": [],
   "source": []
  },
  {
   "cell_type": "code",
   "execution_count": null,
   "id": "3f8b51f7",
   "metadata": {},
   "outputs": [],
   "source": []
  },
  {
   "cell_type": "code",
   "execution_count": null,
   "id": "5bd24179",
   "metadata": {},
   "outputs": [],
   "source": []
  },
  {
   "cell_type": "markdown",
   "id": "a065402e",
   "metadata": {},
   "source": [
    "<br>\n",
    "\n",
    "## 2. 범주형 변수의 요약과 시각화  \n",
    "\n",
    "범주형 변수는 정해진 수준(level) 중에 하나의 값을 갖기 때문에 분석 방법이 단순하며 개수를 세면 됨\n",
    "\n",
    "<br>\n",
    "\n",
    "\n",
    "### 2.1. 그룹별 건수 계산과 시각화\n",
    "\n",
    "> SQL에서도 가장 잦은 키워드 조합이 `SELECT COUNT(1) ... GROUP BY ...`입니다.  \n",
    "\n",
    "범주형 변수/그룹 변수로 수준별 관측치 수를 셀 수 있고, 막대그래프로 표현\n"
   ]
  },
  {
   "cell_type": "code",
   "execution_count": null,
   "id": "daa3936d",
   "metadata": {},
   "outputs": [],
   "source": [
    "# 수준(levels) 및 개수 확인 \n",
    "df_ins['smoker'].unique()"
   ]
  },
  {
   "cell_type": "code",
   "execution_count": null,
   "id": "c05b5c92",
   "metadata": {},
   "outputs": [],
   "source": [
    "df_ins['smoker'].nunique()"
   ]
  },
  {
   "cell_type": "markdown",
   "id": "eaedaf69",
   "metadata": {},
   "source": [
    "<br>\n",
    "\n",
    "#### 2.1.1. 수준별 관측치 수 계산 및 막대그래프 작성"
   ]
  },
  {
   "cell_type": "code",
   "execution_count": null,
   "id": "4476c267",
   "metadata": {},
   "outputs": [],
   "source": [
    "# 수준별 관측치 수 세기\n",
    "df_ins['smoker'].value_counts()"
   ]
  },
  {
   "cell_type": "code",
   "execution_count": null,
   "id": "c7e76675",
   "metadata": {},
   "outputs": [],
   "source": [
    "# plot( ) 메서드를 활용한 막대그래프 \n",
    "df_ins['smoker'].value_counts().plot(kind='bar')"
   ]
  },
  {
   "cell_type": "markdown",
   "id": "60bed7fb",
   "metadata": {},
   "source": [
    "<br>\n",
    "\n",
    "#### 2.1.2. groupby()와 size()를 활용한 집계와 시각화  \n",
    "\n",
    "범주형 변수의 집계에서는 *value_counts()*만 활용해도 충분하지만 이후 분석 과정에서 자주 활용할 *groupby()*를 활용한 방법도 활용"
   ]
  },
  {
   "cell_type": "code",
   "execution_count": null,
   "id": "c6d1d0ab",
   "metadata": {},
   "outputs": [],
   "source": [
    "# groupby()와 size( )를 활용한 그룹별 건수 계산\n",
    "    # 결과는 앞과 동일\n",
    "df_ins.groupby('smoker').size()"
   ]
  },
  {
   "cell_type": "code",
   "execution_count": null,
   "id": "2c883895",
   "metadata": {},
   "outputs": [],
   "source": [
    "# plot() 메서드를 활용한 시각화\n",
    "df_ins.groupby('smoker').size().plot(kind='bar')"
   ]
  },
  {
   "cell_type": "markdown",
   "id": "d591a08c",
   "metadata": {},
   "source": [
    "<br>\n",
    "\n",
    "#### 2.1.3. DataFrame 형식의 활용\n",
    "\n",
    "*groupby()*에 그룹 변수 하나를 지정하면 **Series** 형식으로 출력되어 가독성이 떨어질 수 있음  \n",
    "`as_index=False` 옵션을 활용해서 집계 결과를 DataFrame 형식으로 바꾸고 시각화에 활용"
   ]
  },
  {
   "cell_type": "code",
   "execution_count": null,
   "id": "e8f7d8bc",
   "metadata": {},
   "outputs": [],
   "source": [
    "# DataFrame 형식으로 바꾸기\n",
    "    # as_index=False : 그룹 변수를 index로 지정하지 않음\n",
    "df_agg_smoker = df_ins.groupby('smoker', as_index=False).size()\n",
    "df_agg_smoker"
   ]
  },
  {
   "cell_type": "code",
   "execution_count": null,
   "id": "6ca96fdc",
   "metadata": {},
   "outputs": [],
   "source": [
    "type(df_agg_smoker)"
   ]
  },
  {
   "cell_type": "code",
   "execution_count": null,
   "id": "ae727289",
   "metadata": {},
   "outputs": [],
   "source": [
    "# matplotlib의 bar()를 활용한 시각화\n",
    "plt.bar(df_agg_smoker['smoker'], df_agg_smoker['size'])\n",
    "plt.show()"
   ]
  },
  {
   "cell_type": "code",
   "execution_count": null,
   "id": "3f371989",
   "metadata": {},
   "outputs": [],
   "source": [
    "# seaborn의 barplot( )을 활용한 시각화\n",
    "sns.barplot(data= df_agg_smoker,\n",
    "            x='smoker',\n",
    "            y='size')"
   ]
  },
  {
   "cell_type": "markdown",
   "id": "1a39f998",
   "metadata": {},
   "source": [
    "#### [참고]\n",
    "\n",
    "seaborn의 countplot( ) 함수를 활용하면, groupby(), size() 없이 원본 데이터에서 바로 막대그래프를 그릴 수도 있음  "
   ]
  },
  {
   "cell_type": "code",
   "execution_count": null,
   "id": "0999b079",
   "metadata": {},
   "outputs": [],
   "source": [
    "# 집계 없이도 가능한 seaborn 막대그래프\n",
    "sns.countplot(data=df_ins,\n",
    "              x='smoker')"
   ]
  },
  {
   "cell_type": "code",
   "execution_count": null,
   "id": "5117c5d0",
   "metadata": {},
   "outputs": [],
   "source": []
  },
  {
   "cell_type": "markdown",
   "id": "47e555ba",
   "metadata": {},
   "source": [
    "#### [실습]\n",
    "\n",
    "1. 데이터 df_sp에서 'parental level of education'별 관측치 수를 계산하고 matplotlib 막대그래프 그리기\n",
    "2. 'race/ethnicity'별 관측치 수를 계산해서 DataFrame 형식으로 저장하고, seaborn 막대그래프로 그리기"
   ]
  },
  {
   "cell_type": "code",
   "execution_count": null,
   "id": "6b57e9d5",
   "metadata": {},
   "outputs": [],
   "source": [
    "df_sp.head()"
   ]
  },
  {
   "cell_type": "code",
   "execution_count": null,
   "id": "b552e898",
   "metadata": {},
   "outputs": [],
   "source": [
    "df_agg_edu = df_sp.groupby('parental level of education', as_index=False).size()\n",
    "df_agg_edu"
   ]
  },
  {
   "cell_type": "code",
   "execution_count": null,
   "id": "adb6c382",
   "metadata": {},
   "outputs": [],
   "source": [
    "plt.figure(figsize=(10,5))\n",
    "plt.bar(df_agg_edu['parental level of education'], df_agg_edu['size'])"
   ]
  },
  {
   "cell_type": "code",
   "execution_count": null,
   "id": "7626505d",
   "metadata": {},
   "outputs": [],
   "source": [
    "df_agg_race = df_sp.groupby('race/ethnicity', as_index=False).size()\n",
    "df_agg_race"
   ]
  },
  {
   "cell_type": "code",
   "execution_count": null,
   "id": "916e4e4b",
   "metadata": {},
   "outputs": [],
   "source": [
    "sns.barplot(data= df_agg_race,\n",
    "            x='race/ethnicity',\n",
    "            y='size')"
   ]
  },
  {
   "cell_type": "markdown",
   "id": "d188c617",
   "metadata": {},
   "source": [
    "<br>  \n",
    "\n",
    "## 3. 두 수치형 변수의 관계 \n",
    "\n",
    "두 수치형 변수의 관계를 파악하기 위해서 **산점도(scatterplot)**를 그리고 **상관계수(correlation coefficient)**를 계산  "
   ]
  },
  {
   "cell_type": "code",
   "execution_count": null,
   "id": "52899f0d",
   "metadata": {
    "scrolled": true
   },
   "outputs": [],
   "source": [
    "# 예제 데이터 불러오기\n",
    "    # 아빠키와 아들키\n",
    "df_heights = pd.read_csv('data/heights.csv')\n",
    "df_heights"
   ]
  },
  {
   "cell_type": "code",
   "execution_count": null,
   "id": "1b0393c7",
   "metadata": {},
   "outputs": [],
   "source": [
    "# seaborn으로 산점도 그리기\n",
    "mean_f = df_heights['father'].mean()\n",
    "mean_s = df_heights['son'].mean()\n",
    "print(mean_f, mean_s)\n",
    "\n",
    "plt.figure(figsize=(6,6))\n",
    "\n",
    "sns.scatterplot(data=df_heights, \n",
    "                x='father', \n",
    "                y='son', \n",
    "                alpha=0.5)\n",
    "plt.axhline(mean_s) # 수평선 추가\n",
    "plt.axvline(mean_f) # 수직선 추가\n",
    "plt.show()\n"
   ]
  },
  {
   "cell_type": "code",
   "execution_count": null,
   "id": "c147b144",
   "metadata": {},
   "outputs": [],
   "source": [
    "# 공분산 계산하기\n",
    "df_heights[['father','son']].cov()"
   ]
  },
  {
   "cell_type": "code",
   "execution_count": null,
   "id": "e34ba1e3",
   "metadata": {},
   "outputs": [],
   "source": [
    "# 상관계수 계산하기\n",
    "df_heights[['father','son']].corr()"
   ]
  },
  {
   "cell_type": "markdown",
   "id": "a641b83a",
   "metadata": {},
   "source": [
    "#### [실습] 두 수치형 변수의 관계 탐색\n",
    " \n",
    "1. df_sp에서 'math score'와 'reading score'의 산점도를 그리고 상관계수 계산하기\n",
    "2. df_ins에서 bmi와 charges의 산점도를 그리고 상관계수 계산하기\n",
    "3. (선택) df_ins에서 groupby('smoker')를 활용해서 bmi와 charges의 상관계수를 smoker별로 나눠 계산하기"
   ]
  },
  {
   "cell_type": "code",
   "execution_count": null,
   "id": "8eb744eb",
   "metadata": {},
   "outputs": [],
   "source": [
    "sns.scatterplot(data=df_sp, x='writing score', y='reading score', alpha=0.5)"
   ]
  },
  {
   "cell_type": "code",
   "execution_count": null,
   "id": "fbac8880",
   "metadata": {},
   "outputs": [],
   "source": [
    "df_sp[['math score', 'reading score', 'writing score']].corr()"
   ]
  },
  {
   "cell_type": "code",
   "execution_count": null,
   "id": "e73add9e",
   "metadata": {},
   "outputs": [],
   "source": [
    "sns.scatterplot(data=df_ins, x='bmi', y='charges', alpha=0.5, hue='smoker')"
   ]
  },
  {
   "cell_type": "code",
   "execution_count": null,
   "id": "b5f48b9c",
   "metadata": {
    "scrolled": true
   },
   "outputs": [],
   "source": [
    "for col in df_ins.columns:\n",
    "    sns.scatterplot(data=df_ins, x='bmi', y='charges', alpha=0.5, hue=col)\n",
    "    plt.show()"
   ]
  },
  {
   "cell_type": "code",
   "execution_count": null,
   "id": "695e9624",
   "metadata": {},
   "outputs": [],
   "source": [
    "df_ins[['bmi', 'charges']].corr()"
   ]
  },
  {
   "cell_type": "code",
   "execution_count": null,
   "id": "0d1a83e8",
   "metadata": {},
   "outputs": [],
   "source": [
    "df_ins.groupby('smoker').corr()"
   ]
  },
  {
   "cell_type": "code",
   "execution_count": null,
   "id": "19187757",
   "metadata": {},
   "outputs": [],
   "source": [
    "df_ins.groupby('smoker')[['bmi', 'charges']].corr()"
   ]
  },
  {
   "cell_type": "markdown",
   "id": "c6ca5de2",
   "metadata": {},
   "source": [
    "<br>\n",
    "\n",
    "\n",
    "## 4. 그룹별 집계값의 계산과 분포 비교\n",
    "\n",
    "범주형 변수를 그룹처럼 활용해서 그룹별 평균을 계산하고, 그룹별 상자그림을 그려서 그룹간 분포를 비교  \n",
    "한 변수의 집계에서 `groupby()`를 추가하면 되고, 필요에 따라 `agg()`를 활용 가능 "
   ]
  },
  {
   "cell_type": "code",
   "execution_count": null,
   "id": "c1f873de",
   "metadata": {},
   "outputs": [],
   "source": [
    "# 그룹별 평균 계산\n",
    "df_ins.groupby('sex', as_index=False)['charges'].mean()"
   ]
  },
  {
   "cell_type": "code",
   "execution_count": null,
   "id": "1bd7b7c2",
   "metadata": {},
   "outputs": [],
   "source": [
    "# 여러개 그룹변수를 활용한 평균 계산\n",
    "df_ins.groupby(['sex', 'smoker'], as_index=False)['charges'].mean()"
   ]
  },
  {
   "cell_type": "code",
   "execution_count": null,
   "id": "24dfbd95",
   "metadata": {},
   "outputs": [],
   "source": [
    "# 그룹별 여러 변수의 평균 계산 \n",
    "df_ins.groupby('sex', as_index=False)[['charges', 'age']].mean()"
   ]
  },
  {
   "cell_type": "code",
   "execution_count": null,
   "id": "f18850db",
   "metadata": {},
   "outputs": [],
   "source": [
    "# 그룹별 한 변수의 여러 집계값 계산\n",
    "df_ins.groupby('sex', as_index=False)['charges'].agg(['min','max','mean'])"
   ]
  },
  {
   "cell_type": "code",
   "execution_count": null,
   "id": "6fd3e48d",
   "metadata": {},
   "outputs": [],
   "source": [
    "# 일반적인 그룹별 집계값 계산\n",
    "df_ins.groupby('sex', as_index=False).agg({'age':['min','max','mean'], 'charges':['mean', 'median']})"
   ]
  },
  {
   "cell_type": "code",
   "execution_count": null,
   "id": "677eb379",
   "metadata": {
    "scrolled": false
   },
   "outputs": [],
   "source": [
    "# 겹쳐그린 히스토그램 \n",
    "sns.histplot(data=df_ins, \n",
    "             x = 'charges',\n",
    "             hue='sex')"
   ]
  },
  {
   "cell_type": "code",
   "execution_count": null,
   "id": "52f3d65d",
   "metadata": {},
   "outputs": [],
   "source": [
    "# 많이 겹치기 어려운 히스토그램\n",
    "sns.histplot(data=df_ins, \n",
    "             x = 'charges',\n",
    "             hue='region')"
   ]
  },
  {
   "cell_type": "code",
   "execution_count": null,
   "id": "e40ac978",
   "metadata": {},
   "outputs": [],
   "source": [
    "# 그룹별 상자그림 \n",
    "sns.boxplot(data=df_ins,\n",
    "            x='sex', \n",
    "            y='charges')\n",
    "plt.show()\n",
    "\n",
    "sns.boxplot(data=df_ins,\n",
    "            x='region', \n",
    "            y='charges')\n",
    "plt.show()"
   ]
  },
  {
   "cell_type": "code",
   "execution_count": null,
   "id": "95bc6e90",
   "metadata": {},
   "outputs": [],
   "source": [
    "# hue를 추가로 활용한 상자그림\n",
    "sns.boxplot(data=df_ins,\n",
    "            x='region', \n",
    "            y='charges',\n",
    "            hue='smoker')\n",
    "plt.show()"
   ]
  },
  {
   "cell_type": "code",
   "execution_count": null,
   "id": "89ce320f",
   "metadata": {},
   "outputs": [],
   "source": [
    "df_ins['smoker_region'] = df_ins['smoker'] + \"_\" + df_ins['region']\n",
    "\n",
    "sns.boxplot(data=df_ins.sort_values('smoker_region'),\n",
    "            x='sex', \n",
    "            y='charges',\n",
    "            hue='smoker_region')\n",
    "plt.show()"
   ]
  },
  {
   "cell_type": "markdown",
   "id": "093b0416",
   "metadata": {},
   "source": [
    "#### [실습] 변수 관계 탐색\n",
    "\n",
    "1. 데이터 df_sp에서 수치형 변수 하나와 범주형 변수 하나를 선택해서 그룹별 평균을 계산하고 상자그림 그리기\n",
    "2. 데이터 df_sp에서 두 그룹 변수를 활용해서 `math score`의 평균을 계산하기\n",
    "3. 2.의 세 변수를 x, y, hue로 활용해 seaborn으로 상자그림 그리기\n",
    "\n",
    "\n"
   ]
  },
  {
   "cell_type": "code",
   "execution_count": null,
   "id": "40b52501",
   "metadata": {},
   "outputs": [],
   "source": [
    "df_sp.head()"
   ]
  },
  {
   "cell_type": "code",
   "execution_count": null,
   "id": "ab992ab0",
   "metadata": {},
   "outputs": [],
   "source": [
    "df_sp.groupby('race/ethnicity', as_index=False)[['math score', 'reading score', 'writing score']].mean()"
   ]
  },
  {
   "cell_type": "code",
   "execution_count": null,
   "id": "d24de25b",
   "metadata": {},
   "outputs": [],
   "source": [
    "sns.boxplot(data=df_sp, x='race/ethnicity', y='math score')"
   ]
  },
  {
   "cell_type": "code",
   "execution_count": null,
   "id": "6da942e0",
   "metadata": {},
   "outputs": [],
   "source": [
    "df_sp.groupby(['race/ethnicity','gender'], as_index=False)[['math score', 'reading score', 'writing score']].mean()"
   ]
  },
  {
   "cell_type": "code",
   "execution_count": null,
   "id": "80b99149",
   "metadata": {},
   "outputs": [],
   "source": [
    "sns.boxplot(data=df_sp, x='gender', y='reading score', hue='race/ethnicity')"
   ]
  },
  {
   "cell_type": "code",
   "execution_count": null,
   "id": "88ed87b2",
   "metadata": {},
   "outputs": [],
   "source": []
  },
  {
   "cell_type": "markdown",
   "id": "fe28b623",
   "metadata": {},
   "source": [
    "## 5. 표 형태 집계와 열지도\n",
    "\n",
    "Excel의 피벗테이블과 같이 표 형태의 집계를 자주 활용  \n",
    "`crosstab()`으로 교차표를 만들거나 `pivot_table()`로 피벗테이블을 만들고 활용\n"
   ]
  },
  {
   "cell_type": "markdown",
   "id": "fef7f057",
   "metadata": {},
   "source": [
    "<br>\n",
    "\n",
    "### 5.1. 교차표 생성과 열지도 그리기\n",
    "\n",
    "한 범주형 변수의 관계를 확인할 때 개수를 센 것과 마찬가지로, 두 범주형 변수의 관계는 두 변수의 수준 조합별로 개수를 셈  \n",
    "*crosstab( )*을 활용해서 교차표를 생성하고 표 형태의 결과 데이터를 **seaborn**의 *heatmap()*에 넣어서 열지도로 시각화  "
   ]
  },
  {
   "cell_type": "code",
   "execution_count": null,
   "id": "f8da8df2",
   "metadata": {},
   "outputs": [],
   "source": [
    "# crosstab()을 활용한 교차표 생성\n",
    "tab1 = pd.crosstab(df_ins['sex'], df_ins['smoker'])\n",
    "tab1"
   ]
  },
  {
   "cell_type": "code",
   "execution_count": null,
   "id": "69fad3d4",
   "metadata": {},
   "outputs": [],
   "source": [
    "# 열지도 시각화\n",
    "    # cmap : 색상 조합\n",
    "    # annot=True : 수치 출력 여부\n",
    "    # fmt : 수치 출력 형식, 'd' 정수, '.2f' 소수점 둘째자리 소수\n",
    "sns.heatmap(tab1, cmap='YlGnBu', annot=True, fmt='d')\n",
    "plt.show()"
   ]
  },
  {
   "cell_type": "markdown",
   "id": "94500cd2",
   "metadata": {},
   "source": [
    "* 참고: [Color Palette](https://seaborn.pydata.org/tutorial/color_palettes.html)"
   ]
  },
  {
   "cell_type": "markdown",
   "id": "d610a357",
   "metadata": {},
   "source": [
    "<br>\n",
    "\n",
    "*crosstab( )*에서 `margins=True` 옵션을 활용하면 행, 열 합계, 전체 합계 등을 한번에 계산할 수 있음"
   ]
  },
  {
   "cell_type": "code",
   "execution_count": null,
   "id": "078273e6",
   "metadata": {},
   "outputs": [],
   "source": [
    "# crosstab()을 활용한 교차표 생성\n",
    "tab1m = pd.crosstab(df_ins['sex'], df_ins['smoker'], margins=True)\n",
    "tab1m"
   ]
  },
  {
   "cell_type": "code",
   "execution_count": null,
   "id": "a133499f",
   "metadata": {},
   "outputs": [],
   "source": [
    "sns.heatmap(tab1m, cmap='YlGnBu', annot=True, fmt='d')\n",
    "plt.show()"
   ]
  },
  {
   "cell_type": "markdown",
   "id": "6111b112",
   "metadata": {},
   "source": [
    "<br>\n",
    "\n",
    "### 5.2. 행백분율과 열백분율의 계산과 열지도 그리기\n",
    "\n",
    "두 변수의 관계를 제대로 파악하기 위해서는 상대적인 숫자 계산이 필수적  \n",
    "`normalize=` 옵션을 활용해서 교차표에서 비율을 계산할 수 있음 \n",
    "\n",
    "* `normalize='all'`: 전체 중 각 셀 비중\n",
    "* `normalize='index'`: 행 백분율(행 합계 중 각 셀의 비중)\n",
    "* `normalize='columns'`: 열 백분율(열 합계 중 각 셀의 비중)\n"
   ]
  },
  {
   "cell_type": "code",
   "execution_count": null,
   "id": "4dcd7add",
   "metadata": {},
   "outputs": [],
   "source": [
    "# 전체 백분율\n",
    "    # normalize : '정규화'\n",
    "tab1_all = pd.crosstab(df_ins['sex'], df_ins['smoker'], normalize='all')\n",
    "sns.heatmap(tab1_all, cmap='YlGnBu', annot=True, fmt='.2f')"
   ]
  },
  {
   "cell_type": "code",
   "execution_count": null,
   "id": "c0bc6bf8",
   "metadata": {},
   "outputs": [],
   "source": [
    "# 행백분율\n",
    "    # normalize='index'\n",
    "tab1_idx = pd.crosstab(df_ins['sex'], df_ins['smoker'], normalize='index')\n",
    "tab1_idx\n",
    "sns.heatmap(tab1_idx, cmap='YlGnBu', annot=True, fmt='.2f')"
   ]
  },
  {
   "cell_type": "code",
   "execution_count": null,
   "id": "8cb0dcb6",
   "metadata": {
    "scrolled": false
   },
   "outputs": [],
   "source": [
    "# 열백분율\n",
    "    # normalize='index'\n",
    "tab1_col = pd.crosstab(df_ins['sex'], df_ins['smoker'], normalize='columns')\n",
    "tab1_col\n",
    "sns.heatmap(tab1_col, cmap='YlGnBu', annot=True, fmt='.2f')"
   ]
  },
  {
   "cell_type": "code",
   "execution_count": null,
   "id": "d8b8cabd",
   "metadata": {
    "scrolled": false
   },
   "outputs": [],
   "source": [
    "# 전체 비율을 추가한 열백분율\n",
    "    # margins=True\n",
    "tab1_col = pd.crosstab(df_ins['sex'], df_ins['smoker'], normalize='columns', margins=True)\n",
    "tab1_col\n",
    "sns.heatmap(tab1_col, cmap='YlGnBu', annot=True, fmt='.2f')"
   ]
  },
  {
   "cell_type": "markdown",
   "id": "b7eb89a8",
   "metadata": {},
   "source": [
    "#### [실습] 두 범주형 변수의 관계 탐색\n",
    "\n",
    "1. df_sp에서 'race/ethnicity'와 'parental level of education'의 교차표 만들기\n",
    "2. 1.의 교차표에 margin 추가하기\n",
    "3. 1.의 교차표를 seaborn의 heatmap( )으로 열지도로 시각화하기\n",
    "4. 2.의 교차표에서 행 백분율, 열 백분율 계산하고 시각화 하기\n",
    "5. 'race/ethnicity'와 'parental level of education'의 관계 해석하기"
   ]
  },
  {
   "cell_type": "code",
   "execution_count": null,
   "id": "6db68130",
   "metadata": {},
   "outputs": [],
   "source": [
    "df_sp.head()"
   ]
  },
  {
   "cell_type": "code",
   "execution_count": null,
   "id": "caa14441",
   "metadata": {},
   "outputs": [],
   "source": [
    "tab = pd.crosstab(df_sp['race/ethnicity'], df_sp['parental level of education'])\n",
    "tab"
   ]
  },
  {
   "cell_type": "code",
   "execution_count": null,
   "id": "5d43005f",
   "metadata": {},
   "outputs": [],
   "source": [
    "pd.crosstab(df_sp['race/ethnicity'], df_sp['parental level of education'], margins=True)"
   ]
  },
  {
   "cell_type": "code",
   "execution_count": null,
   "id": "f7c985d5",
   "metadata": {},
   "outputs": [],
   "source": [
    "sns.heatmap(tab, cmap=\"YlGnBu\", annot=True)"
   ]
  },
  {
   "cell_type": "code",
   "execution_count": null,
   "id": "2ff4a837",
   "metadata": {},
   "outputs": [],
   "source": [
    "tab = pd.crosstab(df_sp['race/ethnicity'], df_sp['parental level of education'], normalize='index', margins=True)\n",
    "sns.heatmap(tab, cmap=\"YlGnBu\", annot=True)"
   ]
  },
  {
   "cell_type": "markdown",
   "id": "44a1e772",
   "metadata": {},
   "source": [
    "### 5.3. 피벗테이블 생성 \n",
    "\n",
    "pandas의 *pivot_table()*을 활용하면 Excel의 피벗테이블과 동일한 표 형태의 집계 가능"
   ]
  },
  {
   "cell_type": "code",
   "execution_count": null,
   "id": "2d96c50f",
   "metadata": {},
   "outputs": [],
   "source": [
    "# pivot_table()을 활용한 교차표 작성\n",
    "    ## index  : 행 그룹변수\n",
    "    ## columns: 열 그룹변수 \n",
    "    ## values : 값 변수\n",
    "    ## aggfunc: 집계 함수\n",
    "pd.pivot_table(df_ins, index='sex', columns='region', values='charges', aggfunc='size')\n"
   ]
  },
  {
   "cell_type": "code",
   "execution_count": null,
   "id": "9f5b2084",
   "metadata": {},
   "outputs": [],
   "source": [
    "# pivot_table()을 활용한 평균 피벗테이블\n",
    "pd.pivot_table(df_ins, index='sex', columns='region', values='charges', aggfunc='mean')"
   ]
  },
  {
   "cell_type": "code",
   "execution_count": null,
   "id": "be48bc12",
   "metadata": {},
   "outputs": [],
   "source": [
    "# DataFrmae의 method, pivot_table()을 활용한 평균 피벗테이블\n",
    "agg2_wide = df_ins.pivot_table(index='sex', columns='region', values='charges', aggfunc='mean')\n",
    "agg2_wide"
   ]
  },
  {
   "cell_type": "code",
   "execution_count": null,
   "id": "cef4fa79",
   "metadata": {},
   "outputs": [],
   "source": [
    "# 열지도 시각화\n",
    "sns.heatmap(agg2_wide, cmap='YlGnBu', annot=True, fmt='.2f')"
   ]
  },
  {
   "cell_type": "markdown",
   "id": "0a7da8ee",
   "metadata": {},
   "source": [
    "<br>\n",
    "\n",
    "#### [실습] df_sp 활용\n",
    "\n",
    "1. 'race/ethnicity', 'parental level of education'별 'math score'의 평균을 피벗테이블로 계산\n",
    "2. 1.의 결과를 열지도로 시각화"
   ]
  },
  {
   "cell_type": "code",
   "execution_count": null,
   "id": "9e6e98fb",
   "metadata": {},
   "outputs": [],
   "source": [
    "df_sp.head()"
   ]
  },
  {
   "cell_type": "code",
   "execution_count": null,
   "id": "1da3002d",
   "metadata": {},
   "outputs": [],
   "source": [
    "agg2_wide = df_sp.pivot_table(index='race/ethnicity', columns='parental level of education',\n",
    "                              values='math score', aggfunc='mean')\n",
    "agg2_wide"
   ]
  },
  {
   "cell_type": "code",
   "execution_count": null,
   "id": "41c282dd",
   "metadata": {},
   "outputs": [],
   "source": [
    "sns.heatmap(agg2_wide, cmap='YlGnBu', annot=True)"
   ]
  },
  {
   "cell_type": "markdown",
   "id": "ad2e1d1a",
   "metadata": {},
   "source": [
    "### 5.4. 형태 변환\n",
    "\n",
    "상황에 따라 *groupby()*를 써서 아래로 길게 늘어뜨린 요약 결과를 만들 수도 있고, *crosstab()*나 *pivot_table()*처럼 옆으로 펼친 결과를 만들기도 함  \n",
    "\n",
    "두 데이터 형태는 각각 *pivot( )*과 *melt( )*로 전환 가능\n",
    "\n"
   ]
  },
  {
   "cell_type": "code",
   "execution_count": null,
   "id": "1032a9a1",
   "metadata": {},
   "outputs": [],
   "source": [
    "# groupby()로 아래로 늘어뜨린 요약 결과 생성\n",
    "agg2_long = df_ins.groupby(['sex','region'], as_index=False)['charges'].mean()\n",
    "agg2_long"
   ]
  },
  {
   "cell_type": "code",
   "execution_count": null,
   "id": "bbafeedc",
   "metadata": {},
   "outputs": [],
   "source": [
    "# DataFrmae의 method, pivot_table()을 활용한 평균 피벗테이블\n",
    "agg2_wide = df_ins.pivot_table(index='sex', columns='region', values='charges', aggfunc='mean')\n",
    "agg2_wide"
   ]
  },
  {
   "cell_type": "code",
   "execution_count": null,
   "id": "efe124fe",
   "metadata": {},
   "outputs": [],
   "source": [
    "# 형태에 따른 그래프 작성 차이\n",
    "import matplotlib.pyplot as plt\n",
    "import seaborn as sns\n",
    "\n",
    "# long -> 막대그래프\n",
    "sns.barplot(data=agg2_long,\n",
    "            x  ='region',\n",
    "            y  ='charges',\n",
    "            hue='sex')\n",
    "plt.show()\n",
    "\n",
    "\n",
    "# wide -> 열지도\n",
    "sns.heatmap(agg2_wide, cmap='YlGnBu')\n",
    "plt.show()\n"
   ]
  },
  {
   "cell_type": "code",
   "execution_count": null,
   "id": "f74802b6",
   "metadata": {},
   "outputs": [],
   "source": [
    "# pivot()을 활용한 long -> wide 변환\n",
    "pd.pivot(agg2_long, index='sex', columns='region', values='charges')\n",
    "agg2_long.pivot(index='sex', columns='region', values='charges')"
   ]
  },
  {
   "cell_type": "code",
   "execution_count": null,
   "id": "5d8ee5c9",
   "metadata": {},
   "outputs": [],
   "source": [
    "# melt()를 활용한 wide-> long 변환\n",
    "    # 먼저 index를 변수로 변환\n",
    "agg2_wide.reset_index()"
   ]
  },
  {
   "cell_type": "code",
   "execution_count": null,
   "id": "0849c991",
   "metadata": {},
   "outputs": [],
   "source": [
    "pd.melt(agg2_wide.reset_index(), id_vars='sex')"
   ]
  },
  {
   "cell_type": "code",
   "execution_count": null,
   "id": "5df4d82a",
   "metadata": {},
   "outputs": [],
   "source": [
    "pd.melt(agg2_wide.reset_index(), id_vars='sex', value_name='charges')"
   ]
  },
  {
   "cell_type": "markdown",
   "id": "c2d66563",
   "metadata": {},
   "source": [
    "<br>\n",
    "\n",
    "#### [실습] 데이터 df_sp 활용\n",
    "\n",
    "1. groupby()를 활용해서 'race/ethnicity', 'parental level of education'별 'writing score'의 중앙값 계산하고 저장하기\n",
    "\n",
    "2. pivot_table()를 활용해서 'race/ethnicity', 'parental level of education'별 'writing score'의 중앙값 계산하고 저장하기\n",
    "\n",
    "3. 1.의 결과를 pivot()을 활용해서 2.와 동일하게 변환하기\n",
    "\n",
    "4. 2.의 결과를 melt()를 활용해서 1.과 동일하게 만들기\n",
    "\n",
    "5. 3.의 결과를 seaborn의 heatmap()으로 시각화하기\n",
    "\n",
    "\n"
   ]
  },
  {
   "cell_type": "code",
   "execution_count": null,
   "id": "ab077e5e",
   "metadata": {},
   "outputs": [],
   "source": [
    "df_sp.head()"
   ]
  },
  {
   "cell_type": "code",
   "execution_count": null,
   "id": "a401f67c",
   "metadata": {},
   "outputs": [],
   "source": [
    "agg_long = df_sp.groupby(['race/ethnicity', 'parental level of education'], as_index=False)['writing score'].median()\n",
    "agg_long"
   ]
  },
  {
   "cell_type": "code",
   "execution_count": null,
   "id": "539aae9b",
   "metadata": {},
   "outputs": [],
   "source": [
    "agg_wide = df_sp.pivot_table(index='race/ethnicity', columns='parental level of education', values='writing score', aggfunc='median')\n",
    "agg_wide"
   ]
  },
  {
   "cell_type": "code",
   "execution_count": null,
   "id": "b5e2cac8",
   "metadata": {},
   "outputs": [],
   "source": [
    "agg_long.pivot(index='race/ethnicity', columns='parental level of education', values='writing score')"
   ]
  },
  {
   "cell_type": "code",
   "execution_count": null,
   "id": "d79a3fea",
   "metadata": {},
   "outputs": [],
   "source": [
    "pd.melt(agg_wide.reset_index(), id_vars='race/ethnicity', value_name='writing score')"
   ]
  },
  {
   "cell_type": "code",
   "execution_count": null,
   "id": "d4d0e8e9",
   "metadata": {},
   "outputs": [],
   "source": [
    "sns.heatmap(agg_wide, cmap='YlGnBu', annot=True)"
   ]
  },
  {
   "cell_type": "code",
   "execution_count": null,
   "id": "e7e8a262",
   "metadata": {},
   "outputs": [],
   "source": [
    "sns.boxplot(data=df_sp, y=\"writing score\", x='race/ethnicity', hue='parental level of education')"
   ]
  },
  {
   "cell_type": "markdown",
   "id": "38b116f1",
   "metadata": {},
   "source": [
    "<br>\n",
    "\n",
    "\n",
    "## 6. 데이터 집계와 데이터 처리 \n",
    "\n",
    "데이터 집계를 통해 얻은 정보를 다양한 방법으로 데이터 처리에 활용 가능  \n",
    "가장 대표적인 방법은 데이터 집계를 통해 관심 대상을 확인하고 선택하는 방법"
   ]
  },
  {
   "cell_type": "code",
   "execution_count": null,
   "id": "db7a9500",
   "metadata": {},
   "outputs": [],
   "source": [
    "# 집계값의 계산\n",
    "agg2 = df_ins.groupby('region', as_index=False)['charges'].median()\n",
    "agg2"
   ]
  },
  {
   "cell_type": "code",
   "execution_count": null,
   "id": "b97a9132",
   "metadata": {},
   "outputs": [],
   "source": [
    "# 상위 2개 지역 선택\n",
    "target_region = agg2.nlargest(2, 'charges')['region']\n",
    "target_region"
   ]
  },
  {
   "cell_type": "code",
   "execution_count": null,
   "id": "0241d7d6",
   "metadata": {},
   "outputs": [],
   "source": [
    "# 전체 관측치에서 .isin()을 활용하여 해당 지역 관측치만 선택\n",
    "cond = df_ins['region'].isin(target_region)\n",
    "cond"
   ]
  },
  {
   "cell_type": "code",
   "execution_count": null,
   "id": "e1ee9836",
   "metadata": {},
   "outputs": [],
   "source": [
    "df_ins[cond]"
   ]
  },
  {
   "cell_type": "markdown",
   "id": "c2f518a0",
   "metadata": {},
   "source": [
    "<br>\n",
    "\n",
    "#### [실습] df_sp 활용\n",
    "\n",
    "1. 'parental level of education'별 'reading score'의 평균을 계산하고 **df_agg**로 저장하기\n",
    "2. 1.의 **df_agg**에서 평균 점수 기준 상위 3개 관측치를 선택하고 변수 'parental level of education' 선택해서 **target_grp**로 저장하기\n",
    "3. 2.의 **target_grp**와 *isin()*을 활용하여 전체 데이터 **df_sp**에서 해당 그룹 관측치(행)을 선택하고 **df_sub**로 저장하기\n",
    "4. 3.의 **df_sub**를 활용하여 'race/ethnicity'별 'writing score'의 평균 계산"
   ]
  },
  {
   "cell_type": "code",
   "execution_count": null,
   "id": "94bd130b",
   "metadata": {},
   "outputs": [],
   "source": [
    "df_agg = df_sp.groupby('parental level of education', as_index=False)['reading score'].mean()\n",
    "df_agg"
   ]
  },
  {
   "cell_type": "code",
   "execution_count": null,
   "id": "d7009a85",
   "metadata": {},
   "outputs": [],
   "source": [
    "target_grp = df_agg.nlargest(3, 'reading score')['parental level of education']\n",
    "target_grp"
   ]
  },
  {
   "cell_type": "code",
   "execution_count": null,
   "id": "de7c8bf2",
   "metadata": {},
   "outputs": [],
   "source": [
    "cond = df_sp['parental level of education'].isin(target_grp)\n",
    "df_sub = df_sp[cond]\n",
    "df_sub"
   ]
  },
  {
   "cell_type": "code",
   "execution_count": null,
   "id": "7b89013d",
   "metadata": {},
   "outputs": [],
   "source": [
    "df_sub.groupby('race/ethnicity', as_index=False)['writing score'].mean()"
   ]
  },
  {
   "cell_type": "markdown",
   "id": "6804ede0",
   "metadata": {},
   "source": [
    "<br>\n",
    "\n",
    "## 7. 결과 데이터와 그래프의 저장\n",
    "\n",
    "함수를 활용해서 분석 결과 데이터와 그래프를 저장 가능"
   ]
  },
  {
   "cell_type": "code",
   "execution_count": 164,
   "id": "41b27d2c",
   "metadata": {},
   "outputs": [],
   "source": [
    "# 폴더 생성\n",
    "%mkdir result"
   ]
  },
  {
   "cell_type": "code",
   "execution_count": 165,
   "id": "ad5da86b",
   "metadata": {},
   "outputs": [
    {
     "data": {
      "text/html": [
       "<div>\n",
       "<style scoped>\n",
       "    .dataframe tbody tr th:only-of-type {\n",
       "        vertical-align: middle;\n",
       "    }\n",
       "\n",
       "    .dataframe tbody tr th {\n",
       "        vertical-align: top;\n",
       "    }\n",
       "\n",
       "    .dataframe thead th {\n",
       "        text-align: right;\n",
       "    }\n",
       "</style>\n",
       "<table border=\"1\" class=\"dataframe\">\n",
       "  <thead>\n",
       "    <tr style=\"text-align: right;\">\n",
       "      <th></th>\n",
       "      <th>gender</th>\n",
       "      <th>race/ethnicity</th>\n",
       "      <th>parental level of education</th>\n",
       "      <th>lunch</th>\n",
       "      <th>test preparation course</th>\n",
       "      <th>math score</th>\n",
       "      <th>reading score</th>\n",
       "      <th>writing score</th>\n",
       "    </tr>\n",
       "  </thead>\n",
       "  <tbody>\n",
       "    <tr>\n",
       "      <th>0</th>\n",
       "      <td>female</td>\n",
       "      <td>group B</td>\n",
       "      <td>bachelor's degree</td>\n",
       "      <td>standard</td>\n",
       "      <td>none</td>\n",
       "      <td>72</td>\n",
       "      <td>72</td>\n",
       "      <td>74</td>\n",
       "    </tr>\n",
       "    <tr>\n",
       "      <th>2</th>\n",
       "      <td>female</td>\n",
       "      <td>group B</td>\n",
       "      <td>master's degree</td>\n",
       "      <td>standard</td>\n",
       "      <td>none</td>\n",
       "      <td>90</td>\n",
       "      <td>95</td>\n",
       "      <td>93</td>\n",
       "    </tr>\n",
       "    <tr>\n",
       "      <th>3</th>\n",
       "      <td>male</td>\n",
       "      <td>group A</td>\n",
       "      <td>associate's degree</td>\n",
       "      <td>free/reduced</td>\n",
       "      <td>none</td>\n",
       "      <td>47</td>\n",
       "      <td>57</td>\n",
       "      <td>44</td>\n",
       "    </tr>\n",
       "    <tr>\n",
       "      <th>5</th>\n",
       "      <td>female</td>\n",
       "      <td>group B</td>\n",
       "      <td>associate's degree</td>\n",
       "      <td>standard</td>\n",
       "      <td>none</td>\n",
       "      <td>71</td>\n",
       "      <td>83</td>\n",
       "      <td>78</td>\n",
       "    </tr>\n",
       "    <tr>\n",
       "      <th>10</th>\n",
       "      <td>male</td>\n",
       "      <td>group C</td>\n",
       "      <td>associate's degree</td>\n",
       "      <td>standard</td>\n",
       "      <td>none</td>\n",
       "      <td>58</td>\n",
       "      <td>54</td>\n",
       "      <td>52</td>\n",
       "    </tr>\n",
       "    <tr>\n",
       "      <th>...</th>\n",
       "      <td>...</td>\n",
       "      <td>...</td>\n",
       "      <td>...</td>\n",
       "      <td>...</td>\n",
       "      <td>...</td>\n",
       "      <td>...</td>\n",
       "      <td>...</td>\n",
       "      <td>...</td>\n",
       "    </tr>\n",
       "    <tr>\n",
       "      <th>979</th>\n",
       "      <td>female</td>\n",
       "      <td>group C</td>\n",
       "      <td>associate's degree</td>\n",
       "      <td>standard</td>\n",
       "      <td>none</td>\n",
       "      <td>91</td>\n",
       "      <td>95</td>\n",
       "      <td>94</td>\n",
       "    </tr>\n",
       "    <tr>\n",
       "      <th>986</th>\n",
       "      <td>female</td>\n",
       "      <td>group C</td>\n",
       "      <td>associate's degree</td>\n",
       "      <td>standard</td>\n",
       "      <td>none</td>\n",
       "      <td>40</td>\n",
       "      <td>59</td>\n",
       "      <td>51</td>\n",
       "    </tr>\n",
       "    <tr>\n",
       "      <th>992</th>\n",
       "      <td>female</td>\n",
       "      <td>group D</td>\n",
       "      <td>associate's degree</td>\n",
       "      <td>free/reduced</td>\n",
       "      <td>none</td>\n",
       "      <td>55</td>\n",
       "      <td>76</td>\n",
       "      <td>76</td>\n",
       "    </tr>\n",
       "    <tr>\n",
       "      <th>993</th>\n",
       "      <td>female</td>\n",
       "      <td>group D</td>\n",
       "      <td>bachelor's degree</td>\n",
       "      <td>free/reduced</td>\n",
       "      <td>none</td>\n",
       "      <td>62</td>\n",
       "      <td>72</td>\n",
       "      <td>74</td>\n",
       "    </tr>\n",
       "    <tr>\n",
       "      <th>995</th>\n",
       "      <td>female</td>\n",
       "      <td>group E</td>\n",
       "      <td>master's degree</td>\n",
       "      <td>standard</td>\n",
       "      <td>completed</td>\n",
       "      <td>88</td>\n",
       "      <td>99</td>\n",
       "      <td>95</td>\n",
       "    </tr>\n",
       "  </tbody>\n",
       "</table>\n",
       "<p>399 rows × 8 columns</p>\n",
       "</div>"
      ],
      "text/plain": [
       "     gender race/ethnicity parental level of education         lunch  \\\n",
       "0    female        group B           bachelor's degree      standard   \n",
       "2    female        group B             master's degree      standard   \n",
       "3      male        group A          associate's degree  free/reduced   \n",
       "5    female        group B          associate's degree      standard   \n",
       "10     male        group C          associate's degree      standard   \n",
       "..      ...            ...                         ...           ...   \n",
       "979  female        group C          associate's degree      standard   \n",
       "986  female        group C          associate's degree      standard   \n",
       "992  female        group D          associate's degree  free/reduced   \n",
       "993  female        group D           bachelor's degree  free/reduced   \n",
       "995  female        group E             master's degree      standard   \n",
       "\n",
       "    test preparation course  math score  reading score  writing score  \n",
       "0                      none          72             72             74  \n",
       "2                      none          90             95             93  \n",
       "3                      none          47             57             44  \n",
       "5                      none          71             83             78  \n",
       "10                     none          58             54             52  \n",
       "..                      ...         ...            ...            ...  \n",
       "979                    none          91             95             94  \n",
       "986                    none          40             59             51  \n",
       "992                    none          55             76             76  \n",
       "993                    none          62             72             74  \n",
       "995               completed          88             99             95  \n",
       "\n",
       "[399 rows x 8 columns]"
      ]
     },
     "execution_count": 165,
     "metadata": {},
     "output_type": "execute_result"
    }
   ],
   "source": [
    "# 대상 결과 데이터 확인\n",
    "df_sub"
   ]
  },
  {
   "cell_type": "code",
   "execution_count": 166,
   "id": "1dd35887",
   "metadata": {},
   "outputs": [],
   "source": [
    "# to_csv()로 결과 데이터를 csv 형식으로 저장하기\n",
    "df_sub.to_csv('result/result.csv', index=True)"
   ]
  },
  {
   "cell_type": "code",
   "execution_count": 167,
   "id": "e8630696",
   "metadata": {},
   "outputs": [
    {
     "data": {
      "text/plain": [
       "<Axes: xlabel='smoker', ylabel='region'>"
      ]
     },
     "execution_count": 167,
     "metadata": {},
     "output_type": "execute_result"
    },
    {
     "data": {
      "image/png": "[encoded data removed]",
      "text/plain": [
       "<Figure size 640x480 with 2 Axes>"
      ]
     },
     "metadata": {},
     "output_type": "display_data"
    }
   ],
   "source": [
    "# 대상 그래프 확인\n",
    "pt1 = df_ins.pivot_table(index='region', columns='smoker', values='charges', aggfunc='mean')\n",
    "plot1 = sns.heatmap(pt1, cmap='Blues', annot=True, fmt='.2f')\n",
    "plot1"
   ]
  },
  {
   "cell_type": "code",
   "execution_count": 168,
   "id": "82bf786e",
   "metadata": {},
   "outputs": [],
   "source": [
    "# savefig()을 활용한 그래프 저장\n",
    "plot1.figure.savefig('result/plot1.jpg')"
   ]
  },
  {
   "cell_type": "markdown",
   "id": "d795f598",
   "metadata": {},
   "source": [
    "<br>\n",
    "<hr>\n",
    "<br>\n",
    "\n",
    "## 8. 반응형 그래프의 활용\n",
    "\n",
    "**plotly**를 활용해서 반응형 그래프를 그려서 탐색적 데이터 분석(EDA) 과정에서 유용하게 활용 가능\n",
    "\n",
    "* 참고: [Plotly](https://plotly.com/python/)"
   ]
  },
  {
   "cell_type": "code",
   "execution_count": 169,
   "id": "a6e6b690",
   "metadata": {},
   "outputs": [
    {
     "data": {
      "text/plain": [
       "<Axes: xlabel='bmi', ylabel='charges'>"
      ]
     },
     "execution_count": 169,
     "metadata": {},
     "output_type": "execute_result"
    },
    {
     "data": {
      "image/png": "[encoded data removed]",
      "text/plain": [
       "<Figure size 640x480 with 1 Axes>"
      ]
     },
     "metadata": {},
     "output_type": "display_data"
    }
   ],
   "source": [
    "# seaborn을 활용한 산점도 \n",
    "sns.scatterplot(data=df_ins, \n",
    "                x='bmi',\n",
    "                y='charges', \n",
    "                hue='smoker')"
   ]
  },
  {
   "cell_type": "code",
   "execution_count": 172,
   "id": "348c21e3",
   "metadata": {},
   "outputs": [
    {
     "data": {
      "application/vnd.plotly.v1+json": {
       "config": {
        "plotlyServerURL": "https://plot.ly"
       },
       "data": [
        {
         "customdata": [
          [
           0,
           19
          ],
          [
           0,
           62
          ],
          [
           0,
           27
          ],
          [
           0,
           30
          ],
          [
           1,
           34
          ],
          [
           2,
           31
          ],
          [
           0,
           22
          ],
          [
           1,
           28
          ],
          [
           1,
           35
          ],
          [
           0,
           60
          ],
          [
           1,
           36
          ],
          [
           1,
           48
          ],
          [
           0,
           36
          ],
          [
           2,
           58
          ],
          [
           2,
           18
          ],
          [
           1,
           53
          ],
          [
           0,
           20
          ],
          [
           3,
           28
          ],
          [
           0,
           27
          ],
          [
           1,
           22
          ],
          [
           2,
           37
          ],
          [
           2,
           45
          ],
          [
           0,
           57
          ],
          [
           3,
           59
          ],
          [
           2,
           64
          ],
          [
           0,
           56
          ],
          [
           0,
           38
          ],
          [
           3,
           61
          ],
          [
           1,
           20
          ],
          [
           0,
           63
          ],
          [
           1,
           29
          ],
          [
           1,
           44
          ],
          [
           0,
           19
          ],
          [
           2,
           32
          ],
          [
           2,
           34
          ],
          [
           3,
           30
          ],
          [
           3,
           46
          ],
          [
           0,
           42
          ],
          [
           0,
           48
          ],
          [
           0,
           18
          ],
          [
           0,
           30
          ],
          [
           0,
           42
          ],
          [
           0,
           18
          ],
          [
           0,
           63
          ],
          [
           3,
           36
          ],
          [
           0,
           27
          ],
          [
           2,
           35
          ],
          [
           0,
           19
          ],
          [
           0,
           42
          ],
          [
           2,
           40
          ],
          [
           0,
           19
          ],
          [
           2,
           23
          ],
          [
           0,
           63
          ],
          [
           2,
           18
          ],
          [
           2,
           63
          ],
          [
           2,
           54
          ],
          [
           0,
           50
          ],
          [
           0,
           56
          ],
          [
           0,
           19
          ],
          [
           1,
           20
          ],
          [
           3,
           52
          ],
          [
           0,
           19
          ],
          [
           3,
           46
          ],
          [
           1,
           40
          ],
          [
           2,
           50
          ],
          [
           1,
           40
          ],
          [
           3,
           54
          ],
          [
           1,
           59
          ],
          [
           2,
           25
          ],
          [
           0,
           19
          ],
          [
           1,
           47
          ],
          [
           3,
           31
          ],
          [
           3,
           53
          ],
          [
           3,
           43
          ],
          [
           0,
           27
          ],
          [
           0,
           34
          ],
          [
           2,
           45
          ],
          [
           1,
           64
          ],
          [
           1,
           61
          ],
          [
           0,
           52
          ],
          [
           1,
           50
          ],
          [
           0,
           19
          ],
          [
           2,
           26
          ],
          [
           0,
           23
          ],
          [
           3,
           39
          ],
          [
           0,
           24
          ],
          [
           2,
           27
          ],
          [
           0,
           55
          ],
          [
           1,
           44
          ],
          [
           2,
           26
          ],
          [
           2,
           36
          ],
          [
           0,
           63
          ],
          [
           0,
           64
          ],
          [
           0,
           61
          ],
          [
           1,
           40
          ],
          [
           0,
           33
          ],
          [
           1,
           56
          ],
          [
           0,
           42
          ],
          [
           1,
           30
          ],
          [
           3,
           54
          ],
          [
           1,
           61
          ],
          [
           0,
           24
          ],
          [
           0,
           44
          ],
          [
           4,
           21
          ],
          [
           0,
           29
          ],
          [
           1,
           51
          ],
          [
           0,
           19
          ],
          [
           1,
           39
          ],
          [
           1,
           42
          ],
          [
           1,
           57
          ],
          [
           0,
           54
          ],
          [
           2,
           49
          ],
          [
           0,
           43
          ],
          [
           3,
           35
          ],
          [
           2,
           48
          ],
          [
           1,
           31
          ],
          [
           1,
           34
          ],
          [
           1,
           21
          ],
          [
           0,
           19
          ],
          [
           0,
           59
          ],
          [
           2,
           30
          ],
          [
           1,
           47
          ],
          [
           2,
           49
          ],
          [
           0,
           19
          ],
          [
           4,
           37
          ],
          [
           0,
           18
          ],
          [
           0,
           44
          ],
          [
           0,
           39
          ],
          [
           3,
           42
          ],
          [
           2,
           52
          ],
          [
           0,
           64
          ],
          [
           2,
           43
          ],
          [
           2,
           40
          ],
          [
           0,
           62
          ],
          [
           2,
           44
          ],
          [
           3,
           60
          ],
          [
           2,
           39
          ],
          [
           1,
           27
          ],
          [
           1,
           41
          ],
          [
           0,
           51
          ],
          [
           3,
           30
          ],
          [
           1,
           29
          ],
          [
           3,
           35
          ],
          [
           0,
           37
          ],
          [
           3,
           23
          ],
          [
           2,
           29
          ],
          [
           0,
           27
          ],
          [
           0,
           53
          ],
          [
           0,
           37
          ],
          [
           0,
           47
          ],
          [
           0,
           18
          ],
          [
           1,
           33
          ],
          [
           0,
           19
          ],
          [
           3,
           30
          ],
          [
           1,
           50
          ],
          [
           0,
           53
          ],
          [
           0,
           27
          ],
          [
           0,
           33
          ],
          [
           0,
           18
          ],
          [
           1,
           47
          ],
          [
           0,
           33
          ],
          [
           2,
           56
          ],
          [
           1,
           36
          ],
          [
           3,
           41
          ],
          [
           2,
           23
          ],
          [
           0,
           57
          ],
          [
           0,
           60
          ],
          [
           0,
           37
          ],
          [
           0,
           46
          ],
          [
           3,
           49
          ],
          [
           0,
           48
          ],
          [
           0,
           25
          ],
          [
           2,
           37
          ],
          [
           3,
           51
          ],
          [
           1,
           32
          ],
          [
           0,
           57
          ],
          [
           0,
           64
          ],
          [
           2,
           47
          ],
          [
           2,
           43
          ],
          [
           0,
           60
          ],
          [
           0,
           32
          ],
          [
           0,
           18
          ],
          [
           0,
           43
          ],
          [
           0,
           45
          ],
          [
           1,
           37
          ],
          [
           3,
           25
          ],
          [
           2,
           51
          ],
          [
           2,
           44
          ],
          [
           1,
           34
          ],
          [
           1,
           54
          ],
          [
           1,
           43
          ],
          [
           2,
           51
          ],
          [
           0,
           29
          ],
          [
           3,
           31
          ],
          [
           0,
           24
          ],
          [
           3,
           27
          ],
          [
           2,
           30
          ],
          [
           0,
           24
          ],
          [
           3,
           47
          ],
          [
           2,
           43
          ],
          [
           3,
           22
          ],
          [
           1,
           47
          ],
          [
           1,
           19
          ],
          [
           1,
           46
          ],
          [
           0,
           55
          ],
          [
           0,
           18
          ],
          [
           2,
           22
          ],
          [
           1,
           45
          ],
          [
           0,
           35
          ],
          [
           0,
           20
          ],
          [
           2,
           43
          ],
          [
           1,
           22
          ],
          [
           0,
           49
          ],
          [
           3,
           47
          ],
          [
           1,
           59
          ],
          [
           1,
           37
          ],
          [
           0,
           28
          ],
          [
           5,
           39
          ],
          [
           0,
           47
          ],
          [
           0,
           22
          ],
          [
           2,
           51
          ],
          [
           2,
           33
          ],
          [
           3,
           38
          ],
          [
           3,
           48
          ],
          [
           2,
           25
          ],
          [
           1,
           33
          ],
          [
           0,
           23
          ],
          [
           3,
           53
          ],
          [
           1,
           23
          ],
          [
           0,
           19
          ],
          [
           0,
           60
          ],
          [
           3,
           43
          ],
          [
           0,
           19
          ],
          [
           1,
           18
          ],
          [
           2,
           43
          ],
          [
           1,
           52
          ],
          [
           0,
           31
          ],
          [
           1,
           23
          ],
          [
           3,
           20
          ],
          [
           1,
           43
          ],
          [
           0,
           19
          ],
          [
           3,
           18
          ],
          [
           2,
           36
          ],
          [
           1,
           37
          ],
          [
           1,
           46
          ],
          [
           0,
           20
          ],
          [
           3,
           52
          ],
          [
           0,
           20
          ],
          [
           2,
           52
          ],
          [
           2,
           64
          ],
          [
           1,
           32
          ],
          [
           0,
           24
          ],
          [
           0,
           20
          ],
          [
           0,
           64
          ],
          [
           0,
           24
          ],
          [
           0,
           26
          ],
          [
           1,
           39
          ],
          [
           2,
           47
          ],
          [
           0,
           18
          ],
          [
           1,
           61
          ],
          [
           2,
           20
          ],
          [
           0,
           19
          ],
          [
           0,
           45
          ],
          [
           3,
           62
          ],
          [
           0,
           43
          ],
          [
           2,
           42
          ],
          [
           0,
           29
          ],
          [
           4,
           32
          ],
          [
           0,
           25
          ],
          [
           2,
           19
          ],
          [
           3,
           30
          ],
          [
           0,
           62
          ],
          [
           2,
           42
          ],
          [
           0,
           61
          ]
         ],
         "hovertemplate": "smoker=yes<br>bmi=%{x}<br>charges=%{y}<br>children=%{customdata[0]}<br>age=%{customdata[1]}<extra></extra>",
         "legendgroup": "yes",
         "marker": {
          "color": "#636efa",
          "symbol": "circle"
         },
         "mode": "markers",
         "name": "yes",
         "showlegend": true,
         "type": "scattergl",
         "x": [
          27.9,
          26.29,
          42.13,
          35.3,
          31.92,
          36.3,
          35.6,
          36.4,
          36.67,
          39.9,
          35.2,
          28,
          34.43,
          36.955,
          31.68,
          22.88,
          22.42,
          23.98,
          24.75,
          37.62,
          34.8,
          22.895,
          31.16,
          29.83,
          31.3,
          19.95,
          19.3,
          29.92,
          28.025,
          35.09,
          27.94,
          31.35,
          28.3,
          17.765,
          25.3,
          28.69,
          30.495,
          23.37,
          24.42,
          25.175,
          35.53,
          26.6,
          36.85,
          37.7,
          41.895,
          36.08,
          27.74,
          34.8,
          24.64,
          22.22,
          29.07,
          36.67,
          27.74,
          17.29,
          32.2,
          34.21,
          31.825,
          33.63,
          31.92,
          26.84,
          24.32,
          36.955,
          42.35,
          19.8,
          34.2,
          28.12,
          40.565,
          36.765,
          45.54,
          27.7,
          25.41,
          34.39,
          22.61,
          35.97,
          31.4,
          30.8,
          36.48,
          33.8,
          36.385,
          27.36,
          32.3,
          21.7,
          32.9,
          28.31,
          24.89,
          40.15,
          17.955,
          30.685,
          20.235,
          17.195,
          22.6,
          26.98,
          33.88,
          35.86,
          32.775,
          33.5,
          26.695,
          30,
          28.38,
          25.1,
          28.31,
          28.5,
          38.06,
          25.7,
          34.4,
          23.21,
          30.25,
          28.3,
          26.07,
          42.13,
          47.41,
          25.84,
          46.2,
          34.105,
          40.565,
          38.095,
          30.21,
          21.85,
          28.31,
          23.655,
          37.8,
          36.63,
          25.6,
          33.11,
          34.1,
          33.535,
          38.95,
          26.41,
          28.31,
          25.3,
          22.99,
          38.06,
          32.775,
          32.015,
          43.89,
          31.35,
          35.3,
          31.13,
          35.75,
          38.06,
          39.05,
          21.755,
          24.42,
          38.39,
          31.73,
          35.5,
          29.15,
          34.105,
          26.4,
          27.83,
          38.17,
          27.1,
          28.88,
          24.4,
          27.6,
          20.9,
          28.5,
          24.795,
          42.24,
          26.125,
          35.53,
          31.79,
          28.025,
          30.78,
          32.78,
          29.81,
          32.45,
          30.78,
          35.53,
          23.845,
          33.11,
          24.13,
          47.6,
          37.05,
          28.93,
          28.975,
          26.885,
          38.94,
          20.045,
          40.92,
          24.6,
          31.73,
          26.885,
          22.895,
          34.2,
          29.7,
          42.9,
          30.2,
          27.835,
          30.8,
          34.96,
          24.795,
          22.895,
          25.9,
          20.52,
          20.045,
          22.99,
          32.7,
          28.215,
          20.13,
          31.02,
          36.08,
          26.03,
          23.655,
          35.2,
          21.565,
          37.07,
          30.495,
          28.025,
          30.685,
          24.7,
          52.58,
          30.9,
          29.8,
          41.14,
          37.07,
          31.68,
          18.3,
          36.19,
          30.4,
          34.96,
          19.095,
          38.39,
          25.85,
          33.33,
          35.75,
          31.4,
          36.86,
          42.75,
          32.49,
          32.8,
          32.56,
          44.88,
          27.36,
          26.7,
          24.13,
          29.81,
          28.49,
          35.625,
          25.27,
          30.02,
          27.28,
          33.4,
          25.555,
          34.6,
          24.42,
          34.485,
          21.8,
          41.8,
          36.96,
          33.63,
          29.83,
          27.3,
          23.76,
          31.065,
          27.06,
          29.925,
          27.645,
          21.66,
          36.3,
          39.4,
          34.9,
          30.36,
          30.875,
          27.8,
          24.605,
          21.85,
          28.12,
          30.2,
          34.7,
          23.655,
          26.695,
          40.37,
          29.07
         ],
         "xaxis": "x",
         "y": [
          16884.924,
          27808.7251,
          39611.7577,
          36837.467,
          37701.8768,
          38711,
          35585.576,
          51194.55914,
          39774.2763,
          48173.361,
          38709.176,
          23568.272,
          37742.5757,
          47496.49445,
          34303.1672,
          23244.7902,
          14711.7438,
          17663.1442,
          16577.7795,
          37165.1638,
          39836.519,
          21098.55405,
          43578.9394,
          30184.9367,
          47291.055,
          22412.6485,
          15820.699,
          30942.1918,
          17560.37975,
          47055.5321,
          19107.7796,
          39556.4945,
          17081.08,
          32734.1863,
          18972.495,
          20745.9891,
          40720.55105,
          19964.7463,
          21223.6758,
          15518.18025,
          36950.2567,
          21348.706,
          36149.4835,
          48824.45,
          43753.33705,
          37133.8982,
          20984.0936,
          34779.615,
          19515.5416,
          19444.2658,
          17352.6803,
          38511.6283,
          29523.1656,
          12829.4551,
          47305.305,
          44260.7499,
          41097.16175,
          43921.1837,
          33750.2918,
          17085.2676,
          24869.8368,
          36219.40545,
          46151.1245,
          17179.522,
          42856.838,
          22331.5668,
          48549.17835,
          47896.79135,
          42112.2356,
          16297.846,
          21978.6769,
          38746.3551,
          24873.3849,
          42124.5153,
          34838.873,
          35491.64,
          42760.5022,
          47928.03,
          48517.56315,
          24393.6224,
          41919.097,
          13844.506,
          36085.219,
          18033.9679,
          21659.9301,
          38126.2465,
          15006.57945,
          42303.69215,
          19594.80965,
          14455.64405,
          18608.262,
          28950.4692,
          46889.2612,
          46599.1084,
          39125.33225,
          37079.372,
          26109.32905,
          22144.032,
          19521.9682,
          25382.297,
          28868.6639,
          35147.52848,
          48885.13561,
          17942.106,
          36197.699,
          22218.1149,
          32548.3405,
          21082.16,
          38245.59327,
          48675.5177,
          63770.42801,
          23807.2406,
          45863.205,
          39983.42595,
          45702.02235,
          58571.07448,
          43943.8761,
          15359.1045,
          17468.9839,
          25678.77845,
          39241.442,
          42969.8527,
          23306.547,
          34439.8559,
          40182.246,
          34617.84065,
          42983.4585,
          20149.3229,
          32787.45859,
          24667.419,
          27037.9141,
          42560.4304,
          40003.33225,
          45710.20785,
          46200.9851,
          46130.5265,
          40103.89,
          34806.4677,
          40273.6455,
          44400.4064,
          40932.4295,
          16657.71745,
          19361.9988,
          40419.0191,
          36189.1017,
          44585.45587,
          18246.4955,
          43254.41795,
          19539.243,
          23065.4207,
          36307.7983,
          19040.876,
          17748.5062,
          18259.216,
          24520.264,
          21195.818,
          18310.742,
          17904.52705,
          38792.6856,
          23401.30575,
          55135.40209,
          43813.8661,
          20773.62775,
          39597.4072,
          36021.0112,
          27533.9129,
          45008.9555,
          37270.1512,
          42111.6647,
          24106.91255,
          40974.1649,
          15817.9857,
          46113.511,
          46255.1125,
          19719.6947,
          27218.43725,
          29330.98315,
          44202.6536,
          19798.05455,
          48673.5588,
          17496.306,
          33732.6867,
          21774.32215,
          35069.37452,
          39047.285,
          19933.458,
          47462.894,
          38998.546,
          20009.63365,
          41999.52,
          41034.2214,
          23967.38305,
          16138.76205,
          19199.944,
          14571.8908,
          16420.49455,
          17361.7661,
          34472.841,
          24915.22085,
          18767.7377,
          35595.5898,
          42211.1382,
          16450.8947,
          21677.28345,
          44423.803,
          13747.87235,
          37484.4493,
          39725.51805,
          20234.85475,
          33475.81715,
          21880.82,
          44501.3982,
          39727.614,
          25309.489,
          48970.2476,
          39871.7043,
          34672.1472,
          19023.26,
          41676.0811,
          33907.548,
          44641.1974,
          16776.30405,
          41949.2441,
          24180.9335,
          36124.5737,
          38282.7495,
          34166.273,
          46661.4424,
          40904.1995,
          36898.73308,
          52590.82939,
          40941.2854,
          39722.7462,
          17178.6824,
          22478.6,
          23887.6627,
          19350.3689,
          18328.2381,
          37465.34375,
          21771.3423,
          33307.5508,
          18223.4512,
          38415.474,
          20296.86345,
          41661.602,
          26125.67477,
          60021.39897,
          20167.33603,
          47269.854,
          49577.6624,
          37607.5277,
          18648.4217,
          16232.847,
          26926.5144,
          34254.05335,
          17043.3414,
          22462.04375,
          24535.69855,
          14283.4594,
          47403.88,
          38344.566,
          34828.654,
          62592.87309,
          46718.16325,
          37829.7242,
          21259.37795,
          16115.3045,
          21472.4788,
          33900.653,
          36397.576,
          18765.87545,
          28101.33305,
          43896.3763,
          29141.3603
         ],
         "yaxis": "y"
        },
        {
         "customdata": [
          [
           1,
           18
          ],
          [
           3,
           28
          ],
          [
           0,
           33
          ],
          [
           0,
           32
          ],
          [
           0,
           31
          ],
          [
           1,
           46
          ],
          [
           3,
           37
          ],
          [
           2,
           37
          ],
          [
           0,
           60
          ],
          [
           0,
           25
          ],
          [
           0,
           23
          ],
          [
           0,
           56
          ],
          [
           1,
           19
          ],
          [
           1,
           52
          ],
          [
           0,
           23
          ],
          [
           0,
           56
          ],
          [
           0,
           60
          ],
          [
           1,
           30
          ],
          [
           0,
           18
          ],
          [
           2,
           37
          ],
          [
           3,
           59
          ],
          [
           0,
           63
          ],
          [
           2,
           55
          ],
          [
           1,
           23
          ],
          [
           0,
           18
          ],
          [
           5,
           19
          ],
          [
           0,
           63
          ],
          [
           0,
           19
          ],
          [
           3,
           62
          ],
          [
           0,
           26
          ],
          [
           0,
           24
          ],
          [
           2,
           31
          ],
          [
           1,
           41
          ],
          [
           2,
           37
          ],
          [
           1,
           38
          ],
          [
           0,
           55
          ],
          [
           2,
           18
          ],
          [
           0,
           28
          ],
          [
           0,
           60
          ],
          [
           0,
           18
          ],
          [
           2,
           21
          ],
          [
           3,
           40
          ],
          [
           2,
           58
          ],
          [
           2,
           34
          ],
          [
           3,
           43
          ],
          [
           4,
           25
          ],
          [
           1,
           64
          ],
          [
           1,
           28
          ],
          [
           0,
           19
          ],
          [
           2,
           61
          ],
          [
           1,
           40
          ],
          [
           0,
           40
          ],
          [
           5,
           31
          ],
          [
           3,
           53
          ],
          [
           1,
           58
          ],
          [
           2,
           44
          ],
          [
           0,
           57
          ],
          [
           1,
           29
          ],
          [
           0,
           21
          ],
          [
           0,
           22
          ],
          [
           0,
           41
          ],
          [
           1,
           31
          ],
          [
           0,
           45
          ],
          [
           4,
           48
          ],
          [
           0,
           56
          ],
          [
           0,
           46
          ],
          [
           0,
           55
          ],
          [
           0,
           21
          ],
          [
           1,
           53
          ],
          [
           2,
           35
          ],
          [
           1,
           28
          ],
          [
           3,
           54
          ],
          [
           0,
           55
          ],
          [
           0,
           41
          ],
          [
           0,
           30
          ],
          [
           0,
           18
          ],
          [
           1,
           34
          ],
          [
           1,
           19
          ],
          [
           2,
           26
          ],
          [
           0,
           29
          ],
          [
           1,
           54
          ],
          [
           2,
           55
          ],
          [
           0,
           37
          ],
          [
           0,
           21
          ],
          [
           3,
           52
          ],
          [
           0,
           60
          ],
          [
           0,
           58
          ],
          [
           0,
           49
          ],
          [
           2,
           37
          ],
          [
           2,
           44
          ],
          [
           0,
           18
          ],
          [
           0,
           20
          ],
          [
           3,
           47
          ],
          [
           0,
           26
          ],
          [
           0,
           52
          ],
          [
           2,
           38
          ],
          [
           0,
           59
          ],
          [
           0,
           61
          ],
          [
           2,
           53
          ],
          [
           0,
           19
          ],
          [
           0,
           20
          ],
          [
           0,
           22
          ],
          [
           0,
           19
          ],
          [
           0,
           22
          ],
          [
           3,
           54
          ],
          [
           0,
           22
          ],
          [
           2,
           34
          ],
          [
           1,
           26
          ],
          [
           2,
           29
          ],
          [
           3,
           29
          ],
          [
           1,
           51
          ],
          [
           1,
           53
          ],
          [
           1,
           19
          ],
          [
           1,
           35
          ],
          [
           0,
           48
          ],
          [
           3,
           32
          ],
          [
           1,
           40
          ],
          [
           0,
           44
          ],
          [
           3,
           50
          ],
          [
           1,
           54
          ],
          [
           2,
           32
          ],
          [
           0,
           37
          ],
          [
           4,
           47
          ],
          [
           5,
           20
          ],
          [
           3,
           32
          ],
          [
           1,
           19
          ],
          [
           3,
           27
          ],
          [
           0,
           63
          ],
          [
           0,
           49
          ],
          [
           0,
           18
          ],
          [
           1,
           35
          ],
          [
           0,
           24
          ],
          [
           2,
           38
          ],
          [
           1,
           54
          ],
          [
           2,
           46
          ],
          [
           3,
           41
          ],
          [
           0,
           58
          ],
          [
           0,
           18
          ],
          [
           3,
           22
          ],
          [
           0,
           44
          ],
          [
           2,
           44
          ],
          [
           2,
           26
          ],
          [
           3,
           30
          ],
          [
           1,
           41
          ],
          [
           2,
           29
          ],
          [
           0,
           61
          ],
          [
           0,
           36
          ],
          [
           0,
           25
          ],
          [
           1,
           56
          ],
          [
           0,
           18
          ],
          [
           0,
           19
          ],
          [
           0,
           39
          ],
          [
           2,
           45
          ],
          [
           0,
           51
          ],
          [
           0,
           64
          ],
          [
           0,
           19
          ],
          [
           1,
           48
          ],
          [
           0,
           60
          ],
          [
           0,
           46
          ],
          [
           1,
           28
          ],
          [
           0,
           59
          ],
          [
           0,
           63
          ],
          [
           1,
           40
          ],
          [
           1,
           20
          ],
          [
           4,
           40
          ],
          [
           2,
           24
          ],
          [
           1,
           34
          ],
          [
           2,
           45
          ],
          [
           2,
           41
          ],
          [
           0,
           53
          ],
          [
           0,
           27
          ],
          [
           1,
           26
          ],
          [
           0,
           24
          ],
          [
           1,
           34
          ],
          [
           0,
           53
          ],
          [
           3,
           32
          ],
          [
           3,
           55
          ],
          [
           0,
           28
          ],
          [
           0,
           58
          ],
          [
           1,
           41
          ],
          [
           2,
           47
          ],
          [
           1,
           42
          ],
          [
           3,
           59
          ],
          [
           0,
           19
          ],
          [
           1,
           59
          ],
          [
           2,
           39
          ],
          [
           0,
           18
          ],
          [
           2,
           31
          ],
          [
           1,
           44
          ],
          [
           1,
           33
          ],
          [
           1,
           55
          ],
          [
           3,
           40
          ],
          [
           0,
           54
          ],
          [
           0,
           60
          ],
          [
           0,
           24
          ],
          [
           1,
           19
          ],
          [
           1,
           29
          ],
          [
           3,
           27
          ],
          [
           3,
           55
          ],
          [
           0,
           38
          ],
          [
           4,
           51
          ],
          [
           0,
           58
          ],
          [
           3,
           53
          ],
          [
           3,
           59
          ],
          [
           1,
           45
          ],
          [
           1,
           49
          ],
          [
           1,
           18
          ],
          [
           2,
           41
          ],
          [
           1,
           50
          ],
          [
           0,
           25
          ],
          [
           2,
           47
          ],
          [
           2,
           19
          ],
          [
           0,
           22
          ],
          [
           2,
           59
          ],
          [
           1,
           51
          ],
          [
           1,
           30
          ],
          [
           1,
           55
          ],
          [
           0,
           52
          ],
          [
           1,
           46
          ],
          [
           2,
           46
          ],
          [
           0,
           63
          ],
          [
           3,
           52
          ],
          [
           0,
           28
          ],
          [
           1,
           29
          ],
          [
           0,
           22
          ],
          [
           3,
           25
          ],
          [
           0,
           18
          ],
          [
           1,
           48
          ],
          [
           3,
           36
          ],
          [
           2,
           56
          ],
          [
           2,
           28
          ],
          [
           2,
           57
          ],
          [
           2,
           29
          ],
          [
           2,
           28
          ],
          [
           1,
           30
          ],
          [
           0,
           58
          ],
          [
           2,
           41
          ],
          [
           0,
           50
          ],
          [
           0,
           19
          ],
          [
           0,
           49
          ],
          [
           0,
           52
          ],
          [
           0,
           50
          ],
          [
           0,
           54
          ],
          [
           0,
           44
          ],
          [
           1,
           32
          ],
          [
           1,
           34
          ],
          [
           4,
           26
          ],
          [
           0,
           57
          ],
          [
           0,
           29
          ],
          [
           1,
           40
          ],
          [
           1,
           27
          ],
          [
           0,
           52
          ],
          [
           0,
           61
          ],
          [
           0,
           56
          ],
          [
           2,
           43
          ],
          [
           0,
           64
          ],
          [
           0,
           60
          ],
          [
           1,
           62
          ],
          [
           1,
           46
          ],
          [
           0,
           24
          ],
          [
           0,
           62
          ],
          [
           0,
           60
          ],
          [
           0,
           63
          ],
          [
           4,
           49
          ],
          [
           3,
           34
          ],
          [
           2,
           33
          ],
          [
           1,
           46
          ],
          [
           1,
           36
          ],
          [
           0,
           19
          ],
          [
           0,
           57
          ],
          [
           0,
           50
          ],
          [
           0,
           30
          ],
          [
           0,
           33
          ],
          [
           0,
           18
          ],
          [
           0,
           46
          ],
          [
           3,
           46
          ],
          [
           3,
           47
          ],
          [
           0,
           23
          ],
          [
           0,
           18
          ],
          [
           2,
           48
          ],
          [
           1,
           35
          ],
          [
           1,
           21
          ],
          [
           2,
           21
          ],
          [
           1,
           49
          ],
          [
           3,
           56
          ],
          [
           2,
           42
          ],
          [
           2,
           44
          ],
          [
           3,
           18
          ],
          [
           0,
           61
          ],
          [
           0,
           57
          ],
          [
           1,
           42
          ],
          [
           0,
           20
          ],
          [
           3,
           64
          ],
          [
           1,
           62
          ],
          [
           0,
           55
          ],
          [
           2,
           35
          ],
          [
           2,
           44
          ],
          [
           0,
           19
          ],
          [
           0,
           58
          ],
          [
           2,
           50
          ],
          [
           0,
           26
          ],
          [
           3,
           24
          ],
          [
           4,
           48
          ],
          [
           0,
           19
          ],
          [
           1,
           48
          ],
          [
           1,
           49
          ],
          [
           2,
           46
          ],
          [
           0,
           46
          ],
          [
           3,
           43
          ],
          [
           0,
           21
          ],
          [
           2,
           64
          ],
          [
           0,
           18
          ],
          [
           0,
           51
          ],
          [
           1,
           47
          ],
          [
           0,
           64
          ],
          [
           3,
           49
          ],
          [
           0,
           31
          ],
          [
           2,
           52
          ],
          [
           0,
           33
          ],
          [
           1,
           47
          ],
          [
           3,
           38
          ],
          [
           1,
           32
          ],
          [
           0,
           19
          ],
          [
           5,
           25
          ],
          [
           0,
           19
          ],
          [
           1,
           43
          ],
          [
           0,
           52
          ],
          [
           1,
           64
          ],
          [
           0,
           25
          ],
          [
           2,
           48
          ],
          [
           5,
           45
          ],
          [
           1,
           38
          ],
          [
           0,
           18
          ],
          [
           1,
           21
          ],
          [
           3,
           27
          ],
          [
           0,
           19
          ],
          [
           2,
           29
          ],
          [
           0,
           42
          ],
          [
           0,
           60
          ],
          [
           1,
           31
          ],
          [
           3,
           60
          ],
          [
           0,
           22
          ],
          [
           3,
           35
          ],
          [
           5,
           52
          ],
          [
           0,
           26
          ],
          [
           1,
           31
          ],
          [
           0,
           18
          ],
          [
           1,
           59
          ],
          [
           0,
           45
          ],
          [
           0,
           60
          ],
          [
           0,
           56
          ],
          [
           0,
           40
          ],
          [
           1,
           35
          ],
          [
           4,
           39
          ],
          [
           1,
           30
          ],
          [
           0,
           24
          ],
          [
           0,
           20
          ],
          [
           2,
           32
          ],
          [
           0,
           59
          ],
          [
           2,
           55
          ],
          [
           0,
           57
          ],
          [
           0,
           56
          ],
          [
           3,
           40
          ],
          [
           3,
           49
          ],
          [
           2,
           62
          ],
          [
           0,
           56
          ],
          [
           0,
           19
          ],
          [
           1,
           60
          ],
          [
           2,
           56
          ],
          [
           1,
           28
          ],
          [
           1,
           18
          ],
          [
           0,
           27
          ],
          [
           0,
           18
          ],
          [
           0,
           19
          ],
          [
           0,
           47
          ],
          [
           0,
           25
          ],
          [
           0,
           21
          ],
          [
           0,
           23
          ],
          [
           3,
           63
          ],
          [
           2,
           49
          ],
          [
           0,
           18
          ],
          [
           1,
           51
          ],
          [
           3,
           48
          ],
          [
           0,
           31
          ],
          [
           3,
           54
          ],
          [
           0,
           19
          ],
          [
           1,
           53
          ],
          [
           0,
           19
          ],
          [
           0,
           61
          ],
          [
           0,
           18
          ],
          [
           0,
           61
          ],
          [
           0,
           20
          ],
          [
           2,
           31
          ],
          [
           2,
           45
          ],
          [
           2,
           44
          ],
          [
           0,
           62
          ],
          [
           0,
           43
          ],
          [
           1,
           38
          ],
          [
           3,
           37
          ],
          [
           1,
           22
          ],
          [
           2,
           21
          ],
          [
           0,
           24
          ],
          [
           0,
           57
          ],
          [
           1,
           56
          ],
          [
           0,
           27
          ],
          [
           0,
           51
          ],
          [
           0,
           19
          ],
          [
           0,
           58
          ],
          [
           1,
           20
          ],
          [
           2,
           45
          ],
          [
           1,
           35
          ],
          [
           0,
           31
          ],
          [
           0,
           50
          ],
          [
           0,
           32
          ],
          [
           0,
           51
          ],
          [
           0,
           38
          ],
          [
           0,
           18
          ],
          [
           2,
           19
          ],
          [
           1,
           51
          ],
          [
           1,
           46
          ],
          [
           0,
           18
          ],
          [
           0,
           62
          ],
          [
           2,
           59
          ],
          [
           0,
           37
          ],
          [
           0,
           64
          ],
          [
           1,
           38
          ],
          [
           3,
           33
          ],
          [
           2,
           46
          ],
          [
           1,
           46
          ],
          [
           0,
           53
          ],
          [
           3,
           34
          ],
          [
           2,
           20
          ],
          [
           0,
           63
          ],
          [
           0,
           54
          ],
          [
           0,
           28
          ],
          [
           2,
           54
          ],
          [
           0,
           25
          ],
          [
           0,
           63
          ],
          [
           0,
           32
          ],
          [
           0,
           62
          ],
          [
           2,
           52
          ],
          [
           0,
           25
          ],
          [
           2,
           28
          ],
          [
           1,
           46
          ],
          [
           0,
           34
          ],
          [
           0,
           19
          ],
          [
           2,
           46
          ],
          [
           0,
           54
          ],
          [
           0,
           27
          ],
          [
           1,
           50
          ],
          [
           2,
           18
          ],
          [
           0,
           19
          ],
          [
           1,
           38
          ],
          [
           2,
           41
          ],
          [
           5,
           49
          ],
          [
           0,
           31
          ],
          [
           1,
           18
          ],
          [
           2,
           30
          ],
          [
           1,
           62
          ],
          [
           2,
           57
          ],
          [
           0,
           58
          ],
          [
           0,
           22
          ],
          [
           1,
           52
          ],
          [
           0,
           25
          ],
          [
           1,
           59
          ],
          [
           0,
           19
          ],
          [
           2,
           39
          ],
          [
           1,
           32
          ],
          [
           0,
           19
          ],
          [
           1,
           33
          ],
          [
           3,
           21
          ],
          [
           0,
           61
          ],
          [
           1,
           38
          ],
          [
           0,
           58
          ],
          [
           1,
           47
          ],
          [
           2,
           20
          ],
          [
           0,
           41
          ],
          [
           1,
           46
          ],
          [
           2,
           42
          ],
          [
           1,
           34
          ],
          [
           2,
           43
          ],
          [
           2,
           52
          ],
          [
           0,
           18
          ],
          [
           0,
           51
          ],
          [
           0,
           56
          ],
          [
           3,
           64
          ],
          [
           0,
           51
          ],
          [
           0,
           27
          ],
          [
           2,
           28
          ],
          [
           1,
           47
          ],
          [
           2,
           38
          ],
          [
           0,
           18
          ],
          [
           3,
           34
          ],
          [
           0,
           20
          ],
          [
           0,
           56
          ],
          [
           0,
           55
          ],
          [
           1,
           30
          ],
          [
           1,
           49
          ],
          [
           0,
           59
          ],
          [
           0,
           29
          ],
          [
           3,
           36
          ],
          [
           1,
           33
          ],
          [
           0,
           58
          ],
          [
           1,
           53
          ],
          [
           0,
           24
          ],
          [
           0,
           29
          ],
          [
           2,
           40
          ],
          [
           1,
           51
          ],
          [
           0,
           64
          ],
          [
           1,
           19
          ],
          [
           2,
           35
          ],
          [
           4,
           56
          ],
          [
           5,
           33
          ],
          [
           0,
           61
          ],
          [
           3,
           23
          ],
          [
           2,
           43
          ],
          [
           3,
           48
          ],
          [
           1,
           39
          ],
          [
           3,
           40
          ],
          [
           0,
           18
          ],
          [
           0,
           58
          ],
          [
           2,
           49
          ],
          [
           1,
           53
          ],
          [
           0,
           48
          ],
          [
           2,
           45
          ],
          [
           0,
           59
          ],
          [
           1,
           26
          ],
          [
           2,
           27
          ],
          [
           1,
           48
          ],
          [
           4,
           57
          ],
          [
           3,
           37
          ],
          [
           1,
           57
          ],
          [
           1,
           32
          ],
          [
           0,
           18
          ],
          [
           1,
           49
          ],
          [
           1,
           40
          ],
          [
           3,
           30
          ],
          [
           0,
           29
          ],
          [
           0,
           36
          ],
          [
           0,
           41
          ],
          [
           0,
           45
          ],
          [
           3,
           55
          ],
          [
           3,
           56
          ],
          [
           2,
           49
          ],
          [
           1,
           21
          ],
          [
           0,
           19
          ],
          [
           0,
           53
          ],
          [
           1,
           33
          ],
          [
           2,
           53
          ],
          [
           2,
           42
          ],
          [
           0,
           40
          ],
          [
           1,
           47
          ],
          [
           0,
           21
          ],
          [
           1,
           47
          ],
          [
           1,
           20
          ],
          [
           0,
           24
          ],
          [
           1,
           27
          ],
          [
           0,
           26
          ],
          [
           2,
           53
          ],
          [
           0,
           56
          ],
          [
           2,
           23
          ],
          [
           0,
           21
          ],
          [
           0,
           50
          ],
          [
           0,
           53
          ],
          [
           1,
           34
          ],
          [
           1,
           47
          ],
          [
           2,
           33
          ],
          [
           3,
           49
          ],
          [
           3,
           31
          ],
          [
           0,
           36
          ],
          [
           1,
           18
          ],
          [
           2,
           50
          ],
          [
           2,
           43
          ],
          [
           0,
           20
          ],
          [
           0,
           24
          ],
          [
           0,
           60
          ],
          [
           1,
           49
          ],
          [
           1,
           60
          ],
          [
           2,
           51
          ],
          [
           0,
           58
          ],
          [
           0,
           51
          ],
          [
           3,
           53
          ],
          [
           0,
           62
          ],
          [
           0,
           19
          ],
          [
           1,
           50
          ],
          [
           1,
           41
          ],
          [
           0,
           18
          ],
          [
           1,
           41
          ],
          [
           1,
           53
          ],
          [
           3,
           24
          ],
          [
           1,
           48
          ],
          [
           3,
           59
          ],
          [
           1,
           49
          ],
          [
           2,
           26
          ],
          [
           2,
           45
          ],
          [
           0,
           31
          ],
          [
           0,
           50
          ],
          [
           1,
           50
          ],
          [
           2,
           34
          ],
          [
           0,
           19
          ],
          [
           1,
           47
          ],
          [
           0,
           28
          ],
          [
           0,
           21
          ],
          [
           0,
           64
          ],
          [
           0,
           58
          ],
          [
           4,
           24
          ],
          [
           2,
           31
          ],
          [
           3,
           39
          ],
          [
           3,
           30
          ],
          [
           2,
           22
          ],
          [
           1,
           23
          ],
          [
           0,
           27
          ],
          [
           2,
           45
          ],
          [
           0,
           57
          ],
          [
           1,
           47
          ],
          [
           1,
           42
          ],
          [
           0,
           64
          ],
          [
           2,
           38
          ],
          [
           3,
           61
          ],
          [
           2,
           53
          ],
          [
           0,
           44
          ],
          [
           2,
           41
          ],
          [
           3,
           51
          ],
          [
           2,
           40
          ],
          [
           0,
           45
          ],
          [
           3,
           35
          ],
          [
           0,
           53
          ],
          [
           0,
           18
          ],
          [
           1,
           51
          ],
          [
           1,
           31
          ],
          [
           3,
           35
          ],
          [
           0,
           60
          ],
          [
           0,
           21
          ],
          [
           3,
           29
          ],
          [
           0,
           62
          ],
          [
           0,
           39
          ],
          [
           0,
           19
          ],
          [
           0,
           22
          ],
          [
           2,
           39
          ],
          [
           2,
           30
          ],
          [
           1,
           30
          ],
          [
           0,
           58
          ],
          [
           1,
           42
          ],
          [
           0,
           64
          ],
          [
           1,
           21
          ],
          [
           0,
           23
          ],
          [
           0,
           45
          ],
          [
           1,
           40
          ],
          [
           0,
           19
          ],
          [
           0,
           18
          ],
          [
           1,
           25
          ],
          [
           3,
           46
          ],
          [
           3,
           33
          ],
          [
           2,
           54
          ],
          [
           2,
           28
          ],
          [
           2,
           36
          ],
          [
           0,
           20
          ],
          [
           0,
           24
          ],
          [
           3,
           23
          ],
          [
           1,
           45
          ],
          [
           0,
           26
          ],
          [
           0,
           18
          ],
          [
           2,
           44
          ],
          [
           0,
           60
          ],
          [
           2,
           64
          ],
          [
           1,
           39
          ],
          [
           0,
           63
          ],
          [
           0,
           36
          ],
          [
           2,
           28
          ],
          [
           0,
           58
          ],
          [
           1,
           36
          ],
          [
           2,
           42
          ],
          [
           0,
           36
          ],
          [
           0,
           56
          ],
          [
           2,
           35
          ],
          [
           0,
           59
          ],
          [
           0,
           21
          ],
          [
           0,
           59
          ],
          [
           0,
           53
          ],
          [
           1,
           51
          ],
          [
           1,
           23
          ],
          [
           0,
           27
          ],
          [
           0,
           55
          ],
          [
           2,
           61
          ],
          [
           2,
           53
          ],
          [
           0,
           20
          ],
          [
           1,
           25
          ],
          [
           0,
           57
          ],
          [
           3,
           38
          ],
          [
           2,
           55
          ],
          [
           0,
           36
          ],
          [
           0,
           51
          ],
          [
           2,
           40
          ],
          [
           0,
           18
          ],
          [
           1,
           57
          ],
          [
           0,
           61
          ],
          [
           3,
           25
          ],
          [
           0,
           50
          ],
          [
           1,
           26
          ],
          [
           0,
           42
          ],
          [
           1,
           43
          ],
          [
           3,
           44
          ],
          [
           0,
           23
          ],
          [
           1,
           49
          ],
          [
           5,
           33
          ],
          [
           1,
           41
          ],
          [
           2,
           37
          ],
          [
           3,
           22
          ],
          [
           1,
           23
          ],
          [
           0,
           21
          ],
          [
           4,
           25
          ],
          [
           0,
           36
          ],
          [
           0,
           22
          ],
          [
           1,
           57
          ],
          [
           4,
           36
          ],
          [
           0,
           54
          ],
          [
           0,
           62
          ],
          [
           0,
           61
          ],
          [
           1,
           19
          ],
          [
           0,
           18
          ],
          [
           0,
           19
          ],
          [
           0,
           49
          ],
          [
           3,
           26
          ],
          [
           0,
           49
          ],
          [
           0,
           60
          ],
          [
           2,
           26
          ],
          [
           3,
           27
          ],
          [
           1,
           44
          ],
          [
           3,
           63
          ],
          [
           1,
           22
          ],
          [
           3,
           59
          ],
          [
           1,
           44
          ],
          [
           2,
           33
          ],
          [
           0,
           24
          ],
          [
           0,
           61
          ],
          [
           1,
           35
          ],
          [
           0,
           62
          ],
          [
           0,
           62
          ],
          [
           1,
           38
          ],
          [
           0,
           34
          ],
          [
           0,
           43
          ],
          [
           2,
           50
          ],
          [
           2,
           19
          ],
          [
           1,
           57
          ],
          [
           0,
           62
          ],
          [
           1,
           41
          ],
          [
           1,
           26
          ],
          [
           1,
           39
          ],
          [
           5,
           46
          ],
          [
           0,
           45
          ],
          [
           2,
           32
          ],
          [
           0,
           59
          ],
          [
           2,
           44
          ],
          [
           5,
           39
          ],
          [
           2,
           18
          ],
          [
           0,
           53
          ],
          [
           0,
           18
          ],
          [
           1,
           50
          ],
          [
           0,
           18
          ],
          [
           0,
           19
          ],
          [
           0,
           62
          ],
          [
           1,
           56
          ],
          [
           2,
           42
          ],
          [
           0,
           42
          ],
          [
           0,
           57
          ],
          [
           1,
           30
          ],
          [
           1,
           31
          ],
          [
           1,
           24
          ],
          [
           1,
           48
          ],
          [
           1,
           19
          ],
          [
           0,
           29
          ],
          [
           1,
           63
          ],
          [
           3,
           46
          ],
          [
           2,
           52
          ],
          [
           1,
           35
          ],
          [
           1,
           44
          ],
          [
           2,
           21
          ],
          [
           5,
           39
          ],
          [
           3,
           50
          ],
          [
           0,
           34
          ],
          [
           0,
           22
          ],
          [
           0,
           19
          ],
          [
           0,
           26
          ],
          [
           0,
           48
          ],
          [
           1,
           26
          ],
          [
           3,
           45
          ],
          [
           0,
           36
          ],
          [
           1,
           54
          ],
          [
           0,
           34
          ],
          [
           1,
           27
          ],
          [
           5,
           20
          ],
          [
           1,
           44
          ],
          [
           3,
           43
          ],
          [
           1,
           45
          ],
          [
           0,
           34
          ],
          [
           1,
           26
          ],
          [
           2,
           38
          ],
          [
           2,
           50
          ],
          [
           1,
           38
          ],
          [
           3,
           39
          ],
          [
           3,
           39
          ],
          [
           0,
           63
          ],
          [
           3,
           33
          ],
          [
           0,
           36
          ],
          [
           0,
           24
          ],
          [
           0,
           48
          ],
          [
           1,
           47
          ],
          [
           2,
           29
          ],
          [
           2,
           28
          ],
          [
           2,
           25
          ],
          [
           1,
           51
          ],
          [
           0,
           48
          ],
          [
           4,
           61
          ],
          [
           1,
           48
          ],
          [
           0,
           38
          ],
          [
           0,
           59
          ],
          [
           1,
           19
          ],
          [
           2,
           26
          ],
          [
           3,
           54
          ],
          [
           2,
           21
          ],
          [
           0,
           51
          ],
          [
           1,
           18
          ],
          [
           1,
           47
          ],
          [
           0,
           21
          ],
          [
           0,
           23
          ],
          [
           0,
           54
          ],
          [
           2,
           37
          ],
          [
           0,
           30
          ],
          [
           0,
           61
          ],
          [
           3,
           54
          ],
          [
           0,
           22
          ],
          [
           2,
           19
          ],
          [
           0,
           18
          ],
          [
           0,
           28
          ],
          [
           1,
           55
          ],
          [
           0,
           43
          ],
          [
           1,
           25
          ],
          [
           1,
           44
          ],
          [
           0,
           64
          ],
          [
           1,
           49
          ],
          [
           0,
           27
          ],
          [
           0,
           55
          ],
          [
           0,
           48
          ],
          [
           0,
           45
          ],
          [
           0,
           24
          ],
          [
           1,
           32
          ],
          [
           0,
           24
          ],
          [
           1,
           57
          ],
          [
           3,
           36
          ],
          [
           4,
           29
          ],
          [
           1,
           42
          ],
          [
           2,
           48
          ],
          [
           0,
           39
          ],
          [
           1,
           63
          ],
          [
           1,
           54
          ],
          [
           0,
           63
          ],
          [
           0,
           21
          ],
          [
           2,
           54
          ],
          [
           0,
           60
          ],
          [
           1,
           32
          ],
          [
           1,
           47
          ],
          [
           0,
           21
          ],
          [
           3,
           63
          ],
          [
           2,
           18
          ],
          [
           1,
           32
          ],
          [
           1,
           38
          ],
          [
           1,
           32
          ],
          [
           2,
           62
          ],
          [
           0,
           55
          ],
          [
           0,
           57
          ],
          [
           1,
           52
          ],
          [
           0,
           56
          ],
          [
           0,
           55
          ],
          [
           3,
           23
          ],
          [
           4,
           50
          ],
          [
           4,
           18
          ],
          [
           0,
           22
          ],
          [
           0,
           52
          ],
          [
           1,
           25
          ],
          [
           3,
           53
          ],
          [
           1,
           29
          ],
          [
           0,
           58
          ],
          [
           0,
           37
          ],
          [
           0,
           54
          ],
          [
           0,
           49
          ],
          [
           2,
           50
          ],
          [
           1,
           26
          ],
          [
           3,
           45
          ],
          [
           1,
           54
          ],
          [
           3,
           28
          ],
          [
           0,
           23
          ],
          [
           1,
           55
          ],
          [
           5,
           41
          ],
          [
           3,
           30
          ],
          [
           2,
           46
          ],
          [
           1,
           27
          ],
          [
           0,
           63
          ],
          [
           0,
           55
          ],
          [
           2,
           35
          ],
          [
           1,
           34
          ],
          [
           0,
           19
          ],
          [
           5,
           39
          ],
          [
           2,
           27
          ],
          [
           0,
           57
          ],
          [
           0,
           52
          ],
          [
           0,
           28
          ],
          [
           3,
           50
          ],
          [
           1,
           44
          ],
          [
           0,
           26
          ],
          [
           0,
           33
          ],
          [
           1,
           50
          ],
          [
           3,
           41
          ],
          [
           0,
           52
          ],
          [
           2,
           39
          ],
          [
           2,
           50
          ],
          [
           3,
           52
          ],
          [
           0,
           20
          ],
          [
           1,
           55
          ],
          [
           0,
           42
          ],
          [
           0,
           18
          ],
          [
           0,
           58
          ],
          [
           1,
           35
          ],
          [
           4,
           48
          ],
          [
           3,
           36
          ],
          [
           2,
           23
          ],
          [
           0,
           20
          ],
          [
           0,
           32
          ],
          [
           1,
           43
          ],
          [
           2,
           34
          ],
          [
           1,
           30
          ],
          [
           0,
           18
          ],
          [
           1,
           41
          ],
          [
           0,
           35
          ],
          [
           0,
           57
          ],
          [
           2,
           29
          ],
          [
           2,
           32
          ],
          [
           1,
           37
          ],
          [
           0,
           56
          ],
          [
           2,
           38
          ],
          [
           2,
           29
          ],
          [
           0,
           22
          ],
          [
           1,
           40
          ],
          [
           0,
           23
          ],
          [
           1,
           42
          ],
          [
           0,
           24
          ],
          [
           0,
           25
          ],
          [
           1,
           48
          ],
          [
           2,
           45
          ],
          [
           0,
           62
          ],
          [
           0,
           23
          ],
          [
           2,
           31
          ],
          [
           1,
           41
          ],
          [
           1,
           58
          ],
          [
           0,
           48
          ],
          [
           0,
           31
          ],
          [
           3,
           19
          ],
          [
           0,
           41
          ],
          [
           1,
           40
          ],
          [
           2,
           31
          ],
          [
           2,
           37
          ],
          [
           2,
           46
          ],
          [
           0,
           22
          ],
          [
           1,
           51
          ],
          [
           1,
           35
          ],
          [
           2,
           59
          ],
          [
           1,
           59
          ],
          [
           1,
           36
          ],
          [
           2,
           39
          ],
          [
           0,
           18
          ],
          [
           2,
           52
          ],
          [
           1,
           27
          ],
          [
           0,
           18
          ],
          [
           0,
           40
          ],
          [
           2,
           29
          ],
          [
           3,
           38
          ],
          [
           1,
           30
          ],
          [
           2,
           40
          ],
          [
           0,
           50
          ],
          [
           1,
           41
          ],
          [
           1,
           33
          ],
          [
           2,
           38
          ],
          [
           2,
           42
          ],
          [
           0,
           56
          ],
          [
           0,
           58
          ],
          [
           3,
           54
          ],
          [
           0,
           58
          ],
          [
           2,
           45
          ],
          [
           0,
           26
          ],
          [
           0,
           63
          ],
          [
           0,
           58
          ],
          [
           3,
           37
          ],
          [
           1,
           25
          ],
          [
           3,
           22
          ],
          [
           0,
           28
          ],
          [
           0,
           18
          ],
          [
           5,
           28
          ],
          [
           3,
           45
          ],
          [
           4,
           33
          ],
          [
           0,
           18
          ],
          [
           0,
           19
          ],
          [
           4,
           40
          ],
          [
           0,
           34
          ],
          [
           0,
           42
          ],
          [
           3,
           51
          ],
          [
           1,
           54
          ],
          [
           3,
           55
          ],
          [
           0,
           52
          ],
          [
           0,
           32
          ],
          [
           1,
           28
          ],
          [
           1,
           41
          ],
          [
           1,
           43
          ],
          [
           2,
           49
          ],
          [
           0,
           55
          ],
          [
           0,
           20
          ],
          [
           3,
           45
          ],
          [
           1,
           26
          ],
          [
           0,
           25
          ],
          [
           5,
           43
          ],
          [
           1,
           35
          ],
          [
           0,
           57
          ],
          [
           0,
           22
          ],
          [
           0,
           32
          ],
          [
           2,
           25
          ],
          [
           0,
           48
          ],
          [
           1,
           18
          ],
          [
           0,
           47
          ],
          [
           0,
           28
          ],
          [
           1,
           36
          ],
          [
           1,
           44
          ],
          [
           2,
           38
          ],
          [
           0,
           21
          ],
          [
           3,
           46
          ],
          [
           0,
           58
          ],
          [
           1,
           20
          ],
          [
           0,
           18
          ],
          [
           2,
           28
          ],
          [
           2,
           33
          ],
          [
           1,
           19
          ],
          [
           1,
           25
          ],
          [
           0,
           24
          ],
          [
           2,
           41
          ],
          [
           1,
           42
          ],
          [
           0,
           33
          ],
          [
           1,
           34
          ],
          [
           1,
           18
          ],
          [
           0,
           19
          ],
          [
           0,
           18
          ],
          [
           4,
           35
          ],
          [
           2,
           39
          ],
          [
           3,
           31
          ],
          [
           0,
           62
          ],
          [
           1,
           31
          ],
          [
           0,
           61
          ],
          [
           0,
           42
          ],
          [
           1,
           51
          ],
          [
           2,
           23
          ],
          [
           2,
           52
          ],
          [
           2,
           57
          ],
          [
           0,
           23
          ],
          [
           3,
           52
          ],
          [
           3,
           50
          ],
          [
           0,
           18
          ],
          [
           0,
           18
          ],
          [
           0,
           21
          ]
         ],
         "hovertemplate": "smoker=no<br>bmi=%{x}<br>charges=%{y}<br>children=%{customdata[0]}<br>age=%{customdata[1]}<extra></extra>",
         "legendgroup": "no",
         "marker": {
          "color": "#EF553B",
          "symbol": "circle"
         },
         "mode": "markers",
         "name": "no",
         "showlegend": true,
         "type": "scattergl",
         "x": [
          33.77,
          33,
          22.705,
          28.88,
          25.74,
          33.44,
          27.74,
          29.83,
          25.84,
          26.22,
          34.4,
          39.82,
          24.6,
          30.78,
          23.845,
          40.3,
          36.005,
          32.4,
          34.1,
          28.025,
          27.72,
          23.085,
          32.775,
          17.385,
          26.315,
          28.6,
          28.31,
          20.425,
          32.965,
          20.8,
          26.6,
          36.63,
          21.78,
          30.8,
          37.05,
          37.3,
          38.665,
          34.77,
          24.53,
          35.625,
          33.63,
          28.69,
          31.825,
          37.335,
          27.36,
          33.66,
          24.7,
          25.935,
          28.9,
          39.1,
          26.315,
          36.19,
          28.5,
          28.1,
          32.01,
          27.4,
          34.01,
          29.59,
          35.53,
          39.805,
          32.965,
          26.885,
          38.285,
          41.23,
          27.2,
          27.74,
          26.98,
          39.49,
          24.795,
          34.77,
          37.62,
          30.8,
          38.28,
          31.6,
          25.46,
          30.115,
          27.5,
          28.4,
          30.875,
          27.94,
          33.63,
          29.7,
          30.8,
          35.72,
          32.205,
          28.595,
          49.06,
          27.17,
          23.37,
          37.1,
          23.75,
          28.975,
          33.915,
          28.785,
          37.4,
          34.7,
          26.505,
          22.04,
          35.9,
          25.555,
          28.785,
          28.05,
          34.1,
          25.175,
          31.9,
          36,
          22.42,
          32.49,
          29.735,
          38.83,
          37.73,
          37.43,
          28.4,
          24.13,
          29.7,
          37.145,
          25.46,
          39.52,
          27.83,
          39.6,
          29.8,
          29.64,
          28.215,
          37,
          33.155,
          31.825,
          18.905,
          41.47,
          30.3,
          15.96,
          34.8,
          33.345,
          27.835,
          29.2,
          28.9,
          33.155,
          28.595,
          38.28,
          19.95,
          26.41,
          30.69,
          29.92,
          30.9,
          32.2,
          32.11,
          31.57,
          26.2,
          25.74,
          26.6,
          34.43,
          30.59,
          32.8,
          28.6,
          18.05,
          39.33,
          32.11,
          32.23,
          24.035,
          22.3,
          28.88,
          26.4,
          31.8,
          41.23,
          33,
          30.875,
          28.5,
          26.73,
          30.9,
          37.1,
          26.6,
          23.1,
          29.92,
          23.21,
          33.7,
          33.25,
          30.8,
          33.88,
          38.06,
          41.91,
          31.635,
          25.46,
          36.195,
          27.83,
          17.8,
          27.5,
          24.51,
          26.73,
          38.39,
          38.06,
          22.135,
          26.8,
          35.3,
          30.02,
          38.06,
          35.86,
          20.9,
          28.975,
          30.3,
          25.365,
          40.15,
          24.415,
          25.2,
          38.06,
          32.395,
          30.2,
          25.84,
          29.37,
          37.05,
          27.455,
          27.55,
          26.6,
          20.615,
          24.3,
          31.79,
          21.56,
          27.645,
          32.395,
          31.2,
          26.62,
          48.07,
          26.22,
          26.4,
          33.4,
          29.64,
          28.82,
          26.8,
          22.99,
          28.88,
          27.55,
          37.51,
          33,
          38,
          33.345,
          27.5,
          33.33,
          34.865,
          33.06,
          26.6,
          24.7,
          35.86,
          33.25,
          32.205,
          32.775,
          27.645,
          37.335,
          25.27,
          29.64,
          40.945,
          27.2,
          34.105,
          23.21,
          36.7,
          31.16,
          28.785,
          35.72,
          34.5,
          25.74,
          27.55,
          27.72,
          27.6,
          30.02,
          27.55,
          36.765,
          41.47,
          29.26,
          35.75,
          33.345,
          29.92,
          27.835,
          23.18,
          25.6,
          27.7,
          35.245,
          38.28,
          27.6,
          43.89,
          29.83,
          41.91,
          20.79,
          32.3,
          30.5,
          26.4,
          21.89,
          30.78,
          32.3,
          24.985,
          32.015,
          30.4,
          21.09,
          22.23,
          33.155,
          33.33,
          30.115,
          31.46,
          33,
          43.34,
          22.135,
          34.4,
          39.05,
          25.365,
          22.61,
          30.21,
          35.625,
          37.43,
          31.445,
          31.35,
          32.3,
          19.855,
          34.4,
          31.02,
          25.6,
          38.17,
          20.6,
          47.52,
          32.965,
          32.3,
          20.4,
          38.38,
          24.31,
          23.6,
          21.12,
          30.03,
          17.48,
          23.9,
          35.15,
          35.64,
          34.1,
          39.16,
          30.59,
          30.2,
          24.31,
          27.265,
          29.165,
          16.815,
          30.4,
          33.1,
          20.235,
          26.9,
          30.5,
          28.595,
          33.11,
          31.73,
          28.9,
          46.75,
          29.45,
          32.68,
          43.01,
          36.52,
          33.1,
          29.64,
          25.65,
          29.6,
          38.6,
          29.6,
          24.13,
          23.4,
          29.735,
          46.53,
          37.4,
          30.14,
          30.495,
          39.6,
          33,
          36.63,
          38.095,
          25.935,
          25.175,
          28.7,
          33.82,
          24.32,
          24.09,
          32.67,
          30.115,
          29.8,
          33.345,
          35.625,
          36.85,
          32.56,
          41.325,
          37.51,
          31.35,
          39.5,
          34.3,
          31.065,
          21.47,
          28.7,
          31.16,
          32.9,
          25.08,
          25.08,
          43.4,
          27.93,
          23.6,
          28.7,
          23.98,
          39.2,
          26.03,
          28.93,
          30.875,
          31.35,
          23.75,
          25.27,
          28.7,
          32.11,
          33.66,
          22.42,
          30.4,
          35.7,
          35.31,
          30.495,
          31,
          30.875,
          27.36,
          44.22,
          33.915,
          37.73,
          33.88,
          30.59,
          25.8,
          39.425,
          25.46,
          31.73,
          29.7,
          36.19,
          40.48,
          28.025,
          38.9,
          30.2,
          28.05,
          31.35,
          38,
          31.79,
          36.3,
          30.21,
          35.435,
          46.7,
          28.595,
          30.8,
          28.93,
          21.4,
          31.73,
          41.325,
          23.8,
          33.44,
          34.21,
          35.53,
          19.95,
          32.68,
          30.5,
          44.77,
          32.12,
          30.495,
          40.565,
          30.59,
          31.9,
          29.1,
          37.29,
          43.12,
          36.86,
          34.295,
          27.17,
          26.84,
          30.2,
          23.465,
          25.46,
          30.59,
          45.43,
          23.65,
          20.7,
          28.27,
          20.235,
          35.91,
          30.69,
          29,
          19.57,
          31.13,
          40.26,
          33.725,
          29.48,
          33.25,
          32.6,
          37.525,
          39.16,
          31.635,
          25.3,
          39.05,
          34.1,
          25.175,
          26.98,
          29.37,
          34.8,
          33.155,
          19,
          33,
          28.595,
          37.1,
          31.4,
          21.3,
          28.785,
          26.03,
          28.88,
          42.46,
          38,
          36.1,
          29.3,
          35.53,
          22.705,
          39.7,
          38.19,
          24.51,
          38.095,
          33.66,
          42.4,
          33.915,
          34.96,
          35.31,
          30.78,
          26.22,
          23.37,
          28.5,
          32.965,
          42.68,
          39.6,
          31.13,
          36.3,
          35.2,
          42.4,
          33.155,
          35.91,
          28.785,
          46.53,
          23.98,
          31.54,
          33.66,
          28.7,
          29.81,
          31.57,
          31.16,
          29.7,
          31.02,
          21.375,
          40.81,
          36.1,
          23.18,
          17.4,
          20.3,
          24.32,
          18.5,
          26.41,
          26.125,
          41.69,
          24.1,
          27.36,
          36.2,
          32.395,
          23.655,
          34.8,
          40.185,
          32.3,
          33.725,
          39.27,
          34.87,
          44.745,
          41.47,
          26.41,
          29.545,
          32.9,
          28.69,
          30.495,
          27.74,
          35.2,
          23.54,
          30.685,
          40.47,
          22.6,
          28.9,
          22.61,
          24.32,
          36.67,
          33.44,
          40.66,
          36.6,
          37.4,
          35.4,
          27.075,
          28.405,
          40.28,
          36.08,
          21.4,
          30.1,
          27.265,
          32.1,
          34.77,
          23.7,
          24.035,
          26.62,
          26.41,
          30.115,
          27,
          21.755,
          36,
          30.875,
          28.975,
          37.905,
          22.77,
          33.63,
          27.645,
          22.8,
          37.43,
          34.58,
          35.2,
          26.03,
          25.175,
          31.825,
          32.3,
          29,
          39.7,
          19.475,
          36.1,
          26.7,
          36.48,
          34.2,
          33.33,
          32.3,
          39.805,
          34.32,
          28.88,
          41.14,
          35.97,
          29.26,
          27.7,
          36.955,
          36.86,
          22.515,
          29.92,
          41.8,
          27.6,
          23.18,
          31.92,
          44.22,
          22.895,
          33.1,
          26.18,
          35.97,
          22.3,
          26.51,
          35.815,
          41.42,
          36.575,
          30.14,
          25.84,
          30.8,
          42.94,
          21.01,
          22.515,
          34.43,
          31.46,
          24.225,
          37.1,
          33.7,
          17.67,
          31.13,
          29.81,
          24.32,
          31.825,
          21.85,
          33.1,
          25.84,
          23.845,
          34.39,
          33.82,
          35.97,
          31.5,
          28.31,
          23.465,
          31.35,
          31.1,
          24.7,
          30.495,
          34.2,
          50.38,
          24.1,
          32.775,
          32.3,
          23.75,
          29.6,
          32.23,
          28.1,
          28,
          33.535,
          19.855,
          25.4,
          29.9,
          37.29,
          43.7,
          23.655,
          24.3,
          36.2,
          29.48,
          24.86,
          30.1,
          21.85,
          28.12,
          27.1,
          33.44,
          28.8,
          29.5,
          34.8,
          27.36,
          22.135,
          26.695,
          30.02,
          39.5,
          33.63,
          29.04,
          24.035,
          32.11,
          44,
          25.555,
          40.26,
          22.515,
          22.515,
          27.265,
          36.85,
          35.1,
          29.355,
          32.585,
          32.34,
          39.8,
          28.31,
          26.695,
          27.5,
          24.605,
          33.99,
          28.2,
          34.21,
          25,
          33.2,
          31,
          35.815,
          23.2,
          32.11,
          23.4,
          20.1,
          39.16,
          34.21,
          46.53,
          32.5,
          25.8,
          35.3,
          37.18,
          27.5,
          29.735,
          24.225,
          26.18,
          29.48,
          23.21,
          46.09,
          40.185,
          22.61,
          39.93,
          35.8,
          35.8,
          31.255,
          18.335,
          28.405,
          39.49,
          26.79,
          36.67,
          39.615,
          25.9,
          35.2,
          24.795,
          36.765,
          27.1,
          25.365,
          25.745,
          34.32,
          28.16,
          23.56,
          20.235,
          40.5,
          35.42,
          40.15,
          29.15,
          39.995,
          29.92,
          25.46,
          21.375,
          30.59,
          30.115,
          25.8,
          30.115,
          27.645,
          34.675,
          19.8,
          27.835,
          31.6,
          28.27,
          23.275,
          34.1,
          36.85,
          36.29,
          26.885,
          25.8,
          29.6,
          19.19,
          31.73,
          29.26,
          24.985,
          27.74,
          22.8,
          33.33,
          32.3,
          27.6,
          25.46,
          24.605,
          34.2,
          35.815,
          32.68,
          37,
          23.32,
          45.32,
          34.6,
          18.715,
          31.6,
          17.29,
          27.93,
          38.38,
          23,
          28.88,
          27.265,
          23.085,
          25.8,
          35.245,
          25.08,
          22.515,
          36.955,
          26.41,
          29.83,
          21.47,
          27.645,
          28.9,
          31.79,
          39.49,
          33.82,
          32.01,
          27.94,
          28.595,
          25.6,
          25.3,
          37.29,
          42.655,
          21.66,
          31.9,
          31.445,
          31.255,
          28.88,
          18.335,
          29.59,
          32,
          26.03,
          33.66,
          21.78,
          27.835,
          19.95,
          31.5,
          30.495,
          28.975,
          31.54,
          47.74,
          22.1,
          29.83,
          32.7,
          33.7,
          31.35,
          33.77,
          30.875,
          33.99,
          28.6,
          38.94,
          36.08,
          29.8,
          31.24,
          29.925,
          26.22,
          30,
          20.35,
          32.3,
          26.315,
          24.51,
          32.67,
          29.64,
          19.95,
          38.17,
          32.395,
          25.08,
          29.9,
          35.86,
          32.8,
          18.6,
          23.87,
          45.9,
          40.28,
          18.335,
          33.82,
          28.12,
          25,
          22.23,
          30.25,
          37.07,
          32.6,
          24.86,
          32.34,
          32.3,
          32.775,
          31.92,
          21.5,
          34.1,
          30.305,
          36.48,
          35.815,
          27.93,
          22.135,
          23.18,
          30.59,
          41.1,
          34.58,
          42.13,
          38.83,
          28.215,
          28.31,
          26.125,
          40.37,
          24.6,
          35.2,
          34.105,
          41.91,
          29.26,
          32.11,
          27.1,
          27.4,
          34.865,
          41.325,
          29.925,
          30.3,
          27.36,
          23.56,
          32.68,
          28,
          32.775,
          21.755,
          32.395,
          36.575,
          21.755,
          27.93,
          33.55,
          29.355,
          25.8,
          24.32,
          40.375,
          32.11,
          32.3,
          17.86,
          34.8,
          37.1,
          30.875,
          34.1,
          21.47,
          33.3,
          31.255,
          39.14,
          25.08,
          37.29,
          30.21,
          21.945,
          24.97,
          25.3,
          23.94,
          39.82,
          16.815,
          37.18,
          34.43,
          30.305,
          24.605,
          23.3,
          27.83,
          31.065,
          21.66,
          28.215,
          22.705,
          42.13,
          21.28,
          33.11,
          33.33,
          24.3,
          25.7,
          29.4,
          39.82,
          19.8,
          29.3,
          27.72,
          37.9,
          36.385,
          27.645,
          37.715,
          23.18,
          20.52,
          37.1,
          28.05,
          29.9,
          33.345,
          30.5,
          33.3,
          27.5,
          33.915,
          34.485,
          25.52,
          27.61,
          23.7,
          30.4,
          29.735,
          26.79,
          33.33,
          30.03,
          24.32,
          17.29,
          25.9,
          34.32,
          19.95,
          23.21,
          25.745,
          25.175,
          22,
          26.125,
          26.51,
          27.455,
          25.745,
          20.8,
          27.72,
          32.2,
          26.315,
          26.695,
          42.9,
          28.31,
          20.6,
          53.13,
          39.71,
          26.315,
          31.065,
          38.83,
          25.935,
          33.535,
          32.87,
          30.03,
          24.225,
          38.6,
          25.74,
          33.4,
          44.7,
          30.97,
          31.92,
          36.85,
          25.8
         ],
         "xaxis": "x",
         "y": [
          1725.5523,
          4449.462,
          21984.47061,
          3866.8552,
          3756.6216,
          8240.5896,
          7281.5056,
          6406.4107,
          28923.13692,
          2721.3208,
          1826.843,
          11090.7178,
          1837.237,
          10797.3362,
          2395.17155,
          10602.385,
          13228.84695,
          4149.736,
          1137.011,
          6203.90175,
          14001.1338,
          14451.83515,
          12268.63225,
          2775.19215,
          2198.18985,
          4687.797,
          13770.0979,
          1625.43375,
          15612.19335,
          2302.3,
          3046.062,
          4949.7587,
          6272.4772,
          6313.759,
          6079.6715,
          20630.28351,
          3393.35635,
          3556.9223,
          12629.8967,
          2211.13075,
          3579.8287,
          8059.6791,
          13607.36875,
          5989.52365,
          8606.2174,
          4504.6624,
          30166.61817,
          4133.64165,
          1743.214,
          14235.072,
          6389.37785,
          5920.1041,
          6799.458,
          11741.726,
          11946.6259,
          7726.854,
          11356.6609,
          3947.4131,
          1532.4697,
          2755.02095,
          6571.02435,
          4441.21315,
          7935.29115,
          11033.6617,
          11073.176,
          8026.6666,
          11082.5772,
          2026.9741,
          10942.13205,
          5729.0053,
          3766.8838,
          12105.32,
          10226.2842,
          6186.127,
          3645.0894,
          21344.8467,
          5003.853,
          2331.519,
          3877.30425,
          2867.1196,
          10825.2537,
          11881.358,
          4646.759,
          2404.7338,
          11488.31695,
          30259.99556,
          11381.3254,
          8601.3293,
          6686.4313,
          7740.337,
          1705.6245,
          2257.47525,
          10115.00885,
          3385.39915,
          9634.538,
          6082.405,
          12815.44495,
          13616.3586,
          11163.568,
          1632.56445,
          2457.21115,
          2155.6815,
          1261.442,
          2045.68525,
          27322.73386,
          2166.732,
          27375.90478,
          3490.5491,
          18157.876,
          5138.2567,
          9877.6077,
          10959.6947,
          1842.519,
          5125.2157,
          7789.635,
          6334.34355,
          7077.1894,
          6948.7008,
          19749.38338,
          10450.552,
          5152.134,
          5028.1466,
          10407.08585,
          4830.63,
          6128.79745,
          2719.27975,
          4827.90495,
          13405.3903,
          8116.68,
          1694.7964,
          5246.047,
          2855.43755,
          6455.86265,
          10436.096,
          8823.279,
          8538.28845,
          11735.87905,
          1631.8212,
          4005.4225,
          7419.4779,
          7731.4271,
          3981.9768,
          5325.651,
          6775.961,
          4922.9159,
          12557.6053,
          4883.866,
          2137.6536,
          12044.342,
          1137.4697,
          1639.5631,
          5649.715,
          8516.829,
          9644.2525,
          14901.5167,
          2130.6759,
          8871.1517,
          13012.20865,
          7147.105,
          4337.7352,
          11743.299,
          13880.949,
          6610.1097,
          1980.07,
          8162.71625,
          3537.703,
          5002.7827,
          8520.026,
          7371.772,
          10355.641,
          2483.736,
          3392.9768,
          25081.76784,
          5012.471,
          10564.8845,
          5253.524,
          11987.1682,
          2689.4954,
          24227.33724,
          7358.17565,
          9225.2564,
          7443.64305,
          14001.2867,
          1727.785,
          12333.828,
          6710.1919,
          1615.7667,
          4463.2051,
          7152.6714,
          5354.07465,
          35160.13457,
          7196.867,
          24476.47851,
          12648.7034,
          1986.9334,
          1832.094,
          4040.55825,
          4260.744,
          13047.33235,
          5400.9805,
          11520.09985,
          11837.16,
          20462.99766,
          14590.63205,
          7441.053,
          9282.4806,
          1719.4363,
          7265.7025,
          9617.66245,
          2523.1695,
          9715.841,
          2803.69785,
          2150.469,
          12928.7911,
          9855.1314,
          4237.12655,
          11879.10405,
          9625.92,
          7742.1098,
          9432.9253,
          14256.1928,
          25992.82104,
          3172.018,
          20277.80751,
          2156.7518,
          3906.127,
          1704.5681,
          9249.4952,
          6746.7425,
          12265.5069,
          4349.462,
          12646.207,
          19442.3535,
          20177.67113,
          4151.0287,
          11944.59435,
          7749.1564,
          8444.474,
          1737.376,
          8124.4084,
          9722.7695,
          8835.26495,
          10435.06525,
          7421.19455,
          4667.60765,
          4894.7533,
          24671.66334,
          11566.30055,
          2866.091,
          6600.20595,
          3561.8889,
          9144.565,
          13429.0354,
          11658.37915,
          19144.57652,
          13822.803,
          12142.5786,
          13937.6665,
          8232.6388,
          18955.22017,
          13352.0998,
          13217.0945,
          13981.85035,
          10977.2063,
          6184.2994,
          4889.9995,
          8334.45755,
          5478.0368,
          1635.73365,
          11830.6072,
          8932.084,
          3554.203,
          12404.8791,
          14133.03775,
          24603.04837,
          8944.1151,
          9620.3307,
          1837.2819,
          1607.5101,
          10043.249,
          4751.07,
          2597.779,
          3180.5101,
          9778.3472,
          13430.265,
          8017.06115,
          8116.26885,
          3481.868,
          13415.0381,
          12029.2867,
          7639.41745,
          1391.5287,
          16455.70785,
          27000.98473,
          20781.48892,
          5846.9176,
          8302.53565,
          1261.859,
          11856.4115,
          30284.64294,
          3176.8159,
          4618.0799,
          10736.87075,
          2138.0707,
          8964.06055,
          9290.1395,
          9411.005,
          7526.70645,
          8522.003,
          16586.49771,
          14988.432,
          1631.6683,
          9264.797,
          8083.9198,
          14692.66935,
          10269.46,
          3260.199,
          11396.9002,
          4185.0979,
          8539.671,
          6652.5288,
          4074.4537,
          1621.3402,
          5080.096,
          2134.9015,
          7345.7266,
          9140.951,
          14418.2804,
          2727.3951,
          8968.33,
          9788.8659,
          6555.07035,
          7323.734819,
          3167.45585,
          18804.7524,
          23082.95533,
          4906.40965,
          5969.723,
          12638.195,
          4243.59005,
          13919.8229,
          2254.7967,
          5926.846,
          12592.5345,
          2897.3235,
          4738.2682,
          1149.3959,
          28287.89766,
          7345.084,
          12730.9996,
          11454.0215,
          5910.944,
          4762.329,
          7512.267,
          4032.2407,
          1969.614,
          1769.53165,
          4686.3887,
          21797.0004,
          11881.9696,
          11840.77505,
          10601.412,
          7682.67,
          10381.4787,
          15230.32405,
          11165.41765,
          1632.03625,
          13224.693,
          12643.3778,
          23288.9284,
          2201.0971,
          2497.0383,
          2203.47185,
          1744.465,
          20878.78443,
          2534.39375,
          1534.3045,
          1824.2854,
          15555.18875,
          9304.7019,
          1622.1885,
          9880.068,
          9563.029,
          4347.02335,
          12475.3513,
          1253.936,
          10461.9794,
          1748.774,
          24513.09126,
          2196.4732,
          12574.049,
          1967.0227,
          4931.647,
          8027.968,
          8211.1002,
          13470.86,
          6837.3687,
          5974.3847,
          6796.86325,
          2643.2685,
          3077.0955,
          3044.2133,
          11455.28,
          11763.0009,
          2498.4144,
          9361.3268,
          1256.299,
          11362.755,
          27724.28875,
          8413.46305,
          5240.765,
          3857.75925,
          25656.57526,
          3994.1778,
          9866.30485,
          5397.6167,
          11482.63485,
          24059.68019,
          9861.025,
          8342.90875,
          1708.0014,
          14043.4767,
          12925.886,
          19214.70553,
          13831.1152,
          6067.12675,
          5972.378,
          8825.086,
          8233.0975,
          27346.04207,
          6196.448,
          3056.3881,
          13887.204,
          10231.4999,
          3268.84665,
          11538.421,
          3213.62205,
          13390.559,
          3972.9247,
          12957.118,
          11187.6567,
          17878.90068,
          3847.674,
          8334.5896,
          3935.1799,
          1646.4297,
          9193.8385,
          10923.9332,
          2494.022,
          9058.7303,
          2801.2588,
          2128.43105,
          6373.55735,
          7256.7231,
          11552.904,
          3761.292,
          2219.4451,
          4753.6368,
          31620.00106,
          13224.05705,
          12222.8983,
          1664.9996,
          9724.53,
          3206.49135,
          12913.9924,
          1639.5631,
          6356.2707,
          17626.23951,
          1242.816,
          4779.6023,
          3861.20965,
          13635.6379,
          5976.8311,
          11842.442,
          8428.0693,
          2566.4707,
          5709.1644,
          8823.98575,
          7640.3092,
          5594.8455,
          7441.501,
          33471.97189,
          1633.0444,
          9174.13565,
          11070.535,
          16085.1275,
          9283.562,
          3558.62025,
          4435.0942,
          8547.6913,
          6571.544,
          2207.69745,
          6753.038,
          1880.07,
          11658.11505,
          10713.644,
          3659.346,
          9182.17,
          12129.61415,
          3736.4647,
          6748.5912,
          11326.71487,
          11365.952,
          10085.846,
          1977.815,
          3366.6697,
          7173.35995,
          9391.346,
          14410.9321,
          2709.1119,
          24915.04626,
          12949.1554,
          6666.243,
          13143.86485,
          4466.6214,
          18806.14547,
          10141.1362,
          6123.5688,
          8252.2843,
          1712.227,
          12430.95335,
          9800.8882,
          10579.711,
          8280.6227,
          8527.532,
          12244.531,
          3410.324,
          4058.71245,
          26392.26029,
          14394.39815,
          6435.6237,
          22192.43711,
          5148.5526,
          1136.3994,
          8703.456,
          6500.2359,
          4837.5823,
          3943.5954,
          4399.731,
          6185.3208,
          7222.78625,
          12485.8009,
          12363.547,
          10156.7832,
          2585.269,
          1242.26,
          9863.4718,
          4766.022,
          11244.3769,
          7729.64575,
          5438.7491,
          26236.57997,
          2104.1134,
          8068.185,
          2362.22905,
          2352.96845,
          3577.999,
          3201.24515,
          29186.48236,
          10976.24575,
          3500.6123,
          2020.5523,
          9541.69555,
          9504.3103,
          5385.3379,
          8930.93455,
          5375.038,
          10264.4421,
          6113.23105,
          5469.0066,
          1727.54,
          10107.2206,
          8310.83915,
          1984.4533,
          2457.502,
          12146.971,
          9566.9909,
          13112.6048,
          10848.1343,
          12231.6136,
          9875.6804,
          11264.541,
          12979.358,
          1263.249,
          10106.13425,
          6664.68595,
          2217.6012,
          6781.3542,
          10065.413,
          4234.927,
          9447.25035,
          14007.222,
          9583.8933,
          3484.331,
          8604.48365,
          3757.8448,
          8827.2099,
          9910.35985,
          11737.84884,
          1627.28245,
          8556.907,
          3062.50825,
          1906.35825,
          14210.53595,
          11833.7823,
          17128.42608,
          5031.26955,
          7985.815,
          5428.7277,
          3925.7582,
          2416.955,
          3070.8087,
          9095.06825,
          11842.62375,
          8062.764,
          7050.642,
          14319.031,
          6933.24225,
          27941.28758,
          11150.78,
          12797.20962,
          7261.741,
          10560.4917,
          6986.697,
          7448.40395,
          5934.3798,
          9869.8102,
          1146.7966,
          9386.1613,
          4350.5144,
          6414.178,
          12741.16745,
          1917.3184,
          5209.57885,
          13457.9608,
          5662.225,
          1252.407,
          2731.9122,
          7209.4918,
          4266.1658,
          4719.52405,
          11848.141,
          7046.7222,
          14313.8463,
          2103.08,
          1815.8759,
          7731.85785,
          28476.73499,
          2136.88225,
          1131.5066,
          3309.7926,
          9414.92,
          6360.9936,
          11013.7119,
          4428.88785,
          5584.3057,
          1877.9294,
          2842.76075,
          3597.596,
          7445.918,
          2680.9493,
          1621.8827,
          8219.2039,
          12523.6048,
          16069.08475,
          6117.4945,
          13393.756,
          5266.3656,
          4719.73655,
          11743.9341,
          5377.4578,
          7160.3303,
          4402.233,
          11657.7189,
          6402.29135,
          12622.1795,
          1526.312,
          12323.936,
          10072.05505,
          9872.701,
          2438.0552,
          2974.126,
          10601.63225,
          14119.62,
          11729.6795,
          1875.344,
          18218.16139,
          10965.446,
          7151.092,
          12269.68865,
          5458.04645,
          8782.469,
          6600.361,
          1141.4451,
          11576.13,
          13129.60345,
          4391.652,
          8457.818,
          3392.3652,
          5966.8874,
          6849.026,
          8891.1395,
          2690.1138,
          26140.3603,
          6653.7886,
          6282.235,
          6311.952,
          3443.064,
          2789.0574,
          2585.85065,
          4877.98105,
          5272.1758,
          1682.597,
          11945.1327,
          7243.8136,
          10422.91665,
          13555.0049,
          13063.883,
          2221.56445,
          1634.5734,
          2117.33885,
          8688.85885,
          4661.28635,
          8125.7845,
          12644.589,
          4564.19145,
          4846.92015,
          7633.7206,
          15170.069,
          2639.0429,
          14382.70905,
          7626.993,
          5257.50795,
          2473.3341,
          13041.921,
          5245.2269,
          13451.122,
          13462.52,
          5488.262,
          4320.41085,
          6250.435,
          25333.33284,
          2913.569,
          12032.326,
          13470.8044,
          6289.7549,
          2927.0647,
          6238.298,
          10096.97,
          7348.142,
          4673.3922,
          12233.828,
          32108.66282,
          8965.79575,
          2304.0022,
          9487.6442,
          1121.8739,
          9549.5651,
          2217.46915,
          1628.4709,
          12982.8747,
          11674.13,
          7160.094,
          6358.77645,
          11534.87265,
          4527.18295,
          3875.7341,
          12609.88702,
          28468.91901,
          2730.10785,
          3353.284,
          14474.675,
          9500.57305,
          26467.09737,
          4746.344,
          7518.02535,
          3279.86855,
          8596.8278,
          10702.6424,
          4992.3764,
          2527.81865,
          1759.338,
          2322.6218,
          7804.1605,
          2902.9065,
          9704.66805,
          4889.0368,
          25517.11363,
          4500.33925,
          16796.41194,
          4915.05985,
          7624.63,
          8410.04685,
          28340.18885,
          4518.82625,
          3378.91,
          7144.86265,
          10118.424,
          5484.4673,
          7986.47525,
          7418.522,
          13887.9685,
          6551.7501,
          5267.81815,
          1972.95,
          21232.18226,
          8627.5411,
          4433.3877,
          4438.2634,
          23241.47453,
          9957.7216,
          8269.044,
          36580.28216,
          8765.249,
          5383.536,
          12124.9924,
          2709.24395,
          3987.926,
          12495.29085,
          26018.95052,
          8798.593,
          1711.0268,
          8569.8618,
          2020.177,
          21595.38229,
          9850.432,
          6877.9801,
          4137.5227,
          12950.0712,
          12094.478,
          2250.8352,
          22493.65964,
          1704.70015,
          3161.454,
          11394.06555,
          7325.0482,
          3594.17085,
          8023.13545,
          14394.5579,
          9288.0267,
          3353.4703,
          10594.50155,
          8277.523,
          17929.30337,
          2480.9791,
          4462.7218,
          1981.5819,
          11554.2236,
          6548.19505,
          5708.867,
          7045.499,
          8978.1851,
          5757.41345,
          14349.8544,
          10928.849,
          13974.45555,
          1909.52745,
          12096.6512,
          13204.28565,
          4562.8421,
          8551.347,
          2102.2647,
          15161.5344,
          11884.04858,
          4454.40265,
          5855.9025,
          4076.497,
          15019.76005,
          10796.35025,
          11353.2276,
          9748.9106,
          10577.087,
          11286.5387,
          3591.48,
          11299.343,
          4561.1885,
          1674.6323,
          23045.56616,
          3227.1211,
          11253.421,
          3471.4096,
          11363.2832,
          20420.60465,
          10338.9316,
          8988.15875,
          10493.9458,
          2904.088,
          8605.3615,
          11512.405,
          5312.16985,
          2396.0959,
          10807.4863,
          9222.4026,
          5693.4305,
          8347.1643,
          18903.49141,
          14254.6082,
          10214.636,
          5836.5204,
          14358.36437,
          1728.897,
          8582.3023,
          3693.428,
          20709.02034,
          9991.03765,
          19673.33573,
          11085.5868,
          7623.518,
          3176.2877,
          3704.3545,
          9048.0273,
          7954.517,
          27117.99378,
          6338.0756,
          9630.397,
          11289.10925,
          2261.5688,
          10791.96,
          5979.731,
          2203.73595,
          12235.8392,
          5630.45785,
          11015.1747,
          7228.21565,
          14426.07385,
          2459.7201,
          3989.841,
          7727.2532,
          5124.1887,
          18963.17192,
          2200.83085,
          7153.5539,
          5227.98875,
          10982.5013,
          4529.477,
          4670.64,
          6112.35295,
          11093.6229,
          6457.8434,
          4433.9159,
          2154.361,
          6496.886,
          2899.48935,
          7650.77375,
          2850.68375,
          2632.992,
          9447.3824,
          8603.8234,
          13844.7972,
          13126.67745,
          5327.40025,
          13725.47184,
          13019.16105,
          8671.19125,
          4134.08245,
          18838.70366,
          5699.8375,
          6393.60345,
          4934.705,
          6198.7518,
          8733.22925,
          2055.3249,
          9964.06,
          5116.5004,
          36910.60803,
          12347.172,
          5373.36425,
          23563.01618,
          1702.4553,
          10806.839,
          3956.07145,
          12890.05765,
          5415.6612,
          4058.1161,
          7537.1639,
          4718.20355,
          6593.5083,
          8442.667,
          6858.4796,
          4795.6568,
          6640.54485,
          7162.0122,
          10594.2257,
          11938.25595,
          12479.70895,
          11345.519,
          8515.7587,
          2699.56835,
          14449.8544,
          12224.35085,
          6985.50695,
          3238.4357,
          4296.2712,
          3171.6149,
          1135.9407,
          5615.369,
          9101.798,
          6059.173,
          1633.9618,
          1241.565,
          15828.82173,
          4415.1588,
          6474.013,
          11436.73815,
          11305.93455,
          30063.58055,
          10197.7722,
          4544.2348,
          3277.161,
          6770.1925,
          7337.748,
          10370.91255,
          10704.47,
          1880.487,
          8615.3,
          3292.52985,
          3021.80915,
          14478.33015,
          4747.0529,
          10959.33,
          2741.948,
          4357.04365,
          4189.1131,
          8283.6807,
          1720.3537,
          8534.6718,
          3732.6251,
          5472.449,
          7147.4728,
          7133.9025,
          1515.3449,
          9301.89355,
          11931.12525,
          1964.78,
          1708.92575,
          4340.4409,
          5261.46945,
          2710.82855,
          3208.787,
          2464.6188,
          6875.961,
          6940.90985,
          4571.41305,
          4536.259,
          11272.33139,
          1731.677,
          1163.4627,
          19496.71917,
          7201.70085,
          5425.02335,
          12981.3457,
          4239.89265,
          13143.33665,
          7050.0213,
          9377.9047,
          22395.74424,
          10325.206,
          12629.1656,
          10795.93733,
          11411.685,
          10600.5483,
          2205.9808,
          1629.8335,
          2007.945
         ],
         "yaxis": "y"
        }
       ],
       "layout": {
        "legend": {
         "title": {
          "text": "smoker"
         },
         "tracegroupgap": 0
        },
        "margin": {
         "t": 60
        },
        "template": {
         "data": {
          "bar": [
           {
            "error_x": {
             "color": "#2a3f5f"
            },
            "error_y": {
             "color": "#2a3f5f"
            },
            "marker": {
             "line": {
              "color": "#E5ECF6",
              "width": 0.5
             },
             "pattern": {
              "fillmode": "overlay",
              "size": 10,
              "solidity": 0.2
             }
            },
            "type": "bar"
           }
          ],
          "barpolar": [
           {
            "marker": {
             "line": {
              "color": "#E5ECF6",
              "width": 0.5
             },
             "pattern": {
              "fillmode": "overlay",
              "size": 10,
              "solidity": 0.2
             }
            },
            "type": "barpolar"
           }
          ],
          "carpet": [
           {
            "aaxis": {
             "endlinecolor": "#2a3f5f",
             "gridcolor": "white",
             "linecolor": "white",
             "minorgridcolor": "white",
             "startlinecolor": "#2a3f5f"
            },
            "baxis": {
             "endlinecolor": "#2a3f5f",
             "gridcolor": "white",
             "linecolor": "white",
             "minorgridcolor": "white",
             "startlinecolor": "#2a3f5f"
            },
            "type": "carpet"
           }
          ],
          "choropleth": [
           {
            "colorbar": {
             "outlinewidth": 0,
             "ticks": ""
            },
            "type": "choropleth"
           }
          ],
          "contour": [
           {
            "colorbar": {
             "outlinewidth": 0,
             "ticks": ""
            },
            "colorscale": [
             [
              0,
              "#0d0887"
             ],
             [
              0.1111111111111111,
              "#46039f"
             ],
             [
              0.2222222222222222,
              "#7201a8"
             ],
             [
              0.3333333333333333,
              "#9c179e"
             ],
             [
              0.4444444444444444,
              "#bd3786"
             ],
             [
              0.5555555555555556,
              "#d8576b"
             ],
             [
              0.6666666666666666,
              "#ed7953"
             ],
             [
              0.7777777777777778,
              "#fb9f3a"
             ],
             [
              0.8888888888888888,
              "#fdca26"
             ],
             [
              1,
              "#f0f921"
             ]
            ],
            "type": "contour"
           }
          ],
          "contourcarpet": [
           {
            "colorbar": {
             "outlinewidth": 0,
             "ticks": ""
            },
            "type": "contourcarpet"
           }
          ],
          "heatmap": [
           {
            "colorbar": {
             "outlinewidth": 0,
             "ticks": ""
            },
            "colorscale": [
             [
              0,
              "#0d0887"
             ],
             [
              0.1111111111111111,
              "#46039f"
             ],
             [
              0.2222222222222222,
              "#7201a8"
             ],
             [
              0.3333333333333333,
              "#9c179e"
             ],
             [
              0.4444444444444444,
              "#bd3786"
             ],
             [
              0.5555555555555556,
              "#d8576b"
             ],
             [
              0.6666666666666666,
              "#ed7953"
             ],
             [
              0.7777777777777778,
              "#fb9f3a"
             ],
             [
              0.8888888888888888,
              "#fdca26"
             ],
             [
              1,
              "#f0f921"
             ]
            ],
            "type": "heatmap"
           }
          ],
          "heatmapgl": [
           {
            "colorbar": {
             "outlinewidth": 0,
             "ticks": ""
            },
            "colorscale": [
             [
              0,
              "#0d0887"
             ],
             [
              0.1111111111111111,
              "#46039f"
             ],
             [
              0.2222222222222222,
              "#7201a8"
             ],
             [
              0.3333333333333333,
              "#9c179e"
             ],
             [
              0.4444444444444444,
              "#bd3786"
             ],
             [
              0.5555555555555556,
              "#d8576b"
             ],
             [
              0.6666666666666666,
              "#ed7953"
             ],
             [
              0.7777777777777778,
              "#fb9f3a"
             ],
             [
              0.8888888888888888,
              "#fdca26"
             ],
             [
              1,
              "#f0f921"
             ]
            ],
            "type": "heatmapgl"
           }
          ],
          "histogram": [
           {
            "marker": {
             "pattern": {
              "fillmode": "overlay",
              "size": 10,
              "solidity": 0.2
             }
            },
            "type": "histogram"
           }
          ],
          "histogram2d": [
           {
            "colorbar": {
             "outlinewidth": 0,
             "ticks": ""
            },
            "colorscale": [
             [
              0,
              "#0d0887"
             ],
             [
              0.1111111111111111,
              "#46039f"
             ],
             [
              0.2222222222222222,
              "#7201a8"
             ],
             [
              0.3333333333333333,
              "#9c179e"
             ],
             [
              0.4444444444444444,
              "#bd3786"
             ],
             [
              0.5555555555555556,
              "#d8576b"
             ],
             [
              0.6666666666666666,
              "#ed7953"
             ],
             [
              0.7777777777777778,
              "#fb9f3a"
             ],
             [
              0.8888888888888888,
              "#fdca26"
             ],
             [
              1,
              "#f0f921"
             ]
            ],
            "type": "histogram2d"
           }
          ],
          "histogram2dcontour": [
           {
            "colorbar": {
             "outlinewidth": 0,
             "ticks": ""
            },
            "colorscale": [
             [
              0,
              "#0d0887"
             ],
             [
              0.1111111111111111,
              "#46039f"
             ],
             [
              0.2222222222222222,
              "#7201a8"
             ],
             [
              0.3333333333333333,
              "#9c179e"
             ],
             [
              0.4444444444444444,
              "#bd3786"
             ],
             [
              0.5555555555555556,
              "#d8576b"
             ],
             [
              0.6666666666666666,
              "#ed7953"
             ],
             [
              0.7777777777777778,
              "#fb9f3a"
             ],
             [
              0.8888888888888888,
              "#fdca26"
             ],
             [
              1,
              "#f0f921"
             ]
            ],
            "type": "histogram2dcontour"
           }
          ],
          "mesh3d": [
           {
            "colorbar": {
             "outlinewidth": 0,
             "ticks": ""
            },
            "type": "mesh3d"
           }
          ],
          "parcoords": [
           {
            "line": {
             "colorbar": {
              "outlinewidth": 0,
              "ticks": ""
             }
            },
            "type": "parcoords"
           }
          ],
          "pie": [
           {
            "automargin": true,
            "type": "pie"
           }
          ],
          "scatter": [
           {
            "fillpattern": {
             "fillmode": "overlay",
             "size": 10,
             "solidity": 0.2
            },
            "type": "scatter"
           }
          ],
          "scatter3d": [
           {
            "line": {
             "colorbar": {
              "outlinewidth": 0,
              "ticks": ""
             }
            },
            "marker": {
             "colorbar": {
              "outlinewidth": 0,
              "ticks": ""
             }
            },
            "type": "scatter3d"
           }
          ],
          "scattercarpet": [
           {
            "marker": {
             "colorbar": {
              "outlinewidth": 0,
              "ticks": ""
             }
            },
            "type": "scattercarpet"
           }
          ],
          "scattergeo": [
           {
            "marker": {
             "colorbar": {
              "outlinewidth": 0,
              "ticks": ""
             }
            },
            "type": "scattergeo"
           }
          ],
          "scattergl": [
           {
            "marker": {
             "colorbar": {
              "outlinewidth": 0,
              "ticks": ""
             }
            },
            "type": "scattergl"
           }
          ],
          "scattermapbox": [
           {
            "marker": {
             "colorbar": {
              "outlinewidth": 0,
              "ticks": ""
             }
            },
            "type": "scattermapbox"
           }
          ],
          "scatterpolar": [
           {
            "marker": {
             "colorbar": {
              "outlinewidth": 0,
              "ticks": ""
             }
            },
            "type": "scatterpolar"
           }
          ],
          "scatterpolargl": [
           {
            "marker": {
             "colorbar": {
              "outlinewidth": 0,
              "ticks": ""
             }
            },
            "type": "scatterpolargl"
           }
          ],
          "scatterternary": [
           {
            "marker": {
             "colorbar": {
              "outlinewidth": 0,
              "ticks": ""
             }
            },
            "type": "scatterternary"
           }
          ],
          "surface": [
           {
            "colorbar": {
             "outlinewidth": 0,
             "ticks": ""
            },
            "colorscale": [
             [
              0,
              "#0d0887"
             ],
             [
              0.1111111111111111,
              "#46039f"
             ],
             [
              0.2222222222222222,
              "#7201a8"
             ],
             [
              0.3333333333333333,
              "#9c179e"
             ],
             [
              0.4444444444444444,
              "#bd3786"
             ],
             [
              0.5555555555555556,
              "#d8576b"
             ],
             [
              0.6666666666666666,
              "#ed7953"
             ],
             [
              0.7777777777777778,
              "#fb9f3a"
             ],
             [
              0.8888888888888888,
              "#fdca26"
             ],
             [
              1,
              "#f0f921"
             ]
            ],
            "type": "surface"
           }
          ],
          "table": [
           {
            "cells": {
             "fill": {
              "color": "#EBF0F8"
             },
             "line": {
              "color": "white"
             }
            },
            "header": {
             "fill": {
              "color": "#C8D4E3"
             },
             "line": {
              "color": "white"
             }
            },
            "type": "table"
           }
          ]
         },
         "layout": {
          "annotationdefaults": {
           "arrowcolor": "#2a3f5f",
           "arrowhead": 0,
           "arrowwidth": 1
          },
          "autotypenumbers": "strict",
          "coloraxis": {
           "colorbar": {
            "outlinewidth": 0,
            "ticks": ""
           }
          },
          "colorscale": {
           "diverging": [
            [
             0,
             "#8e0152"
            ],
            [
             0.1,
             "#c51b7d"
            ],
            [
             0.2,
             "#de77ae"
            ],
            [
             0.3,
             "#f1b6da"
            ],
            [
             0.4,
             "#fde0ef"
            ],
            [
             0.5,
             "#f7f7f7"
            ],
            [
             0.6,
             "#e6f5d0"
            ],
            [
             0.7,
             "#b8e186"
            ],
            [
             0.8,
             "#7fbc41"
            ],
            [
             0.9,
             "#4d9221"
            ],
            [
             1,
             "#276419"
            ]
           ],
           "sequential": [
            [
             0,
             "#0d0887"
            ],
            [
             0.1111111111111111,
             "#46039f"
            ],
            [
             0.2222222222222222,
             "#7201a8"
            ],
            [
             0.3333333333333333,
             "#9c179e"
            ],
            [
             0.4444444444444444,
             "#bd3786"
            ],
            [
             0.5555555555555556,
             "#d8576b"
            ],
            [
             0.6666666666666666,
             "#ed7953"
            ],
            [
             0.7777777777777778,
             "#fb9f3a"
            ],
            [
             0.8888888888888888,
             "#fdca26"
            ],
            [
             1,
             "#f0f921"
            ]
           ],
           "sequentialminus": [
            [
             0,
             "#0d0887"
            ],
            [
             0.1111111111111111,
             "#46039f"
            ],
            [
             0.2222222222222222,
             "#7201a8"
            ],
            [
             0.3333333333333333,
             "#9c179e"
            ],
            [
             0.4444444444444444,
             "#bd3786"
            ],
            [
             0.5555555555555556,
             "#d8576b"
            ],
            [
             0.6666666666666666,
             "#ed7953"
            ],
            [
             0.7777777777777778,
             "#fb9f3a"
            ],
            [
             0.8888888888888888,
             "#fdca26"
            ],
            [
             1,
             "#f0f921"
            ]
           ]
          },
          "colorway": [
           "#636efa",
           "#EF553B",
           "#00cc96",
           "#ab63fa",
           "#FFA15A",
           "#19d3f3",
           "#FF6692",
           "#B6E880",
           "#FF97FF",
           "#FECB52"
          ],
          "font": {
           "color": "#2a3f5f"
          },
          "geo": {
           "bgcolor": "white",
           "lakecolor": "white",
           "landcolor": "#E5ECF6",
           "showlakes": true,
           "showland": true,
           "subunitcolor": "white"
          },
          "hoverlabel": {
           "align": "left"
          },
          "hovermode": "closest",
          "mapbox": {
           "style": "light"
          },
          "paper_bgcolor": "white",
          "plot_bgcolor": "#E5ECF6",
          "polar": {
           "angularaxis": {
            "gridcolor": "white",
            "linecolor": "white",
            "ticks": ""
           },
           "bgcolor": "#E5ECF6",
           "radialaxis": {
            "gridcolor": "white",
            "linecolor": "white",
            "ticks": ""
           }
          },
          "scene": {
           "xaxis": {
            "backgroundcolor": "#E5ECF6",
            "gridcolor": "white",
            "gridwidth": 2,
            "linecolor": "white",
            "showbackground": true,
            "ticks": "",
            "zerolinecolor": "white"
           },
           "yaxis": {
            "backgroundcolor": "#E5ECF6",
            "gridcolor": "white",
            "gridwidth": 2,
            "linecolor": "white",
            "showbackground": true,
            "ticks": "",
            "zerolinecolor": "white"
           },
           "zaxis": {
            "backgroundcolor": "#E5ECF6",
            "gridcolor": "white",
            "gridwidth": 2,
            "linecolor": "white",
            "showbackground": true,
            "ticks": "",
            "zerolinecolor": "white"
           }
          },
          "shapedefaults": {
           "line": {
            "color": "#2a3f5f"
           }
          },
          "ternary": {
           "aaxis": {
            "gridcolor": "white",
            "linecolor": "white",
            "ticks": ""
           },
           "baxis": {
            "gridcolor": "white",
            "linecolor": "white",
            "ticks": ""
           },
           "bgcolor": "#E5ECF6",
           "caxis": {
            "gridcolor": "white",
            "linecolor": "white",
            "ticks": ""
           }
          },
          "title": {
           "x": 0.05
          },
          "xaxis": {
           "automargin": true,
           "gridcolor": "white",
           "linecolor": "white",
           "ticks": "",
           "title": {
            "standoff": 15
           },
           "zerolinecolor": "white",
           "zerolinewidth": 2
          },
          "yaxis": {
           "automargin": true,
           "gridcolor": "white",
           "linecolor": "white",
           "ticks": "",
           "title": {
            "standoff": 15
           },
           "zerolinecolor": "white",
           "zerolinewidth": 2
          }
         }
        },
        "xaxis": {
         "anchor": "y",
         "domain": [
          0,
          1
         ],
         "title": {
          "text": "bmi"
         }
        },
        "yaxis": {
         "anchor": "x",
         "domain": [
          0,
          1
         ],
         "title": {
          "text": "charges"
         }
        }
       }
      },
      "text/html": [
       "<div>                            <div id=\"4f5db276-873b-4d5e-836b-05f0697ec626\" class=\"plotly-graph-div\" style=\"height:525px; width:100%;\"></div>            <script type=\"text/javascript\">                require([\"plotly\"], function(Plotly) {                    window.PLOTLYENV=window.PLOTLYENV || {};                                    if (document.getElementById(\"4f5db276-873b-4d5e-836b-05f0697ec626\")) {                    Plotly.newPlot(                        \"4f5db276-873b-4d5e-836b-05f0697ec626\",                        [{\"customdata\":[[0,19],[0,62],[0,27],[0,30],[1,34],[2,31],[0,22],[1,28],[1,35],[0,60],[1,36],[1,48],[0,36],[2,58],[2,18],[1,53],[0,20],[3,28],[0,27],[1,22],[2,37],[2,45],[0,57],[3,59],[2,64],[0,56],[0,38],[3,61],[1,20],[0,63],[1,29],[1,44],[0,19],[2,32],[2,34],[3,30],[3,46],[0,42],[0,48],[0,18],[0,30],[0,42],[0,18],[0,63],[3,36],[0,27],[2,35],[0,19],[0,42],[2,40],[0,19],[2,23],[0,63],[2,18],[2,63],[2,54],[0,50],[0,56],[0,19],[1,20],[3,52],[0,19],[3,46],[1,40],[2,50],[1,40],[3,54],[1,59],[2,25],[0,19],[1,47],[3,31],[3,53],[3,43],[0,27],[0,34],[2,45],[1,64],[1,61],[0,52],[1,50],[0,19],[2,26],[0,23],[3,39],[0,24],[2,27],[0,55],[1,44],[2,26],[2,36],[0,63],[0,64],[0,61],[1,40],[0,33],[1,56],[0,42],[1,30],[3,54],[1,61],[0,24],[0,44],[4,21],[0,29],[1,51],[0,19],[1,39],[1,42],[1,57],[0,54],[2,49],[0,43],[3,35],[2,48],[1,31],[1,34],[1,21],[0,19],[0,59],[2,30],[1,47],[2,49],[0,19],[4,37],[0,18],[0,44],[0,39],[3,42],[2,52],[0,64],[2,43],[2,40],[0,62],[2,44],[3,60],[2,39],[1,27],[1,41],[0,51],[3,30],[1,29],[3,35],[0,37],[3,23],[2,29],[0,27],[0,53],[0,37],[0,47],[0,18],[1,33],[0,19],[3,30],[1,50],[0,53],[0,27],[0,33],[0,18],[1,47],[0,33],[2,56],[1,36],[3,41],[2,23],[0,57],[0,60],[0,37],[0,46],[3,49],[0,48],[0,25],[2,37],[3,51],[1,32],[0,57],[0,64],[2,47],[2,43],[0,60],[0,32],[0,18],[0,43],[0,45],[1,37],[3,25],[2,51],[2,44],[1,34],[1,54],[1,43],[2,51],[0,29],[3,31],[0,24],[3,27],[2,30],[0,24],[3,47],[2,43],[3,22],[1,47],[1,19],[1,46],[0,55],[0,18],[2,22],[1,45],[0,35],[0,20],[2,43],[1,22],[0,49],[3,47],[1,59],[1,37],[0,28],[5,39],[0,47],[0,22],[2,51],[2,33],[3,38],[3,48],[2,25],[1,33],[0,23],[3,53],[1,23],[0,19],[0,60],[3,43],[0,19],[1,18],[2,43],[1,52],[0,31],[1,23],[3,20],[1,43],[0,19],[3,18],[2,36],[1,37],[1,46],[0,20],[3,52],[0,20],[2,52],[2,64],[1,32],[0,24],[0,20],[0,64],[0,24],[0,26],[1,39],[2,47],[0,18],[1,61],[2,20],[0,19],[0,45],[3,62],[0,43],[2,42],[0,29],[4,32],[0,25],[2,19],[3,30],[0,62],[2,42],[0,61]],\"hovertemplate\":\"smoker=yes<br>bmi=%{x}<br>charges=%{y}<br>children=%{customdata[0]}<br>age=%{customdata[1]}<extra></extra>\",\"legendgroup\":\"yes\",\"marker\":{\"color\":\"#636efa\",\"symbol\":\"circle\"},\"mode\":\"markers\",\"name\":\"yes\",\"showlegend\":true,\"x\":[27.9,26.29,42.13,35.3,31.92,36.3,35.6,36.4,36.67,39.9,35.2,28.0,34.43,36.955,31.68,22.88,22.42,23.98,24.75,37.62,34.8,22.895,31.16,29.83,31.3,19.95,19.3,29.92,28.025,35.09,27.94,31.35,28.3,17.765,25.3,28.69,30.495,23.37,24.42,25.175,35.53,26.6,36.85,37.7,41.895,36.08,27.74,34.8,24.64,22.22,29.07,36.67,27.74,17.29,32.2,34.21,31.825,33.63,31.92,26.84,24.32,36.955,42.35,19.8,34.2,28.12,40.565,36.765,45.54,27.7,25.41,34.39,22.61,35.97,31.4,30.8,36.48,33.8,36.385,27.36,32.3,21.7,32.9,28.31,24.89,40.15,17.955,30.685,20.235,17.195,22.6,26.98,33.88,35.86,32.775,33.5,26.695,30.0,28.38,25.1,28.31,28.5,38.06,25.7,34.4,23.21,30.25,28.3,26.07,42.13,47.41,25.84,46.2,34.105,40.565,38.095,30.21,21.85,28.31,23.655,37.8,36.63,25.6,33.11,34.1,33.535,38.95,26.41,28.31,25.3,22.99,38.06,32.775,32.015,43.89,31.35,35.3,31.13,35.75,38.06,39.05,21.755,24.42,38.39,31.73,35.5,29.15,34.105,26.4,27.83,38.17,27.1,28.88,24.4,27.6,20.9,28.5,24.795,42.24,26.125,35.53,31.79,28.025,30.78,32.78,29.81,32.45,30.78,35.53,23.845,33.11,24.13,47.6,37.05,28.93,28.975,26.885,38.94,20.045,40.92,24.6,31.73,26.885,22.895,34.2,29.7,42.9,30.2,27.835,30.8,34.96,24.795,22.895,25.9,20.52,20.045,22.99,32.7,28.215,20.13,31.02,36.08,26.03,23.655,35.2,21.565,37.07,30.495,28.025,30.685,24.7,52.58,30.9,29.8,41.14,37.07,31.68,18.3,36.19,30.4,34.96,19.095,38.39,25.85,33.33,35.75,31.4,36.86,42.75,32.49,32.8,32.56,44.88,27.36,26.7,24.13,29.81,28.49,35.625,25.27,30.02,27.28,33.4,25.555,34.6,24.42,34.485,21.8,41.8,36.96,33.63,29.83,27.3,23.76,31.065,27.06,29.925,27.645,21.66,36.3,39.4,34.9,30.36,30.875,27.8,24.605,21.85,28.12,30.2,34.7,23.655,26.695,40.37,29.07],\"xaxis\":\"x\",\"y\":[16884.924,27808.7251,39611.7577,36837.467,37701.8768,38711.0,35585.576,51194.55914,39774.2763,48173.361,38709.176,23568.272,37742.5757,47496.49445,34303.1672,23244.7902,14711.7438,17663.1442,16577.7795,37165.1638,39836.519,21098.55405,43578.9394,30184.9367,47291.055,22412.6485,15820.699,30942.1918,17560.37975,47055.5321,19107.7796,39556.4945,17081.08,32734.1863,18972.495,20745.9891,40720.55105,19964.7463,21223.6758,15518.18025,36950.2567,21348.706,36149.4835,48824.45,43753.33705,37133.8982,20984.0936,34779.615,19515.5416,19444.2658,17352.6803,38511.6283,29523.1656,12829.4551,47305.305,44260.7499,41097.16175,43921.1837,33750.2918,17085.2676,24869.8368,36219.40545,46151.1245,17179.522,42856.838,22331.5668,48549.17835,47896.79135,42112.2356,16297.846,21978.6769,38746.3551,24873.3849,42124.5153,34838.873,35491.64,42760.5022,47928.03,48517.56315,24393.6224,41919.097,13844.506,36085.219,18033.9679,21659.9301,38126.2465,15006.57945,42303.69215,19594.80965,14455.64405,18608.262,28950.4692,46889.2612,46599.1084,39125.33225,37079.372,26109.32905,22144.032,19521.9682,25382.297,28868.6639,35147.52848,48885.13561,17942.106,36197.699,22218.1149,32548.3405,21082.16,38245.59327,48675.5177,63770.42801,23807.2406,45863.205,39983.42595,45702.02235,58571.07448,43943.8761,15359.1045,17468.9839,25678.77845,39241.442,42969.8527,23306.547,34439.8559,40182.246,34617.84065,42983.4585,20149.3229,32787.45859,24667.419,27037.9141,42560.4304,40003.33225,45710.20785,46200.9851,46130.5265,40103.89,34806.4677,40273.6455,44400.4064,40932.4295,16657.71745,19361.9988,40419.0191,36189.1017,44585.45587,18246.4955,43254.41795,19539.243,23065.4207,36307.7983,19040.876,17748.5062,18259.216,24520.264,21195.818,18310.742,17904.52705,38792.6856,23401.30575,55135.40209,43813.8661,20773.62775,39597.4072,36021.0112,27533.9129,45008.9555,37270.1512,42111.6647,24106.91255,40974.1649,15817.9857,46113.511,46255.1125,19719.6947,27218.43725,29330.98315,44202.6536,19798.05455,48673.5588,17496.306,33732.6867,21774.32215,35069.37452,39047.285,19933.458,47462.894,38998.546,20009.63365,41999.52,41034.2214,23967.38305,16138.76205,19199.944,14571.8908,16420.49455,17361.7661,34472.841,24915.22085,18767.7377,35595.5898,42211.1382,16450.8947,21677.28345,44423.803,13747.87235,37484.4493,39725.51805,20234.85475,33475.81715,21880.82,44501.3982,39727.614,25309.489,48970.2476,39871.7043,34672.1472,19023.26,41676.0811,33907.548,44641.1974,16776.30405,41949.2441,24180.9335,36124.5737,38282.7495,34166.273,46661.4424,40904.1995,36898.73308,52590.82939,40941.2854,39722.7462,17178.6824,22478.6,23887.6627,19350.3689,18328.2381,37465.34375,21771.3423,33307.5508,18223.4512,38415.474,20296.86345,41661.602,26125.67477,60021.39897,20167.33603,47269.854,49577.6624,37607.5277,18648.4217,16232.847,26926.5144,34254.05335,17043.3414,22462.04375,24535.69855,14283.4594,47403.88,38344.566,34828.654,62592.87309,46718.16325,37829.7242,21259.37795,16115.3045,21472.4788,33900.653,36397.576,18765.87545,28101.33305,43896.3763,29141.3603],\"yaxis\":\"y\",\"type\":\"scattergl\"},{\"customdata\":[[1,18],[3,28],[0,33],[0,32],[0,31],[1,46],[3,37],[2,37],[0,60],[0,25],[0,23],[0,56],[1,19],[1,52],[0,23],[0,56],[0,60],[1,30],[0,18],[2,37],[3,59],[0,63],[2,55],[1,23],[0,18],[5,19],[0,63],[0,19],[3,62],[0,26],[0,24],[2,31],[1,41],[2,37],[1,38],[0,55],[2,18],[0,28],[0,60],[0,18],[2,21],[3,40],[2,58],[2,34],[3,43],[4,25],[1,64],[1,28],[0,19],[2,61],[1,40],[0,40],[5,31],[3,53],[1,58],[2,44],[0,57],[1,29],[0,21],[0,22],[0,41],[1,31],[0,45],[4,48],[0,56],[0,46],[0,55],[0,21],[1,53],[2,35],[1,28],[3,54],[0,55],[0,41],[0,30],[0,18],[1,34],[1,19],[2,26],[0,29],[1,54],[2,55],[0,37],[0,21],[3,52],[0,60],[0,58],[0,49],[2,37],[2,44],[0,18],[0,20],[3,47],[0,26],[0,52],[2,38],[0,59],[0,61],[2,53],[0,19],[0,20],[0,22],[0,19],[0,22],[3,54],[0,22],[2,34],[1,26],[2,29],[3,29],[1,51],[1,53],[1,19],[1,35],[0,48],[3,32],[1,40],[0,44],[3,50],[1,54],[2,32],[0,37],[4,47],[5,20],[3,32],[1,19],[3,27],[0,63],[0,49],[0,18],[1,35],[0,24],[2,38],[1,54],[2,46],[3,41],[0,58],[0,18],[3,22],[0,44],[2,44],[2,26],[3,30],[1,41],[2,29],[0,61],[0,36],[0,25],[1,56],[0,18],[0,19],[0,39],[2,45],[0,51],[0,64],[0,19],[1,48],[0,60],[0,46],[1,28],[0,59],[0,63],[1,40],[1,20],[4,40],[2,24],[1,34],[2,45],[2,41],[0,53],[0,27],[1,26],[0,24],[1,34],[0,53],[3,32],[3,55],[0,28],[0,58],[1,41],[2,47],[1,42],[3,59],[0,19],[1,59],[2,39],[0,18],[2,31],[1,44],[1,33],[1,55],[3,40],[0,54],[0,60],[0,24],[1,19],[1,29],[3,27],[3,55],[0,38],[4,51],[0,58],[3,53],[3,59],[1,45],[1,49],[1,18],[2,41],[1,50],[0,25],[2,47],[2,19],[0,22],[2,59],[1,51],[1,30],[1,55],[0,52],[1,46],[2,46],[0,63],[3,52],[0,28],[1,29],[0,22],[3,25],[0,18],[1,48],[3,36],[2,56],[2,28],[2,57],[2,29],[2,28],[1,30],[0,58],[2,41],[0,50],[0,19],[0,49],[0,52],[0,50],[0,54],[0,44],[1,32],[1,34],[4,26],[0,57],[0,29],[1,40],[1,27],[0,52],[0,61],[0,56],[2,43],[0,64],[0,60],[1,62],[1,46],[0,24],[0,62],[0,60],[0,63],[4,49],[3,34],[2,33],[1,46],[1,36],[0,19],[0,57],[0,50],[0,30],[0,33],[0,18],[0,46],[3,46],[3,47],[0,23],[0,18],[2,48],[1,35],[1,21],[2,21],[1,49],[3,56],[2,42],[2,44],[3,18],[0,61],[0,57],[1,42],[0,20],[3,64],[1,62],[0,55],[2,35],[2,44],[0,19],[0,58],[2,50],[0,26],[3,24],[4,48],[0,19],[1,48],[1,49],[2,46],[0,46],[3,43],[0,21],[2,64],[0,18],[0,51],[1,47],[0,64],[3,49],[0,31],[2,52],[0,33],[1,47],[3,38],[1,32],[0,19],[5,25],[0,19],[1,43],[0,52],[1,64],[0,25],[2,48],[5,45],[1,38],[0,18],[1,21],[3,27],[0,19],[2,29],[0,42],[0,60],[1,31],[3,60],[0,22],[3,35],[5,52],[0,26],[1,31],[0,18],[1,59],[0,45],[0,60],[0,56],[0,40],[1,35],[4,39],[1,30],[0,24],[0,20],[2,32],[0,59],[2,55],[0,57],[0,56],[3,40],[3,49],[2,62],[0,56],[0,19],[1,60],[2,56],[1,28],[1,18],[0,27],[0,18],[0,19],[0,47],[0,25],[0,21],[0,23],[3,63],[2,49],[0,18],[1,51],[3,48],[0,31],[3,54],[0,19],[1,53],[0,19],[0,61],[0,18],[0,61],[0,20],[2,31],[2,45],[2,44],[0,62],[0,43],[1,38],[3,37],[1,22],[2,21],[0,24],[0,57],[1,56],[0,27],[0,51],[0,19],[0,58],[1,20],[2,45],[1,35],[0,31],[0,50],[0,32],[0,51],[0,38],[0,18],[2,19],[1,51],[1,46],[0,18],[0,62],[2,59],[0,37],[0,64],[1,38],[3,33],[2,46],[1,46],[0,53],[3,34],[2,20],[0,63],[0,54],[0,28],[2,54],[0,25],[0,63],[0,32],[0,62],[2,52],[0,25],[2,28],[1,46],[0,34],[0,19],[2,46],[0,54],[0,27],[1,50],[2,18],[0,19],[1,38],[2,41],[5,49],[0,31],[1,18],[2,30],[1,62],[2,57],[0,58],[0,22],[1,52],[0,25],[1,59],[0,19],[2,39],[1,32],[0,19],[1,33],[3,21],[0,61],[1,38],[0,58],[1,47],[2,20],[0,41],[1,46],[2,42],[1,34],[2,43],[2,52],[0,18],[0,51],[0,56],[3,64],[0,51],[0,27],[2,28],[1,47],[2,38],[0,18],[3,34],[0,20],[0,56],[0,55],[1,30],[1,49],[0,59],[0,29],[3,36],[1,33],[0,58],[1,53],[0,24],[0,29],[2,40],[1,51],[0,64],[1,19],[2,35],[4,56],[5,33],[0,61],[3,23],[2,43],[3,48],[1,39],[3,40],[0,18],[0,58],[2,49],[1,53],[0,48],[2,45],[0,59],[1,26],[2,27],[1,48],[4,57],[3,37],[1,57],[1,32],[0,18],[1,49],[1,40],[3,30],[0,29],[0,36],[0,41],[0,45],[3,55],[3,56],[2,49],[1,21],[0,19],[0,53],[1,33],[2,53],[2,42],[0,40],[1,47],[0,21],[1,47],[1,20],[0,24],[1,27],[0,26],[2,53],[0,56],[2,23],[0,21],[0,50],[0,53],[1,34],[1,47],[2,33],[3,49],[3,31],[0,36],[1,18],[2,50],[2,43],[0,20],[0,24],[0,60],[1,49],[1,60],[2,51],[0,58],[0,51],[3,53],[0,62],[0,19],[1,50],[1,41],[0,18],[1,41],[1,53],[3,24],[1,48],[3,59],[1,49],[2,26],[2,45],[0,31],[0,50],[1,50],[2,34],[0,19],[1,47],[0,28],[0,21],[0,64],[0,58],[4,24],[2,31],[3,39],[3,30],[2,22],[1,23],[0,27],[2,45],[0,57],[1,47],[1,42],[0,64],[2,38],[3,61],[2,53],[0,44],[2,41],[3,51],[2,40],[0,45],[3,35],[0,53],[0,18],[1,51],[1,31],[3,35],[0,60],[0,21],[3,29],[0,62],[0,39],[0,19],[0,22],[2,39],[2,30],[1,30],[0,58],[1,42],[0,64],[1,21],[0,23],[0,45],[1,40],[0,19],[0,18],[1,25],[3,46],[3,33],[2,54],[2,28],[2,36],[0,20],[0,24],[3,23],[1,45],[0,26],[0,18],[2,44],[0,60],[2,64],[1,39],[0,63],[0,36],[2,28],[0,58],[1,36],[2,42],[0,36],[0,56],[2,35],[0,59],[0,21],[0,59],[0,53],[1,51],[1,23],[0,27],[0,55],[2,61],[2,53],[0,20],[1,25],[0,57],[3,38],[2,55],[0,36],[0,51],[2,40],[0,18],[1,57],[0,61],[3,25],[0,50],[1,26],[0,42],[1,43],[3,44],[0,23],[1,49],[5,33],[1,41],[2,37],[3,22],[1,23],[0,21],[4,25],[0,36],[0,22],[1,57],[4,36],[0,54],[0,62],[0,61],[1,19],[0,18],[0,19],[0,49],[3,26],[0,49],[0,60],[2,26],[3,27],[1,44],[3,63],[1,22],[3,59],[1,44],[2,33],[0,24],[0,61],[1,35],[0,62],[0,62],[1,38],[0,34],[0,43],[2,50],[2,19],[1,57],[0,62],[1,41],[1,26],[1,39],[5,46],[0,45],[2,32],[0,59],[2,44],[5,39],[2,18],[0,53],[0,18],[1,50],[0,18],[0,19],[0,62],[1,56],[2,42],[0,42],[0,57],[1,30],[1,31],[1,24],[1,48],[1,19],[0,29],[1,63],[3,46],[2,52],[1,35],[1,44],[2,21],[5,39],[3,50],[0,34],[0,22],[0,19],[0,26],[0,48],[1,26],[3,45],[0,36],[1,54],[0,34],[1,27],[5,20],[1,44],[3,43],[1,45],[0,34],[1,26],[2,38],[2,50],[1,38],[3,39],[3,39],[0,63],[3,33],[0,36],[0,24],[0,48],[1,47],[2,29],[2,28],[2,25],[1,51],[0,48],[4,61],[1,48],[0,38],[0,59],[1,19],[2,26],[3,54],[2,21],[0,51],[1,18],[1,47],[0,21],[0,23],[0,54],[2,37],[0,30],[0,61],[3,54],[0,22],[2,19],[0,18],[0,28],[1,55],[0,43],[1,25],[1,44],[0,64],[1,49],[0,27],[0,55],[0,48],[0,45],[0,24],[1,32],[0,24],[1,57],[3,36],[4,29],[1,42],[2,48],[0,39],[1,63],[1,54],[0,63],[0,21],[2,54],[0,60],[1,32],[1,47],[0,21],[3,63],[2,18],[1,32],[1,38],[1,32],[2,62],[0,55],[0,57],[1,52],[0,56],[0,55],[3,23],[4,50],[4,18],[0,22],[0,52],[1,25],[3,53],[1,29],[0,58],[0,37],[0,54],[0,49],[2,50],[1,26],[3,45],[1,54],[3,28],[0,23],[1,55],[5,41],[3,30],[2,46],[1,27],[0,63],[0,55],[2,35],[1,34],[0,19],[5,39],[2,27],[0,57],[0,52],[0,28],[3,50],[1,44],[0,26],[0,33],[1,50],[3,41],[0,52],[2,39],[2,50],[3,52],[0,20],[1,55],[0,42],[0,18],[0,58],[1,35],[4,48],[3,36],[2,23],[0,20],[0,32],[1,43],[2,34],[1,30],[0,18],[1,41],[0,35],[0,57],[2,29],[2,32],[1,37],[0,56],[2,38],[2,29],[0,22],[1,40],[0,23],[1,42],[0,24],[0,25],[1,48],[2,45],[0,62],[0,23],[2,31],[1,41],[1,58],[0,48],[0,31],[3,19],[0,41],[1,40],[2,31],[2,37],[2,46],[0,22],[1,51],[1,35],[2,59],[1,59],[1,36],[2,39],[0,18],[2,52],[1,27],[0,18],[0,40],[2,29],[3,38],[1,30],[2,40],[0,50],[1,41],[1,33],[2,38],[2,42],[0,56],[0,58],[3,54],[0,58],[2,45],[0,26],[0,63],[0,58],[3,37],[1,25],[3,22],[0,28],[0,18],[5,28],[3,45],[4,33],[0,18],[0,19],[4,40],[0,34],[0,42],[3,51],[1,54],[3,55],[0,52],[0,32],[1,28],[1,41],[1,43],[2,49],[0,55],[0,20],[3,45],[1,26],[0,25],[5,43],[1,35],[0,57],[0,22],[0,32],[2,25],[0,48],[1,18],[0,47],[0,28],[1,36],[1,44],[2,38],[0,21],[3,46],[0,58],[1,20],[0,18],[2,28],[2,33],[1,19],[1,25],[0,24],[2,41],[1,42],[0,33],[1,34],[1,18],[0,19],[0,18],[4,35],[2,39],[3,31],[0,62],[1,31],[0,61],[0,42],[1,51],[2,23],[2,52],[2,57],[0,23],[3,52],[3,50],[0,18],[0,18],[0,21]],\"hovertemplate\":\"smoker=no<br>bmi=%{x}<br>charges=%{y}<br>children=%{customdata[0]}<br>age=%{customdata[1]}<extra></extra>\",\"legendgroup\":\"no\",\"marker\":{\"color\":\"#EF553B\",\"symbol\":\"circle\"},\"mode\":\"markers\",\"name\":\"no\",\"showlegend\":true,\"x\":[33.77,33.0,22.705,28.88,25.74,33.44,27.74,29.83,25.84,26.22,34.4,39.82,24.6,30.78,23.845,40.3,36.005,32.4,34.1,28.025,27.72,23.085,32.775,17.385,26.315,28.6,28.31,20.425,32.965,20.8,26.6,36.63,21.78,30.8,37.05,37.3,38.665,34.77,24.53,35.625,33.63,28.69,31.825,37.335,27.36,33.66,24.7,25.935,28.9,39.1,26.315,36.19,28.5,28.1,32.01,27.4,34.01,29.59,35.53,39.805,32.965,26.885,38.285,41.23,27.2,27.74,26.98,39.49,24.795,34.77,37.62,30.8,38.28,31.6,25.46,30.115,27.5,28.4,30.875,27.94,33.63,29.7,30.8,35.72,32.205,28.595,49.06,27.17,23.37,37.1,23.75,28.975,33.915,28.785,37.4,34.7,26.505,22.04,35.9,25.555,28.785,28.05,34.1,25.175,31.9,36.0,22.42,32.49,29.735,38.83,37.73,37.43,28.4,24.13,29.7,37.145,25.46,39.52,27.83,39.6,29.8,29.64,28.215,37.0,33.155,31.825,18.905,41.47,30.3,15.96,34.8,33.345,27.835,29.2,28.9,33.155,28.595,38.28,19.95,26.41,30.69,29.92,30.9,32.2,32.11,31.57,26.2,25.74,26.6,34.43,30.59,32.8,28.6,18.05,39.33,32.11,32.23,24.035,22.3,28.88,26.4,31.8,41.23,33.0,30.875,28.5,26.73,30.9,37.1,26.6,23.1,29.92,23.21,33.7,33.25,30.8,33.88,38.06,41.91,31.635,25.46,36.195,27.83,17.8,27.5,24.51,26.73,38.39,38.06,22.135,26.8,35.3,30.02,38.06,35.86,20.9,28.975,30.3,25.365,40.15,24.415,25.2,38.06,32.395,30.2,25.84,29.37,37.05,27.455,27.55,26.6,20.615,24.3,31.79,21.56,27.645,32.395,31.2,26.62,48.07,26.22,26.4,33.4,29.64,28.82,26.8,22.99,28.88,27.55,37.51,33.0,38.0,33.345,27.5,33.33,34.865,33.06,26.6,24.7,35.86,33.25,32.205,32.775,27.645,37.335,25.27,29.64,40.945,27.2,34.105,23.21,36.7,31.16,28.785,35.72,34.5,25.74,27.55,27.72,27.6,30.02,27.55,36.765,41.47,29.26,35.75,33.345,29.92,27.835,23.18,25.6,27.7,35.245,38.28,27.6,43.89,29.83,41.91,20.79,32.3,30.5,26.4,21.89,30.78,32.3,24.985,32.015,30.4,21.09,22.23,33.155,33.33,30.115,31.46,33.0,43.34,22.135,34.4,39.05,25.365,22.61,30.21,35.625,37.43,31.445,31.35,32.3,19.855,34.4,31.02,25.6,38.17,20.6,47.52,32.965,32.3,20.4,38.38,24.31,23.6,21.12,30.03,17.48,23.9,35.15,35.64,34.1,39.16,30.59,30.2,24.31,27.265,29.165,16.815,30.4,33.1,20.235,26.9,30.5,28.595,33.11,31.73,28.9,46.75,29.45,32.68,43.01,36.52,33.1,29.64,25.65,29.6,38.6,29.6,24.13,23.4,29.735,46.53,37.4,30.14,30.495,39.6,33.0,36.63,38.095,25.935,25.175,28.7,33.82,24.32,24.09,32.67,30.115,29.8,33.345,35.625,36.85,32.56,41.325,37.51,31.35,39.5,34.3,31.065,21.47,28.7,31.16,32.9,25.08,25.08,43.4,27.93,23.6,28.7,23.98,39.2,26.03,28.93,30.875,31.35,23.75,25.27,28.7,32.11,33.66,22.42,30.4,35.7,35.31,30.495,31.0,30.875,27.36,44.22,33.915,37.73,33.88,30.59,25.8,39.425,25.46,31.73,29.7,36.19,40.48,28.025,38.9,30.2,28.05,31.35,38.0,31.79,36.3,30.21,35.435,46.7,28.595,30.8,28.93,21.4,31.73,41.325,23.8,33.44,34.21,35.53,19.95,32.68,30.5,44.77,32.12,30.495,40.565,30.59,31.9,29.1,37.29,43.12,36.86,34.295,27.17,26.84,30.2,23.465,25.46,30.59,45.43,23.65,20.7,28.27,20.235,35.91,30.69,29.0,19.57,31.13,40.26,33.725,29.48,33.25,32.6,37.525,39.16,31.635,25.3,39.05,34.1,25.175,26.98,29.37,34.8,33.155,19.0,33.0,28.595,37.1,31.4,21.3,28.785,26.03,28.88,42.46,38.0,36.1,29.3,35.53,22.705,39.7,38.19,24.51,38.095,33.66,42.4,33.915,34.96,35.31,30.78,26.22,23.37,28.5,32.965,42.68,39.6,31.13,36.3,35.2,42.4,33.155,35.91,28.785,46.53,23.98,31.54,33.66,28.7,29.81,31.57,31.16,29.7,31.02,21.375,40.81,36.1,23.18,17.4,20.3,24.32,18.5,26.41,26.125,41.69,24.1,27.36,36.2,32.395,23.655,34.8,40.185,32.3,33.725,39.27,34.87,44.745,41.47,26.41,29.545,32.9,28.69,30.495,27.74,35.2,23.54,30.685,40.47,22.6,28.9,22.61,24.32,36.67,33.44,40.66,36.6,37.4,35.4,27.075,28.405,40.28,36.08,21.4,30.1,27.265,32.1,34.77,23.7,24.035,26.62,26.41,30.115,27.0,21.755,36.0,30.875,28.975,37.905,22.77,33.63,27.645,22.8,37.43,34.58,35.2,26.03,25.175,31.825,32.3,29.0,39.7,19.475,36.1,26.7,36.48,34.2,33.33,32.3,39.805,34.32,28.88,41.14,35.97,29.26,27.7,36.955,36.86,22.515,29.92,41.8,27.6,23.18,31.92,44.22,22.895,33.1,26.18,35.97,22.3,26.51,35.815,41.42,36.575,30.14,25.84,30.8,42.94,21.01,22.515,34.43,31.46,24.225,37.1,33.7,17.67,31.13,29.81,24.32,31.825,21.85,33.1,25.84,23.845,34.39,33.82,35.97,31.5,28.31,23.465,31.35,31.1,24.7,30.495,34.2,50.38,24.1,32.775,32.3,23.75,29.6,32.23,28.1,28.0,33.535,19.855,25.4,29.9,37.29,43.7,23.655,24.3,36.2,29.48,24.86,30.1,21.85,28.12,27.1,33.44,28.8,29.5,34.8,27.36,22.135,26.695,30.02,39.5,33.63,29.04,24.035,32.11,44.0,25.555,40.26,22.515,22.515,27.265,36.85,35.1,29.355,32.585,32.34,39.8,28.31,26.695,27.5,24.605,33.99,28.2,34.21,25.0,33.2,31.0,35.815,23.2,32.11,23.4,20.1,39.16,34.21,46.53,32.5,25.8,35.3,37.18,27.5,29.735,24.225,26.18,29.48,23.21,46.09,40.185,22.61,39.93,35.8,35.8,31.255,18.335,28.405,39.49,26.79,36.67,39.615,25.9,35.2,24.795,36.765,27.1,25.365,25.745,34.32,28.16,23.56,20.235,40.5,35.42,40.15,29.15,39.995,29.92,25.46,21.375,30.59,30.115,25.8,30.115,27.645,34.675,19.8,27.835,31.6,28.27,23.275,34.1,36.85,36.29,26.885,25.8,29.6,19.19,31.73,29.26,24.985,27.74,22.8,33.33,32.3,27.6,25.46,24.605,34.2,35.815,32.68,37.0,23.32,45.32,34.6,18.715,31.6,17.29,27.93,38.38,23.0,28.88,27.265,23.085,25.8,35.245,25.08,22.515,36.955,26.41,29.83,21.47,27.645,28.9,31.79,39.49,33.82,32.01,27.94,28.595,25.6,25.3,37.29,42.655,21.66,31.9,31.445,31.255,28.88,18.335,29.59,32.0,26.03,33.66,21.78,27.835,19.95,31.5,30.495,28.975,31.54,47.74,22.1,29.83,32.7,33.7,31.35,33.77,30.875,33.99,28.6,38.94,36.08,29.8,31.24,29.925,26.22,30.0,20.35,32.3,26.315,24.51,32.67,29.64,19.95,38.17,32.395,25.08,29.9,35.86,32.8,18.6,23.87,45.9,40.28,18.335,33.82,28.12,25.0,22.23,30.25,37.07,32.6,24.86,32.34,32.3,32.775,31.92,21.5,34.1,30.305,36.48,35.815,27.93,22.135,23.18,30.59,41.1,34.58,42.13,38.83,28.215,28.31,26.125,40.37,24.6,35.2,34.105,41.91,29.26,32.11,27.1,27.4,34.865,41.325,29.925,30.3,27.36,23.56,32.68,28.0,32.775,21.755,32.395,36.575,21.755,27.93,33.55,29.355,25.8,24.32,40.375,32.11,32.3,17.86,34.8,37.1,30.875,34.1,21.47,33.3,31.255,39.14,25.08,37.29,30.21,21.945,24.97,25.3,23.94,39.82,16.815,37.18,34.43,30.305,24.605,23.3,27.83,31.065,21.66,28.215,22.705,42.13,21.28,33.11,33.33,24.3,25.7,29.4,39.82,19.8,29.3,27.72,37.9,36.385,27.645,37.715,23.18,20.52,37.1,28.05,29.9,33.345,30.5,33.3,27.5,33.915,34.485,25.52,27.61,23.7,30.4,29.735,26.79,33.33,30.03,24.32,17.29,25.9,34.32,19.95,23.21,25.745,25.175,22.0,26.125,26.51,27.455,25.745,20.8,27.72,32.2,26.315,26.695,42.9,28.31,20.6,53.13,39.71,26.315,31.065,38.83,25.935,33.535,32.87,30.03,24.225,38.6,25.74,33.4,44.7,30.97,31.92,36.85,25.8],\"xaxis\":\"x\",\"y\":[1725.5523,4449.462,21984.47061,3866.8552,3756.6216,8240.5896,7281.5056,6406.4107,28923.13692,2721.3208,1826.843,11090.7178,1837.237,10797.3362,2395.17155,10602.385,13228.84695,4149.736,1137.011,6203.90175,14001.1338,14451.83515,12268.63225,2775.19215,2198.18985,4687.797,13770.0979,1625.43375,15612.19335,2302.3,3046.062,4949.7587,6272.4772,6313.759,6079.6715,20630.28351,3393.35635,3556.9223,12629.8967,2211.13075,3579.8287,8059.6791,13607.36875,5989.52365,8606.2174,4504.6624,30166.61817,4133.64165,1743.214,14235.072,6389.37785,5920.1041,6799.458,11741.726,11946.6259,7726.854,11356.6609,3947.4131,1532.4697,2755.02095,6571.02435,4441.21315,7935.29115,11033.6617,11073.176,8026.6666,11082.5772,2026.9741,10942.13205,5729.0053,3766.8838,12105.32,10226.2842,6186.127,3645.0894,21344.8467,5003.853,2331.519,3877.30425,2867.1196,10825.2537,11881.358,4646.759,2404.7338,11488.31695,30259.99556,11381.3254,8601.3293,6686.4313,7740.337,1705.6245,2257.47525,10115.00885,3385.39915,9634.538,6082.405,12815.44495,13616.3586,11163.568,1632.56445,2457.21115,2155.6815,1261.442,2045.68525,27322.73386,2166.732,27375.90478,3490.5491,18157.876,5138.2567,9877.6077,10959.6947,1842.519,5125.2157,7789.635,6334.34355,7077.1894,6948.7008,19749.38338,10450.552,5152.134,5028.1466,10407.08585,4830.63,6128.79745,2719.27975,4827.90495,13405.3903,8116.68,1694.7964,5246.047,2855.43755,6455.86265,10436.096,8823.279,8538.28845,11735.87905,1631.8212,4005.4225,7419.4779,7731.4271,3981.9768,5325.651,6775.961,4922.9159,12557.6053,4883.866,2137.6536,12044.342,1137.4697,1639.5631,5649.715,8516.829,9644.2525,14901.5167,2130.6759,8871.1517,13012.20865,7147.105,4337.7352,11743.299,13880.949,6610.1097,1980.07,8162.71625,3537.703,5002.7827,8520.026,7371.772,10355.641,2483.736,3392.9768,25081.76784,5012.471,10564.8845,5253.524,11987.1682,2689.4954,24227.33724,7358.17565,9225.2564,7443.64305,14001.2867,1727.785,12333.828,6710.1919,1615.7667,4463.2051,7152.6714,5354.07465,35160.13457,7196.867,24476.47851,12648.7034,1986.9334,1832.094,4040.55825,4260.744,13047.33235,5400.9805,11520.09985,11837.16,20462.99766,14590.63205,7441.053,9282.4806,1719.4363,7265.7025,9617.66245,2523.1695,9715.841,2803.69785,2150.469,12928.7911,9855.1314,4237.12655,11879.10405,9625.92,7742.1098,9432.9253,14256.1928,25992.82104,3172.018,20277.80751,2156.7518,3906.127,1704.5681,9249.4952,6746.7425,12265.5069,4349.462,12646.207,19442.3535,20177.67113,4151.0287,11944.59435,7749.1564,8444.474,1737.376,8124.4084,9722.7695,8835.26495,10435.06525,7421.19455,4667.60765,4894.7533,24671.66334,11566.30055,2866.091,6600.20595,3561.8889,9144.565,13429.0354,11658.37915,19144.57652,13822.803,12142.5786,13937.6665,8232.6388,18955.22017,13352.0998,13217.0945,13981.85035,10977.2063,6184.2994,4889.9995,8334.45755,5478.0368,1635.73365,11830.6072,8932.084,3554.203,12404.8791,14133.03775,24603.04837,8944.1151,9620.3307,1837.2819,1607.5101,10043.249,4751.07,2597.779,3180.5101,9778.3472,13430.265,8017.06115,8116.26885,3481.868,13415.0381,12029.2867,7639.41745,1391.5287,16455.70785,27000.98473,20781.48892,5846.9176,8302.53565,1261.859,11856.4115,30284.64294,3176.8159,4618.0799,10736.87075,2138.0707,8964.06055,9290.1395,9411.005,7526.70645,8522.003,16586.49771,14988.432,1631.6683,9264.797,8083.9198,14692.66935,10269.46,3260.199,11396.9002,4185.0979,8539.671,6652.5288,4074.4537,1621.3402,5080.096,2134.9015,7345.7266,9140.951,14418.2804,2727.3951,8968.33,9788.8659,6555.07035,7323.734819,3167.45585,18804.7524,23082.95533,4906.40965,5969.723,12638.195,4243.59005,13919.8229,2254.7967,5926.846,12592.5345,2897.3235,4738.2682,1149.3959,28287.89766,7345.084,12730.9996,11454.0215,5910.944,4762.329,7512.267,4032.2407,1969.614,1769.53165,4686.3887,21797.0004,11881.9696,11840.77505,10601.412,7682.67,10381.4787,15230.32405,11165.41765,1632.03625,13224.693,12643.3778,23288.9284,2201.0971,2497.0383,2203.47185,1744.465,20878.78443,2534.39375,1534.3045,1824.2854,15555.18875,9304.7019,1622.1885,9880.068,9563.029,4347.02335,12475.3513,1253.936,10461.9794,1748.774,24513.09126,2196.4732,12574.049,1967.0227,4931.647,8027.968,8211.1002,13470.86,6837.3687,5974.3847,6796.86325,2643.2685,3077.0955,3044.2133,11455.28,11763.0009,2498.4144,9361.3268,1256.299,11362.755,27724.28875,8413.46305,5240.765,3857.75925,25656.57526,3994.1778,9866.30485,5397.6167,11482.63485,24059.68019,9861.025,8342.90875,1708.0014,14043.4767,12925.886,19214.70553,13831.1152,6067.12675,5972.378,8825.086,8233.0975,27346.04207,6196.448,3056.3881,13887.204,10231.4999,3268.84665,11538.421,3213.62205,13390.559,3972.9247,12957.118,11187.6567,17878.90068,3847.674,8334.5896,3935.1799,1646.4297,9193.8385,10923.9332,2494.022,9058.7303,2801.2588,2128.43105,6373.55735,7256.7231,11552.904,3761.292,2219.4451,4753.6368,31620.00106,13224.05705,12222.8983,1664.9996,9724.53,3206.49135,12913.9924,1639.5631,6356.2707,17626.23951,1242.816,4779.6023,3861.20965,13635.6379,5976.8311,11842.442,8428.0693,2566.4707,5709.1644,8823.98575,7640.3092,5594.8455,7441.501,33471.97189,1633.0444,9174.13565,11070.535,16085.1275,9283.562,3558.62025,4435.0942,8547.6913,6571.544,2207.69745,6753.038,1880.07,11658.11505,10713.644,3659.346,9182.17,12129.61415,3736.4647,6748.5912,11326.71487,11365.952,10085.846,1977.815,3366.6697,7173.35995,9391.346,14410.9321,2709.1119,24915.04626,12949.1554,6666.243,13143.86485,4466.6214,18806.14547,10141.1362,6123.5688,8252.2843,1712.227,12430.95335,9800.8882,10579.711,8280.6227,8527.532,12244.531,3410.324,4058.71245,26392.26029,14394.39815,6435.6237,22192.43711,5148.5526,1136.3994,8703.456,6500.2359,4837.5823,3943.5954,4399.731,6185.3208,7222.78625,12485.8009,12363.547,10156.7832,2585.269,1242.26,9863.4718,4766.022,11244.3769,7729.64575,5438.7491,26236.57997,2104.1134,8068.185,2362.22905,2352.96845,3577.999,3201.24515,29186.48236,10976.24575,3500.6123,2020.5523,9541.69555,9504.3103,5385.3379,8930.93455,5375.038,10264.4421,6113.23105,5469.0066,1727.54,10107.2206,8310.83915,1984.4533,2457.502,12146.971,9566.9909,13112.6048,10848.1343,12231.6136,9875.6804,11264.541,12979.358,1263.249,10106.13425,6664.68595,2217.6012,6781.3542,10065.413,4234.927,9447.25035,14007.222,9583.8933,3484.331,8604.48365,3757.8448,8827.2099,9910.35985,11737.84884,1627.28245,8556.907,3062.50825,1906.35825,14210.53595,11833.7823,17128.42608,5031.26955,7985.815,5428.7277,3925.7582,2416.955,3070.8087,9095.06825,11842.62375,8062.764,7050.642,14319.031,6933.24225,27941.28758,11150.78,12797.20962,7261.741,10560.4917,6986.697,7448.40395,5934.3798,9869.8102,1146.7966,9386.1613,4350.5144,6414.178,12741.16745,1917.3184,5209.57885,13457.9608,5662.225,1252.407,2731.9122,7209.4918,4266.1658,4719.52405,11848.141,7046.7222,14313.8463,2103.08,1815.8759,7731.85785,28476.73499,2136.88225,1131.5066,3309.7926,9414.92,6360.9936,11013.7119,4428.88785,5584.3057,1877.9294,2842.76075,3597.596,7445.918,2680.9493,1621.8827,8219.2039,12523.6048,16069.08475,6117.4945,13393.756,5266.3656,4719.73655,11743.9341,5377.4578,7160.3303,4402.233,11657.7189,6402.29135,12622.1795,1526.312,12323.936,10072.05505,9872.701,2438.0552,2974.126,10601.63225,14119.62,11729.6795,1875.344,18218.16139,10965.446,7151.092,12269.68865,5458.04645,8782.469,6600.361,1141.4451,11576.13,13129.60345,4391.652,8457.818,3392.3652,5966.8874,6849.026,8891.1395,2690.1138,26140.3603,6653.7886,6282.235,6311.952,3443.064,2789.0574,2585.85065,4877.98105,5272.1758,1682.597,11945.1327,7243.8136,10422.91665,13555.0049,13063.883,2221.56445,1634.5734,2117.33885,8688.85885,4661.28635,8125.7845,12644.589,4564.19145,4846.92015,7633.7206,15170.069,2639.0429,14382.70905,7626.993,5257.50795,2473.3341,13041.921,5245.2269,13451.122,13462.52,5488.262,4320.41085,6250.435,25333.33284,2913.569,12032.326,13470.8044,6289.7549,2927.0647,6238.298,10096.97,7348.142,4673.3922,12233.828,32108.66282,8965.79575,2304.0022,9487.6442,1121.8739,9549.5651,2217.46915,1628.4709,12982.8747,11674.13,7160.094,6358.77645,11534.87265,4527.18295,3875.7341,12609.88702,28468.91901,2730.10785,3353.284,14474.675,9500.57305,26467.09737,4746.344,7518.02535,3279.86855,8596.8278,10702.6424,4992.3764,2527.81865,1759.338,2322.6218,7804.1605,2902.9065,9704.66805,4889.0368,25517.11363,4500.33925,16796.41194,4915.05985,7624.63,8410.04685,28340.18885,4518.82625,3378.91,7144.86265,10118.424,5484.4673,7986.47525,7418.522,13887.9685,6551.7501,5267.81815,1972.95,21232.18226,8627.5411,4433.3877,4438.2634,23241.47453,9957.7216,8269.044,36580.28216,8765.249,5383.536,12124.9924,2709.24395,3987.926,12495.29085,26018.95052,8798.593,1711.0268,8569.8618,2020.177,21595.38229,9850.432,6877.9801,4137.5227,12950.0712,12094.478,2250.8352,22493.65964,1704.70015,3161.454,11394.06555,7325.0482,3594.17085,8023.13545,14394.5579,9288.0267,3353.4703,10594.50155,8277.523,17929.30337,2480.9791,4462.7218,1981.5819,11554.2236,6548.19505,5708.867,7045.499,8978.1851,5757.41345,14349.8544,10928.849,13974.45555,1909.52745,12096.6512,13204.28565,4562.8421,8551.347,2102.2647,15161.5344,11884.04858,4454.40265,5855.9025,4076.497,15019.76005,10796.35025,11353.2276,9748.9106,10577.087,11286.5387,3591.48,11299.343,4561.1885,1674.6323,23045.56616,3227.1211,11253.421,3471.4096,11363.2832,20420.60465,10338.9316,8988.15875,10493.9458,2904.088,8605.3615,11512.405,5312.16985,2396.0959,10807.4863,9222.4026,5693.4305,8347.1643,18903.49141,14254.6082,10214.636,5836.5204,14358.36437,1728.897,8582.3023,3693.428,20709.02034,9991.03765,19673.33573,11085.5868,7623.518,3176.2877,3704.3545,9048.0273,7954.517,27117.99378,6338.0756,9630.397,11289.10925,2261.5688,10791.96,5979.731,2203.73595,12235.8392,5630.45785,11015.1747,7228.21565,14426.07385,2459.7201,3989.841,7727.2532,5124.1887,18963.17192,2200.83085,7153.5539,5227.98875,10982.5013,4529.477,4670.64,6112.35295,11093.6229,6457.8434,4433.9159,2154.361,6496.886,2899.48935,7650.77375,2850.68375,2632.992,9447.3824,8603.8234,13844.7972,13126.67745,5327.40025,13725.47184,13019.16105,8671.19125,4134.08245,18838.70366,5699.8375,6393.60345,4934.705,6198.7518,8733.22925,2055.3249,9964.06,5116.5004,36910.60803,12347.172,5373.36425,23563.01618,1702.4553,10806.839,3956.07145,12890.05765,5415.6612,4058.1161,7537.1639,4718.20355,6593.5083,8442.667,6858.4796,4795.6568,6640.54485,7162.0122,10594.2257,11938.25595,12479.70895,11345.519,8515.7587,2699.56835,14449.8544,12224.35085,6985.50695,3238.4357,4296.2712,3171.6149,1135.9407,5615.369,9101.798,6059.173,1633.9618,1241.565,15828.82173,4415.1588,6474.013,11436.73815,11305.93455,30063.58055,10197.7722,4544.2348,3277.161,6770.1925,7337.748,10370.91255,10704.47,1880.487,8615.3,3292.52985,3021.80915,14478.33015,4747.0529,10959.33,2741.948,4357.04365,4189.1131,8283.6807,1720.3537,8534.6718,3732.6251,5472.449,7147.4728,7133.9025,1515.3449,9301.89355,11931.12525,1964.78,1708.92575,4340.4409,5261.46945,2710.82855,3208.787,2464.6188,6875.961,6940.90985,4571.41305,4536.259,11272.33139,1731.677,1163.4627,19496.71917,7201.70085,5425.02335,12981.3457,4239.89265,13143.33665,7050.0213,9377.9047,22395.74424,10325.206,12629.1656,10795.93733,11411.685,10600.5483,2205.9808,1629.8335,2007.945],\"yaxis\":\"y\",\"type\":\"scattergl\"}],                        {\"template\":{\"data\":{\"histogram2dcontour\":[{\"type\":\"histogram2dcontour\",\"colorbar\":{\"outlinewidth\":0,\"ticks\":\"\"},\"colorscale\":[[0.0,\"#0d0887\"],[0.1111111111111111,\"#46039f\"],[0.2222222222222222,\"#7201a8\"],[0.3333333333333333,\"#9c179e\"],[0.4444444444444444,\"#bd3786\"],[0.5555555555555556,\"#d8576b\"],[0.6666666666666666,\"#ed7953\"],[0.7777777777777778,\"#fb9f3a\"],[0.8888888888888888,\"#fdca26\"],[1.0,\"#f0f921\"]]}],\"choropleth\":[{\"type\":\"choropleth\",\"colorbar\":{\"outlinewidth\":0,\"ticks\":\"\"}}],\"histogram2d\":[{\"type\":\"histogram2d\",\"colorbar\":{\"outlinewidth\":0,\"ticks\":\"\"},\"colorscale\":[[0.0,\"#0d0887\"],[0.1111111111111111,\"#46039f\"],[0.2222222222222222,\"#7201a8\"],[0.3333333333333333,\"#9c179e\"],[0.4444444444444444,\"#bd3786\"],[0.5555555555555556,\"#d8576b\"],[0.6666666666666666,\"#ed7953\"],[0.7777777777777778,\"#fb9f3a\"],[0.8888888888888888,\"#fdca26\"],[1.0,\"#f0f921\"]]}],\"heatmap\":[{\"type\":\"heatmap\",\"colorbar\":{\"outlinewidth\":0,\"ticks\":\"\"},\"colorscale\":[[0.0,\"#0d0887\"],[0.1111111111111111,\"#46039f\"],[0.2222222222222222,\"#7201a8\"],[0.3333333333333333,\"#9c179e\"],[0.4444444444444444,\"#bd3786\"],[0.5555555555555556,\"#d8576b\"],[0.6666666666666666,\"#ed7953\"],[0.7777777777777778,\"#fb9f3a\"],[0.8888888888888888,\"#fdca26\"],[1.0,\"#f0f921\"]]}],\"heatmapgl\":[{\"type\":\"heatmapgl\",\"colorbar\":{\"outlinewidth\":0,\"ticks\":\"\"},\"colorscale\":[[0.0,\"#0d0887\"],[0.1111111111111111,\"#46039f\"],[0.2222222222222222,\"#7201a8\"],[0.3333333333333333,\"#9c179e\"],[0.4444444444444444,\"#bd3786\"],[0.5555555555555556,\"#d8576b\"],[0.6666666666666666,\"#ed7953\"],[0.7777777777777778,\"#fb9f3a\"],[0.8888888888888888,\"#fdca26\"],[1.0,\"#f0f921\"]]}],\"contourcarpet\":[{\"type\":\"contourcarpet\",\"colorbar\":{\"outlinewidth\":0,\"ticks\":\"\"}}],\"contour\":[{\"type\":\"contour\",\"colorbar\":{\"outlinewidth\":0,\"ticks\":\"\"},\"colorscale\":[[0.0,\"#0d0887\"],[0.1111111111111111,\"#46039f\"],[0.2222222222222222,\"#7201a8\"],[0.3333333333333333,\"#9c179e\"],[0.4444444444444444,\"#bd3786\"],[0.5555555555555556,\"#d8576b\"],[0.6666666666666666,\"#ed7953\"],[0.7777777777777778,\"#fb9f3a\"],[0.8888888888888888,\"#fdca26\"],[1.0,\"#f0f921\"]]}],\"surface\":[{\"type\":\"surface\",\"colorbar\":{\"outlinewidth\":0,\"ticks\":\"\"},\"colorscale\":[[0.0,\"#0d0887\"],[0.1111111111111111,\"#46039f\"],[0.2222222222222222,\"#7201a8\"],[0.3333333333333333,\"#9c179e\"],[0.4444444444444444,\"#bd3786\"],[0.5555555555555556,\"#d8576b\"],[0.6666666666666666,\"#ed7953\"],[0.7777777777777778,\"#fb9f3a\"],[0.8888888888888888,\"#fdca26\"],[1.0,\"#f0f921\"]]}],\"mesh3d\":[{\"type\":\"mesh3d\",\"colorbar\":{\"outlinewidth\":0,\"ticks\":\"\"}}],\"scatter\":[{\"fillpattern\":{\"fillmode\":\"overlay\",\"size\":10,\"solidity\":0.2},\"type\":\"scatter\"}],\"parcoords\":[{\"type\":\"parcoords\",\"line\":{\"colorbar\":{\"outlinewidth\":0,\"ticks\":\"\"}}}],\"scatterpolargl\":[{\"type\":\"scatterpolargl\",\"marker\":{\"colorbar\":{\"outlinewidth\":0,\"ticks\":\"\"}}}],\"bar\":[{\"error_x\":{\"color\":\"#2a3f5f\"},\"error_y\":{\"color\":\"#2a3f5f\"},\"marker\":{\"line\":{\"color\":\"#E5ECF6\",\"width\":0.5},\"pattern\":{\"fillmode\":\"overlay\",\"size\":10,\"solidity\":0.2}},\"type\":\"bar\"}],\"scattergeo\":[{\"type\":\"scattergeo\",\"marker\":{\"colorbar\":{\"outlinewidth\":0,\"ticks\":\"\"}}}],\"scatterpolar\":[{\"type\":\"scatterpolar\",\"marker\":{\"colorbar\":{\"outlinewidth\":0,\"ticks\":\"\"}}}],\"histogram\":[{\"marker\":{\"pattern\":{\"fillmode\":\"overlay\",\"size\":10,\"solidity\":0.2}},\"type\":\"histogram\"}],\"scattergl\":[{\"type\":\"scattergl\",\"marker\":{\"colorbar\":{\"outlinewidth\":0,\"ticks\":\"\"}}}],\"scatter3d\":[{\"type\":\"scatter3d\",\"line\":{\"colorbar\":{\"outlinewidth\":0,\"ticks\":\"\"}},\"marker\":{\"colorbar\":{\"outlinewidth\":0,\"ticks\":\"\"}}}],\"scattermapbox\":[{\"type\":\"scattermapbox\",\"marker\":{\"colorbar\":{\"outlinewidth\":0,\"ticks\":\"\"}}}],\"scatterternary\":[{\"type\":\"scatterternary\",\"marker\":{\"colorbar\":{\"outlinewidth\":0,\"ticks\":\"\"}}}],\"scattercarpet\":[{\"type\":\"scattercarpet\",\"marker\":{\"colorbar\":{\"outlinewidth\":0,\"ticks\":\"\"}}}],\"carpet\":[{\"aaxis\":{\"endlinecolor\":\"#2a3f5f\",\"gridcolor\":\"white\",\"linecolor\":\"white\",\"minorgridcolor\":\"white\",\"startlinecolor\":\"#2a3f5f\"},\"baxis\":{\"endlinecolor\":\"#2a3f5f\",\"gridcolor\":\"white\",\"linecolor\":\"white\",\"minorgridcolor\":\"white\",\"startlinecolor\":\"#2a3f5f\"},\"type\":\"carpet\"}],\"table\":[{\"cells\":{\"fill\":{\"color\":\"#EBF0F8\"},\"line\":{\"color\":\"white\"}},\"header\":{\"fill\":{\"color\":\"#C8D4E3\"},\"line\":{\"color\":\"white\"}},\"type\":\"table\"}],\"barpolar\":[{\"marker\":{\"line\":{\"color\":\"#E5ECF6\",\"width\":0.5},\"pattern\":{\"fillmode\":\"overlay\",\"size\":10,\"solidity\":0.2}},\"type\":\"barpolar\"}],\"pie\":[{\"automargin\":true,\"type\":\"pie\"}]},\"layout\":{\"autotypenumbers\":\"strict\",\"colorway\":[\"#636efa\",\"#EF553B\",\"#00cc96\",\"#ab63fa\",\"#FFA15A\",\"#19d3f3\",\"#FF6692\",\"#B6E880\",\"#FF97FF\",\"#FECB52\"],\"font\":{\"color\":\"#2a3f5f\"},\"hovermode\":\"closest\",\"hoverlabel\":{\"align\":\"left\"},\"paper_bgcolor\":\"white\",\"plot_bgcolor\":\"#E5ECF6\",\"polar\":{\"bgcolor\":\"#E5ECF6\",\"angularaxis\":{\"gridcolor\":\"white\",\"linecolor\":\"white\",\"ticks\":\"\"},\"radialaxis\":{\"gridcolor\":\"white\",\"linecolor\":\"white\",\"ticks\":\"\"}},\"ternary\":{\"bgcolor\":\"#E5ECF6\",\"aaxis\":{\"gridcolor\":\"white\",\"linecolor\":\"white\",\"ticks\":\"\"},\"baxis\":{\"gridcolor\":\"white\",\"linecolor\":\"white\",\"ticks\":\"\"},\"caxis\":{\"gridcolor\":\"white\",\"linecolor\":\"white\",\"ticks\":\"\"}},\"coloraxis\":{\"colorbar\":{\"outlinewidth\":0,\"ticks\":\"\"}},\"colorscale\":{\"sequential\":[[0.0,\"#0d0887\"],[0.1111111111111111,\"#46039f\"],[0.2222222222222222,\"#7201a8\"],[0.3333333333333333,\"#9c179e\"],[0.4444444444444444,\"#bd3786\"],[0.5555555555555556,\"#d8576b\"],[0.6666666666666666,\"#ed7953\"],[0.7777777777777778,\"#fb9f3a\"],[0.8888888888888888,\"#fdca26\"],[1.0,\"#f0f921\"]],\"sequentialminus\":[[0.0,\"#0d0887\"],[0.1111111111111111,\"#46039f\"],[0.2222222222222222,\"#7201a8\"],[0.3333333333333333,\"#9c179e\"],[0.4444444444444444,\"#bd3786\"],[0.5555555555555556,\"#d8576b\"],[0.6666666666666666,\"#ed7953\"],[0.7777777777777778,\"#fb9f3a\"],[0.8888888888888888,\"#fdca26\"],[1.0,\"#f0f921\"]],\"diverging\":[[0,\"#8e0152\"],[0.1,\"#c51b7d\"],[0.2,\"#de77ae\"],[0.3,\"#f1b6da\"],[0.4,\"#fde0ef\"],[0.5,\"#f7f7f7\"],[0.6,\"#e6f5d0\"],[0.7,\"#b8e186\"],[0.8,\"#7fbc41\"],[0.9,\"#4d9221\"],[1,\"#276419\"]]},\"xaxis\":{\"gridcolor\":\"white\",\"linecolor\":\"white\",\"ticks\":\"\",\"title\":{\"standoff\":15},\"zerolinecolor\":\"white\",\"automargin\":true,\"zerolinewidth\":2},\"yaxis\":{\"gridcolor\":\"white\",\"linecolor\":\"white\",\"ticks\":\"\",\"title\":{\"standoff\":15},\"zerolinecolor\":\"white\",\"automargin\":true,\"zerolinewidth\":2},\"scene\":{\"xaxis\":{\"backgroundcolor\":\"#E5ECF6\",\"gridcolor\":\"white\",\"linecolor\":\"white\",\"showbackground\":true,\"ticks\":\"\",\"zerolinecolor\":\"white\",\"gridwidth\":2},\"yaxis\":{\"backgroundcolor\":\"#E5ECF6\",\"gridcolor\":\"white\",\"linecolor\":\"white\",\"showbackground\":true,\"ticks\":\"\",\"zerolinecolor\":\"white\",\"gridwidth\":2},\"zaxis\":{\"backgroundcolor\":\"#E5ECF6\",\"gridcolor\":\"white\",\"linecolor\":\"white\",\"showbackground\":true,\"ticks\":\"\",\"zerolinecolor\":\"white\",\"gridwidth\":2}},\"shapedefaults\":{\"line\":{\"color\":\"#2a3f5f\"}},\"annotationdefaults\":{\"arrowcolor\":\"#2a3f5f\",\"arrowhead\":0,\"arrowwidth\":1},\"geo\":{\"bgcolor\":\"white\",\"landcolor\":\"#E5ECF6\",\"subunitcolor\":\"white\",\"showland\":true,\"showlakes\":true,\"lakecolor\":\"white\"},\"title\":{\"x\":0.05},\"mapbox\":{\"style\":\"light\"}}},\"xaxis\":{\"anchor\":\"y\",\"domain\":[0.0,1.0],\"title\":{\"text\":\"bmi\"}},\"yaxis\":{\"anchor\":\"x\",\"domain\":[0.0,1.0],\"title\":{\"text\":\"charges\"}},\"legend\":{\"title\":{\"text\":\"smoker\"},\"tracegroupgap\":0},\"margin\":{\"t\":60}},                        {\"responsive\": true}                    ).then(function(){\n",
       "                            \n",
       "var gd = document.getElementById('4f5db276-873b-4d5e-836b-05f0697ec626');\n",
       "var x = new MutationObserver(function (mutations, observer) {{\n",
       "        var display = window.getComputedStyle(gd).display;\n",
       "        if (!display || display === 'none') {{\n",
       "            console.log([gd, 'removed!']);\n",
       "            Plotly.purge(gd);\n",
       "            observer.disconnect();\n",
       "        }}\n",
       "}});\n",
       "\n",
       "// Listen for the removal of the full notebook cells\n",
       "var notebookContainer = gd.closest('#notebook-container');\n",
       "if (notebookContainer) {{\n",
       "    x.observe(notebookContainer, {childList: true});\n",
       "}}\n",
       "\n",
       "// Listen for the clearing of the current output cell\n",
       "var outputEl = gd.closest('.output');\n",
       "if (outputEl) {{\n",
       "    x.observe(outputEl, {childList: true});\n",
       "}}\n",
       "\n",
       "                        })                };                });            </script>        </div>"
      ]
     },
     "metadata": {},
     "output_type": "display_data"
    }
   ],
   "source": [
    "import plotly.express as px\n",
    "\n",
    "px.scatter(df_ins,\n",
    "           x='bmi',\n",
    "           y='charges', \n",
    "           color='smoker', hover_data=['children', 'age'])"
   ]
  },
  {
   "cell_type": "markdown",
   "id": "c12d9c25",
   "metadata": {},
   "source": [
    "#### [실습]\n",
    "1. df_sp에서 `parental level of education`별로 색을 다르게 한  `math score`와 `reading score`의 산점도 그리기 "
   ]
  },
  {
   "cell_type": "code",
   "execution_count": 171,
   "id": "9ae5effb",
   "metadata": {},
   "outputs": [
    {
     "data": {
      "application/vnd.plotly.v1+json": {
       "config": {
        "plotlyServerURL": "https://plot.ly"
       },
       "data": [
        {
         "hovertemplate": "parental level of education=bachelor's degree<br>math score=%{x}<br>reading score=%{y}<extra></extra>",
         "legendgroup": "bachelor's degree",
         "marker": {
          "color": "#636efa",
          "symbol": "circle"
         },
         "mode": "markers",
         "name": "bachelor's degree",
         "orientation": "v",
         "showlegend": true,
         "type": "scatter",
         "x": [
          72,
          74,
          67,
          79,
          80,
          65,
          65,
          68,
          99,
          75,
          78,
          79,
          51,
          74,
          58,
          68,
          77,
          54,
          96,
          43,
          77,
          78,
          82,
          67,
          83,
          63,
          80,
          63,
          69,
          83,
          73,
          73,
          88,
          65,
          66,
          67,
          59,
          63,
          83,
          77,
          52,
          61,
          49,
          61,
          59,
          66,
          64,
          51,
          71,
          86,
          37,
          79,
          100,
          53,
          75,
          71,
          76,
          81,
          55,
          86,
          69,
          29,
          66,
          85,
          87,
          96,
          48,
          92,
          68,
          91,
          63,
          44,
          68,
          92,
          56,
          94,
          37,
          88,
          62,
          61,
          66,
          65,
          77,
          66,
          59,
          79,
          87,
          62,
          80,
          50,
          70,
          75,
          62,
          91,
          59,
          45,
          61,
          78,
          74,
          64,
          97,
          65,
          39,
          43,
          63,
          71,
          55,
          93,
          67,
          70,
          50,
          52,
          47,
          100,
          70,
          75,
          89,
          62
         ],
         "xaxis": "x",
         "y": [
          72,
          71,
          69,
          74,
          78,
          72,
          67,
          74,
          100,
          85,
          82,
          92,
          49,
          79,
          55,
          75,
          67,
          49,
          100,
          51,
          88,
          79,
          62,
          86,
          82,
          66,
          83,
          75,
          63,
          78,
          56,
          79,
          75,
          73,
          60,
          61,
          64,
          71,
          93,
          94,
          65,
          72,
          58,
          66,
          70,
          64,
          73,
          72,
          74,
          83,
          56,
          89,
          100,
          58,
          58,
          76,
          62,
          88,
          59,
          92,
          58,
          41,
          83,
          66,
          90,
          90,
          51,
          100,
          68,
          96,
          73,
          63,
          68,
          100,
          79,
          90,
          45,
          78,
          63,
          58,
          74,
          81,
          85,
          74,
          72,
          81,
          84,
          72,
          73,
          60,
          68,
          73,
          78,
          81,
          54,
          59,
          70,
          90,
          86,
          60,
          97,
          79,
          42,
          62,
          64,
          70,
          46,
          100,
          75,
          64,
          42,
          61,
          62,
          100,
          75,
          84,
          100,
          72
         ],
         "yaxis": "y"
        },
        {
         "hovertemplate": "parental level of education=some college<br>math score=%{x}<br>reading score=%{y}<extra></extra>",
         "legendgroup": "some college",
         "marker": {
          "color": "#EF553B",
          "symbol": "circle"
         },
         "mode": "markers",
         "name": "some college",
         "orientation": "v",
         "showlegend": true,
         "type": "scatter",
         "x": [
          69,
          76,
          88,
          40,
          78,
          65,
          44,
          69,
          69,
          63,
          40,
          97,
          59,
          53,
          53,
          58,
          60,
          58,
          63,
          50,
          73,
          76,
          58,
          79,
          63,
          58,
          79,
          98,
          58,
          51,
          55,
          88,
          83,
          65,
          87,
          75,
          71,
          59,
          42,
          88,
          22,
          70,
          60,
          75,
          67,
          79,
          46,
          76,
          77,
          45,
          65,
          59,
          74,
          58,
          35,
          72,
          88,
          76,
          54,
          59,
          71,
          62,
          70,
          79,
          71,
          58,
          65,
          88,
          70,
          81,
          69,
          99,
          71,
          82,
          61,
          28,
          61,
          79,
          62,
          66,
          63,
          59,
          42,
          59,
          80,
          52,
          59,
          84,
          45,
          82,
          67,
          77,
          76,
          53,
          49,
          84,
          68,
          41,
          62,
          50,
          67,
          69,
          64,
          100,
          65,
          54,
          71,
          77,
          84,
          91,
          68,
          61,
          83,
          54,
          59,
          76,
          63,
          76,
          74,
          66,
          71,
          68,
          77,
          32,
          74,
          63,
          63,
          71,
          53,
          61,
          48,
          69,
          54,
          58,
          76,
          61,
          69,
          58,
          100,
          100,
          49,
          67,
          86,
          69,
          85,
          62,
          74,
          55,
          63,
          73,
          69,
          50,
          73,
          63,
          62,
          85,
          93,
          79,
          63,
          66,
          93,
          98,
          62,
          47,
          81,
          53,
          87,
          53,
          53,
          55,
          69,
          87,
          68,
          55,
          52,
          69,
          60,
          58,
          66,
          35,
          72,
          19,
          60,
          69,
          82,
          73,
          75,
          64,
          49,
          61,
          58,
          74,
          87,
          75,
          71,
          82,
          70,
          80,
          81,
          69,
          86,
          88,
          79,
          69,
          68,
          91,
          67,
          62,
          70,
          85,
          49,
          75,
          62,
          84,
          56,
          72,
          62,
          63,
          49,
          54,
          64,
          60,
          78,
          67,
          68,
          77
         ],
         "xaxis": "x",
         "y": [
          90,
          78,
          95,
          43,
          72,
          75,
          54,
          54,
          74,
          65,
          42,
          87,
          65,
          55,
          44,
          59,
          72,
          63,
          55,
          47,
          80,
          83,
          70,
          86,
          72,
          67,
          67,
          86,
          67,
          58,
          69,
          93,
          80,
          77,
          74,
          81,
          61,
          62,
          55,
          73,
          39,
          89,
          60,
          88,
          75,
          86,
          64,
          83,
          62,
          53,
          81,
          41,
          81,
          61,
          28,
          72,
          95,
          64,
          52,
          51,
          83,
          73,
          75,
          79,
          76,
          49,
          70,
          85,
          78,
          78,
          67,
          87,
          81,
          90,
          61,
          23,
          68,
          73,
          61,
          57,
          78,
          71,
          66,
          62,
          90,
          58,
          60,
          77,
          73,
          97,
          76,
          68,
          67,
          43,
          65,
          83,
          59,
          39,
          67,
          48,
          81,
          66,
          85,
          92,
          58,
          54,
          70,
          90,
          87,
          74,
          68,
          47,
          83,
          48,
          78,
          71,
          61,
          71,
          89,
          74,
          49,
          60,
          62,
          39,
          75,
          74,
          80,
          75,
          62,
          51,
          56,
          77,
          64,
          57,
          78,
          64,
          60,
          59,
          96,
          97,
          57,
          64,
          76,
          79,
          86,
          67,
          77,
          71,
          73,
          74,
          78,
          64,
          78,
          61,
          66,
          75,
          90,
          89,
          64,
          59,
          84,
          100,
          72,
          43,
          74,
          39,
          89,
          58,
          66,
          55,
          64,
          84,
          72,
          58,
          59,
          77,
          63,
          60,
          65,
          44,
          79,
          38,
          66,
          60,
          85,
          76,
          81,
          74,
          52,
          60,
          50,
          77,
          85,
          68,
          71,
          82,
          72,
          64,
          82,
          65,
          85,
          77,
          84,
          84,
          70,
          96,
          74,
          57,
          63,
          81,
          58,
          77,
          69,
          87,
          58,
          57,
          70,
          63,
          65,
          63,
          82,
          62,
          87,
          86,
          78,
          86
         ],
         "yaxis": "y"
        },
        {
         "hovertemplate": "parental level of education=master's degree<br>math score=%{x}<br>reading score=%{y}<extra></extra>",
         "legendgroup": "master's degree",
         "marker": {
          "color": "#00cc96",
          "symbol": "circle"
         },
         "mode": "markers",
         "name": "master's degree",
         "orientation": "v",
         "showlegend": true,
         "type": "scatter",
         "x": [
          90,
          50,
          46,
          73,
          62,
          56,
          62,
          87,
          82,
          89,
          49,
          81,
          58,
          81,
          52,
          62,
          69,
          45,
          80,
          65,
          77,
          85,
          79,
          73,
          70,
          47,
          55,
          74,
          40,
          79,
          77,
          54,
          64,
          79,
          61,
          61,
          53,
          54,
          84,
          40,
          95,
          94,
          81,
          67,
          79,
          77,
          52,
          54,
          90,
          91,
          71,
          81,
          50,
          85,
          73,
          72,
          78,
          92,
          88
         ],
         "xaxis": "x",
         "y": [
          95,
          53,
          42,
          74,
          70,
          72,
          68,
          100,
          82,
          84,
          53,
          92,
          76,
          91,
          70,
          68,
          84,
          56,
          80,
          81,
          82,
          95,
          81,
          70,
          71,
          58,
          64,
          79,
          59,
          78,
          97,
          59,
          63,
          72,
          67,
          71,
          61,
          60,
          89,
          58,
          81,
          99,
          81,
          57,
          77,
          90,
          65,
          64,
          85,
          85,
          67,
          86,
          67,
          84,
          78,
          66,
          91,
          100,
          99
         ],
         "yaxis": "y"
        },
        {
         "hovertemplate": "parental level of education=associate's degree<br>math score=%{x}<br>reading score=%{y}<extra></extra>",
         "legendgroup": "associate's degree",
         "marker": {
          "color": "#ab63fa",
          "symbol": "circle"
         },
         "mode": "markers",
         "name": "associate's degree",
         "orientation": "v",
         "showlegend": true,
         "type": "scatter",
         "x": [
          47,
          71,
          58,
          40,
          54,
          81,
          74,
          75,
          57,
          55,
          58,
          53,
          50,
          65,
          55,
          57,
          77,
          82,
          52,
          62,
          69,
          61,
          39,
          41,
          44,
          47,
          72,
          71,
          43,
          78,
          85,
          66,
          52,
          77,
          54,
          91,
          59,
          73,
          100,
          59,
          61,
          66,
          82,
          63,
          71,
          65,
          65,
          66,
          61,
          67,
          69,
          57,
          60,
          83,
          87,
          52,
          46,
          80,
          84,
          85,
          89,
          64,
          78,
          88,
          47,
          81,
          97,
          76,
          67,
          71,
          90,
          67,
          80,
          74,
          53,
          73,
          68,
          83,
          56,
          82,
          47,
          62,
          90,
          49,
          67,
          87,
          46,
          63,
          46,
          80,
          87,
          57,
          57,
          85,
          65,
          82,
          87,
          71,
          74,
          82,
          64,
          75,
          75,
          73,
          81,
          65,
          53,
          53,
          26,
          83,
          68,
          90,
          80,
          76,
          52,
          49,
          60,
          79,
          65,
          64,
          94,
          95,
          91,
          62,
          68,
          62,
          79,
          51,
          97,
          79,
          81,
          82,
          40,
          53,
          55,
          53,
          48,
          40,
          73,
          65,
          85,
          58,
          65,
          82,
          65,
          69,
          61,
          76,
          74,
          59,
          65,
          77,
          43,
          90,
          80,
          81,
          52,
          65,
          81,
          77,
          49,
          73,
          77,
          75,
          57,
          42,
          76,
          73,
          96,
          91,
          65,
          68,
          92,
          81,
          37,
          59,
          72,
          58,
          84,
          94,
          46,
          52,
          68,
          57,
          70,
          52,
          87,
          56,
          58,
          66,
          80,
          87,
          53,
          97,
          61,
          78,
          49,
          82,
          90,
          64,
          51,
          62,
          93,
          85,
          59,
          67,
          46,
          57,
          54,
          64,
          46,
          61,
          98,
          67,
          54,
          72,
          100,
          68,
          62,
          91,
          40,
          55
         ],
         "xaxis": "x",
         "y": [
          57,
          83,
          54,
          52,
          58,
          81,
          81,
          90,
          56,
          61,
          73,
          58,
          56,
          54,
          65,
          74,
          69,
          85,
          55,
          61,
          80,
          58,
          64,
          51,
          41,
          49,
          64,
          71,
          45,
          81,
          91,
          63,
          76,
          89,
          53,
          89,
          66,
          68,
          100,
          70,
          86,
          62,
          78,
          67,
          77,
          69,
          67,
          65,
          55,
          84,
          77,
          69,
          51,
          86,
          85,
          66,
          43,
          75,
          80,
          76,
          76,
          73,
          77,
          92,
          53,
          82,
          82,
          70,
          62,
          74,
          87,
          84,
          76,
          75,
          71,
          76,
          67,
          72,
          65,
          75,
          37,
          56,
          78,
          51,
          72,
          74,
          58,
          61,
          43,
          86,
          100,
          78,
          54,
          89,
          65,
          80,
          84,
          66,
          73,
          93,
          66,
          68,
          66,
          83,
          73,
          77,
          61,
          54,
          31,
          85,
          86,
          90,
          68,
          71,
          59,
          52,
          75,
          82,
          85,
          64,
          87,
          89,
          86,
          74,
          67,
          61,
          88,
          60,
          92,
          82,
          77,
          95,
          48,
          45,
          72,
          70,
          43,
          55,
          75,
          76,
          84,
          63,
          77,
          93,
          73,
          70,
          48,
          74,
          88,
          70,
          70,
          67,
          60,
          87,
          63,
          72,
          57,
          84,
          75,
          78,
          53,
          76,
          77,
          82,
          78,
          61,
          94,
          78,
          96,
          73,
          75,
          77,
          79,
          71,
          57,
          73,
          79,
          55,
          95,
          85,
          56,
          59,
          65,
          68,
          84,
          55,
          94,
          68,
          57,
          77,
          75,
          73,
          62,
          93,
          42,
          74,
          51,
          84,
          90,
          76,
          51,
          76,
          100,
          92,
          62,
          54,
          61,
          77,
          65,
          56,
          43,
          71,
          87,
          57,
          61,
          57,
          100,
          76,
          65,
          95,
          59,
          76
         ],
         "yaxis": "y"
        },
        {
         "hovertemplate": "parental level of education=high school<br>math score=%{x}<br>reading score=%{y}<extra></extra>",
         "legendgroup": "high school",
         "marker": {
          "color": "#FFA15A",
          "symbol": "circle"
         },
         "mode": "markers",
         "name": "high school",
         "orientation": "v",
         "showlegend": true,
         "type": "scatter",
         "x": [
          64,
          38,
          65,
          88,
          66,
          70,
          66,
          82,
          88,
          33,
          49,
          42,
          27,
          71,
          60,
          62,
          84,
          63,
          87,
          70,
          57,
          66,
          52,
          53,
          68,
          72,
          46,
          50,
          80,
          55,
          81,
          42,
          87,
          34,
          66,
          56,
          57,
          73,
          56,
          58,
          65,
          68,
          54,
          99,
          76,
          69,
          59,
          53,
          45,
          78,
          40,
          49,
          71,
          67,
          75,
          41,
          71,
          58,
          61,
          69,
          72,
          75,
          58,
          69,
          62,
          48,
          50,
          88,
          54,
          52,
          84,
          57,
          57,
          61,
          61,
          70,
          78,
          86,
          47,
          72,
          72,
          77,
          63,
          73,
          59,
          70,
          54,
          68,
          68,
          67,
          53,
          36,
          73,
          51,
          75,
          72,
          62,
          63,
          50,
          74,
          81,
          55,
          74,
          30,
          69,
          29,
          60,
          60,
          35,
          58,
          79,
          75,
          71,
          67,
          41,
          74,
          70,
          64,
          50,
          68,
          65,
          66,
          69,
          67,
          60,
          62,
          53,
          66,
          46,
          89,
          76,
          50,
          73,
          61,
          81,
          69,
          53,
          62,
          74,
          58,
          76,
          52,
          66,
          76,
          48,
          66,
          42,
          70,
          41,
          90,
          45,
          72,
          60,
          71,
          62,
          77,
          60,
          73,
          75,
          39,
          23,
          64,
          59,
          61,
          52,
          59,
          59,
          64,
          54,
          44,
          36,
          34,
          57,
          44,
          69,
          35,
          72,
          74,
          65,
          57,
          81,
          58,
          82,
          57,
          94,
          58,
          45,
          75,
          53,
          55,
          8,
          57,
          86,
          63,
          62,
          59
         ],
         "xaxis": "x",
         "y": [
          64,
          60,
          81,
          89,
          69,
          70,
          71,
          84,
          78,
          41,
          45,
          39,
          34,
          79,
          44,
          55,
          77,
          57,
          95,
          55,
          43,
          74,
          53,
          51,
          83,
          73,
          54,
          50,
          76,
          56,
          80,
          62,
          91,
          42,
          77,
          68,
          50,
          68,
          52,
          70,
          64,
          60,
          52,
          93,
          73,
          72,
          63,
          52,
          48,
          77,
          46,
          57,
          66,
          79,
          86,
          46,
          60,
          61,
          73,
          76,
          80,
          74,
          62,
          58,
          64,
          45,
          67,
          99,
          59,
          57,
          73,
          56,
          58,
          72,
          56,
          56,
          81,
          81,
          46,
          65,
          67,
          88,
          69,
          71,
          52,
          74,
          64,
          64,
          70,
          78,
          52,
          53,
          69,
          66,
          69,
          67,
          67,
          48,
          66,
          81,
          91,
          73,
          76,
          24,
          77,
          29,
          57,
          68,
          61,
          51,
          60,
          88,
          74,
          80,
          52,
          79,
          65,
          62,
          53,
          80,
          69,
          76,
          77,
          72,
          68,
          55,
          58,
          66,
          34,
          87,
          76,
          48,
          92,
          60,
          84,
          75,
          72,
          62,
          72,
          75,
          62,
          48,
          72,
          85,
          62,
          74,
          52,
          70,
          45,
          75,
          47,
          80,
          72,
          87,
          67,
          82,
          64,
          64,
          82,
          52,
          44,
          54,
          72,
          68,
          49,
          53,
          58,
          73,
          72,
          51,
          29,
          48,
          48,
          61,
          70,
          53,
          66,
          70,
          61,
          58,
          66,
          68,
          82,
          75,
          73,
          52,
          63,
          81,
          50,
          41,
          24,
          51,
          81,
          63,
          55,
          71
         ],
         "yaxis": "y"
        },
        {
         "hovertemplate": "parental level of education=some high school<br>math score=%{x}<br>reading score=%{y}<extra></extra>",
         "legendgroup": "some high school",
         "marker": {
          "color": "#19d3f3",
          "symbol": "circle"
         },
         "mode": "markers",
         "name": "some high school",
         "orientation": "v",
         "showlegend": true,
         "type": "scatter",
         "x": [
          69,
          18,
          69,
          50,
          71,
          0,
          39,
          59,
          67,
          45,
          61,
          49,
          30,
          61,
          73,
          65,
          70,
          51,
          72,
          53,
          51,
          76,
          88,
          62,
          62,
          94,
          97,
          45,
          62,
          48,
          62,
          59,
          74,
          80,
          84,
          61,
          55,
          86,
          68,
          92,
          64,
          75,
          47,
          60,
          64,
          44,
          59,
          85,
          65,
          37,
          67,
          77,
          86,
          63,
          46,
          56,
          51,
          43,
          41,
          76,
          24,
          35,
          85,
          27,
          44,
          73,
          74,
          80,
          71,
          38,
          38,
          73,
          65,
          74,
          60,
          59,
          63,
          63,
          59,
          69,
          65,
          68,
          47,
          73,
          89,
          59,
          79,
          67,
          59,
          64,
          66,
          82,
          64,
          62,
          54,
          76,
          66,
          56,
          47,
          78,
          92,
          79,
          73,
          81,
          77,
          48,
          71,
          53,
          65,
          75,
          44,
          84,
          80,
          72,
          51,
          73,
          69,
          73,
          50,
          70,
          29,
          49,
          57,
          59,
          80,
          60,
          55,
          74,
          68,
          55,
          55,
          71,
          77,
          48,
          78,
          68,
          52,
          49,
          32,
          72,
          89,
          67,
          76,
          51,
          87,
          94,
          77,
          85,
          48,
          65,
          69,
          68,
          64,
          40,
          82,
          62,
          57,
          59,
          88,
          32,
          63,
          65,
          67,
          74,
          48,
          77,
          61,
          49,
          74,
          48,
          65,
          66,
          78,
          81,
          79,
          74,
          81,
          44,
          65
         ],
         "xaxis": "x",
         "y": [
          75,
          32,
          73,
          64,
          84,
          17,
          39,
          58,
          64,
          37,
          57,
          49,
          26,
          74,
          86,
          66,
          64,
          63,
          68,
          37,
          54,
          72,
          84,
          67,
          67,
          88,
          100,
          52,
          66,
          52,
          64,
          69,
          71,
          79,
          83,
          56,
          65,
          80,
          72,
          87,
          60,
          74,
          49,
          70,
          79,
          50,
          42,
          92,
          86,
          46,
          89,
          76,
          73,
          60,
          41,
          54,
          52,
          53,
          55,
          70,
          38,
          55,
          84,
          34,
          64,
          84,
          74,
          90,
          83,
          49,
          43,
          67,
          74,
          63,
          59,
          54,
          73,
          67,
          85,
          71,
          59,
          63,
          59,
          66,
          88,
          73,
          82,
          74,
          67,
          53,
          69,
          82,
          50,
          49,
          61,
          87,
          78,
          61,
          54,
          83,
          100,
          76,
          66,
          97,
          79,
          66,
          62,
          54,
          82,
          72,
          51,
          84,
          92,
          81,
          56,
          79,
          66,
          66,
          60,
          82,
          40,
          63,
          67,
          63,
          85,
          70,
          59,
          90,
          51,
          46,
          47,
          69,
          90,
          58,
          81,
          71,
          67,
          58,
          51,
          79,
          84,
          73,
          80,
          31,
          84,
          86,
          91,
          90,
          58,
          69,
          86,
          54,
          58,
          65,
          67,
          64,
          61,
          72,
          74,
          34,
          78,
          78,
          84,
          64,
          56,
          68,
          62,
          50,
          74,
          54,
          76,
          68,
          72,
          78,
          85,
          75,
          75,
          45,
          82
         ],
         "yaxis": "y"
        }
       ],
       "layout": {
        "legend": {
         "title": {
          "text": "parental level of education"
         },
         "tracegroupgap": 0
        },
        "margin": {
         "t": 60
        },
        "template": {
         "data": {
          "bar": [
           {
            "error_x": {
             "color": "#2a3f5f"
            },
            "error_y": {
             "color": "#2a3f5f"
            },
            "marker": {
             "line": {
              "color": "#E5ECF6",
              "width": 0.5
             },
             "pattern": {
              "fillmode": "overlay",
              "size": 10,
              "solidity": 0.2
             }
            },
            "type": "bar"
           }
          ],
          "barpolar": [
           {
            "marker": {
             "line": {
              "color": "#E5ECF6",
              "width": 0.5
             },
             "pattern": {
              "fillmode": "overlay",
              "size": 10,
              "solidity": 0.2
             }
            },
            "type": "barpolar"
           }
          ],
          "carpet": [
           {
            "aaxis": {
             "endlinecolor": "#2a3f5f",
             "gridcolor": "white",
             "linecolor": "white",
             "minorgridcolor": "white",
             "startlinecolor": "#2a3f5f"
            },
            "baxis": {
             "endlinecolor": "#2a3f5f",
             "gridcolor": "white",
             "linecolor": "white",
             "minorgridcolor": "white",
             "startlinecolor": "#2a3f5f"
            },
            "type": "carpet"
           }
          ],
          "choropleth": [
           {
            "colorbar": {
             "outlinewidth": 0,
             "ticks": ""
            },
            "type": "choropleth"
           }
          ],
          "contour": [
           {
            "colorbar": {
             "outlinewidth": 0,
             "ticks": ""
            },
            "colorscale": [
             [
              0,
              "#0d0887"
             ],
             [
              0.1111111111111111,
              "#46039f"
             ],
             [
              0.2222222222222222,
              "#7201a8"
             ],
             [
              0.3333333333333333,
              "#9c179e"
             ],
             [
              0.4444444444444444,
              "#bd3786"
             ],
             [
              0.5555555555555556,
              "#d8576b"
             ],
             [
              0.6666666666666666,
              "#ed7953"
             ],
             [
              0.7777777777777778,
              "#fb9f3a"
             ],
             [
              0.8888888888888888,
              "#fdca26"
             ],
             [
              1,
              "#f0f921"
             ]
            ],
            "type": "contour"
           }
          ],
          "contourcarpet": [
           {
            "colorbar": {
             "outlinewidth": 0,
             "ticks": ""
            },
            "type": "contourcarpet"
           }
          ],
          "heatmap": [
           {
            "colorbar": {
             "outlinewidth": 0,
             "ticks": ""
            },
            "colorscale": [
             [
              0,
              "#0d0887"
             ],
             [
              0.1111111111111111,
              "#46039f"
             ],
             [
              0.2222222222222222,
              "#7201a8"
             ],
             [
              0.3333333333333333,
              "#9c179e"
             ],
             [
              0.4444444444444444,
              "#bd3786"
             ],
             [
              0.5555555555555556,
              "#d8576b"
             ],
             [
              0.6666666666666666,
              "#ed7953"
             ],
             [
              0.7777777777777778,
              "#fb9f3a"
             ],
             [
              0.8888888888888888,
              "#fdca26"
             ],
             [
              1,
              "#f0f921"
             ]
            ],
            "type": "heatmap"
           }
          ],
          "heatmapgl": [
           {
            "colorbar": {
             "outlinewidth": 0,
             "ticks": ""
            },
            "colorscale": [
             [
              0,
              "#0d0887"
             ],
             [
              0.1111111111111111,
              "#46039f"
             ],
             [
              0.2222222222222222,
              "#7201a8"
             ],
             [
              0.3333333333333333,
              "#9c179e"
             ],
             [
              0.4444444444444444,
              "#bd3786"
             ],
             [
              0.5555555555555556,
              "#d8576b"
             ],
             [
              0.6666666666666666,
              "#ed7953"
             ],
             [
              0.7777777777777778,
              "#fb9f3a"
             ],
             [
              0.8888888888888888,
              "#fdca26"
             ],
             [
              1,
              "#f0f921"
             ]
            ],
            "type": "heatmapgl"
           }
          ],
          "histogram": [
           {
            "marker": {
             "pattern": {
              "fillmode": "overlay",
              "size": 10,
              "solidity": 0.2
             }
            },
            "type": "histogram"
           }
          ],
          "histogram2d": [
           {
            "colorbar": {
             "outlinewidth": 0,
             "ticks": ""
            },
            "colorscale": [
             [
              0,
              "#0d0887"
             ],
             [
              0.1111111111111111,
              "#46039f"
             ],
             [
              0.2222222222222222,
              "#7201a8"
             ],
             [
              0.3333333333333333,
              "#9c179e"
             ],
             [
              0.4444444444444444,
              "#bd3786"
             ],
             [
              0.5555555555555556,
              "#d8576b"
             ],
             [
              0.6666666666666666,
              "#ed7953"
             ],
             [
              0.7777777777777778,
              "#fb9f3a"
             ],
             [
              0.8888888888888888,
              "#fdca26"
             ],
             [
              1,
              "#f0f921"
             ]
            ],
            "type": "histogram2d"
           }
          ],
          "histogram2dcontour": [
           {
            "colorbar": {
             "outlinewidth": 0,
             "ticks": ""
            },
            "colorscale": [
             [
              0,
              "#0d0887"
             ],
             [
              0.1111111111111111,
              "#46039f"
             ],
             [
              0.2222222222222222,
              "#7201a8"
             ],
             [
              0.3333333333333333,
              "#9c179e"
             ],
             [
              0.4444444444444444,
              "#bd3786"
             ],
             [
              0.5555555555555556,
              "#d8576b"
             ],
             [
              0.6666666666666666,
              "#ed7953"
             ],
             [
              0.7777777777777778,
              "#fb9f3a"
             ],
             [
              0.8888888888888888,
              "#fdca26"
             ],
             [
              1,
              "#f0f921"
             ]
            ],
            "type": "histogram2dcontour"
           }
          ],
          "mesh3d": [
           {
            "colorbar": {
             "outlinewidth": 0,
             "ticks": ""
            },
            "type": "mesh3d"
           }
          ],
          "parcoords": [
           {
            "line": {
             "colorbar": {
              "outlinewidth": 0,
              "ticks": ""
             }
            },
            "type": "parcoords"
           }
          ],
          "pie": [
           {
            "automargin": true,
            "type": "pie"
           }
          ],
          "scatter": [
           {
            "fillpattern": {
             "fillmode": "overlay",
             "size": 10,
             "solidity": 0.2
            },
            "type": "scatter"
           }
          ],
          "scatter3d": [
           {
            "line": {
             "colorbar": {
              "outlinewidth": 0,
              "ticks": ""
             }
            },
            "marker": {
             "colorbar": {
              "outlinewidth": 0,
              "ticks": ""
             }
            },
            "type": "scatter3d"
           }
          ],
          "scattercarpet": [
           {
            "marker": {
             "colorbar": {
              "outlinewidth": 0,
              "ticks": ""
             }
            },
            "type": "scattercarpet"
           }
          ],
          "scattergeo": [
           {
            "marker": {
             "colorbar": {
              "outlinewidth": 0,
              "ticks": ""
             }
            },
            "type": "scattergeo"
           }
          ],
          "scattergl": [
           {
            "marker": {
             "colorbar": {
              "outlinewidth": 0,
              "ticks": ""
             }
            },
            "type": "scattergl"
           }
          ],
          "scattermapbox": [
           {
            "marker": {
             "colorbar": {
              "outlinewidth": 0,
              "ticks": ""
             }
            },
            "type": "scattermapbox"
           }
          ],
          "scatterpolar": [
           {
            "marker": {
             "colorbar": {
              "outlinewidth": 0,
              "ticks": ""
             }
            },
            "type": "scatterpolar"
           }
          ],
          "scatterpolargl": [
           {
            "marker": {
             "colorbar": {
              "outlinewidth": 0,
              "ticks": ""
             }
            },
            "type": "scatterpolargl"
           }
          ],
          "scatterternary": [
           {
            "marker": {
             "colorbar": {
              "outlinewidth": 0,
              "ticks": ""
             }
            },
            "type": "scatterternary"
           }
          ],
          "surface": [
           {
            "colorbar": {
             "outlinewidth": 0,
             "ticks": ""
            },
            "colorscale": [
             [
              0,
              "#0d0887"
             ],
             [
              0.1111111111111111,
              "#46039f"
             ],
             [
              0.2222222222222222,
              "#7201a8"
             ],
             [
              0.3333333333333333,
              "#9c179e"
             ],
             [
              0.4444444444444444,
              "#bd3786"
             ],
             [
              0.5555555555555556,
              "#d8576b"
             ],
             [
              0.6666666666666666,
              "#ed7953"
             ],
             [
              0.7777777777777778,
              "#fb9f3a"
             ],
             [
              0.8888888888888888,
              "#fdca26"
             ],
             [
              1,
              "#f0f921"
             ]
            ],
            "type": "surface"
           }
          ],
          "table": [
           {
            "cells": {
             "fill": {
              "color": "#EBF0F8"
             },
             "line": {
              "color": "white"
             }
            },
            "header": {
             "fill": {
              "color": "#C8D4E3"
             },
             "line": {
              "color": "white"
             }
            },
            "type": "table"
           }
          ]
         },
         "layout": {
          "annotationdefaults": {
           "arrowcolor": "#2a3f5f",
           "arrowhead": 0,
           "arrowwidth": 1
          },
          "autotypenumbers": "strict",
          "coloraxis": {
           "colorbar": {
            "outlinewidth": 0,
            "ticks": ""
           }
          },
          "colorscale": {
           "diverging": [
            [
             0,
             "#8e0152"
            ],
            [
             0.1,
             "#c51b7d"
            ],
            [
             0.2,
             "#de77ae"
            ],
            [
             0.3,
             "#f1b6da"
            ],
            [
             0.4,
             "#fde0ef"
            ],
            [
             0.5,
             "#f7f7f7"
            ],
            [
             0.6,
             "#e6f5d0"
            ],
            [
             0.7,
             "#b8e186"
            ],
            [
             0.8,
             "#7fbc41"
            ],
            [
             0.9,
             "#4d9221"
            ],
            [
             1,
             "#276419"
            ]
           ],
           "sequential": [
            [
             0,
             "#0d0887"
            ],
            [
             0.1111111111111111,
             "#46039f"
            ],
            [
             0.2222222222222222,
             "#7201a8"
            ],
            [
             0.3333333333333333,
             "#9c179e"
            ],
            [
             0.4444444444444444,
             "#bd3786"
            ],
            [
             0.5555555555555556,
             "#d8576b"
            ],
            [
             0.6666666666666666,
             "#ed7953"
            ],
            [
             0.7777777777777778,
             "#fb9f3a"
            ],
            [
             0.8888888888888888,
             "#fdca26"
            ],
            [
             1,
             "#f0f921"
            ]
           ],
           "sequentialminus": [
            [
             0,
             "#0d0887"
            ],
            [
             0.1111111111111111,
             "#46039f"
            ],
            [
             0.2222222222222222,
             "#7201a8"
            ],
            [
             0.3333333333333333,
             "#9c179e"
            ],
            [
             0.4444444444444444,
             "#bd3786"
            ],
            [
             0.5555555555555556,
             "#d8576b"
            ],
            [
             0.6666666666666666,
             "#ed7953"
            ],
            [
             0.7777777777777778,
             "#fb9f3a"
            ],
            [
             0.8888888888888888,
             "#fdca26"
            ],
            [
             1,
             "#f0f921"
            ]
           ]
          },
          "colorway": [
           "#636efa",
           "#EF553B",
           "#00cc96",
           "#ab63fa",
           "#FFA15A",
           "#19d3f3",
           "#FF6692",
           "#B6E880",
           "#FF97FF",
           "#FECB52"
          ],
          "font": {
           "color": "#2a3f5f"
          },
          "geo": {
           "bgcolor": "white",
           "lakecolor": "white",
           "landcolor": "#E5ECF6",
           "showlakes": true,
           "showland": true,
           "subunitcolor": "white"
          },
          "hoverlabel": {
           "align": "left"
          },
          "hovermode": "closest",
          "mapbox": {
           "style": "light"
          },
          "paper_bgcolor": "white",
          "plot_bgcolor": "#E5ECF6",
          "polar": {
           "angularaxis": {
            "gridcolor": "white",
            "linecolor": "white",
            "ticks": ""
           },
           "bgcolor": "#E5ECF6",
           "radialaxis": {
            "gridcolor": "white",
            "linecolor": "white",
            "ticks": ""
           }
          },
          "scene": {
           "xaxis": {
            "backgroundcolor": "#E5ECF6",
            "gridcolor": "white",
            "gridwidth": 2,
            "linecolor": "white",
            "showbackground": true,
            "ticks": "",
            "zerolinecolor": "white"
           },
           "yaxis": {
            "backgroundcolor": "#E5ECF6",
            "gridcolor": "white",
            "gridwidth": 2,
            "linecolor": "white",
            "showbackground": true,
            "ticks": "",
            "zerolinecolor": "white"
           },
           "zaxis": {
            "backgroundcolor": "#E5ECF6",
            "gridcolor": "white",
            "gridwidth": 2,
            "linecolor": "white",
            "showbackground": true,
            "ticks": "",
            "zerolinecolor": "white"
           }
          },
          "shapedefaults": {
           "line": {
            "color": "#2a3f5f"
           }
          },
          "ternary": {
           "aaxis": {
            "gridcolor": "white",
            "linecolor": "white",
            "ticks": ""
           },
           "baxis": {
            "gridcolor": "white",
            "linecolor": "white",
            "ticks": ""
           },
           "bgcolor": "#E5ECF6",
           "caxis": {
            "gridcolor": "white",
            "linecolor": "white",
            "ticks": ""
           }
          },
          "title": {
           "x": 0.05
          },
          "xaxis": {
           "automargin": true,
           "gridcolor": "white",
           "linecolor": "white",
           "ticks": "",
           "title": {
            "standoff": 15
           },
           "zerolinecolor": "white",
           "zerolinewidth": 2
          },
          "yaxis": {
           "automargin": true,
           "gridcolor": "white",
           "linecolor": "white",
           "ticks": "",
           "title": {
            "standoff": 15
           },
           "zerolinecolor": "white",
           "zerolinewidth": 2
          }
         }
        },
        "xaxis": {
         "anchor": "y",
         "domain": [
          0,
          1
         ],
         "title": {
          "text": "math score"
         }
        },
        "yaxis": {
         "anchor": "x",
         "domain": [
          0,
          1
         ],
         "title": {
          "text": "reading score"
         }
        }
       }
      },
      "text/html": [
       "<div>                            <div id=\"c692eb9a-18ad-4801-8af7-0ee9021af8af\" class=\"plotly-graph-div\" style=\"height:525px; width:100%;\"></div>            <script type=\"text/javascript\">                require([\"plotly\"], function(Plotly) {                    window.PLOTLYENV=window.PLOTLYENV || {};                                    if (document.getElementById(\"c692eb9a-18ad-4801-8af7-0ee9021af8af\")) {                    Plotly.newPlot(                        \"c692eb9a-18ad-4801-8af7-0ee9021af8af\",                        [{\"hovertemplate\":\"parental level of education=bachelor's degree<br>math score=%{x}<br>reading score=%{y}<extra></extra>\",\"legendgroup\":\"bachelor's degree\",\"marker\":{\"color\":\"#636efa\",\"symbol\":\"circle\"},\"mode\":\"markers\",\"name\":\"bachelor's degree\",\"orientation\":\"v\",\"showlegend\":true,\"x\":[72,74,67,79,80,65,65,68,99,75,78,79,51,74,58,68,77,54,96,43,77,78,82,67,83,63,80,63,69,83,73,73,88,65,66,67,59,63,83,77,52,61,49,61,59,66,64,51,71,86,37,79,100,53,75,71,76,81,55,86,69,29,66,85,87,96,48,92,68,91,63,44,68,92,56,94,37,88,62,61,66,65,77,66,59,79,87,62,80,50,70,75,62,91,59,45,61,78,74,64,97,65,39,43,63,71,55,93,67,70,50,52,47,100,70,75,89,62],\"xaxis\":\"x\",\"y\":[72,71,69,74,78,72,67,74,100,85,82,92,49,79,55,75,67,49,100,51,88,79,62,86,82,66,83,75,63,78,56,79,75,73,60,61,64,71,93,94,65,72,58,66,70,64,73,72,74,83,56,89,100,58,58,76,62,88,59,92,58,41,83,66,90,90,51,100,68,96,73,63,68,100,79,90,45,78,63,58,74,81,85,74,72,81,84,72,73,60,68,73,78,81,54,59,70,90,86,60,97,79,42,62,64,70,46,100,75,64,42,61,62,100,75,84,100,72],\"yaxis\":\"y\",\"type\":\"scatter\"},{\"hovertemplate\":\"parental level of education=some college<br>math score=%{x}<br>reading score=%{y}<extra></extra>\",\"legendgroup\":\"some college\",\"marker\":{\"color\":\"#EF553B\",\"symbol\":\"circle\"},\"mode\":\"markers\",\"name\":\"some college\",\"orientation\":\"v\",\"showlegend\":true,\"x\":[69,76,88,40,78,65,44,69,69,63,40,97,59,53,53,58,60,58,63,50,73,76,58,79,63,58,79,98,58,51,55,88,83,65,87,75,71,59,42,88,22,70,60,75,67,79,46,76,77,45,65,59,74,58,35,72,88,76,54,59,71,62,70,79,71,58,65,88,70,81,69,99,71,82,61,28,61,79,62,66,63,59,42,59,80,52,59,84,45,82,67,77,76,53,49,84,68,41,62,50,67,69,64,100,65,54,71,77,84,91,68,61,83,54,59,76,63,76,74,66,71,68,77,32,74,63,63,71,53,61,48,69,54,58,76,61,69,58,100,100,49,67,86,69,85,62,74,55,63,73,69,50,73,63,62,85,93,79,63,66,93,98,62,47,81,53,87,53,53,55,69,87,68,55,52,69,60,58,66,35,72,19,60,69,82,73,75,64,49,61,58,74,87,75,71,82,70,80,81,69,86,88,79,69,68,91,67,62,70,85,49,75,62,84,56,72,62,63,49,54,64,60,78,67,68,77],\"xaxis\":\"x\",\"y\":[90,78,95,43,72,75,54,54,74,65,42,87,65,55,44,59,72,63,55,47,80,83,70,86,72,67,67,86,67,58,69,93,80,77,74,81,61,62,55,73,39,89,60,88,75,86,64,83,62,53,81,41,81,61,28,72,95,64,52,51,83,73,75,79,76,49,70,85,78,78,67,87,81,90,61,23,68,73,61,57,78,71,66,62,90,58,60,77,73,97,76,68,67,43,65,83,59,39,67,48,81,66,85,92,58,54,70,90,87,74,68,47,83,48,78,71,61,71,89,74,49,60,62,39,75,74,80,75,62,51,56,77,64,57,78,64,60,59,96,97,57,64,76,79,86,67,77,71,73,74,78,64,78,61,66,75,90,89,64,59,84,100,72,43,74,39,89,58,66,55,64,84,72,58,59,77,63,60,65,44,79,38,66,60,85,76,81,74,52,60,50,77,85,68,71,82,72,64,82,65,85,77,84,84,70,96,74,57,63,81,58,77,69,87,58,57,70,63,65,63,82,62,87,86,78,86],\"yaxis\":\"y\",\"type\":\"scatter\"},{\"hovertemplate\":\"parental level of education=master's degree<br>math score=%{x}<br>reading score=%{y}<extra></extra>\",\"legendgroup\":\"master's degree\",\"marker\":{\"color\":\"#00cc96\",\"symbol\":\"circle\"},\"mode\":\"markers\",\"name\":\"master's degree\",\"orientation\":\"v\",\"showlegend\":true,\"x\":[90,50,46,73,62,56,62,87,82,89,49,81,58,81,52,62,69,45,80,65,77,85,79,73,70,47,55,74,40,79,77,54,64,79,61,61,53,54,84,40,95,94,81,67,79,77,52,54,90,91,71,81,50,85,73,72,78,92,88],\"xaxis\":\"x\",\"y\":[95,53,42,74,70,72,68,100,82,84,53,92,76,91,70,68,84,56,80,81,82,95,81,70,71,58,64,79,59,78,97,59,63,72,67,71,61,60,89,58,81,99,81,57,77,90,65,64,85,85,67,86,67,84,78,66,91,100,99],\"yaxis\":\"y\",\"type\":\"scatter\"},{\"hovertemplate\":\"parental level of education=associate's degree<br>math score=%{x}<br>reading score=%{y}<extra></extra>\",\"legendgroup\":\"associate's degree\",\"marker\":{\"color\":\"#ab63fa\",\"symbol\":\"circle\"},\"mode\":\"markers\",\"name\":\"associate's degree\",\"orientation\":\"v\",\"showlegend\":true,\"x\":[47,71,58,40,54,81,74,75,57,55,58,53,50,65,55,57,77,82,52,62,69,61,39,41,44,47,72,71,43,78,85,66,52,77,54,91,59,73,100,59,61,66,82,63,71,65,65,66,61,67,69,57,60,83,87,52,46,80,84,85,89,64,78,88,47,81,97,76,67,71,90,67,80,74,53,73,68,83,56,82,47,62,90,49,67,87,46,63,46,80,87,57,57,85,65,82,87,71,74,82,64,75,75,73,81,65,53,53,26,83,68,90,80,76,52,49,60,79,65,64,94,95,91,62,68,62,79,51,97,79,81,82,40,53,55,53,48,40,73,65,85,58,65,82,65,69,61,76,74,59,65,77,43,90,80,81,52,65,81,77,49,73,77,75,57,42,76,73,96,91,65,68,92,81,37,59,72,58,84,94,46,52,68,57,70,52,87,56,58,66,80,87,53,97,61,78,49,82,90,64,51,62,93,85,59,67,46,57,54,64,46,61,98,67,54,72,100,68,62,91,40,55],\"xaxis\":\"x\",\"y\":[57,83,54,52,58,81,81,90,56,61,73,58,56,54,65,74,69,85,55,61,80,58,64,51,41,49,64,71,45,81,91,63,76,89,53,89,66,68,100,70,86,62,78,67,77,69,67,65,55,84,77,69,51,86,85,66,43,75,80,76,76,73,77,92,53,82,82,70,62,74,87,84,76,75,71,76,67,72,65,75,37,56,78,51,72,74,58,61,43,86,100,78,54,89,65,80,84,66,73,93,66,68,66,83,73,77,61,54,31,85,86,90,68,71,59,52,75,82,85,64,87,89,86,74,67,61,88,60,92,82,77,95,48,45,72,70,43,55,75,76,84,63,77,93,73,70,48,74,88,70,70,67,60,87,63,72,57,84,75,78,53,76,77,82,78,61,94,78,96,73,75,77,79,71,57,73,79,55,95,85,56,59,65,68,84,55,94,68,57,77,75,73,62,93,42,74,51,84,90,76,51,76,100,92,62,54,61,77,65,56,43,71,87,57,61,57,100,76,65,95,59,76],\"yaxis\":\"y\",\"type\":\"scatter\"},{\"hovertemplate\":\"parental level of education=high school<br>math score=%{x}<br>reading score=%{y}<extra></extra>\",\"legendgroup\":\"high school\",\"marker\":{\"color\":\"#FFA15A\",\"symbol\":\"circle\"},\"mode\":\"markers\",\"name\":\"high school\",\"orientation\":\"v\",\"showlegend\":true,\"x\":[64,38,65,88,66,70,66,82,88,33,49,42,27,71,60,62,84,63,87,70,57,66,52,53,68,72,46,50,80,55,81,42,87,34,66,56,57,73,56,58,65,68,54,99,76,69,59,53,45,78,40,49,71,67,75,41,71,58,61,69,72,75,58,69,62,48,50,88,54,52,84,57,57,61,61,70,78,86,47,72,72,77,63,73,59,70,54,68,68,67,53,36,73,51,75,72,62,63,50,74,81,55,74,30,69,29,60,60,35,58,79,75,71,67,41,74,70,64,50,68,65,66,69,67,60,62,53,66,46,89,76,50,73,61,81,69,53,62,74,58,76,52,66,76,48,66,42,70,41,90,45,72,60,71,62,77,60,73,75,39,23,64,59,61,52,59,59,64,54,44,36,34,57,44,69,35,72,74,65,57,81,58,82,57,94,58,45,75,53,55,8,57,86,63,62,59],\"xaxis\":\"x\",\"y\":[64,60,81,89,69,70,71,84,78,41,45,39,34,79,44,55,77,57,95,55,43,74,53,51,83,73,54,50,76,56,80,62,91,42,77,68,50,68,52,70,64,60,52,93,73,72,63,52,48,77,46,57,66,79,86,46,60,61,73,76,80,74,62,58,64,45,67,99,59,57,73,56,58,72,56,56,81,81,46,65,67,88,69,71,52,74,64,64,70,78,52,53,69,66,69,67,67,48,66,81,91,73,76,24,77,29,57,68,61,51,60,88,74,80,52,79,65,62,53,80,69,76,77,72,68,55,58,66,34,87,76,48,92,60,84,75,72,62,72,75,62,48,72,85,62,74,52,70,45,75,47,80,72,87,67,82,64,64,82,52,44,54,72,68,49,53,58,73,72,51,29,48,48,61,70,53,66,70,61,58,66,68,82,75,73,52,63,81,50,41,24,51,81,63,55,71],\"yaxis\":\"y\",\"type\":\"scatter\"},{\"hovertemplate\":\"parental level of education=some high school<br>math score=%{x}<br>reading score=%{y}<extra></extra>\",\"legendgroup\":\"some high school\",\"marker\":{\"color\":\"#19d3f3\",\"symbol\":\"circle\"},\"mode\":\"markers\",\"name\":\"some high school\",\"orientation\":\"v\",\"showlegend\":true,\"x\":[69,18,69,50,71,0,39,59,67,45,61,49,30,61,73,65,70,51,72,53,51,76,88,62,62,94,97,45,62,48,62,59,74,80,84,61,55,86,68,92,64,75,47,60,64,44,59,85,65,37,67,77,86,63,46,56,51,43,41,76,24,35,85,27,44,73,74,80,71,38,38,73,65,74,60,59,63,63,59,69,65,68,47,73,89,59,79,67,59,64,66,82,64,62,54,76,66,56,47,78,92,79,73,81,77,48,71,53,65,75,44,84,80,72,51,73,69,73,50,70,29,49,57,59,80,60,55,74,68,55,55,71,77,48,78,68,52,49,32,72,89,67,76,51,87,94,77,85,48,65,69,68,64,40,82,62,57,59,88,32,63,65,67,74,48,77,61,49,74,48,65,66,78,81,79,74,81,44,65],\"xaxis\":\"x\",\"y\":[75,32,73,64,84,17,39,58,64,37,57,49,26,74,86,66,64,63,68,37,54,72,84,67,67,88,100,52,66,52,64,69,71,79,83,56,65,80,72,87,60,74,49,70,79,50,42,92,86,46,89,76,73,60,41,54,52,53,55,70,38,55,84,34,64,84,74,90,83,49,43,67,74,63,59,54,73,67,85,71,59,63,59,66,88,73,82,74,67,53,69,82,50,49,61,87,78,61,54,83,100,76,66,97,79,66,62,54,82,72,51,84,92,81,56,79,66,66,60,82,40,63,67,63,85,70,59,90,51,46,47,69,90,58,81,71,67,58,51,79,84,73,80,31,84,86,91,90,58,69,86,54,58,65,67,64,61,72,74,34,78,78,84,64,56,68,62,50,74,54,76,68,72,78,85,75,75,45,82],\"yaxis\":\"y\",\"type\":\"scatter\"}],                        {\"template\":{\"data\":{\"histogram2dcontour\":[{\"type\":\"histogram2dcontour\",\"colorbar\":{\"outlinewidth\":0,\"ticks\":\"\"},\"colorscale\":[[0.0,\"#0d0887\"],[0.1111111111111111,\"#46039f\"],[0.2222222222222222,\"#7201a8\"],[0.3333333333333333,\"#9c179e\"],[0.4444444444444444,\"#bd3786\"],[0.5555555555555556,\"#d8576b\"],[0.6666666666666666,\"#ed7953\"],[0.7777777777777778,\"#fb9f3a\"],[0.8888888888888888,\"#fdca26\"],[1.0,\"#f0f921\"]]}],\"choropleth\":[{\"type\":\"choropleth\",\"colorbar\":{\"outlinewidth\":0,\"ticks\":\"\"}}],\"histogram2d\":[{\"type\":\"histogram2d\",\"colorbar\":{\"outlinewidth\":0,\"ticks\":\"\"},\"colorscale\":[[0.0,\"#0d0887\"],[0.1111111111111111,\"#46039f\"],[0.2222222222222222,\"#7201a8\"],[0.3333333333333333,\"#9c179e\"],[0.4444444444444444,\"#bd3786\"],[0.5555555555555556,\"#d8576b\"],[0.6666666666666666,\"#ed7953\"],[0.7777777777777778,\"#fb9f3a\"],[0.8888888888888888,\"#fdca26\"],[1.0,\"#f0f921\"]]}],\"heatmap\":[{\"type\":\"heatmap\",\"colorbar\":{\"outlinewidth\":0,\"ticks\":\"\"},\"colorscale\":[[0.0,\"#0d0887\"],[0.1111111111111111,\"#46039f\"],[0.2222222222222222,\"#7201a8\"],[0.3333333333333333,\"#9c179e\"],[0.4444444444444444,\"#bd3786\"],[0.5555555555555556,\"#d8576b\"],[0.6666666666666666,\"#ed7953\"],[0.7777777777777778,\"#fb9f3a\"],[0.8888888888888888,\"#fdca26\"],[1.0,\"#f0f921\"]]}],\"heatmapgl\":[{\"type\":\"heatmapgl\",\"colorbar\":{\"outlinewidth\":0,\"ticks\":\"\"},\"colorscale\":[[0.0,\"#0d0887\"],[0.1111111111111111,\"#46039f\"],[0.2222222222222222,\"#7201a8\"],[0.3333333333333333,\"#9c179e\"],[0.4444444444444444,\"#bd3786\"],[0.5555555555555556,\"#d8576b\"],[0.6666666666666666,\"#ed7953\"],[0.7777777777777778,\"#fb9f3a\"],[0.8888888888888888,\"#fdca26\"],[1.0,\"#f0f921\"]]}],\"contourcarpet\":[{\"type\":\"contourcarpet\",\"colorbar\":{\"outlinewidth\":0,\"ticks\":\"\"}}],\"contour\":[{\"type\":\"contour\",\"colorbar\":{\"outlinewidth\":0,\"ticks\":\"\"},\"colorscale\":[[0.0,\"#0d0887\"],[0.1111111111111111,\"#46039f\"],[0.2222222222222222,\"#7201a8\"],[0.3333333333333333,\"#9c179e\"],[0.4444444444444444,\"#bd3786\"],[0.5555555555555556,\"#d8576b\"],[0.6666666666666666,\"#ed7953\"],[0.7777777777777778,\"#fb9f3a\"],[0.8888888888888888,\"#fdca26\"],[1.0,\"#f0f921\"]]}],\"surface\":[{\"type\":\"surface\",\"colorbar\":{\"outlinewidth\":0,\"ticks\":\"\"},\"colorscale\":[[0.0,\"#0d0887\"],[0.1111111111111111,\"#46039f\"],[0.2222222222222222,\"#7201a8\"],[0.3333333333333333,\"#9c179e\"],[0.4444444444444444,\"#bd3786\"],[0.5555555555555556,\"#d8576b\"],[0.6666666666666666,\"#ed7953\"],[0.7777777777777778,\"#fb9f3a\"],[0.8888888888888888,\"#fdca26\"],[1.0,\"#f0f921\"]]}],\"mesh3d\":[{\"type\":\"mesh3d\",\"colorbar\":{\"outlinewidth\":0,\"ticks\":\"\"}}],\"scatter\":[{\"fillpattern\":{\"fillmode\":\"overlay\",\"size\":10,\"solidity\":0.2},\"type\":\"scatter\"}],\"parcoords\":[{\"type\":\"parcoords\",\"line\":{\"colorbar\":{\"outlinewidth\":0,\"ticks\":\"\"}}}],\"scatterpolargl\":[{\"type\":\"scatterpolargl\",\"marker\":{\"colorbar\":{\"outlinewidth\":0,\"ticks\":\"\"}}}],\"bar\":[{\"error_x\":{\"color\":\"#2a3f5f\"},\"error_y\":{\"color\":\"#2a3f5f\"},\"marker\":{\"line\":{\"color\":\"#E5ECF6\",\"width\":0.5},\"pattern\":{\"fillmode\":\"overlay\",\"size\":10,\"solidity\":0.2}},\"type\":\"bar\"}],\"scattergeo\":[{\"type\":\"scattergeo\",\"marker\":{\"colorbar\":{\"outlinewidth\":0,\"ticks\":\"\"}}}],\"scatterpolar\":[{\"type\":\"scatterpolar\",\"marker\":{\"colorbar\":{\"outlinewidth\":0,\"ticks\":\"\"}}}],\"histogram\":[{\"marker\":{\"pattern\":{\"fillmode\":\"overlay\",\"size\":10,\"solidity\":0.2}},\"type\":\"histogram\"}],\"scattergl\":[{\"type\":\"scattergl\",\"marker\":{\"colorbar\":{\"outlinewidth\":0,\"ticks\":\"\"}}}],\"scatter3d\":[{\"type\":\"scatter3d\",\"line\":{\"colorbar\":{\"outlinewidth\":0,\"ticks\":\"\"}},\"marker\":{\"colorbar\":{\"outlinewidth\":0,\"ticks\":\"\"}}}],\"scattermapbox\":[{\"type\":\"scattermapbox\",\"marker\":{\"colorbar\":{\"outlinewidth\":0,\"ticks\":\"\"}}}],\"scatterternary\":[{\"type\":\"scatterternary\",\"marker\":{\"colorbar\":{\"outlinewidth\":0,\"ticks\":\"\"}}}],\"scattercarpet\":[{\"type\":\"scattercarpet\",\"marker\":{\"colorbar\":{\"outlinewidth\":0,\"ticks\":\"\"}}}],\"carpet\":[{\"aaxis\":{\"endlinecolor\":\"#2a3f5f\",\"gridcolor\":\"white\",\"linecolor\":\"white\",\"minorgridcolor\":\"white\",\"startlinecolor\":\"#2a3f5f\"},\"baxis\":{\"endlinecolor\":\"#2a3f5f\",\"gridcolor\":\"white\",\"linecolor\":\"white\",\"minorgridcolor\":\"white\",\"startlinecolor\":\"#2a3f5f\"},\"type\":\"carpet\"}],\"table\":[{\"cells\":{\"fill\":{\"color\":\"#EBF0F8\"},\"line\":{\"color\":\"white\"}},\"header\":{\"fill\":{\"color\":\"#C8D4E3\"},\"line\":{\"color\":\"white\"}},\"type\":\"table\"}],\"barpolar\":[{\"marker\":{\"line\":{\"color\":\"#E5ECF6\",\"width\":0.5},\"pattern\":{\"fillmode\":\"overlay\",\"size\":10,\"solidity\":0.2}},\"type\":\"barpolar\"}],\"pie\":[{\"automargin\":true,\"type\":\"pie\"}]},\"layout\":{\"autotypenumbers\":\"strict\",\"colorway\":[\"#636efa\",\"#EF553B\",\"#00cc96\",\"#ab63fa\",\"#FFA15A\",\"#19d3f3\",\"#FF6692\",\"#B6E880\",\"#FF97FF\",\"#FECB52\"],\"font\":{\"color\":\"#2a3f5f\"},\"hovermode\":\"closest\",\"hoverlabel\":{\"align\":\"left\"},\"paper_bgcolor\":\"white\",\"plot_bgcolor\":\"#E5ECF6\",\"polar\":{\"bgcolor\":\"#E5ECF6\",\"angularaxis\":{\"gridcolor\":\"white\",\"linecolor\":\"white\",\"ticks\":\"\"},\"radialaxis\":{\"gridcolor\":\"white\",\"linecolor\":\"white\",\"ticks\":\"\"}},\"ternary\":{\"bgcolor\":\"#E5ECF6\",\"aaxis\":{\"gridcolor\":\"white\",\"linecolor\":\"white\",\"ticks\":\"\"},\"baxis\":{\"gridcolor\":\"white\",\"linecolor\":\"white\",\"ticks\":\"\"},\"caxis\":{\"gridcolor\":\"white\",\"linecolor\":\"white\",\"ticks\":\"\"}},\"coloraxis\":{\"colorbar\":{\"outlinewidth\":0,\"ticks\":\"\"}},\"colorscale\":{\"sequential\":[[0.0,\"#0d0887\"],[0.1111111111111111,\"#46039f\"],[0.2222222222222222,\"#7201a8\"],[0.3333333333333333,\"#9c179e\"],[0.4444444444444444,\"#bd3786\"],[0.5555555555555556,\"#d8576b\"],[0.6666666666666666,\"#ed7953\"],[0.7777777777777778,\"#fb9f3a\"],[0.8888888888888888,\"#fdca26\"],[1.0,\"#f0f921\"]],\"sequentialminus\":[[0.0,\"#0d0887\"],[0.1111111111111111,\"#46039f\"],[0.2222222222222222,\"#7201a8\"],[0.3333333333333333,\"#9c179e\"],[0.4444444444444444,\"#bd3786\"],[0.5555555555555556,\"#d8576b\"],[0.6666666666666666,\"#ed7953\"],[0.7777777777777778,\"#fb9f3a\"],[0.8888888888888888,\"#fdca26\"],[1.0,\"#f0f921\"]],\"diverging\":[[0,\"#8e0152\"],[0.1,\"#c51b7d\"],[0.2,\"#de77ae\"],[0.3,\"#f1b6da\"],[0.4,\"#fde0ef\"],[0.5,\"#f7f7f7\"],[0.6,\"#e6f5d0\"],[0.7,\"#b8e186\"],[0.8,\"#7fbc41\"],[0.9,\"#4d9221\"],[1,\"#276419\"]]},\"xaxis\":{\"gridcolor\":\"white\",\"linecolor\":\"white\",\"ticks\":\"\",\"title\":{\"standoff\":15},\"zerolinecolor\":\"white\",\"automargin\":true,\"zerolinewidth\":2},\"yaxis\":{\"gridcolor\":\"white\",\"linecolor\":\"white\",\"ticks\":\"\",\"title\":{\"standoff\":15},\"zerolinecolor\":\"white\",\"automargin\":true,\"zerolinewidth\":2},\"scene\":{\"xaxis\":{\"backgroundcolor\":\"#E5ECF6\",\"gridcolor\":\"white\",\"linecolor\":\"white\",\"showbackground\":true,\"ticks\":\"\",\"zerolinecolor\":\"white\",\"gridwidth\":2},\"yaxis\":{\"backgroundcolor\":\"#E5ECF6\",\"gridcolor\":\"white\",\"linecolor\":\"white\",\"showbackground\":true,\"ticks\":\"\",\"zerolinecolor\":\"white\",\"gridwidth\":2},\"zaxis\":{\"backgroundcolor\":\"#E5ECF6\",\"gridcolor\":\"white\",\"linecolor\":\"white\",\"showbackground\":true,\"ticks\":\"\",\"zerolinecolor\":\"white\",\"gridwidth\":2}},\"shapedefaults\":{\"line\":{\"color\":\"#2a3f5f\"}},\"annotationdefaults\":{\"arrowcolor\":\"#2a3f5f\",\"arrowhead\":0,\"arrowwidth\":1},\"geo\":{\"bgcolor\":\"white\",\"landcolor\":\"#E5ECF6\",\"subunitcolor\":\"white\",\"showland\":true,\"showlakes\":true,\"lakecolor\":\"white\"},\"title\":{\"x\":0.05},\"mapbox\":{\"style\":\"light\"}}},\"xaxis\":{\"anchor\":\"y\",\"domain\":[0.0,1.0],\"title\":{\"text\":\"math score\"}},\"yaxis\":{\"anchor\":\"x\",\"domain\":[0.0,1.0],\"title\":{\"text\":\"reading score\"}},\"legend\":{\"title\":{\"text\":\"parental level of education\"},\"tracegroupgap\":0},\"margin\":{\"t\":60}},                        {\"responsive\": true}                    ).then(function(){\n",
       "                            \n",
       "var gd = document.getElementById('c692eb9a-18ad-4801-8af7-0ee9021af8af');\n",
       "var x = new MutationObserver(function (mutations, observer) {{\n",
       "        var display = window.getComputedStyle(gd).display;\n",
       "        if (!display || display === 'none') {{\n",
       "            console.log([gd, 'removed!']);\n",
       "            Plotly.purge(gd);\n",
       "            observer.disconnect();\n",
       "        }}\n",
       "}});\n",
       "\n",
       "// Listen for the removal of the full notebook cells\n",
       "var notebookContainer = gd.closest('#notebook-container');\n",
       "if (notebookContainer) {{\n",
       "    x.observe(notebookContainer, {childList: true});\n",
       "}}\n",
       "\n",
       "// Listen for the clearing of the current output cell\n",
       "var outputEl = gd.closest('.output');\n",
       "if (outputEl) {{\n",
       "    x.observe(outputEl, {childList: true});\n",
       "}}\n",
       "\n",
       "                        })                };                });            </script>        </div>"
      ]
     },
     "metadata": {},
     "output_type": "display_data"
    }
   ],
   "source": [
    "px.scatter(df_sp,\n",
    "           x='math score',\n",
    "           y='reading score', \n",
    "           color='parental level of education')"
   ]
  },
  {
   "cell_type": "code",
   "execution_count": null,
   "id": "54b1172b",
   "metadata": {},
   "outputs": [],
   "source": []
  },
  {
   "cell_type": "code",
   "execution_count": null,
   "id": "a278bc32",
   "metadata": {},
   "outputs": [],
   "source": []
  },
  {
   "cell_type": "code",
   "execution_count": null,
   "id": "5a4079f3",
   "metadata": {},
   "outputs": [],
   "source": []
  },
  {
   "cell_type": "code",
   "execution_count": null,
   "id": "ca8d10b6",
   "metadata": {},
   "outputs": [],
   "source": []
  },
  {
   "cell_type": "code",
   "execution_count": null,
   "id": "20638303",
   "metadata": {},
   "outputs": [],
   "source": []
  },
  {
   "cell_type": "markdown",
   "id": "438a6fcf",
   "metadata": {},
   "source": [
    "#### End of script"
   ]
  }
 ],
 "metadata": {
  "kernelspec": {
   "display_name": "Python 3 (ipykernel)",
   "language": "python",
   "name": "python3"
  },
  "language_info": {
   "codemirror_mode": {
    "name": "ipython",
    "version": 3
   },
   "file_extension": ".py",
   "mimetype": "text/x-python",
   "name": "python",
   "nbconvert_exporter": "python",
   "pygments_lexer": "ipython3",
   "version": "3.10.9"
  }
 },
 "nbformat": 4,
 "nbformat_minor": 5
}
