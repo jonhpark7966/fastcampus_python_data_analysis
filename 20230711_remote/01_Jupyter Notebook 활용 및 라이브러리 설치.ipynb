{
 "cells": [
  {
   "cell_type": "markdown",
   "id": "edbc25c4",
   "metadata": {},
   "source": [
    "# Jupyter Notebook 활용 및 Python 분석 환경 설정\n",
    "\n",
    "### 주요 내용\n",
    "\n",
    "1. Jupyter notebook의 주요 기능 및 단축키 등 설명\n",
    "2. pip를 활용한 라이브러리 설치\n",
    "3. import를 활용한 라이브러리 불러오기\n",
    "\n",
    "<br>\n",
    "\n",
    "### 목표 \n",
    "1. Jupyter Notebook을 활용해서 Python 코드를 작성하고 실행할 수 있다.\n",
    "2. 작업 폴더(working directory)의 개념을 이해한다.\n",
    "3. 라이브러리(library) 활용 목적과 절차를 이해한다.\n",
    "\n",
    "\n",
    "<br>\n",
    "<hr>\n",
    "<br>"
   ]
  },
  {
   "cell_type": "markdown",
   "id": "efd228f4",
   "metadata": {},
   "source": [
    "## 1. Jupyter Notebook 사용법, 기능 및 단축키 소개  \n",
    "\n",
    "\n",
    "jupyter notebook은 여러 cell을 수직적으로 결합해서 문서를 만들거나 분석을 수행  \n",
    "상단 메뉴바와 아이콘을 활용하여 cell을 추가, 제거, 이동, 복사 가능  \n",
    "cell에 명령어를 입력하고 실행해서 결과 확인  \n",
    "\n",
    "### 1.1. Jupyter notebok 주요 단축키 목록\n",
    "\n",
    "\n",
    "* 파란색 : 명령 모드(cell의 추가, 복사, 삭제 등), \"ESC\"\n",
    "  - `H` : 단축키 목록 팝업\n",
    "  - `A` : 위에 cell 추가 \n",
    "  - `B` : 아래에 cell 추가\n",
    "  - `위/아래 화살표` : cell 이동\n",
    "  - `D, D` : cell 삭제\n",
    "  - `M` : cell을 Markdown(문서 작성) 형식으로 변경\n",
    "  - `Y` : cell을 Code(명령어 작성) 형식으로 변경\n",
    "  - `S`, `Ctrl + S` : 저장\n",
    "  \n",
    "  \n",
    "* 초록색 : 수정 모드(각 cell 안에서 명령어 등 입력), \"ENTER\"\n",
    "  - `Tab` : 들여쓰기 혹은 코드 완성\n",
    "  - `Shift + Tab` : 들여쓰기 취소 혹은 툴팁(도움말)\n",
    "  - `Ctrl + /` : 주석처리/해제\n",
    "\n",
    "* cell 실행 \n",
    "  - `Shift + Enter` : 실행하고 다음 cell로 이동\n",
    "  - `Ctrl + Enter` : 실행\n",
    "  \n",
    "\n",
    "<br>\n",
    "\n",
    "\n",
    "\n"
   ]
  },
  {
   "cell_type": "code",
   "execution_count": 2,
   "id": "ad02eaa0",
   "metadata": {},
   "outputs": [],
   "source": [
    "# \"#\"을 붙여서 주석(comment)을 달 수 있습니다."
   ]
  },
  {
   "cell_type": "code",
   "execution_count": 3,
   "id": "04514f9a",
   "metadata": {},
   "outputs": [
    {
     "data": {
      "text/plain": [
       "77"
      ]
     },
     "execution_count": 3,
     "metadata": {},
     "output_type": "execute_result"
    }
   ],
   "source": [
    "# 이 cell에 간단한 사칙 연산을 입력하고 실행해 봅시다.\n",
    "7*11"
   ]
  },
  {
   "cell_type": "code",
   "execution_count": null,
   "id": "fb4bde74",
   "metadata": {},
   "outputs": [],
   "source": [
    "##### 이 cell을 클릭하고 \"M\"을 누르면 Markdown으로 바뀝니다.\n"
   ]
  },
  {
   "cell_type": "markdown",
   "id": "d44263db",
   "metadata": {},
   "source": [
    "#### 이 cell을 클릭하고 \"Y\"를 누르면 Code로 바뀝니다."
   ]
  },
  {
   "cell_type": "markdown",
   "id": "9076aeae",
   "metadata": {},
   "source": [
    "\n",
    "<br>\n",
    "\n",
    "## 2. 새 폴더와 새 노트북 파일 만들기\n",
    "\n",
    "jupyter 메인 페이지에서 경로를 이동하거나 새 폴더 생성 가능  \n",
    "jupyter 메인 페이지 및 노트북 내 상단 메뉴 [File] > [New Notebook]에서 새 노트북 파일 생성  \n",
    "  \n",
    "  \n",
    "\n",
    "### 2.1. 간단한 실습  \n",
    "\n",
    "> 새 노트북 파일에서 `A`, `B` 를 눌러 새로운 cell을 추가하고, `M`, `Y`를 눌러 마크다운과 코드로 형식을 바꿔봅시다. `Enter`를 누른 수정모드에서 간단한 수식을 넣고 `Ctrl+Enter`로 실행하고, `Shift+Enter`로 다시 한번 실행한 다음 차이를 확인합니다. 다시 방향키로 위의 cell로 이동한 다음 수정모드에서 `Ctrl+/`를 눌러 작성한 스크립트를 주석 처리하거나 직접 `#`을 써서 주석을 입력해봅시다.  \n",
    "\n",
    "[File] > [Download as]로 다양한 형식으로 노트북을 저장 가능  \n",
    "[Cell] > [All output] > [Clear]로 모든 실행 결과를 지울 수 있음\n"
   ]
  },
  {
   "cell_type": "markdown",
   "id": "90ac77b8",
   "metadata": {},
   "source": [
    "\n",
    "<br>\n",
    "<hr>\n",
    "<br>\n",
    "\n",
    "## 3. pip를 활용한 Library 설치\n",
    "\n",
    "Python을 활용해 데이터를 분석하기 위해서는 pandas와 같은 라이브러리 설치가 필수\n",
    "<span style='color:blue;font-weight:bold'>pip</span> 명령어를 활용해서 라이브러리를 설치 가능  \n",
    "jupyter notebook 안에서 shell command를 실행하기 위해서 <span style='color:purple;font-weight:bold'>!</span>를 앞에 붙임    \n",
    "\n",
    "> 라이브러리를 설치하기 위해서는 외부망 접속이 가능해야하고, 외부망에서 소스 파일을 다운받아 압축을 풀기 위해서는 특정 폴더에 대한 권한도 필요합니다."
   ]
  },
  {
   "cell_type": "code",
   "execution_count": null,
   "id": "e80748ed",
   "metadata": {
    "scrolled": true
   },
   "outputs": [],
   "source": [
    "#!pip install numpy pandas matplotlib seaborn plotly xlrd openpyxl"
   ]
  },
  {
   "cell_type": "markdown",
   "id": "5d3030c2",
   "metadata": {},
   "source": [
    "<br>\n",
    "\n",
    "## 4. Library 설치 확인\n",
    "\n",
    "* 4개 결과 출력여부 확인\n",
    "    - openpyxl\n",
    "    - pandas\n",
    "    - plotly\n",
    "    - seaborn\n",
    "    "
   ]
  },
  {
   "cell_type": "code",
   "execution_count": 1,
   "id": "d3ae205a",
   "metadata": {
    "scrolled": true
   },
   "outputs": [
    {
     "name": "stdout",
     "output_type": "stream",
     "text": [
      "openpyxl==3.0.10\n",
      "pandas==1.5.3\n",
      "plotly==5.9.0\n",
      "seaborn==0.12.2\n"
     ]
    }
   ],
   "source": [
    "# Windows \n",
    "!pip list --format=freeze | findstr /r \"pandas seaborn plotly openpyxl\""
   ]
  },
  {
   "cell_type": "markdown",
   "id": "8d007092",
   "metadata": {},
   "source": [
    "<br>\n",
    "<hr>\n",
    "<br>\n",
    "\n",
    "## 5. Library 활용 예제\n",
    "\n",
    "*import*를 활용해서 특정 라이브러리를 불러오기  \n",
    "이후 해당 라이브러리에 포함된 객체나 기능, 함수 등을 활용 가능"
   ]
  },
  {
   "cell_type": "code",
   "execution_count": 4,
   "id": "4c135ae6",
   "metadata": {},
   "outputs": [],
   "source": [
    "import os"
   ]
  },
  {
   "cell_type": "markdown",
   "id": "b7571610",
   "metadata": {},
   "source": [
    "> 아래의 cell에 *os.* 을 입력하고 **Tab**키를 누릅니다. 자동 완성(Auto-completion) 기능을 활용해서 함수 *getcwd()* 를 찾고 **Enter**키를 눌러서 선택합니다.  \n",
    "소괄호를 열고 **Shift+Tab**을 눌러 함수의 도움말을 확인할 수 있습니다.  "
   ]
  },
  {
   "cell_type": "code",
   "execution_count": 5,
   "id": "c71e116c",
   "metadata": {},
   "outputs": [
    {
     "data": {
      "text/plain": [
       "'C:\\\\Users\\\\jhpark\\\\Desktop\\\\실습자료_Python 데이터 분석'"
      ]
     },
     "execution_count": 5,
     "metadata": {},
     "output_type": "execute_result"
    }
   ],
   "source": [
    "os.getcwd()"
   ]
  },
  {
   "cell_type": "markdown",
   "id": "18429deb",
   "metadata": {},
   "source": [
    "### [실습] \n",
    "위와 같은 방법으로 **os** 라이브러리의 함수 *listdir()* 과 *mkdir()* 을 선택하고 자유롭게 실행하기"
   ]
  },
  {
   "cell_type": "code",
   "execution_count": 6,
   "id": "ffaced60",
   "metadata": {},
   "outputs": [
    {
     "data": {
      "text/plain": [
       "['.ipynb_checkpoints',\n",
       " '01_Jupyter Notebook 활용 및 라이브러리 설치.ipynb',\n",
       " '02_Python 기초 문법.ipynb',\n",
       " '03_데이터 불러오기.ipynb',\n",
       " '04_데이터 결합 및 부분 선택.ipynb',\n",
       " '05_데이터 집계와 시각화.ipynb',\n",
       " '06_변수 형식 처리 및 파생변수 생성.ipynb',\n",
       " 'data',\n",
       " 'test_notebook.ipynb']"
      ]
     },
     "execution_count": 6,
     "metadata": {},
     "output_type": "execute_result"
    }
   ],
   "source": [
    "os.listdir()"
   ]
  },
  {
   "cell_type": "code",
   "execution_count": 16,
   "id": "afddac01",
   "metadata": {},
   "outputs": [
    {
     "ename": "TypeError",
     "evalue": "mkdir() missing required argument 'path' (pos 1)",
     "output_type": "error",
     "traceback": [
      "\u001b[1;31m---------------------------------------------------------------------------\u001b[0m",
      "\u001b[1;31mTypeError\u001b[0m                                 Traceback (most recent call last)",
      "Cell \u001b[1;32mIn[16], line 1\u001b[0m\n\u001b[1;32m----> 1\u001b[0m \u001b[43mos\u001b[49m\u001b[38;5;241;43m.\u001b[39;49m\u001b[43mmkdir\u001b[49m\u001b[43m(\u001b[49m\u001b[43m)\u001b[49m\n",
      "\u001b[1;31mTypeError\u001b[0m: mkdir() missing required argument 'path' (pos 1)"
     ]
    }
   ],
   "source": [
    "os.mkdir()"
   ]
  },
  {
   "cell_type": "code",
   "execution_count": null,
   "id": "af68dc72",
   "metadata": {},
   "outputs": [],
   "source": []
  },
  {
   "cell_type": "code",
   "execution_count": null,
   "id": "9abd74a3",
   "metadata": {},
   "outputs": [],
   "source": []
  },
  {
   "cell_type": "markdown",
   "id": "24065efd",
   "metadata": {},
   "source": [
    "> 물론 라이브러리를 불러오지 않아도 활용가능한 여러가지 함수와 명령어들도 있습니다. 그중 **%** 로 시작하는 매직 명령어(magic commands)는 **os** 라이브러리의 함수를 대신하기도 합니다."
   ]
  },
  {
   "cell_type": "code",
   "execution_count": 9,
   "id": "3afce78c",
   "metadata": {},
   "outputs": [
    {
     "data": {
      "text/plain": [
       "'C:\\\\Users\\\\jhpark\\\\Desktop\\\\실습자료_Python 데이터 분석'"
      ]
     },
     "execution_count": 9,
     "metadata": {},
     "output_type": "execute_result"
    }
   ],
   "source": [
    "# 작업 폴더 출력\n",
    "%pwd"
   ]
  },
  {
   "cell_type": "code",
   "execution_count": 10,
   "id": "8cb19ed0",
   "metadata": {},
   "outputs": [],
   "source": [
    "# 폴더 생성\n",
    "%mkdir temp"
   ]
  },
  {
   "cell_type": "code",
   "execution_count": null,
   "id": "52a1d3d9",
   "metadata": {},
   "outputs": [],
   "source": []
  },
  {
   "cell_type": "markdown",
   "id": "69c32fd2",
   "metadata": {},
   "source": [
    "<br>\n",
    "\n",
    "### [실습] \n",
    "\n",
    "1. *import*로 **random** 라이브러리 불러오기\n",
    "2. **random** 라이브러리의 *randint()* 함수를 활용해서 1부터 100까지 숫자 중에서 랜덤으로 하나 선택하기 \n",
    "3. **datetime** 라이브러리를 불러와서 *datetime.datetime.now()* 로 현재 시간 확인하기\n"
   ]
  },
  {
   "cell_type": "code",
   "execution_count": 11,
   "id": "e8cc2038",
   "metadata": {},
   "outputs": [],
   "source": [
    "import random"
   ]
  },
  {
   "cell_type": "code",
   "execution_count": 22,
   "id": "2e97f4f3",
   "metadata": {},
   "outputs": [
    {
     "data": {
      "text/plain": [
       "2"
      ]
     },
     "execution_count": 22,
     "metadata": {},
     "output_type": "execute_result"
    }
   ],
   "source": [
    "random.randint(1,100)"
   ]
  },
  {
   "cell_type": "code",
   "execution_count": 24,
   "id": "be819db2",
   "metadata": {},
   "outputs": [
    {
     "data": {
      "text/plain": [
       "datetime.datetime(2023, 7, 11, 11, 21, 44, 883610)"
      ]
     },
     "execution_count": 24,
     "metadata": {},
     "output_type": "execute_result"
    }
   ],
   "source": [
    "import datetime\n",
    "\n",
    "datetime.datetime.now()"
   ]
  },
  {
   "cell_type": "markdown",
   "id": "f22f05f8",
   "metadata": {},
   "source": [
    "<br>\n",
    "\n",
    "### 5.1. from과 as를 활용한 라이브러리 불러오기 \n",
    "\n",
    "라이브러리는 몇개의 모듈로 구성되고, 각 모듈 안에 함수 등이 포함되어 있음  \n",
    "*import*로 를 활용해서 라이브러리를 불러올 때 *as*를 활용해서 별명을 지정 가능  \n",
    "*from*을 활용해서 라이브러리 내 특정 모듈을 지정해서 불러오는 것도 가능 \n"
   ]
  },
  {
   "cell_type": "code",
   "execution_count": null,
   "id": "20f059ec",
   "metadata": {},
   "outputs": [],
   "source": [
    "# import를 활용한 라이브러리 호출\n",
    "import pandas\n",
    "\n",
    "pandas.read_csv()"
   ]
  },
  {
   "cell_type": "code",
   "execution_count": null,
   "id": "d65a846b",
   "metadata": {},
   "outputs": [],
   "source": [
    "# as를 활용한 별명 지정 \n",
    "import pandas as pd\n",
    "\n",
    "pd.read_csv()"
   ]
  },
  {
   "cell_type": "code",
   "execution_count": null,
   "id": "70bf9d65",
   "metadata": {},
   "outputs": [],
   "source": [
    "# 라이브러리 내 특정 함수 불러오기\n",
    "from pandas import read_csv, ... , ... , ...\n",
    "\n",
    "read_csv()"
   ]
  },
  {
   "cell_type": "code",
   "execution_count": null,
   "id": "8a86d794",
   "metadata": {},
   "outputs": [],
   "source": [
    "# 라이브러리 내 모든 함수 불러오기\n",
    "from pandas import * \n",
    "\n",
    "read_csv()\n",
    "# read_excel()"
   ]
  },
  {
   "cell_type": "markdown",
   "id": "200a702d",
   "metadata": {},
   "source": [
    "#### End of script"
   ]
  }
 ],
 "metadata": {
  "kernelspec": {
   "display_name": "Python 3 (ipykernel)",
   "language": "python",
   "name": "python3"
  },
  "language_info": {
   "codemirror_mode": {
    "name": "ipython",
    "version": 3
   },
   "file_extension": ".py",
   "mimetype": "text/x-python",
   "name": "python",
   "nbconvert_exporter": "python",
   "pygments_lexer": "ipython3",
   "version": "3.10.9"
  }
 },
 "nbformat": 4,
 "nbformat_minor": 5
}
