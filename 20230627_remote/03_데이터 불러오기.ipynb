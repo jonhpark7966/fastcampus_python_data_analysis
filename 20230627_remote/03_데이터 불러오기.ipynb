{
 "cells": [
  {
   "cell_type": "markdown",
   "id": "8a6c67e2",
   "metadata": {},
   "source": [
    "# 데이터 불러오기/살펴보기\n",
    "\n",
    "### 주요 내용\n",
    "\n",
    "1. csv, xlsx 파일 불러오기\n",
    "2. 데이터 살펴보기\n",
    "3. DRM 보안 파일 불러오기\n",
    "\n",
    "<br>\n",
    "\n",
    "### 목표 \n",
    "1. 분석에 필요한 데이터를 python으로 불러올 수 있다.\n",
    "2. 데이터의 일부나 특성을 확인할 수 있다. \n",
    "\n",
    "\n",
    "<br>\n",
    "<hr>\n",
    "<br>"
   ]
  },
  {
   "cell_type": "markdown",
   "id": "7e80c404",
   "metadata": {},
   "source": [
    "## 1. 파일 불러와서 살펴보기\n",
    "\n",
    "**pandas** 라이브러리의 *read_csv()* 등의 함수를 활용해서 데이터 불러오기 가능 \n",
    "아래의 표현들을 활용해서 데이터 파일의 경로 지정 필요 \n",
    "\n",
    "* `/` : **root**. Windows에서는 C:\\\n",
    "* `~/` : 사용자 폴더. Windows에서는 C:\\Users\\사용자계정이름\n",
    "* `./` : 현재 작업 폴더(working directory), 별도로 작업하지 않은 경우 생략 가능\n",
    "* `../` : 현재 폴더의 상위 폴더\n",
    "\n",
    "\n",
    "`바탕화면`처럼 익숙한 곳에 새로운 폴더를 만들고, 데이터 파일을 옮겨서 작업하는 것을 추천\n",
    "\n"
   ]
  },
  {
   "cell_type": "code",
   "execution_count": null,
   "id": "f4e68afb",
   "metadata": {},
   "outputs": [],
   "source": [
    "# 현재 작업 폴더 확인\n",
    "    ## print working directory\n",
    "%pwd"
   ]
  },
  {
   "cell_type": "markdown",
   "id": "f1effbcd",
   "metadata": {},
   "source": [
    "<br>\n",
    "\n",
    "### 1.1. CSV 파일 불러오기\n",
    "\n",
    "**pandas** 라이브러리 불러오기 "
   ]
  },
  {
   "cell_type": "code",
   "execution_count": null,
   "id": "1842e166",
   "metadata": {},
   "outputs": [],
   "source": [
    "import pandas as pd"
   ]
  },
  {
   "cell_type": "code",
   "execution_count": null,
   "id": "d881a9a0",
   "metadata": {},
   "outputs": [],
   "source": [
    "# pandas의 read_csv( ) 활용\n",
    "#df_ins= pd.read_csv(\"./data/insurance.csv\")\n",
    "df_ins= pd.read_csv(\"data/insurance.csv\")\n",
    "df_ins    \n",
    "    ## 경로가 중요! \n",
    "    ## ./ : ipynb 노트북 파일 폴더\n",
    "    ## ./ 생략 가능\n",
    "    ## Tab으로 자동 완성 기능 활용 가능 "
   ]
  },
  {
   "cell_type": "code",
   "execution_count": null,
   "id": "a2756fb6",
   "metadata": {},
   "outputs": [],
   "source": [
    "# 타입 확인\n",
    "type(df_ins)\n",
    "    ## \"DataFrame\""
   ]
  },
  {
   "cell_type": "code",
   "execution_count": null,
   "id": "07e0a816",
   "metadata": {},
   "outputs": [],
   "source": [
    "# 메서드의 확인(마침표 뒤에서 Tab 누르기)\n",
    "df_ins."
   ]
  },
  {
   "cell_type": "markdown",
   "id": "76e7833b",
   "metadata": {},
   "source": [
    "<br>\n",
    "\n",
    "### 1.2. 데이터 살펴보기\n"
   ]
  },
  {
   "cell_type": "code",
   "execution_count": null,
   "id": "723139a9",
   "metadata": {},
   "outputs": [],
   "source": [
    "# head( )로 앞 몇개 관측치 확인\n",
    "df_ins.head(3)"
   ]
  },
  {
   "cell_type": "code",
   "execution_count": null,
   "id": "61e23b19",
   "metadata": {},
   "outputs": [],
   "source": [
    "# tail( )로 끝 몇 개 관측치 확인\n",
    "df_ins.tail(3)"
   ]
  },
  {
   "cell_type": "code",
   "execution_count": null,
   "id": "656a369d",
   "metadata": {},
   "outputs": [],
   "source": [
    "# 관측치/ 변수 개수 확인\n",
    "df_ins.shape"
   ]
  },
  {
   "cell_type": "code",
   "execution_count": null,
   "id": "d7389977",
   "metadata": {},
   "outputs": [],
   "source": [
    "# 관측치 개수만 확인\n",
    "df_ins.shape[0]"
   ]
  },
  {
   "cell_type": "code",
   "execution_count": null,
   "id": "0298f21e",
   "metadata": {},
   "outputs": [],
   "source": [
    "# index(행 이름) 확인\n",
    "df_ins.index"
   ]
  },
  {
   "cell_type": "code",
   "execution_count": null,
   "id": "0fd13fa2",
   "metadata": {},
   "outputs": [],
   "source": [
    "# columns(변수 이름) 확인\n",
    "df_ins.columns"
   ]
  },
  {
   "cell_type": "code",
   "execution_count": null,
   "id": "8505cfa2",
   "metadata": {},
   "outputs": [],
   "source": [
    "# 변수 형식 확인\n",
    "df_ins.dtypes"
   ]
  },
  {
   "cell_type": "markdown",
   "id": "574eabe7",
   "metadata": {},
   "source": [
    "<br>\n",
    "\n",
    "#### [실습] data 폴더의 PulseRates.csv를 불러와서 df_pr로 저장하기\n",
    "\n",
    "이후 자유롭게 데이터 탐색하기"
   ]
  },
  {
   "cell_type": "code",
   "execution_count": null,
   "id": "174d3b09",
   "metadata": {},
   "outputs": [],
   "source": [
    "df_pr = pd.read_csv(\"data/PulseRates.csv\")\n",
    "df_pr"
   ]
  },
  {
   "cell_type": "code",
   "execution_count": null,
   "id": "12708561",
   "metadata": {},
   "outputs": [],
   "source": [
    "df_pr.head(30)"
   ]
  },
  {
   "cell_type": "code",
   "execution_count": null,
   "id": "da9459ee",
   "metadata": {},
   "outputs": [],
   "source": [
    "df_pr.dtypes"
   ]
  },
  {
   "cell_type": "markdown",
   "id": "19c4e641",
   "metadata": {},
   "source": [
    "#### [참고] Encoding 지정 및 index, header 지정"
   ]
  },
  {
   "cell_type": "code",
   "execution_count": null,
   "id": "ad167ad0",
   "metadata": {},
   "outputs": [],
   "source": [
    "# 인코딩(글자 저장 방법) 오류 발생\n",
    "    ## UnicodeDecodeError  'utf-8' codec can't decode byte 0xbc in position 1: invalid start byte\n",
    "pd.read_csv('data/고용지표_20221115084415.csv')"
   ]
  },
  {
   "cell_type": "code",
   "execution_count": null,
   "id": "00b4666d",
   "metadata": {},
   "outputs": [],
   "source": [
    "# 옵션 encoding='CP949' 추가\n",
    "pd.read_csv('data/고용지표_20221115084415.csv', encoding='CP949')"
   ]
  },
  {
   "cell_type": "code",
   "execution_count": null,
   "id": "ffba3125",
   "metadata": {},
   "outputs": [],
   "source": [
    "# index, header 지정\n",
    "pd.read_csv('data/고용지표_20221115084415.csv', encoding='CP949', index_col=0, header=[0,1])"
   ]
  },
  {
   "cell_type": "markdown",
   "id": "b9872636",
   "metadata": {},
   "source": [
    "<br>\n",
    "\n",
    "\n",
    "### 1.3. Excel 파일 불러오기  \n",
    "\n",
    "`Excel` 파일은 구버전의 **xls**와 새로운 버전의 **xlsx**로 구분하며 추가 라이브러리 `xlrd`와 `openpyxl` 설치 필수\n",
    " 이후 pandas의 `read_excel( )`을 사용 가능 \n",
    " > pandas 1.3 이전 버전에서는 **xlsx** 파일을 불러올 때 함수 안에 `, engine='openpyxl'`를 추가해야할 수도 있습니다."
   ]
  },
  {
   "cell_type": "code",
   "execution_count": null,
   "id": "bcd317d2",
   "metadata": {},
   "outputs": [],
   "source": [
    "# 무난한 첫번째 시트 데이터 불러오기\n",
    "sheet1 = pd.read_excel('./data/test.xlsx')\n",
    "(sheet1)"
   ]
  },
  {
   "cell_type": "code",
   "execution_count": null,
   "id": "903d99a7",
   "metadata": {},
   "outputs": [],
   "source": [
    "# 시트 번호 지정하고 2줄 무시하기\n",
    "sheet2 = pd.read_excel('data/test.xlsx', sheet_name=1, skiprows=2)\n",
    "sheet2\n",
    "    ## sheet_name : 시트 이름이나 번호 지정, 번호는 0부터 시작\n",
    "    ## skiprows   : 무시할 행 수\n"
   ]
  },
  {
   "cell_type": "code",
   "execution_count": null,
   "id": "1c8f32df",
   "metadata": {},
   "outputs": [],
   "source": [
    "# 첫 행부터 데이터가 시작되는 데이터 불러오기\n",
    "sheet3 = pd.read_excel('data/test.xlsx', sheet_name=2, header=None)\n",
    "sheet3\n",
    "    ## header : 첫 행에 변수이름이 저장되었는지 여부\n"
   ]
  },
  {
   "cell_type": "code",
   "execution_count": null,
   "id": "52e9d7ad",
   "metadata": {},
   "outputs": [],
   "source": [
    "# 첫 행부터 데이터가 시작되는 데이터 불러오면서 변수 이름 지정하기\n",
    "sheet3 = pd.read_excel('data/test.xlsx', sheet_name=2, header=None, names=['년도','건수'])\n",
    "sheet3\n"
   ]
  },
  {
   "cell_type": "code",
   "execution_count": null,
   "id": "a12778be",
   "metadata": {},
   "outputs": [],
   "source": [
    "# 결측 저장값 지정하기\n",
    "sheet3 = pd.read_excel('data/test.xlsx', sheet_name=2, header=None, names=['년도','건수'], na_values='-')\n",
    "sheet3.dtypes\n",
    "    ## NaN : 결측값"
   ]
  },
  {
   "cell_type": "markdown",
   "id": "4f1d2926",
   "metadata": {},
   "source": [
    "\n",
    "<br>  \n",
    "\n",
    "####  [실습] 아래의 사이트에서 관심있는 데이터를 탐색하기\n",
    "\n",
    "* csv 파일 중 인코딩 관련 에러가 발생할 경우 read_csv( )안에서 `encoding='CP949'` 옵션 추가\n",
    "* xlsx의 경우 다운로드한 파일을 열어서 읽기 전용을 해제해야 할 수도 있음\n",
    "\n",
    "\n",
    "\n",
    "[공공데이터포털](https://www.data.go.kr/index.do)\n",
    "\n",
    "[서울 열린데이터 광장](http://data.seoul.go.kr/)\n",
    "\n",
    "[Dacon](https://dacon.io/)\n",
    "\n",
    "\n",
    "\n"
   ]
  },
  {
   "cell_type": "code",
   "execution_count": 44,
   "id": "f64ae53f",
   "metadata": {},
   "outputs": [
    {
     "data": {
      "text/html": [
       "<div>\n",
       "<style scoped>\n",
       "    .dataframe tbody tr th:only-of-type {\n",
       "        vertical-align: middle;\n",
       "    }\n",
       "\n",
       "    .dataframe tbody tr th {\n",
       "        vertical-align: top;\n",
       "    }\n",
       "\n",
       "    .dataframe thead th {\n",
       "        text-align: right;\n",
       "    }\n",
       "</style>\n",
       "<table border=\"1\" class=\"dataframe\">\n",
       "  <thead>\n",
       "    <tr style=\"text-align: right;\">\n",
       "      <th></th>\n",
       "      <th>접수일자</th>\n",
       "      <th>제  목</th>\n",
       "      <th>요  지</th>\n",
       "      <th>민원발생지</th>\n",
       "      <th>처리부서국</th>\n",
       "      <th>처리부서</th>\n",
       "      <th>처리일자</th>\n",
       "      <th>처리상태1</th>\n",
       "      <th>처리상태2</th>\n",
       "    </tr>\n",
       "    <tr>\n",
       "      <th>순번</th>\n",
       "      <th></th>\n",
       "      <th></th>\n",
       "      <th></th>\n",
       "      <th></th>\n",
       "      <th></th>\n",
       "      <th></th>\n",
       "      <th></th>\n",
       "      <th></th>\n",
       "      <th></th>\n",
       "    </tr>\n",
       "  </thead>\n",
       "  <tbody>\n",
       "    <tr>\n",
       "      <th>1</th>\n",
       "      <td>2014-01-02 13:50</td>\n",
       "      <td>공주시청의 횡포를 고발합니다</td>\n",
       "      <td>공주시청의 횡포를 고발합니다</td>\n",
       "      <td>충청남도 공주시</td>\n",
       "      <td>충청남도감사위원회</td>\n",
       "      <td>충청남도감사위원회</td>\n",
       "      <td>2014-01-08 16:19:11</td>\n",
       "      <td>종결</td>\n",
       "      <td>3회 반복종결</td>\n",
       "    </tr>\n",
       "    <tr>\n",
       "      <th>2</th>\n",
       "      <td>2014-01-02 13:52</td>\n",
       "      <td>국토의 계획및 이용에 관한 법령 유권해석</td>\n",
       "      <td>국토의 계획및 이용에 관한 법령 유권해석</td>\n",
       "      <td>충청남도 서산시</td>\n",
       "      <td>건설교통국</td>\n",
       "      <td>건설정책과</td>\n",
       "      <td>2014-01-09 14:32:04</td>\n",
       "      <td>완료</td>\n",
       "      <td>단순참고·상담안내</td>\n",
       "    </tr>\n",
       "    <tr>\n",
       "      <th>3</th>\n",
       "      <td>2014-01-02 14:18</td>\n",
       "      <td>저공해자동차 공영주차장 이용혜택 관련 문의</td>\n",
       "      <td>저공해자동차 공영주차장 이용혜택 관련 문의</td>\n",
       "      <td>충청남도 아산시</td>\n",
       "      <td>건설교통국</td>\n",
       "      <td>도로교통과</td>\n",
       "      <td>2014-01-06 19:51:29</td>\n",
       "      <td>완료</td>\n",
       "      <td>해결</td>\n",
       "    </tr>\n",
       "    <tr>\n",
       "      <th>4</th>\n",
       "      <td>2014-01-02 14:21</td>\n",
       "      <td>충남도청 청소 용역업체 담당자 무자비한 갑을관계로 뇌물비리 권력남용행위 신고.</td>\n",
       "      <td>충남도청 청소 용역업체 담당자 무자비한 갑을관계로 뇌물비리 권력남용행위 신고.</td>\n",
       "      <td>충청남도 홍성군</td>\n",
       "      <td>안전자치행정국</td>\n",
       "      <td>새마을회계과</td>\n",
       "      <td>2014-01-07 18:03:44</td>\n",
       "      <td>완료</td>\n",
       "      <td>해결</td>\n",
       "    </tr>\n",
       "    <tr>\n",
       "      <th>5</th>\n",
       "      <td>2014-01-02 14:41</td>\n",
       "      <td>어렵구힘없는용역자들편에서생각해주세요</td>\n",
       "      <td>어렵구힘없는용역자들편에서생각해주세요</td>\n",
       "      <td>충청남도 홍성군</td>\n",
       "      <td>안전자치행정국</td>\n",
       "      <td>새마을회계과</td>\n",
       "      <td>2014-01-07 18:33:36</td>\n",
       "      <td>완료</td>\n",
       "      <td>해결</td>\n",
       "    </tr>\n",
       "    <tr>\n",
       "      <th>...</th>\n",
       "      <td>...</td>\n",
       "      <td>...</td>\n",
       "      <td>...</td>\n",
       "      <td>...</td>\n",
       "      <td>...</td>\n",
       "      <td>...</td>\n",
       "      <td>...</td>\n",
       "      <td>...</td>\n",
       "      <td>...</td>\n",
       "    </tr>\n",
       "    <tr>\n",
       "      <th>1769</th>\n",
       "      <td>2014-12-31 09:34</td>\n",
       "      <td>****년 **월 *일 충청남도지방소청심사위원회의 기각결정에 대한 재심신청</td>\n",
       "      <td>“****-**, 전보처분 취소청구”사건의 소청심사위원회(****.**.*.)의 기...</td>\n",
       "      <td>충청남도 공주시</td>\n",
       "      <td>기획조정실</td>\n",
       "      <td>교육법무담당관</td>\n",
       "      <td>2015-01-07 14:56:10</td>\n",
       "      <td>완료</td>\n",
       "      <td>해결</td>\n",
       "    </tr>\n",
       "    <tr>\n",
       "      <th>1770</th>\n",
       "      <td>2014-12-31 09:35</td>\n",
       "      <td>공무원 불법행위관련 진정(고인곤)</td>\n",
       "      <td>당진시 공무원의 불법행위 조사 요청</td>\n",
       "      <td>충청남도 당진시</td>\n",
       "      <td>충청남도감사위원회</td>\n",
       "      <td>조사과</td>\n",
       "      <td>2015-01-08 19:30:49</td>\n",
       "      <td>완료</td>\n",
       "      <td>해결</td>\n",
       "    </tr>\n",
       "    <tr>\n",
       "      <th>1771</th>\n",
       "      <td>2014-12-31 09:44</td>\n",
       "      <td>무너져 가고 있는 천만년의 종묘사직에 역사를 바라보고만 있으려니</td>\n",
       "      <td>무너져 가고 있는 천만년의 종묘사직에 역사를 바라보고만 있으려니</td>\n",
       "      <td>충청남도 아산시</td>\n",
       "      <td>안전자치행정국</td>\n",
       "      <td>도민협력새마을과</td>\n",
       "      <td>2014-12-31 09:44:45</td>\n",
       "      <td>기타</td>\n",
       "      <td>전환처리</td>\n",
       "    </tr>\n",
       "    <tr>\n",
       "      <th>1772</th>\n",
       "      <td>2014-12-31 10:15</td>\n",
       "      <td>충남은 대한민국의 정신을 간직한 곳입니다.</td>\n",
       "      <td>지역의 선열들을 챙기고 나라를 지킨 분들에 대한 숭고한 뜻을 교육시켜 달라는 요구....</td>\n",
       "      <td>충청남도 전체</td>\n",
       "      <td>안전자치행정국</td>\n",
       "      <td>총무과</td>\n",
       "      <td>2014-12-31 10:15:04</td>\n",
       "      <td>완료</td>\n",
       "      <td>해결</td>\n",
       "    </tr>\n",
       "    <tr>\n",
       "      <th>1773</th>\n",
       "      <td>2014-12-31 11:14</td>\n",
       "      <td>아파트 관리 규약 개정 투표 결과</td>\n",
       "      <td>아파트 관리규약 개정 투표 결과 적용 여부</td>\n",
       "      <td>충청남도 서산시</td>\n",
       "      <td>건설교통국</td>\n",
       "      <td>건축도시과</td>\n",
       "      <td>2015-01-06 13:51:46</td>\n",
       "      <td>완료</td>\n",
       "      <td>해결</td>\n",
       "    </tr>\n",
       "  </tbody>\n",
       "</table>\n",
       "<p>1773 rows × 9 columns</p>\n",
       "</div>"
      ],
      "text/plain": [
       "                  접수일자                                         제  목  \\\n",
       "순번                                                                    \n",
       "1     2014-01-02 13:50                              공주시청의 횡포를 고발합니다   \n",
       "2     2014-01-02 13:52                       국토의 계획및 이용에 관한 법령 유권해석   \n",
       "3     2014-01-02 14:18                      저공해자동차 공영주차장 이용혜택 관련 문의   \n",
       "4     2014-01-02 14:21  충남도청 청소 용역업체 담당자 무자비한 갑을관계로 뇌물비리 권력남용행위 신고.   \n",
       "5     2014-01-02 14:41                          어렵구힘없는용역자들편에서생각해주세요   \n",
       "...                ...                                          ...   \n",
       "1769  2014-12-31 09:34   ****년 **월 *일 충청남도지방소청심사위원회의 기각결정에 대한 재심신청    \n",
       "1770  2014-12-31 09:35                           공무원 불법행위관련 진정(고인곤)   \n",
       "1771  2014-12-31 09:44          무너져 가고 있는 천만년의 종묘사직에 역사를 바라보고만 있으려니   \n",
       "1772  2014-12-31 10:15                      충남은 대한민국의 정신을 간직한 곳입니다.   \n",
       "1773  2014-12-31 11:14                           아파트 관리 규약 개정 투표 결과   \n",
       "\n",
       "                                                   요  지      민원발생지      처리부서국  \\\n",
       "순번                                                                              \n",
       "1                                      공주시청의 횡포를 고발합니다    충청남도 공주시  충청남도감사위원회   \n",
       "2                               국토의 계획및 이용에 관한 법령 유권해석    충청남도 서산시      건설교통국   \n",
       "3                              저공해자동차 공영주차장 이용혜택 관련 문의    충청남도 아산시      건설교통국   \n",
       "4          충남도청 청소 용역업체 담당자 무자비한 갑을관계로 뇌물비리 권력남용행위 신고.    충청남도 홍성군    안전자치행정국   \n",
       "5                                  어렵구힘없는용역자들편에서생각해주세요    충청남도 홍성군    안전자치행정국   \n",
       "...                                                 ...        ...        ...   \n",
       "1769  “****-**, 전보처분 취소청구”사건의 소청심사위원회(****.**.*.)의 기...  충청남도 공주시       기획조정실   \n",
       "1770                                당진시 공무원의 불법행위 조사 요청   충청남도 당진시  충청남도감사위원회   \n",
       "1771               무너져 가고 있는 천만년의 종묘사직에 역사를 바라보고만 있으려니   충청남도 아산시     안전자치행정국   \n",
       "1772  지역의 선열들을 챙기고 나라를 지킨 분들에 대한 숭고한 뜻을 교육시켜 달라는 요구....    충청남도 전체    안전자치행정국   \n",
       "1773                            아파트 관리규약 개정 투표 결과 적용 여부   충청남도 서산시      건설교통국   \n",
       "\n",
       "           처리부서                 처리일자 처리상태1      처리상태2  \n",
       "순번                                                     \n",
       "1     충청남도감사위원회  2014-01-08 16:19:11    종결    3회 반복종결  \n",
       "2         건설정책과  2014-01-09 14:32:04    완료  단순참고·상담안내  \n",
       "3         도로교통과  2014-01-06 19:51:29    완료         해결  \n",
       "4        새마을회계과  2014-01-07 18:03:44    완료         해결  \n",
       "5        새마을회계과  2014-01-07 18:33:36    완료         해결  \n",
       "...         ...                  ...   ...        ...  \n",
       "1769    교육법무담당관  2015-01-07 14:56:10    완료         해결  \n",
       "1770        조사과  2015-01-08 19:30:49    완료         해결  \n",
       "1771   도민협력새마을과  2014-12-31 09:44:45    기타       전환처리  \n",
       "1772        총무과  2014-12-31 10:15:04    완료         해결  \n",
       "1773      건축도시과  2015-01-06 13:51:46    완료         해결  \n",
       "\n",
       "[1773 rows x 9 columns]"
      ]
     },
     "execution_count": 44,
     "metadata": {},
     "output_type": "execute_result"
    }
   ],
   "source": [
    "df_cn = pd.read_excel(\"../../../Downloads/충청남도_민원데이터상세_20230626/2. 국민신문고 민원처리부(2012~2023).xlsx\",\n",
    "                     sheet_name=2, skiprows=1, index_col=0)\n",
    "df_cn"
   ]
  },
  {
   "cell_type": "code",
   "execution_count": null,
   "id": "3405f21b",
   "metadata": {},
   "outputs": [],
   "source": []
  },
  {
   "cell_type": "code",
   "execution_count": 45,
   "id": "615e9904",
   "metadata": {},
   "outputs": [
    {
     "data": {
      "text/plain": [
       "['2012년(1566건)',\n",
       " '2013년(1547건)',\n",
       " '2014년(1773건)',\n",
       " '2015년(1566건)',\n",
       " '2016년(1760건)',\n",
       " '2017년(2930건)',\n",
       " '2018년(2775건)',\n",
       " '2019년(2984건)',\n",
       " '2020년(4287건)',\n",
       " '2021년(5655건)',\n",
       " '2022년(4566건)',\n",
       " '2023년(2289건) ']"
      ]
     },
     "execution_count": 45,
     "metadata": {},
     "output_type": "execute_result"
    }
   ],
   "source": [
    "xl = pd.ExcelFile(\"/Users/jhpark/Downloads/충청남도_민원데이터상세_20230626/2. 국민신문고 민원처리부(2012~2023).xlsx\")\n",
    "xl.sheet_names  # see all sheet names\n",
    "#xl.parse('2013년(1547건)', skiprows=1)  # read a specific sheet to DataFrame"
   ]
  },
  {
   "cell_type": "markdown",
   "id": "0ce52744",
   "metadata": {},
   "source": [
    "## 2.  DRM 보안 적용된 Excel 파일 불러오기\n",
    "\n"
   ]
  },
  {
   "cell_type": "markdown",
   "id": "546a6f71",
   "metadata": {},
   "source": [
    "### 2.1. pywin32 활용"
   ]
  },
  {
   "cell_type": "code",
   "execution_count": null,
   "id": "a4612ef3",
   "metadata": {
    "scrolled": true
   },
   "outputs": [],
   "source": [
    "import pandas as pd\n",
    "import win32com.client as win32\n",
    "import os \n",
    "\n",
    "# Excel 실행\n",
    "excel=win32.Dispatch('Excel.Application')   \n",
    "\n",
    "# 경로 지정 및 파일 열기\n",
    "filepath = os.getcwd() +'/data/test.xlsx'\n",
    "wb = excel.Workbooks.Open(filepath)\n",
    "\n",
    "filepath"
   ]
  },
  {
   "cell_type": "code",
   "execution_count": null,
   "id": "51d01ec5",
   "metadata": {},
   "outputs": [],
   "source": [
    "# Sheet 지정\n",
    "ws = wb.Worksheets(1) \n",
    "\n",
    "# 전체 행, 열 수 확인\n",
    "nRow = ws.UsedRange.Rows.Count \n",
    "nColumn = ws.UsedRange.Columns.Count \n",
    "\n",
    "# 불러올 범위 지정\n",
    "listValue = ws.Range(ws.Cells(1,1) , ws.Cells(nRow,nColumn)).Value\n",
    "pd.DataFrame(listValue[1:] , columns=listValue[0]) "
   ]
  },
  {
   "cell_type": "code",
   "execution_count": null,
   "id": "9e9b93a1",
   "metadata": {},
   "outputs": [],
   "source": [
    "# Excel 종료\n",
    "excel.Quit()     "
   ]
  },
  {
   "cell_type": "markdown",
   "id": "ce8017d6",
   "metadata": {},
   "source": [
    "<br>\n",
    "\n",
    "한번에 실행"
   ]
  },
  {
   "cell_type": "code",
   "execution_count": null,
   "id": "a56414c9",
   "metadata": {},
   "outputs": [],
   "source": [
    "import pandas as pd\n",
    "import win32com.client as win32\n",
    "import os \n",
    "\n",
    "# Excel 실행\n",
    "excel=win32.Dispatch('Excel.Application')   \n",
    "\n",
    "# 경로 지정 및 파일 열기\n",
    "filepath = os.getcwd() +'/data/test.xlsx'\n",
    "wb = excel.Workbooks.Open(filepath)\n",
    "\n",
    "# Sheet 지정\n",
    "ws = wb.Worksheets(1) \n",
    "\n",
    "# 전체 행, 열 수 확인\n",
    "nRow = ws.UsedRange.Rows.Count \n",
    "nColumn = ws.UsedRange.Columns.Count \n",
    "\n",
    "# 불러올 범위 지정\n",
    "listValue = ws.Range(ws.Cells(1,1) , ws.Cells(nRow,nColumn)).Value\n",
    "df_drm = pd.DataFrame(listValue[1:] , columns=listValue[0]) \n",
    "\n",
    "excel.Quit()     \n",
    "\n",
    "df_drm"
   ]
  },
  {
   "cell_type": "markdown",
   "id": "3224ca72",
   "metadata": {},
   "source": [
    "<br>\n",
    "<br>\n",
    "\n",
    "### 2.2. xlwings 라이브러리 활용\n",
    "\n",
    "+ 장점: VBA 연동 가능"
   ]
  },
  {
   "cell_type": "code",
   "execution_count": null,
   "id": "92111d4e",
   "metadata": {},
   "outputs": [],
   "source": [
    "# 라이브러리 설치\n",
    "# !pip install xlwings "
   ]
  },
  {
   "cell_type": "code",
   "execution_count": null,
   "id": "6cc27a98",
   "metadata": {},
   "outputs": [],
   "source": [
    "# 라이브러리 불러오기\n",
    "import xlwings as xw\n",
    "import pandas as pd\n",
    "import os"
   ]
  },
  {
   "cell_type": "code",
   "execution_count": null,
   "id": "ad67d74e",
   "metadata": {},
   "outputs": [],
   "source": [
    "# Excel 파일 열기\n",
    "# filepath = os.getcwd() +'/data/test.xlsx'\n",
    "book = xw.Book('./data/test.xlsx')"
   ]
  },
  {
   "cell_type": "code",
   "execution_count": null,
   "id": "3fce4b13",
   "metadata": {},
   "outputs": [],
   "source": [
    "# Sheet 선택\n",
    "sheet = book.sheets[0]    \n",
    "\n",
    "# 전체 데이터 데이터 불러오기\n",
    "df_drm = sheet.used_range.options(pd.DataFrame, index = False).value\n",
    "df_drm\n"
   ]
  },
  {
   "cell_type": "code",
   "execution_count": null,
   "id": "4e92feb8",
   "metadata": {},
   "outputs": [],
   "source": [
    "# 특정 부분만 불러오기\n",
    "sheet = book.sheets[1]    \n",
    "df_drm = sheet.range(\"A3:C5\").options(pd.DataFrame, index = False).value\n",
    "df_drm"
   ]
  },
  {
   "cell_type": "code",
   "execution_count": null,
   "id": "609bb528",
   "metadata": {},
   "outputs": [],
   "source": [
    "# 종료\n",
    "xw.apps.active.quit()"
   ]
  },
  {
   "cell_type": "markdown",
   "id": "3a9931ba",
   "metadata": {},
   "source": [
    "#### End of script"
   ]
  }
 ],
 "metadata": {
  "kernelspec": {
   "display_name": "Python 3 (ipykernel)",
   "language": "python",
   "name": "python3"
  },
  "language_info": {
   "codemirror_mode": {
    "name": "ipython",
    "version": 3
   },
   "file_extension": ".py",
   "mimetype": "text/x-python",
   "name": "python",
   "nbconvert_exporter": "python",
   "pygments_lexer": "ipython3",
   "version": "3.10.9"
  }
 },
 "nbformat": 4,
 "nbformat_minor": 5
}
