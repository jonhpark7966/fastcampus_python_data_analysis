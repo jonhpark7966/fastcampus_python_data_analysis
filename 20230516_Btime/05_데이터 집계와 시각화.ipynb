{
 "cells": [
  {
   "cell_type": "markdown",
   "id": "ba8e0db0",
   "metadata": {},
   "source": [
    "# 데이터 집계와 시각화\n",
    "\n",
    "### 주요 내용\n",
    "\n",
    "1. 건수, 합계 평균 등 집계값 계산\n",
    "2. 히스토그램, 상자그림, 막대그래프 등 그래프 작성 \n",
    "3. 정렬 및 피벗테이블 활용\n",
    "\n",
    "<br>\n",
    "\n",
    "### 목표 \n",
    "1. 집계값을 계산할 수 있다.\n",
    "2. 적절한 그래프를 작성하고 올바르게 해석할 수 있다.\n",
    "3. 피벗 테이블 등 다양한 방법으로 집계하고, 결과값을 적절히 정렬할 수 있다. \n",
    "\n",
    "\n",
    "<br>\n",
    "<hr>\n",
    "<br>"
   ]
  },
  {
   "cell_type": "markdown",
   "id": "9e7039ec",
   "metadata": {},
   "source": [
    "## 예제 및 실습 데이터 불러오기"
   ]
  },
  {
   "cell_type": "code",
   "execution_count": null,
   "id": "d8b0a22e",
   "metadata": {},
   "outputs": [],
   "source": [
    "# 데이터 불러오기\n",
    "import pandas as pd\n",
    "df_ins = pd.read_csv('data/insurance.csv')\n",
    "df_ins.head()"
   ]
  },
  {
   "cell_type": "code",
   "execution_count": null,
   "id": "66448535",
   "metadata": {
    "scrolled": true
   },
   "outputs": [],
   "source": [
    "df_sp = pd.read_csv('data/StudentsPerformance.csv')\n",
    "df_sp.head()"
   ]
  },
  {
   "cell_type": "code",
   "execution_count": null,
   "id": "13789c2f",
   "metadata": {},
   "outputs": [],
   "source": [
    "# df_sp.describe()\n",
    "# df_sp.describe(include='number')\n",
    "df_sp.describe(include='object')"
   ]
  },
  {
   "cell_type": "markdown",
   "id": "8012b0c1",
   "metadata": {},
   "source": [
    "<br>\n",
    "\n",
    "## 1. 수치형 변수의 집계값과 히스토그램\n",
    "\n",
    "하나의 수치형 변수로 합계, 평균과 같은 집계값을 계산할 수 있고 히스토그램으로 분포를 확인\n",
    "\n",
    "\n",
    "<br>\n",
    "\n",
    "### 1.1. 수치형 변수의 집계값 계산\n",
    "\n",
    "수치형 변수를 선택한 다음 sum( ), mean( ) 같은 메서드를 활용해서 단순한 집계값을 계산  \n",
    "먼저 변수를 선택하고 다양한 집계 함수를 메서드로 활용"
   ]
  },
  {
   "cell_type": "code",
   "execution_count": null,
   "id": "c8866431",
   "metadata": {},
   "outputs": [],
   "source": [
    "# 관심 변수 선택\n",
    "df_ins['charges']"
   ]
  },
  {
   "cell_type": "code",
   "execution_count": null,
   "id": "39731115",
   "metadata": {},
   "outputs": [],
   "source": [
    "# 수치형 변수의 집계값 계산\n",
    "    # mean( ) : 수치형 Series의 메서드\n",
    "df_ins['charges'].mean()"
   ]
  },
  {
   "cell_type": "code",
   "execution_count": null,
   "id": "cf07e50e",
   "metadata": {},
   "outputs": [],
   "source": [
    "df_ins['charges'].sum()"
   ]
  },
  {
   "cell_type": "code",
   "execution_count": null,
   "id": "77ccd25e",
   "metadata": {},
   "outputs": [],
   "source": [
    "# 분산과 표준편차계산\n",
    "df_ins['charges'].var(), df_ins['charges'].std()"
   ]
  },
  {
   "cell_type": "code",
   "execution_count": null,
   "id": "cee0ae55",
   "metadata": {},
   "outputs": [],
   "source": [
    "# 관측치 수 계산하기\n",
    "df_ins['charges'].count()"
   ]
  },
  {
   "cell_type": "markdown",
   "id": "c9e3d738",
   "metadata": {},
   "source": [
    "<br>\n",
    "\n",
    "### 1.2. 히스토그램 그리기\n",
    "\n",
    "하나의 수치형변수의 분포를 파악하기 위해서 히스토그램을 활용  \n",
    "Python에서 그래프를 그릴때는 기본적으로 matplotlib 라이브러리를 활용하지만, 좀 더 가독성이 좋고 그래프가 이쁜 seaborn 라이브러리를 추가로 활용   \n",
    "\n"
   ]
  },
  {
   "cell_type": "markdown",
   "id": "ce1221c5",
   "metadata": {},
   "source": [
    "<br>\n",
    "\n",
    "#### 1.2.1. pandas의 메서드와 matplotlib을 활용한 그래프"
   ]
  },
  {
   "cell_type": "code",
   "execution_count": null,
   "id": "41304196",
   "metadata": {},
   "outputs": [],
   "source": [
    "# 라이브러리 불러오기\n",
    "import matplotlib.pyplot as plt\n",
    "import seaborn as sns"
   ]
  },
  {
   "cell_type": "code",
   "execution_count": null,
   "id": "4f314d03",
   "metadata": {},
   "outputs": [],
   "source": [
    "# 한글 폰트 설정 (Windows)\n",
    "plt.rc('font', family='Malgun Gothic')\n",
    "plt.rc('axes', unicode_minus=False)"
   ]
  },
  {
   "cell_type": "code",
   "execution_count": null,
   "id": "99ae608b",
   "metadata": {},
   "outputs": [],
   "source": [
    "# 한글 폰트 설정 (macOS)\n",
    "# plt.rc('font', family='AppleGothic')\n",
    "# plt.rc('axes', unicode_minus=False)"
   ]
  },
  {
   "cell_type": "code",
   "execution_count": null,
   "id": "40ad4315",
   "metadata": {},
   "outputs": [],
   "source": [
    "# 가장 간단한 히스토그램과 상자그림\n",
    "    # DataFrame의 plot 메서드 활용\n",
    "    # plt.show() : 최종 그래프 출력함수, 생략 가능\n",
    "df_ins['age'].plot(kind='hist')\n",
    "#plt.show()"
   ]
  },
  {
   "cell_type": "code",
   "execution_count": null,
   "id": "6e7737b8",
   "metadata": {},
   "outputs": [],
   "source": [
    "# matplotlib의 hist( )를 활용한 히스토그램 그리기\n",
    "plt.hist(df_ins['age'])\n",
    "plt.show()"
   ]
  },
  {
   "cell_type": "code",
   "execution_count": null,
   "id": "e8a5ec7e",
   "metadata": {},
   "outputs": [],
   "source": [
    "# 그래프를 꾸며 다시 그리기\n",
    "plt.figure(figsize=(18,6)) ##사이즈 정하고\n",
    "\n",
    "plt.hist(df_ins['age'])\n",
    "plt.title('Histogram', fontsize=30)\n",
    "plt.xlabel('Age', fontsize=20)\n",
    "plt.ylabel('Count', fontsize=20)\n",
    "\n",
    "plt.show()\n"
   ]
  },
  {
   "cell_type": "markdown",
   "id": "cc93a106",
   "metadata": {},
   "source": [
    "<br>\n",
    "\n",
    "#### 1.2.2. seaborn을 활용한 히스토그램\n",
    "\n",
    "seaborn 라이브러리를 활용하면 그래프를 그리는 명령어가 좀 더 직관적이고 DataFrame 형식을 활용하기 편함"
   ]
  },
  {
   "cell_type": "code",
   "execution_count": null,
   "id": "6cfe3ac5",
   "metadata": {},
   "outputs": [],
   "source": [
    "# histplot()을 활용한 히스토그램\n",
    "sns.histplot(data=df_ins,\n",
    "             x='age')\n",
    "plt.show()\n",
    "\n",
    "sns.histplot(data=df_ins,\n",
    "             x='charges')\n",
    "plt.show()"
   ]
  },
  {
   "cell_type": "markdown",
   "id": "c6210cb3",
   "metadata": {},
   "source": [
    "<br>\n",
    "\n",
    "#### [실습] 한 수치형 변수에 대한 요약과 시각화\n",
    "\n",
    "1. df_sp에서 'math score'의 평균 계산하기\n",
    "\n",
    "2. df_sp에서 'math score'의 히스토그램을 matplotlib으로 그려기\n",
    "\n",
    "3. df_sp에서 'math score'의 히스토그램을 seaborn으로 그려기\n",
    "\n"
   ]
  },
  {
   "cell_type": "code",
   "execution_count": null,
   "id": "201e72c5",
   "metadata": {},
   "outputs": [],
   "source": [
    "df_sp.describe()"
   ]
  },
  {
   "cell_type": "code",
   "execution_count": null,
   "id": "3cf6437f",
   "metadata": {},
   "outputs": [],
   "source": [
    "plt.hist(df_sp['math score'])"
   ]
  },
  {
   "cell_type": "code",
   "execution_count": null,
   "id": "37165a3e",
   "metadata": {},
   "outputs": [],
   "source": [
    "sns.histplot(data=df_sp, x='math score')"
   ]
  },
  {
   "cell_type": "code",
   "execution_count": null,
   "id": "b4fc4be7",
   "metadata": {},
   "outputs": [],
   "source": [
    "import seaborn as sns\n",
    "import matplotlib.pyplot as plt\n",
    "\n",
    "# 가정: df 는 당신의 pandas DataFrame 입니다.\n",
    "fig, ax = plt.subplots(figsize=(10, 6))\n",
    "\n",
    "# 'reading score' 컬럼에 대한 히스토그램을 그립니다. \n",
    "# alpha 값은 투명도를 설정하며, 두 히스토그램이 겹치는 부분을 보기 위해 설정합니다.\n",
    "sns.histplot(data=df_sp, x='reading score', bins=30, color='blue', label='Reading Score', ax=ax, alpha=0.5)\n",
    "\n",
    "# 'math score' 컬럼에 대한 히스토그램을 그립니다. \n",
    "sns.histplot(data=df_sp, x='math score', bins=30, color='red', label='Math Score', ax=ax, alpha=0.5)\n",
    "\n",
    "# 범례를 추가합니다.\n",
    "plt.legend()\n",
    "\n",
    "# 그래프를 보여줍니다.\n",
    "plt.show()\n"
   ]
  },
  {
   "cell_type": "code",
   "execution_count": null,
   "id": "69091112",
   "metadata": {},
   "outputs": [],
   "source": []
  },
  {
   "cell_type": "markdown",
   "id": "80f16c9c",
   "metadata": {},
   "source": [
    "### 1.3. 분위수와 상자그림\n",
    "\n",
    "`quantile()`을 활용해서 분위수를 계산  \n",
    "\n",
    "최솟값(minimum, 0%), Q1(1st Quartile, 25%), 중앙값(median, 50%), Q3(3rd Quartile, 75%), 최댓값(maximum, 100%)을 사분위수(quartile)이라고 부르고, **상자그림(boxplot)**으로 시각화"
   ]
  },
  {
   "cell_type": "code",
   "execution_count": null,
   "id": "d8b0a9ad",
   "metadata": {},
   "outputs": [],
   "source": [
    "df_ins['charges'].quantile(0.9)"
   ]
  },
  {
   "cell_type": "code",
   "execution_count": null,
   "id": "c09f9f88",
   "metadata": {},
   "outputs": [],
   "source": [
    "df_ins['charges'].quantile([0.0,0.25,0.5,0.75,1.0])\n",
    "    ## quantile( ) : 계산할 분위(1.0이 최댓값) 를 리스트로 묶기"
   ]
  },
  {
   "cell_type": "code",
   "execution_count": null,
   "id": "1a2e6849",
   "metadata": {},
   "outputs": [],
   "source": [
    "# matplotlib의 boxplot()으로 상자그림 그리기\n",
    "plt.boxplot(df_ins['charges'])\n",
    "plt.show()"
   ]
  },
  {
   "cell_type": "code",
   "execution_count": null,
   "id": "d4d09c04",
   "metadata": {},
   "outputs": [],
   "source": [
    "# boxplot( )을 활용한상자그림\n",
    "sns.boxplot(data=df_ins,\n",
    "            y='charges')\n",
    "plt.show()"
   ]
  },
  {
   "cell_type": "markdown",
   "id": "83096bcf",
   "metadata": {},
   "source": [
    "<br>\n",
    "\n",
    "\n",
    "#### [실습]\n",
    "\n",
    "1. df_sp에서 'reading score'의 Q1(25%), 중위수(median, 50%), Q3(75%) 계산하기\n",
    "2. df_sp에서 'reading score'의 상자그림을 seaborn으로 그리기"
   ]
  },
  {
   "cell_type": "code",
   "execution_count": null,
   "id": "2798523f",
   "metadata": {},
   "outputs": [],
   "source": [
    "df_sp[\"reading score\"].quantile([0.0,0.25,0.5,0.75,1.0])"
   ]
  },
  {
   "cell_type": "code",
   "execution_count": null,
   "id": "e1d42455",
   "metadata": {},
   "outputs": [],
   "source": [
    "sns.boxplot(data=df_sp,\n",
    "            y='reading score')\n",
    "plt.show()"
   ]
  },
  {
   "cell_type": "code",
   "execution_count": null,
   "id": "84367a93",
   "metadata": {},
   "outputs": [],
   "source": []
  },
  {
   "cell_type": "code",
   "execution_count": null,
   "id": "3f8b51f7",
   "metadata": {},
   "outputs": [],
   "source": []
  },
  {
   "cell_type": "code",
   "execution_count": null,
   "id": "5bd24179",
   "metadata": {},
   "outputs": [],
   "source": []
  },
  {
   "cell_type": "markdown",
   "id": "a065402e",
   "metadata": {},
   "source": [
    "<br>\n",
    "\n",
    "## 2. 범주형 변수의 요약과 시각화  \n",
    "\n",
    "범주형 변수는 정해진 수준(level) 중에 하나의 값을 갖기 때문에 분석 방법이 단순하며 개수를 세면 됨\n",
    "\n",
    "<br>\n",
    "\n",
    "\n",
    "### 2.1. 그룹별 건수 계산과 시각화\n",
    "\n",
    "> SQL에서도 가장 잦은 키워드 조합이 `SELECT COUNT(1) ... GROUP BY ...`입니다.  \n",
    "\n",
    "범주형 변수/그룹 변수로 수준별 관측치 수를 셀 수 있고, 막대그래프로 표현\n"
   ]
  },
  {
   "cell_type": "code",
   "execution_count": null,
   "id": "daa3936d",
   "metadata": {},
   "outputs": [],
   "source": [
    "# 수준(levels) 및 개수 확인 \n",
    "df_ins['smoker'].unique()"
   ]
  },
  {
   "cell_type": "code",
   "execution_count": null,
   "id": "c05b5c92",
   "metadata": {},
   "outputs": [],
   "source": [
    "df_ins['smoker'].nunique()"
   ]
  },
  {
   "cell_type": "markdown",
   "id": "eaedaf69",
   "metadata": {},
   "source": [
    "<br>\n",
    "\n",
    "#### 2.1.1. 수준별 관측치 수 계산 및 막대그래프 작성"
   ]
  },
  {
   "cell_type": "code",
   "execution_count": null,
   "id": "4476c267",
   "metadata": {},
   "outputs": [],
   "source": [
    "# 수준별 관측치 수 세기\n",
    "df_ins['smoker'].value_counts()"
   ]
  },
  {
   "cell_type": "code",
   "execution_count": null,
   "id": "c7e76675",
   "metadata": {},
   "outputs": [],
   "source": [
    "# plot( ) 메서드를 활용한 막대그래프 \n",
    "df_ins['smoker'].value_counts().plot(kind='bar')"
   ]
  },
  {
   "cell_type": "markdown",
   "id": "60bed7fb",
   "metadata": {},
   "source": [
    "<br>\n",
    "\n",
    "#### 2.1.2. groupby()와 size()를 활용한 집계와 시각화  \n",
    "\n",
    "범주형 변수의 집계에서는 *value_counts()*만 활용해도 충분하지만 이후 분석 과정에서 자주 활용할 *groupby()*를 활용한 방법도 활용"
   ]
  },
  {
   "cell_type": "code",
   "execution_count": null,
   "id": "c6d1d0ab",
   "metadata": {},
   "outputs": [],
   "source": [
    "# groupby()와 size( )를 활용한 그룹별 건수 계산\n",
    "    # 결과는 앞과 동일\n",
    "df_ins.groupby('smoker').size()"
   ]
  },
  {
   "cell_type": "code",
   "execution_count": null,
   "id": "2c883895",
   "metadata": {},
   "outputs": [],
   "source": [
    "# plot() 메서드를 활용한 시각화\n",
    "df_ins.groupby('smoker').size().plot(kind='bar')"
   ]
  },
  {
   "cell_type": "markdown",
   "id": "d591a08c",
   "metadata": {},
   "source": [
    "<br>\n",
    "\n",
    "#### 2.1.3. DataFrame 형식의 활용\n",
    "\n",
    "*groupby()*에 그룹 변수 하나를 지정하면 **Series** 형식으로 출력되어 가독성이 떨어질 수 있음  \n",
    "`as_index=False` 옵션을 활용해서 집계 결과를 DataFrame 형식으로 바꾸고 시각화에 활용"
   ]
  },
  {
   "cell_type": "code",
   "execution_count": null,
   "id": "e8f7d8bc",
   "metadata": {},
   "outputs": [],
   "source": [
    "# DataFrame 형식으로 바꾸기\n",
    "    # as_index=False : 그룹 변수를 index로 지정하지 않음\n",
    "df_agg_smoker = df_ins.groupby('smoker', as_index=False).size()\n",
    "df_agg_smoker"
   ]
  },
  {
   "cell_type": "code",
   "execution_count": null,
   "id": "ae727289",
   "metadata": {},
   "outputs": [],
   "source": [
    "# matplotlib의 bar()를 활용한 시각화\n",
    "plt.bar(df_agg_smoker['smoker'], df_agg_smoker['size'])\n",
    "plt.show()"
   ]
  },
  {
   "cell_type": "code",
   "execution_count": null,
   "id": "3f371989",
   "metadata": {},
   "outputs": [],
   "source": [
    "# seaborn의 barplot( )을 활용한 시각화\n",
    "sns.barplot(data= df_agg_smoker, x='smoker', y='size')"
   ]
  },
  {
   "cell_type": "markdown",
   "id": "1a39f998",
   "metadata": {},
   "source": [
    "#### [참고]\n",
    "\n",
    "seaborn의 countplot( ) 함수를 활용하면, groupby(), size() 없이 원본 데이터에서 바로 막대그래프를 그릴 수도 있음  "
   ]
  },
  {
   "cell_type": "code",
   "execution_count": null,
   "id": "0999b079",
   "metadata": {},
   "outputs": [],
   "source": [
    "# 집계 없이도 가능한 seaborn 막대그래프\n",
    "sns.countplot(data=df_ins,\n",
    "              x='smoker')"
   ]
  },
  {
   "cell_type": "code",
   "execution_count": null,
   "id": "5117c5d0",
   "metadata": {},
   "outputs": [],
   "source": []
  },
  {
   "cell_type": "markdown",
   "id": "47e555ba",
   "metadata": {},
   "source": [
    "#### [실습]\n",
    "\n",
    "1. 데이터 df_sp에서 'parental level of education'별 관측치 수를 계산하고 matplotlib 막대그래프 그리기\n",
    "2. 'race/ethnicity'별 관측치 수를 계산해서 DataFrame 형식으로 저장하고, seaborn 막대그래프로 그리기"
   ]
  },
  {
   "cell_type": "code",
   "execution_count": null,
   "id": "6b57e9d5",
   "metadata": {},
   "outputs": [],
   "source": [
    "df_sp.head()"
   ]
  },
  {
   "cell_type": "code",
   "execution_count": null,
   "id": "b552e898",
   "metadata": {},
   "outputs": [],
   "source": [
    "df_agg_edu = df_sp.groupby('parental level of education', as_index=False).size()\n",
    "plt.figure(figsize=(18,6))\n",
    "plt.bar(df_agg_edu['parental level of education'], df_agg_edu['size'])"
   ]
  },
  {
   "cell_type": "code",
   "execution_count": null,
   "id": "52b49e1a",
   "metadata": {},
   "outputs": [],
   "source": [
    "plt.figure(figsize=(18,6))\n",
    "values = df_sp['parental level of education']\n",
    "plt.hist(values, bins=len(values.unique()), edgecolor='black')"
   ]
  },
  {
   "cell_type": "code",
   "execution_count": null,
   "id": "adb6c382",
   "metadata": {},
   "outputs": [],
   "source": [
    "df_agg_race = df_sp.groupby('race/ethnicity', as_index=False).size()\n",
    "sns.barplot(data= df_agg_race, x='race/ethnicity', y='size')"
   ]
  },
  {
   "cell_type": "code",
   "execution_count": null,
   "id": "7626505d",
   "metadata": {},
   "outputs": [],
   "source": [
    "sns.countplot(data=df_sp,\n",
    "              x='race/ethnicity')"
   ]
  },
  {
   "cell_type": "markdown",
   "id": "d188c617",
   "metadata": {},
   "source": [
    "<br>  \n",
    "\n",
    "## 3. 두 수치형 변수의 관계 \n",
    "\n",
    "두 수치형 변수의 관계를 파악하기 위해서 **산점도(scatterplot)**를 그리고 **상관계수(correlation coefficient)**를 계산  "
   ]
  },
  {
   "cell_type": "code",
   "execution_count": null,
   "id": "52899f0d",
   "metadata": {
    "scrolled": true
   },
   "outputs": [],
   "source": [
    "# 예제 데이터 불러오기\n",
    "    # 아빠키와 아들키\n",
    "df_heights = pd.read_csv('data/heights.csv')\n",
    "df_heights"
   ]
  },
  {
   "cell_type": "code",
   "execution_count": null,
   "id": "1b0393c7",
   "metadata": {},
   "outputs": [],
   "source": [
    "# seaborn으로 산점도 그리기\n",
    "mean_f = df_heights['father'].mean()\n",
    "mean_s = df_heights['son'].mean()\n",
    "#print(mean_f, mean_s)\n",
    "\n",
    "plt.figure(figsize=(5,5))\n",
    "\n",
    "sns.scatterplot(data=df_heights, x='father', y='son', alpha=0.5)\n",
    "plt.axhline(mean_s) # 수평선 추가\n",
    "plt.axvline(mean_f) # 수직선 추가\n",
    "plt.show()\n"
   ]
  },
  {
   "cell_type": "code",
   "execution_count": null,
   "id": "c147b144",
   "metadata": {},
   "outputs": [],
   "source": [
    "# 공분산 계산하기\n",
    "df_heights[['father','son']].cov()"
   ]
  },
  {
   "cell_type": "code",
   "execution_count": null,
   "id": "e34ba1e3",
   "metadata": {},
   "outputs": [],
   "source": [
    "# 상관계수 계산하기\n",
    "df_heights[['father','son']].corr()"
   ]
  },
  {
   "cell_type": "markdown",
   "id": "a641b83a",
   "metadata": {},
   "source": [
    "#### [실습] 두 수치형 변수의 관계 탐색\n",
    " \n",
    "1. df_sp에서 'math score'와 'reading score'의 산점도를 그리고 상관계수 계산하기\n",
    "2. df_ins에서 bmi와 charges의 산점도를 그리고 상관계수 계산하기\n",
    "3. (선택) df_ins에서 groupby('smoker')를 활용해서 bmi와 charges의 상관계수를 smoker별로 나눠 계산하기"
   ]
  },
  {
   "cell_type": "code",
   "execution_count": null,
   "id": "8eb744eb",
   "metadata": {},
   "outputs": [],
   "source": [
    "sns.scatterplot(data=df_sp, x='writing score', y='reading score', alpha=0.3)"
   ]
  },
  {
   "cell_type": "code",
   "execution_count": null,
   "id": "fbac8880",
   "metadata": {},
   "outputs": [],
   "source": [
    "df_sp[['math score','reading score', 'writing score']].corr()"
   ]
  },
  {
   "cell_type": "code",
   "execution_count": null,
   "id": "e73add9e",
   "metadata": {},
   "outputs": [],
   "source": [
    "sns.scatterplot(data=df_ins, x='bmi', y='charges', alpha=0.5)"
   ]
  },
  {
   "cell_type": "code",
   "execution_count": null,
   "id": "da43a78c",
   "metadata": {},
   "outputs": [],
   "source": [
    "df_ins[['bmi','charges']].corr()"
   ]
  },
  {
   "cell_type": "code",
   "execution_count": null,
   "id": "13b1d98b",
   "metadata": {},
   "outputs": [],
   "source": [
    "df_ins.groupby('smoker')[['bmi','charges']].corr()"
   ]
  },
  {
   "cell_type": "code",
   "execution_count": null,
   "id": "60c6c2e0",
   "metadata": {},
   "outputs": [],
   "source": [
    "df_ins.head(1)"
   ]
  },
  {
   "cell_type": "code",
   "execution_count": null,
   "id": "c768f231",
   "metadata": {},
   "outputs": [],
   "source": [
    "sns.scatterplot(data=df_ins, x='bmi', y='charges', alpha=0.5, hue='smoker')"
   ]
  },
  {
   "cell_type": "code",
   "execution_count": null,
   "id": "0e30bf90",
   "metadata": {},
   "outputs": [],
   "source": []
  },
  {
   "cell_type": "markdown",
   "id": "c6ca5de2",
   "metadata": {},
   "source": [
    "<br>\n",
    "\n",
    "\n",
    "## 4. 그룹별 집계값의 계산과 분포 비교\n",
    "\n",
    "범주형 변수를 그룹처럼 활용해서 그룹별 평균을 계산하고, 그룹별 상자그림을 그려서 그룹간 분포를 비교  \n",
    "한 변수의 집계에서 `groupby()`를 추가하면 되고, 필요에 따라 `agg()`를 활용 가능 "
   ]
  },
  {
   "cell_type": "code",
   "execution_count": null,
   "id": "c1f873de",
   "metadata": {},
   "outputs": [],
   "source": [
    "# 그룹별 평균 계산\n",
    "df_ins.groupby('sex', as_index=False)['charges'].mean()"
   ]
  },
  {
   "cell_type": "code",
   "execution_count": null,
   "id": "1bd7b7c2",
   "metadata": {},
   "outputs": [],
   "source": [
    "# 여러개 그룹변수를 활용한 평균 계산\n",
    "df_ins.groupby(['sex', 'smoker'], as_index=False)['charges'].mean()"
   ]
  },
  {
   "cell_type": "code",
   "execution_count": null,
   "id": "24dfbd95",
   "metadata": {},
   "outputs": [],
   "source": [
    "# 그룹별 여러 변수의 평균 계산 \n",
    "df_ins.groupby('sex', as_index=False)[['charges', 'age']].mean()"
   ]
  },
  {
   "cell_type": "code",
   "execution_count": null,
   "id": "f18850db",
   "metadata": {},
   "outputs": [],
   "source": [
    "# 그룹별 한 변수의 여러 집계값 계산\n",
    "df_ins.groupby('sex', as_index=False)[['charges', 'age']].agg(['min','max','mean'])"
   ]
  },
  {
   "cell_type": "code",
   "execution_count": null,
   "id": "6fd3e48d",
   "metadata": {},
   "outputs": [],
   "source": [
    "# 일반적인 그룹별 집계값 계산\n",
    "df_ins.groupby('sex', as_index=False).agg({'age':['min','max','mean'], 'charges':['mean', 'median']})"
   ]
  },
  {
   "cell_type": "code",
   "execution_count": null,
   "id": "677eb379",
   "metadata": {
    "scrolled": false
   },
   "outputs": [],
   "source": [
    "# 겹쳐그린 히스토그램 \n",
    "sns.histplot(data=df_ins, \n",
    "             x = 'charges',\n",
    "             hue='sex')"
   ]
  },
  {
   "cell_type": "code",
   "execution_count": null,
   "id": "52f3d65d",
   "metadata": {},
   "outputs": [],
   "source": [
    "# 많이 겹치기 어려운 히스토그램\n",
    "sns.histplot(data=df_ins, \n",
    "             x = 'charges',\n",
    "             hue='region')"
   ]
  },
  {
   "cell_type": "code",
   "execution_count": null,
   "id": "e40ac978",
   "metadata": {},
   "outputs": [],
   "source": [
    "# 그룹별 상자그림 \n",
    "sns.boxplot(data=df_ins,\n",
    "            x='sex', \n",
    "            y='charges')\n",
    "plt.show()\n",
    "\n",
    "sns.boxplot(data=df_ins,\n",
    "            x='region', \n",
    "            y='charges')\n",
    "plt.show()"
   ]
  },
  {
   "cell_type": "code",
   "execution_count": null,
   "id": "95bc6e90",
   "metadata": {},
   "outputs": [],
   "source": [
    "# hue를 추가로 활용한 상자그림\n",
    "sns.boxplot(data=df_ins,\n",
    "            x='region', \n",
    "            y='charges',\n",
    "            hue='smoker')\n",
    "plt.show()"
   ]
  },
  {
   "cell_type": "markdown",
   "id": "093b0416",
   "metadata": {},
   "source": [
    "#### [실습] 변수 관계 탐색\n",
    "\n",
    "1. 데이터 df_sp에서 수치형 변수 하나와 범주형 변수 하나를 선택해서 그룹별 평균을 계산하고 상자그림 그리기\n",
    "2. 데이터 df_sp에서 두 그룹 변수를 활용해서 `math score`의 평균을 계산하기\n",
    "3. 2.의 세 변수를 x, y, hue로 활용해 seaborn으로 상자그림 그리기\n",
    "\n",
    "\n"
   ]
  },
  {
   "cell_type": "code",
   "execution_count": null,
   "id": "40b52501",
   "metadata": {},
   "outputs": [],
   "source": [
    "df_sp.head()"
   ]
  },
  {
   "cell_type": "code",
   "execution_count": null,
   "id": "ab992ab0",
   "metadata": {},
   "outputs": [],
   "source": [
    "df_sp.groupby(\"race/ethnicity\", as_index=False)[\"math score\"].mean()"
   ]
  },
  {
   "cell_type": "code",
   "execution_count": null,
   "id": "d24de25b",
   "metadata": {},
   "outputs": [],
   "source": [
    "sns.boxplot(data=df_sp,\n",
    "            x='race/ethnicity', \n",
    "            y='math score')\n",
    "plt.show()"
   ]
  },
  {
   "cell_type": "code",
   "execution_count": null,
   "id": "6da942e0",
   "metadata": {
    "scrolled": true
   },
   "outputs": [],
   "source": [
    "df_sp.groupby([\"race/ethnicity\", \"parental level of education\"], as_index=False)[\"math score\"].mean()"
   ]
  },
  {
   "cell_type": "code",
   "execution_count": null,
   "id": "80b99149",
   "metadata": {},
   "outputs": [],
   "source": [
    "sns.boxplot(data=df_sp.sort_values(\"race/ethnicity\"),\n",
    "            x='race/ethnicity', \n",
    "            y='math score', hue=\"parental level of education\")\n",
    "plt.show()"
   ]
  },
  {
   "cell_type": "code",
   "execution_count": null,
   "id": "88ed87b2",
   "metadata": {},
   "outputs": [],
   "source": []
  },
  {
   "cell_type": "markdown",
   "id": "fe28b623",
   "metadata": {},
   "source": [
    "## 5. 표 형태 집계와 열지도\n",
    "\n",
    "Excel의 피벗테이블과 같이 표 형태의 집계를 자주 활용  \n",
    "`crosstab()`으로 교차표를 만들거나 `pivot_table()`로 피벗테이블을 만들고 활용\n"
   ]
  },
  {
   "cell_type": "markdown",
   "id": "fef7f057",
   "metadata": {},
   "source": [
    "<br>\n",
    "\n",
    "### 5.1. 교차표 생성과 열지도 그리기\n",
    "\n",
    "한 범주형 변수의 관계를 확인할 때 개수를 센 것과 마찬가지로, 두 범주형 변수의 관계는 두 변수의 수준 조합별로 개수를 셈  \n",
    "*crosstab( )*을 활용해서 교차표를 생성하고 표 형태의 결과 데이터를 **seaborn**의 *heatmap()*에 넣어서 열지도로 시각화  "
   ]
  },
  {
   "cell_type": "code",
   "execution_count": null,
   "id": "f8da8df2",
   "metadata": {},
   "outputs": [],
   "source": [
    "# crosstab()을 활용한 교차표 생성\n",
    "tab1 = pd.crosstab(df_ins['sex'], df_ins['smoker'])\n",
    "tab1"
   ]
  },
  {
   "cell_type": "code",
   "execution_count": null,
   "id": "69fad3d4",
   "metadata": {},
   "outputs": [],
   "source": [
    "# 열지도 시각화\n",
    "    # cmap : 색상 조합\n",
    "    # annot=True : 수치 출력 여부\n",
    "    # fmt : 수치 출력 형식, 'd' 정수, '.2f' 소수점 둘째자리 소수\n",
    "sns.heatmap(tab1, cmap='YlGnBu', annot=True, fmt='d')\n",
    "plt.show()"
   ]
  },
  {
   "cell_type": "markdown",
   "id": "94500cd2",
   "metadata": {},
   "source": [
    "* 참고: [Color Palette](https://seaborn.pydata.org/tutorial/color_palettes.html)"
   ]
  },
  {
   "cell_type": "markdown",
   "id": "d610a357",
   "metadata": {},
   "source": [
    "<br>\n",
    "\n",
    "*crosstab( )*에서 `margins=True` 옵션을 활용하면 행, 열 합계, 전체 합계 등을 한번에 계산할 수 있음"
   ]
  },
  {
   "cell_type": "code",
   "execution_count": null,
   "id": "078273e6",
   "metadata": {},
   "outputs": [],
   "source": [
    "# crosstab()을 활용한 교차표 생성\n",
    "tab1m = pd.crosstab(df_ins['sex'], df_ins['smoker'], margins=True)\n",
    "tab1m"
   ]
  },
  {
   "cell_type": "code",
   "execution_count": null,
   "id": "a133499f",
   "metadata": {},
   "outputs": [],
   "source": [
    "sns.heatmap(tab1m, cmap='YlGnBu', annot=True, fmt='d')\n",
    "plt.show()"
   ]
  },
  {
   "cell_type": "markdown",
   "id": "6111b112",
   "metadata": {},
   "source": [
    "<br>\n",
    "\n",
    "### 5.2. 행백분율과 열백분율의 계산과 열지도 그리기\n",
    "\n",
    "두 변수의 관계를 제대로 파악하기 위해서는 상대적인 숫자 계산이 필수적  \n",
    "`normalize=` 옵션을 활용해서 교차표에서 비율을 계산할 수 있음 \n",
    "\n",
    "* `normalize='all'`: 전체 중 각 셀 비중\n",
    "* `normalize='index'`: 행 백분율(행 합계 중 각 셀의 비중)\n",
    "* `normalize='columns'`: 열 백분율(열 합계 중 각 셀의 비중)\n"
   ]
  },
  {
   "cell_type": "code",
   "execution_count": null,
   "id": "4dcd7add",
   "metadata": {},
   "outputs": [],
   "source": [
    "# 전체 백분율\n",
    "    # normalize : '정규화'\n",
    "tab1_all = pd.crosstab(df_ins['sex'], df_ins['smoker'], normalize='all')\n",
    "sns.heatmap(tab1_all, cmap='YlGnBu', annot=True, fmt='.2f')"
   ]
  },
  {
   "cell_type": "code",
   "execution_count": null,
   "id": "c0bc6bf8",
   "metadata": {},
   "outputs": [],
   "source": [
    "# 행백분율\n",
    "    # normalize='index'\n",
    "tab1_idx = pd.crosstab(df_ins['sex'], df_ins['smoker'], normalize='index')\n",
    "tab1_idx\n",
    "sns.heatmap(tab1_idx, cmap='YlGnBu', annot=True, fmt='.2f')"
   ]
  },
  {
   "cell_type": "code",
   "execution_count": null,
   "id": "8cb0dcb6",
   "metadata": {
    "scrolled": false
   },
   "outputs": [],
   "source": [
    "# 열백분율\n",
    "    # normalize='index'\n",
    "tab1_col = pd.crosstab(df_ins['sex'], df_ins['smoker'], normalize='columns')\n",
    "tab1_col\n",
    "#sns.heatmap(tab1_col, cmap='YlGnBu', annot=True, fmt='.2f')"
   ]
  },
  {
   "cell_type": "code",
   "execution_count": null,
   "id": "d8b8cabd",
   "metadata": {
    "scrolled": false
   },
   "outputs": [],
   "source": [
    "# 전체 비율을 추가한 열백분율\n",
    "    # margins=True\n",
    "tab1_col = pd.crosstab(df_ins['sex'], df_ins['smoker'], normalize='columns', margins=True)\n",
    "tab1_col\n",
    "sns.heatmap(tab1_col, cmap='YlGnBu', annot=True, fmt='.2f')"
   ]
  },
  {
   "cell_type": "markdown",
   "id": "b7eb89a8",
   "metadata": {},
   "source": [
    "#### [실습] 두 범주형 변수의 관계 탐색\n",
    "\n",
    "1. df_sp에서 'race/ethnicity'와 'parental level of education'의 교차표 만들기\n",
    "2. 1.의 교차표에 margin 추가하기\n",
    "3. 1.의 교차표를 seaborn의 heatmap( )으로 열지도로 시각화하기\n",
    "4. 2.의 교차표에서 행 백분율, 열 백분율 계산하고 시각화 하기\n",
    "5. 'race/ethnicity'와 'parental level of education'의 관계 해석하기"
   ]
  },
  {
   "cell_type": "code",
   "execution_count": null,
   "id": "6db68130",
   "metadata": {},
   "outputs": [],
   "source": [
    "df_sp.head(1)"
   ]
  },
  {
   "cell_type": "code",
   "execution_count": null,
   "id": "caa14441",
   "metadata": {},
   "outputs": [],
   "source": [
    "tab1 = pd.crosstab(df_sp['race/ethnicity'], df_sp['parental level of education'])\n",
    "tab1"
   ]
  },
  {
   "cell_type": "code",
   "execution_count": null,
   "id": "5d43005f",
   "metadata": {},
   "outputs": [],
   "source": [
    "sns.heatmap(tab1, cmap='YlGnBu', annot=True, fmt='d')"
   ]
  },
  {
   "cell_type": "code",
   "execution_count": null,
   "id": "2ff4a837",
   "metadata": {},
   "outputs": [],
   "source": [
    "tab1_norm = pd.crosstab(df_sp['race/ethnicity'], df_sp['parental level of education'],\n",
    "                        normalize='index', margins=True)\n",
    "tab1_norm"
   ]
  },
  {
   "cell_type": "code",
   "execution_count": null,
   "id": "17b3ee11",
   "metadata": {},
   "outputs": [],
   "source": [
    "sns.heatmap(tab1_norm, cmap='YlGnBu', annot=True, fmt='.2f')"
   ]
  },
  {
   "cell_type": "markdown",
   "id": "44a1e772",
   "metadata": {},
   "source": [
    "### 5.3. 피벗테이블 생성 \n",
    "\n",
    "pandas의 *pivot_table()*을 활용하면 Excel의 피벗테이블과 동일한 표 형태의 집계 가능"
   ]
  },
  {
   "cell_type": "code",
   "execution_count": null,
   "id": "2d96c50f",
   "metadata": {},
   "outputs": [],
   "source": [
    "# pivot_table()을 활용한 교차표 작성\n",
    "    ## index  : 행 그룹변수\n",
    "    ## columns: 열 그룹변수 \n",
    "    ## values : 값 변수\n",
    "    ## aggfunc: 집계 함수\n",
    "pd.pivot_table(df_ins, index='sex', columns='region', values='charges', aggfunc='size')\n"
   ]
  },
  {
   "cell_type": "code",
   "execution_count": null,
   "id": "9f5b2084",
   "metadata": {},
   "outputs": [],
   "source": [
    "# pivot_table()을 활용한 평균 피벗테이블\n",
    "pd.pivot_table(df_ins, index='sex', columns='region', values='charges', aggfunc='mean')"
   ]
  },
  {
   "cell_type": "code",
   "execution_count": null,
   "id": "be48bc12",
   "metadata": {},
   "outputs": [],
   "source": [
    "# DataFrmae의 method, pivot_table()을 활용한 평균 피벗테이블\n",
    "agg2_wide = df_ins.pivot_table(index='sex', columns='region', values='charges', aggfunc='mean')\n",
    "agg2_wide"
   ]
  },
  {
   "cell_type": "code",
   "execution_count": null,
   "id": "cef4fa79",
   "metadata": {},
   "outputs": [],
   "source": [
    "# 열지도 시각화\n",
    "sns.heatmap(agg2_wide, cmap='YlGnBu', annot=True, fmt='.2f')"
   ]
  },
  {
   "cell_type": "markdown",
   "id": "0a7da8ee",
   "metadata": {},
   "source": [
    "<br>\n",
    "\n",
    "#### [실습] df_sp 활용\n",
    "\n",
    "1. 'race/ethnicity', 'parental level of education'별 'math score'의 평균을 피벗테이블로 계산\n",
    "2. 1.의 결과를 열지도로 시각화"
   ]
  },
  {
   "cell_type": "code",
   "execution_count": null,
   "id": "9e6e98fb",
   "metadata": {},
   "outputs": [],
   "source": [
    "df_sp.head()"
   ]
  },
  {
   "cell_type": "code",
   "execution_count": null,
   "id": "1da3002d",
   "metadata": {},
   "outputs": [],
   "source": [
    "agg2_wide = df_sp.pivot_table(index='race/ethnicity', columns='parental level of education',\n",
    "                              values='math score', aggfunc='mean')\n",
    "agg2_wide"
   ]
  },
  {
   "cell_type": "code",
   "execution_count": null,
   "id": "41c282dd",
   "metadata": {},
   "outputs": [],
   "source": [
    "sns.heatmap(agg2_wide, cmap='YlGnBu', annot=True, fmt='.2f')"
   ]
  },
  {
   "cell_type": "markdown",
   "id": "ad2e1d1a",
   "metadata": {},
   "source": [
    "### 5.4. 형태 변환 변환\n",
    "\n",
    "상황에 따라 *groupby()*를 써서 아래로 길게 늘어뜨린 요약 결과를 만들 수도 있고, *crosstab()*나 *pivot_table()*처럼 옆으로 펼친 결과를 만들기도 함  \n",
    "\n",
    "두 데이터 형태는 각각 *pivot( )*과 *melt( )*로 전환 가능\n",
    "\n"
   ]
  },
  {
   "cell_type": "code",
   "execution_count": null,
   "id": "1032a9a1",
   "metadata": {},
   "outputs": [],
   "source": [
    "# groupby()로 아래로 늘어뜨린 요약 결과 생성\n",
    "agg2_long = df_ins.groupby(['sex','region'], as_index=False)['charges'].mean()\n",
    "agg2_long"
   ]
  },
  {
   "cell_type": "code",
   "execution_count": null,
   "id": "bbafeedc",
   "metadata": {},
   "outputs": [],
   "source": [
    "# DataFrmae의 method, pivot_table()을 활용한 평균 피벗테이블\n",
    "agg2_wide = df_ins.pivot_table(index='sex', columns='region', values='charges', aggfunc='mean')\n",
    "agg2_wide"
   ]
  },
  {
   "cell_type": "code",
   "execution_count": null,
   "id": "efe124fe",
   "metadata": {
    "scrolled": false
   },
   "outputs": [],
   "source": [
    "# 형태에 따른 그래프 작성 차이\n",
    "import matplotlib.pyplot as plt\n",
    "import seaborn as sns\n",
    "\n",
    "# long -> 막대그래프\n",
    "sns.barplot(data=agg2_long,\n",
    "            x  ='region',\n",
    "            y  ='charges',\n",
    "            hue='sex')\n",
    "plt.show()\n",
    "\n",
    "\n",
    "# wide -> 열지도\n",
    "sns.heatmap(agg2_wide, cmap='YlGnBu')\n",
    "plt.show()\n"
   ]
  },
  {
   "cell_type": "code",
   "execution_count": null,
   "id": "f74802b6",
   "metadata": {},
   "outputs": [],
   "source": [
    "# pivot()을 활용한 long -> wide 변환\n",
    "pd.pivot(agg2_long, index='sex', columns='region', values='charges')\n",
    "agg2_long.pivot(index='sex', columns='region', values='charges')"
   ]
  },
  {
   "cell_type": "code",
   "execution_count": null,
   "id": "5d8ee5c9",
   "metadata": {},
   "outputs": [],
   "source": [
    "# melt()를 활용한 wide-> long 변환\n",
    "    # 먼저 index를 변수로 변환\n",
    "agg2_wide.reset_index()"
   ]
  },
  {
   "cell_type": "code",
   "execution_count": null,
   "id": "0849c991",
   "metadata": {},
   "outputs": [],
   "source": [
    "pd.melt(agg2_wide.reset_index(), id_vars='sex')"
   ]
  },
  {
   "cell_type": "code",
   "execution_count": null,
   "id": "5df4d82a",
   "metadata": {},
   "outputs": [],
   "source": [
    "pd.melt(agg2_wide.reset_index(), id_vars='sex', value_name='charges')"
   ]
  },
  {
   "cell_type": "markdown",
   "id": "c2d66563",
   "metadata": {},
   "source": [
    "<br>\n",
    "\n",
    "#### [실습] 데이터 df_sp 활용\n",
    "\n",
    "1. groupby()를 활용해서 'race/ethnicity', 'parental level of education'별 'writing score'의 중앙값 계산하고 저장하기\n",
    "\n",
    "2. pivot_table()를 활용해서 'race/ethnicity', 'parental level of education'별 'writing score'의 중앙값 계산하고 저장하기\n",
    "\n",
    "3. 1.의 결과를 pivot()을 활용해서 2.와 동일하게 변환하기\n",
    "\n",
    "4. 2.의 결과를 melt()를 활용해서 1.과 동일하게 만들기\n",
    "\n",
    "5. 3.의 결과를 seaborn의 heatmap()으로 시각화하기\n",
    "\n",
    "\n"
   ]
  },
  {
   "cell_type": "code",
   "execution_count": null,
   "id": "ab077e5e",
   "metadata": {},
   "outputs": [],
   "source": [
    "df_sp.head()"
   ]
  },
  {
   "cell_type": "code",
   "execution_count": null,
   "id": "a401f67c",
   "metadata": {
    "scrolled": true
   },
   "outputs": [],
   "source": [
    "agg2_long = df_sp.groupby(['race/ethnicity','parental level of education'],\n",
    "                          as_index=False)['writing score'].median()\n",
    "agg2_long"
   ]
  },
  {
   "cell_type": "code",
   "execution_count": null,
   "id": "539aae9b",
   "metadata": {},
   "outputs": [],
   "source": [
    "agg2_wide = df_sp.pivot_table(index='race/ethnicity', columns='parental level of education',\n",
    "                              values='writing score', aggfunc='median')\n",
    "agg2_wide"
   ]
  },
  {
   "cell_type": "code",
   "execution_count": null,
   "id": "b5e2cac8",
   "metadata": {},
   "outputs": [],
   "source": [
    "agg2_long.pivot(index='race/ethnicity', columns='parental level of education', values='writing score')"
   ]
  },
  {
   "cell_type": "code",
   "execution_count": null,
   "id": "a573f609",
   "metadata": {
    "scrolled": true
   },
   "outputs": [],
   "source": [
    "pd.melt(agg2_wide.reset_index(), id_vars='race/ethnicity', value_name='writing score')"
   ]
  },
  {
   "cell_type": "code",
   "execution_count": 135,
   "id": "bd81facf",
   "metadata": {},
   "outputs": [
    {
     "data": {
      "image/png": "[encoded data removed]",
      "text/plain": [
       "<Figure size 640x480 with 1 Axes>"
      ]
     },
     "metadata": {},
     "output_type": "display_data"
    },
    {
     "data": {
      "image/png": "[encoded data removed]",
      "text/plain": [
       "<Figure size 640x480 with 2 Axes>"
      ]
     },
     "metadata": {},
     "output_type": "display_data"
    }
   ],
   "source": [
    "# long -> 막대그래프\n",
    "sns.barplot(data=agg2_long,\n",
    "            x  ='race/ethnicity',\n",
    "            y  ='writing score',\n",
    "            hue='parental level of education')\n",
    "plt.show()\n",
    "\n",
    "\n",
    "# wide -> 열지도\n",
    "sns.heatmap(agg2_wide, cmap='YlGnBu')\n",
    "plt.show()"
   ]
  },
  {
   "cell_type": "code",
   "execution_count": null,
   "id": "fde0d094",
   "metadata": {},
   "outputs": [],
   "source": []
  },
  {
   "cell_type": "markdown",
   "id": "38b116f1",
   "metadata": {},
   "source": [
    "<br>\n",
    "\n",
    "\n",
    "## 6. 데이터 집계와 데이터 처리 \n",
    "\n",
    "데이터 집계를 통해 얻은 정보를 다양한 방법으로 데이터 처리에 활용 가능  \n",
    "가장 대표적인 방법은 데이터 집계를 통해 관심 대상을 확인하고 선택하는 방법"
   ]
  },
  {
   "cell_type": "code",
   "execution_count": null,
   "id": "db7a9500",
   "metadata": {},
   "outputs": [],
   "source": [
    "# 집계값의 계산\n",
    "agg2 = df_ins.groupby('region', as_index=False)['charges'].median()\n",
    "agg2"
   ]
  },
  {
   "cell_type": "code",
   "execution_count": null,
   "id": "b97a9132",
   "metadata": {},
   "outputs": [],
   "source": [
    "# 상위 2개 지역 선택\n",
    "target_region = agg2.nlargest(2, 'charges')['region']\n",
    "target_region"
   ]
  },
  {
   "cell_type": "code",
   "execution_count": null,
   "id": "0241d7d6",
   "metadata": {},
   "outputs": [],
   "source": [
    "# 전체 관측치에서 .isin()을 활용하여 해당 지역 관측치만 선택\n",
    "cond = df_ins['region'].isin(target_region)\n",
    "cond"
   ]
  },
  {
   "cell_type": "code",
   "execution_count": null,
   "id": "e1ee9836",
   "metadata": {},
   "outputs": [],
   "source": [
    "df_ins[cond]"
   ]
  },
  {
   "cell_type": "markdown",
   "id": "c2f518a0",
   "metadata": {},
   "source": [
    "<br>\n",
    "\n",
    "#### [실습] df_sp 활용\n",
    "\n",
    "1. 'parental level of education'별 'reading score'의 평균을 계산하고 **df_agg**로 저장하기\n",
    "2. 1.의 **df_agg**에서 평균 점수 기준 상위 3개 관측치를 선택하고 변수 'parental level of education' 선택해서 **target_grp**로 저장하기\n",
    "3. 2.의 **target_grp**와 *isin()*을 활용하여 전체 데이터 **df_sp**에서 해당 그룹 관측치(행)을 선택하고 **df_sub**로 저장하기\n",
    "4. 3.의 **df_sub**를 활용하여 'race/ethnicity'별 'writing score'의 평균 계산"
   ]
  },
  {
   "cell_type": "code",
   "execution_count": null,
   "id": "94bd130b",
   "metadata": {},
   "outputs": [],
   "source": []
  },
  {
   "cell_type": "code",
   "execution_count": null,
   "id": "d7009a85",
   "metadata": {},
   "outputs": [],
   "source": []
  },
  {
   "cell_type": "code",
   "execution_count": null,
   "id": "de7c8bf2",
   "metadata": {},
   "outputs": [],
   "source": []
  },
  {
   "cell_type": "code",
   "execution_count": null,
   "id": "7b89013d",
   "metadata": {},
   "outputs": [],
   "source": []
  },
  {
   "cell_type": "markdown",
   "id": "6804ede0",
   "metadata": {},
   "source": [
    "<br>\n",
    "\n",
    "## 7. 결과 데이터와 그래프의 저장\n",
    "\n",
    "함수를 활용해서 분석 결과 데이터와 그래프를 저장 가능"
   ]
  },
  {
   "cell_type": "code",
   "execution_count": null,
   "id": "41b27d2c",
   "metadata": {},
   "outputs": [],
   "source": [
    "# 폴더 생성\n",
    "%mkdir result"
   ]
  },
  {
   "cell_type": "code",
   "execution_count": null,
   "id": "ad5da86b",
   "metadata": {},
   "outputs": [],
   "source": [
    "# 대상 결과 데이터 확인\n",
    "agg1"
   ]
  },
  {
   "cell_type": "code",
   "execution_count": null,
   "id": "1dd35887",
   "metadata": {},
   "outputs": [],
   "source": [
    "# to_csv()로 결과 데이터를 csv 형식으로 저장하기\n",
    "agg1.to_csv('result/result.csv', index=True)"
   ]
  },
  {
   "cell_type": "code",
   "execution_count": null,
   "id": "e8630696",
   "metadata": {},
   "outputs": [],
   "source": [
    "# 대상 그래프 확인\n",
    "pt1 = df_ins.pivot_table(index='region', columns='smoker', values='charges', aggfunc='mean')\n",
    "plot1 = sns.heatmap(pt1, cmap='Blues', annot=True, fmt='.2f')\n",
    "plot1"
   ]
  },
  {
   "cell_type": "code",
   "execution_count": null,
   "id": "82bf786e",
   "metadata": {},
   "outputs": [],
   "source": [
    "# savefig()을 활용한 그래프 저장\n",
    "plot1.figure.savefig('result/plot1.jpg')"
   ]
  },
  {
   "cell_type": "markdown",
   "id": "d795f598",
   "metadata": {},
   "source": [
    "<br>\n",
    "<hr>\n",
    "<br>\n",
    "\n",
    "## 8. 반응형 그래프의 활용\n",
    "\n",
    "**plotly**를 활용해서 반응형 그래프를 그려서 탐색적 데이터 분석(EDA) 과정에서 유용하게 활용 가능\n",
    "\n",
    "* 참고: [Plotly](https://plotly.com/python/)"
   ]
  },
  {
   "cell_type": "code",
   "execution_count": null,
   "id": "a6e6b690",
   "metadata": {},
   "outputs": [],
   "source": [
    "# seaborn을 활용한 산점도 \n",
    "sns.scatterplot(data=df_ins, \n",
    "                x='bmi',\n",
    "                y='charges', \n",
    "                hue='smoker')"
   ]
  },
  {
   "cell_type": "code",
   "execution_count": null,
   "id": "348c21e3",
   "metadata": {},
   "outputs": [],
   "source": [
    "import plotly.express as px\n",
    "px.scatter(df_ins,\n",
    "           x='bmi',\n",
    "           y='charges', \n",
    "           color='smoker')"
   ]
  },
  {
   "cell_type": "markdown",
   "id": "c12d9c25",
   "metadata": {},
   "source": [
    "#### [실습]\n",
    "1. df_sp에서 `parental level of education`별로 색을 다르게 한  `math score`와 `reading score`의 산점도 그리기 "
   ]
  },
  {
   "cell_type": "code",
   "execution_count": null,
   "id": "9ae5effb",
   "metadata": {},
   "outputs": [],
   "source": []
  },
  {
   "cell_type": "code",
   "execution_count": null,
   "id": "54b1172b",
   "metadata": {},
   "outputs": [],
   "source": []
  },
  {
   "cell_type": "code",
   "execution_count": null,
   "id": "a278bc32",
   "metadata": {},
   "outputs": [],
   "source": []
  },
  {
   "cell_type": "code",
   "execution_count": null,
   "id": "5a4079f3",
   "metadata": {},
   "outputs": [],
   "source": []
  },
  {
   "cell_type": "code",
   "execution_count": null,
   "id": "ca8d10b6",
   "metadata": {},
   "outputs": [],
   "source": []
  },
  {
   "cell_type": "code",
   "execution_count": null,
   "id": "20638303",
   "metadata": {},
   "outputs": [],
   "source": []
  },
  {
   "cell_type": "markdown",
   "id": "438a6fcf",
   "metadata": {},
   "source": [
    "#### End of script"
   ]
  }
 ],
 "metadata": {
  "kernelspec": {
   "display_name": "Python 3 (ipykernel)",
   "language": "python",
   "name": "python3"
  },
  "language_info": {
   "codemirror_mode": {
    "name": "ipython",
    "version": 3
   },
   "file_extension": ".py",
   "mimetype": "text/x-python",
   "name": "python",
   "nbconvert_exporter": "python",
   "pygments_lexer": "ipython3",
   "version": "3.9.13"
  }
 },
 "nbformat": 4,
 "nbformat_minor": 5
}
