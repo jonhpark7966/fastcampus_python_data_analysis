{
 "cells": [
  {
   "cell_type": "markdown",
   "id": "8a6c67e2",
   "metadata": {},
   "source": [
    "# 데이터 불러오기/살펴보기\n",
    "\n",
    "### 주요 내용\n",
    "\n",
    "1. csv, xlsx 파일 불러오기\n",
    "2. 데이터 살펴보기\n",
    "3. DRM 보안 파일 불러오기\n",
    "\n",
    "<br>\n",
    "\n",
    "### 목표 \n",
    "1. 분석에 필요한 데이터를 python으로 불러올 수 있다.\n",
    "2. 데이터의 일부나 특성을 확인할 수 있다. \n",
    "\n",
    "\n",
    "<br>\n",
    "<hr>\n",
    "<br>"
   ]
  },
  {
   "cell_type": "markdown",
   "id": "7e80c404",
   "metadata": {},
   "source": [
    "## 1. 파일 불러와서 살펴보기\n",
    "\n",
    "**pandas** 라이브러리의 *read_csv()* 등의 함수를 활용해서 데이터 불러오기 가능 \n",
    "아래의 표현들을 활용해서 데이터 파일의 경로 지정 필요 \n",
    "\n",
    "* `/` : **root**. Windows에서는 C:\\\n",
    "* `~/` : 사용자 폴더. Windows에서는 C:\\Users\\사용자계정이름\n",
    "* `./` : 현재 작업 폴더(working directory), 별도로 작업하지 않은 경우 생략 가능\n",
    "* `../` : 현재 폴더의 상위 폴더\n",
    "\n",
    "\n",
    "`바탕화면`처럼 익숙한 곳에 새로운 폴더를 만들고, 데이터 파일을 옮겨서 작업하는 것을 추천\n",
    "\n"
   ]
  },
  {
   "cell_type": "code",
   "execution_count": null,
   "id": "f4e68afb",
   "metadata": {},
   "outputs": [],
   "source": [
    "# 현재 작업 폴더 확인\n",
    "    ## print working directory\n",
    "%pwd"
   ]
  },
  {
   "cell_type": "markdown",
   "id": "f1effbcd",
   "metadata": {},
   "source": [
    "<br>\n",
    "\n",
    "### 1.1. CSV 파일 불러오기\n",
    "\n",
    "**pandas** 라이브러리 불러오기 "
   ]
  },
  {
   "cell_type": "code",
   "execution_count": null,
   "id": "1842e166",
   "metadata": {},
   "outputs": [],
   "source": [
    "import pandas as pd"
   ]
  },
  {
   "cell_type": "code",
   "execution_count": null,
   "id": "d881a9a0",
   "metadata": {},
   "outputs": [],
   "source": [
    "# pandas의 read_csv( ) 활용\n",
    "df_ins= pd.read_csv(\"./data/insurance.csv\")\n",
    "df_ins= pd.read_csv(\"data/insurance.csv\")\n",
    "df_ins    \n",
    "    ## 경로가 중요! \n",
    "    ## ./ : ipynb 노트북 파일 폴더\n",
    "    ## ./ 생략 가능\n",
    "    ## Tab으로 자동 완성 기능 활용 가능 "
   ]
  },
  {
   "cell_type": "code",
   "execution_count": null,
   "id": "a2756fb6",
   "metadata": {},
   "outputs": [],
   "source": [
    "# 타입 확인\n",
    "type(df_ins)\n",
    "    ## \"DataFrame\""
   ]
  },
  {
   "cell_type": "code",
   "execution_count": null,
   "id": "07e0a816",
   "metadata": {},
   "outputs": [],
   "source": [
    "# 메서드의 확인(마침표 뒤에서 Tab 누르기)\n",
    "df_ins."
   ]
  },
  {
   "cell_type": "markdown",
   "id": "76e7833b",
   "metadata": {},
   "source": [
    "<br>\n",
    "\n",
    "### 1.2. 데이터 살펴보기\n"
   ]
  },
  {
   "cell_type": "code",
   "execution_count": null,
   "id": "723139a9",
   "metadata": {},
   "outputs": [],
   "source": [
    "# head( )로 앞 몇개 관측치 확인\n",
    "df_ins.head(n=10)"
   ]
  },
  {
   "cell_type": "code",
   "execution_count": null,
   "id": "61e23b19",
   "metadata": {},
   "outputs": [],
   "source": [
    "# tail( )로 끝 몇 개 관측치 확인\n",
    "df_ins.tail(n=3)"
   ]
  },
  {
   "cell_type": "code",
   "execution_count": null,
   "id": "656a369d",
   "metadata": {},
   "outputs": [],
   "source": [
    "# 관측치/ 변수 개수 확인\n",
    "df_ins.shape"
   ]
  },
  {
   "cell_type": "code",
   "execution_count": null,
   "id": "d7389977",
   "metadata": {},
   "outputs": [],
   "source": [
    "# 관측치 개수만 확인\n",
    "df_ins.shape[0]"
   ]
  },
  {
   "cell_type": "code",
   "execution_count": null,
   "id": "0298f21e",
   "metadata": {},
   "outputs": [],
   "source": [
    "# index(행 이름) 확인\n",
    "df_ins.index"
   ]
  },
  {
   "cell_type": "code",
   "execution_count": null,
   "id": "0fd13fa2",
   "metadata": {},
   "outputs": [],
   "source": [
    "# columns(변수 이름) 확인\n",
    "df_ins.columns"
   ]
  },
  {
   "cell_type": "code",
   "execution_count": null,
   "id": "8505cfa2",
   "metadata": {},
   "outputs": [],
   "source": [
    "# 변수 형식 확인\n",
    "df_ins.dtypes"
   ]
  },
  {
   "cell_type": "markdown",
   "id": "574eabe7",
   "metadata": {},
   "source": [
    "<br>\n",
    "\n",
    "#### [실습] data 폴더의 PulseRates.csv를 불러와서 df_pr로 저장하기\n",
    "\n",
    "이후 자유롭게 데이터 탐색하기"
   ]
  },
  {
   "cell_type": "code",
   "execution_count": null,
   "id": "174d3b09",
   "metadata": {},
   "outputs": [],
   "source": [
    "df_pr = pd.read_csv(\"./data/PulseRates.csv\")"
   ]
  },
  {
   "cell_type": "code",
   "execution_count": null,
   "id": "12708561",
   "metadata": {},
   "outputs": [],
   "source": [
    "df_pr.dtypes"
   ]
  },
  {
   "cell_type": "code",
   "execution_count": null,
   "id": "da9459ee",
   "metadata": {},
   "outputs": [],
   "source": []
  },
  {
   "cell_type": "markdown",
   "id": "19c4e641",
   "metadata": {},
   "source": [
    "#### [참고] Encoding 지정 및 index, header 지정"
   ]
  },
  {
   "cell_type": "code",
   "execution_count": null,
   "id": "ad167ad0",
   "metadata": {},
   "outputs": [],
   "source": [
    "# 인코딩(글자 저장 방법) 오류 발생\n",
    "    ## UnicodeDecodeError  'utf-8' codec can't decode byte 0xbc in position 1: invalid start byte\n",
    "pd.read_csv('data/고용지표_20221115084415.csv')"
   ]
  },
  {
   "cell_type": "code",
   "execution_count": null,
   "id": "00b4666d",
   "metadata": {},
   "outputs": [],
   "source": [
    "# 옵션 encoding='CP949' 추가\n",
    "pd.read_csv('data/고용지표_20221115084415.csv', encoding='CP949')"
   ]
  },
  {
   "cell_type": "code",
   "execution_count": null,
   "id": "ffba3125",
   "metadata": {},
   "outputs": [],
   "source": [
    "# index, header 지정\n",
    "pd.read_csv('data/고용지표_20221115084415.csv', encoding='CP949', index_col=0, header=[0,1])"
   ]
  },
  {
   "cell_type": "markdown",
   "id": "b9872636",
   "metadata": {},
   "source": [
    "<br>\n",
    "\n",
    "\n",
    "### 1.3. Excel 파일 불러오기  \n",
    "\n",
    "`Excel` 파일은 구버전의 **xls**와 새로운 버전의 **xlsx**로 구분하며 추가 라이브러리 `xlrd`와 `openpyxl` 설치 필수\n",
    " 이후 pandas의 `read_excel( )`을 사용 가능 \n",
    " > pandas 1.3 이전 버전에서는 **xlsx** 파일을 불러올 때 함수 안에 `, engine='openpyxl'`를 추가해야할 수도 있습니다."
   ]
  },
  {
   "cell_type": "code",
   "execution_count": null,
   "id": "bcd317d2",
   "metadata": {},
   "outputs": [],
   "source": [
    "# 무난한 첫번째 시트 데이터 불러오기\n",
    "sheet1 = pd.read_excel('./data/test.xlsx')\n",
    "sheet1"
   ]
  },
  {
   "cell_type": "code",
   "execution_count": null,
   "id": "903d99a7",
   "metadata": {},
   "outputs": [],
   "source": [
    "# 시트 번호 지정하고 2줄 무시하기\n",
    "sheet2 = pd.read_excel('data/test.xlsx', sheet_name=\"KOR\", skiprows=2)\n",
    "sheet2\n",
    "    ## sheet_name : 시트 이름이나 번호 지정, 번호는 0부터 시작\n",
    "    ## skiprows   : 무시할 행 수\n"
   ]
  },
  {
   "cell_type": "code",
   "execution_count": null,
   "id": "1c8f32df",
   "metadata": {},
   "outputs": [],
   "source": [
    "# 첫 행부터 데이터가 시작되는 데이터 불러오기\n",
    "sheet3 = pd.read_excel('data/test.xlsx', sheet_name=2, header=None)\n",
    "sheet3\n",
    "    ## header : 첫 행에 변수이름이 저장되었는지 여부\n"
   ]
  },
  {
   "cell_type": "code",
   "execution_count": null,
   "id": "52e9d7ad",
   "metadata": {},
   "outputs": [],
   "source": [
    "# 첫 행부터 데이터가 시작되는 데이터 불러오면서 변수 이름 지정하기\n",
    "sheet3 = pd.read_excel('data/test.xlsx', sheet_name=2, header=None, names=['년도','건수'])\n",
    "sheet3\n"
   ]
  },
  {
   "cell_type": "code",
   "execution_count": null,
   "id": "a12778be",
   "metadata": {},
   "outputs": [],
   "source": [
    "# 결측 저장값 지정하기\n",
    "sheet3 = pd.read_excel('data/test.xlsx', sheet_name=2, header=None, names=['년도','건수'], na_values='-')\n",
    "sheet3\n",
    "    ## NaN : 결측값"
   ]
  },
  {
   "cell_type": "markdown",
   "id": "4f1d2926",
   "metadata": {},
   "source": [
    "\n",
    "<br>  \n",
    "\n",
    "####  [실습] 아래의 사이트에서 관심있는 데이터를 탐색하기\n",
    "\n",
    "* csv 파일 중 인코딩 관련 에러가 발생할 경우 read_csv( )안에서 `encoding='CP949'` 옵션 추가\n",
    "* xlsx의 경우 다운로드한 파일을 열어서 읽기 전용을 해제해야 할 수도 있음\n",
    "\n",
    "\n",
    "\n",
    "[공공데이터포털](https://www.data.go.kr/index.do)\n",
    "\n",
    "[서울 열린데이터 광장](http://data.seoul.go.kr/)\n",
    "\n",
    "[Dacon](https://dacon.io/)\n",
    "\n",
    "\n",
    "\n"
   ]
  },
  {
   "cell_type": "code",
   "execution_count": null,
   "id": "9b49ccd2",
   "metadata": {},
   "outputs": [],
   "source": [
    "pd.read_csv(\"/Users/jhpark/Downloads/법무부_국립법무병원 수용 현황_20221231.csv\", encoding='cp949')"
   ]
  },
  {
   "cell_type": "code",
   "execution_count": 36,
   "id": "7a185118",
   "metadata": {
    "collapsed": true
   },
   "outputs": [
    {
     "data": {
      "text/html": [
       "<div>\n",
       "<style scoped>\n",
       "    .dataframe tbody tr th:only-of-type {\n",
       "        vertical-align: middle;\n",
       "    }\n",
       "\n",
       "    .dataframe tbody tr th {\n",
       "        vertical-align: top;\n",
       "    }\n",
       "\n",
       "    .dataframe thead th {\n",
       "        text-align: right;\n",
       "    }\n",
       "</style>\n",
       "<table border=\"1\" class=\"dataframe\">\n",
       "  <thead>\n",
       "    <tr style=\"text-align: right;\">\n",
       "      <th></th>\n",
       "      <th>연도별</th>\n",
       "      <th>정신분열증</th>\n",
       "      <th>정신지체</th>\n",
       "      <th>조울증</th>\n",
       "      <th>성격(인격)장애</th>\n",
       "      <th>간질</th>\n",
       "      <th>약물중독</th>\n",
       "      <th>기타</th>\n",
       "    </tr>\n",
       "  </thead>\n",
       "  <tbody>\n",
       "    <tr>\n",
       "      <th>0</th>\n",
       "      <td>2008</td>\n",
       "      <td>395</td>\n",
       "      <td>56</td>\n",
       "      <td>67</td>\n",
       "      <td>14</td>\n",
       "      <td>14</td>\n",
       "      <td>51</td>\n",
       "      <td>126</td>\n",
       "    </tr>\n",
       "    <tr>\n",
       "      <th>1</th>\n",
       "      <td>2009</td>\n",
       "      <td>428</td>\n",
       "      <td>72</td>\n",
       "      <td>58</td>\n",
       "      <td>17</td>\n",
       "      <td>12</td>\n",
       "      <td>56</td>\n",
       "      <td>181</td>\n",
       "    </tr>\n",
       "    <tr>\n",
       "      <th>2</th>\n",
       "      <td>2010</td>\n",
       "      <td>355</td>\n",
       "      <td>100</td>\n",
       "      <td>64</td>\n",
       "      <td>52</td>\n",
       "      <td>25</td>\n",
       "      <td>68</td>\n",
       "      <td>223</td>\n",
       "    </tr>\n",
       "    <tr>\n",
       "      <th>3</th>\n",
       "      <td>2011</td>\n",
       "      <td>382</td>\n",
       "      <td>82</td>\n",
       "      <td>42</td>\n",
       "      <td>33</td>\n",
       "      <td>25</td>\n",
       "      <td>50</td>\n",
       "      <td>334</td>\n",
       "    </tr>\n",
       "    <tr>\n",
       "      <th>4</th>\n",
       "      <td>2012</td>\n",
       "      <td>450</td>\n",
       "      <td>86</td>\n",
       "      <td>54</td>\n",
       "      <td>38</td>\n",
       "      <td>28</td>\n",
       "      <td>71</td>\n",
       "      <td>294</td>\n",
       "    </tr>\n",
       "    <tr>\n",
       "      <th>5</th>\n",
       "      <td>2013</td>\n",
       "      <td>480</td>\n",
       "      <td>89</td>\n",
       "      <td>57</td>\n",
       "      <td>44</td>\n",
       "      <td>26</td>\n",
       "      <td>85</td>\n",
       "      <td>341</td>\n",
       "    </tr>\n",
       "    <tr>\n",
       "      <th>6</th>\n",
       "      <td>2014</td>\n",
       "      <td>509</td>\n",
       "      <td>104</td>\n",
       "      <td>72</td>\n",
       "      <td>38</td>\n",
       "      <td>20</td>\n",
       "      <td>176</td>\n",
       "      <td>230</td>\n",
       "    </tr>\n",
       "    <tr>\n",
       "      <th>7</th>\n",
       "      <td>2015</td>\n",
       "      <td>533</td>\n",
       "      <td>102</td>\n",
       "      <td>81</td>\n",
       "      <td>35</td>\n",
       "      <td>14</td>\n",
       "      <td>175</td>\n",
       "      <td>240</td>\n",
       "    </tr>\n",
       "    <tr>\n",
       "      <th>8</th>\n",
       "      <td>2016</td>\n",
       "      <td>507</td>\n",
       "      <td>97</td>\n",
       "      <td>85</td>\n",
       "      <td>27</td>\n",
       "      <td>12</td>\n",
       "      <td>130</td>\n",
       "      <td>235</td>\n",
       "    </tr>\n",
       "    <tr>\n",
       "      <th>9</th>\n",
       "      <td>2017</td>\n",
       "      <td>518</td>\n",
       "      <td>92</td>\n",
       "      <td>84</td>\n",
       "      <td>27</td>\n",
       "      <td>10</td>\n",
       "      <td>117</td>\n",
       "      <td>248</td>\n",
       "    </tr>\n",
       "    <tr>\n",
       "      <th>10</th>\n",
       "      <td>2018</td>\n",
       "      <td>528</td>\n",
       "      <td>84</td>\n",
       "      <td>71</td>\n",
       "      <td>23</td>\n",
       "      <td>10</td>\n",
       "      <td>118</td>\n",
       "      <td>204</td>\n",
       "    </tr>\n",
       "    <tr>\n",
       "      <th>11</th>\n",
       "      <td>2019</td>\n",
       "      <td>543</td>\n",
       "      <td>77</td>\n",
       "      <td>76</td>\n",
       "      <td>13</td>\n",
       "      <td>9</td>\n",
       "      <td>98</td>\n",
       "      <td>196</td>\n",
       "    </tr>\n",
       "    <tr>\n",
       "      <th>12</th>\n",
       "      <td>2020</td>\n",
       "      <td>575</td>\n",
       "      <td>84</td>\n",
       "      <td>79</td>\n",
       "      <td>10</td>\n",
       "      <td>10</td>\n",
       "      <td>80</td>\n",
       "      <td>178</td>\n",
       "    </tr>\n",
       "    <tr>\n",
       "      <th>13</th>\n",
       "      <td>2021</td>\n",
       "      <td>509</td>\n",
       "      <td>62</td>\n",
       "      <td>68</td>\n",
       "      <td>5</td>\n",
       "      <td>6</td>\n",
       "      <td>64</td>\n",
       "      <td>149</td>\n",
       "    </tr>\n",
       "    <tr>\n",
       "      <th>14</th>\n",
       "      <td>2022</td>\n",
       "      <td>471</td>\n",
       "      <td>56</td>\n",
       "      <td>63</td>\n",
       "      <td>5</td>\n",
       "      <td>4</td>\n",
       "      <td>52</td>\n",
       "      <td>147</td>\n",
       "    </tr>\n",
       "  </tbody>\n",
       "</table>\n",
       "</div>"
      ],
      "text/plain": [
       "     연도별  정신분열증  정신지체  조울증  성격(인격)장애  간질  약물중독   기타\n",
       "0   2008    395    56   67        14  14    51  126\n",
       "1   2009    428    72   58        17  12    56  181\n",
       "2   2010    355   100   64        52  25    68  223\n",
       "3   2011    382    82   42        33  25    50  334\n",
       "4   2012    450    86   54        38  28    71  294\n",
       "5   2013    480    89   57        44  26    85  341\n",
       "6   2014    509   104   72        38  20   176  230\n",
       "7   2015    533   102   81        35  14   175  240\n",
       "8   2016    507    97   85        27  12   130  235\n",
       "9   2017    518    92   84        27  10   117  248\n",
       "10  2018    528    84   71        23  10   118  204\n",
       "11  2019    543    77   76        13   9    98  196\n",
       "12  2020    575    84   79        10  10    80  178\n",
       "13  2021    509    62   68         5   6    64  149\n",
       "14  2022    471    56   63         5   4    52  147"
      ]
     },
     "execution_count": 36,
     "metadata": {},
     "output_type": "execute_result"
    }
   ],
   "source": [
    "pd.read_csv(\"../../../Downloads/법무부_국립법무병원 수용 현황_20221231.csv\", encoding='cp949')"
   ]
  },
  {
   "cell_type": "code",
   "execution_count": null,
   "id": "2e6313fb",
   "metadata": {},
   "outputs": [],
   "source": []
  },
  {
   "cell_type": "code",
   "execution_count": null,
   "id": "2898b820",
   "metadata": {},
   "outputs": [],
   "source": []
  },
  {
   "cell_type": "code",
   "execution_count": null,
   "id": "f64ae53f",
   "metadata": {},
   "outputs": [],
   "source": [
    "pd.read_csv(\"/Users/jhpark/Downloads/법무부_국립법무병원 수용 현황_20221231.csv\", encoding=\"cp949\")"
   ]
  },
  {
   "cell_type": "code",
   "execution_count": null,
   "id": "9ef0c035",
   "metadata": {},
   "outputs": [],
   "source": [
    "pd.read_csv(\"../../../Downloads/법무부_국립법무병원 수용 현황_20221231.csv\", encoding=\"cp949\")"
   ]
  },
  {
   "cell_type": "code",
   "execution_count": 33,
   "id": "615e9904",
   "metadata": {
    "collapsed": true
   },
   "outputs": [
    {
     "data": {
      "text/html": [
       "<div>\n",
       "<style scoped>\n",
       "    .dataframe tbody tr th:only-of-type {\n",
       "        vertical-align: middle;\n",
       "    }\n",
       "\n",
       "    .dataframe tbody tr th {\n",
       "        vertical-align: top;\n",
       "    }\n",
       "\n",
       "    .dataframe thead th {\n",
       "        text-align: right;\n",
       "    }\n",
       "</style>\n",
       "<table border=\"1\" class=\"dataframe\">\n",
       "  <thead>\n",
       "    <tr style=\"text-align: right;\">\n",
       "      <th></th>\n",
       "      <th>서울특별시 강남구 개포동</th>\n",
       "      <th>1282</th>\n",
       "      <th>1282.1</th>\n",
       "      <th>0000</th>\n",
       "      <th>개포래미안포레스트</th>\n",
       "      <th>59.92</th>\n",
       "      <th>202108</th>\n",
       "      <th>21</th>\n",
       "      <th>199,500</th>\n",
       "      <th>6</th>\n",
       "      <th>2020</th>\n",
       "      <th>개포로 264</th>\n",
       "      <th>Unnamed: 12</th>\n",
       "    </tr>\n",
       "  </thead>\n",
       "  <tbody>\n",
       "    <tr>\n",
       "      <th>0</th>\n",
       "      <td>서울특별시 강남구 개포동</td>\n",
       "      <td>185</td>\n",
       "      <td>185</td>\n",
       "      <td>0</td>\n",
       "      <td>개포주공 7단지</td>\n",
       "      <td>83.7000</td>\n",
       "      <td>202108</td>\n",
       "      <td>20</td>\n",
       "      <td>280,000</td>\n",
       "      <td>2</td>\n",
       "      <td>1983</td>\n",
       "      <td>개포로 516</td>\n",
       "      <td>NaN</td>\n",
       "    </tr>\n",
       "    <tr>\n",
       "      <th>1</th>\n",
       "      <td>서울특별시 강남구 개포동</td>\n",
       "      <td>138</td>\n",
       "      <td>138</td>\n",
       "      <td>0</td>\n",
       "      <td>디에이치아너힐즈</td>\n",
       "      <td>59.8732</td>\n",
       "      <td>202108</td>\n",
       "      <td>17</td>\n",
       "      <td>233,000</td>\n",
       "      <td>4</td>\n",
       "      <td>2019</td>\n",
       "      <td>삼성로 11</td>\n",
       "      <td>NaN</td>\n",
       "    </tr>\n",
       "    <tr>\n",
       "      <th>2</th>\n",
       "      <td>서울특별시 강남구 개포동</td>\n",
       "      <td>1280</td>\n",
       "      <td>1280</td>\n",
       "      <td>0</td>\n",
       "      <td>래미안블레스티지</td>\n",
       "      <td>59.9670</td>\n",
       "      <td>202108</td>\n",
       "      <td>14</td>\n",
       "      <td>227,000</td>\n",
       "      <td>10</td>\n",
       "      <td>2019</td>\n",
       "      <td>선릉로 8</td>\n",
       "      <td>NaN</td>\n",
       "    </tr>\n",
       "    <tr>\n",
       "      <th>3</th>\n",
       "      <td>서울특별시 강남구 개포동</td>\n",
       "      <td>12</td>\n",
       "      <td>12</td>\n",
       "      <td>0</td>\n",
       "      <td>성원대치2단지아파트</td>\n",
       "      <td>49.8600</td>\n",
       "      <td>202108</td>\n",
       "      <td>1</td>\n",
       "      <td>169,000</td>\n",
       "      <td>10</td>\n",
       "      <td>1992</td>\n",
       "      <td>개포로109길 9</td>\n",
       "      <td>NaN</td>\n",
       "    </tr>\n",
       "    <tr>\n",
       "      <th>4</th>\n",
       "      <td>서울특별시 강남구 개포동</td>\n",
       "      <td>12</td>\n",
       "      <td>12</td>\n",
       "      <td>0</td>\n",
       "      <td>성원대치2단지아파트</td>\n",
       "      <td>33.1800</td>\n",
       "      <td>202108</td>\n",
       "      <td>4</td>\n",
       "      <td>119,500</td>\n",
       "      <td>3</td>\n",
       "      <td>1992</td>\n",
       "      <td>개포로109길 9</td>\n",
       "      <td>NaN</td>\n",
       "    </tr>\n",
       "    <tr>\n",
       "      <th>...</th>\n",
       "      <td>...</td>\n",
       "      <td>...</td>\n",
       "      <td>...</td>\n",
       "      <td>...</td>\n",
       "      <td>...</td>\n",
       "      <td>...</td>\n",
       "      <td>...</td>\n",
       "      <td>...</td>\n",
       "      <td>...</td>\n",
       "      <td>...</td>\n",
       "      <td>...</td>\n",
       "      <td>...</td>\n",
       "      <td>...</td>\n",
       "    </tr>\n",
       "    <tr>\n",
       "      <th>230</th>\n",
       "      <td>서울특별시 강남구 청담동</td>\n",
       "      <td>14</td>\n",
       "      <td>14</td>\n",
       "      <td>0</td>\n",
       "      <td>청담2차 이-편한세상(201동,202동,203동)</td>\n",
       "      <td>84.9700</td>\n",
       "      <td>202108</td>\n",
       "      <td>14</td>\n",
       "      <td>200,000</td>\n",
       "      <td>7</td>\n",
       "      <td>2006</td>\n",
       "      <td>도산대로70길 25</td>\n",
       "      <td>NaN</td>\n",
       "    </tr>\n",
       "    <tr>\n",
       "      <th>231</th>\n",
       "      <td>서울특별시 강남구 청담동</td>\n",
       "      <td>15-21</td>\n",
       "      <td>15</td>\n",
       "      <td>21</td>\n",
       "      <td>청담2차 이-편한세상(205동)</td>\n",
       "      <td>119.5500</td>\n",
       "      <td>202108</td>\n",
       "      <td>9</td>\n",
       "      <td>215,000</td>\n",
       "      <td>3</td>\n",
       "      <td>2006</td>\n",
       "      <td>도산대로78길 51</td>\n",
       "      <td>NaN</td>\n",
       "    </tr>\n",
       "    <tr>\n",
       "      <th>232</th>\n",
       "      <td>서울특별시 강남구 청담동</td>\n",
       "      <td>34-13</td>\n",
       "      <td>34</td>\n",
       "      <td>13</td>\n",
       "      <td>청담스위트</td>\n",
       "      <td>13.4250</td>\n",
       "      <td>202108</td>\n",
       "      <td>17</td>\n",
       "      <td>22,000</td>\n",
       "      <td>4</td>\n",
       "      <td>2015</td>\n",
       "      <td>학동로73길 13</td>\n",
       "      <td>NaN</td>\n",
       "    </tr>\n",
       "    <tr>\n",
       "      <th>233</th>\n",
       "      <td>서울특별시 강남구 청담동</td>\n",
       "      <td>134-38</td>\n",
       "      <td>134</td>\n",
       "      <td>38</td>\n",
       "      <td>청담자이</td>\n",
       "      <td>89.3560</td>\n",
       "      <td>202108</td>\n",
       "      <td>4</td>\n",
       "      <td>400,000</td>\n",
       "      <td>16</td>\n",
       "      <td>2011</td>\n",
       "      <td>영동대로138길 12</td>\n",
       "      <td>NaN</td>\n",
       "    </tr>\n",
       "    <tr>\n",
       "      <th>234</th>\n",
       "      <td>서울특별시 강남구 청담동</td>\n",
       "      <td>134-38</td>\n",
       "      <td>134</td>\n",
       "      <td>38</td>\n",
       "      <td>청담자이</td>\n",
       "      <td>82.3650</td>\n",
       "      <td>202108</td>\n",
       "      <td>10</td>\n",
       "      <td>293,000</td>\n",
       "      <td>25</td>\n",
       "      <td>2011</td>\n",
       "      <td>영동대로138길 12</td>\n",
       "      <td>NaN</td>\n",
       "    </tr>\n",
       "  </tbody>\n",
       "</table>\n",
       "<p>235 rows × 13 columns</p>\n",
       "</div>"
      ],
      "text/plain": [
       "     서울특별시 강남구 개포동    1282  1282.1  0000                    개포래미안포레스트  \\\n",
       "0    서울특별시 강남구 개포동     185     185     0                     개포주공 7단지   \n",
       "1    서울특별시 강남구 개포동     138     138     0                     디에이치아너힐즈   \n",
       "2    서울특별시 강남구 개포동    1280    1280     0                     래미안블레스티지   \n",
       "3    서울특별시 강남구 개포동      12      12     0                   성원대치2단지아파트   \n",
       "4    서울특별시 강남구 개포동      12      12     0                   성원대치2단지아파트   \n",
       "..             ...     ...     ...   ...                          ...   \n",
       "230  서울특별시 강남구 청담동      14      14     0  청담2차 이-편한세상(201동,202동,203동)   \n",
       "231  서울특별시 강남구 청담동   15-21      15    21            청담2차 이-편한세상(205동)   \n",
       "232  서울특별시 강남구 청담동   34-13      34    13                        청담스위트   \n",
       "233  서울특별시 강남구 청담동  134-38     134    38                         청담자이   \n",
       "234  서울특별시 강남구 청담동  134-38     134    38                         청담자이   \n",
       "\n",
       "        59.92  202108  21  199,500   6  2020      개포로 264  Unnamed: 12  \n",
       "0     83.7000  202108  20  280,000   2  1983      개포로 516          NaN  \n",
       "1     59.8732  202108  17  233,000   4  2019       삼성로 11          NaN  \n",
       "2     59.9670  202108  14  227,000  10  2019        선릉로 8          NaN  \n",
       "3     49.8600  202108   1  169,000  10  1992    개포로109길 9          NaN  \n",
       "4     33.1800  202108   4  119,500   3  1992    개포로109길 9          NaN  \n",
       "..        ...     ...  ..      ...  ..   ...          ...          ...  \n",
       "230   84.9700  202108  14  200,000   7  2006   도산대로70길 25          NaN  \n",
       "231  119.5500  202108   9  215,000   3  2006   도산대로78길 51          NaN  \n",
       "232   13.4250  202108  17   22,000   4  2015    학동로73길 13          NaN  \n",
       "233   89.3560  202108   4  400,000  16  2011  영동대로138길 12          NaN  \n",
       "234   82.3650  202108  10  293,000  25  2011  영동대로138길 12          NaN  \n",
       "\n",
       "[235 rows x 13 columns]"
      ]
     },
     "execution_count": 33,
     "metadata": {},
     "output_type": "execute_result"
    }
   ],
   "source": [
    "pd.read_csv(\"./data/아파트(매매)__실거래가_20210902153616.csv\", encoding=\"cp949\", skiprows=16)"
   ]
  },
  {
   "cell_type": "markdown",
   "id": "0ce52744",
   "metadata": {},
   "source": [
    "## 2.  DRM 보안 적용된 Excel 파일 불러오기\n",
    "\n"
   ]
  },
  {
   "cell_type": "markdown",
   "id": "546a6f71",
   "metadata": {},
   "source": [
    "### 2.1. pywin32 활용"
   ]
  },
  {
   "cell_type": "code",
   "execution_count": null,
   "id": "a4612ef3",
   "metadata": {
    "scrolled": true
   },
   "outputs": [],
   "source": [
    "import pandas as pd\n",
    "import win32com.client as win32\n",
    "import os \n",
    "\n",
    "# Excel 실행\n",
    "excel=win32.Dispatch('Excel.Application')   \n",
    "\n",
    "# 경로 지정 및 파일 열기\n",
    "filepath = os.getcwd() +'/data/test.xlsx'\n",
    "wb = excel.Workbooks.Open(filepath)\n",
    "\n",
    "filepath"
   ]
  },
  {
   "cell_type": "code",
   "execution_count": null,
   "id": "51d01ec5",
   "metadata": {},
   "outputs": [],
   "source": [
    "# Sheet 지정\n",
    "ws = wb.Worksheets(1) \n",
    "\n",
    "# 전체 행, 열 수 확인\n",
    "nRow = ws.UsedRange.Rows.Count \n",
    "nColumn = ws.UsedRange.Columns.Count \n",
    "\n",
    "# 불러올 범위 지정\n",
    "listValue = ws.Range(ws.Cells(1,1) , ws.Cells(nRow,nColumn)).Value\n",
    "pd.DataFrame(listValue[1:] , columns=listValue[0]) "
   ]
  },
  {
   "cell_type": "code",
   "execution_count": null,
   "id": "9e9b93a1",
   "metadata": {},
   "outputs": [],
   "source": [
    "# Excel 종료\n",
    "excel.Quit()     "
   ]
  },
  {
   "cell_type": "markdown",
   "id": "ce8017d6",
   "metadata": {},
   "source": [
    "<br>\n",
    "\n",
    "한번에 실행"
   ]
  },
  {
   "cell_type": "code",
   "execution_count": null,
   "id": "a56414c9",
   "metadata": {},
   "outputs": [],
   "source": [
    "import pandas as pd\n",
    "import win32com.client as win32\n",
    "import os \n",
    "\n",
    "# Excel 실행\n",
    "excel=win32.Dispatch('Excel.Application')   \n",
    "\n",
    "# 경로 지정 및 파일 열기\n",
    "filepath = os.getcwd() +'/data/test.xlsx'\n",
    "wb = excel.Workbooks.Open(filepath)\n",
    "\n",
    "# Sheet 지정\n",
    "ws = wb.Worksheets(1) \n",
    "\n",
    "# 전체 행, 열 수 확인\n",
    "nRow = ws.UsedRange.Rows.Count \n",
    "nColumn = ws.UsedRange.Columns.Count \n",
    "\n",
    "# 불러올 범위 지정\n",
    "listValue = ws.Range(ws.Cells(1,1) , ws.Cells(nRow,nColumn)).Value\n",
    "df_drm = pd.DataFrame(listValue[1:] , columns=listValue[0]) \n",
    "\n",
    "excel.Quit()     \n",
    "\n",
    "df_drm"
   ]
  },
  {
   "cell_type": "markdown",
   "id": "3224ca72",
   "metadata": {},
   "source": [
    "<br>\n",
    "<br>\n",
    "\n",
    "### 2.2. xlwings 라이브러리 활용\n",
    "\n",
    "+ 장점: VBA 연동 가능"
   ]
  },
  {
   "cell_type": "code",
   "execution_count": null,
   "id": "92111d4e",
   "metadata": {},
   "outputs": [],
   "source": [
    "# 라이브러리 설치\n",
    "# !pip install xlwings "
   ]
  },
  {
   "cell_type": "code",
   "execution_count": null,
   "id": "6cc27a98",
   "metadata": {},
   "outputs": [],
   "source": [
    "# 라이브러리 불러오기\n",
    "import xlwings as xw\n",
    "import pandas as pd\n",
    "import os"
   ]
  },
  {
   "cell_type": "code",
   "execution_count": null,
   "id": "ad67d74e",
   "metadata": {},
   "outputs": [],
   "source": [
    "# Excel 파일 열기\n",
    "# filepath = os.getcwd() +'/data/test.xlsx'\n",
    "book = xw.Book('./data/test.xlsx')"
   ]
  },
  {
   "cell_type": "code",
   "execution_count": null,
   "id": "3fce4b13",
   "metadata": {},
   "outputs": [],
   "source": [
    "# Sheet 선택\n",
    "sheet = book.sheets[0]    \n",
    "\n",
    "# 전체 데이터 데이터 불러오기\n",
    "df_drm = sheet.used_range.options(pd.DataFrame, index = False).value\n",
    "df_drm\n"
   ]
  },
  {
   "cell_type": "code",
   "execution_count": null,
   "id": "4e92feb8",
   "metadata": {},
   "outputs": [],
   "source": [
    "# 특정 부분만 불러오기\n",
    "sheet = book.sheets[1]    \n",
    "df_drm = sheet.range(\"A3:C5\").options(pd.DataFrame, index = False).value\n",
    "df_drm"
   ]
  },
  {
   "cell_type": "code",
   "execution_count": null,
   "id": "609bb528",
   "metadata": {},
   "outputs": [],
   "source": [
    "# 종료\n",
    "xw.apps.active.quit()"
   ]
  },
  {
   "cell_type": "markdown",
   "id": "3a9931ba",
   "metadata": {},
   "source": [
    "#### End of script"
   ]
  }
 ],
 "metadata": {
  "kernelspec": {
   "display_name": "Python 3 (ipykernel)",
   "language": "python",
   "name": "python3"
  },
  "language_info": {
   "codemirror_mode": {
    "name": "ipython",
    "version": 3
   },
   "file_extension": ".py",
   "mimetype": "text/x-python",
   "name": "python",
   "nbconvert_exporter": "python",
   "pygments_lexer": "ipython3",
   "version": "3.10.9"
  }
 },
 "nbformat": 4,
 "nbformat_minor": 5
}
