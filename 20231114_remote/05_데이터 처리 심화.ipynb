{
 "cells": [
  {
   "cell_type": "markdown",
   "id": "ba8e0db0",
   "metadata": {},
   "source": [
    "# 데이터 처리 심화\n",
    "\n",
    "### 주요 내용\n",
    "\n",
    "1. 변수 수정, 추가 및 제거\n",
    "2. 변수 형식 변환\n",
    "3. 결측값 처리 및 파생변수 생성\n",
    "\n",
    "<br>\n",
    "\n",
    "### 목표 \n",
    "1. 분석 목적에 맞게 변수를 수정하고 파생 변수를 추가할 수 있다.\n",
    "2. 날짜 등 변수 형식을 활용할 수 있다.\n",
    "3. 결측값을 적절한 값으로 대체하는 방법을 확인한다.\n",
    "\n",
    "\n",
    "<br>\n",
    "<hr>\n",
    "<br>"
   ]
  },
  {
   "cell_type": "markdown",
   "id": "742e02b1",
   "metadata": {},
   "source": [
    "<br>\n",
    "\n",
    "## 1. 변수(열)의 수정, 추가, 제거\n",
    "\n",
    "**pandas**의 기본 기능과 메서드를 활용하여 변수를 추가 하거나 수정, 업데이트하거나 제거 가능  \n",
    "변수를 선택하듯 **=** 을 활용해서 변수를 추가하거나 업데이트 가능"
   ]
  },
  {
   "cell_type": "markdown",
   "id": "50aa7e9a",
   "metadata": {},
   "source": [
    "### 1.1. 변수 수정 및 추가"
   ]
  },
  {
   "cell_type": "code",
   "execution_count": null,
   "id": "828f2202",
   "metadata": {},
   "outputs": [],
   "source": [
    "# 라이브러리 불러오기\n",
    "import pandas as pd\n",
    "\n",
    "\n",
    "# 예제 만들기 : 딕셔너리를 활용한 DataFrame 생성\n",
    "df_own = pd.DataFrame(\n",
    "                      {'FIRST' : ['A', 'B', 'C', 'D'],\n",
    "                       'SECOND': [7,6,5,8], \n",
    "                       'THIRD' : pd.date_range('2023-01-01', periods=4, freq='W-SAT')}\n",
    ")\n",
    "df_own"
   ]
  },
  {
   "cell_type": "code",
   "execution_count": null,
   "id": "754b6273",
   "metadata": {},
   "outputs": [],
   "source": [
    "# 변수이름을 활용한 변수선택\n",
    "df_own['SECOND']"
   ]
  },
  {
   "cell_type": "code",
   "execution_count": null,
   "id": "02f6e5c1",
   "metadata": {},
   "outputs": [],
   "source": [
    "# =을 활용한 추가\n",
    "df_own['FOURTH'] = 0\n",
    "df_own"
   ]
  },
  {
   "cell_type": "code",
   "execution_count": null,
   "id": "0a269ba9",
   "metadata": {},
   "outputs": [],
   "source": [
    "# =을 활용한 업데이트\n",
    "df_own['FOURTH'] = df_own['SECOND'] + 1\n",
    "df_own"
   ]
  },
  {
   "cell_type": "markdown",
   "id": "3d06ed5c",
   "metadata": {},
   "source": [
    "<br>\n",
    "\n",
    "### 1.2. 객체 메서드와 Series 메서드의 비교\n",
    "\n",
    "특히 날짜시간 변수의 경우 월, 일, 요일, 시간 등 다양한 요소를 추출해서 변수로 추가할 수 있음  \n",
    "Python은 개발언어로 객체의 형식에 매우 엄격하므로 메서드의 구분 필요  \n",
    "개별 날짜에 적용할 수 있는 메서드가 아닌 **pandas**의 **Series** 메서드 활용을 추천 "
   ]
  },
  {
   "cell_type": "code",
   "execution_count": null,
   "id": "4db5e1a4",
   "metadata": {},
   "outputs": [],
   "source": [
    "df_own"
   ]
  },
  {
   "cell_type": "code",
   "execution_count": null,
   "id": "57a39ae9",
   "metadata": {},
   "outputs": [],
   "source": [
    "# []와 for를 활용한 파생변수 생성\n",
    "df_own.loc[0, 'THIRD'].weekday()\n",
    "    ## 0~6: 월~일\n",
    "    ## 5: 토\n",
    "    \n",
    "    ## 하나의 값에 대해서는 메서드 활용가능"
   ]
  },
  {
   "cell_type": "code",
   "execution_count": null,
   "id": "a4076b30",
   "metadata": {},
   "outputs": [],
   "source": [
    "# Series에 대해서는 Series의 메서드만 활용 가능\n",
    "df_own['THIRD'].weekday()"
   ]
  },
  {
   "cell_type": "code",
   "execution_count": null,
   "id": "ae20e9a9",
   "metadata": {},
   "outputs": [],
   "source": [
    "df_own[\"SECOND\"].quantile(0.0)"
   ]
  },
  {
   "cell_type": "code",
   "execution_count": null,
   "id": "9f8e4845",
   "metadata": {
    "scrolled": true
   },
   "outputs": [],
   "source": [
    "df_own['THIRD'].apply(lambda x: x.weekday())\n",
    "# df_own"
   ]
  },
  {
   "cell_type": "markdown",
   "id": "4cac9c3c",
   "metadata": {},
   "source": [
    "<br>\n",
    "\n",
    "pandas의 *dt.weekday*를 활용하면 훨씬 손쉽게 파생변수 생성 가능\n",
    " * 참고: [dt.weekday](https://pandas.pydata.org/docs/reference/api/pandas.Series.dt.weekday.html)"
   ]
  },
  {
   "cell_type": "code",
   "execution_count": null,
   "id": "a86c3840",
   "metadata": {},
   "outputs": [],
   "source": [
    "# pandas의 dt.weekday 활용\n",
    "df_own['THIRD'].dt.weekday"
   ]
  },
  {
   "cell_type": "code",
   "execution_count": null,
   "id": "a6ef740d",
   "metadata": {},
   "outputs": [],
   "source": [
    "df_own['WEEKDAY'] = df_own['THIRD'].dt.weekday"
   ]
  },
  {
   "cell_type": "code",
   "execution_count": null,
   "id": "b363538e",
   "metadata": {},
   "outputs": [],
   "source": [
    "df_own"
   ]
  },
  {
   "cell_type": "markdown",
   "id": "a0dd17c7",
   "metadata": {},
   "source": [
    "<br>\n",
    "\n",
    "### 1.3. 조건을 활용한 값 변경, 생성\n",
    "\n",
    "조건을 활용해 일부 관측치를 선택하듯이, 조건을 설정하고 변수를 추가하거나 업데이트 가능"
   ]
  },
  {
   "cell_type": "code",
   "execution_count": null,
   "id": "92ac0b2a",
   "metadata": {},
   "outputs": [],
   "source": [
    "df_own"
   ]
  },
  {
   "cell_type": "code",
   "execution_count": null,
   "id": "4a40c948",
   "metadata": {},
   "outputs": [],
   "source": [
    "# 조건을 활용한 일부 관측치 선택\n",
    "df_own.loc[df_own['FIRST'].isin(['A','B'])]"
   ]
  },
  {
   "cell_type": "code",
   "execution_count": null,
   "id": "586bea42",
   "metadata": {},
   "outputs": [],
   "source": [
    "# 조건을 활용한 일부 관측치의 특정 변수 값 변경\n",
    "df_own.loc[df_own['FIRST'].isin(['A','B']), 'FOURTH']"
   ]
  },
  {
   "cell_type": "code",
   "execution_count": null,
   "id": "a5f80296",
   "metadata": {},
   "outputs": [],
   "source": [
    "df_own.loc[df_own['FIRST'].isin(['A','B']), 'FOURTH'] = 9999"
   ]
  },
  {
   "cell_type": "code",
   "execution_count": null,
   "id": "1d238b37",
   "metadata": {},
   "outputs": [],
   "source": [
    "df_own"
   ]
  },
  {
   "cell_type": "code",
   "execution_count": null,
   "id": "06678bbb",
   "metadata": {},
   "outputs": [],
   "source": [
    "# 일부 관측치만 값 생성\n",
    "df_own.loc[df_own['FIRST'].isin(['A','B']), 'OPTIONAL'] = 1\n",
    "df_own\n",
    "    ## NaN := 결측값(missing)"
   ]
  },
  {
   "cell_type": "code",
   "execution_count": null,
   "id": "1bf6be7b-6d2f-4c24-8a17-011575eb7422",
   "metadata": {},
   "outputs": [],
   "source": []
  },
  {
   "cell_type": "markdown",
   "id": "885f988b",
   "metadata": {},
   "source": [
    "<br>\n",
    "\n",
    "### 1.4. 변수 제거\n",
    "\n",
    "*drop()* 은 관측치와 변수를 제거할 수 있는데 **index**와 **columns**를 활용  \n",
    "`axis=`옵션에 따라 `axis=0`이면 관측치를 제거하거 `axis=1`이면 변수를 제거  \n",
    "\n",
    "`columns=`이라는 옵션을 명시해서 변수를 제거하는 것이 가장 명확하고 실수를 줄일 수 있음"
   ]
  },
  {
   "cell_type": "code",
   "execution_count": null,
   "id": "e653186f",
   "metadata": {},
   "outputs": [],
   "source": [
    "df_own"
   ]
  },
  {
   "cell_type": "code",
   "execution_count": null,
   "id": "3907eb74",
   "metadata": {},
   "outputs": [],
   "source": [
    "# drop()을 활용한 관측치/변수 제거\n",
    "df_own.drop('FOURTH', axis=1)\n",
    "    # axis = 0 : 관측치\n",
    "    # axis = 1 : 변수"
   ]
  },
  {
   "cell_type": "code",
   "execution_count": null,
   "id": "d153005f",
   "metadata": {},
   "outputs": [],
   "source": [
    "# drop()을 활용한 관측치/변수 제거(columns 활용)\n",
    "df_own.drop(columns=['FOURTH'])\n",
    "  "
   ]
  },
  {
   "cell_type": "code",
   "execution_count": null,
   "id": "01c919fb",
   "metadata": {},
   "outputs": [],
   "source": [
    "# drop( ) 실행 후 원본 데이터는 변함이 없음\n",
    "df_own"
   ]
  },
  {
   "cell_type": "code",
   "execution_count": null,
   "id": "b45632f7",
   "metadata": {},
   "outputs": [],
   "source": [
    "df_own.drop(columns=['var1'])"
   ]
  },
  {
   "cell_type": "code",
   "execution_count": null,
   "id": "7d27e897",
   "metadata": {},
   "outputs": [],
   "source": [
    "# 원본 데이터의 업데이트\n",
    "df_own = df_own.drop(columns=['FOURTH'])\n",
    "df_own"
   ]
  },
  {
   "cell_type": "markdown",
   "id": "ee6285ad",
   "metadata": {},
   "source": [
    "<br>\n",
    "\n",
    "### 1.5. 변수 이름 변경\n",
    "\n",
    "변수이름을 바꾸고 싶을 때는 **DataFrame**의 메서드 *rename()* 을 활용  \n",
    "이때 `columns=` 옵션을 활용하고 딕셔너리 형식으로 기존변수이름과 새변수이름을 콜론으로 연결"
   ]
  },
  {
   "cell_type": "code",
   "execution_count": null,
   "id": "43a42b7d",
   "metadata": {},
   "outputs": [],
   "source": [
    "# rename() 활용 변수 이름 바꾸기 \n",
    "df_own = df_own.rename(columns = {'FIRST':'var1', 'SECOND':'var2'})"
   ]
  },
  {
   "cell_type": "code",
   "execution_count": null,
   "id": "1ff6673d",
   "metadata": {},
   "outputs": [],
   "source": [
    "df_own"
   ]
  },
  {
   "cell_type": "markdown",
   "id": "df7ce7c3",
   "metadata": {},
   "source": [
    "<br>\n",
    "\n",
    "#### [실습] df_sp를 활용\n",
    "\n",
    "1. 'math score', 'reading score', 'writing score'를 합한 변수 'total'을 **df_sp**에 추가\n",
    "2. 1의 'total'이 270이상인 학생들만 'EX'라는 값을 갖는 'grade' 변수 추가\n",
    "3. 'math score', 'reading score', 'writing score' 중 한과목이라도 40보다 작은지 확인하기\n",
    "4. 3.의 결과를 활용해서 세 점수 중 하나라도 40점 미만은 학생은 'grade'를 'FAIL'로 수정하기\n",
    "5. 변수 'grade'의 이름을 'class'로 바꾸기\n",
    "6. 변수 'total'을 제거하기\n",
    "\n"
   ]
  },
  {
   "cell_type": "code",
   "execution_count": null,
   "id": "c1f0c085",
   "metadata": {},
   "outputs": [],
   "source": [
    "df_sp = pd.read_csv('data/StudentsPerformance.csv')\n",
    "df_sp.head()"
   ]
  },
  {
   "cell_type": "code",
   "execution_count": null,
   "id": "f5732494",
   "metadata": {},
   "outputs": [],
   "source": [
    "df_sp.filter(regex='score').sum(axis=1)"
   ]
  },
  {
   "cell_type": "code",
   "execution_count": null,
   "id": "d83eec2d",
   "metadata": {},
   "outputs": [],
   "source": [
    "# 1. 답안\n",
    "df_sp['total'] = df_sp['math score'] + df_sp['reading score'] + df_sp['writing score']\n",
    "df_sp\n"
   ]
  },
  {
   "cell_type": "code",
   "execution_count": null,
   "id": "f1516ae7",
   "metadata": {},
   "outputs": [],
   "source": [
    "df_sp.loc[df_sp['total'] >= 270, 'grade'] = 'EX'\n",
    "df_sp"
   ]
  },
  {
   "cell_type": "code",
   "execution_count": null,
   "id": "836cc754",
   "metadata": {},
   "outputs": [],
   "source": [
    "df_sp.loc[df_sp['total']>=270, 'grade'] = 'EX'"
   ]
  },
  {
   "cell_type": "code",
   "execution_count": null,
   "id": "489c95f1",
   "metadata": {},
   "outputs": [],
   "source": []
  },
  {
   "cell_type": "code",
   "execution_count": null,
   "id": "0ce4dcf2",
   "metadata": {},
   "outputs": [],
   "source": [
    "cond_fail = (df_sp['math score']<40) | (df_sp['reading score']<40) | (df_sp['writing score']<40)\n",
    "df_sp[cond_fail]"
   ]
  },
  {
   "cell_type": "code",
   "execution_count": null,
   "id": "0b7dcdc9",
   "metadata": {},
   "outputs": [],
   "source": [
    "(df_sp.filter(regex='score') < 40).sum(axis=0)"
   ]
  },
  {
   "cell_type": "code",
   "execution_count": null,
   "id": "21e46448",
   "metadata": {},
   "outputs": [],
   "source": [
    "(df_sp.filter(regex='score') < 40)."
   ]
  },
  {
   "cell_type": "code",
   "execution_count": null,
   "id": "6921c35e",
   "metadata": {},
   "outputs": [],
   "source": [
    "df_fail = df_sp.filter(regex='score') < 40"
   ]
  },
  {
   "cell_type": "code",
   "execution_count": null,
   "id": "e01d69e7",
   "metadata": {},
   "outputs": [],
   "source": [
    "df_fail."
   ]
  },
  {
   "cell_type": "code",
   "execution_count": null,
   "id": "99ad4617",
   "metadata": {},
   "outputs": [],
   "source": [
    "# 3. 답안\n",
    "cond_fail = (df_sp['math score']<40) | (df_sp['reading score']<40) | (df_sp['writing score']<40)\n",
    "# "
   ]
  },
  {
   "cell_type": "code",
   "execution_count": null,
   "id": "888b2b78",
   "metadata": {},
   "outputs": [],
   "source": [
    "df_sp.loc[cond_fail, 'grade'] = 'FAIL'\n",
    "df_sp.head(10)"
   ]
  },
  {
   "cell_type": "code",
   "execution_count": null,
   "id": "51863ec8",
   "metadata": {},
   "outputs": [],
   "source": [
    "df_sp.rename(columns={'grade':'class'})"
   ]
  },
  {
   "cell_type": "code",
   "execution_count": null,
   "id": "87c0b14d",
   "metadata": {},
   "outputs": [],
   "source": [
    "df_sp.drop(columns='total')"
   ]
  },
  {
   "cell_type": "code",
   "execution_count": null,
   "id": "69dba369",
   "metadata": {},
   "outputs": [],
   "source": [
    "!pip list"
   ]
  },
  {
   "cell_type": "code",
   "execution_count": null,
   "id": "c707bfc2",
   "metadata": {},
   "outputs": [],
   "source": [
    "cond_P = ~((df_sp['math score'] < 40) | (df_sp['reading score'] < 40) | (df_sp['writing score'] < 40))\n",
    "cond_P"
   ]
  },
  {
   "cell_type": "markdown",
   "id": "03ba2fdc",
   "metadata": {},
   "source": [
    "<br>\n",
    "<hr>\n",
    "<br>\n",
    "\n",
    "## 2. 결측값 처리\n",
    "\n",
    "결측값은 다양한 이유로 발생\n",
    "- 애초에 값이 없는 경우\n",
    "- 값이 있으나 사람 실수로 누락한 경우\n",
    "- 센서, 통신망 등의 오류로 값이 들어오지 않은 경우\n",
    "\n",
    "먼저 결측값 존재 여부 확인하고, 대체를 할 지 그대로 둘 지를 결정  \n",
    "대체를 한다면 어떤 값으로 채울지도 고민하여 지정"
   ]
  },
  {
   "cell_type": "code",
   "execution_count": null,
   "id": "acd8155b",
   "metadata": {},
   "outputs": [],
   "source": [
    "# 예제 데이터 불러오기\n",
    "df_na = pd.read_csv('./data/data_dupna.csv')\n",
    "df_na\n",
    "    # NaN : 결측"
   ]
  },
  {
   "cell_type": "markdown",
   "id": "24c83138",
   "metadata": {},
   "source": [
    "<br>\n",
    "\n",
    "> 아래의 명령어를 활용하면 전체 데이터에서 결측값이 있는 관측치나 변수를 확인할 수 있습니다. \n"
   ]
  },
  {
   "cell_type": "code",
   "execution_count": null,
   "id": "f8e06d76",
   "metadata": {},
   "outputs": [],
   "source": [
    "# 하나라도 결측값이 있는 변수 확인\n",
    "df_na.isnull().any(axis=1)"
   ]
  },
  {
   "cell_type": "code",
   "execution_count": null,
   "id": "cd77c305",
   "metadata": {},
   "outputs": [],
   "source": [
    "# 하나라도 결측값이 있는 관측치 확인\n",
    "df_na[df_na.isnull().any(axis=1)]"
   ]
  },
  {
   "cell_type": "markdown",
   "id": "83ef8b09",
   "metadata": {},
   "source": [
    "<br>\n",
    "\n",
    "### 2.1. 결측값 포함 관측치 제거\n",
    "\n",
    "결측값이 있는 관측치에 대응하는 가장 간단한 방법은 결측치를 포함한 변수나 관측치를 제거하는 것"
   ]
  },
  {
   "cell_type": "code",
   "execution_count": null,
   "id": "b7619168",
   "metadata": {},
   "outputs": [],
   "source": [
    "# 하나라도 결측값이 있는 관측치 제거\n",
    "df_na.dropna()"
   ]
  },
  {
   "cell_type": "code",
   "execution_count": null,
   "id": "37c34910",
   "metadata": {},
   "outputs": [],
   "source": [
    "df_na"
   ]
  },
  {
   "cell_type": "code",
   "execution_count": null,
   "id": "c525f03d",
   "metadata": {},
   "outputs": [],
   "source": [
    "# 특정 변수 기준 결측값이 있는 관측치 제거\n",
    "df_na.dropna(subset=['info1'])"
   ]
  },
  {
   "cell_type": "markdown",
   "id": "3a835c27",
   "metadata": {},
   "source": [
    "<br>\n",
    "\n",
    "### 2.2. 결측값 대체\n",
    "\n",
    "일반적으로 결측값을 그대로 두거나 다음과 같이 결측값을 적절한 값으로 대체하고 활용"
   ]
  },
  {
   "cell_type": "code",
   "execution_count": null,
   "id": "dc1a7422",
   "metadata": {},
   "outputs": [],
   "source": [
    "# 모든 결측값을 일괄 대체\n",
    "df_na.fillna(value=0)"
   ]
  },
  {
   "cell_type": "code",
   "execution_count": null,
   "id": "968c1d3e",
   "metadata": {},
   "outputs": [],
   "source": [
    "# 변수별 결측값 대체 지정\n",
    "df_na.fillna(value={'info1':0, 'info2':'NA'})"
   ]
  },
  {
   "cell_type": "code",
   "execution_count": null,
   "id": "84147b9a",
   "metadata": {},
   "outputs": [],
   "source": [
    "# 가장 앞쪽의 결측이 아닌 값으로 대체\n",
    "    ## 센서 등의 값 누락에 활용\n",
    "df_na.fillna(method='bfill')"
   ]
  },
  {
   "cell_type": "code",
   "execution_count": null,
   "id": "c4da6662",
   "metadata": {},
   "outputs": [],
   "source": [
    "# 이후 값중 결측이 아닌 값으로 대체\n",
    "    ## groupby()를 활용하여 id 등 범위 내 대체\n",
    "df_na.groupby('id').fillna(method='bfill')"
   ]
  },
  {
   "cell_type": "code",
   "execution_count": null,
   "id": "923e91ad",
   "metadata": {},
   "outputs": [],
   "source": [
    "df_na"
   ]
  },
  {
   "cell_type": "code",
   "execution_count": null,
   "id": "bd838862",
   "metadata": {},
   "outputs": [],
   "source": [
    "# 특정한 변수만 결측값 대체\n",
    "    ## groupby()와 fillna()를 활용할 경우 그룹변수가 사라짐\n",
    "    ## 특정 변수만 선택해서 결측값 대체하고 업데이트\n",
    "df_na['info2'] = df_na.groupby('id')['info2'].fillna(method='ffill')    \n",
    "df_na"
   ]
  },
  {
   "cell_type": "code",
   "execution_count": null,
   "id": "d5bb2c6a",
   "metadata": {},
   "outputs": [],
   "source": []
  },
  {
   "cell_type": "code",
   "execution_count": null,
   "id": "30668a29",
   "metadata": {},
   "outputs": [],
   "source": []
  },
  {
   "cell_type": "markdown",
   "id": "3f8455ab",
   "metadata": {},
   "source": [
    "<br>\n",
    "<hr>\n",
    "<br>\n",
    "\n",
    "## 3. 변수 형식 변환 및 파생변수 생성\n",
    "\n",
    "*read_csv()* 로 데이터를 불러오면 적당한 형식으로 지정되는데, 가끔 형식을 직접 바꿔야할 상황이 있음  \n",
    "상황에 따라 날짜에서 요일을 추출하듯이 기존 변수를 활용해서 새로운 변수를 추가해서 분석에 활용해야하는 경우도 있음  \n",
    "\n",
    "<br>\n",
    "\n",
    "### 3.1. 변수 형식의 확인/변환\n",
    "**DataFrame**에서는 다음과 같은 Series 형식을 활용\n",
    "\n",
    "+ float: 실수(소수점을 포함한 숫자)\n",
    "+ int: 정수(integer)\n",
    "+ datetime: 날짜시간\n",
    "+ bool: 불/불린(True 혹은 False)\n",
    "+ category: 범주형\n",
    "+ object: 문자형(string) 혹은 그 외\n",
    "\n",
    "*.dtypes* 를 활용하면 변수 형식을 확인 가능  \n",
    "*.astype()* 을 활용해서 변수 형식을 변환 가능\n",
    "\n"
   ]
  },
  {
   "cell_type": "code",
   "execution_count": null,
   "id": "da530ac9",
   "metadata": {},
   "outputs": [],
   "source": [
    "# 데이터 불러오기\n",
    "df_ins = pd.read_csv('data/insurance.csv')\n",
    "df_ins.head()"
   ]
  },
  {
   "cell_type": "code",
   "execution_count": null,
   "id": "a0ca72ac",
   "metadata": {},
   "outputs": [],
   "source": [
    "# 변수 형식 확인\n",
    "df_ins.dtypes"
   ]
  },
  {
   "cell_type": "code",
   "execution_count": null,
   "id": "2787973f",
   "metadata": {},
   "outputs": [],
   "source": [
    "# children을 float으로 변환\n",
    "df_ins['children'].astype('float')"
   ]
  },
  {
   "cell_type": "code",
   "execution_count": null,
   "id": "39e1048a",
   "metadata": {},
   "outputs": [],
   "source": [
    "# children을 object로 변환\n",
    "df_ins['children'].astype('string')"
   ]
  },
  {
   "cell_type": "code",
   "execution_count": null,
   "id": "17846dc5",
   "metadata": {},
   "outputs": [],
   "source": [
    "# 기존 변수의 형식 업데이트\n",
    "df_ins['children'] = df_ins['children'].astype('float')\n",
    "df_ins.head()"
   ]
  },
  {
   "cell_type": "code",
   "execution_count": null,
   "id": "b8b7795a",
   "metadata": {},
   "outputs": [],
   "source": [
    "# 복수 변수의 형식 일괄 업데이트\n",
    "category_vars = ['sex', 'smoker', 'region']\n",
    "df_ins[category_vars] = df_ins[category_vars].astype('category')\n",
    "df_ins.dtypes"
   ]
  },
  {
   "cell_type": "code",
   "execution_count": null,
   "id": "04b48d4b",
   "metadata": {},
   "outputs": [],
   "source": [
    "# select_dtypes()의 활용\n",
    "df_ins.select_dtypes('category')"
   ]
  },
  {
   "cell_type": "markdown",
   "id": "fea8890f",
   "metadata": {},
   "source": [
    "<br>\n",
    "\n",
    "#### [실습] df_pr의 활용\n",
    "\n",
    "1. Pulse2(뛴 후)와 Pulse1(뛰기 전)의 차이를 계산하고 'Diff'로 변수 추가하기\n",
    "2. `df_pr.dtypes`로 형식 확인하고 `df_pr.nunique()`로 중복값 제거한 값 개수 확인하기\n",
    "3. 범주형 형식이 적당한 변수 이름 목록 만들기\n",
    "4. 3.의 변수들을 astype()으로 category 형식으로 변환하고 업데이트 하기\n",
    "5. Ran, Smokes, Alcohol별 1.의 Diff의 평균 계산하기"
   ]
  },
  {
   "cell_type": "code",
   "execution_count": null,
   "id": "66b37472",
   "metadata": {},
   "outputs": [],
   "source": [
    "df_pr = pd.read_csv('data/PulseRates.csv')\n",
    "df_pr.head()"
   ]
  },
  {
   "cell_type": "code",
   "execution_count": null,
   "id": "3d0e665a",
   "metadata": {},
   "outputs": [],
   "source": [
    "df_pr['Diff'] = df_pr['Pulse2'] - df_pr['Pulse1']\n",
    "df_pr"
   ]
  },
  {
   "cell_type": "code",
   "execution_count": null,
   "id": "31bfaf1d",
   "metadata": {},
   "outputs": [],
   "source": [
    "df_pr.dtypes"
   ]
  },
  {
   "cell_type": "code",
   "execution_count": null,
   "id": "00e58420",
   "metadata": {},
   "outputs": [],
   "source": [
    "df_pr.nunique()"
   ]
  },
  {
   "cell_type": "code",
   "execution_count": null,
   "id": "921b40ac",
   "metadata": {},
   "outputs": [],
   "source": [
    "df_pr.groupby(['Ran', 'Smokes', 'Alcohol'], as_index=False)['Diff'].mean()"
   ]
  },
  {
   "cell_type": "code",
   "execution_count": null,
   "id": "f40d3819",
   "metadata": {},
   "outputs": [],
   "source": [
    "cat_vars = ['Gender', 'Smokes', 'Alcohol', 'Exercise', 'Ran']\n",
    "df_pr[cat_vars] = df_pr[cat_vars].astype('category')\n",
    "df_pr.dtypes"
   ]
  },
  {
   "cell_type": "code",
   "execution_count": null,
   "id": "5e9b98ed",
   "metadata": {},
   "outputs": [],
   "source": [
    "df_pr.groupby(['Ran', 'Smokes', 'Alcohol'], as_index=False)['Diff'].mean()"
   ]
  },
  {
   "cell_type": "markdown",
   "id": "e8886112",
   "metadata": {},
   "source": [
    "<br>\n",
    "\n",
    "### 3.2. 수치형 변수의 구간화\n",
    "\n",
    "수치형 변수는 그대로 활용하기 보다는 구간화하는 경우가 많음  \n",
    "*cut()* 이나 *qcut()* 함수를 주로 활용\n",
    "\n",
    "+ *cut()*: 등간격 혹은 주어진 구간 경계로 구간화\n",
    "+ *qcut()*: 등비율로 구간화"
   ]
  },
  {
   "cell_type": "code",
   "execution_count": null,
   "id": "5650729f",
   "metadata": {},
   "outputs": [],
   "source": [
    "df_ins['age'] // 10"
   ]
  },
  {
   "cell_type": "code",
   "execution_count": null,
   "id": "c37bce15",
   "metadata": {},
   "outputs": [],
   "source": [
    "# 연령대 변수 생성\n",
    "    ## //: 몫 계산\n",
    "    ## %: 나머지 계산\n",
    "df_ins['age_grp'] = (df_ins['age'] // 10).astype('category')\n",
    "df_ins"
   ]
  },
  {
   "cell_type": "code",
   "execution_count": null,
   "id": "d22ee624",
   "metadata": {},
   "outputs": [],
   "source": [
    "df_ins['age_grp'] = (df_ins['age'] // 10).apply(lambda x: str(x)+'0대')\n",
    "df_ins"
   ]
  },
  {
   "cell_type": "markdown",
   "id": "cd9450ca",
   "metadata": {},
   "source": [
    "<br>\n",
    "\n",
    "*cut()* 을 활용해서 등간격으로 구간화할 수 있고, `bins=` 옵션에 적절한 구간값을 직접 넣을 수도 있음"
   ]
  },
  {
   "cell_type": "code",
   "execution_count": null,
   "id": "99aedfb0",
   "metadata": {
    "scrolled": true
   },
   "outputs": [],
   "source": [
    "# 등간격으로 구간화하기\n",
    "pd.cut(df_ins['charges'], bins=10)"
   ]
  },
  {
   "cell_type": "code",
   "execution_count": null,
   "id": "d02041da",
   "metadata": {},
   "outputs": [],
   "source": [
    "charges_breaks = [0, 5000, 10000, 20000, 100000000]"
   ]
  },
  {
   "cell_type": "code",
   "execution_count": null,
   "id": "5ddd906d",
   "metadata": {},
   "outputs": [],
   "source": [
    "pd.cut(df_ins['charges'], bins=charges_breaks, right=False)"
   ]
  },
  {
   "cell_type": "code",
   "execution_count": null,
   "id": "acd9af61",
   "metadata": {},
   "outputs": [],
   "source": [
    "# cut()을 활용한 10등급화\n",
    "df_ins['charges_grp'] = pd.cut(df_ins['charges'], bins=10, labels=range(10))\n",
    "df_ins"
   ]
  },
  {
   "cell_type": "code",
   "execution_count": null,
   "id": "9d1973c0",
   "metadata": {},
   "outputs": [],
   "source": [
    "# 등구간의 관측치 불균형 문제\n",
    "df_ins['charges_grp'].value_counts()"
   ]
  },
  {
   "cell_type": "code",
   "execution_count": null,
   "id": "d84d2e39",
   "metadata": {},
   "outputs": [],
   "source": [
    "pd.qcut(df_ins['charges'], q=[0, 0.1, 0.5, 0.9, 1.0]).value_counts()"
   ]
  },
  {
   "cell_type": "code",
   "execution_count": null,
   "id": "5b72b845",
   "metadata": {},
   "outputs": [],
   "source": [
    "# qcut()을 활용한 등비율 구간화\n",
    "df_ins['charges_grp2'] = pd.qcut(df_ins['charges'], q=10, labels=range(1, 11))\n",
    "df_ins"
   ]
  },
  {
   "cell_type": "code",
   "execution_count": null,
   "id": "c5a44be6",
   "metadata": {},
   "outputs": [],
   "source": [
    "df_ins['charges_grp2'].value_counts()"
   ]
  },
  {
   "cell_type": "code",
   "execution_count": null,
   "id": "7b2578b8",
   "metadata": {},
   "outputs": [],
   "source": []
  },
  {
   "cell_type": "markdown",
   "id": "d4d43cde",
   "metadata": {},
   "source": [
    "<br>\n",
    "\n",
    "#### [실습] 데이터 df_sp 활용\n",
    "\n",
    "1. cut()으로 'reading score'를 20점 단위로 5개 그룹 변수 추가 \n",
    "2. cut()으로 'reading score'를 등간격(구간 길이가 동일)으로 5개 그룹 변수 추가\n",
    "3. qcut()으로 'readiong score'를 등비율로 5 등급화\n",
    "4. pivot_table()을 활용해서 'parental level of education'과 3.의 그룹 변수로 'math score'의 평균 계산"
   ]
  },
  {
   "cell_type": "code",
   "execution_count": null,
   "id": "9adf57ef",
   "metadata": {},
   "outputs": [],
   "source": [
    "df_sp.head()"
   ]
  },
  {
   "cell_type": "code",
   "execution_count": null,
   "id": "affd0b5e",
   "metadata": {},
   "outputs": [],
   "source": [
    "pd.cut(df_sp['reading score'], bins=[0,20,40,60,80,100])"
   ]
  },
  {
   "cell_type": "code",
   "execution_count": null,
   "id": "b0728640",
   "metadata": {},
   "outputs": [],
   "source": [
    "pd.cut(df_sp['reading score'], bins=5)"
   ]
  },
  {
   "cell_type": "code",
   "execution_count": null,
   "id": "74aa35b2",
   "metadata": {},
   "outputs": [],
   "source": [
    "df_sp['r_grp'] = pd.qcut(df_sp['reading score'], q=5)\n",
    "df_sp"
   ]
  },
  {
   "cell_type": "code",
   "execution_count": null,
   "id": "98121f28",
   "metadata": {},
   "outputs": [],
   "source": [
    "df_sp[ df_sp['reading score'] == 57 ].shape"
   ]
  },
  {
   "cell_type": "code",
   "execution_count": null,
   "id": "f3b955c2",
   "metadata": {},
   "outputs": [],
   "source": [
    "df_sp['r_grp'].value_counts()"
   ]
  },
  {
   "cell_type": "code",
   "execution_count": null,
   "id": "976112df",
   "metadata": {},
   "outputs": [],
   "source": [
    "pd.qcut(df_sp['reading score'], q=[0, 0.04, 0.11, 0.23, 0.40, 0.60, 0.77, 0.89, 0.96, 1.0], labels=range(9,0, -1))"
   ]
  },
  {
   "cell_type": "code",
   "execution_count": null,
   "id": "29034194",
   "metadata": {},
   "outputs": [],
   "source": [
    "pt = df_sp.pivot_table(values='math score', index='parental level of education', columns='r_grp', aggfunc='mean')"
   ]
  },
  {
   "cell_type": "code",
   "execution_count": null,
   "id": "4d67e801",
   "metadata": {},
   "outputs": [],
   "source": [
    "import seaborn as sns\n",
    "\n",
    "sns.heatmap(pt, cmap='YlGnBu', annot=True)"
   ]
  },
  {
   "cell_type": "code",
   "execution_count": null,
   "id": "6e8f0791",
   "metadata": {},
   "outputs": [],
   "source": [
    "sns.boxplot(data=df_sp, x='parental level of education', y='math score', hue='r_grp')"
   ]
  },
  {
   "cell_type": "code",
   "execution_count": null,
   "id": "f3604c1f",
   "metadata": {},
   "outputs": [],
   "source": [
    "sns.scatterplot(data=df_sp, hue='parental level of education', y='math score', x='reading score')"
   ]
  },
  {
   "cell_type": "markdown",
   "id": "20347139",
   "metadata": {},
   "source": [
    "### 3.3. 그룹 내 순위, 이동, 누적 변수 생성\n",
    "\n",
    "> 데이터 분석 과정에서 그룹별로 순위를 매기거나, 직전 값과 비교를 통해서 변화량 등을 확인하기도 합니다. 뿐만 아니라 이동 평균이나 누적 최댓값 등을 계산하기도 합니다."
   ]
  },
  {
   "cell_type": "code",
   "execution_count": null,
   "id": "abdf5c86",
   "metadata": {},
   "outputs": [],
   "source": [
    "# 데이터 불러오기\n",
    "df_dup = pd.read_csv('data/data_dupna.csv')\n",
    "df_dup"
   ]
  },
  {
   "cell_type": "code",
   "execution_count": null,
   "id": "fc3ab8c7",
   "metadata": {},
   "outputs": [],
   "source": [
    "# 순위 생성(동점일 경우 평균 등수)\n",
    "df_dup['amount'].rank(ascending=False)"
   ]
  },
  {
   "cell_type": "code",
   "execution_count": null,
   "id": "f2af0240",
   "metadata": {},
   "outputs": [],
   "source": [
    "# 순위 생성(동점일 경우 index 순)\n",
    "df_dup['date'].rank(ascending=True, method='first')"
   ]
  },
  {
   "cell_type": "code",
   "execution_count": null,
   "id": "4d037506",
   "metadata": {
    "scrolled": true
   },
   "outputs": [],
   "source": [
    "# 사용자별 순위 파생변수 추가\n",
    "df_dup['seq'] = df_dup.groupby('id')['date'].rank(method='min',ascending=False)\n",
    "df_dup"
   ]
  },
  {
   "cell_type": "code",
   "execution_count": null,
   "id": "9acccfb4",
   "metadata": {
    "scrolled": true
   },
   "outputs": [],
   "source": [
    "# rank 활용 최종건 선택\n",
    "df_dup[df_dup['seq']==1]"
   ]
  },
  {
   "cell_type": "code",
   "execution_count": null,
   "id": "983e800e",
   "metadata": {},
   "outputs": [],
   "source": [
    "df_dup"
   ]
  },
  {
   "cell_type": "code",
   "execution_count": null,
   "id": "42739832",
   "metadata": {},
   "outputs": [],
   "source": [
    "df_dup = df_dup.sort_values(['id','date']).reset_index(drop=True)\n",
    "df_dup"
   ]
  },
  {
   "cell_type": "code",
   "execution_count": null,
   "id": "0023a403",
   "metadata": {},
   "outputs": [],
   "source": [
    "# 데이터 정렬 및 날짜 형식 변환\n",
    "df_dup['date'] = df_dup['date'].astype('datetime64[ns]')\n",
    "df_dup"
   ]
  },
  {
   "cell_type": "code",
   "execution_count": null,
   "id": "82829292",
   "metadata": {},
   "outputs": [],
   "source": [
    "df_dup['date'].shift()"
   ]
  },
  {
   "cell_type": "code",
   "execution_count": null,
   "id": "2199acbd",
   "metadata": {},
   "outputs": [],
   "source": [
    "# 그룹별 이동 값 변수 추가\n",
    "df_dup['date_prev'] = df_dup.groupby('id')['date'].shift()\n",
    "df_dup"
   ]
  },
  {
   "cell_type": "code",
   "execution_count": null,
   "id": "c25325e3",
   "metadata": {},
   "outputs": [],
   "source": [
    "# 시차의 계산\n",
    "df_dup['date_diff'] = df_dup['date'] - df_dup['date_prev']\n",
    "df_dup"
   ]
  },
  {
   "cell_type": "code",
   "execution_count": null,
   "id": "9c99dc10",
   "metadata": {},
   "outputs": [],
   "source": [
    "df_dup['amount'].cumsum()"
   ]
  },
  {
   "cell_type": "code",
   "execution_count": null,
   "id": "7c5eee81",
   "metadata": {},
   "outputs": [],
   "source": [
    "# 그룹별 누적합 계산\n",
    "df_dup['cum_amount'] = df_dup.groupby('id')['amount'].cumsum()\n",
    "df_dup"
   ]
  },
  {
   "cell_type": "code",
   "execution_count": 59,
   "id": "40400af4",
   "metadata": {},
   "outputs": [
    {
     "data": {
      "text/html": [
       "<div>\n",
       "<style scoped>\n",
       "    .dataframe tbody tr th:only-of-type {\n",
       "        vertical-align: middle;\n",
       "    }\n",
       "\n",
       "    .dataframe tbody tr th {\n",
       "        vertical-align: top;\n",
       "    }\n",
       "\n",
       "    .dataframe thead th {\n",
       "        text-align: right;\n",
       "    }\n",
       "</style>\n",
       "<table border=\"1\" class=\"dataframe\">\n",
       "  <thead>\n",
       "    <tr style=\"text-align: right;\">\n",
       "      <th></th>\n",
       "      <th>id</th>\n",
       "      <th>product_cd</th>\n",
       "      <th>date</th>\n",
       "      <th>amount</th>\n",
       "      <th>channel</th>\n",
       "      <th>info1</th>\n",
       "      <th>info2</th>\n",
       "      <th>info3</th>\n",
       "      <th>seq</th>\n",
       "      <th>date_prev</th>\n",
       "      <th>date_diff</th>\n",
       "      <th>cum_amount</th>\n",
       "    </tr>\n",
       "  </thead>\n",
       "  <tbody>\n",
       "    <tr>\n",
       "      <th>0</th>\n",
       "      <td>101</td>\n",
       "      <td>A</td>\n",
       "      <td>2022-01-03</td>\n",
       "      <td>20.0</td>\n",
       "      <td>FC</td>\n",
       "      <td>C887</td>\n",
       "      <td>N</td>\n",
       "      <td>NaN</td>\n",
       "      <td>3.0</td>\n",
       "      <td>NaT</td>\n",
       "      <td>NaT</td>\n",
       "      <td>20.0</td>\n",
       "    </tr>\n",
       "    <tr>\n",
       "      <th>1</th>\n",
       "      <td>101</td>\n",
       "      <td>B</td>\n",
       "      <td>2022-04-12</td>\n",
       "      <td>32.0</td>\n",
       "      <td>FC</td>\n",
       "      <td>C887</td>\n",
       "      <td>NaN</td>\n",
       "      <td>N</td>\n",
       "      <td>2.0</td>\n",
       "      <td>2022-01-03</td>\n",
       "      <td>99 days</td>\n",
       "      <td>52.0</td>\n",
       "    </tr>\n",
       "    <tr>\n",
       "      <th>2</th>\n",
       "      <td>101</td>\n",
       "      <td>C</td>\n",
       "      <td>2022-05-03</td>\n",
       "      <td>120.0</td>\n",
       "      <td>FC</td>\n",
       "      <td>C887</td>\n",
       "      <td>NaN</td>\n",
       "      <td>NaN</td>\n",
       "      <td>1.0</td>\n",
       "      <td>2022-04-12</td>\n",
       "      <td>21 days</td>\n",
       "      <td>172.0</td>\n",
       "    </tr>\n",
       "    <tr>\n",
       "      <th>3</th>\n",
       "      <td>103</td>\n",
       "      <td>B</td>\n",
       "      <td>2022-03-02</td>\n",
       "      <td>25.0</td>\n",
       "      <td>FC</td>\n",
       "      <td>C453</td>\n",
       "      <td>NaN</td>\n",
       "      <td>N</td>\n",
       "      <td>2.0</td>\n",
       "      <td>NaT</td>\n",
       "      <td>NaT</td>\n",
       "      <td>25.0</td>\n",
       "    </tr>\n",
       "    <tr>\n",
       "      <th>4</th>\n",
       "      <td>103</td>\n",
       "      <td>C</td>\n",
       "      <td>2022-03-03</td>\n",
       "      <td>NaN</td>\n",
       "      <td>CM</td>\n",
       "      <td>NaN</td>\n",
       "      <td>NaN</td>\n",
       "      <td>NaN</td>\n",
       "      <td>1.0</td>\n",
       "      <td>2022-03-02</td>\n",
       "      <td>1 days</td>\n",
       "      <td>NaN</td>\n",
       "    </tr>\n",
       "    <tr>\n",
       "      <th>5</th>\n",
       "      <td>105</td>\n",
       "      <td>C</td>\n",
       "      <td>2022-02-23</td>\n",
       "      <td>92.0</td>\n",
       "      <td>CM</td>\n",
       "      <td>NaN</td>\n",
       "      <td>NaN</td>\n",
       "      <td>NaN</td>\n",
       "      <td>1.0</td>\n",
       "      <td>NaT</td>\n",
       "      <td>NaT</td>\n",
       "      <td>92.0</td>\n",
       "    </tr>\n",
       "    <tr>\n",
       "      <th>6</th>\n",
       "      <td>201</td>\n",
       "      <td>B</td>\n",
       "      <td>2022-02-16</td>\n",
       "      <td>31.0</td>\n",
       "      <td>FC</td>\n",
       "      <td>C453</td>\n",
       "      <td>NaN</td>\n",
       "      <td>NaN</td>\n",
       "      <td>1.0</td>\n",
       "      <td>NaT</td>\n",
       "      <td>NaT</td>\n",
       "      <td>31.0</td>\n",
       "    </tr>\n",
       "    <tr>\n",
       "      <th>7</th>\n",
       "      <td>204</td>\n",
       "      <td>A</td>\n",
       "      <td>2022-04-11</td>\n",
       "      <td>15.0</td>\n",
       "      <td>CM</td>\n",
       "      <td>NaN</td>\n",
       "      <td>Y</td>\n",
       "      <td>NaN</td>\n",
       "      <td>1.0</td>\n",
       "      <td>NaT</td>\n",
       "      <td>NaT</td>\n",
       "      <td>15.0</td>\n",
       "    </tr>\n",
       "    <tr>\n",
       "      <th>8</th>\n",
       "      <td>204</td>\n",
       "      <td>B</td>\n",
       "      <td>2022-04-11</td>\n",
       "      <td>18.0</td>\n",
       "      <td>CM</td>\n",
       "      <td>NaN</td>\n",
       "      <td>NaN</td>\n",
       "      <td>N</td>\n",
       "      <td>1.0</td>\n",
       "      <td>2022-04-11</td>\n",
       "      <td>0 days</td>\n",
       "      <td>33.0</td>\n",
       "    </tr>\n",
       "  </tbody>\n",
       "</table>\n",
       "</div>"
      ],
      "text/plain": [
       "    id product_cd       date  amount channel info1 info2 info3  seq  \\\n",
       "0  101          A 2022-01-03    20.0      FC  C887     N   NaN  3.0   \n",
       "1  101          B 2022-04-12    32.0      FC  C887   NaN     N  2.0   \n",
       "2  101          C 2022-05-03   120.0      FC  C887   NaN   NaN  1.0   \n",
       "3  103          B 2022-03-02    25.0      FC  C453   NaN     N  2.0   \n",
       "4  103          C 2022-03-03     NaN      CM   NaN   NaN   NaN  1.0   \n",
       "5  105          C 2022-02-23    92.0      CM   NaN   NaN   NaN  1.0   \n",
       "6  201          B 2022-02-16    31.0      FC  C453   NaN   NaN  1.0   \n",
       "7  204          A 2022-04-11    15.0      CM   NaN     Y   NaN  1.0   \n",
       "8  204          B 2022-04-11    18.0      CM   NaN   NaN     N  1.0   \n",
       "\n",
       "   date_prev date_diff  cum_amount  \n",
       "0        NaT       NaT        20.0  \n",
       "1 2022-01-03   99 days        52.0  \n",
       "2 2022-04-12   21 days       172.0  \n",
       "3        NaT       NaT        25.0  \n",
       "4 2022-03-02    1 days         NaN  \n",
       "5        NaT       NaT        92.0  \n",
       "6        NaT       NaT        31.0  \n",
       "7        NaT       NaT        15.0  \n",
       "8 2022-04-11    0 days        33.0  "
      ]
     },
     "execution_count": 59,
     "metadata": {},
     "output_type": "execute_result"
    }
   ],
   "source": [
    "df_dup"
   ]
  },
  {
   "cell_type": "code",
   "execution_count": 62,
   "id": "d91d84c6",
   "metadata": {},
   "outputs": [
    {
     "data": {
      "text/plain": [
       "0     NaN\n",
       "1    26.0\n",
       "2    76.0\n",
       "3     NaN\n",
       "4     NaN\n",
       "5     NaN\n",
       "6     NaN\n",
       "7     NaN\n",
       "8    16.5\n",
       "Name: amount, dtype: float64"
      ]
     },
     "execution_count": 62,
     "metadata": {},
     "output_type": "execute_result"
    }
   ],
   "source": [
    "df_dup.groupby('id').rolling(2)['amount'].mean().reset_index(drop=True)"
   ]
  },
  {
   "cell_type": "code",
   "execution_count": 60,
   "id": "49910e1f",
   "metadata": {},
   "outputs": [
    {
     "data": {
      "text/html": [
       "<div>\n",
       "<style scoped>\n",
       "    .dataframe tbody tr th:only-of-type {\n",
       "        vertical-align: middle;\n",
       "    }\n",
       "\n",
       "    .dataframe tbody tr th {\n",
       "        vertical-align: top;\n",
       "    }\n",
       "\n",
       "    .dataframe thead th {\n",
       "        text-align: right;\n",
       "    }\n",
       "</style>\n",
       "<table border=\"1\" class=\"dataframe\">\n",
       "  <thead>\n",
       "    <tr style=\"text-align: right;\">\n",
       "      <th></th>\n",
       "      <th>id</th>\n",
       "      <th>product_cd</th>\n",
       "      <th>date</th>\n",
       "      <th>amount</th>\n",
       "      <th>channel</th>\n",
       "      <th>info1</th>\n",
       "      <th>info2</th>\n",
       "      <th>info3</th>\n",
       "      <th>seq</th>\n",
       "      <th>date_prev</th>\n",
       "      <th>date_diff</th>\n",
       "      <th>cum_amount</th>\n",
       "      <th>ma_amount</th>\n",
       "    </tr>\n",
       "  </thead>\n",
       "  <tbody>\n",
       "    <tr>\n",
       "      <th>0</th>\n",
       "      <td>101</td>\n",
       "      <td>A</td>\n",
       "      <td>2022-01-03</td>\n",
       "      <td>20.0</td>\n",
       "      <td>FC</td>\n",
       "      <td>C887</td>\n",
       "      <td>N</td>\n",
       "      <td>NaN</td>\n",
       "      <td>3.0</td>\n",
       "      <td>NaT</td>\n",
       "      <td>NaT</td>\n",
       "      <td>20.0</td>\n",
       "      <td>NaN</td>\n",
       "    </tr>\n",
       "    <tr>\n",
       "      <th>1</th>\n",
       "      <td>101</td>\n",
       "      <td>B</td>\n",
       "      <td>2022-04-12</td>\n",
       "      <td>32.0</td>\n",
       "      <td>FC</td>\n",
       "      <td>C887</td>\n",
       "      <td>NaN</td>\n",
       "      <td>N</td>\n",
       "      <td>2.0</td>\n",
       "      <td>2022-01-03</td>\n",
       "      <td>99 days</td>\n",
       "      <td>52.0</td>\n",
       "      <td>26.0</td>\n",
       "    </tr>\n",
       "    <tr>\n",
       "      <th>2</th>\n",
       "      <td>101</td>\n",
       "      <td>C</td>\n",
       "      <td>2022-05-03</td>\n",
       "      <td>120.0</td>\n",
       "      <td>FC</td>\n",
       "      <td>C887</td>\n",
       "      <td>NaN</td>\n",
       "      <td>NaN</td>\n",
       "      <td>1.0</td>\n",
       "      <td>2022-04-12</td>\n",
       "      <td>21 days</td>\n",
       "      <td>172.0</td>\n",
       "      <td>76.0</td>\n",
       "    </tr>\n",
       "    <tr>\n",
       "      <th>3</th>\n",
       "      <td>103</td>\n",
       "      <td>B</td>\n",
       "      <td>2022-03-02</td>\n",
       "      <td>25.0</td>\n",
       "      <td>FC</td>\n",
       "      <td>C453</td>\n",
       "      <td>NaN</td>\n",
       "      <td>N</td>\n",
       "      <td>2.0</td>\n",
       "      <td>NaT</td>\n",
       "      <td>NaT</td>\n",
       "      <td>25.0</td>\n",
       "      <td>NaN</td>\n",
       "    </tr>\n",
       "    <tr>\n",
       "      <th>4</th>\n",
       "      <td>103</td>\n",
       "      <td>C</td>\n",
       "      <td>2022-03-03</td>\n",
       "      <td>NaN</td>\n",
       "      <td>CM</td>\n",
       "      <td>NaN</td>\n",
       "      <td>NaN</td>\n",
       "      <td>NaN</td>\n",
       "      <td>1.0</td>\n",
       "      <td>2022-03-02</td>\n",
       "      <td>1 days</td>\n",
       "      <td>NaN</td>\n",
       "      <td>NaN</td>\n",
       "    </tr>\n",
       "    <tr>\n",
       "      <th>5</th>\n",
       "      <td>105</td>\n",
       "      <td>C</td>\n",
       "      <td>2022-02-23</td>\n",
       "      <td>92.0</td>\n",
       "      <td>CM</td>\n",
       "      <td>NaN</td>\n",
       "      <td>NaN</td>\n",
       "      <td>NaN</td>\n",
       "      <td>1.0</td>\n",
       "      <td>NaT</td>\n",
       "      <td>NaT</td>\n",
       "      <td>92.0</td>\n",
       "      <td>NaN</td>\n",
       "    </tr>\n",
       "    <tr>\n",
       "      <th>6</th>\n",
       "      <td>201</td>\n",
       "      <td>B</td>\n",
       "      <td>2022-02-16</td>\n",
       "      <td>31.0</td>\n",
       "      <td>FC</td>\n",
       "      <td>C453</td>\n",
       "      <td>NaN</td>\n",
       "      <td>NaN</td>\n",
       "      <td>1.0</td>\n",
       "      <td>NaT</td>\n",
       "      <td>NaT</td>\n",
       "      <td>31.0</td>\n",
       "      <td>NaN</td>\n",
       "    </tr>\n",
       "    <tr>\n",
       "      <th>7</th>\n",
       "      <td>204</td>\n",
       "      <td>A</td>\n",
       "      <td>2022-04-11</td>\n",
       "      <td>15.0</td>\n",
       "      <td>CM</td>\n",
       "      <td>NaN</td>\n",
       "      <td>Y</td>\n",
       "      <td>NaN</td>\n",
       "      <td>1.0</td>\n",
       "      <td>NaT</td>\n",
       "      <td>NaT</td>\n",
       "      <td>15.0</td>\n",
       "      <td>NaN</td>\n",
       "    </tr>\n",
       "    <tr>\n",
       "      <th>8</th>\n",
       "      <td>204</td>\n",
       "      <td>B</td>\n",
       "      <td>2022-04-11</td>\n",
       "      <td>18.0</td>\n",
       "      <td>CM</td>\n",
       "      <td>NaN</td>\n",
       "      <td>NaN</td>\n",
       "      <td>N</td>\n",
       "      <td>1.0</td>\n",
       "      <td>2022-04-11</td>\n",
       "      <td>0 days</td>\n",
       "      <td>33.0</td>\n",
       "      <td>16.5</td>\n",
       "    </tr>\n",
       "  </tbody>\n",
       "</table>\n",
       "</div>"
      ],
      "text/plain": [
       "    id product_cd       date  amount channel info1 info2 info3  seq  \\\n",
       "0  101          A 2022-01-03    20.0      FC  C887     N   NaN  3.0   \n",
       "1  101          B 2022-04-12    32.0      FC  C887   NaN     N  2.0   \n",
       "2  101          C 2022-05-03   120.0      FC  C887   NaN   NaN  1.0   \n",
       "3  103          B 2022-03-02    25.0      FC  C453   NaN     N  2.0   \n",
       "4  103          C 2022-03-03     NaN      CM   NaN   NaN   NaN  1.0   \n",
       "5  105          C 2022-02-23    92.0      CM   NaN   NaN   NaN  1.0   \n",
       "6  201          B 2022-02-16    31.0      FC  C453   NaN   NaN  1.0   \n",
       "7  204          A 2022-04-11    15.0      CM   NaN     Y   NaN  1.0   \n",
       "8  204          B 2022-04-11    18.0      CM   NaN   NaN     N  1.0   \n",
       "\n",
       "   date_prev date_diff  cum_amount  ma_amount  \n",
       "0        NaT       NaT        20.0        NaN  \n",
       "1 2022-01-03   99 days        52.0       26.0  \n",
       "2 2022-04-12   21 days       172.0       76.0  \n",
       "3        NaT       NaT        25.0        NaN  \n",
       "4 2022-03-02    1 days         NaN        NaN  \n",
       "5        NaT       NaT        92.0        NaN  \n",
       "6        NaT       NaT        31.0        NaN  \n",
       "7        NaT       NaT        15.0        NaN  \n",
       "8 2022-04-11    0 days        33.0       16.5  "
      ]
     },
     "execution_count": 60,
     "metadata": {},
     "output_type": "execute_result"
    }
   ],
   "source": [
    "# rolling() 활용 그룹별 이동 평균 계산\n",
    "df_dup['ma_amount'] = df_dup.groupby('id').rolling(2)['amount'].mean().reset_index(drop=True)\n",
    "df_dup"
   ]
  },
  {
   "cell_type": "code",
   "execution_count": null,
   "id": "c7c45426",
   "metadata": {},
   "outputs": [],
   "source": []
  },
  {
   "cell_type": "code",
   "execution_count": null,
   "id": "e53a3766",
   "metadata": {},
   "outputs": [],
   "source": []
  },
  {
   "cell_type": "code",
   "execution_count": null,
   "id": "0673fe1d",
   "metadata": {},
   "outputs": [],
   "source": []
  },
  {
   "cell_type": "code",
   "execution_count": null,
   "id": "d7b00ee6",
   "metadata": {},
   "outputs": [],
   "source": []
  },
  {
   "cell_type": "markdown",
   "id": "7edd620b",
   "metadata": {},
   "source": [
    "## 4. 날짜시간 변수 활용\n",
    "\n",
    "날짜시간 변수에서 요소를 추출할 수 있고, 날짜시간별로 집계된 데이터로 시각화 가능"
   ]
  },
  {
   "cell_type": "code",
   "execution_count": 63,
   "id": "2ddb5eda",
   "metadata": {},
   "outputs": [],
   "source": [
    "import pandas as pd\n",
    "import matplotlib.pyplot as plt\n",
    "import seaborn as sns"
   ]
  },
  {
   "cell_type": "code",
   "execution_count": 64,
   "id": "a851bcc7",
   "metadata": {},
   "outputs": [],
   "source": [
    "# Windows\n",
    "plt.rc('font', family='Malgun Gothic')\n",
    "plt.rc('axes', unicode_minus=False)\n",
    "\n",
    "#macOS\n",
    "# plt.rc('font', family='AppleGothic')\n",
    "# plt.rc('axes', unicode_minus=False)"
   ]
  },
  {
   "cell_type": "code",
   "execution_count": 65,
   "id": "bff9c65b",
   "metadata": {
    "scrolled": false
   },
   "outputs": [
    {
     "data": {
      "text/html": [
       "<div>\n",
       "<style scoped>\n",
       "    .dataframe tbody tr th:only-of-type {\n",
       "        vertical-align: middle;\n",
       "    }\n",
       "\n",
       "    .dataframe tbody tr th {\n",
       "        vertical-align: top;\n",
       "    }\n",
       "\n",
       "    .dataframe thead th {\n",
       "        text-align: right;\n",
       "    }\n",
       "</style>\n",
       "<table border=\"1\" class=\"dataframe\">\n",
       "  <thead>\n",
       "    <tr style=\"text-align: right;\">\n",
       "      <th></th>\n",
       "      <th>날짜</th>\n",
       "      <th>호선</th>\n",
       "      <th>역번호</th>\n",
       "      <th>역명</th>\n",
       "      <th>구분</th>\n",
       "      <th>이용객수</th>\n",
       "    </tr>\n",
       "  </thead>\n",
       "  <tbody>\n",
       "    <tr>\n",
       "      <th>0</th>\n",
       "      <td>2022-01-01</td>\n",
       "      <td>1</td>\n",
       "      <td>150</td>\n",
       "      <td>서울역</td>\n",
       "      <td>승차</td>\n",
       "      <td>18525</td>\n",
       "    </tr>\n",
       "    <tr>\n",
       "      <th>1</th>\n",
       "      <td>2022-01-01</td>\n",
       "      <td>1</td>\n",
       "      <td>150</td>\n",
       "      <td>서울역</td>\n",
       "      <td>하차</td>\n",
       "      <td>17087</td>\n",
       "    </tr>\n",
       "    <tr>\n",
       "      <th>2</th>\n",
       "      <td>2022-01-01</td>\n",
       "      <td>1</td>\n",
       "      <td>151</td>\n",
       "      <td>시청</td>\n",
       "      <td>승차</td>\n",
       "      <td>5660</td>\n",
       "    </tr>\n",
       "    <tr>\n",
       "      <th>3</th>\n",
       "      <td>2022-01-01</td>\n",
       "      <td>1</td>\n",
       "      <td>151</td>\n",
       "      <td>시청</td>\n",
       "      <td>하차</td>\n",
       "      <td>5063</td>\n",
       "    </tr>\n",
       "    <tr>\n",
       "      <th>4</th>\n",
       "      <td>2022-01-01</td>\n",
       "      <td>1</td>\n",
       "      <td>152</td>\n",
       "      <td>종각</td>\n",
       "      <td>승차</td>\n",
       "      <td>10046</td>\n",
       "    </tr>\n",
       "    <tr>\n",
       "      <th>...</th>\n",
       "      <td>...</td>\n",
       "      <td>...</td>\n",
       "      <td>...</td>\n",
       "      <td>...</td>\n",
       "      <td>...</td>\n",
       "      <td>...</td>\n",
       "    </tr>\n",
       "    <tr>\n",
       "      <th>115601</th>\n",
       "      <td>2022-07-31</td>\n",
       "      <td>8</td>\n",
       "      <td>2826</td>\n",
       "      <td>수진</td>\n",
       "      <td>하차</td>\n",
       "      <td>2579</td>\n",
       "    </tr>\n",
       "    <tr>\n",
       "      <th>115602</th>\n",
       "      <td>2022-07-31</td>\n",
       "      <td>8</td>\n",
       "      <td>2827</td>\n",
       "      <td>모란</td>\n",
       "      <td>승차</td>\n",
       "      <td>2320</td>\n",
       "    </tr>\n",
       "    <tr>\n",
       "      <th>115603</th>\n",
       "      <td>2022-07-31</td>\n",
       "      <td>8</td>\n",
       "      <td>2827</td>\n",
       "      <td>모란</td>\n",
       "      <td>하차</td>\n",
       "      <td>2037</td>\n",
       "    </tr>\n",
       "    <tr>\n",
       "      <th>115604</th>\n",
       "      <td>2022-07-31</td>\n",
       "      <td>8</td>\n",
       "      <td>2828</td>\n",
       "      <td>남위례</td>\n",
       "      <td>승차</td>\n",
       "      <td>2126</td>\n",
       "    </tr>\n",
       "    <tr>\n",
       "      <th>115605</th>\n",
       "      <td>2022-07-31</td>\n",
       "      <td>8</td>\n",
       "      <td>2828</td>\n",
       "      <td>남위례</td>\n",
       "      <td>하차</td>\n",
       "      <td>2282</td>\n",
       "    </tr>\n",
       "  </tbody>\n",
       "</table>\n",
       "<p>115606 rows × 6 columns</p>\n",
       "</div>"
      ],
      "text/plain": [
       "                날짜  호선   역번호   역명  구분   이용객수\n",
       "0       2022-01-01   1   150  서울역  승차  18525\n",
       "1       2022-01-01   1   150  서울역  하차  17087\n",
       "2       2022-01-01   1   151   시청  승차   5660\n",
       "3       2022-01-01   1   151   시청  하차   5063\n",
       "4       2022-01-01   1   152   종각  승차  10046\n",
       "...            ...  ..   ...  ...  ..    ...\n",
       "115601  2022-07-31   8  2826   수진  하차   2579\n",
       "115602  2022-07-31   8  2827   모란  승차   2320\n",
       "115603  2022-07-31   8  2827   모란  하차   2037\n",
       "115604  2022-07-31   8  2828  남위례  승차   2126\n",
       "115605  2022-07-31   8  2828  남위례  하차   2282\n",
       "\n",
       "[115606 rows x 6 columns]"
      ]
     },
     "execution_count": 65,
     "metadata": {},
     "output_type": "execute_result"
    }
   ],
   "source": [
    "df_subway = pd.read_csv('data/서울교통공사_역별일별승하차인원정보_20220731.csv')\n",
    "df_subway"
   ]
  },
  {
   "cell_type": "code",
   "execution_count": 72,
   "id": "59529327",
   "metadata": {},
   "outputs": [
    {
     "data": {
      "text/html": [
       "<div>\n",
       "<style scoped>\n",
       "    .dataframe tbody tr th:only-of-type {\n",
       "        vertical-align: middle;\n",
       "    }\n",
       "\n",
       "    .dataframe tbody tr th {\n",
       "        vertical-align: top;\n",
       "    }\n",
       "\n",
       "    .dataframe thead th {\n",
       "        text-align: right;\n",
       "    }\n",
       "</style>\n",
       "<table border=\"1\" class=\"dataframe\">\n",
       "  <thead>\n",
       "    <tr style=\"text-align: right;\">\n",
       "      <th></th>\n",
       "      <th>날짜</th>\n",
       "      <th>호선</th>\n",
       "      <th>이용객수</th>\n",
       "    </tr>\n",
       "  </thead>\n",
       "  <tbody>\n",
       "    <tr>\n",
       "      <th>0</th>\n",
       "      <td>2022-01-01</td>\n",
       "      <td>1</td>\n",
       "      <td>173736</td>\n",
       "    </tr>\n",
       "    <tr>\n",
       "      <th>1</th>\n",
       "      <td>2022-01-01</td>\n",
       "      <td>2</td>\n",
       "      <td>975559</td>\n",
       "    </tr>\n",
       "    <tr>\n",
       "      <th>2</th>\n",
       "      <td>2022-01-01</td>\n",
       "      <td>3</td>\n",
       "      <td>356262</td>\n",
       "    </tr>\n",
       "    <tr>\n",
       "      <th>3</th>\n",
       "      <td>2022-01-01</td>\n",
       "      <td>4</td>\n",
       "      <td>386622</td>\n",
       "    </tr>\n",
       "    <tr>\n",
       "      <th>4</th>\n",
       "      <td>2022-01-01</td>\n",
       "      <td>5</td>\n",
       "      <td>461184</td>\n",
       "    </tr>\n",
       "    <tr>\n",
       "      <th>...</th>\n",
       "      <td>...</td>\n",
       "      <td>...</td>\n",
       "      <td>...</td>\n",
       "    </tr>\n",
       "    <tr>\n",
       "      <th>1691</th>\n",
       "      <td>2022-07-31</td>\n",
       "      <td>4</td>\n",
       "      <td>492378</td>\n",
       "    </tr>\n",
       "    <tr>\n",
       "      <th>1692</th>\n",
       "      <td>2022-07-31</td>\n",
       "      <td>5</td>\n",
       "      <td>554841</td>\n",
       "    </tr>\n",
       "    <tr>\n",
       "      <th>1693</th>\n",
       "      <td>2022-07-31</td>\n",
       "      <td>6</td>\n",
       "      <td>327457</td>\n",
       "    </tr>\n",
       "    <tr>\n",
       "      <th>1694</th>\n",
       "      <td>2022-07-31</td>\n",
       "      <td>7</td>\n",
       "      <td>496649</td>\n",
       "    </tr>\n",
       "    <tr>\n",
       "      <th>1695</th>\n",
       "      <td>2022-07-31</td>\n",
       "      <td>8</td>\n",
       "      <td>173704</td>\n",
       "    </tr>\n",
       "  </tbody>\n",
       "</table>\n",
       "<p>1696 rows × 3 columns</p>\n",
       "</div>"
      ],
      "text/plain": [
       "             날짜 호선    이용객수\n",
       "0    2022-01-01  1  173736\n",
       "1    2022-01-01  2  975559\n",
       "2    2022-01-01  3  356262\n",
       "3    2022-01-01  4  386622\n",
       "4    2022-01-01  5  461184\n",
       "...         ... ..     ...\n",
       "1691 2022-07-31  4  492378\n",
       "1692 2022-07-31  5  554841\n",
       "1693 2022-07-31  6  327457\n",
       "1694 2022-07-31  7  496649\n",
       "1695 2022-07-31  8  173704\n",
       "\n",
       "[1696 rows x 3 columns]"
      ]
     },
     "execution_count": 72,
     "metadata": {},
     "output_type": "execute_result"
    }
   ],
   "source": [
    "agg = df_subway.groupby(['날짜','호선'], as_index=False)['이용객수'].sum()\n",
    "agg"
   ]
  },
  {
   "cell_type": "code",
   "execution_count": 73,
   "id": "211bbae4",
   "metadata": {},
   "outputs": [
    {
     "data": {
      "text/plain": [
       "<Axes: xlabel='날짜', ylabel='이용객수'>"
      ]
     },
     "execution_count": 73,
     "metadata": {},
     "output_type": "execute_result"
    },
    {
     "data": {
      "image/png": "[encoded data removed]",
      "text/plain": [
       "<Figure size 640x480 with 1 Axes>"
      ]
     },
     "metadata": {},
     "output_type": "display_data"
    }
   ],
   "source": [
    "# 형식 변환없이 집계 및 시각화\n",
    "sns.lineplot(data=agg, \n",
    "             x='날짜',\n",
    "             y='이용객수',\n",
    "             hue='호선')"
   ]
  },
  {
   "cell_type": "code",
   "execution_count": 71,
   "id": "89f52195",
   "metadata": {},
   "outputs": [
    {
     "data": {
      "text/plain": [
       "<Axes: xlabel='날짜', ylabel='이용객수'>"
      ]
     },
     "execution_count": 71,
     "metadata": {},
     "output_type": "execute_result"
    },
    {
     "data": {
      "image/png": "[encoded data removed]",
      "text/plain": [
       "<Figure size 640x480 with 1 Axes>"
      ]
     },
     "metadata": {},
     "output_type": "display_data"
    }
   ],
   "source": [
    "sns.lineplot(data=agg, \n",
    "             x='날짜',\n",
    "             y='이용객수',\n",
    "             hue='호선')"
   ]
  },
  {
   "cell_type": "code",
   "execution_count": 68,
   "id": "96c28caa",
   "metadata": {},
   "outputs": [
    {
     "data": {
      "text/plain": [
       "날짜      object\n",
       "호선       int64\n",
       "역번호      int64\n",
       "역명      object\n",
       "구분      object\n",
       "이용객수     int64\n",
       "dtype: object"
      ]
     },
     "execution_count": 68,
     "metadata": {},
     "output_type": "execute_result"
    }
   ],
   "source": [
    "df_subway.dtypes"
   ]
  },
  {
   "cell_type": "code",
   "execution_count": 70,
   "id": "3461369b",
   "metadata": {},
   "outputs": [
    {
     "data": {
      "text/plain": [
       "날짜      datetime64[ns]\n",
       "호선            category\n",
       "역번호              int64\n",
       "역명              object\n",
       "구분              object\n",
       "이용객수             int64\n",
       "dtype: object"
      ]
     },
     "execution_count": 70,
     "metadata": {},
     "output_type": "execute_result"
    }
   ],
   "source": [
    "# to_datetime()을 활용한 형식 변환\n",
    "df_subway['호선'] = df_subway['호선'].astype('category')\n",
    "df_subway['날짜'] = pd.to_datetime(df_subway['날짜'])\n",
    "df_subway.dtypes"
   ]
  },
  {
   "cell_type": "code",
   "execution_count": 74,
   "id": "cb2adeb7",
   "metadata": {},
   "outputs": [
    {
     "data": {
      "text/html": [
       "<div>\n",
       "<style scoped>\n",
       "    .dataframe tbody tr th:only-of-type {\n",
       "        vertical-align: middle;\n",
       "    }\n",
       "\n",
       "    .dataframe tbody tr th {\n",
       "        vertical-align: top;\n",
       "    }\n",
       "\n",
       "    .dataframe thead th {\n",
       "        text-align: right;\n",
       "    }\n",
       "</style>\n",
       "<table border=\"1\" class=\"dataframe\">\n",
       "  <thead>\n",
       "    <tr style=\"text-align: right;\">\n",
       "      <th></th>\n",
       "      <th>날짜</th>\n",
       "      <th>호선</th>\n",
       "      <th>역번호</th>\n",
       "      <th>역명</th>\n",
       "      <th>구분</th>\n",
       "      <th>이용객수</th>\n",
       "      <th>요일</th>\n",
       "    </tr>\n",
       "  </thead>\n",
       "  <tbody>\n",
       "    <tr>\n",
       "      <th>0</th>\n",
       "      <td>2022-01-01</td>\n",
       "      <td>1</td>\n",
       "      <td>150</td>\n",
       "      <td>서울역</td>\n",
       "      <td>승차</td>\n",
       "      <td>18525</td>\n",
       "      <td>5</td>\n",
       "    </tr>\n",
       "    <tr>\n",
       "      <th>1</th>\n",
       "      <td>2022-01-01</td>\n",
       "      <td>1</td>\n",
       "      <td>150</td>\n",
       "      <td>서울역</td>\n",
       "      <td>하차</td>\n",
       "      <td>17087</td>\n",
       "      <td>5</td>\n",
       "    </tr>\n",
       "    <tr>\n",
       "      <th>2</th>\n",
       "      <td>2022-01-01</td>\n",
       "      <td>1</td>\n",
       "      <td>151</td>\n",
       "      <td>시청</td>\n",
       "      <td>승차</td>\n",
       "      <td>5660</td>\n",
       "      <td>5</td>\n",
       "    </tr>\n",
       "    <tr>\n",
       "      <th>3</th>\n",
       "      <td>2022-01-01</td>\n",
       "      <td>1</td>\n",
       "      <td>151</td>\n",
       "      <td>시청</td>\n",
       "      <td>하차</td>\n",
       "      <td>5063</td>\n",
       "      <td>5</td>\n",
       "    </tr>\n",
       "    <tr>\n",
       "      <th>4</th>\n",
       "      <td>2022-01-01</td>\n",
       "      <td>1</td>\n",
       "      <td>152</td>\n",
       "      <td>종각</td>\n",
       "      <td>승차</td>\n",
       "      <td>10046</td>\n",
       "      <td>5</td>\n",
       "    </tr>\n",
       "    <tr>\n",
       "      <th>...</th>\n",
       "      <td>...</td>\n",
       "      <td>...</td>\n",
       "      <td>...</td>\n",
       "      <td>...</td>\n",
       "      <td>...</td>\n",
       "      <td>...</td>\n",
       "      <td>...</td>\n",
       "    </tr>\n",
       "    <tr>\n",
       "      <th>115601</th>\n",
       "      <td>2022-07-31</td>\n",
       "      <td>8</td>\n",
       "      <td>2826</td>\n",
       "      <td>수진</td>\n",
       "      <td>하차</td>\n",
       "      <td>2579</td>\n",
       "      <td>6</td>\n",
       "    </tr>\n",
       "    <tr>\n",
       "      <th>115602</th>\n",
       "      <td>2022-07-31</td>\n",
       "      <td>8</td>\n",
       "      <td>2827</td>\n",
       "      <td>모란</td>\n",
       "      <td>승차</td>\n",
       "      <td>2320</td>\n",
       "      <td>6</td>\n",
       "    </tr>\n",
       "    <tr>\n",
       "      <th>115603</th>\n",
       "      <td>2022-07-31</td>\n",
       "      <td>8</td>\n",
       "      <td>2827</td>\n",
       "      <td>모란</td>\n",
       "      <td>하차</td>\n",
       "      <td>2037</td>\n",
       "      <td>6</td>\n",
       "    </tr>\n",
       "    <tr>\n",
       "      <th>115604</th>\n",
       "      <td>2022-07-31</td>\n",
       "      <td>8</td>\n",
       "      <td>2828</td>\n",
       "      <td>남위례</td>\n",
       "      <td>승차</td>\n",
       "      <td>2126</td>\n",
       "      <td>6</td>\n",
       "    </tr>\n",
       "    <tr>\n",
       "      <th>115605</th>\n",
       "      <td>2022-07-31</td>\n",
       "      <td>8</td>\n",
       "      <td>2828</td>\n",
       "      <td>남위례</td>\n",
       "      <td>하차</td>\n",
       "      <td>2282</td>\n",
       "      <td>6</td>\n",
       "    </tr>\n",
       "  </tbody>\n",
       "</table>\n",
       "<p>115606 rows × 7 columns</p>\n",
       "</div>"
      ],
      "text/plain": [
       "               날짜 호선   역번호   역명  구분   이용객수  요일\n",
       "0      2022-01-01  1   150  서울역  승차  18525   5\n",
       "1      2022-01-01  1   150  서울역  하차  17087   5\n",
       "2      2022-01-01  1   151   시청  승차   5660   5\n",
       "3      2022-01-01  1   151   시청  하차   5063   5\n",
       "4      2022-01-01  1   152   종각  승차  10046   5\n",
       "...           ... ..   ...  ...  ..    ...  ..\n",
       "115601 2022-07-31  8  2826   수진  하차   2579   6\n",
       "115602 2022-07-31  8  2827   모란  승차   2320   6\n",
       "115603 2022-07-31  8  2827   모란  하차   2037   6\n",
       "115604 2022-07-31  8  2828  남위례  승차   2126   6\n",
       "115605 2022-07-31  8  2828  남위례  하차   2282   6\n",
       "\n",
       "[115606 rows x 7 columns]"
      ]
     },
     "execution_count": 74,
     "metadata": {},
     "output_type": "execute_result"
    }
   ],
   "source": [
    "# 요일 변수 생성\n",
    "df_subway['요일'] = df_subway['날짜'].dt.weekday\n",
    "df_subway"
   ]
  },
  {
   "cell_type": "code",
   "execution_count": 75,
   "id": "4d929b69",
   "metadata": {},
   "outputs": [
    {
     "data": {
      "text/html": [
       "<div>\n",
       "<style scoped>\n",
       "    .dataframe tbody tr th:only-of-type {\n",
       "        vertical-align: middle;\n",
       "    }\n",
       "\n",
       "    .dataframe tbody tr th {\n",
       "        vertical-align: top;\n",
       "    }\n",
       "\n",
       "    .dataframe thead th {\n",
       "        text-align: right;\n",
       "    }\n",
       "</style>\n",
       "<table border=\"1\" class=\"dataframe\">\n",
       "  <thead>\n",
       "    <tr style=\"text-align: right;\">\n",
       "      <th></th>\n",
       "      <th>날짜</th>\n",
       "      <th>호선</th>\n",
       "      <th>역번호</th>\n",
       "      <th>역명</th>\n",
       "      <th>구분</th>\n",
       "      <th>이용객수</th>\n",
       "      <th>요일</th>\n",
       "      <th>월</th>\n",
       "    </tr>\n",
       "  </thead>\n",
       "  <tbody>\n",
       "    <tr>\n",
       "      <th>0</th>\n",
       "      <td>2022-01-01</td>\n",
       "      <td>1</td>\n",
       "      <td>150</td>\n",
       "      <td>서울역</td>\n",
       "      <td>승차</td>\n",
       "      <td>18525</td>\n",
       "      <td>5</td>\n",
       "      <td>1</td>\n",
       "    </tr>\n",
       "    <tr>\n",
       "      <th>1</th>\n",
       "      <td>2022-01-01</td>\n",
       "      <td>1</td>\n",
       "      <td>150</td>\n",
       "      <td>서울역</td>\n",
       "      <td>하차</td>\n",
       "      <td>17087</td>\n",
       "      <td>5</td>\n",
       "      <td>1</td>\n",
       "    </tr>\n",
       "    <tr>\n",
       "      <th>2</th>\n",
       "      <td>2022-01-01</td>\n",
       "      <td>1</td>\n",
       "      <td>151</td>\n",
       "      <td>시청</td>\n",
       "      <td>승차</td>\n",
       "      <td>5660</td>\n",
       "      <td>5</td>\n",
       "      <td>1</td>\n",
       "    </tr>\n",
       "    <tr>\n",
       "      <th>3</th>\n",
       "      <td>2022-01-01</td>\n",
       "      <td>1</td>\n",
       "      <td>151</td>\n",
       "      <td>시청</td>\n",
       "      <td>하차</td>\n",
       "      <td>5063</td>\n",
       "      <td>5</td>\n",
       "      <td>1</td>\n",
       "    </tr>\n",
       "    <tr>\n",
       "      <th>4</th>\n",
       "      <td>2022-01-01</td>\n",
       "      <td>1</td>\n",
       "      <td>152</td>\n",
       "      <td>종각</td>\n",
       "      <td>승차</td>\n",
       "      <td>10046</td>\n",
       "      <td>5</td>\n",
       "      <td>1</td>\n",
       "    </tr>\n",
       "    <tr>\n",
       "      <th>...</th>\n",
       "      <td>...</td>\n",
       "      <td>...</td>\n",
       "      <td>...</td>\n",
       "      <td>...</td>\n",
       "      <td>...</td>\n",
       "      <td>...</td>\n",
       "      <td>...</td>\n",
       "      <td>...</td>\n",
       "    </tr>\n",
       "    <tr>\n",
       "      <th>115601</th>\n",
       "      <td>2022-07-31</td>\n",
       "      <td>8</td>\n",
       "      <td>2826</td>\n",
       "      <td>수진</td>\n",
       "      <td>하차</td>\n",
       "      <td>2579</td>\n",
       "      <td>6</td>\n",
       "      <td>7</td>\n",
       "    </tr>\n",
       "    <tr>\n",
       "      <th>115602</th>\n",
       "      <td>2022-07-31</td>\n",
       "      <td>8</td>\n",
       "      <td>2827</td>\n",
       "      <td>모란</td>\n",
       "      <td>승차</td>\n",
       "      <td>2320</td>\n",
       "      <td>6</td>\n",
       "      <td>7</td>\n",
       "    </tr>\n",
       "    <tr>\n",
       "      <th>115603</th>\n",
       "      <td>2022-07-31</td>\n",
       "      <td>8</td>\n",
       "      <td>2827</td>\n",
       "      <td>모란</td>\n",
       "      <td>하차</td>\n",
       "      <td>2037</td>\n",
       "      <td>6</td>\n",
       "      <td>7</td>\n",
       "    </tr>\n",
       "    <tr>\n",
       "      <th>115604</th>\n",
       "      <td>2022-07-31</td>\n",
       "      <td>8</td>\n",
       "      <td>2828</td>\n",
       "      <td>남위례</td>\n",
       "      <td>승차</td>\n",
       "      <td>2126</td>\n",
       "      <td>6</td>\n",
       "      <td>7</td>\n",
       "    </tr>\n",
       "    <tr>\n",
       "      <th>115605</th>\n",
       "      <td>2022-07-31</td>\n",
       "      <td>8</td>\n",
       "      <td>2828</td>\n",
       "      <td>남위례</td>\n",
       "      <td>하차</td>\n",
       "      <td>2282</td>\n",
       "      <td>6</td>\n",
       "      <td>7</td>\n",
       "    </tr>\n",
       "  </tbody>\n",
       "</table>\n",
       "<p>115606 rows × 8 columns</p>\n",
       "</div>"
      ],
      "text/plain": [
       "               날짜 호선   역번호   역명  구분   이용객수  요일  월\n",
       "0      2022-01-01  1   150  서울역  승차  18525   5  1\n",
       "1      2022-01-01  1   150  서울역  하차  17087   5  1\n",
       "2      2022-01-01  1   151   시청  승차   5660   5  1\n",
       "3      2022-01-01  1   151   시청  하차   5063   5  1\n",
       "4      2022-01-01  1   152   종각  승차  10046   5  1\n",
       "...           ... ..   ...  ...  ..    ...  .. ..\n",
       "115601 2022-07-31  8  2826   수진  하차   2579   6  7\n",
       "115602 2022-07-31  8  2827   모란  승차   2320   6  7\n",
       "115603 2022-07-31  8  2827   모란  하차   2037   6  7\n",
       "115604 2022-07-31  8  2828  남위례  승차   2126   6  7\n",
       "115605 2022-07-31  8  2828  남위례  하차   2282   6  7\n",
       "\n",
       "[115606 rows x 8 columns]"
      ]
     },
     "execution_count": 75,
     "metadata": {},
     "output_type": "execute_result"
    }
   ],
   "source": [
    "# 월 변수 생성\n",
    "df_subway['월'] = df_subway['날짜'].dt.month\n",
    "df_subway"
   ]
  },
  {
   "cell_type": "code",
   "execution_count": null,
   "id": "e3ed8c69",
   "metadata": {},
   "outputs": [],
   "source": [
    "# 날짜별 집계값의 생성\n",
    "agg = df_subway.groupby(['날짜','호선'], as_index=False)['이용객수'].sum()\n",
    "agg"
   ]
  },
  {
   "cell_type": "code",
   "execution_count": null,
   "id": "4463267c",
   "metadata": {
    "scrolled": true
   },
   "outputs": [],
   "source": [
    "# 시계열 데이터의 시각화 \n",
    "sns.lineplot(data=agg, \n",
    "             x='날짜',\n",
    "             y='이용객수',\n",
    "             hue='호선')"
   ]
  },
  {
   "cell_type": "code",
   "execution_count": null,
   "id": "86515b80",
   "metadata": {},
   "outputs": [],
   "source": []
  },
  {
   "cell_type": "markdown",
   "id": "1b07bac0",
   "metadata": {},
   "source": [
    "#### [실습] df_accident를 활용하여 7, 8월 새벽 1~5시 사고 건수 계산"
   ]
  },
  {
   "cell_type": "code",
   "execution_count": 76,
   "id": "683290a6",
   "metadata": {
    "collapsed": true
   },
   "outputs": [
    {
     "data": {
      "text/html": [
       "<div>\n",
       "<style scoped>\n",
       "    .dataframe tbody tr th:only-of-type {\n",
       "        vertical-align: middle;\n",
       "    }\n",
       "\n",
       "    .dataframe tbody tr th {\n",
       "        vertical-align: top;\n",
       "    }\n",
       "\n",
       "    .dataframe thead th {\n",
       "        text-align: right;\n",
       "    }\n",
       "</style>\n",
       "<table border=\"1\" class=\"dataframe\">\n",
       "  <thead>\n",
       "    <tr style=\"text-align: right;\">\n",
       "      <th></th>\n",
       "      <th>발생년</th>\n",
       "      <th>발생년월일시</th>\n",
       "      <th>주야</th>\n",
       "      <th>요일</th>\n",
       "      <th>사망자수</th>\n",
       "      <th>부상자수</th>\n",
       "      <th>중상자수</th>\n",
       "      <th>경상자수</th>\n",
       "      <th>부상신고자수</th>\n",
       "      <th>발생지시도</th>\n",
       "      <th>...</th>\n",
       "      <th>사고유형</th>\n",
       "      <th>가해자법규위반</th>\n",
       "      <th>도로형태_대분류</th>\n",
       "      <th>도로형태</th>\n",
       "      <th>가해자_당사자종별</th>\n",
       "      <th>피해자_당사자종별</th>\n",
       "      <th>발생위치X(UTMK)</th>\n",
       "      <th>발생위치Y(UTMK)</th>\n",
       "      <th>경도</th>\n",
       "      <th>위도</th>\n",
       "    </tr>\n",
       "  </thead>\n",
       "  <tbody>\n",
       "    <tr>\n",
       "      <th>0</th>\n",
       "      <td>2021</td>\n",
       "      <td>2021-01-01 03:00</td>\n",
       "      <td>야</td>\n",
       "      <td>금</td>\n",
       "      <td>1</td>\n",
       "      <td>3</td>\n",
       "      <td>0</td>\n",
       "      <td>3</td>\n",
       "      <td>0</td>\n",
       "      <td>경북</td>\n",
       "      <td>...</td>\n",
       "      <td>추돌</td>\n",
       "      <td>안전운전 의무 불이행</td>\n",
       "      <td>교차로</td>\n",
       "      <td>교차로부근</td>\n",
       "      <td>승용차</td>\n",
       "      <td>승용차</td>\n",
       "      <td>1097010.0</td>\n",
       "      <td>1793385.0</td>\n",
       "      <td>128.578152</td>\n",
       "      <td>36.132653</td>\n",
       "    </tr>\n",
       "    <tr>\n",
       "      <th>1</th>\n",
       "      <td>2021</td>\n",
       "      <td>2021-01-01 09:00</td>\n",
       "      <td>주</td>\n",
       "      <td>금</td>\n",
       "      <td>1</td>\n",
       "      <td>0</td>\n",
       "      <td>0</td>\n",
       "      <td>0</td>\n",
       "      <td>0</td>\n",
       "      <td>충남</td>\n",
       "      <td>...</td>\n",
       "      <td>공작물충돌</td>\n",
       "      <td>안전운전 의무 불이행</td>\n",
       "      <td>단일로</td>\n",
       "      <td>기타단일로</td>\n",
       "      <td>승용차</td>\n",
       "      <td>없음</td>\n",
       "      <td>902369.0</td>\n",
       "      <td>1847109.0</td>\n",
       "      <td>126.408201</td>\n",
       "      <td>36.616845</td>\n",
       "    </tr>\n",
       "    <tr>\n",
       "      <th>2</th>\n",
       "      <td>2021</td>\n",
       "      <td>2021-01-01 15:00</td>\n",
       "      <td>주</td>\n",
       "      <td>금</td>\n",
       "      <td>1</td>\n",
       "      <td>0</td>\n",
       "      <td>0</td>\n",
       "      <td>0</td>\n",
       "      <td>0</td>\n",
       "      <td>강원</td>\n",
       "      <td>...</td>\n",
       "      <td>측면충돌</td>\n",
       "      <td>안전운전 의무 불이행</td>\n",
       "      <td>교차로</td>\n",
       "      <td>교차로내</td>\n",
       "      <td>원동기장치자전거</td>\n",
       "      <td>승용차</td>\n",
       "      <td>1123975.0</td>\n",
       "      <td>1974509.0</td>\n",
       "      <td>128.907484</td>\n",
       "      <td>37.761842</td>\n",
       "    </tr>\n",
       "    <tr>\n",
       "      <th>3</th>\n",
       "      <td>2021</td>\n",
       "      <td>2021-01-01 19:00</td>\n",
       "      <td>야</td>\n",
       "      <td>금</td>\n",
       "      <td>1</td>\n",
       "      <td>0</td>\n",
       "      <td>0</td>\n",
       "      <td>0</td>\n",
       "      <td>0</td>\n",
       "      <td>전남</td>\n",
       "      <td>...</td>\n",
       "      <td>횡단중</td>\n",
       "      <td>안전운전 의무 불이행</td>\n",
       "      <td>단일로</td>\n",
       "      <td>기타단일로</td>\n",
       "      <td>화물차</td>\n",
       "      <td>보행자</td>\n",
       "      <td>886507.0</td>\n",
       "      <td>1613961.0</td>\n",
       "      <td>126.263573</td>\n",
       "      <td>34.513391</td>\n",
       "    </tr>\n",
       "    <tr>\n",
       "      <th>4</th>\n",
       "      <td>2021</td>\n",
       "      <td>2021-01-01 21:00</td>\n",
       "      <td>야</td>\n",
       "      <td>금</td>\n",
       "      <td>1</td>\n",
       "      <td>0</td>\n",
       "      <td>0</td>\n",
       "      <td>0</td>\n",
       "      <td>0</td>\n",
       "      <td>경기</td>\n",
       "      <td>...</td>\n",
       "      <td>기타</td>\n",
       "      <td>기타</td>\n",
       "      <td>단일로</td>\n",
       "      <td>기타단일로</td>\n",
       "      <td>승용차</td>\n",
       "      <td>보행자</td>\n",
       "      <td>953522.0</td>\n",
       "      <td>1915403.0</td>\n",
       "      <td>126.976011</td>\n",
       "      <td>37.236327</td>\n",
       "    </tr>\n",
       "    <tr>\n",
       "      <th>...</th>\n",
       "      <td>...</td>\n",
       "      <td>...</td>\n",
       "      <td>...</td>\n",
       "      <td>...</td>\n",
       "      <td>...</td>\n",
       "      <td>...</td>\n",
       "      <td>...</td>\n",
       "      <td>...</td>\n",
       "      <td>...</td>\n",
       "      <td>...</td>\n",
       "      <td>...</td>\n",
       "      <td>...</td>\n",
       "      <td>...</td>\n",
       "      <td>...</td>\n",
       "      <td>...</td>\n",
       "      <td>...</td>\n",
       "      <td>...</td>\n",
       "      <td>...</td>\n",
       "      <td>...</td>\n",
       "      <td>...</td>\n",
       "      <td>...</td>\n",
       "    </tr>\n",
       "    <tr>\n",
       "      <th>2811</th>\n",
       "      <td>2021</td>\n",
       "      <td>2021-12-31 16:00</td>\n",
       "      <td>주</td>\n",
       "      <td>금</td>\n",
       "      <td>1</td>\n",
       "      <td>0</td>\n",
       "      <td>0</td>\n",
       "      <td>0</td>\n",
       "      <td>0</td>\n",
       "      <td>경북</td>\n",
       "      <td>...</td>\n",
       "      <td>정면충돌</td>\n",
       "      <td>안전운전 의무 불이행</td>\n",
       "      <td>교차로</td>\n",
       "      <td>교차로내</td>\n",
       "      <td>승용차</td>\n",
       "      <td>이륜차</td>\n",
       "      <td>1119020.0</td>\n",
       "      <td>1766895.0</td>\n",
       "      <td>128.818730</td>\n",
       "      <td>35.891434</td>\n",
       "    </tr>\n",
       "    <tr>\n",
       "      <th>2812</th>\n",
       "      <td>2021</td>\n",
       "      <td>2021-12-31 17:00</td>\n",
       "      <td>주</td>\n",
       "      <td>금</td>\n",
       "      <td>1</td>\n",
       "      <td>0</td>\n",
       "      <td>0</td>\n",
       "      <td>0</td>\n",
       "      <td>0</td>\n",
       "      <td>제주</td>\n",
       "      <td>...</td>\n",
       "      <td>추돌</td>\n",
       "      <td>안전운전 의무 불이행</td>\n",
       "      <td>단일로</td>\n",
       "      <td>기타단일로</td>\n",
       "      <td>화물차</td>\n",
       "      <td>화물차</td>\n",
       "      <td>940588.0</td>\n",
       "      <td>1503049.6</td>\n",
       "      <td>126.860248</td>\n",
       "      <td>33.517699</td>\n",
       "    </tr>\n",
       "    <tr>\n",
       "      <th>2813</th>\n",
       "      <td>2021</td>\n",
       "      <td>2021-12-31 18:00</td>\n",
       "      <td>야</td>\n",
       "      <td>금</td>\n",
       "      <td>1</td>\n",
       "      <td>0</td>\n",
       "      <td>0</td>\n",
       "      <td>0</td>\n",
       "      <td>0</td>\n",
       "      <td>강원</td>\n",
       "      <td>...</td>\n",
       "      <td>횡단중</td>\n",
       "      <td>보행자 보호의무 위반</td>\n",
       "      <td>단일로</td>\n",
       "      <td>기타단일로</td>\n",
       "      <td>승용차</td>\n",
       "      <td>보행자</td>\n",
       "      <td>1023127.0</td>\n",
       "      <td>1982332.0</td>\n",
       "      <td>127.762845</td>\n",
       "      <td>37.840465</td>\n",
       "    </tr>\n",
       "    <tr>\n",
       "      <th>2814</th>\n",
       "      <td>2021</td>\n",
       "      <td>2021-12-31 19:00</td>\n",
       "      <td>야</td>\n",
       "      <td>금</td>\n",
       "      <td>1</td>\n",
       "      <td>0</td>\n",
       "      <td>0</td>\n",
       "      <td>0</td>\n",
       "      <td>0</td>\n",
       "      <td>경북</td>\n",
       "      <td>...</td>\n",
       "      <td>횡단중</td>\n",
       "      <td>보행자 보호의무 위반</td>\n",
       "      <td>교차로</td>\n",
       "      <td>교차로횡단보도내</td>\n",
       "      <td>승용차</td>\n",
       "      <td>보행자</td>\n",
       "      <td>1058805.0</td>\n",
       "      <td>1824755.0</td>\n",
       "      <td>128.155943</td>\n",
       "      <td>36.418521</td>\n",
       "    </tr>\n",
       "    <tr>\n",
       "      <th>2815</th>\n",
       "      <td>2021</td>\n",
       "      <td>2021-12-31 21:00</td>\n",
       "      <td>야</td>\n",
       "      <td>금</td>\n",
       "      <td>1</td>\n",
       "      <td>0</td>\n",
       "      <td>0</td>\n",
       "      <td>0</td>\n",
       "      <td>0</td>\n",
       "      <td>강원</td>\n",
       "      <td>...</td>\n",
       "      <td>전복</td>\n",
       "      <td>중앙선 침범</td>\n",
       "      <td>단일로</td>\n",
       "      <td>기타단일로</td>\n",
       "      <td>승용차</td>\n",
       "      <td>없음</td>\n",
       "      <td>1042559.0</td>\n",
       "      <td>2010975.0</td>\n",
       "      <td>127.985386</td>\n",
       "      <td>38.097913</td>\n",
       "    </tr>\n",
       "  </tbody>\n",
       "</table>\n",
       "<p>2816 rows × 23 columns</p>\n",
       "</div>"
      ],
      "text/plain": [
       "       발생년            발생년월일시 주야 요일  사망자수  부상자수  중상자수  경상자수  부상신고자수 발생지시도  ...  \\\n",
       "0     2021  2021-01-01 03:00  야  금     1     3     0     3       0    경북  ...   \n",
       "1     2021  2021-01-01 09:00  주  금     1     0     0     0       0    충남  ...   \n",
       "2     2021  2021-01-01 15:00  주  금     1     0     0     0       0    강원  ...   \n",
       "3     2021  2021-01-01 19:00  야  금     1     0     0     0       0    전남  ...   \n",
       "4     2021  2021-01-01 21:00  야  금     1     0     0     0       0    경기  ...   \n",
       "...    ...               ... .. ..   ...   ...   ...   ...     ...   ...  ...   \n",
       "2811  2021  2021-12-31 16:00  주  금     1     0     0     0       0    경북  ...   \n",
       "2812  2021  2021-12-31 17:00  주  금     1     0     0     0       0    제주  ...   \n",
       "2813  2021  2021-12-31 18:00  야  금     1     0     0     0       0    강원  ...   \n",
       "2814  2021  2021-12-31 19:00  야  금     1     0     0     0       0    경북  ...   \n",
       "2815  2021  2021-12-31 21:00  야  금     1     0     0     0       0    강원  ...   \n",
       "\n",
       "       사고유형      가해자법규위반 도로형태_대분류      도로형태 가해자_당사자종별 피해자_당사자종별 발생위치X(UTMK)  \\\n",
       "0        추돌  안전운전 의무 불이행      교차로     교차로부근       승용차       승용차   1097010.0   \n",
       "1     공작물충돌  안전운전 의무 불이행      단일로     기타단일로       승용차        없음    902369.0   \n",
       "2      측면충돌  안전운전 의무 불이행      교차로      교차로내  원동기장치자전거       승용차   1123975.0   \n",
       "3       횡단중  안전운전 의무 불이행      단일로     기타단일로       화물차       보행자    886507.0   \n",
       "4        기타           기타      단일로     기타단일로       승용차       보행자    953522.0   \n",
       "...     ...          ...      ...       ...       ...       ...         ...   \n",
       "2811   정면충돌  안전운전 의무 불이행      교차로      교차로내       승용차       이륜차   1119020.0   \n",
       "2812     추돌  안전운전 의무 불이행      단일로     기타단일로       화물차       화물차    940588.0   \n",
       "2813    횡단중  보행자 보호의무 위반      단일로     기타단일로       승용차       보행자   1023127.0   \n",
       "2814    횡단중  보행자 보호의무 위반      교차로  교차로횡단보도내       승용차       보행자   1058805.0   \n",
       "2815     전복       중앙선 침범      단일로     기타단일로       승용차        없음   1042559.0   \n",
       "\n",
       "     발생위치Y(UTMK)          경도         위도  \n",
       "0      1793385.0  128.578152  36.132653  \n",
       "1      1847109.0  126.408201  36.616845  \n",
       "2      1974509.0  128.907484  37.761842  \n",
       "3      1613961.0  126.263573  34.513391  \n",
       "4      1915403.0  126.976011  37.236327  \n",
       "...          ...         ...        ...  \n",
       "2811   1766895.0  128.818730  35.891434  \n",
       "2812   1503049.6  126.860248  33.517699  \n",
       "2813   1982332.0  127.762845  37.840465  \n",
       "2814   1824755.0  128.155943  36.418521  \n",
       "2815   2010975.0  127.985386  38.097913  \n",
       "\n",
       "[2816 rows x 23 columns]"
      ]
     },
     "execution_count": 76,
     "metadata": {},
     "output_type": "execute_result"
    }
   ],
   "source": [
    "df_accident = pd.read_csv('data/도로교통공단_사망 교통사고 정보_20211231_utf8.csv')\n",
    "df_accident"
   ]
  },
  {
   "cell_type": "code",
   "execution_count": 77,
   "id": "f5c9ef36",
   "metadata": {
    "collapsed": true
   },
   "outputs": [
    {
     "data": {
      "text/html": [
       "<div>\n",
       "<style scoped>\n",
       "    .dataframe tbody tr th:only-of-type {\n",
       "        vertical-align: middle;\n",
       "    }\n",
       "\n",
       "    .dataframe tbody tr th {\n",
       "        vertical-align: top;\n",
       "    }\n",
       "\n",
       "    .dataframe thead th {\n",
       "        text-align: right;\n",
       "    }\n",
       "</style>\n",
       "<table border=\"1\" class=\"dataframe\">\n",
       "  <thead>\n",
       "    <tr style=\"text-align: right;\">\n",
       "      <th></th>\n",
       "      <th>발생년</th>\n",
       "      <th>발생년월일시</th>\n",
       "      <th>주야</th>\n",
       "      <th>요일</th>\n",
       "      <th>사망자수</th>\n",
       "      <th>부상자수</th>\n",
       "      <th>중상자수</th>\n",
       "      <th>경상자수</th>\n",
       "      <th>부상신고자수</th>\n",
       "      <th>발생지시도</th>\n",
       "      <th>...</th>\n",
       "      <th>도로형태_대분류</th>\n",
       "      <th>도로형태</th>\n",
       "      <th>가해자_당사자종별</th>\n",
       "      <th>피해자_당사자종별</th>\n",
       "      <th>발생위치X(UTMK)</th>\n",
       "      <th>발생위치Y(UTMK)</th>\n",
       "      <th>경도</th>\n",
       "      <th>위도</th>\n",
       "      <th>시</th>\n",
       "      <th>월</th>\n",
       "    </tr>\n",
       "  </thead>\n",
       "  <tbody>\n",
       "    <tr>\n",
       "      <th>0</th>\n",
       "      <td>2021</td>\n",
       "      <td>2021-01-01 03:00:00</td>\n",
       "      <td>야</td>\n",
       "      <td>금</td>\n",
       "      <td>1</td>\n",
       "      <td>3</td>\n",
       "      <td>0</td>\n",
       "      <td>3</td>\n",
       "      <td>0</td>\n",
       "      <td>경북</td>\n",
       "      <td>...</td>\n",
       "      <td>교차로</td>\n",
       "      <td>교차로부근</td>\n",
       "      <td>승용차</td>\n",
       "      <td>승용차</td>\n",
       "      <td>1097010.0</td>\n",
       "      <td>1793385.0</td>\n",
       "      <td>128.578152</td>\n",
       "      <td>36.132653</td>\n",
       "      <td>3</td>\n",
       "      <td>1</td>\n",
       "    </tr>\n",
       "    <tr>\n",
       "      <th>1</th>\n",
       "      <td>2021</td>\n",
       "      <td>2021-01-01 09:00:00</td>\n",
       "      <td>주</td>\n",
       "      <td>금</td>\n",
       "      <td>1</td>\n",
       "      <td>0</td>\n",
       "      <td>0</td>\n",
       "      <td>0</td>\n",
       "      <td>0</td>\n",
       "      <td>충남</td>\n",
       "      <td>...</td>\n",
       "      <td>단일로</td>\n",
       "      <td>기타단일로</td>\n",
       "      <td>승용차</td>\n",
       "      <td>없음</td>\n",
       "      <td>902369.0</td>\n",
       "      <td>1847109.0</td>\n",
       "      <td>126.408201</td>\n",
       "      <td>36.616845</td>\n",
       "      <td>9</td>\n",
       "      <td>1</td>\n",
       "    </tr>\n",
       "    <tr>\n",
       "      <th>2</th>\n",
       "      <td>2021</td>\n",
       "      <td>2021-01-01 15:00:00</td>\n",
       "      <td>주</td>\n",
       "      <td>금</td>\n",
       "      <td>1</td>\n",
       "      <td>0</td>\n",
       "      <td>0</td>\n",
       "      <td>0</td>\n",
       "      <td>0</td>\n",
       "      <td>강원</td>\n",
       "      <td>...</td>\n",
       "      <td>교차로</td>\n",
       "      <td>교차로내</td>\n",
       "      <td>원동기장치자전거</td>\n",
       "      <td>승용차</td>\n",
       "      <td>1123975.0</td>\n",
       "      <td>1974509.0</td>\n",
       "      <td>128.907484</td>\n",
       "      <td>37.761842</td>\n",
       "      <td>15</td>\n",
       "      <td>1</td>\n",
       "    </tr>\n",
       "    <tr>\n",
       "      <th>3</th>\n",
       "      <td>2021</td>\n",
       "      <td>2021-01-01 19:00:00</td>\n",
       "      <td>야</td>\n",
       "      <td>금</td>\n",
       "      <td>1</td>\n",
       "      <td>0</td>\n",
       "      <td>0</td>\n",
       "      <td>0</td>\n",
       "      <td>0</td>\n",
       "      <td>전남</td>\n",
       "      <td>...</td>\n",
       "      <td>단일로</td>\n",
       "      <td>기타단일로</td>\n",
       "      <td>화물차</td>\n",
       "      <td>보행자</td>\n",
       "      <td>886507.0</td>\n",
       "      <td>1613961.0</td>\n",
       "      <td>126.263573</td>\n",
       "      <td>34.513391</td>\n",
       "      <td>19</td>\n",
       "      <td>1</td>\n",
       "    </tr>\n",
       "    <tr>\n",
       "      <th>4</th>\n",
       "      <td>2021</td>\n",
       "      <td>2021-01-01 21:00:00</td>\n",
       "      <td>야</td>\n",
       "      <td>금</td>\n",
       "      <td>1</td>\n",
       "      <td>0</td>\n",
       "      <td>0</td>\n",
       "      <td>0</td>\n",
       "      <td>0</td>\n",
       "      <td>경기</td>\n",
       "      <td>...</td>\n",
       "      <td>단일로</td>\n",
       "      <td>기타단일로</td>\n",
       "      <td>승용차</td>\n",
       "      <td>보행자</td>\n",
       "      <td>953522.0</td>\n",
       "      <td>1915403.0</td>\n",
       "      <td>126.976011</td>\n",
       "      <td>37.236327</td>\n",
       "      <td>21</td>\n",
       "      <td>1</td>\n",
       "    </tr>\n",
       "    <tr>\n",
       "      <th>...</th>\n",
       "      <td>...</td>\n",
       "      <td>...</td>\n",
       "      <td>...</td>\n",
       "      <td>...</td>\n",
       "      <td>...</td>\n",
       "      <td>...</td>\n",
       "      <td>...</td>\n",
       "      <td>...</td>\n",
       "      <td>...</td>\n",
       "      <td>...</td>\n",
       "      <td>...</td>\n",
       "      <td>...</td>\n",
       "      <td>...</td>\n",
       "      <td>...</td>\n",
       "      <td>...</td>\n",
       "      <td>...</td>\n",
       "      <td>...</td>\n",
       "      <td>...</td>\n",
       "      <td>...</td>\n",
       "      <td>...</td>\n",
       "      <td>...</td>\n",
       "    </tr>\n",
       "    <tr>\n",
       "      <th>2811</th>\n",
       "      <td>2021</td>\n",
       "      <td>2021-12-31 16:00:00</td>\n",
       "      <td>주</td>\n",
       "      <td>금</td>\n",
       "      <td>1</td>\n",
       "      <td>0</td>\n",
       "      <td>0</td>\n",
       "      <td>0</td>\n",
       "      <td>0</td>\n",
       "      <td>경북</td>\n",
       "      <td>...</td>\n",
       "      <td>교차로</td>\n",
       "      <td>교차로내</td>\n",
       "      <td>승용차</td>\n",
       "      <td>이륜차</td>\n",
       "      <td>1119020.0</td>\n",
       "      <td>1766895.0</td>\n",
       "      <td>128.818730</td>\n",
       "      <td>35.891434</td>\n",
       "      <td>16</td>\n",
       "      <td>12</td>\n",
       "    </tr>\n",
       "    <tr>\n",
       "      <th>2812</th>\n",
       "      <td>2021</td>\n",
       "      <td>2021-12-31 17:00:00</td>\n",
       "      <td>주</td>\n",
       "      <td>금</td>\n",
       "      <td>1</td>\n",
       "      <td>0</td>\n",
       "      <td>0</td>\n",
       "      <td>0</td>\n",
       "      <td>0</td>\n",
       "      <td>제주</td>\n",
       "      <td>...</td>\n",
       "      <td>단일로</td>\n",
       "      <td>기타단일로</td>\n",
       "      <td>화물차</td>\n",
       "      <td>화물차</td>\n",
       "      <td>940588.0</td>\n",
       "      <td>1503049.6</td>\n",
       "      <td>126.860248</td>\n",
       "      <td>33.517699</td>\n",
       "      <td>17</td>\n",
       "      <td>12</td>\n",
       "    </tr>\n",
       "    <tr>\n",
       "      <th>2813</th>\n",
       "      <td>2021</td>\n",
       "      <td>2021-12-31 18:00:00</td>\n",
       "      <td>야</td>\n",
       "      <td>금</td>\n",
       "      <td>1</td>\n",
       "      <td>0</td>\n",
       "      <td>0</td>\n",
       "      <td>0</td>\n",
       "      <td>0</td>\n",
       "      <td>강원</td>\n",
       "      <td>...</td>\n",
       "      <td>단일로</td>\n",
       "      <td>기타단일로</td>\n",
       "      <td>승용차</td>\n",
       "      <td>보행자</td>\n",
       "      <td>1023127.0</td>\n",
       "      <td>1982332.0</td>\n",
       "      <td>127.762845</td>\n",
       "      <td>37.840465</td>\n",
       "      <td>18</td>\n",
       "      <td>12</td>\n",
       "    </tr>\n",
       "    <tr>\n",
       "      <th>2814</th>\n",
       "      <td>2021</td>\n",
       "      <td>2021-12-31 19:00:00</td>\n",
       "      <td>야</td>\n",
       "      <td>금</td>\n",
       "      <td>1</td>\n",
       "      <td>0</td>\n",
       "      <td>0</td>\n",
       "      <td>0</td>\n",
       "      <td>0</td>\n",
       "      <td>경북</td>\n",
       "      <td>...</td>\n",
       "      <td>교차로</td>\n",
       "      <td>교차로횡단보도내</td>\n",
       "      <td>승용차</td>\n",
       "      <td>보행자</td>\n",
       "      <td>1058805.0</td>\n",
       "      <td>1824755.0</td>\n",
       "      <td>128.155943</td>\n",
       "      <td>36.418521</td>\n",
       "      <td>19</td>\n",
       "      <td>12</td>\n",
       "    </tr>\n",
       "    <tr>\n",
       "      <th>2815</th>\n",
       "      <td>2021</td>\n",
       "      <td>2021-12-31 21:00:00</td>\n",
       "      <td>야</td>\n",
       "      <td>금</td>\n",
       "      <td>1</td>\n",
       "      <td>0</td>\n",
       "      <td>0</td>\n",
       "      <td>0</td>\n",
       "      <td>0</td>\n",
       "      <td>강원</td>\n",
       "      <td>...</td>\n",
       "      <td>단일로</td>\n",
       "      <td>기타단일로</td>\n",
       "      <td>승용차</td>\n",
       "      <td>없음</td>\n",
       "      <td>1042559.0</td>\n",
       "      <td>2010975.0</td>\n",
       "      <td>127.985386</td>\n",
       "      <td>38.097913</td>\n",
       "      <td>21</td>\n",
       "      <td>12</td>\n",
       "    </tr>\n",
       "  </tbody>\n",
       "</table>\n",
       "<p>2816 rows × 25 columns</p>\n",
       "</div>"
      ],
      "text/plain": [
       "       발생년              발생년월일시 주야 요일  사망자수  부상자수  중상자수  경상자수  부상신고자수 발생지시도  \\\n",
       "0     2021 2021-01-01 03:00:00  야  금     1     3     0     3       0    경북   \n",
       "1     2021 2021-01-01 09:00:00  주  금     1     0     0     0       0    충남   \n",
       "2     2021 2021-01-01 15:00:00  주  금     1     0     0     0       0    강원   \n",
       "3     2021 2021-01-01 19:00:00  야  금     1     0     0     0       0    전남   \n",
       "4     2021 2021-01-01 21:00:00  야  금     1     0     0     0       0    경기   \n",
       "...    ...                 ... .. ..   ...   ...   ...   ...     ...   ...   \n",
       "2811  2021 2021-12-31 16:00:00  주  금     1     0     0     0       0    경북   \n",
       "2812  2021 2021-12-31 17:00:00  주  금     1     0     0     0       0    제주   \n",
       "2813  2021 2021-12-31 18:00:00  야  금     1     0     0     0       0    강원   \n",
       "2814  2021 2021-12-31 19:00:00  야  금     1     0     0     0       0    경북   \n",
       "2815  2021 2021-12-31 21:00:00  야  금     1     0     0     0       0    강원   \n",
       "\n",
       "      ... 도로형태_대분류      도로형태 가해자_당사자종별 피해자_당사자종별 발생위치X(UTMK) 발생위치Y(UTMK)  \\\n",
       "0     ...      교차로     교차로부근       승용차       승용차   1097010.0   1793385.0   \n",
       "1     ...      단일로     기타단일로       승용차        없음    902369.0   1847109.0   \n",
       "2     ...      교차로      교차로내  원동기장치자전거       승용차   1123975.0   1974509.0   \n",
       "3     ...      단일로     기타단일로       화물차       보행자    886507.0   1613961.0   \n",
       "4     ...      단일로     기타단일로       승용차       보행자    953522.0   1915403.0   \n",
       "...   ...      ...       ...       ...       ...         ...         ...   \n",
       "2811  ...      교차로      교차로내       승용차       이륜차   1119020.0   1766895.0   \n",
       "2812  ...      단일로     기타단일로       화물차       화물차    940588.0   1503049.6   \n",
       "2813  ...      단일로     기타단일로       승용차       보행자   1023127.0   1982332.0   \n",
       "2814  ...      교차로  교차로횡단보도내       승용차       보행자   1058805.0   1824755.0   \n",
       "2815  ...      단일로     기타단일로       승용차        없음   1042559.0   2010975.0   \n",
       "\n",
       "              경도         위도   시   월  \n",
       "0     128.578152  36.132653   3   1  \n",
       "1     126.408201  36.616845   9   1  \n",
       "2     128.907484  37.761842  15   1  \n",
       "3     126.263573  34.513391  19   1  \n",
       "4     126.976011  37.236327  21   1  \n",
       "...          ...        ...  ..  ..  \n",
       "2811  128.818730  35.891434  16  12  \n",
       "2812  126.860248  33.517699  17  12  \n",
       "2813  127.762845  37.840465  18  12  \n",
       "2814  128.155943  36.418521  19  12  \n",
       "2815  127.985386  38.097913  21  12  \n",
       "\n",
       "[2816 rows x 25 columns]"
      ]
     },
     "execution_count": 77,
     "metadata": {},
     "output_type": "execute_result"
    }
   ],
   "source": [
    "df_accident['발생년월일시'] = pd.to_datetime(df_accident['발생년월일시'])\n",
    "df_accident['시'] = df_accident['발생년월일시'].dt.hour\n",
    "df_accident['월'] = df_accident['발생년월일시'].dt.month\n",
    "df_accident"
   ]
  },
  {
   "cell_type": "code",
   "execution_count": 80,
   "id": "3cf0f2a4",
   "metadata": {},
   "outputs": [
    {
     "data": {
      "text/plain": [
       "74"
      ]
     },
     "execution_count": 80,
     "metadata": {},
     "output_type": "execute_result"
    }
   ],
   "source": [
    "cond_month = df_accident['월'].between(7,8)\n",
    "cond_hour = df_accident['시'].between(1,5)\n",
    "df_accident[cond_hour & cond_month].shape[0]"
   ]
  },
  {
   "cell_type": "code",
   "execution_count": null,
   "id": "e77d5b4f",
   "metadata": {},
   "outputs": [],
   "source": []
  },
  {
   "cell_type": "code",
   "execution_count": 84,
   "id": "b0e98959",
   "metadata": {},
   "outputs": [
    {
     "data": {
      "text/plain": [
       "74.0"
      ]
     },
     "execution_count": 84,
     "metadata": {},
     "output_type": "execute_result"
    }
   ],
   "source": [
    "pt = df_accident.pivot_table(values='사망자수', index='월', columns='시', aggfunc='size')\n",
    "pt.loc[7:8, 1:5].sum().sum()"
   ]
  },
  {
   "cell_type": "code",
   "execution_count": 86,
   "id": "88fd0c22",
   "metadata": {},
   "outputs": [
    {
     "data": {
      "text/plain": [
       "<Axes: xlabel='시', ylabel='월'>"
      ]
     },
     "execution_count": 86,
     "metadata": {},
     "output_type": "execute_result"
    },
    {
     "data": {
      "image/png": "[encoded data removed]",
      "text/plain": [
       "<Figure size 640x480 with 2 Axes>"
      ]
     },
     "metadata": {},
     "output_type": "display_data"
    }
   ],
   "source": [
    "sns.heatmap(pt, cmap=\"YlGnBu\", annot=True)"
   ]
  },
  {
   "cell_type": "code",
   "execution_count": 87,
   "id": "43f4e1fa",
   "metadata": {},
   "outputs": [
    {
     "data": {
      "text/plain": [
       "Index(['발생년', '발생년월일시', '주야', '요일', '사망자수', '부상자수', '중상자수', '경상자수', '부상신고자수',\n",
       "       '발생지시도', '발생지시군구', '사고유형_대분류', '사고유형_중분류', '사고유형', '가해자법규위반',\n",
       "       '도로형태_대분류', '도로형태', '가해자_당사자종별', '피해자_당사자종별', '발생위치X(UTMK)',\n",
       "       '발생위치Y(UTMK)', '경도', '위도', '시', '월'],\n",
       "      dtype='object')"
      ]
     },
     "execution_count": 87,
     "metadata": {},
     "output_type": "execute_result"
    }
   ],
   "source": [
    "df_accident.columns"
   ]
  },
  {
   "cell_type": "code",
   "execution_count": 89,
   "id": "c34e2e41",
   "metadata": {
    "scrolled": false
   },
   "outputs": [
    {
     "name": "stdout",
     "output_type": "stream",
     "text": [
      "사망자수\n"
     ]
    },
    {
     "data": {
      "image/png": "[encoded data removed]",
      "text/plain": [
       "<Figure size 640x480 with 2 Axes>"
      ]
     },
     "metadata": {},
     "output_type": "display_data"
    },
    {
     "name": "stdout",
     "output_type": "stream",
     "text": [
      "부상자수\n"
     ]
    },
    {
     "data": {
      "image/png": "[encoded data removed]",
      "text/plain": [
       "<Figure size 640x480 with 2 Axes>"
      ]
     },
     "metadata": {},
     "output_type": "display_data"
    },
    {
     "name": "stdout",
     "output_type": "stream",
     "text": [
      "중상자수\n"
     ]
    },
    {
     "data": {
      "image/png": "[encoded data removed]",
      "text/plain": [
       "<Figure size 640x480 with 2 Axes>"
      ]
     },
     "metadata": {},
     "output_type": "display_data"
    },
    {
     "name": "stdout",
     "output_type": "stream",
     "text": [
      "경상자수\n"
     ]
    },
    {
     "data": {
      "image/png": "[encoded data removed]",
      "text/plain": [
       "<Figure size 640x480 with 2 Axes>"
      ]
     },
     "metadata": {},
     "output_type": "display_data"
    }
   ],
   "source": [
    "for val in ['사망자수', '부상자수', '중상자수', '경상자수']:\n",
    "    print(val)\n",
    "    pt = df_accident.pivot_table(values=val, index='월', columns='시', aggfunc='sum')\n",
    "    sns.heatmap(pt, cmap=\"YlGnBu\", annot=True)\n",
    "    plt.show()"
   ]
  },
  {
   "cell_type": "markdown",
   "id": "5ddc2689",
   "metadata": {},
   "source": [
    "#### End of script"
   ]
  }
 ],
 "metadata": {
  "kernelspec": {
   "display_name": "Python 3 (ipykernel)",
   "language": "python",
   "name": "python3"
  },
  "language_info": {
   "codemirror_mode": {
    "name": "ipython",
    "version": 3
   },
   "file_extension": ".py",
   "mimetype": "text/x-python",
   "name": "python",
   "nbconvert_exporter": "python",
   "pygments_lexer": "ipython3",
   "version": "3.10.9"
  }
 },
 "nbformat": 4,
 "nbformat_minor": 5
}
