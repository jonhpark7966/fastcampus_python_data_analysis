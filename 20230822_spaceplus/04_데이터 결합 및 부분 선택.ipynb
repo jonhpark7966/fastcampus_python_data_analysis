{
 "cells": [
  {
   "cell_type": "markdown",
   "metadata": {},
   "source": [
    "# 데이터 결합 및 부분 선택\n",
    "\n",
    "### 주요 내용\n",
    "\n",
    "1. 데이터 결합\n",
    "2. index, columns을 활용한 부분 선택 \n",
    "3. 조건을 활용한 관측치 선택\n",
    "\n",
    "<br>\n",
    "\n",
    "### 목표 \n",
    "1. 복수의 데이터를 적절한 방법으로 결합할 수 있다.\n",
    "2. 변수 이름 등을 활용하여 부분 데이터를 선택한다.\n",
    "3. 주제에 맞게 조건을 활용하여 부분 관측치를 선택한다. \n",
    "\n",
    "\n",
    "<br>\n",
    "<hr>\n",
    "<br>"
   ]
  },
  {
   "cell_type": "markdown",
   "metadata": {},
   "source": [
    "## 1. DataFrame 형식의 활용\n",
    "\n",
    "pandas는 데이터를 저장하는 형식 **DataFrame**을 중심으로 구성되어 있음  \n",
    "pandas의 다양한 함수를 활용해서 데이터를 불러오거나 저장할 수 있고, 분석 과정에서 필요한 전처리나 집계 작업도 가능\n"
   ]
  },
  {
   "cell_type": "code",
   "execution_count": null,
   "metadata": {},
   "outputs": [],
   "source": [
    "# 라이브러리 불러오기\n",
    "import pandas as pd"
   ]
  },
  {
   "cell_type": "markdown",
   "metadata": {},
   "source": [
    "<br>\n",
    "\n",
    "DataFrame에서 각각의 열, 변수가 하나의 Series로 저장되어 있음  \n",
    "Series의 메서드와 DataFrame의 메서드 구분 필요  \n",
    "\n",
    "만약 직접 DataFrame을 만들어야 할 때는 *DataFrame( )* 과 딕셔너리를 활용"
   ]
  },
  {
   "cell_type": "code",
   "execution_count": null,
   "metadata": {
    "scrolled": true
   },
   "outputs": [],
   "source": [
    "# 딕셔너리를 활용한 DataFrame 생성\n",
    "df_own = pd.DataFrame(\n",
    "    {'FIRST' : ['A', 'B', 'C', 'D'],\n",
    "     'SECOND': [7,6,5,8], \n",
    "     'THIRD' : pd.date_range('2022-12-05', periods=4, freq='W-TUE')}\n",
    ") # freq='W-MON' : 매주 월요일\n",
    "df_own"
   ]
  },
  {
   "cell_type": "markdown",
   "metadata": {},
   "source": [
    "<br>\n",
    "<hr>\n",
    "<br>\n",
    "\n",
    "## 2. 데이터 결합\n",
    "\n",
    "### 2.1. concat( )을 활용한 동일 구조 데이터 행 결합\n",
    "\n",
    "구조는 똑같고 기간이나 상품만 다른 여러 데이터가 있으면 pandas의 *concat()* 으로 결합해서 활용  \n",
    "함수 안에서 `axis=0`옵션을 활용해서 행 결합(아래로 이어 붙이기)을 할 수 있고, `axis=1`로 열 결합도 가능  \n",
    "`axis=0`이 기본값며 생략 가능"
   ]
  },
  {
   "cell_type": "code",
   "execution_count": null,
   "metadata": {
    "scrolled": true
   },
   "outputs": [],
   "source": [
    "# 행 결합\n",
    "    ## 출처 : 국토교통부 실거래가(http://rtdown.molit.go.kr/)\n",
    "df_apt1 = pd.read_csv('data/아파트(매매)__실거래가_20210902153616.csv', skiprows=15, encoding='CP949')\n",
    "df_apt1"
   ]
  },
  {
   "cell_type": "code",
   "execution_count": null,
   "metadata": {},
   "outputs": [],
   "source": [
    "df_apt2 = pd.read_csv('data/아파트(매매)__실거래가_20210902153636.csv', skiprows=15, encoding='CP949')\n",
    "df_apt2"
   ]
  },
  {
   "cell_type": "code",
   "execution_count": null,
   "metadata": {},
   "outputs": [],
   "source": [
    "df_apt3 = pd.read_csv('data/아파트(매매)__실거래가_20210902153655.csv', skiprows=15, encoding='CP949')\n",
    "df_apt3"
   ]
  },
  {
   "cell_type": "code",
   "execution_count": null,
   "metadata": {
    "scrolled": false
   },
   "outputs": [],
   "source": [
    "df_apt = pd.concat([df_apt1, df_apt2, df_apt3])\n",
    "df_apt"
   ]
  },
  {
   "cell_type": "markdown",
   "metadata": {},
   "source": [
    "<br>\n",
    "\n",
    "> **DataFrame**에서 행 번호에 해당하는 **index**는 중요한 역할을 합니다.  \n",
    "예를 들어 아래처럼 index를 확인할 수 있고, 특정 index를 지정해서 관측치를 선택하는 것도 가능합니다. "
   ]
  },
  {
   "cell_type": "code",
   "execution_count": null,
   "metadata": {},
   "outputs": [],
   "source": [
    "df_apt.index"
   ]
  },
  {
   "cell_type": "code",
   "execution_count": null,
   "metadata": {},
   "outputs": [],
   "source": [
    "# index 0 관측치 선택\n",
    "df_apt.loc[0]"
   ]
  },
  {
   "cell_type": "markdown",
   "metadata": {},
   "source": [
    "결합 이전 기존 Index 활용으로 **0** 인덱스 관측치의 중복 발생  \n",
    "행 결합이나 정렬 이후 인덱스를 재지정하거나 초기화 필요 "
   ]
  },
  {
   "cell_type": "code",
   "execution_count": null,
   "metadata": {},
   "outputs": [],
   "source": [
    "# reset_index()을 활용한 index 초기화\n",
    "    ## drop=True: 기존 인덱스를 변수로 추가할 지 버릴지 선택\n",
    "df_apt = df_apt.reset_index(drop=True)\n",
    "df_apt"
   ]
  },
  {
   "cell_type": "code",
   "execution_count": null,
   "metadata": {},
   "outputs": [],
   "source": [
    "# index 0 관측치 재선택\n",
    "df_apt.loc[0]"
   ]
  },
  {
   "cell_type": "code",
   "execution_count": null,
   "metadata": {},
   "outputs": [],
   "source": []
  },
  {
   "cell_type": "markdown",
   "metadata": {},
   "source": [
    "#### [실습]  데이터 결합 및 인덱스 초기화\n",
    "\n",
    "출처 : [서울시 지하철 호선별 역별 승하차 인원수](http://data.seoul.go.kr/dataList/OA-12914/S/1/datasetView.do)\n",
    "\n",
    "1. `data`폴더의 `CARD_SUBWAY_MONTH_`로 시작하는 3개 데이터 확인하기  \n",
    "    \n",
    "\n",
    "\n",
    "2. 1.의 데이터를 각각 불러와서 저장하고, pd.concat()으로 행 결합하기(encoding='CP949' 활용)\n",
    "\n",
    "\n",
    "3. index 초기화 하기\n",
    "\n"
   ]
  },
  {
   "cell_type": "code",
   "execution_count": null,
   "metadata": {},
   "outputs": [],
   "source": [
    "df_2019 = pd.read_csv(\"./data/CARD_SUBWAY_MONTH_201907.csv\", encoding=\"cp949\")\n",
    "df_2020 = pd.read_csv(\"./data/CARD_SUBWAY_MONTH_202007.csv\", encoding=\"cp949\")\n",
    "df_2021 = pd.read_csv(\"./data/CARD_SUBWAY_MONTH_202107.csv\", encoding=\"cp949\")"
   ]
  },
  {
   "cell_type": "code",
   "execution_count": null,
   "metadata": {},
   "outputs": [],
   "source": [
    "pd.concat([df_2019, df_2020, df_2021]).reset_index(drop=True)"
   ]
  },
  {
   "cell_type": "code",
   "execution_count": null,
   "metadata": {},
   "outputs": [],
   "source": []
  },
  {
   "cell_type": "code",
   "execution_count": null,
   "metadata": {},
   "outputs": [],
   "source": []
  },
  {
   "cell_type": "markdown",
   "metadata": {},
   "source": [
    "#### [참고] glob과 for 반복문을 활용한 복수 데이터 처리\n",
    "\n",
    "**glob** 라이브러리의 *glob()* 을 활용하면 복수의 데이터 경로를 손쉽게 처리 가능"
   ]
  },
  {
   "cell_type": "code",
   "execution_count": null,
   "metadata": {},
   "outputs": [],
   "source": [
    "# 대상 파일 목록 생성\n",
    "from glob import glob\n",
    "file_list  = glob('data/apt/*.csv')\n",
    "file_list"
   ]
  },
  {
   "cell_type": "code",
   "execution_count": null,
   "metadata": {},
   "outputs": [],
   "source": [
    "# for를 활용한 반복\n",
    "a = list()\n",
    "for path_ in file_list:\n",
    "    a.append(pd.read_csv(path_, skiprows=15, encoding='CP949'))\n",
    "a"
   ]
  },
  {
   "cell_type": "code",
   "execution_count": null,
   "metadata": {},
   "outputs": [],
   "source": [
    "# 최종 작업\n",
    "df_apt = pd.concat(a, axis=0).reset_index(drop=True)\n",
    "df_apt"
   ]
  },
  {
   "cell_type": "code",
   "execution_count": null,
   "metadata": {},
   "outputs": [],
   "source": []
  },
  {
   "cell_type": "code",
   "execution_count": 24,
   "metadata": {},
   "outputs": [
    {
     "data": {
      "text/html": [
       "<div>\n",
       "<style scoped>\n",
       "    .dataframe tbody tr th:only-of-type {\n",
       "        vertical-align: middle;\n",
       "    }\n",
       "\n",
       "    .dataframe tbody tr th {\n",
       "        vertical-align: top;\n",
       "    }\n",
       "\n",
       "    .dataframe thead th {\n",
       "        text-align: right;\n",
       "    }\n",
       "</style>\n",
       "<table border=\"1\" class=\"dataframe\">\n",
       "  <thead>\n",
       "    <tr style=\"text-align: right;\">\n",
       "      <th></th>\n",
       "      <th>시군구</th>\n",
       "      <th>번지</th>\n",
       "      <th>본번</th>\n",
       "      <th>부번</th>\n",
       "      <th>단지명</th>\n",
       "      <th>전용면적(㎡)</th>\n",
       "      <th>계약년월</th>\n",
       "      <th>계약일</th>\n",
       "      <th>거래금액(만원)</th>\n",
       "      <th>층</th>\n",
       "      <th>건축년도</th>\n",
       "      <th>도로명</th>\n",
       "      <th>해제사유발생일</th>\n",
       "      <th>거래유형</th>\n",
       "      <th>중개사소재지</th>\n",
       "    </tr>\n",
       "  </thead>\n",
       "  <tbody>\n",
       "    <tr>\n",
       "      <th>0</th>\n",
       "      <td>서울특별시 강남구 개포동</td>\n",
       "      <td>12</td>\n",
       "      <td>12</td>\n",
       "      <td>0</td>\n",
       "      <td>삼익대청아파트</td>\n",
       "      <td>39.53</td>\n",
       "      <td>202208</td>\n",
       "      <td>8</td>\n",
       "      <td>119,000</td>\n",
       "      <td>12</td>\n",
       "      <td>1992</td>\n",
       "      <td>개포로109길 21</td>\n",
       "      <td>NaN</td>\n",
       "      <td>중개거래</td>\n",
       "      <td>서울 강남구</td>\n",
       "    </tr>\n",
       "    <tr>\n",
       "      <th>1</th>\n",
       "      <td>서울특별시 강남구 개포동</td>\n",
       "      <td>12</td>\n",
       "      <td>12</td>\n",
       "      <td>0</td>\n",
       "      <td>성원대치2단지아파트</td>\n",
       "      <td>49.86</td>\n",
       "      <td>202208</td>\n",
       "      <td>10</td>\n",
       "      <td>133,000</td>\n",
       "      <td>1</td>\n",
       "      <td>1992</td>\n",
       "      <td>개포로109길 9</td>\n",
       "      <td>NaN</td>\n",
       "      <td>중개거래</td>\n",
       "      <td>서울 강남구</td>\n",
       "    </tr>\n",
       "    <tr>\n",
       "      <th>2</th>\n",
       "      <td>서울특별시 강남구 개포동</td>\n",
       "      <td>12</td>\n",
       "      <td>12</td>\n",
       "      <td>0</td>\n",
       "      <td>성원대치2단지아파트</td>\n",
       "      <td>49.86</td>\n",
       "      <td>202208</td>\n",
       "      <td>31</td>\n",
       "      <td>136,000</td>\n",
       "      <td>14</td>\n",
       "      <td>1992</td>\n",
       "      <td>개포로109길 9</td>\n",
       "      <td>NaN</td>\n",
       "      <td>중개거래</td>\n",
       "      <td>서울 강남구, 서울 서초구</td>\n",
       "    </tr>\n",
       "    <tr>\n",
       "      <th>3</th>\n",
       "      <td>서울특별시 강남구 논현동</td>\n",
       "      <td>58-2</td>\n",
       "      <td>58</td>\n",
       "      <td>2</td>\n",
       "      <td>마일스디오빌</td>\n",
       "      <td>36.29</td>\n",
       "      <td>202208</td>\n",
       "      <td>6</td>\n",
       "      <td>38,500</td>\n",
       "      <td>11</td>\n",
       "      <td>2004</td>\n",
       "      <td>학동로 165</td>\n",
       "      <td>NaN</td>\n",
       "      <td>중개거래</td>\n",
       "      <td>서울 강남구, 서울 서초구</td>\n",
       "    </tr>\n",
       "    <tr>\n",
       "      <th>4</th>\n",
       "      <td>서울특별시 강남구 논현동</td>\n",
       "      <td>58-2</td>\n",
       "      <td>58</td>\n",
       "      <td>2</td>\n",
       "      <td>마일스디오빌</td>\n",
       "      <td>36.29</td>\n",
       "      <td>202208</td>\n",
       "      <td>8</td>\n",
       "      <td>38,000</td>\n",
       "      <td>14</td>\n",
       "      <td>2004</td>\n",
       "      <td>학동로 165</td>\n",
       "      <td>NaN</td>\n",
       "      <td>중개거래</td>\n",
       "      <td>서울 강남구</td>\n",
       "    </tr>\n",
       "    <tr>\n",
       "      <th>...</th>\n",
       "      <td>...</td>\n",
       "      <td>...</td>\n",
       "      <td>...</td>\n",
       "      <td>...</td>\n",
       "      <td>...</td>\n",
       "      <td>...</td>\n",
       "      <td>...</td>\n",
       "      <td>...</td>\n",
       "      <td>...</td>\n",
       "      <td>...</td>\n",
       "      <td>...</td>\n",
       "      <td>...</td>\n",
       "      <td>...</td>\n",
       "      <td>...</td>\n",
       "      <td>...</td>\n",
       "    </tr>\n",
       "    <tr>\n",
       "      <th>614</th>\n",
       "      <td>서울특별시 강남구 자곡동</td>\n",
       "      <td>619</td>\n",
       "      <td>619</td>\n",
       "      <td>0</td>\n",
       "      <td>엘에이치강남힐스테이트</td>\n",
       "      <td>51.99</td>\n",
       "      <td>202201</td>\n",
       "      <td>8</td>\n",
       "      <td>103,000</td>\n",
       "      <td>7</td>\n",
       "      <td>2015</td>\n",
       "      <td>자곡로3길 21</td>\n",
       "      <td>20220502.0</td>\n",
       "      <td>중개거래</td>\n",
       "      <td>서울 강남구</td>\n",
       "    </tr>\n",
       "    <tr>\n",
       "      <th>615</th>\n",
       "      <td>서울특별시 강남구 자곡동</td>\n",
       "      <td>619</td>\n",
       "      <td>619</td>\n",
       "      <td>0</td>\n",
       "      <td>엘에이치강남힐스테이트</td>\n",
       "      <td>51.96</td>\n",
       "      <td>202201</td>\n",
       "      <td>17</td>\n",
       "      <td>118,000</td>\n",
       "      <td>11</td>\n",
       "      <td>2015</td>\n",
       "      <td>자곡로3길 21</td>\n",
       "      <td>NaN</td>\n",
       "      <td>중개거래</td>\n",
       "      <td>서울 강남구</td>\n",
       "    </tr>\n",
       "    <tr>\n",
       "      <th>616</th>\n",
       "      <td>서울특별시 강남구 청담동</td>\n",
       "      <td>76-12</td>\n",
       "      <td>76</td>\n",
       "      <td>12</td>\n",
       "      <td>라테라스청담</td>\n",
       "      <td>18.62</td>\n",
       "      <td>202201</td>\n",
       "      <td>17</td>\n",
       "      <td>34,000</td>\n",
       "      <td>8</td>\n",
       "      <td>2018</td>\n",
       "      <td>학동로81길 9</td>\n",
       "      <td>NaN</td>\n",
       "      <td>중개거래</td>\n",
       "      <td>서울 강남구</td>\n",
       "    </tr>\n",
       "    <tr>\n",
       "      <th>617</th>\n",
       "      <td>서울특별시 강남구 청담동</td>\n",
       "      <td>10</td>\n",
       "      <td>10</td>\n",
       "      <td>0</td>\n",
       "      <td>삼환아파트101동</td>\n",
       "      <td>84.91</td>\n",
       "      <td>202201</td>\n",
       "      <td>17</td>\n",
       "      <td>170,000</td>\n",
       "      <td>2</td>\n",
       "      <td>1999</td>\n",
       "      <td>학동로77길 49</td>\n",
       "      <td>NaN</td>\n",
       "      <td>중개거래</td>\n",
       "      <td>서울 강남구</td>\n",
       "    </tr>\n",
       "    <tr>\n",
       "      <th>618</th>\n",
       "      <td>서울특별시 강남구 청담동</td>\n",
       "      <td>134-16</td>\n",
       "      <td>134</td>\n",
       "      <td>16</td>\n",
       "      <td>신동아</td>\n",
       "      <td>84.94</td>\n",
       "      <td>202201</td>\n",
       "      <td>19</td>\n",
       "      <td>220,000</td>\n",
       "      <td>2</td>\n",
       "      <td>1997</td>\n",
       "      <td>학동로105길 30</td>\n",
       "      <td>NaN</td>\n",
       "      <td>중개거래</td>\n",
       "      <td>서울 강남구</td>\n",
       "    </tr>\n",
       "  </tbody>\n",
       "</table>\n",
       "<p>619 rows × 15 columns</p>\n",
       "</div>"
      ],
      "text/plain": [
       "               시군구      번지   본번  부번          단지명  전용면적(㎡)    계약년월  계약일  \\\n",
       "0    서울특별시 강남구 개포동      12   12   0      삼익대청아파트    39.53  202208    8   \n",
       "1    서울특별시 강남구 개포동      12   12   0   성원대치2단지아파트    49.86  202208   10   \n",
       "2    서울특별시 강남구 개포동      12   12   0   성원대치2단지아파트    49.86  202208   31   \n",
       "3    서울특별시 강남구 논현동    58-2   58   2       마일스디오빌    36.29  202208    6   \n",
       "4    서울특별시 강남구 논현동    58-2   58   2       마일스디오빌    36.29  202208    8   \n",
       "..             ...     ...  ...  ..          ...      ...     ...  ...   \n",
       "614  서울특별시 강남구 자곡동     619  619   0  엘에이치강남힐스테이트    51.99  202201    8   \n",
       "615  서울특별시 강남구 자곡동     619  619   0  엘에이치강남힐스테이트    51.96  202201   17   \n",
       "616  서울특별시 강남구 청담동   76-12   76  12       라테라스청담    18.62  202201   17   \n",
       "617  서울특별시 강남구 청담동      10   10   0    삼환아파트101동    84.91  202201   17   \n",
       "618  서울특별시 강남구 청담동  134-16  134  16          신동아    84.94  202201   19   \n",
       "\n",
       "    거래금액(만원)   층  건축년도         도로명     해제사유발생일  거래유형          중개사소재지  \n",
       "0    119,000  12  1992  개포로109길 21         NaN  중개거래          서울 강남구  \n",
       "1    133,000   1  1992   개포로109길 9         NaN  중개거래          서울 강남구  \n",
       "2    136,000  14  1992   개포로109길 9         NaN  중개거래  서울 강남구, 서울 서초구  \n",
       "3     38,500  11  2004     학동로 165         NaN  중개거래  서울 강남구, 서울 서초구  \n",
       "4     38,000  14  2004     학동로 165         NaN  중개거래          서울 강남구  \n",
       "..       ...  ..   ...         ...         ...   ...             ...  \n",
       "614  103,000   7  2015    자곡로3길 21  20220502.0  중개거래          서울 강남구  \n",
       "615  118,000  11  2015    자곡로3길 21         NaN  중개거래          서울 강남구  \n",
       "616   34,000   8  2018    학동로81길 9         NaN  중개거래          서울 강남구  \n",
       "617  170,000   2  1999   학동로77길 49         NaN  중개거래          서울 강남구  \n",
       "618  220,000   2  1997  학동로105길 30         NaN  중개거래          서울 강남구  \n",
       "\n",
       "[619 rows x 15 columns]"
      ]
     },
     "execution_count": 24,
     "metadata": {},
     "output_type": "execute_result"
    }
   ],
   "source": [
    "dfs = [pd.read_csv(path_, skiprows=15, encoding='CP949') for path_ in glob('data/apt/*.csv')]\n",
    "pd.concat(dfs).reset_index(drop=True)"
   ]
  },
  {
   "cell_type": "markdown",
   "metadata": {},
   "source": [
    "<br>\n",
    "\n",
    "### 2.2. merge()를 활용한 KEY 변수 기준 결합 \n",
    "\n",
    "SQL의 JOIN, Excel의 VLOOKUP()과 같이 KEY 변수를 활용한 데이터 결합은 *merge()* 를 활용"
   ]
  },
  {
   "cell_type": "code",
   "execution_count": null,
   "metadata": {},
   "outputs": [],
   "source": [
    "# 예제 데이터 불러오기\n",
    "df_left  = pd.read_csv('data/data_left.csv')\n",
    "df_right = pd.read_csv('data/data_right.csv')"
   ]
  },
  {
   "cell_type": "code",
   "execution_count": null,
   "metadata": {},
   "outputs": [],
   "source": [
    "df_left"
   ]
  },
  {
   "cell_type": "code",
   "execution_count": null,
   "metadata": {},
   "outputs": [],
   "source": [
    "df_right"
   ]
  },
  {
   "cell_type": "markdown",
   "metadata": {},
   "source": [
    "<br>\n",
    "\n",
    "> key를 활용한 데이터 결합에서는 일치하는 key가 있는, 짝이 있는 관측치만 출력하는 것이 기본값으로 설정되어 있습니다. SQL에서는 이것을 **inner join**이라고 부릅니다.  \n",
    "\n",
    "*merge()* 에서 `how=` 옵션을 활용해서 다음과 같은 데이터 결합 방법 지정 \n",
    "\n",
    "+ `inner`: inner join. key 기준 일치하는 관측치만 포함\n",
    "+ `left`:  left join. inner join의 결과물과 왼쪽 데이터의 짝 없는 관측치 포함\n",
    "+ `right`: right join. inner join의 결과물과 오른쪽 데이터의 짝 없는 관측치 포함\n",
    "+ `outer`: full outer join. inner join과 양쪽 데이터의 짝이 없는 모든 관측치 포함"
   ]
  },
  {
   "cell_type": "code",
   "execution_count": null,
   "metadata": {},
   "outputs": [],
   "source": [
    "# merge()를 활용한 결합\n",
    "pd.merge(df_left, df_right, how='inner', on='category')"
   ]
  },
  {
   "cell_type": "code",
   "execution_count": null,
   "metadata": {},
   "outputs": [],
   "source": [
    "# left join\n",
    "pd.merge(df_left, df_right, how='left', on='category')"
   ]
  },
  {
   "cell_type": "code",
   "execution_count": null,
   "metadata": {},
   "outputs": [],
   "source": [
    "# right join\n",
    "pd.merge(df_left, df_right, how='right', on='category')"
   ]
  },
  {
   "cell_type": "code",
   "execution_count": null,
   "metadata": {},
   "outputs": [],
   "source": [
    "# full outer join\n",
    "pd.merge(df_left, df_right, how='outer', on='category')"
   ]
  },
  {
   "cell_type": "code",
   "execution_count": null,
   "metadata": {},
   "outputs": [],
   "source": []
  },
  {
   "cell_type": "code",
   "execution_count": null,
   "metadata": {},
   "outputs": [],
   "source": []
  },
  {
   "cell_type": "markdown",
   "metadata": {},
   "source": [
    "<br>\n",
    "<hr>\n",
    "<br>\n",
    "\n",
    "\n",
    "## 3. 데이터 부분 선택\n",
    "\n",
    "일반적인 비즈니스 데이터 분석에서 주제와 기간, 사이트, 제품, 공정 등 본인의 업무와 관련이 있는 일부 데이터만 선택하고 활용  \n",
    "SQL을 활용한 데이터 추출 과정과 별개로 Python에서 각 분석 과정에서 맞게 부분 데이터를 다시 선택하고 사용\n",
    "\n",
    "<br> "
   ]
  },
  {
   "cell_type": "code",
   "execution_count": null,
   "metadata": {},
   "outputs": [],
   "source": [
    "# 예제 데이터 불러오기\n",
    "import pandas as pd\n",
    "df_ins = pd.read_csv('data/insurance.csv')\n",
    "df_ins.head()"
   ]
  },
  {
   "cell_type": "markdown",
   "metadata": {},
   "source": [
    "<br>\n",
    "\n",
    "### 3.1. .을 활용한 변수 선택\n",
    "\n",
    "DataFrame 뒤에 마침표(.)를 찍고 `Tab` 키를 눌러 DataFrame의 메서드들과 함께 변수이름을 확인 가능  \n",
    ".은 가장 간단한 변수 선택 방법이며 선택된 변수는 **Series** 형식으로 출력  "
   ]
  },
  {
   "cell_type": "code",
   "execution_count": null,
   "metadata": {},
   "outputs": [],
   "source": [
    "# .을 활용한 하나의 변수 선택\n",
    "df_ins.age"
   ]
  },
  {
   "cell_type": "markdown",
   "metadata": {},
   "source": [
    "<br>\n",
    "\n",
    "\n",
    "### 3.2. 대괄호를 활용한 데이터 부분 선택\n",
    "\n",
    "DataFrame에 대괄호를 붙이고 슬라이스:로 관측치 번호를 지정하거나 따옴표''로 변수 이름을 넣어 데이터 부분을 선택 가능  \n",
    "변수 이름을 리스트 형식으로 묶어 넣어 여러개 변수를 한번에 선택 가능"
   ]
  },
  {
   "cell_type": "code",
   "execution_count": null,
   "metadata": {},
   "outputs": [],
   "source": [
    "# 관측치 선택\n",
    "df_ins[0:3]"
   ]
  },
  {
   "cell_type": "code",
   "execution_count": null,
   "metadata": {},
   "outputs": [],
   "source": [
    "# 한 변수 선택 \n",
    "df_ins['age']"
   ]
  },
  {
   "cell_type": "code",
   "execution_count": null,
   "metadata": {},
   "outputs": [],
   "source": [
    "# 리스트를 활용한 복수 변수 선택\n",
    "df_ins[['age','smoker','charges']]"
   ]
  },
  {
   "cell_type": "code",
   "execution_count": null,
   "metadata": {},
   "outputs": [],
   "source": [
    "# 연속된 대괄호 활용가능\n",
    "df_ins[0:5][['age','smoker','charges']]"
   ]
  },
  {
   "cell_type": "markdown",
   "metadata": {},
   "source": [
    "<br>\n",
    "\n",
    "#### [실습]  \n",
    "\n",
    "1. 아래의 명령어를 실행해서 df_subway 데이터 생성하기 \n",
    "\n",
    "2. .columns 메서드를 활용해서 변수이름 확인하기\n",
    "\n",
    "3. 슬라이스를 활용하여 11~15번째 관측치 선택하기\n",
    "\n",
    "4. '사용일자', '역명', '하차총승객수' 세 변수 선택하기\n",
    "\n",
    "\n",
    "\n",
    "    "
   ]
  },
  {
   "cell_type": "code",
   "execution_count": null,
   "metadata": {},
   "outputs": [],
   "source": [
    "df_subway = pd.read_csv('./data/CARD_SUBWAY_MONTH_202107.csv', encoding='CP949')\n",
    "df_subway"
   ]
  },
  {
   "cell_type": "code",
   "execution_count": null,
   "metadata": {},
   "outputs": [],
   "source": []
  },
  {
   "cell_type": "code",
   "execution_count": null,
   "metadata": {},
   "outputs": [],
   "source": []
  },
  {
   "cell_type": "code",
   "execution_count": null,
   "metadata": {},
   "outputs": [],
   "source": []
  },
  {
   "cell_type": "code",
   "execution_count": null,
   "metadata": {},
   "outputs": [],
   "source": []
  },
  {
   "cell_type": "markdown",
   "metadata": {},
   "source": [
    "<br>\n",
    "\n",
    "## 3.3. loc과 iloc을 활용한 관측치/변수 선택\n",
    "\n",
    "loc은 행 이름(index)과 열 이름(column)으로 데이터에서 일부를 선택하고, iloc은 정수(integer) 형식의 행 번호, 열 번호를 활용  \n",
    "두 방법 모두 리스트[ ]나 슬라이스:를 활용한 방법을 지원\n",
    "\n"
   ]
  },
  {
   "cell_type": "code",
   "execution_count": null,
   "metadata": {},
   "outputs": [],
   "source": [
    "# 실습을 위해 원본 데이터를 복제(copy)하고 부분선택\n",
    "df_ins2 = df_ins.copy()[0:10]\n",
    "df_ins2"
   ]
  },
  {
   "cell_type": "code",
   "execution_count": null,
   "metadata": {},
   "outputs": [],
   "source": [
    "# 실습을 위해 인덱스를 별도로 지정\n",
    "df_ins2['idx'] = list(range(101, 111))\n",
    "df_ins2.set_index('idx', inplace=True)\n",
    "df_ins2"
   ]
  },
  {
   "cell_type": "markdown",
   "metadata": {},
   "source": [
    "<br> \n",
    "\n",
    "### 3.3.1. loc을 활용한 부분 선택\n",
    "\n",
    "loc은 실제로 눈에 보이는 index와 column을 활용"
   ]
  },
  {
   "cell_type": "code",
   "execution_count": null,
   "metadata": {},
   "outputs": [],
   "source": [
    "df_ins2.loc[101]"
   ]
  },
  {
   "cell_type": "code",
   "execution_count": null,
   "metadata": {},
   "outputs": [],
   "source": [
    "df_ins2.loc[[101, 103]]"
   ]
  },
  {
   "cell_type": "code",
   "execution_count": null,
   "metadata": {},
   "outputs": [],
   "source": [
    "df_ins2.loc[101:103]"
   ]
  },
  {
   "cell_type": "code",
   "execution_count": null,
   "metadata": {},
   "outputs": [],
   "source": [
    "df_ins2.loc[101:103, 'smoker']"
   ]
  },
  {
   "cell_type": "code",
   "execution_count": null,
   "metadata": {},
   "outputs": [],
   "source": [
    "# 변수이름 리스트 활용가능\n",
    "df_ins2.loc[101:103, ['smoker','region']]"
   ]
  },
  {
   "cell_type": "code",
   "execution_count": null,
   "metadata": {},
   "outputs": [],
   "source": [
    "# 변수이름 슬라이스:를 활용 가능 \n",
    "df_ins2.loc[101:103, 'smoker':'charges']"
   ]
  },
  {
   "cell_type": "code",
   "execution_count": null,
   "metadata": {},
   "outputs": [],
   "source": [
    "# 모든 관측치 선택할 때는 :\n",
    "df_ins2.loc[:, 'smoker':'charges']"
   ]
  },
  {
   "cell_type": "markdown",
   "metadata": {},
   "source": [
    "<br> \n",
    "\n",
    "### 3.2.2. iloc을 활용한 부분 선택\n",
    "\n",
    "iloc은 이름과 상관없이 정수로 표현한 위치, 번호를 활용하며 리스트나 슬라이스 활용 방법은 loc과 동일"
   ]
  },
  {
   "cell_type": "code",
   "execution_count": null,
   "metadata": {},
   "outputs": [],
   "source": [
    "df_ins2.iloc[0:3, [0,3,4]]"
   ]
  },
  {
   "cell_type": "code",
   "execution_count": null,
   "metadata": {},
   "outputs": [],
   "source": []
  },
  {
   "cell_type": "markdown",
   "metadata": {},
   "source": [
    "#### [실습] \n",
    "\n",
    "1. df_pr에서 index 기준 '3'의 'Weight' 확인하기\n",
    "2. df_pr에서 index 기준 '11~15'의 'Age'부터 'Exercise'까지 선택하기\n",
    "3. df_pr에서 첫번째 ~ 다섯번째 관측치와 다섯번째 ~ 열번째 변수 선택하기"
   ]
  },
  {
   "cell_type": "code",
   "execution_count": null,
   "metadata": {},
   "outputs": [],
   "source": [
    "df_pr = pd.read_csv('data/PulseRates.csv')\n",
    "df_pr.head()"
   ]
  },
  {
   "cell_type": "code",
   "execution_count": null,
   "metadata": {},
   "outputs": [],
   "source": []
  },
  {
   "cell_type": "code",
   "execution_count": null,
   "metadata": {},
   "outputs": [],
   "source": []
  },
  {
   "cell_type": "code",
   "execution_count": null,
   "metadata": {},
   "outputs": [],
   "source": []
  },
  {
   "cell_type": "code",
   "execution_count": null,
   "metadata": {},
   "outputs": [],
   "source": []
  },
  {
   "cell_type": "markdown",
   "metadata": {},
   "source": [
    "### 3.4. 함수를 활용한 여러 변수 선택 \n",
    "\n"
   ]
  },
  {
   "cell_type": "code",
   "execution_count": null,
   "metadata": {},
   "outputs": [],
   "source": [
    "# filter( ) 메서드에서 변수 이름 패턴을 활용한 선택 \n",
    "df_ins.filter(regex='^s')\n",
    "    ## regex :  정규표현식(regular expression)\n",
    "    ## '^s' : 's'로 시작하는 이름/텍스트\n",
    "    "
   ]
  },
  {
   "cell_type": "code",
   "execution_count": null,
   "metadata": {},
   "outputs": [],
   "source": [
    "# 변수형식 확인하기\n",
    "df_ins.dtypes\n",
    "    ## int/float : 숫자\n",
    "    ## object : 문자열"
   ]
  },
  {
   "cell_type": "code",
   "execution_count": null,
   "metadata": {},
   "outputs": [],
   "source": [
    "# 수치형 변수만 선택\n",
    "df_ins.select_dtypes(include='number')"
   ]
  },
  {
   "cell_type": "code",
   "execution_count": null,
   "metadata": {},
   "outputs": [],
   "source": [
    "# 문자열 변수만 선택\n",
    "df_ins.select_dtypes(include='object')"
   ]
  },
  {
   "cell_type": "markdown",
   "metadata": {},
   "source": [
    "<br>\n",
    "\n",
    "#### [실습] Student performance 데이터 활용\n",
    "\n",
    "1. df_sp에서 수치형 변수만 선택\n",
    "2. df_sp에서 문자열 변수만 선택\n",
    "3. df_sp에서 이름에 'score'가 들어간 변수만 선택\n"
   ]
  },
  {
   "cell_type": "code",
   "execution_count": null,
   "metadata": {
    "scrolled": true
   },
   "outputs": [],
   "source": [
    "df_sp = pd.read_csv('data/StudentsPerformance.csv')\n",
    "df_sp.head()"
   ]
  },
  {
   "cell_type": "code",
   "execution_count": null,
   "metadata": {},
   "outputs": [],
   "source": []
  },
  {
   "cell_type": "code",
   "execution_count": null,
   "metadata": {},
   "outputs": [],
   "source": []
  },
  {
   "cell_type": "code",
   "execution_count": null,
   "metadata": {},
   "outputs": [],
   "source": []
  },
  {
   "cell_type": "code",
   "execution_count": null,
   "metadata": {},
   "outputs": [],
   "source": []
  },
  {
   "cell_type": "code",
   "execution_count": null,
   "metadata": {},
   "outputs": [],
   "source": []
  },
  {
   "cell_type": "markdown",
   "metadata": {},
   "source": [
    "<br>\n",
    "\n",
    "### 3.5. 조건을 활용한 관측치 선택\n",
    "\n",
    "SQL에서 WHERE 절이나 Excel의 Filter와 같이 데이터에서 부분을 선택할 때 조건을 활용하는 경우 많음  \n",
    "[ ]나 .loc[ ] 안에 조건식을 넣어서 조건과 일치하는 관측치만 선택 가능"
   ]
  },
  {
   "cell_type": "code",
   "execution_count": null,
   "metadata": {},
   "outputs": [],
   "source": [
    "# 1 단계 : 조건 설정(결과는 True/False)\n",
    "    # bool 타입 Series \n",
    "df_ins['age'] < 30"
   ]
  },
  {
   "cell_type": "code",
   "execution_count": null,
   "metadata": {},
   "outputs": [],
   "source": [
    "# 2 단계 : []와 조건을 활용한 관측치 선택\n",
    "df_ins[df_ins['age'] < 30]"
   ]
  },
  {
   "cell_type": "code",
   "execution_count": null,
   "metadata": {},
   "outputs": [],
   "source": [
    "# &와 |를 활용한 조건 결합\n",
    "df_ins[(df_ins['age'] < 30) & (df_ins['sex'] == 'female')]"
   ]
  },
  {
   "cell_type": "code",
   "execution_count": null,
   "metadata": {},
   "outputs": [],
   "source": [
    "df_ins[(df_ins['age'] < 30) | (df_ins['sex'] == 'female')]"
   ]
  },
  {
   "cell_type": "markdown",
   "metadata": {},
   "source": [
    "<br> \n",
    "\n",
    "> 특히 비즈니스 데이터는 범주화, 그룹화된 변수들이 많고, 수많은 담당자들이 그 중 일부 범주, 그룹, 수준을 나눠서 운영하는 경우가 많습니다.  \n",
    "*isin()* 을 활용해서 내가 관심있는 범주인지 아닌지 포함여부에 대한 연산이 가능합니다."
   ]
  },
  {
   "cell_type": "code",
   "execution_count": null,
   "metadata": {},
   "outputs": [],
   "source": [
    "# 변수 region의 수준 목록 확인 및 관심 수준 선택\n",
    "df_ins['region'].unique()"
   ]
  },
  {
   "cell_type": "code",
   "execution_count": null,
   "metadata": {},
   "outputs": [],
   "source": [
    "# isin()을 활용한 특정 수준 관측치 선택\n",
    "cond1 = df_ins['region'].isin(['southeast','northwest'])\n",
    "cond1"
   ]
  },
  {
   "cell_type": "code",
   "execution_count": null,
   "metadata": {},
   "outputs": [],
   "source": [
    "df_ins[cond1]"
   ]
  },
  {
   "cell_type": "markdown",
   "metadata": {},
   "source": [
    "<br>\n",
    "\n",
    "#### [실습]\n",
    "\n",
    "1. df_sp에서 math score가 90 이상인 관측치 선택\n",
    "2. df_sp에서 race/ethnicity가 'group D', 'group E'인 관측치 선택(isin() 활용)\n",
    "3. 1.과 2.를 동시에 만족하는 관측치 선택 "
   ]
  },
  {
   "cell_type": "code",
   "execution_count": null,
   "metadata": {},
   "outputs": [],
   "source": [
    "df_sp.head()"
   ]
  },
  {
   "cell_type": "code",
   "execution_count": null,
   "metadata": {},
   "outputs": [],
   "source": []
  },
  {
   "cell_type": "code",
   "execution_count": null,
   "metadata": {},
   "outputs": [],
   "source": []
  },
  {
   "cell_type": "code",
   "execution_count": null,
   "metadata": {},
   "outputs": [],
   "source": []
  },
  {
   "cell_type": "code",
   "execution_count": null,
   "metadata": {},
   "outputs": [],
   "source": []
  },
  {
   "cell_type": "markdown",
   "metadata": {},
   "source": [
    "#### [참고] Series의 str 메서드 활용\n",
    "문자열 Series(한 변수)에서 str 함수를 활용하면 특정 단어를 포함하거나 특정 패턴과 일치하는 관측치를 선택 가능"
   ]
  },
  {
   "cell_type": "code",
   "execution_count": null,
   "metadata": {},
   "outputs": [],
   "source": [
    "df_sp['parental level of education'].str.startswith('b')"
   ]
  },
  {
   "cell_type": "code",
   "execution_count": null,
   "metadata": {},
   "outputs": [],
   "source": [
    "df_sp['parental level of education'].str.endswith('college')"
   ]
  },
  {
   "cell_type": "code",
   "execution_count": null,
   "metadata": {},
   "outputs": [],
   "source": [
    "df_sp['parental level of education'].str.contains('degree')"
   ]
  },
  {
   "cell_type": "code",
   "execution_count": null,
   "metadata": {},
   "outputs": [],
   "source": []
  },
  {
   "cell_type": "markdown",
   "metadata": {},
   "source": [
    "<br>\n",
    "\n",
    "#### [참고] Series의 between 메서드 활용\n",
    "수치형 Series(한 변수)에서 *between()* 으로 특정 범위 내 관측치 선택 가능"
   ]
  },
  {
   "cell_type": "code",
   "execution_count": null,
   "metadata": {},
   "outputs": [],
   "source": [
    "df_sp['math score'].between(80, 89.9)"
   ]
  },
  {
   "cell_type": "code",
   "execution_count": null,
   "metadata": {
    "scrolled": true
   },
   "outputs": [],
   "source": [
    "# 양쪽 끝 경계 포함 여부 지정 가능\n",
    "    # 'both', 'left', 'right'\n",
    "df_sp[df_sp['math score'].between(80, 90, inclusive='left')] "
   ]
  },
  {
   "cell_type": "code",
   "execution_count": null,
   "metadata": {},
   "outputs": [],
   "source": []
  },
  {
   "cell_type": "markdown",
   "metadata": {},
   "source": [
    "<br>\n",
    "\n",
    "#### [참고] ~를 활용한 부정(True/False 반전)\n",
    "bool Series(True/False) 앞에 **~** 를 붙여서 True와 False를 뒤집기 가능"
   ]
  },
  {
   "cell_type": "code",
   "execution_count": null,
   "metadata": {},
   "outputs": [],
   "source": [
    "cond1 = df_sp['math score'].between(80, 90, inclusive='left')\n",
    "cond1"
   ]
  },
  {
   "cell_type": "code",
   "execution_count": null,
   "metadata": {},
   "outputs": [],
   "source": [
    "~cond1"
   ]
  },
  {
   "cell_type": "code",
   "execution_count": null,
   "metadata": {},
   "outputs": [],
   "source": [
    "df_sp[~cond1]"
   ]
  },
  {
   "cell_type": "markdown",
   "metadata": {},
   "source": [
    "<br>\n",
    "\n",
    "### 3.6. 함수를 활용한 부분 관측치 선택\n"
   ]
  },
  {
   "cell_type": "code",
   "execution_count": null,
   "metadata": {},
   "outputs": [],
   "source": [
    "# head( )와 tail()\n",
    "df_ins.head()\n",
    "df_ins.tail()"
   ]
  },
  {
   "cell_type": "code",
   "execution_count": null,
   "metadata": {},
   "outputs": [],
   "source": [
    "# sample( )의 활용\n",
    "df_ins.sample(frac=0.005)\n",
    "df_ins.sample(n=10)"
   ]
  },
  {
   "cell_type": "code",
   "execution_count": null,
   "metadata": {},
   "outputs": [],
   "source": [
    "# nlargest( ), nsmallest( )로 상위/하위 관측치 선택\n",
    "df_ins.nlargest(10, 'charges')\n"
   ]
  },
  {
   "cell_type": "code",
   "execution_count": null,
   "metadata": {},
   "outputs": [],
   "source": [
    "df_ins.nsmallest(10, 'charges')"
   ]
  },
  {
   "cell_type": "markdown",
   "metadata": {},
   "source": [
    "<br>\n",
    "\n",
    "#### [실습]\n",
    "\n",
    "1. df_sp에서 math score 상위 20 명 선택\n",
    "2. df_sp에서 writing score 하위 10명 선택\n"
   ]
  },
  {
   "cell_type": "code",
   "execution_count": null,
   "metadata": {},
   "outputs": [],
   "source": [
    "df_sp.sample(n=10)"
   ]
  },
  {
   "cell_type": "code",
   "execution_count": null,
   "metadata": {},
   "outputs": [],
   "source": []
  },
  {
   "cell_type": "code",
   "execution_count": null,
   "metadata": {},
   "outputs": [],
   "source": []
  },
  {
   "cell_type": "markdown",
   "metadata": {},
   "source": [
    "<br>\n",
    "\n",
    "### 3.7. 중복값 제거\n",
    "\n",
    "`drop_duplicates()`를 활용해서 중복값을 제거한 목록 생성 가능"
   ]
  },
  {
   "cell_type": "code",
   "execution_count": null,
   "metadata": {},
   "outputs": [],
   "source": [
    "df_ins[['sex','region']].drop_duplicates()"
   ]
  },
  {
   "cell_type": "code",
   "execution_count": null,
   "metadata": {},
   "outputs": [],
   "source": []
  },
  {
   "cell_type": "markdown",
   "metadata": {},
   "source": [
    "### 3.8. 관측치 정렬\n",
    "\n",
    "`sort_values()`를 활용해서 관측치를 정렬"
   ]
  },
  {
   "cell_type": "code",
   "execution_count": null,
   "metadata": {},
   "outputs": [],
   "source": [
    "# age 순 데이터 정렬\n",
    "df_ins.sort_values('age')"
   ]
  },
  {
   "cell_type": "code",
   "execution_count": null,
   "metadata": {},
   "outputs": [],
   "source": [
    "# 원본 데이터는 영향 없음\n",
    "df_ins.head()"
   ]
  },
  {
   "cell_type": "code",
   "execution_count": null,
   "metadata": {},
   "outputs": [],
   "source": [
    "# 원본 데이터의 정렬\n",
    "df_ins = df_ins.sort_values('age')\n",
    "df_ins.head()"
   ]
  },
  {
   "cell_type": "code",
   "execution_count": null,
   "metadata": {},
   "outputs": [],
   "source": [
    "# 내림차순 지정\n",
    "df_ins = df_ins.sort_values('age', ascending=False)\n",
    "df_ins.head()"
   ]
  },
  {
   "cell_type": "code",
   "execution_count": null,
   "metadata": {},
   "outputs": [],
   "source": [
    "# 복수 기준의 설정 \n",
    "df_ins.sort_values(['age', 'charges'], ascending=[True, False])"
   ]
  },
  {
   "cell_type": "code",
   "execution_count": null,
   "metadata": {},
   "outputs": [],
   "source": [
    "# index를 활용한 정렬\n",
    "df_ins = df_ins.sort_index()\n",
    "df_ins.head()"
   ]
  },
  {
   "cell_type": "code",
   "execution_count": null,
   "metadata": {},
   "outputs": [],
   "source": []
  },
  {
   "cell_type": "markdown",
   "metadata": {},
   "source": [
    "<br>\n",
    "\n",
    "\n",
    "#### [실습] 데이터 df_sp 활용\n",
    "\n",
    "1. 전체 관측치를 'math score', 'reading score'의 내림차순으로 정렬해서 출력\n"
   ]
  },
  {
   "cell_type": "code",
   "execution_count": null,
   "metadata": {},
   "outputs": [],
   "source": []
  },
  {
   "cell_type": "markdown",
   "metadata": {},
   "source": [
    "#### End of script"
   ]
  }
 ],
 "metadata": {
  "kernelspec": {
   "display_name": "Python 3 (ipykernel)",
   "language": "python",
   "name": "python3"
  },
  "language_info": {
   "codemirror_mode": {
    "name": "ipython",
    "version": 3
   },
   "file_extension": ".py",
   "mimetype": "text/x-python",
   "name": "python",
   "nbconvert_exporter": "python",
   "pygments_lexer": "ipython3",
   "version": "3.9.13"
  }
 },
 "nbformat": 4,
 "nbformat_minor": 4
}
