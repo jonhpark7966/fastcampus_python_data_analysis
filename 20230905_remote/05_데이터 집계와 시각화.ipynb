{
 "cells": [
  {
   "cell_type": "markdown",
   "id": "ba8e0db0",
   "metadata": {},
   "source": [
    "# 데이터 집계와 시각화\n",
    "\n",
    "### 주요 내용\n",
    "\n",
    "1. 건수, 합계 평균 등 집계값 계산\n",
    "2. 히스토그램, 상자그림, 막대그래프 등 그래프 작성 \n",
    "3. 정렬 및 피벗테이블 활용\n",
    "\n",
    "<br>\n",
    "\n",
    "### 목표 \n",
    "1. 집계값을 계산할 수 있다.\n",
    "2. 적절한 그래프를 작성하고 올바르게 해석할 수 있다.\n",
    "3. 피벗 테이블 등 다양한 방법으로 집계하고, 결과값을 적절히 정렬할 수 있다. \n",
    "\n",
    "\n",
    "<br>\n",
    "<hr>\n",
    "<br>"
   ]
  },
  {
   "cell_type": "markdown",
   "id": "9e7039ec",
   "metadata": {},
   "source": [
    "## 예제 및 실습 데이터 불러오기"
   ]
  },
  {
   "cell_type": "code",
   "execution_count": null,
   "id": "d8b0a22e",
   "metadata": {},
   "outputs": [],
   "source": [
    "# 데이터 불러오기\n",
    "import pandas as pd\n",
    "df_ins = pd.read_csv('data/insurance.csv')\n",
    "df_ins.head()"
   ]
  },
  {
   "cell_type": "code",
   "execution_count": null,
   "id": "66448535",
   "metadata": {
    "scrolled": true
   },
   "outputs": [],
   "source": [
    "df_sp = pd.read_csv('data/StudentsPerformance.csv')\n",
    "df_sp.head()"
   ]
  },
  {
   "cell_type": "code",
   "execution_count": null,
   "id": "13789c2f",
   "metadata": {},
   "outputs": [],
   "source": [
    "#df_sp.describe()\n",
    "#df_sp.describe(include='number')\n",
    "df_sp.describe(include='object')"
   ]
  },
  {
   "cell_type": "markdown",
   "id": "8012b0c1",
   "metadata": {},
   "source": [
    "<br>\n",
    "\n",
    "## 1. 수치형 변수의 집계값과 히스토그램\n",
    "\n",
    "하나의 수치형 변수로 합계, 평균과 같은 집계값을 계산할 수 있고 히스토그램으로 분포를 확인\n",
    "\n",
    "\n",
    "<br>\n",
    "\n",
    "### 1.1. 수치형 변수의 집계값 계산\n",
    "\n",
    "수치형 변수를 선택한 다음 sum( ), mean( ) 같은 메서드를 활용해서 단순한 집계값을 계산  \n",
    "먼저 변수를 선택하고 다양한 집계 함수를 메서드로 활용"
   ]
  },
  {
   "cell_type": "code",
   "execution_count": null,
   "id": "c8866431",
   "metadata": {},
   "outputs": [],
   "source": [
    "# 관심 변수 선택\n",
    "df_ins['charges']"
   ]
  },
  {
   "cell_type": "code",
   "execution_count": null,
   "id": "39731115",
   "metadata": {},
   "outputs": [],
   "source": [
    "# 수치형 변수의 집계값 계산\n",
    "    # mean( ) : 수치형 Series의 메서드\n",
    "df_ins['charges'].mean()"
   ]
  },
  {
   "cell_type": "code",
   "execution_count": null,
   "id": "cf07e50e",
   "metadata": {},
   "outputs": [],
   "source": [
    "df_ins['charges'].sum()"
   ]
  },
  {
   "cell_type": "code",
   "execution_count": null,
   "id": "77ccd25e",
   "metadata": {},
   "outputs": [],
   "source": [
    "# 분산과 표준편차계산\n",
    "df_ins['charges'].var(), df_ins['charges'].std()"
   ]
  },
  {
   "cell_type": "code",
   "execution_count": null,
   "id": "cee0ae55",
   "metadata": {},
   "outputs": [],
   "source": [
    "# 관측치 수 계산하기\n",
    "df_ins['charges'].count()"
   ]
  },
  {
   "cell_type": "markdown",
   "id": "c9e3d738",
   "metadata": {},
   "source": [
    "<br>\n",
    "\n",
    "### 1.2. 히스토그램 그리기\n",
    "\n",
    "하나의 수치형변수의 분포를 파악하기 위해서 히스토그램을 활용  \n",
    "Python에서 그래프를 그릴때는 기본적으로 matplotlib 라이브러리를 활용하지만, 좀 더 가독성이 좋고 그래프가 이쁜 seaborn 라이브러리를 추가로 활용   \n",
    "\n"
   ]
  },
  {
   "cell_type": "markdown",
   "id": "ce1221c5",
   "metadata": {},
   "source": [
    "<br>\n",
    "\n",
    "#### 1.2.1. pandas의 메서드와 matplotlib을 활용한 그래프"
   ]
  },
  {
   "cell_type": "code",
   "execution_count": null,
   "id": "41304196",
   "metadata": {},
   "outputs": [],
   "source": [
    "# 라이브러리 불러오기\n",
    "import matplotlib.pyplot as plt\n",
    "import seaborn as sns"
   ]
  },
  {
   "cell_type": "code",
   "execution_count": null,
   "id": "4f314d03",
   "metadata": {},
   "outputs": [],
   "source": [
    "# 한글 폰트 설정 (Windows)\n",
    "plt.rc('font', family='Malgun Gothic')\n",
    "plt.rc('axes', unicode_minus=False)"
   ]
  },
  {
   "cell_type": "code",
   "execution_count": null,
   "id": "99ae608b",
   "metadata": {},
   "outputs": [],
   "source": [
    "# 한글 폰트 설정 (macOS)\n",
    "# plt.rc('font', family='AppleGothic')\n",
    "# plt.rc('axes', unicode_minus=False)"
   ]
  },
  {
   "cell_type": "code",
   "execution_count": null,
   "id": "40ad4315",
   "metadata": {},
   "outputs": [],
   "source": [
    "# 가장 간단한 히스토그램과 상자그림\n",
    "    # DataFrame의 plot 메서드 활용\n",
    "    # plt.show() : 최종 그래프 출력함수, 생략 가능\n",
    "df_ins['age'].plot(kind='hist')\n",
    "plt.show()"
   ]
  },
  {
   "cell_type": "code",
   "execution_count": null,
   "id": "6e7737b8",
   "metadata": {},
   "outputs": [],
   "source": [
    "# matplotlib의 hist( )를 활용한 히스토그램 그리기\n",
    "plt.hist(df_ins['age'])\n",
    "plt.show()"
   ]
  },
  {
   "cell_type": "code",
   "execution_count": null,
   "id": "e8a5ec7e",
   "metadata": {},
   "outputs": [],
   "source": [
    "# 그래프를 꾸며 다시 그리기\n",
    "plt.figure(figsize=(18,6)) ##사이즈 정하고\n",
    "\n",
    "plt.hist(df_ins['age'])\n",
    "plt.title('나이 히스토그램', fontsize=30)\n",
    "plt.xlabel('나이', fontsize=20)\n",
    "plt.ylabel('Frequency', fontsize=20)\n",
    "\n",
    "plt.show()\n"
   ]
  },
  {
   "cell_type": "markdown",
   "id": "cc93a106",
   "metadata": {},
   "source": [
    "<br>\n",
    "\n",
    "#### 1.2.2. seaborn을 활용한 히스토그램\n",
    "\n",
    "seaborn 라이브러리를 활용하면 그래프를 그리는 명령어가 좀 더 직관적이고 DataFrame 형식을 활용하기 편함"
   ]
  },
  {
   "cell_type": "code",
   "execution_count": null,
   "id": "6cfe3ac5",
   "metadata": {},
   "outputs": [],
   "source": [
    "# histplot()을 활용한 히스토그램\n",
    "sns.histplot(data=df_ins,\n",
    "             x='age')\n",
    "plt.show()"
   ]
  },
  {
   "cell_type": "markdown",
   "id": "c6210cb3",
   "metadata": {},
   "source": [
    "<br>\n",
    "\n",
    "#### [실습] 한 수치형 변수에 대한 요약과 시각화\n",
    "\n",
    "1. df_sp에서 'math score'의 평균 계산하기\n",
    "\n",
    "2. df_sp에서 'math score'의 히스토그램을 matplotlib으로 그려기\n",
    "\n",
    "3. df_sp에서 'math score'의 히스토그램을 seaborn으로 그려기\n",
    "\n"
   ]
  },
  {
   "cell_type": "code",
   "execution_count": null,
   "id": "ffa68629",
   "metadata": {},
   "outputs": [],
   "source": [
    "df_sp.describe()"
   ]
  },
  {
   "cell_type": "code",
   "execution_count": null,
   "id": "201e72c5",
   "metadata": {},
   "outputs": [],
   "source": [
    "df_sp['math score'].mean()"
   ]
  },
  {
   "cell_type": "code",
   "execution_count": null,
   "id": "3cf6437f",
   "metadata": {},
   "outputs": [],
   "source": [
    "plt.hist(df_sp['math score'])"
   ]
  },
  {
   "cell_type": "code",
   "execution_count": null,
   "id": "37165a3e",
   "metadata": {},
   "outputs": [],
   "source": [
    "sns.histplot(data=df_sp, x='math score')\n",
    "plt.show()"
   ]
  },
  {
   "cell_type": "code",
   "execution_count": null,
   "id": "69091112",
   "metadata": {},
   "outputs": [],
   "source": []
  },
  {
   "cell_type": "markdown",
   "id": "80f16c9c",
   "metadata": {},
   "source": [
    "### 1.3. 분위수와 상자그림\n",
    "\n",
    "`quantile()`을 활용해서 분위수를 계산  \n",
    "\n",
    "최솟값(minimum, 0%), Q1(1st Quartile, 25%), 중앙값(median, 50%), Q3(3rd Quartile, 75%), 최댓값(maximum, 100%)을 사분위수(quartile)이라고 부르고, **상자그림(boxplot)**으로 시각화"
   ]
  },
  {
   "cell_type": "code",
   "execution_count": null,
   "id": "d8b0a9ad",
   "metadata": {},
   "outputs": [],
   "source": [
    "df_ins['charges'].quantile(0.1)"
   ]
  },
  {
   "cell_type": "code",
   "execution_count": null,
   "id": "c09f9f88",
   "metadata": {},
   "outputs": [],
   "source": [
    "df_ins['charges'].quantile([0.0,0.25,0.5,0.75,1.0])\n",
    "    ## quantile( ) : 계산할 분위(1.0이 최댓값) 를 리스트로 묶기"
   ]
  },
  {
   "cell_type": "code",
   "execution_count": null,
   "id": "1a2e6849",
   "metadata": {},
   "outputs": [],
   "source": [
    "# matplotlib의 boxplot()으로 상자그림 그리기\n",
    "plt.boxplot(df_ins['charges'])\n",
    "plt.show()"
   ]
  },
  {
   "cell_type": "code",
   "execution_count": null,
   "id": "d4d09c04",
   "metadata": {},
   "outputs": [],
   "source": [
    "# boxplot( )을 활용한상자그림\n",
    "sns.boxplot(data=df_ins,\n",
    "            y='charges')\n",
    "plt.show()"
   ]
  },
  {
   "cell_type": "markdown",
   "id": "83096bcf",
   "metadata": {},
   "source": [
    "<br>\n",
    "\n",
    "\n",
    "#### [실습]\n",
    "\n",
    "1. df_sp에서 'reading score'의 Q1(25%), 중위수(median, 50%), Q3(75%) 계산하기\n",
    "2. df_sp에서 'reading score'의 상자그림을 seaborn으로 그리기"
   ]
  },
  {
   "cell_type": "code",
   "execution_count": null,
   "id": "7bd0ec6b",
   "metadata": {},
   "outputs": [],
   "source": [
    "df_sp.describe()"
   ]
  },
  {
   "cell_type": "code",
   "execution_count": null,
   "id": "2798523f",
   "metadata": {
    "scrolled": true
   },
   "outputs": [],
   "source": [
    "df_sp['reading score'].quantile([0.25, 0.5, 0.75, 0.6, 0.9])"
   ]
  },
  {
   "cell_type": "code",
   "execution_count": null,
   "id": "e1d42455",
   "metadata": {},
   "outputs": [],
   "source": [
    "sns.boxplot(data=df_sp, x='reading score')"
   ]
  },
  {
   "cell_type": "code",
   "execution_count": null,
   "id": "84367a93",
   "metadata": {},
   "outputs": [],
   "source": []
  },
  {
   "cell_type": "code",
   "execution_count": null,
   "id": "3f8b51f7",
   "metadata": {},
   "outputs": [],
   "source": []
  },
  {
   "cell_type": "code",
   "execution_count": null,
   "id": "5bd24179",
   "metadata": {},
   "outputs": [],
   "source": []
  },
  {
   "cell_type": "markdown",
   "id": "a065402e",
   "metadata": {},
   "source": [
    "<br>\n",
    "\n",
    "## 2. 범주형 변수의 요약과 시각화  \n",
    "\n",
    "범주형 변수는 정해진 수준(level) 중에 하나의 값을 갖기 때문에 분석 방법이 단순하며 개수를 세면 됨\n",
    "\n",
    "<br>\n",
    "\n",
    "\n",
    "### 2.1. 그룹별 건수 계산과 시각화\n",
    "\n",
    "> SQL에서도 가장 잦은 키워드 조합이 `SELECT COUNT(1) ... GROUP BY ...`입니다.  \n",
    "\n",
    "범주형 변수/그룹 변수로 수준별 관측치 수를 셀 수 있고, 막대그래프로 표현\n"
   ]
  },
  {
   "cell_type": "code",
   "execution_count": null,
   "id": "daa3936d",
   "metadata": {},
   "outputs": [],
   "source": [
    "# 수준(levels) 및 개수 확인 \n",
    "df_ins['smoker'].unique()"
   ]
  },
  {
   "cell_type": "code",
   "execution_count": null,
   "id": "c05b5c92",
   "metadata": {},
   "outputs": [],
   "source": [
    "df_ins['smoker'].nunique()"
   ]
  },
  {
   "cell_type": "markdown",
   "id": "eaedaf69",
   "metadata": {},
   "source": [
    "<br>\n",
    "\n",
    "#### 2.1.1. 수준별 관측치 수 계산 및 막대그래프 작성"
   ]
  },
  {
   "cell_type": "code",
   "execution_count": null,
   "id": "4476c267",
   "metadata": {},
   "outputs": [],
   "source": [
    "# 수준별 관측치 수 세기\n",
    "df_ins['smoker'].value_counts()"
   ]
  },
  {
   "cell_type": "code",
   "execution_count": null,
   "id": "c7e76675",
   "metadata": {},
   "outputs": [],
   "source": [
    "# plot( ) 메서드를 활용한 막대그래프 \n",
    "df_ins['smoker'].value_counts().plot(kind='bar')"
   ]
  },
  {
   "cell_type": "markdown",
   "id": "60bed7fb",
   "metadata": {},
   "source": [
    "<br>\n",
    "\n",
    "#### 2.1.2. groupby()와 size()를 활용한 집계와 시각화  \n",
    "\n",
    "범주형 변수의 집계에서는 *value_counts()*만 활용해도 충분하지만 이후 분석 과정에서 자주 활용할 *groupby()*를 활용한 방법도 활용"
   ]
  },
  {
   "cell_type": "code",
   "execution_count": null,
   "id": "c6d1d0ab",
   "metadata": {},
   "outputs": [],
   "source": [
    "# groupby()와 size( )를 활용한 그룹별 건수 계산\n",
    "    # 결과는 앞과 동일\n",
    "df_ins.groupby('smoker').size()"
   ]
  },
  {
   "cell_type": "code",
   "execution_count": null,
   "id": "2c883895",
   "metadata": {},
   "outputs": [],
   "source": [
    "# plot() 메서드를 활용한 시각화\n",
    "df_ins.groupby('smoker').size().plot(kind='bar')"
   ]
  },
  {
   "cell_type": "markdown",
   "id": "d591a08c",
   "metadata": {},
   "source": [
    "<br>\n",
    "\n",
    "#### 2.1.3. DataFrame 형식의 활용\n",
    "\n",
    "*groupby()*에 그룹 변수 하나를 지정하면 **Series** 형식으로 출력되어 가독성이 떨어질 수 있음  \n",
    "`as_index=False` 옵션을 활용해서 집계 결과를 DataFrame 형식으로 바꾸고 시각화에 활용"
   ]
  },
  {
   "cell_type": "code",
   "execution_count": null,
   "id": "e8f7d8bc",
   "metadata": {},
   "outputs": [],
   "source": [
    "# DataFrame 형식으로 바꾸기\n",
    "    # as_index=False : 그룹 변수를 index로 지정하지 않음\n",
    "df_agg_smoker = df_ins.groupby('smoker', as_index=False).size()\n",
    "df_agg_smoker"
   ]
  },
  {
   "cell_type": "code",
   "execution_count": null,
   "id": "ae727289",
   "metadata": {},
   "outputs": [],
   "source": [
    "# matplotlib의 bar()를 활용한 시각화\n",
    "plt.bar(df_agg_smoker['smoker'], df_agg_smoker['size'])\n",
    "plt.show()"
   ]
  },
  {
   "cell_type": "code",
   "execution_count": null,
   "id": "3f371989",
   "metadata": {},
   "outputs": [],
   "source": [
    "# seaborn의 barplot( )을 활용한 시각화\n",
    "sns.barplot(data= df_agg_smoker,\n",
    "            x='smoker',\n",
    "            y='size')"
   ]
  },
  {
   "cell_type": "markdown",
   "id": "1a39f998",
   "metadata": {},
   "source": [
    "#### [참고]\n",
    "\n",
    "seaborn의 countplot( ) 함수를 활용하면, groupby(), size() 없이 원본 데이터에서 바로 막대그래프를 그릴 수도 있음  "
   ]
  },
  {
   "cell_type": "code",
   "execution_count": null,
   "id": "0999b079",
   "metadata": {},
   "outputs": [],
   "source": [
    "# 집계 없이도 가능한 seaborn 막대그래프\n",
    "sns.countplot(data=df_ins,\n",
    "              x='smoker')"
   ]
  },
  {
   "cell_type": "code",
   "execution_count": null,
   "id": "5117c5d0",
   "metadata": {},
   "outputs": [],
   "source": []
  },
  {
   "cell_type": "markdown",
   "id": "47e555ba",
   "metadata": {},
   "source": [
    "#### [실습]\n",
    "\n",
    "1. 데이터 df_sp에서 'parental level of education'별 관측치 수를 계산하고 matplotlib 막대그래프 그리기\n",
    "2. 'race/ethnicity'별 관측치 수를 계산해서 DataFrame 형식으로 저장하고, seaborn 막대그래프로 그리기"
   ]
  },
  {
   "cell_type": "code",
   "execution_count": null,
   "id": "6b57e9d5",
   "metadata": {},
   "outputs": [],
   "source": [
    "df_sp.head()"
   ]
  },
  {
   "cell_type": "code",
   "execution_count": null,
   "id": "b552e898",
   "metadata": {},
   "outputs": [],
   "source": [
    "df_agg_edu = df_sp.groupby('parental level of education', as_index=False).size()\n",
    "df_agg_edu"
   ]
  },
  {
   "cell_type": "code",
   "execution_count": null,
   "id": "545c2058",
   "metadata": {},
   "outputs": [],
   "source": [
    "plt.figure(figsize=(10,6)) \n",
    "plt.bar(df_agg_edu['parental level of education'], df_agg_edu['size'])"
   ]
  },
  {
   "cell_type": "code",
   "execution_count": null,
   "id": "adb6c382",
   "metadata": {},
   "outputs": [],
   "source": [
    "df_agg_race = df_sp.groupby('race/ethnicity', as_index=False).size()\n",
    "sns.barplot(data=df_agg_race, x='race/ethnicity', y='size')"
   ]
  },
  {
   "cell_type": "code",
   "execution_count": null,
   "id": "7626505d",
   "metadata": {},
   "outputs": [],
   "source": []
  },
  {
   "cell_type": "markdown",
   "id": "d188c617",
   "metadata": {},
   "source": [
    "<br>  \n",
    "\n",
    "## 3. 두 수치형 변수의 관계 \n",
    "\n",
    "두 수치형 변수의 관계를 파악하기 위해서 **산점도(scatterplot)**를 그리고 **상관계수(correlation coefficient)**를 계산  "
   ]
  },
  {
   "cell_type": "code",
   "execution_count": null,
   "id": "52899f0d",
   "metadata": {
    "scrolled": false
   },
   "outputs": [],
   "source": [
    "# 예제 데이터 불러오기\n",
    "    # 아빠키와 아들키\n",
    "df_heights = pd.read_csv('data/heights.csv')\n",
    "df_heights"
   ]
  },
  {
   "cell_type": "code",
   "execution_count": null,
   "id": "1b0393c7",
   "metadata": {},
   "outputs": [],
   "source": [
    "# seaborn으로 산점도 그리기\n",
    "mean_f = df_heights['father'].mean()\n",
    "mean_s = df_heights['son'].mean()\n",
    "print(mean_f, mean_s)\n",
    "\n",
    "plt.figure(figsize=(7,7))\n",
    "\n",
    "sns.scatterplot(data=df_heights, \n",
    "                x='father', \n",
    "                y='son', \n",
    "                alpha=0.3)\n",
    "plt.axhline(mean_s) # 수평선 추가\n",
    "plt.axvline(mean_f) # 수직선 추가\n",
    "plt.show()\n"
   ]
  },
  {
   "cell_type": "code",
   "execution_count": null,
   "id": "c147b144",
   "metadata": {},
   "outputs": [],
   "source": [
    "# 공분산 계산하기\n",
    "df_heights[['father','son']].cov()"
   ]
  },
  {
   "cell_type": "code",
   "execution_count": null,
   "id": "e34ba1e3",
   "metadata": {},
   "outputs": [],
   "source": [
    "# 상관계수 계산하기\n",
    "df_heights[['father','son']].corr()"
   ]
  },
  {
   "cell_type": "markdown",
   "id": "a641b83a",
   "metadata": {},
   "source": [
    "#### [실습] 두 수치형 변수의 관계 탐색\n",
    " \n",
    "1. df_sp에서 'math score'와 'reading score'의 산점도를 그리고 상관계수 계산하기\n",
    "2. df_ins에서 bmi와 charges의 산점도를 그리고 상관계수 계산하기\n",
    "3. (선택) df_ins에서 groupby('smoker')를 활용해서 bmi와 charges의 상관계수를 smoker별로 나눠 계산하기"
   ]
  },
  {
   "cell_type": "code",
   "execution_count": null,
   "id": "8eb744eb",
   "metadata": {},
   "outputs": [],
   "source": [
    "sns.scatterplot(data=df_sp, x='writing score', y='reading score')"
   ]
  },
  {
   "cell_type": "code",
   "execution_count": null,
   "id": "fbac8880",
   "metadata": {},
   "outputs": [],
   "source": [
    "df_sp[['math score', 'reading score', 'writing score']].corr()"
   ]
  },
  {
   "cell_type": "code",
   "execution_count": null,
   "id": "e73add9e",
   "metadata": {},
   "outputs": [],
   "source": [
    "sns.scatterplot(data=df_ins, x='bmi', y='charges', alpha=0.5)"
   ]
  },
  {
   "cell_type": "code",
   "execution_count": null,
   "id": "edbb0d38",
   "metadata": {},
   "outputs": [],
   "source": [
    "df_ins[['bmi', 'charges']].corr()"
   ]
  },
  {
   "cell_type": "code",
   "execution_count": null,
   "id": "a114fea0",
   "metadata": {},
   "outputs": [],
   "source": [
    "df_ins.groupby('smoker')[['bmi', 'charges']].corr()"
   ]
  },
  {
   "cell_type": "code",
   "execution_count": null,
   "id": "bde14bf0",
   "metadata": {
    "scrolled": false
   },
   "outputs": [],
   "source": [
    "for col in df_ins.columns:\n",
    "    sns.scatterplot(data=df_ins, x='bmi', y='charges', hue=col)\n",
    "    plt.show()"
   ]
  },
  {
   "cell_type": "code",
   "execution_count": null,
   "id": "6e5fda20",
   "metadata": {},
   "outputs": [],
   "source": [
    "sns.scatterplot(data=df_ins, x='bmi', y='charges', hue='smoker')"
   ]
  },
  {
   "cell_type": "markdown",
   "id": "c6ca5de2",
   "metadata": {},
   "source": [
    "<br>\n",
    "\n",
    "\n",
    "## 4. 그룹별 집계값의 계산과 분포 비교\n",
    "\n",
    "범주형 변수를 그룹처럼 활용해서 그룹별 평균을 계산하고, 그룹별 상자그림을 그려서 그룹간 분포를 비교  \n",
    "한 변수의 집계에서 `groupby()`를 추가하면 되고, 필요에 따라 `agg()`를 활용 가능 "
   ]
  },
  {
   "cell_type": "code",
   "execution_count": null,
   "id": "c1f873de",
   "metadata": {},
   "outputs": [],
   "source": [
    "# 그룹별 평균 계산\n",
    "df_ins.groupby('sex', as_index=False)['charges'].mean()"
   ]
  },
  {
   "cell_type": "code",
   "execution_count": null,
   "id": "1bd7b7c2",
   "metadata": {},
   "outputs": [],
   "source": [
    "# 여러개 그룹변수를 활용한 평균 계산\n",
    "df_ins.groupby(['sex', 'smoker'], as_index=False)['charges'].mean()"
   ]
  },
  {
   "cell_type": "code",
   "execution_count": null,
   "id": "24dfbd95",
   "metadata": {},
   "outputs": [],
   "source": [
    "# 그룹별 여러 변수의 평균 계산 \n",
    "df_ins.groupby('sex', as_index=False)[['charges', 'age']].mean()"
   ]
  },
  {
   "cell_type": "code",
   "execution_count": null,
   "id": "f18850db",
   "metadata": {},
   "outputs": [],
   "source": [
    "# 그룹별 한 변수의 여러 집계값 계산\n",
    "df_ins.groupby('sex', as_index=False)['charges'].agg(['min','max','mean'])"
   ]
  },
  {
   "cell_type": "code",
   "execution_count": null,
   "id": "22d60f83",
   "metadata": {},
   "outputs": [],
   "source": [
    "df_ins.groupby('sex', as_index=False)['charges'].mean()"
   ]
  },
  {
   "cell_type": "code",
   "execution_count": null,
   "id": "6fd3e48d",
   "metadata": {},
   "outputs": [],
   "source": [
    "# 일반적인 그룹별 집계값 계산\n",
    "df_ins.groupby('sex', as_index=False).agg({'age':['min','max','mean'], 'charges':['mean', 'median']})"
   ]
  },
  {
   "cell_type": "code",
   "execution_count": null,
   "id": "677eb379",
   "metadata": {
    "scrolled": false
   },
   "outputs": [],
   "source": [
    "# 겹쳐그린 히스토그램 \n",
    "sns.histplot(data=df_ins, \n",
    "             x = 'charges',\n",
    "             hue='smoker')"
   ]
  },
  {
   "cell_type": "code",
   "execution_count": null,
   "id": "52f3d65d",
   "metadata": {},
   "outputs": [],
   "source": [
    "# 많이 겹치기 어려운 히스토그램\n",
    "sns.histplot(data=df_ins, \n",
    "             x = 'charges',\n",
    "             hue='region')"
   ]
  },
  {
   "cell_type": "code",
   "execution_count": null,
   "id": "e40ac978",
   "metadata": {},
   "outputs": [],
   "source": [
    "# 그룹별 상자그림 \n",
    "sns.boxplot(data=df_ins,\n",
    "            x='sex', \n",
    "            y='charges')\n",
    "plt.show()\n",
    "\n",
    "sns.boxplot(data=df_ins,\n",
    "            x='region', \n",
    "            y='charges')\n",
    "plt.show()"
   ]
  },
  {
   "cell_type": "code",
   "execution_count": null,
   "id": "95bc6e90",
   "metadata": {},
   "outputs": [],
   "source": [
    "# hue를 추가로 활용한 상자그림\n",
    "sns.boxplot(data=df_ins,\n",
    "            x='region', \n",
    "            y='charges',\n",
    "            hue='smoker')\n",
    "plt.show()"
   ]
  },
  {
   "cell_type": "markdown",
   "id": "093b0416",
   "metadata": {},
   "source": [
    "#### [실습] 변수 관계 탐색\n",
    "\n",
    "1. 데이터 df_sp에서 수치형 변수 하나와 범주형 변수 하나를 선택해서 그룹별 평균을 계산하고 상자그림 그리기\n",
    "2. 데이터 df_sp에서 두 그룹 변수를 활용해서 `math score`의 평균을 계산하기\n",
    "3. 2.의 세 변수를 x, y, hue로 활용해 seaborn으로 상자그림 그리기\n",
    "\n",
    "\n"
   ]
  },
  {
   "cell_type": "code",
   "execution_count": null,
   "id": "40b52501",
   "metadata": {},
   "outputs": [],
   "source": [
    "df_sp.head()"
   ]
  },
  {
   "cell_type": "code",
   "execution_count": null,
   "id": "ab992ab0",
   "metadata": {},
   "outputs": [],
   "source": [
    "df_sp.groupby('race/ethnicity', as_index=False)['math score'].mean()"
   ]
  },
  {
   "cell_type": "code",
   "execution_count": null,
   "id": "d24de25b",
   "metadata": {},
   "outputs": [],
   "source": [
    "sns.boxplot(data=df_sp, x='race/ethnicity', y='math score')"
   ]
  },
  {
   "cell_type": "code",
   "execution_count": null,
   "id": "6da942e0",
   "metadata": {},
   "outputs": [],
   "source": [
    "df_sp.groupby(['race/ethnicity', 'gender'], as_index=False)[['math score', 'reading score', 'writing score']].mean()"
   ]
  },
  {
   "cell_type": "code",
   "execution_count": null,
   "id": "80b99149",
   "metadata": {},
   "outputs": [],
   "source": [
    "sns.boxplot(data=df_sp, x='race/ethnicity', y='reading score', hue='lunch')"
   ]
  },
  {
   "cell_type": "code",
   "execution_count": null,
   "id": "88ed87b2",
   "metadata": {},
   "outputs": [],
   "source": []
  },
  {
   "cell_type": "markdown",
   "id": "fe28b623",
   "metadata": {},
   "source": [
    "## 5. 표 형태 집계와 열지도\n",
    "\n",
    "Excel의 피벗테이블과 같이 표 형태의 집계를 자주 활용  \n",
    "`crosstab()`으로 교차표를 만들거나 `pivot_table()`로 피벗테이블을 만들고 활용\n"
   ]
  },
  {
   "cell_type": "markdown",
   "id": "fef7f057",
   "metadata": {},
   "source": [
    "<br>\n",
    "\n",
    "### 5.1. 교차표 생성과 열지도 그리기\n",
    "\n",
    "한 범주형 변수의 관계를 확인할 때 개수를 센 것과 마찬가지로, 두 범주형 변수의 관계는 두 변수의 수준 조합별로 개수를 셈  \n",
    "*crosstab( )*을 활용해서 교차표를 생성하고 표 형태의 결과 데이터를 **seaborn**의 *heatmap()*에 넣어서 열지도로 시각화  "
   ]
  },
  {
   "cell_type": "code",
   "execution_count": null,
   "id": "f8da8df2",
   "metadata": {},
   "outputs": [],
   "source": [
    "# crosstab()을 활용한 교차표 생성\n",
    "tab1 = pd.crosstab(df_ins['sex'], df_ins['smoker'])\n",
    "tab1"
   ]
  },
  {
   "cell_type": "code",
   "execution_count": null,
   "id": "69fad3d4",
   "metadata": {},
   "outputs": [],
   "source": [
    "# 열지도 시각화\n",
    "    # cmap : 색상 조합\n",
    "    # annot=True : 수치 출력 여부\n",
    "    # fmt : 수치 출력 형식, 'd' 정수, '.2f' 소수점 둘째자리 소수\n",
    "sns.heatmap(tab1, cmap='icefire', annot=True, fmt='d')\n",
    "plt.show()"
   ]
  },
  {
   "cell_type": "markdown",
   "id": "94500cd2",
   "metadata": {},
   "source": [
    "* 참고: [Color Palette](https://seaborn.pydata.org/tutorial/color_palettes.html)"
   ]
  },
  {
   "cell_type": "markdown",
   "id": "d610a357",
   "metadata": {},
   "source": [
    "<br>\n",
    "\n",
    "*crosstab( )*에서 `margins=True` 옵션을 활용하면 행, 열 합계, 전체 합계 등을 한번에 계산할 수 있음"
   ]
  },
  {
   "cell_type": "code",
   "execution_count": null,
   "id": "078273e6",
   "metadata": {},
   "outputs": [],
   "source": [
    "# crosstab()을 활용한 교차표 생성\n",
    "tab1m = pd.crosstab(df_ins['sex'], df_ins['smoker'], margins=True)\n",
    "tab1m"
   ]
  },
  {
   "cell_type": "code",
   "execution_count": null,
   "id": "a133499f",
   "metadata": {},
   "outputs": [],
   "source": [
    "sns.heatmap(tab1m, cmap='YlGnBu', annot=True, fmt='d')\n",
    "plt.show()"
   ]
  },
  {
   "cell_type": "markdown",
   "id": "6111b112",
   "metadata": {},
   "source": [
    "<br>\n",
    "\n",
    "### 5.2. 행백분율과 열백분율의 계산과 열지도 그리기\n",
    "\n",
    "두 변수의 관계를 제대로 파악하기 위해서는 상대적인 숫자 계산이 필수적  \n",
    "`normalize=` 옵션을 활용해서 교차표에서 비율을 계산할 수 있음 \n",
    "\n",
    "* `normalize='all'`: 전체 중 각 셀 비중\n",
    "* `normalize='index'`: 행 백분율(행 합계 중 각 셀의 비중)\n",
    "* `normalize='columns'`: 열 백분율(열 합계 중 각 셀의 비중)\n"
   ]
  },
  {
   "cell_type": "code",
   "execution_count": null,
   "id": "4dcd7add",
   "metadata": {},
   "outputs": [],
   "source": [
    "# 전체 백분율\n",
    "    # normalize : '정규화'\n",
    "tab1_all = pd.crosstab(df_ins['sex'], df_ins['smoker'], normalize='all')\n",
    "sns.heatmap(tab1_all, cmap='YlGnBu', annot=True, fmt='.2f')"
   ]
  },
  {
   "cell_type": "code",
   "execution_count": null,
   "id": "c0bc6bf8",
   "metadata": {},
   "outputs": [],
   "source": [
    "# 행백분율\n",
    "    # normalize='index'\n",
    "tab1_idx = pd.crosstab(df_ins['sex'], df_ins['smoker'], normalize='index')\n",
    "tab1_idx\n",
    "sns.heatmap(tab1_idx, cmap='YlGnBu', annot=True, fmt='.2f')"
   ]
  },
  {
   "cell_type": "code",
   "execution_count": null,
   "id": "8cb0dcb6",
   "metadata": {
    "scrolled": false
   },
   "outputs": [],
   "source": [
    "# 열백분율\n",
    "    # normalize='index'\n",
    "tab1_col = pd.crosstab(df_ins['sex'], df_ins['smoker'], normalize='columns')\n",
    "tab1_col\n",
    "sns.heatmap(tab1_col, cmap='YlGnBu', annot=True, fmt='.2f')"
   ]
  },
  {
   "cell_type": "code",
   "execution_count": null,
   "id": "d8b8cabd",
   "metadata": {
    "scrolled": false
   },
   "outputs": [],
   "source": [
    "# 전체 비율을 추가한 열백분율\n",
    "    # margins=True\n",
    "tab1_col = pd.crosstab(df_ins['sex'], df_ins['smoker'], normalize='columns', margins=True)\n",
    "tab1_col\n",
    "sns.heatmap(tab1_col, cmap='YlGnBu', annot=True, fmt='.2f')"
   ]
  },
  {
   "cell_type": "markdown",
   "id": "b7eb89a8",
   "metadata": {},
   "source": [
    "#### [실습] 두 범주형 변수의 관계 탐색\n",
    "\n",
    "1. df_sp에서 'race/ethnicity'와 'parental level of education'의 교차표 만들기\n",
    "2. 1.의 교차표에 margin 추가하기\n",
    "3. 1.의 교차표를 seaborn의 heatmap( )으로 열지도로 시각화하기\n",
    "4. 2.의 교차표에서 행 백분율, 열 백분율 계산하고 시각화 하기\n",
    "5. 'race/ethnicity'와 'parental level of education'의 관계 해석하기"
   ]
  },
  {
   "cell_type": "code",
   "execution_count": null,
   "id": "6db68130",
   "metadata": {},
   "outputs": [],
   "source": [
    "df_sp.head()"
   ]
  },
  {
   "cell_type": "code",
   "execution_count": null,
   "id": "caa14441",
   "metadata": {},
   "outputs": [],
   "source": [
    "tab = pd.crosstab(df_sp['race/ethnicity'], df_sp['parental level of education'])\n",
    "tab"
   ]
  },
  {
   "cell_type": "code",
   "execution_count": null,
   "id": "5d43005f",
   "metadata": {},
   "outputs": [],
   "source": [
    "pd.crosstab(df_sp['race/ethnicity'], df_sp['parental level of education'], margins=True)"
   ]
  },
  {
   "cell_type": "code",
   "execution_count": null,
   "id": "2ff4a837",
   "metadata": {},
   "outputs": [],
   "source": [
    "sns.heatmap(tab, cmap='YlGnBu', annot=True)"
   ]
  },
  {
   "cell_type": "code",
   "execution_count": null,
   "id": "a61fd9c4",
   "metadata": {},
   "outputs": [],
   "source": [
    "tab = pd.crosstab(df_sp['race/ethnicity'], df_sp['parental level of education'], margins=True, normalize='index')\n",
    "sns.heatmap(tab, cmap='YlGnBu', annot=True)"
   ]
  },
  {
   "cell_type": "markdown",
   "id": "44a1e772",
   "metadata": {},
   "source": [
    "### 5.3. 피벗테이블 생성 \n",
    "\n",
    "pandas의 *pivot_table()*을 활용하면 Excel의 피벗테이블과 동일한 표 형태의 집계 가능"
   ]
  },
  {
   "cell_type": "code",
   "execution_count": null,
   "id": "2d96c50f",
   "metadata": {},
   "outputs": [],
   "source": [
    "# pivot_table()을 활용한 교차표 작성\n",
    "    ## index  : 행 그룹변수\n",
    "    ## columns: 열 그룹변수 \n",
    "    ## values : 값 변수\n",
    "    ## aggfunc: 집계 함수\n",
    "pd.pivot_table(df_ins, index='sex', columns='region', values='charges', aggfunc='size')\n"
   ]
  },
  {
   "cell_type": "code",
   "execution_count": null,
   "id": "9f5b2084",
   "metadata": {},
   "outputs": [],
   "source": [
    "# pivot_table()을 활용한 평균 피벗테이블\n",
    "pd.pivot_table(df_ins, index='sex', columns='region', values='charges', aggfunc='mean')"
   ]
  },
  {
   "cell_type": "code",
   "execution_count": null,
   "id": "be48bc12",
   "metadata": {},
   "outputs": [],
   "source": [
    "# DataFrmae의 method, pivot_table()을 활용한 평균 피벗테이블\n",
    "agg2_wide = df_ins.pivot_table(index='sex', columns='region', values='charges', aggfunc='mean')\n",
    "agg2_wide"
   ]
  },
  {
   "cell_type": "code",
   "execution_count": null,
   "id": "cef4fa79",
   "metadata": {},
   "outputs": [],
   "source": [
    "# 열지도 시각화\n",
    "sns.heatmap(agg2_wide, cmap='YlGnBu', annot=True, fmt='.2f')"
   ]
  },
  {
   "cell_type": "markdown",
   "id": "0a7da8ee",
   "metadata": {},
   "source": [
    "<br>\n",
    "\n",
    "#### [실습] df_sp 활용\n",
    "\n",
    "1. 'race/ethnicity', 'parental level of education'별 'math score'의 평균을 피벗테이블로 계산\n",
    "2. 1.의 결과를 열지도로 시각화"
   ]
  },
  {
   "cell_type": "code",
   "execution_count": null,
   "id": "9e6e98fb",
   "metadata": {},
   "outputs": [],
   "source": [
    "df_sp.head()"
   ]
  },
  {
   "cell_type": "code",
   "execution_count": null,
   "id": "1da3002d",
   "metadata": {},
   "outputs": [],
   "source": [
    "tab = df_sp.pivot_table(index='race/ethnicity', columns='parental level of education', values='math score', aggfunc='mean')\n",
    "tab"
   ]
  },
  {
   "cell_type": "code",
   "execution_count": null,
   "id": "41c282dd",
   "metadata": {},
   "outputs": [],
   "source": [
    "sns.heatmap(tab, cmap='YlGnBu', annot=True)"
   ]
  },
  {
   "cell_type": "markdown",
   "id": "ad2e1d1a",
   "metadata": {},
   "source": [
    "### 5.4. 형태 변환\n",
    "\n",
    "상황에 따라 *groupby()*를 써서 아래로 길게 늘어뜨린 요약 결과를 만들 수도 있고, *crosstab()*나 *pivot_table()*처럼 옆으로 펼친 결과를 만들기도 함  \n",
    "\n",
    "두 데이터 형태는 각각 *pivot( )*과 *melt( )*로 전환 가능\n",
    "\n"
   ]
  },
  {
   "cell_type": "code",
   "execution_count": null,
   "id": "1032a9a1",
   "metadata": {},
   "outputs": [],
   "source": [
    "# groupby()로 아래로 늘어뜨린 요약 결과 생성\n",
    "agg2_long = df_ins.groupby(['sex','region'], as_index=False)['charges'].mean()\n",
    "agg2_long"
   ]
  },
  {
   "cell_type": "code",
   "execution_count": null,
   "id": "bbafeedc",
   "metadata": {},
   "outputs": [],
   "source": [
    "# DataFrmae의 method, pivot_table()을 활용한 평균 피벗테이블\n",
    "agg2_wide = df_ins.pivot_table(index='sex', columns='region', values='charges', aggfunc='mean')\n",
    "agg2_wide"
   ]
  },
  {
   "cell_type": "code",
   "execution_count": null,
   "id": "efe124fe",
   "metadata": {},
   "outputs": [],
   "source": [
    "# 형태에 따른 그래프 작성 차이\n",
    "import matplotlib.pyplot as plt\n",
    "import seaborn as sns\n",
    "\n",
    "# long -> 막대그래프\n",
    "sns.barplot(data=agg2_long,\n",
    "            x  ='region',\n",
    "            y  ='charges',\n",
    "            hue='sex')\n",
    "plt.show()\n",
    "\n",
    "\n",
    "# wide -> 열지도\n",
    "sns.heatmap(agg2_wide, cmap='YlGnBu')\n",
    "plt.show()\n"
   ]
  },
  {
   "cell_type": "code",
   "execution_count": null,
   "id": "f74802b6",
   "metadata": {},
   "outputs": [],
   "source": [
    "# pivot()을 활용한 long -> wide 변환\n",
    "pd.pivot(agg2_long, index='sex', columns='region', values='charges')\n",
    "agg2_long.pivot(index='sex', columns='region', values='charges')"
   ]
  },
  {
   "cell_type": "code",
   "execution_count": null,
   "id": "5d8ee5c9",
   "metadata": {},
   "outputs": [],
   "source": [
    "# melt()를 활용한 wide-> long 변환\n",
    "    # 먼저 index를 변수로 변환\n",
    "agg2_wide.reset_index()"
   ]
  },
  {
   "cell_type": "code",
   "execution_count": null,
   "id": "0849c991",
   "metadata": {},
   "outputs": [],
   "source": [
    "pd.melt(agg2_wide.reset_index(), id_vars='sex')"
   ]
  },
  {
   "cell_type": "code",
   "execution_count": null,
   "id": "5df4d82a",
   "metadata": {},
   "outputs": [],
   "source": [
    "pd.melt(agg2_wide.reset_index(), id_vars='sex', value_name='charges')"
   ]
  },
  {
   "cell_type": "markdown",
   "id": "c2d66563",
   "metadata": {},
   "source": [
    "<br>\n",
    "\n",
    "#### [실습] 데이터 df_sp 활용\n",
    "\n",
    "1. groupby()를 활용해서 'race/ethnicity', 'parental level of education'별 'writing score'의 중앙값 계산하고 저장하기\n",
    "\n",
    "2. pivot_table()를 활용해서 'race/ethnicity', 'parental level of education'별 'writing score'의 중앙값 계산하고 저장하기\n",
    "\n",
    "3. 1.의 결과를 pivot()을 활용해서 2.와 동일하게 변환하기\n",
    "\n",
    "4. 2.의 결과를 melt()를 활용해서 1.과 동일하게 만들기\n",
    "\n",
    "5. 3.의 결과를 seaborn의 heatmap()으로 시각화하기\n",
    "\n",
    "\n"
   ]
  },
  {
   "cell_type": "code",
   "execution_count": null,
   "id": "ab077e5e",
   "metadata": {},
   "outputs": [],
   "source": [
    "df_sp.head()"
   ]
  },
  {
   "cell_type": "code",
   "execution_count": null,
   "id": "a401f67c",
   "metadata": {},
   "outputs": [],
   "source": [
    "agg_long = df_sp.groupby(['race/ethnicity', 'parental level of education'], as_index=False)['writing score'].median()\n",
    "agg_long"
   ]
  },
  {
   "cell_type": "code",
   "execution_count": null,
   "id": "539aae9b",
   "metadata": {},
   "outputs": [],
   "source": [
    "agg_wide = df_sp.pivot_table(index='race/ethnicity', columns='parental level of education', values='writing score', aggfunc='median')\n",
    "agg_wide"
   ]
  },
  {
   "cell_type": "code",
   "execution_count": null,
   "id": "b5e2cac8",
   "metadata": {},
   "outputs": [],
   "source": [
    "agg_long.pivot(index='race/ethnicity', columns='parental level of education', values='writing score')"
   ]
  },
  {
   "cell_type": "code",
   "execution_count": null,
   "id": "cae7353a",
   "metadata": {},
   "outputs": [],
   "source": [
    "pd.melt(agg_wide.reset_index(), id_vars='race/ethnicity', value_name='writing score')"
   ]
  },
  {
   "cell_type": "code",
   "execution_count": null,
   "id": "acf6d298",
   "metadata": {},
   "outputs": [],
   "source": [
    "sns.heatmap(agg_wide, cmap=\"YlGnBu\", annot=True)"
   ]
  },
  {
   "cell_type": "code",
   "execution_count": null,
   "id": "820ed850",
   "metadata": {},
   "outputs": [],
   "source": [
    "sns.boxplot(data=df_sp, y='writing score', x='parental level of education', hue='race/ethnicity')"
   ]
  },
  {
   "cell_type": "markdown",
   "id": "38b116f1",
   "metadata": {},
   "source": [
    "<br>\n",
    "\n",
    "\n",
    "## 6. 데이터 집계와 데이터 처리 \n",
    "\n",
    "데이터 집계를 통해 얻은 정보를 다양한 방법으로 데이터 처리에 활용 가능  \n",
    "가장 대표적인 방법은 데이터 집계를 통해 관심 대상을 확인하고 선택하는 방법"
   ]
  },
  {
   "cell_type": "code",
   "execution_count": null,
   "id": "db7a9500",
   "metadata": {},
   "outputs": [],
   "source": [
    "# 집계값의 계산\n",
    "agg2 = df_ins.groupby('region', as_index=False)['charges'].median()"
   ]
  },
  {
   "cell_type": "code",
   "execution_count": null,
   "id": "b97a9132",
   "metadata": {},
   "outputs": [],
   "source": [
    "# 상위 2개 지역 선택\n",
    "target_region = agg2.nlargest(2, 'charges')['region']"
   ]
  },
  {
   "cell_type": "code",
   "execution_count": null,
   "id": "0241d7d6",
   "metadata": {},
   "outputs": [],
   "source": [
    "# 전체 관측치에서 .isin()을 활용하여 해당 지역 관측치만 선택\n",
    "cond = df_ins['region'].isin(target_region)"
   ]
  },
  {
   "cell_type": "code",
   "execution_count": null,
   "id": "e1ee9836",
   "metadata": {},
   "outputs": [],
   "source": [
    "df_ins[cond]"
   ]
  },
  {
   "cell_type": "markdown",
   "id": "c2f518a0",
   "metadata": {},
   "source": [
    "<br>\n",
    "\n",
    "#### [실습] df_sp 활용\n",
    "\n",
    "1. 'parental level of education'별 'reading score'의 평균을 계산하고 **df_agg**로 저장하기\n",
    "2. 1.의 **df_agg**에서 평균 점수 기준 상위 3개 관측치를 선택하고 변수 'parental level of education' 선택해서 **target_grp**로 저장하기\n",
    "3. 2.의 **target_grp**와 *isin()*을 활용하여 전체 데이터 **df_sp**에서 해당 그룹 관측치(행)을 선택하고 **df_sub**로 저장하기\n",
    "4. 3.의 **df_sub**를 활용하여 'race/ethnicity'별 'writing score'의 평균 계산"
   ]
  },
  {
   "cell_type": "code",
   "execution_count": null,
   "id": "94bd130b",
   "metadata": {},
   "outputs": [],
   "source": [
    "df_agg = df_sp.groupby('parental level of education', as_index=False)['reading score'].mean()\n",
    "df_agg"
   ]
  },
  {
   "cell_type": "code",
   "execution_count": null,
   "id": "d7009a85",
   "metadata": {},
   "outputs": [],
   "source": [
    "target_grp = df_agg.nlargest(3, 'reading score')['parental level of education']\n",
    "target_grp"
   ]
  },
  {
   "cell_type": "code",
   "execution_count": null,
   "id": "de7c8bf2",
   "metadata": {},
   "outputs": [],
   "source": [
    "df_sub = df_sp[  df_sp['parental level of education'].isin(target_grp)    ]\n",
    "df_sub"
   ]
  },
  {
   "cell_type": "code",
   "execution_count": null,
   "id": "7b89013d",
   "metadata": {},
   "outputs": [],
   "source": [
    "df_sub.groupby('race/ethnicity', as_index=False)['writing score'].mean()"
   ]
  },
  {
   "cell_type": "code",
   "execution_count": null,
   "id": "88669f52",
   "metadata": {},
   "outputs": [],
   "source": [
    "cond = df_sp['parental level of education'].isin(target_grp)\n",
    "df_sub = df_sp[cond]"
   ]
  },
  {
   "cell_type": "markdown",
   "id": "6804ede0",
   "metadata": {},
   "source": [
    "<br>\n",
    "\n",
    "## 7. 결과 데이터와 그래프의 저장\n",
    "\n",
    "함수를 활용해서 분석 결과 데이터와 그래프를 저장 가능"
   ]
  },
  {
   "cell_type": "code",
   "execution_count": null,
   "id": "41b27d2c",
   "metadata": {},
   "outputs": [],
   "source": [
    "# 폴더 생성\n",
    "%mkdir result"
   ]
  },
  {
   "cell_type": "code",
   "execution_count": null,
   "id": "ad5da86b",
   "metadata": {},
   "outputs": [],
   "source": [
    "# 대상 결과 데이터 확인\n",
    "df_sub"
   ]
  },
  {
   "cell_type": "code",
   "execution_count": null,
   "id": "1dd35887",
   "metadata": {},
   "outputs": [],
   "source": [
    "# to_csv()로 결과 데이터를 csv 형식으로 저장하기\n",
    "df_sub.to_csv('result/result.csv', index=True)"
   ]
  },
  {
   "cell_type": "code",
   "execution_count": null,
   "id": "e8630696",
   "metadata": {},
   "outputs": [],
   "source": [
    "# 대상 그래프 확인\n",
    "pt1 = df_ins.pivot_table(index='region', columns='smoker', values='charges', aggfunc='mean')\n",
    "plot1 = sns.heatmap(pt1, cmap='Blues', annot=True, fmt='.2f')\n",
    "plot1"
   ]
  },
  {
   "cell_type": "code",
   "execution_count": null,
   "id": "82bf786e",
   "metadata": {},
   "outputs": [],
   "source": [
    "# savefig()을 활용한 그래프 저장\n",
    "plot1.figure.savefig('result/plot1.jpg')"
   ]
  },
  {
   "cell_type": "markdown",
   "id": "d795f598",
   "metadata": {},
   "source": [
    "<br>\n",
    "<hr>\n",
    "<br>\n",
    "\n",
    "## 8. 반응형 그래프의 활용\n",
    "\n",
    "**plotly**를 활용해서 반응형 그래프를 그려서 탐색적 데이터 분석(EDA) 과정에서 유용하게 활용 가능\n",
    "\n",
    "* 참고: [Plotly](https://plotly.com/python/)"
   ]
  },
  {
   "cell_type": "code",
   "execution_count": null,
   "id": "a6e6b690",
   "metadata": {},
   "outputs": [],
   "source": [
    "# seaborn을 활용한 산점도 \n",
    "sns.scatterplot(data=df_ins, \n",
    "                x='bmi',\n",
    "                y='charges', \n",
    "                hue='smoker')"
   ]
  },
  {
   "cell_type": "code",
   "execution_count": null,
   "id": "348c21e3",
   "metadata": {},
   "outputs": [],
   "source": [
    "import plotly.express as px\n",
    "\n",
    "px.scatter(df_ins,\n",
    "           x='bmi',\n",
    "           y='charges', \n",
    "           color='smoker')"
   ]
  },
  {
   "cell_type": "markdown",
   "id": "c12d9c25",
   "metadata": {},
   "source": [
    "#### [실습]\n",
    "1. df_sp에서 `parental level of education`별로 색을 다르게 한  `math score`와 `reading score`의 산점도 그리기 "
   ]
  },
  {
   "cell_type": "code",
   "execution_count": 156,
   "id": "9ae5effb",
   "metadata": {},
   "outputs": [
    {
     "data": {
      "application/vnd.plotly.v1+json": {
       "config": {
        "plotlyServerURL": "https://plot.ly"
       },
       "data": [
        {
         "hovertemplate": "parental level of education=bachelor's degree<br>math score=%{x}<br>reading score=%{y}<extra></extra>",
         "legendgroup": "bachelor's degree",
         "marker": {
          "color": "#636efa",
          "symbol": "circle"
         },
         "mode": "markers",
         "name": "bachelor's degree",
         "orientation": "v",
         "showlegend": true,
         "type": "scatter",
         "x": [
          72,
          74,
          67,
          79,
          80,
          65,
          65,
          68,
          99,
          75,
          78,
          79,
          51,
          74,
          58,
          68,
          77,
          54,
          96,
          43,
          77,
          78,
          82,
          67,
          83,
          63,
          80,
          63,
          69,
          83,
          73,
          73,
          88,
          65,
          66,
          67,
          59,
          63,
          83,
          77,
          52,
          61,
          49,
          61,
          59,
          66,
          64,
          51,
          71,
          86,
          37,
          79,
          100,
          53,
          75,
          71,
          76,
          81,
          55,
          86,
          69,
          29,
          66,
          85,
          87,
          96,
          48,
          92,
          68,
          91,
          63,
          44,
          68,
          92,
          56,
          94,
          37,
          88,
          62,
          61,
          66,
          65,
          77,
          66,
          59,
          79,
          87,
          62,
          80,
          50,
          70,
          75,
          62,
          91,
          59,
          45,
          61,
          78,
          74,
          64,
          97,
          65,
          39,
          43,
          63,
          71,
          55,
          93,
          67,
          70,
          50,
          52,
          47,
          100,
          70,
          75,
          89,
          62
         ],
         "xaxis": "x",
         "y": [
          72,
          71,
          69,
          74,
          78,
          72,
          67,
          74,
          100,
          85,
          82,
          92,
          49,
          79,
          55,
          75,
          67,
          49,
          100,
          51,
          88,
          79,
          62,
          86,
          82,
          66,
          83,
          75,
          63,
          78,
          56,
          79,
          75,
          73,
          60,
          61,
          64,
          71,
          93,
          94,
          65,
          72,
          58,
          66,
          70,
          64,
          73,
          72,
          74,
          83,
          56,
          89,
          100,
          58,
          58,
          76,
          62,
          88,
          59,
          92,
          58,
          41,
          83,
          66,
          90,
          90,
          51,
          100,
          68,
          96,
          73,
          63,
          68,
          100,
          79,
          90,
          45,
          78,
          63,
          58,
          74,
          81,
          85,
          74,
          72,
          81,
          84,
          72,
          73,
          60,
          68,
          73,
          78,
          81,
          54,
          59,
          70,
          90,
          86,
          60,
          97,
          79,
          42,
          62,
          64,
          70,
          46,
          100,
          75,
          64,
          42,
          61,
          62,
          100,
          75,
          84,
          100,
          72
         ],
         "yaxis": "y"
        },
        {
         "hovertemplate": "parental level of education=some college<br>math score=%{x}<br>reading score=%{y}<extra></extra>",
         "legendgroup": "some college",
         "marker": {
          "color": "#EF553B",
          "symbol": "circle"
         },
         "mode": "markers",
         "name": "some college",
         "orientation": "v",
         "showlegend": true,
         "type": "scatter",
         "x": [
          69,
          76,
          88,
          40,
          78,
          65,
          44,
          69,
          69,
          63,
          40,
          97,
          59,
          53,
          53,
          58,
          60,
          58,
          63,
          50,
          73,
          76,
          58,
          79,
          63,
          58,
          79,
          98,
          58,
          51,
          55,
          88,
          83,
          65,
          87,
          75,
          71,
          59,
          42,
          88,
          22,
          70,
          60,
          75,
          67,
          79,
          46,
          76,
          77,
          45,
          65,
          59,
          74,
          58,
          35,
          72,
          88,
          76,
          54,
          59,
          71,
          62,
          70,
          79,
          71,
          58,
          65,
          88,
          70,
          81,
          69,
          99,
          71,
          82,
          61,
          28,
          61,
          79,
          62,
          66,
          63,
          59,
          42,
          59,
          80,
          52,
          59,
          84,
          45,
          82,
          67,
          77,
          76,
          53,
          49,
          84,
          68,
          41,
          62,
          50,
          67,
          69,
          64,
          100,
          65,
          54,
          71,
          77,
          84,
          91,
          68,
          61,
          83,
          54,
          59,
          76,
          63,
          76,
          74,
          66,
          71,
          68,
          77,
          32,
          74,
          63,
          63,
          71,
          53,
          61,
          48,
          69,
          54,
          58,
          76,
          61,
          69,
          58,
          100,
          100,
          49,
          67,
          86,
          69,
          85,
          62,
          74,
          55,
          63,
          73,
          69,
          50,
          73,
          63,
          62,
          85,
          93,
          79,
          63,
          66,
          93,
          98,
          62,
          47,
          81,
          53,
          87,
          53,
          53,
          55,
          69,
          87,
          68,
          55,
          52,
          69,
          60,
          58,
          66,
          35,
          72,
          19,
          60,
          69,
          82,
          73,
          75,
          64,
          49,
          61,
          58,
          74,
          87,
          75,
          71,
          82,
          70,
          80,
          81,
          69,
          86,
          88,
          79,
          69,
          68,
          91,
          67,
          62,
          70,
          85,
          49,
          75,
          62,
          84,
          56,
          72,
          62,
          63,
          49,
          54,
          64,
          60,
          78,
          67,
          68,
          77
         ],
         "xaxis": "x",
         "y": [
          90,
          78,
          95,
          43,
          72,
          75,
          54,
          54,
          74,
          65,
          42,
          87,
          65,
          55,
          44,
          59,
          72,
          63,
          55,
          47,
          80,
          83,
          70,
          86,
          72,
          67,
          67,
          86,
          67,
          58,
          69,
          93,
          80,
          77,
          74,
          81,
          61,
          62,
          55,
          73,
          39,
          89,
          60,
          88,
          75,
          86,
          64,
          83,
          62,
          53,
          81,
          41,
          81,
          61,
          28,
          72,
          95,
          64,
          52,
          51,
          83,
          73,
          75,
          79,
          76,
          49,
          70,
          85,
          78,
          78,
          67,
          87,
          81,
          90,
          61,
          23,
          68,
          73,
          61,
          57,
          78,
          71,
          66,
          62,
          90,
          58,
          60,
          77,
          73,
          97,
          76,
          68,
          67,
          43,
          65,
          83,
          59,
          39,
          67,
          48,
          81,
          66,
          85,
          92,
          58,
          54,
          70,
          90,
          87,
          74,
          68,
          47,
          83,
          48,
          78,
          71,
          61,
          71,
          89,
          74,
          49,
          60,
          62,
          39,
          75,
          74,
          80,
          75,
          62,
          51,
          56,
          77,
          64,
          57,
          78,
          64,
          60,
          59,
          96,
          97,
          57,
          64,
          76,
          79,
          86,
          67,
          77,
          71,
          73,
          74,
          78,
          64,
          78,
          61,
          66,
          75,
          90,
          89,
          64,
          59,
          84,
          100,
          72,
          43,
          74,
          39,
          89,
          58,
          66,
          55,
          64,
          84,
          72,
          58,
          59,
          77,
          63,
          60,
          65,
          44,
          79,
          38,
          66,
          60,
          85,
          76,
          81,
          74,
          52,
          60,
          50,
          77,
          85,
          68,
          71,
          82,
          72,
          64,
          82,
          65,
          85,
          77,
          84,
          84,
          70,
          96,
          74,
          57,
          63,
          81,
          58,
          77,
          69,
          87,
          58,
          57,
          70,
          63,
          65,
          63,
          82,
          62,
          87,
          86,
          78,
          86
         ],
         "yaxis": "y"
        },
        {
         "hovertemplate": "parental level of education=master's degree<br>math score=%{x}<br>reading score=%{y}<extra></extra>",
         "legendgroup": "master's degree",
         "marker": {
          "color": "#00cc96",
          "symbol": "circle"
         },
         "mode": "markers",
         "name": "master's degree",
         "orientation": "v",
         "showlegend": true,
         "type": "scatter",
         "x": [
          90,
          50,
          46,
          73,
          62,
          56,
          62,
          87,
          82,
          89,
          49,
          81,
          58,
          81,
          52,
          62,
          69,
          45,
          80,
          65,
          77,
          85,
          79,
          73,
          70,
          47,
          55,
          74,
          40,
          79,
          77,
          54,
          64,
          79,
          61,
          61,
          53,
          54,
          84,
          40,
          95,
          94,
          81,
          67,
          79,
          77,
          52,
          54,
          90,
          91,
          71,
          81,
          50,
          85,
          73,
          72,
          78,
          92,
          88
         ],
         "xaxis": "x",
         "y": [
          95,
          53,
          42,
          74,
          70,
          72,
          68,
          100,
          82,
          84,
          53,
          92,
          76,
          91,
          70,
          68,
          84,
          56,
          80,
          81,
          82,
          95,
          81,
          70,
          71,
          58,
          64,
          79,
          59,
          78,
          97,
          59,
          63,
          72,
          67,
          71,
          61,
          60,
          89,
          58,
          81,
          99,
          81,
          57,
          77,
          90,
          65,
          64,
          85,
          85,
          67,
          86,
          67,
          84,
          78,
          66,
          91,
          100,
          99
         ],
         "yaxis": "y"
        },
        {
         "hovertemplate": "parental level of education=associate's degree<br>math score=%{x}<br>reading score=%{y}<extra></extra>",
         "legendgroup": "associate's degree",
         "marker": {
          "color": "#ab63fa",
          "symbol": "circle"
         },
         "mode": "markers",
         "name": "associate's degree",
         "orientation": "v",
         "showlegend": true,
         "type": "scatter",
         "x": [
          47,
          71,
          58,
          40,
          54,
          81,
          74,
          75,
          57,
          55,
          58,
          53,
          50,
          65,
          55,
          57,
          77,
          82,
          52,
          62,
          69,
          61,
          39,
          41,
          44,
          47,
          72,
          71,
          43,
          78,
          85,
          66,
          52,
          77,
          54,
          91,
          59,
          73,
          100,
          59,
          61,
          66,
          82,
          63,
          71,
          65,
          65,
          66,
          61,
          67,
          69,
          57,
          60,
          83,
          87,
          52,
          46,
          80,
          84,
          85,
          89,
          64,
          78,
          88,
          47,
          81,
          97,
          76,
          67,
          71,
          90,
          67,
          80,
          74,
          53,
          73,
          68,
          83,
          56,
          82,
          47,
          62,
          90,
          49,
          67,
          87,
          46,
          63,
          46,
          80,
          87,
          57,
          57,
          85,
          65,
          82,
          87,
          71,
          74,
          82,
          64,
          75,
          75,
          73,
          81,
          65,
          53,
          53,
          26,
          83,
          68,
          90,
          80,
          76,
          52,
          49,
          60,
          79,
          65,
          64,
          94,
          95,
          91,
          62,
          68,
          62,
          79,
          51,
          97,
          79,
          81,
          82,
          40,
          53,
          55,
          53,
          48,
          40,
          73,
          65,
          85,
          58,
          65,
          82,
          65,
          69,
          61,
          76,
          74,
          59,
          65,
          77,
          43,
          90,
          80,
          81,
          52,
          65,
          81,
          77,
          49,
          73,
          77,
          75,
          57,
          42,
          76,
          73,
          96,
          91,
          65,
          68,
          92,
          81,
          37,
          59,
          72,
          58,
          84,
          94,
          46,
          52,
          68,
          57,
          70,
          52,
          87,
          56,
          58,
          66,
          80,
          87,
          53,
          97,
          61,
          78,
          49,
          82,
          90,
          64,
          51,
          62,
          93,
          85,
          59,
          67,
          46,
          57,
          54,
          64,
          46,
          61,
          98,
          67,
          54,
          72,
          100,
          68,
          62,
          91,
          40,
          55
         ],
         "xaxis": "x",
         "y": [
          57,
          83,
          54,
          52,
          58,
          81,
          81,
          90,
          56,
          61,
          73,
          58,
          56,
          54,
          65,
          74,
          69,
          85,
          55,
          61,
          80,
          58,
          64,
          51,
          41,
          49,
          64,
          71,
          45,
          81,
          91,
          63,
          76,
          89,
          53,
          89,
          66,
          68,
          100,
          70,
          86,
          62,
          78,
          67,
          77,
          69,
          67,
          65,
          55,
          84,
          77,
          69,
          51,
          86,
          85,
          66,
          43,
          75,
          80,
          76,
          76,
          73,
          77,
          92,
          53,
          82,
          82,
          70,
          62,
          74,
          87,
          84,
          76,
          75,
          71,
          76,
          67,
          72,
          65,
          75,
          37,
          56,
          78,
          51,
          72,
          74,
          58,
          61,
          43,
          86,
          100,
          78,
          54,
          89,
          65,
          80,
          84,
          66,
          73,
          93,
          66,
          68,
          66,
          83,
          73,
          77,
          61,
          54,
          31,
          85,
          86,
          90,
          68,
          71,
          59,
          52,
          75,
          82,
          85,
          64,
          87,
          89,
          86,
          74,
          67,
          61,
          88,
          60,
          92,
          82,
          77,
          95,
          48,
          45,
          72,
          70,
          43,
          55,
          75,
          76,
          84,
          63,
          77,
          93,
          73,
          70,
          48,
          74,
          88,
          70,
          70,
          67,
          60,
          87,
          63,
          72,
          57,
          84,
          75,
          78,
          53,
          76,
          77,
          82,
          78,
          61,
          94,
          78,
          96,
          73,
          75,
          77,
          79,
          71,
          57,
          73,
          79,
          55,
          95,
          85,
          56,
          59,
          65,
          68,
          84,
          55,
          94,
          68,
          57,
          77,
          75,
          73,
          62,
          93,
          42,
          74,
          51,
          84,
          90,
          76,
          51,
          76,
          100,
          92,
          62,
          54,
          61,
          77,
          65,
          56,
          43,
          71,
          87,
          57,
          61,
          57,
          100,
          76,
          65,
          95,
          59,
          76
         ],
         "yaxis": "y"
        },
        {
         "hovertemplate": "parental level of education=high school<br>math score=%{x}<br>reading score=%{y}<extra></extra>",
         "legendgroup": "high school",
         "marker": {
          "color": "#FFA15A",
          "symbol": "circle"
         },
         "mode": "markers",
         "name": "high school",
         "orientation": "v",
         "showlegend": true,
         "type": "scatter",
         "x": [
          64,
          38,
          65,
          88,
          66,
          70,
          66,
          82,
          88,
          33,
          49,
          42,
          27,
          71,
          60,
          62,
          84,
          63,
          87,
          70,
          57,
          66,
          52,
          53,
          68,
          72,
          46,
          50,
          80,
          55,
          81,
          42,
          87,
          34,
          66,
          56,
          57,
          73,
          56,
          58,
          65,
          68,
          54,
          99,
          76,
          69,
          59,
          53,
          45,
          78,
          40,
          49,
          71,
          67,
          75,
          41,
          71,
          58,
          61,
          69,
          72,
          75,
          58,
          69,
          62,
          48,
          50,
          88,
          54,
          52,
          84,
          57,
          57,
          61,
          61,
          70,
          78,
          86,
          47,
          72,
          72,
          77,
          63,
          73,
          59,
          70,
          54,
          68,
          68,
          67,
          53,
          36,
          73,
          51,
          75,
          72,
          62,
          63,
          50,
          74,
          81,
          55,
          74,
          30,
          69,
          29,
          60,
          60,
          35,
          58,
          79,
          75,
          71,
          67,
          41,
          74,
          70,
          64,
          50,
          68,
          65,
          66,
          69,
          67,
          60,
          62,
          53,
          66,
          46,
          89,
          76,
          50,
          73,
          61,
          81,
          69,
          53,
          62,
          74,
          58,
          76,
          52,
          66,
          76,
          48,
          66,
          42,
          70,
          41,
          90,
          45,
          72,
          60,
          71,
          62,
          77,
          60,
          73,
          75,
          39,
          23,
          64,
          59,
          61,
          52,
          59,
          59,
          64,
          54,
          44,
          36,
          34,
          57,
          44,
          69,
          35,
          72,
          74,
          65,
          57,
          81,
          58,
          82,
          57,
          94,
          58,
          45,
          75,
          53,
          55,
          8,
          57,
          86,
          63,
          62,
          59
         ],
         "xaxis": "x",
         "y": [
          64,
          60,
          81,
          89,
          69,
          70,
          71,
          84,
          78,
          41,
          45,
          39,
          34,
          79,
          44,
          55,
          77,
          57,
          95,
          55,
          43,
          74,
          53,
          51,
          83,
          73,
          54,
          50,
          76,
          56,
          80,
          62,
          91,
          42,
          77,
          68,
          50,
          68,
          52,
          70,
          64,
          60,
          52,
          93,
          73,
          72,
          63,
          52,
          48,
          77,
          46,
          57,
          66,
          79,
          86,
          46,
          60,
          61,
          73,
          76,
          80,
          74,
          62,
          58,
          64,
          45,
          67,
          99,
          59,
          57,
          73,
          56,
          58,
          72,
          56,
          56,
          81,
          81,
          46,
          65,
          67,
          88,
          69,
          71,
          52,
          74,
          64,
          64,
          70,
          78,
          52,
          53,
          69,
          66,
          69,
          67,
          67,
          48,
          66,
          81,
          91,
          73,
          76,
          24,
          77,
          29,
          57,
          68,
          61,
          51,
          60,
          88,
          74,
          80,
          52,
          79,
          65,
          62,
          53,
          80,
          69,
          76,
          77,
          72,
          68,
          55,
          58,
          66,
          34,
          87,
          76,
          48,
          92,
          60,
          84,
          75,
          72,
          62,
          72,
          75,
          62,
          48,
          72,
          85,
          62,
          74,
          52,
          70,
          45,
          75,
          47,
          80,
          72,
          87,
          67,
          82,
          64,
          64,
          82,
          52,
          44,
          54,
          72,
          68,
          49,
          53,
          58,
          73,
          72,
          51,
          29,
          48,
          48,
          61,
          70,
          53,
          66,
          70,
          61,
          58,
          66,
          68,
          82,
          75,
          73,
          52,
          63,
          81,
          50,
          41,
          24,
          51,
          81,
          63,
          55,
          71
         ],
         "yaxis": "y"
        },
        {
         "hovertemplate": "parental level of education=some high school<br>math score=%{x}<br>reading score=%{y}<extra></extra>",
         "legendgroup": "some high school",
         "marker": {
          "color": "#19d3f3",
          "symbol": "circle"
         },
         "mode": "markers",
         "name": "some high school",
         "orientation": "v",
         "showlegend": true,
         "type": "scatter",
         "x": [
          69,
          18,
          69,
          50,
          71,
          0,
          39,
          59,
          67,
          45,
          61,
          49,
          30,
          61,
          73,
          65,
          70,
          51,
          72,
          53,
          51,
          76,
          88,
          62,
          62,
          94,
          97,
          45,
          62,
          48,
          62,
          59,
          74,
          80,
          84,
          61,
          55,
          86,
          68,
          92,
          64,
          75,
          47,
          60,
          64,
          44,
          59,
          85,
          65,
          37,
          67,
          77,
          86,
          63,
          46,
          56,
          51,
          43,
          41,
          76,
          24,
          35,
          85,
          27,
          44,
          73,
          74,
          80,
          71,
          38,
          38,
          73,
          65,
          74,
          60,
          59,
          63,
          63,
          59,
          69,
          65,
          68,
          47,
          73,
          89,
          59,
          79,
          67,
          59,
          64,
          66,
          82,
          64,
          62,
          54,
          76,
          66,
          56,
          47,
          78,
          92,
          79,
          73,
          81,
          77,
          48,
          71,
          53,
          65,
          75,
          44,
          84,
          80,
          72,
          51,
          73,
          69,
          73,
          50,
          70,
          29,
          49,
          57,
          59,
          80,
          60,
          55,
          74,
          68,
          55,
          55,
          71,
          77,
          48,
          78,
          68,
          52,
          49,
          32,
          72,
          89,
          67,
          76,
          51,
          87,
          94,
          77,
          85,
          48,
          65,
          69,
          68,
          64,
          40,
          82,
          62,
          57,
          59,
          88,
          32,
          63,
          65,
          67,
          74,
          48,
          77,
          61,
          49,
          74,
          48,
          65,
          66,
          78,
          81,
          79,
          74,
          81,
          44,
          65
         ],
         "xaxis": "x",
         "y": [
          75,
          32,
          73,
          64,
          84,
          17,
          39,
          58,
          64,
          37,
          57,
          49,
          26,
          74,
          86,
          66,
          64,
          63,
          68,
          37,
          54,
          72,
          84,
          67,
          67,
          88,
          100,
          52,
          66,
          52,
          64,
          69,
          71,
          79,
          83,
          56,
          65,
          80,
          72,
          87,
          60,
          74,
          49,
          70,
          79,
          50,
          42,
          92,
          86,
          46,
          89,
          76,
          73,
          60,
          41,
          54,
          52,
          53,
          55,
          70,
          38,
          55,
          84,
          34,
          64,
          84,
          74,
          90,
          83,
          49,
          43,
          67,
          74,
          63,
          59,
          54,
          73,
          67,
          85,
          71,
          59,
          63,
          59,
          66,
          88,
          73,
          82,
          74,
          67,
          53,
          69,
          82,
          50,
          49,
          61,
          87,
          78,
          61,
          54,
          83,
          100,
          76,
          66,
          97,
          79,
          66,
          62,
          54,
          82,
          72,
          51,
          84,
          92,
          81,
          56,
          79,
          66,
          66,
          60,
          82,
          40,
          63,
          67,
          63,
          85,
          70,
          59,
          90,
          51,
          46,
          47,
          69,
          90,
          58,
          81,
          71,
          67,
          58,
          51,
          79,
          84,
          73,
          80,
          31,
          84,
          86,
          91,
          90,
          58,
          69,
          86,
          54,
          58,
          65,
          67,
          64,
          61,
          72,
          74,
          34,
          78,
          78,
          84,
          64,
          56,
          68,
          62,
          50,
          74,
          54,
          76,
          68,
          72,
          78,
          85,
          75,
          75,
          45,
          82
         ],
         "yaxis": "y"
        }
       ],
       "layout": {
        "legend": {
         "title": {
          "text": "parental level of education"
         },
         "tracegroupgap": 0
        },
        "margin": {
         "t": 60
        },
        "template": {
         "data": {
          "bar": [
           {
            "error_x": {
             "color": "#2a3f5f"
            },
            "error_y": {
             "color": "#2a3f5f"
            },
            "marker": {
             "line": {
              "color": "#E5ECF6",
              "width": 0.5
             },
             "pattern": {
              "fillmode": "overlay",
              "size": 10,
              "solidity": 0.2
             }
            },
            "type": "bar"
           }
          ],
          "barpolar": [
           {
            "marker": {
             "line": {
              "color": "#E5ECF6",
              "width": 0.5
             },
             "pattern": {
              "fillmode": "overlay",
              "size": 10,
              "solidity": 0.2
             }
            },
            "type": "barpolar"
           }
          ],
          "carpet": [
           {
            "aaxis": {
             "endlinecolor": "#2a3f5f",
             "gridcolor": "white",
             "linecolor": "white",
             "minorgridcolor": "white",
             "startlinecolor": "#2a3f5f"
            },
            "baxis": {
             "endlinecolor": "#2a3f5f",
             "gridcolor": "white",
             "linecolor": "white",
             "minorgridcolor": "white",
             "startlinecolor": "#2a3f5f"
            },
            "type": "carpet"
           }
          ],
          "choropleth": [
           {
            "colorbar": {
             "outlinewidth": 0,
             "ticks": ""
            },
            "type": "choropleth"
           }
          ],
          "contour": [
           {
            "colorbar": {
             "outlinewidth": 0,
             "ticks": ""
            },
            "colorscale": [
             [
              0,
              "#0d0887"
             ],
             [
              0.1111111111111111,
              "#46039f"
             ],
             [
              0.2222222222222222,
              "#7201a8"
             ],
             [
              0.3333333333333333,
              "#9c179e"
             ],
             [
              0.4444444444444444,
              "#bd3786"
             ],
             [
              0.5555555555555556,
              "#d8576b"
             ],
             [
              0.6666666666666666,
              "#ed7953"
             ],
             [
              0.7777777777777778,
              "#fb9f3a"
             ],
             [
              0.8888888888888888,
              "#fdca26"
             ],
             [
              1,
              "#f0f921"
             ]
            ],
            "type": "contour"
           }
          ],
          "contourcarpet": [
           {
            "colorbar": {
             "outlinewidth": 0,
             "ticks": ""
            },
            "type": "contourcarpet"
           }
          ],
          "heatmap": [
           {
            "colorbar": {
             "outlinewidth": 0,
             "ticks": ""
            },
            "colorscale": [
             [
              0,
              "#0d0887"
             ],
             [
              0.1111111111111111,
              "#46039f"
             ],
             [
              0.2222222222222222,
              "#7201a8"
             ],
             [
              0.3333333333333333,
              "#9c179e"
             ],
             [
              0.4444444444444444,
              "#bd3786"
             ],
             [
              0.5555555555555556,
              "#d8576b"
             ],
             [
              0.6666666666666666,
              "#ed7953"
             ],
             [
              0.7777777777777778,
              "#fb9f3a"
             ],
             [
              0.8888888888888888,
              "#fdca26"
             ],
             [
              1,
              "#f0f921"
             ]
            ],
            "type": "heatmap"
           }
          ],
          "heatmapgl": [
           {
            "colorbar": {
             "outlinewidth": 0,
             "ticks": ""
            },
            "colorscale": [
             [
              0,
              "#0d0887"
             ],
             [
              0.1111111111111111,
              "#46039f"
             ],
             [
              0.2222222222222222,
              "#7201a8"
             ],
             [
              0.3333333333333333,
              "#9c179e"
             ],
             [
              0.4444444444444444,
              "#bd3786"
             ],
             [
              0.5555555555555556,
              "#d8576b"
             ],
             [
              0.6666666666666666,
              "#ed7953"
             ],
             [
              0.7777777777777778,
              "#fb9f3a"
             ],
             [
              0.8888888888888888,
              "#fdca26"
             ],
             [
              1,
              "#f0f921"
             ]
            ],
            "type": "heatmapgl"
           }
          ],
          "histogram": [
           {
            "marker": {
             "pattern": {
              "fillmode": "overlay",
              "size": 10,
              "solidity": 0.2
             }
            },
            "type": "histogram"
           }
          ],
          "histogram2d": [
           {
            "colorbar": {
             "outlinewidth": 0,
             "ticks": ""
            },
            "colorscale": [
             [
              0,
              "#0d0887"
             ],
             [
              0.1111111111111111,
              "#46039f"
             ],
             [
              0.2222222222222222,
              "#7201a8"
             ],
             [
              0.3333333333333333,
              "#9c179e"
             ],
             [
              0.4444444444444444,
              "#bd3786"
             ],
             [
              0.5555555555555556,
              "#d8576b"
             ],
             [
              0.6666666666666666,
              "#ed7953"
             ],
             [
              0.7777777777777778,
              "#fb9f3a"
             ],
             [
              0.8888888888888888,
              "#fdca26"
             ],
             [
              1,
              "#f0f921"
             ]
            ],
            "type": "histogram2d"
           }
          ],
          "histogram2dcontour": [
           {
            "colorbar": {
             "outlinewidth": 0,
             "ticks": ""
            },
            "colorscale": [
             [
              0,
              "#0d0887"
             ],
             [
              0.1111111111111111,
              "#46039f"
             ],
             [
              0.2222222222222222,
              "#7201a8"
             ],
             [
              0.3333333333333333,
              "#9c179e"
             ],
             [
              0.4444444444444444,
              "#bd3786"
             ],
             [
              0.5555555555555556,
              "#d8576b"
             ],
             [
              0.6666666666666666,
              "#ed7953"
             ],
             [
              0.7777777777777778,
              "#fb9f3a"
             ],
             [
              0.8888888888888888,
              "#fdca26"
             ],
             [
              1,
              "#f0f921"
             ]
            ],
            "type": "histogram2dcontour"
           }
          ],
          "mesh3d": [
           {
            "colorbar": {
             "outlinewidth": 0,
             "ticks": ""
            },
            "type": "mesh3d"
           }
          ],
          "parcoords": [
           {
            "line": {
             "colorbar": {
              "outlinewidth": 0,
              "ticks": ""
             }
            },
            "type": "parcoords"
           }
          ],
          "pie": [
           {
            "automargin": true,
            "type": "pie"
           }
          ],
          "scatter": [
           {
            "fillpattern": {
             "fillmode": "overlay",
             "size": 10,
             "solidity": 0.2
            },
            "type": "scatter"
           }
          ],
          "scatter3d": [
           {
            "line": {
             "colorbar": {
              "outlinewidth": 0,
              "ticks": ""
             }
            },
            "marker": {
             "colorbar": {
              "outlinewidth": 0,
              "ticks": ""
             }
            },
            "type": "scatter3d"
           }
          ],
          "scattercarpet": [
           {
            "marker": {
             "colorbar": {
              "outlinewidth": 0,
              "ticks": ""
             }
            },
            "type": "scattercarpet"
           }
          ],
          "scattergeo": [
           {
            "marker": {
             "colorbar": {
              "outlinewidth": 0,
              "ticks": ""
             }
            },
            "type": "scattergeo"
           }
          ],
          "scattergl": [
           {
            "marker": {
             "colorbar": {
              "outlinewidth": 0,
              "ticks": ""
             }
            },
            "type": "scattergl"
           }
          ],
          "scattermapbox": [
           {
            "marker": {
             "colorbar": {
              "outlinewidth": 0,
              "ticks": ""
             }
            },
            "type": "scattermapbox"
           }
          ],
          "scatterpolar": [
           {
            "marker": {
             "colorbar": {
              "outlinewidth": 0,
              "ticks": ""
             }
            },
            "type": "scatterpolar"
           }
          ],
          "scatterpolargl": [
           {
            "marker": {
             "colorbar": {
              "outlinewidth": 0,
              "ticks": ""
             }
            },
            "type": "scatterpolargl"
           }
          ],
          "scatterternary": [
           {
            "marker": {
             "colorbar": {
              "outlinewidth": 0,
              "ticks": ""
             }
            },
            "type": "scatterternary"
           }
          ],
          "surface": [
           {
            "colorbar": {
             "outlinewidth": 0,
             "ticks": ""
            },
            "colorscale": [
             [
              0,
              "#0d0887"
             ],
             [
              0.1111111111111111,
              "#46039f"
             ],
             [
              0.2222222222222222,
              "#7201a8"
             ],
             [
              0.3333333333333333,
              "#9c179e"
             ],
             [
              0.4444444444444444,
              "#bd3786"
             ],
             [
              0.5555555555555556,
              "#d8576b"
             ],
             [
              0.6666666666666666,
              "#ed7953"
             ],
             [
              0.7777777777777778,
              "#fb9f3a"
             ],
             [
              0.8888888888888888,
              "#fdca26"
             ],
             [
              1,
              "#f0f921"
             ]
            ],
            "type": "surface"
           }
          ],
          "table": [
           {
            "cells": {
             "fill": {
              "color": "#EBF0F8"
             },
             "line": {
              "color": "white"
             }
            },
            "header": {
             "fill": {
              "color": "#C8D4E3"
             },
             "line": {
              "color": "white"
             }
            },
            "type": "table"
           }
          ]
         },
         "layout": {
          "annotationdefaults": {
           "arrowcolor": "#2a3f5f",
           "arrowhead": 0,
           "arrowwidth": 1
          },
          "autotypenumbers": "strict",
          "coloraxis": {
           "colorbar": {
            "outlinewidth": 0,
            "ticks": ""
           }
          },
          "colorscale": {
           "diverging": [
            [
             0,
             "#8e0152"
            ],
            [
             0.1,
             "#c51b7d"
            ],
            [
             0.2,
             "#de77ae"
            ],
            [
             0.3,
             "#f1b6da"
            ],
            [
             0.4,
             "#fde0ef"
            ],
            [
             0.5,
             "#f7f7f7"
            ],
            [
             0.6,
             "#e6f5d0"
            ],
            [
             0.7,
             "#b8e186"
            ],
            [
             0.8,
             "#7fbc41"
            ],
            [
             0.9,
             "#4d9221"
            ],
            [
             1,
             "#276419"
            ]
           ],
           "sequential": [
            [
             0,
             "#0d0887"
            ],
            [
             0.1111111111111111,
             "#46039f"
            ],
            [
             0.2222222222222222,
             "#7201a8"
            ],
            [
             0.3333333333333333,
             "#9c179e"
            ],
            [
             0.4444444444444444,
             "#bd3786"
            ],
            [
             0.5555555555555556,
             "#d8576b"
            ],
            [
             0.6666666666666666,
             "#ed7953"
            ],
            [
             0.7777777777777778,
             "#fb9f3a"
            ],
            [
             0.8888888888888888,
             "#fdca26"
            ],
            [
             1,
             "#f0f921"
            ]
           ],
           "sequentialminus": [
            [
             0,
             "#0d0887"
            ],
            [
             0.1111111111111111,
             "#46039f"
            ],
            [
             0.2222222222222222,
             "#7201a8"
            ],
            [
             0.3333333333333333,
             "#9c179e"
            ],
            [
             0.4444444444444444,
             "#bd3786"
            ],
            [
             0.5555555555555556,
             "#d8576b"
            ],
            [
             0.6666666666666666,
             "#ed7953"
            ],
            [
             0.7777777777777778,
             "#fb9f3a"
            ],
            [
             0.8888888888888888,
             "#fdca26"
            ],
            [
             1,
             "#f0f921"
            ]
           ]
          },
          "colorway": [
           "#636efa",
           "#EF553B",
           "#00cc96",
           "#ab63fa",
           "#FFA15A",
           "#19d3f3",
           "#FF6692",
           "#B6E880",
           "#FF97FF",
           "#FECB52"
          ],
          "font": {
           "color": "#2a3f5f"
          },
          "geo": {
           "bgcolor": "white",
           "lakecolor": "white",
           "landcolor": "#E5ECF6",
           "showlakes": true,
           "showland": true,
           "subunitcolor": "white"
          },
          "hoverlabel": {
           "align": "left"
          },
          "hovermode": "closest",
          "mapbox": {
           "style": "light"
          },
          "paper_bgcolor": "white",
          "plot_bgcolor": "#E5ECF6",
          "polar": {
           "angularaxis": {
            "gridcolor": "white",
            "linecolor": "white",
            "ticks": ""
           },
           "bgcolor": "#E5ECF6",
           "radialaxis": {
            "gridcolor": "white",
            "linecolor": "white",
            "ticks": ""
           }
          },
          "scene": {
           "xaxis": {
            "backgroundcolor": "#E5ECF6",
            "gridcolor": "white",
            "gridwidth": 2,
            "linecolor": "white",
            "showbackground": true,
            "ticks": "",
            "zerolinecolor": "white"
           },
           "yaxis": {
            "backgroundcolor": "#E5ECF6",
            "gridcolor": "white",
            "gridwidth": 2,
            "linecolor": "white",
            "showbackground": true,
            "ticks": "",
            "zerolinecolor": "white"
           },
           "zaxis": {
            "backgroundcolor": "#E5ECF6",
            "gridcolor": "white",
            "gridwidth": 2,
            "linecolor": "white",
            "showbackground": true,
            "ticks": "",
            "zerolinecolor": "white"
           }
          },
          "shapedefaults": {
           "line": {
            "color": "#2a3f5f"
           }
          },
          "ternary": {
           "aaxis": {
            "gridcolor": "white",
            "linecolor": "white",
            "ticks": ""
           },
           "baxis": {
            "gridcolor": "white",
            "linecolor": "white",
            "ticks": ""
           },
           "bgcolor": "#E5ECF6",
           "caxis": {
            "gridcolor": "white",
            "linecolor": "white",
            "ticks": ""
           }
          },
          "title": {
           "x": 0.05
          },
          "xaxis": {
           "automargin": true,
           "gridcolor": "white",
           "linecolor": "white",
           "ticks": "",
           "title": {
            "standoff": 15
           },
           "zerolinecolor": "white",
           "zerolinewidth": 2
          },
          "yaxis": {
           "automargin": true,
           "gridcolor": "white",
           "linecolor": "white",
           "ticks": "",
           "title": {
            "standoff": 15
           },
           "zerolinecolor": "white",
           "zerolinewidth": 2
          }
         }
        },
        "xaxis": {
         "anchor": "y",
         "domain": [
          0,
          1
         ],
         "title": {
          "text": "math score"
         }
        },
        "yaxis": {
         "anchor": "x",
         "domain": [
          0,
          1
         ],
         "title": {
          "text": "reading score"
         }
        }
       }
      },
      "text/html": [
       "<div>                            <div id=\"90e7fcc5-986b-4cff-a07c-7f90569cda39\" class=\"plotly-graph-div\" style=\"height:525px; width:100%;\"></div>            <script type=\"text/javascript\">                require([\"plotly\"], function(Plotly) {                    window.PLOTLYENV=window.PLOTLYENV || {};                                    if (document.getElementById(\"90e7fcc5-986b-4cff-a07c-7f90569cda39\")) {                    Plotly.newPlot(                        \"90e7fcc5-986b-4cff-a07c-7f90569cda39\",                        [{\"hovertemplate\":\"parental level of education=bachelor's degree<br>math score=%{x}<br>reading score=%{y}<extra></extra>\",\"legendgroup\":\"bachelor's degree\",\"marker\":{\"color\":\"#636efa\",\"symbol\":\"circle\"},\"mode\":\"markers\",\"name\":\"bachelor's degree\",\"orientation\":\"v\",\"showlegend\":true,\"x\":[72,74,67,79,80,65,65,68,99,75,78,79,51,74,58,68,77,54,96,43,77,78,82,67,83,63,80,63,69,83,73,73,88,65,66,67,59,63,83,77,52,61,49,61,59,66,64,51,71,86,37,79,100,53,75,71,76,81,55,86,69,29,66,85,87,96,48,92,68,91,63,44,68,92,56,94,37,88,62,61,66,65,77,66,59,79,87,62,80,50,70,75,62,91,59,45,61,78,74,64,97,65,39,43,63,71,55,93,67,70,50,52,47,100,70,75,89,62],\"xaxis\":\"x\",\"y\":[72,71,69,74,78,72,67,74,100,85,82,92,49,79,55,75,67,49,100,51,88,79,62,86,82,66,83,75,63,78,56,79,75,73,60,61,64,71,93,94,65,72,58,66,70,64,73,72,74,83,56,89,100,58,58,76,62,88,59,92,58,41,83,66,90,90,51,100,68,96,73,63,68,100,79,90,45,78,63,58,74,81,85,74,72,81,84,72,73,60,68,73,78,81,54,59,70,90,86,60,97,79,42,62,64,70,46,100,75,64,42,61,62,100,75,84,100,72],\"yaxis\":\"y\",\"type\":\"scatter\"},{\"hovertemplate\":\"parental level of education=some college<br>math score=%{x}<br>reading score=%{y}<extra></extra>\",\"legendgroup\":\"some college\",\"marker\":{\"color\":\"#EF553B\",\"symbol\":\"circle\"},\"mode\":\"markers\",\"name\":\"some college\",\"orientation\":\"v\",\"showlegend\":true,\"x\":[69,76,88,40,78,65,44,69,69,63,40,97,59,53,53,58,60,58,63,50,73,76,58,79,63,58,79,98,58,51,55,88,83,65,87,75,71,59,42,88,22,70,60,75,67,79,46,76,77,45,65,59,74,58,35,72,88,76,54,59,71,62,70,79,71,58,65,88,70,81,69,99,71,82,61,28,61,79,62,66,63,59,42,59,80,52,59,84,45,82,67,77,76,53,49,84,68,41,62,50,67,69,64,100,65,54,71,77,84,91,68,61,83,54,59,76,63,76,74,66,71,68,77,32,74,63,63,71,53,61,48,69,54,58,76,61,69,58,100,100,49,67,86,69,85,62,74,55,63,73,69,50,73,63,62,85,93,79,63,66,93,98,62,47,81,53,87,53,53,55,69,87,68,55,52,69,60,58,66,35,72,19,60,69,82,73,75,64,49,61,58,74,87,75,71,82,70,80,81,69,86,88,79,69,68,91,67,62,70,85,49,75,62,84,56,72,62,63,49,54,64,60,78,67,68,77],\"xaxis\":\"x\",\"y\":[90,78,95,43,72,75,54,54,74,65,42,87,65,55,44,59,72,63,55,47,80,83,70,86,72,67,67,86,67,58,69,93,80,77,74,81,61,62,55,73,39,89,60,88,75,86,64,83,62,53,81,41,81,61,28,72,95,64,52,51,83,73,75,79,76,49,70,85,78,78,67,87,81,90,61,23,68,73,61,57,78,71,66,62,90,58,60,77,73,97,76,68,67,43,65,83,59,39,67,48,81,66,85,92,58,54,70,90,87,74,68,47,83,48,78,71,61,71,89,74,49,60,62,39,75,74,80,75,62,51,56,77,64,57,78,64,60,59,96,97,57,64,76,79,86,67,77,71,73,74,78,64,78,61,66,75,90,89,64,59,84,100,72,43,74,39,89,58,66,55,64,84,72,58,59,77,63,60,65,44,79,38,66,60,85,76,81,74,52,60,50,77,85,68,71,82,72,64,82,65,85,77,84,84,70,96,74,57,63,81,58,77,69,87,58,57,70,63,65,63,82,62,87,86,78,86],\"yaxis\":\"y\",\"type\":\"scatter\"},{\"hovertemplate\":\"parental level of education=master's degree<br>math score=%{x}<br>reading score=%{y}<extra></extra>\",\"legendgroup\":\"master's degree\",\"marker\":{\"color\":\"#00cc96\",\"symbol\":\"circle\"},\"mode\":\"markers\",\"name\":\"master's degree\",\"orientation\":\"v\",\"showlegend\":true,\"x\":[90,50,46,73,62,56,62,87,82,89,49,81,58,81,52,62,69,45,80,65,77,85,79,73,70,47,55,74,40,79,77,54,64,79,61,61,53,54,84,40,95,94,81,67,79,77,52,54,90,91,71,81,50,85,73,72,78,92,88],\"xaxis\":\"x\",\"y\":[95,53,42,74,70,72,68,100,82,84,53,92,76,91,70,68,84,56,80,81,82,95,81,70,71,58,64,79,59,78,97,59,63,72,67,71,61,60,89,58,81,99,81,57,77,90,65,64,85,85,67,86,67,84,78,66,91,100,99],\"yaxis\":\"y\",\"type\":\"scatter\"},{\"hovertemplate\":\"parental level of education=associate's degree<br>math score=%{x}<br>reading score=%{y}<extra></extra>\",\"legendgroup\":\"associate's degree\",\"marker\":{\"color\":\"#ab63fa\",\"symbol\":\"circle\"},\"mode\":\"markers\",\"name\":\"associate's degree\",\"orientation\":\"v\",\"showlegend\":true,\"x\":[47,71,58,40,54,81,74,75,57,55,58,53,50,65,55,57,77,82,52,62,69,61,39,41,44,47,72,71,43,78,85,66,52,77,54,91,59,73,100,59,61,66,82,63,71,65,65,66,61,67,69,57,60,83,87,52,46,80,84,85,89,64,78,88,47,81,97,76,67,71,90,67,80,74,53,73,68,83,56,82,47,62,90,49,67,87,46,63,46,80,87,57,57,85,65,82,87,71,74,82,64,75,75,73,81,65,53,53,26,83,68,90,80,76,52,49,60,79,65,64,94,95,91,62,68,62,79,51,97,79,81,82,40,53,55,53,48,40,73,65,85,58,65,82,65,69,61,76,74,59,65,77,43,90,80,81,52,65,81,77,49,73,77,75,57,42,76,73,96,91,65,68,92,81,37,59,72,58,84,94,46,52,68,57,70,52,87,56,58,66,80,87,53,97,61,78,49,82,90,64,51,62,93,85,59,67,46,57,54,64,46,61,98,67,54,72,100,68,62,91,40,55],\"xaxis\":\"x\",\"y\":[57,83,54,52,58,81,81,90,56,61,73,58,56,54,65,74,69,85,55,61,80,58,64,51,41,49,64,71,45,81,91,63,76,89,53,89,66,68,100,70,86,62,78,67,77,69,67,65,55,84,77,69,51,86,85,66,43,75,80,76,76,73,77,92,53,82,82,70,62,74,87,84,76,75,71,76,67,72,65,75,37,56,78,51,72,74,58,61,43,86,100,78,54,89,65,80,84,66,73,93,66,68,66,83,73,77,61,54,31,85,86,90,68,71,59,52,75,82,85,64,87,89,86,74,67,61,88,60,92,82,77,95,48,45,72,70,43,55,75,76,84,63,77,93,73,70,48,74,88,70,70,67,60,87,63,72,57,84,75,78,53,76,77,82,78,61,94,78,96,73,75,77,79,71,57,73,79,55,95,85,56,59,65,68,84,55,94,68,57,77,75,73,62,93,42,74,51,84,90,76,51,76,100,92,62,54,61,77,65,56,43,71,87,57,61,57,100,76,65,95,59,76],\"yaxis\":\"y\",\"type\":\"scatter\"},{\"hovertemplate\":\"parental level of education=high school<br>math score=%{x}<br>reading score=%{y}<extra></extra>\",\"legendgroup\":\"high school\",\"marker\":{\"color\":\"#FFA15A\",\"symbol\":\"circle\"},\"mode\":\"markers\",\"name\":\"high school\",\"orientation\":\"v\",\"showlegend\":true,\"x\":[64,38,65,88,66,70,66,82,88,33,49,42,27,71,60,62,84,63,87,70,57,66,52,53,68,72,46,50,80,55,81,42,87,34,66,56,57,73,56,58,65,68,54,99,76,69,59,53,45,78,40,49,71,67,75,41,71,58,61,69,72,75,58,69,62,48,50,88,54,52,84,57,57,61,61,70,78,86,47,72,72,77,63,73,59,70,54,68,68,67,53,36,73,51,75,72,62,63,50,74,81,55,74,30,69,29,60,60,35,58,79,75,71,67,41,74,70,64,50,68,65,66,69,67,60,62,53,66,46,89,76,50,73,61,81,69,53,62,74,58,76,52,66,76,48,66,42,70,41,90,45,72,60,71,62,77,60,73,75,39,23,64,59,61,52,59,59,64,54,44,36,34,57,44,69,35,72,74,65,57,81,58,82,57,94,58,45,75,53,55,8,57,86,63,62,59],\"xaxis\":\"x\",\"y\":[64,60,81,89,69,70,71,84,78,41,45,39,34,79,44,55,77,57,95,55,43,74,53,51,83,73,54,50,76,56,80,62,91,42,77,68,50,68,52,70,64,60,52,93,73,72,63,52,48,77,46,57,66,79,86,46,60,61,73,76,80,74,62,58,64,45,67,99,59,57,73,56,58,72,56,56,81,81,46,65,67,88,69,71,52,74,64,64,70,78,52,53,69,66,69,67,67,48,66,81,91,73,76,24,77,29,57,68,61,51,60,88,74,80,52,79,65,62,53,80,69,76,77,72,68,55,58,66,34,87,76,48,92,60,84,75,72,62,72,75,62,48,72,85,62,74,52,70,45,75,47,80,72,87,67,82,64,64,82,52,44,54,72,68,49,53,58,73,72,51,29,48,48,61,70,53,66,70,61,58,66,68,82,75,73,52,63,81,50,41,24,51,81,63,55,71],\"yaxis\":\"y\",\"type\":\"scatter\"},{\"hovertemplate\":\"parental level of education=some high school<br>math score=%{x}<br>reading score=%{y}<extra></extra>\",\"legendgroup\":\"some high school\",\"marker\":{\"color\":\"#19d3f3\",\"symbol\":\"circle\"},\"mode\":\"markers\",\"name\":\"some high school\",\"orientation\":\"v\",\"showlegend\":true,\"x\":[69,18,69,50,71,0,39,59,67,45,61,49,30,61,73,65,70,51,72,53,51,76,88,62,62,94,97,45,62,48,62,59,74,80,84,61,55,86,68,92,64,75,47,60,64,44,59,85,65,37,67,77,86,63,46,56,51,43,41,76,24,35,85,27,44,73,74,80,71,38,38,73,65,74,60,59,63,63,59,69,65,68,47,73,89,59,79,67,59,64,66,82,64,62,54,76,66,56,47,78,92,79,73,81,77,48,71,53,65,75,44,84,80,72,51,73,69,73,50,70,29,49,57,59,80,60,55,74,68,55,55,71,77,48,78,68,52,49,32,72,89,67,76,51,87,94,77,85,48,65,69,68,64,40,82,62,57,59,88,32,63,65,67,74,48,77,61,49,74,48,65,66,78,81,79,74,81,44,65],\"xaxis\":\"x\",\"y\":[75,32,73,64,84,17,39,58,64,37,57,49,26,74,86,66,64,63,68,37,54,72,84,67,67,88,100,52,66,52,64,69,71,79,83,56,65,80,72,87,60,74,49,70,79,50,42,92,86,46,89,76,73,60,41,54,52,53,55,70,38,55,84,34,64,84,74,90,83,49,43,67,74,63,59,54,73,67,85,71,59,63,59,66,88,73,82,74,67,53,69,82,50,49,61,87,78,61,54,83,100,76,66,97,79,66,62,54,82,72,51,84,92,81,56,79,66,66,60,82,40,63,67,63,85,70,59,90,51,46,47,69,90,58,81,71,67,58,51,79,84,73,80,31,84,86,91,90,58,69,86,54,58,65,67,64,61,72,74,34,78,78,84,64,56,68,62,50,74,54,76,68,72,78,85,75,75,45,82],\"yaxis\":\"y\",\"type\":\"scatter\"}],                        {\"template\":{\"data\":{\"histogram2dcontour\":[{\"type\":\"histogram2dcontour\",\"colorbar\":{\"outlinewidth\":0,\"ticks\":\"\"},\"colorscale\":[[0.0,\"#0d0887\"],[0.1111111111111111,\"#46039f\"],[0.2222222222222222,\"#7201a8\"],[0.3333333333333333,\"#9c179e\"],[0.4444444444444444,\"#bd3786\"],[0.5555555555555556,\"#d8576b\"],[0.6666666666666666,\"#ed7953\"],[0.7777777777777778,\"#fb9f3a\"],[0.8888888888888888,\"#fdca26\"],[1.0,\"#f0f921\"]]}],\"choropleth\":[{\"type\":\"choropleth\",\"colorbar\":{\"outlinewidth\":0,\"ticks\":\"\"}}],\"histogram2d\":[{\"type\":\"histogram2d\",\"colorbar\":{\"outlinewidth\":0,\"ticks\":\"\"},\"colorscale\":[[0.0,\"#0d0887\"],[0.1111111111111111,\"#46039f\"],[0.2222222222222222,\"#7201a8\"],[0.3333333333333333,\"#9c179e\"],[0.4444444444444444,\"#bd3786\"],[0.5555555555555556,\"#d8576b\"],[0.6666666666666666,\"#ed7953\"],[0.7777777777777778,\"#fb9f3a\"],[0.8888888888888888,\"#fdca26\"],[1.0,\"#f0f921\"]]}],\"heatmap\":[{\"type\":\"heatmap\",\"colorbar\":{\"outlinewidth\":0,\"ticks\":\"\"},\"colorscale\":[[0.0,\"#0d0887\"],[0.1111111111111111,\"#46039f\"],[0.2222222222222222,\"#7201a8\"],[0.3333333333333333,\"#9c179e\"],[0.4444444444444444,\"#bd3786\"],[0.5555555555555556,\"#d8576b\"],[0.6666666666666666,\"#ed7953\"],[0.7777777777777778,\"#fb9f3a\"],[0.8888888888888888,\"#fdca26\"],[1.0,\"#f0f921\"]]}],\"heatmapgl\":[{\"type\":\"heatmapgl\",\"colorbar\":{\"outlinewidth\":0,\"ticks\":\"\"},\"colorscale\":[[0.0,\"#0d0887\"],[0.1111111111111111,\"#46039f\"],[0.2222222222222222,\"#7201a8\"],[0.3333333333333333,\"#9c179e\"],[0.4444444444444444,\"#bd3786\"],[0.5555555555555556,\"#d8576b\"],[0.6666666666666666,\"#ed7953\"],[0.7777777777777778,\"#fb9f3a\"],[0.8888888888888888,\"#fdca26\"],[1.0,\"#f0f921\"]]}],\"contourcarpet\":[{\"type\":\"contourcarpet\",\"colorbar\":{\"outlinewidth\":0,\"ticks\":\"\"}}],\"contour\":[{\"type\":\"contour\",\"colorbar\":{\"outlinewidth\":0,\"ticks\":\"\"},\"colorscale\":[[0.0,\"#0d0887\"],[0.1111111111111111,\"#46039f\"],[0.2222222222222222,\"#7201a8\"],[0.3333333333333333,\"#9c179e\"],[0.4444444444444444,\"#bd3786\"],[0.5555555555555556,\"#d8576b\"],[0.6666666666666666,\"#ed7953\"],[0.7777777777777778,\"#fb9f3a\"],[0.8888888888888888,\"#fdca26\"],[1.0,\"#f0f921\"]]}],\"surface\":[{\"type\":\"surface\",\"colorbar\":{\"outlinewidth\":0,\"ticks\":\"\"},\"colorscale\":[[0.0,\"#0d0887\"],[0.1111111111111111,\"#46039f\"],[0.2222222222222222,\"#7201a8\"],[0.3333333333333333,\"#9c179e\"],[0.4444444444444444,\"#bd3786\"],[0.5555555555555556,\"#d8576b\"],[0.6666666666666666,\"#ed7953\"],[0.7777777777777778,\"#fb9f3a\"],[0.8888888888888888,\"#fdca26\"],[1.0,\"#f0f921\"]]}],\"mesh3d\":[{\"type\":\"mesh3d\",\"colorbar\":{\"outlinewidth\":0,\"ticks\":\"\"}}],\"scatter\":[{\"fillpattern\":{\"fillmode\":\"overlay\",\"size\":10,\"solidity\":0.2},\"type\":\"scatter\"}],\"parcoords\":[{\"type\":\"parcoords\",\"line\":{\"colorbar\":{\"outlinewidth\":0,\"ticks\":\"\"}}}],\"scatterpolargl\":[{\"type\":\"scatterpolargl\",\"marker\":{\"colorbar\":{\"outlinewidth\":0,\"ticks\":\"\"}}}],\"bar\":[{\"error_x\":{\"color\":\"#2a3f5f\"},\"error_y\":{\"color\":\"#2a3f5f\"},\"marker\":{\"line\":{\"color\":\"#E5ECF6\",\"width\":0.5},\"pattern\":{\"fillmode\":\"overlay\",\"size\":10,\"solidity\":0.2}},\"type\":\"bar\"}],\"scattergeo\":[{\"type\":\"scattergeo\",\"marker\":{\"colorbar\":{\"outlinewidth\":0,\"ticks\":\"\"}}}],\"scatterpolar\":[{\"type\":\"scatterpolar\",\"marker\":{\"colorbar\":{\"outlinewidth\":0,\"ticks\":\"\"}}}],\"histogram\":[{\"marker\":{\"pattern\":{\"fillmode\":\"overlay\",\"size\":10,\"solidity\":0.2}},\"type\":\"histogram\"}],\"scattergl\":[{\"type\":\"scattergl\",\"marker\":{\"colorbar\":{\"outlinewidth\":0,\"ticks\":\"\"}}}],\"scatter3d\":[{\"type\":\"scatter3d\",\"line\":{\"colorbar\":{\"outlinewidth\":0,\"ticks\":\"\"}},\"marker\":{\"colorbar\":{\"outlinewidth\":0,\"ticks\":\"\"}}}],\"scattermapbox\":[{\"type\":\"scattermapbox\",\"marker\":{\"colorbar\":{\"outlinewidth\":0,\"ticks\":\"\"}}}],\"scatterternary\":[{\"type\":\"scatterternary\",\"marker\":{\"colorbar\":{\"outlinewidth\":0,\"ticks\":\"\"}}}],\"scattercarpet\":[{\"type\":\"scattercarpet\",\"marker\":{\"colorbar\":{\"outlinewidth\":0,\"ticks\":\"\"}}}],\"carpet\":[{\"aaxis\":{\"endlinecolor\":\"#2a3f5f\",\"gridcolor\":\"white\",\"linecolor\":\"white\",\"minorgridcolor\":\"white\",\"startlinecolor\":\"#2a3f5f\"},\"baxis\":{\"endlinecolor\":\"#2a3f5f\",\"gridcolor\":\"white\",\"linecolor\":\"white\",\"minorgridcolor\":\"white\",\"startlinecolor\":\"#2a3f5f\"},\"type\":\"carpet\"}],\"table\":[{\"cells\":{\"fill\":{\"color\":\"#EBF0F8\"},\"line\":{\"color\":\"white\"}},\"header\":{\"fill\":{\"color\":\"#C8D4E3\"},\"line\":{\"color\":\"white\"}},\"type\":\"table\"}],\"barpolar\":[{\"marker\":{\"line\":{\"color\":\"#E5ECF6\",\"width\":0.5},\"pattern\":{\"fillmode\":\"overlay\",\"size\":10,\"solidity\":0.2}},\"type\":\"barpolar\"}],\"pie\":[{\"automargin\":true,\"type\":\"pie\"}]},\"layout\":{\"autotypenumbers\":\"strict\",\"colorway\":[\"#636efa\",\"#EF553B\",\"#00cc96\",\"#ab63fa\",\"#FFA15A\",\"#19d3f3\",\"#FF6692\",\"#B6E880\",\"#FF97FF\",\"#FECB52\"],\"font\":{\"color\":\"#2a3f5f\"},\"hovermode\":\"closest\",\"hoverlabel\":{\"align\":\"left\"},\"paper_bgcolor\":\"white\",\"plot_bgcolor\":\"#E5ECF6\",\"polar\":{\"bgcolor\":\"#E5ECF6\",\"angularaxis\":{\"gridcolor\":\"white\",\"linecolor\":\"white\",\"ticks\":\"\"},\"radialaxis\":{\"gridcolor\":\"white\",\"linecolor\":\"white\",\"ticks\":\"\"}},\"ternary\":{\"bgcolor\":\"#E5ECF6\",\"aaxis\":{\"gridcolor\":\"white\",\"linecolor\":\"white\",\"ticks\":\"\"},\"baxis\":{\"gridcolor\":\"white\",\"linecolor\":\"white\",\"ticks\":\"\"},\"caxis\":{\"gridcolor\":\"white\",\"linecolor\":\"white\",\"ticks\":\"\"}},\"coloraxis\":{\"colorbar\":{\"outlinewidth\":0,\"ticks\":\"\"}},\"colorscale\":{\"sequential\":[[0.0,\"#0d0887\"],[0.1111111111111111,\"#46039f\"],[0.2222222222222222,\"#7201a8\"],[0.3333333333333333,\"#9c179e\"],[0.4444444444444444,\"#bd3786\"],[0.5555555555555556,\"#d8576b\"],[0.6666666666666666,\"#ed7953\"],[0.7777777777777778,\"#fb9f3a\"],[0.8888888888888888,\"#fdca26\"],[1.0,\"#f0f921\"]],\"sequentialminus\":[[0.0,\"#0d0887\"],[0.1111111111111111,\"#46039f\"],[0.2222222222222222,\"#7201a8\"],[0.3333333333333333,\"#9c179e\"],[0.4444444444444444,\"#bd3786\"],[0.5555555555555556,\"#d8576b\"],[0.6666666666666666,\"#ed7953\"],[0.7777777777777778,\"#fb9f3a\"],[0.8888888888888888,\"#fdca26\"],[1.0,\"#f0f921\"]],\"diverging\":[[0,\"#8e0152\"],[0.1,\"#c51b7d\"],[0.2,\"#de77ae\"],[0.3,\"#f1b6da\"],[0.4,\"#fde0ef\"],[0.5,\"#f7f7f7\"],[0.6,\"#e6f5d0\"],[0.7,\"#b8e186\"],[0.8,\"#7fbc41\"],[0.9,\"#4d9221\"],[1,\"#276419\"]]},\"xaxis\":{\"gridcolor\":\"white\",\"linecolor\":\"white\",\"ticks\":\"\",\"title\":{\"standoff\":15},\"zerolinecolor\":\"white\",\"automargin\":true,\"zerolinewidth\":2},\"yaxis\":{\"gridcolor\":\"white\",\"linecolor\":\"white\",\"ticks\":\"\",\"title\":{\"standoff\":15},\"zerolinecolor\":\"white\",\"automargin\":true,\"zerolinewidth\":2},\"scene\":{\"xaxis\":{\"backgroundcolor\":\"#E5ECF6\",\"gridcolor\":\"white\",\"linecolor\":\"white\",\"showbackground\":true,\"ticks\":\"\",\"zerolinecolor\":\"white\",\"gridwidth\":2},\"yaxis\":{\"backgroundcolor\":\"#E5ECF6\",\"gridcolor\":\"white\",\"linecolor\":\"white\",\"showbackground\":true,\"ticks\":\"\",\"zerolinecolor\":\"white\",\"gridwidth\":2},\"zaxis\":{\"backgroundcolor\":\"#E5ECF6\",\"gridcolor\":\"white\",\"linecolor\":\"white\",\"showbackground\":true,\"ticks\":\"\",\"zerolinecolor\":\"white\",\"gridwidth\":2}},\"shapedefaults\":{\"line\":{\"color\":\"#2a3f5f\"}},\"annotationdefaults\":{\"arrowcolor\":\"#2a3f5f\",\"arrowhead\":0,\"arrowwidth\":1},\"geo\":{\"bgcolor\":\"white\",\"landcolor\":\"#E5ECF6\",\"subunitcolor\":\"white\",\"showland\":true,\"showlakes\":true,\"lakecolor\":\"white\"},\"title\":{\"x\":0.05},\"mapbox\":{\"style\":\"light\"}}},\"xaxis\":{\"anchor\":\"y\",\"domain\":[0.0,1.0],\"title\":{\"text\":\"math score\"}},\"yaxis\":{\"anchor\":\"x\",\"domain\":[0.0,1.0],\"title\":{\"text\":\"reading score\"}},\"legend\":{\"title\":{\"text\":\"parental level of education\"},\"tracegroupgap\":0},\"margin\":{\"t\":60}},                        {\"responsive\": true}                    ).then(function(){\n",
       "                            \n",
       "var gd = document.getElementById('90e7fcc5-986b-4cff-a07c-7f90569cda39');\n",
       "var x = new MutationObserver(function (mutations, observer) {{\n",
       "        var display = window.getComputedStyle(gd).display;\n",
       "        if (!display || display === 'none') {{\n",
       "            console.log([gd, 'removed!']);\n",
       "            Plotly.purge(gd);\n",
       "            observer.disconnect();\n",
       "        }}\n",
       "}});\n",
       "\n",
       "// Listen for the removal of the full notebook cells\n",
       "var notebookContainer = gd.closest('#notebook-container');\n",
       "if (notebookContainer) {{\n",
       "    x.observe(notebookContainer, {childList: true});\n",
       "}}\n",
       "\n",
       "// Listen for the clearing of the current output cell\n",
       "var outputEl = gd.closest('.output');\n",
       "if (outputEl) {{\n",
       "    x.observe(outputEl, {childList: true});\n",
       "}}\n",
       "\n",
       "                        })                };                });            </script>        </div>"
      ]
     },
     "metadata": {},
     "output_type": "display_data"
    }
   ],
   "source": [
    "px.scatter(df_sp, x='math score', y='reading score', color='parental level of education')"
   ]
  },
  {
   "cell_type": "code",
   "execution_count": null,
   "id": "54b1172b",
   "metadata": {},
   "outputs": [],
   "source": []
  },
  {
   "cell_type": "code",
   "execution_count": null,
   "id": "a278bc32",
   "metadata": {},
   "outputs": [],
   "source": []
  },
  {
   "cell_type": "code",
   "execution_count": null,
   "id": "5a4079f3",
   "metadata": {},
   "outputs": [],
   "source": []
  },
  {
   "cell_type": "code",
   "execution_count": null,
   "id": "ca8d10b6",
   "metadata": {},
   "outputs": [],
   "source": []
  },
  {
   "cell_type": "code",
   "execution_count": null,
   "id": "20638303",
   "metadata": {},
   "outputs": [],
   "source": []
  },
  {
   "cell_type": "markdown",
   "id": "438a6fcf",
   "metadata": {},
   "source": [
    "#### End of script"
   ]
  }
 ],
 "metadata": {
  "kernelspec": {
   "display_name": "Python 3 (ipykernel)",
   "language": "python",
   "name": "python3"
  },
  "language_info": {
   "codemirror_mode": {
    "name": "ipython",
    "version": 3
   },
   "file_extension": ".py",
   "mimetype": "text/x-python",
   "name": "python",
   "nbconvert_exporter": "python",
   "pygments_lexer": "ipython3",
   "version": "3.10.9"
  }
 },
 "nbformat": 4,
 "nbformat_minor": 5
}
