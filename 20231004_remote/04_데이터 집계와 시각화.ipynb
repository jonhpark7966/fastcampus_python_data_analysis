{
 "cells": [
  {
   "cell_type": "markdown",
   "id": "ba8e0db0",
   "metadata": {},
   "source": [
    "# 데이터 집계와 시각화\n",
    "\n",
    "### 주요 내용\n",
    "\n",
    "1. 건수, 합계 평균 등 집계값 계산\n",
    "2. 히스토그램, 상자그림, 막대그래프 등 그래프 작성 \n",
    "3. 정렬 및 피벗테이블 활용\n",
    "\n",
    "<br>\n",
    "\n",
    "### 목표 \n",
    "1. 집계값을 계산할 수 있다.\n",
    "2. 적절한 그래프를 작성하고 올바르게 해석할 수 있다.\n",
    "3. 피벗 테이블 등 다양한 방법으로 집계하고, 결과값을 적절히 정렬할 수 있다. \n",
    "\n",
    "\n",
    "<br>\n",
    "<hr>\n",
    "<br>"
   ]
  },
  {
   "cell_type": "markdown",
   "id": "9e7039ec",
   "metadata": {},
   "source": [
    "## 예제 및 실습 데이터 불러오기"
   ]
  },
  {
   "cell_type": "code",
   "execution_count": null,
   "id": "d8b0a22e",
   "metadata": {},
   "outputs": [],
   "source": [
    "# 데이터 불러오기\n",
    "import pandas as pd\n",
    "df_ins = pd.read_csv('data/insurance.csv')\n",
    "df_ins.head()"
   ]
  },
  {
   "cell_type": "code",
   "execution_count": null,
   "id": "66448535",
   "metadata": {
    "scrolled": true
   },
   "outputs": [],
   "source": [
    "df_sp = pd.read_csv('data/StudentsPerformance.csv')\n",
    "df_sp.head()"
   ]
  },
  {
   "cell_type": "code",
   "execution_count": null,
   "id": "13789c2f",
   "metadata": {},
   "outputs": [],
   "source": [
    "#df_sp.describe()\n",
    "#df_sp.describe(include='number')\n",
    "df_sp.describe(include='object')"
   ]
  },
  {
   "cell_type": "markdown",
   "id": "8012b0c1",
   "metadata": {},
   "source": [
    "<br>\n",
    "\n",
    "## 1. 수치형 변수의 집계값과 히스토그램\n",
    "\n",
    "하나의 수치형 변수로 합계, 평균과 같은 집계값을 계산할 수 있고 히스토그램으로 분포를 확인\n",
    "\n",
    "\n",
    "<br>\n",
    "\n",
    "### 1.1. 수치형 변수의 집계값 계산\n",
    "\n",
    "수치형 변수를 선택한 다음 sum( ), mean( ) 같은 메서드를 활용해서 단순한 집계값을 계산  \n",
    "먼저 변수를 선택하고 다양한 집계 함수를 메서드로 활용"
   ]
  },
  {
   "cell_type": "code",
   "execution_count": null,
   "id": "c8866431",
   "metadata": {},
   "outputs": [],
   "source": [
    "# 관심 변수 선택\n",
    "df_ins['charges'].kurtosis()"
   ]
  },
  {
   "cell_type": "code",
   "execution_count": null,
   "id": "39731115",
   "metadata": {},
   "outputs": [],
   "source": [
    "# 수치형 변수의 집계값 계산\n",
    "    # mean( ) : 수치형 Series의 메서드\n",
    "df_ins['charges'].mean()"
   ]
  },
  {
   "cell_type": "code",
   "execution_count": null,
   "id": "cf07e50e",
   "metadata": {},
   "outputs": [],
   "source": [
    "df_ins['charges'].sum()"
   ]
  },
  {
   "cell_type": "code",
   "execution_count": null,
   "id": "77ccd25e",
   "metadata": {},
   "outputs": [],
   "source": [
    "# 분산과 표준편차계산\n",
    "df_ins['charges'].var(), df_ins['charges'].std()"
   ]
  },
  {
   "cell_type": "code",
   "execution_count": null,
   "id": "cee0ae55",
   "metadata": {},
   "outputs": [],
   "source": [
    "# 관측치 수 계산하기\n",
    "df_ins['charges'].count()"
   ]
  },
  {
   "cell_type": "markdown",
   "id": "c9e3d738",
   "metadata": {},
   "source": [
    "<br>\n",
    "\n",
    "### 1.2. 히스토그램 그리기\n",
    "\n",
    "하나의 수치형변수의 분포를 파악하기 위해서 히스토그램을 활용  \n",
    "Python에서 그래프를 그릴때는 기본적으로 matplotlib 라이브러리를 활용하지만, 좀 더 가독성이 좋고 그래프가 이쁜 seaborn 라이브러리를 추가로 활용   \n",
    "\n"
   ]
  },
  {
   "cell_type": "markdown",
   "id": "ce1221c5",
   "metadata": {},
   "source": [
    "<br>\n",
    "\n",
    "#### 1.2.1. pandas의 메서드와 matplotlib을 활용한 그래프"
   ]
  },
  {
   "cell_type": "code",
   "execution_count": null,
   "id": "41304196",
   "metadata": {},
   "outputs": [],
   "source": [
    "# 라이브러리 불러오기\n",
    "import matplotlib.pyplot as plt\n",
    "import seaborn as sns"
   ]
  },
  {
   "cell_type": "code",
   "execution_count": null,
   "id": "7ad3a849",
   "metadata": {
    "scrolled": true
   },
   "outputs": [],
   "source": [
    "print(10*5)"
   ]
  },
  {
   "cell_type": "code",
   "execution_count": null,
   "id": "40ad4315",
   "metadata": {},
   "outputs": [],
   "source": [
    "# 가장 간단한 히스토그램과 상자그림\n",
    "    # DataFrame의 plot 메서드 활용\n",
    "    # plt.show() : 최종 그래프 출력함수, 생략 가능\n",
    "df_ins['age'].plot(kind='hist')\n",
    "plt.show()"
   ]
  },
  {
   "cell_type": "code",
   "execution_count": null,
   "id": "6e7737b8",
   "metadata": {},
   "outputs": [],
   "source": [
    "# matplotlib의 hist( )를 활용한 히스토그램 그리기\n",
    "plt.hist(df_ins['age'])"
   ]
  },
  {
   "cell_type": "markdown",
   "id": "cc93a106",
   "metadata": {},
   "source": [
    "<br>\n",
    "\n",
    "#### 1.2.2. seaborn을 활용한 히스토그램\n",
    "\n",
    "seaborn 라이브러리를 활용하면 그래프를 그리는 명령어가 좀 더 직관적이고 DataFrame 형식을 활용하기 편함"
   ]
  },
  {
   "cell_type": "code",
   "execution_count": null,
   "id": "6cfe3ac5",
   "metadata": {},
   "outputs": [],
   "source": [
    "# histplot()을 활용한 히스토그램\n",
    "sns.histplot(data=df_ins,\n",
    "             x='age')"
   ]
  },
  {
   "cell_type": "markdown",
   "id": "c6210cb3",
   "metadata": {},
   "source": [
    "<br>\n",
    "\n",
    "#### [실습] 한 수치형 변수에 대한 요약과 시각화\n",
    "\n",
    "1. df_sp에서 'math score'의 평균 계산하기\n",
    "\n",
    "2. df_sp에서 'math score'의 히스토그램을 matplotlib으로 그려기\n",
    "\n",
    "3. df_sp에서 'math score'의 히스토그램을 seaborn으로 그려기\n",
    "\n"
   ]
  },
  {
   "cell_type": "code",
   "execution_count": null,
   "id": "201e72c5",
   "metadata": {},
   "outputs": [],
   "source": [
    "df_sp['math score'].mean()"
   ]
  },
  {
   "cell_type": "code",
   "execution_count": null,
   "id": "3cf6437f",
   "metadata": {},
   "outputs": [],
   "source": [
    "plt.hist(df_sp['math score'])"
   ]
  },
  {
   "cell_type": "code",
   "execution_count": null,
   "id": "37165a3e",
   "metadata": {},
   "outputs": [],
   "source": [
    "sns.histplot(data=df_sp, x='math score', bins=10)"
   ]
  },
  {
   "cell_type": "code",
   "execution_count": null,
   "id": "69091112",
   "metadata": {},
   "outputs": [],
   "source": []
  },
  {
   "cell_type": "markdown",
   "id": "80f16c9c",
   "metadata": {},
   "source": [
    "### 1.3. 분위수와 상자그림\n",
    "\n",
    "`quantile()`을 활용해서 분위수를 계산  \n",
    "\n",
    "최솟값(minimum, 0%), Q1(1st Quartile, 25%), 중앙값(median, 50%), Q3(3rd Quartile, 75%), 최댓값(maximum, 100%)을 사분위수(quartile)이라고 부르고, **상자그림(boxplot)** 으로 시각화"
   ]
  },
  {
   "cell_type": "code",
   "execution_count": null,
   "id": "d8b0a9ad",
   "metadata": {},
   "outputs": [],
   "source": [
    "df_ins['charges'].quantile(0.1)"
   ]
  },
  {
   "cell_type": "code",
   "execution_count": null,
   "id": "c09f9f88",
   "metadata": {},
   "outputs": [],
   "source": [
    "df_ins['charges'].quantile([0.0, 0.25, 0.5, 0.75, 1.0])\n",
    "    ## quantile( ) : 계산할 분위(1.0이 최댓값) 를 리스트로 묶기"
   ]
  },
  {
   "cell_type": "code",
   "execution_count": null,
   "id": "1a2e6849",
   "metadata": {},
   "outputs": [],
   "source": [
    "# matplotlib의 boxplot()으로 상자그림 그리기\n",
    "plt.boxplot(df_ins['charges'])\n",
    "plt.show()"
   ]
  },
  {
   "cell_type": "code",
   "execution_count": null,
   "id": "d4d09c04",
   "metadata": {},
   "outputs": [],
   "source": [
    "# boxplot( )을 활용한상자그림\n",
    "sns.boxplot(data=df_ins,\n",
    "            y='charges')"
   ]
  },
  {
   "cell_type": "markdown",
   "id": "83096bcf",
   "metadata": {},
   "source": [
    "<br>\n",
    "\n",
    "\n",
    "#### [실습]\n",
    "\n",
    "1. df_sp에서 'reading score'의 Q1(25%), 중위수(median, 50%), Q3(75%) 계산하기\n",
    "2. df_sp에서 'reading score'의 상자그림을 seaborn으로 그리기"
   ]
  },
  {
   "cell_type": "code",
   "execution_count": null,
   "id": "2798523f",
   "metadata": {},
   "outputs": [],
   "source": [
    "df_sp['reading score'].quantile([0.25, 0.5, 0.75])"
   ]
  },
  {
   "cell_type": "code",
   "execution_count": null,
   "id": "3a36c794",
   "metadata": {},
   "outputs": [],
   "source": [
    "data = df_sp[[\"reading score\", \"writing score\"]]\n",
    "\n",
    "sns.boxplot(data=data) "
   ]
  },
  {
   "cell_type": "code",
   "execution_count": null,
   "id": "e1d42455",
   "metadata": {},
   "outputs": [],
   "source": [
    "sns.boxplot(data=df_sp, y='reading score')\n",
    "sns.boxplot(data=df_sp, y='writing score')"
   ]
  },
  {
   "cell_type": "code",
   "execution_count": null,
   "id": "84367a93",
   "metadata": {},
   "outputs": [],
   "source": []
  },
  {
   "cell_type": "code",
   "execution_count": null,
   "id": "3f8b51f7",
   "metadata": {},
   "outputs": [],
   "source": []
  },
  {
   "cell_type": "code",
   "execution_count": null,
   "id": "5bd24179",
   "metadata": {},
   "outputs": [],
   "source": []
  },
  {
   "cell_type": "markdown",
   "id": "a065402e",
   "metadata": {},
   "source": [
    "<br>\n",
    "\n",
    "## 2. 범주형 변수의 요약과 시각화  \n",
    "\n",
    "범주형 변수는 정해진 수준(level) 중에 하나의 값을 갖기 때문에 분석 방법이 단순하며 개수를 세면 됨\n",
    "\n",
    "<br>\n",
    "\n",
    "\n",
    "### 2.1. 그룹별 건수 계산과 시각화\n",
    "\n",
    "> SQL에서도 가장 잦은 키워드 조합이 `SELECT COUNT(1) ... GROUP BY ...`입니다.  \n",
    "\n",
    "범주형 변수/그룹 변수로 수준별 관측치 수를 셀 수 있고, 막대그래프로 표현\n"
   ]
  },
  {
   "cell_type": "code",
   "execution_count": null,
   "id": "daa3936d",
   "metadata": {},
   "outputs": [],
   "source": [
    "# 수준(levels) 및 개수 확인 \n",
    "df_ins['smoker'].unique()\n",
    "# df_ins['smoker'].drop_duplicates()"
   ]
  },
  {
   "cell_type": "code",
   "execution_count": null,
   "id": "c05b5c92",
   "metadata": {},
   "outputs": [],
   "source": [
    "df_ins['region'].nunique()"
   ]
  },
  {
   "cell_type": "markdown",
   "id": "eaedaf69",
   "metadata": {},
   "source": [
    "<br>\n",
    "\n",
    "#### 2.1.1. 수준별 관측치 수 계산 및 막대그래프 작성"
   ]
  },
  {
   "cell_type": "code",
   "execution_count": null,
   "id": "4476c267",
   "metadata": {},
   "outputs": [],
   "source": [
    "# 수준별 관측치 수 세기\n",
    "df_ins['smoker'].value_counts()"
   ]
  },
  {
   "cell_type": "code",
   "execution_count": null,
   "id": "c7e76675",
   "metadata": {},
   "outputs": [],
   "source": [
    "# plot( ) 메서드를 활용한 막대그래프 \n",
    "df_ins['smoker'].value_counts().plot(kind='bar')"
   ]
  },
  {
   "cell_type": "code",
   "execution_count": null,
   "id": "7222b530",
   "metadata": {},
   "outputs": [],
   "source": [
    "sns.countplot(data=df_ins, x='smoker')"
   ]
  },
  {
   "cell_type": "code",
   "execution_count": null,
   "id": "4e517d92",
   "metadata": {},
   "outputs": [],
   "source": [
    "sns.countplot(data=df_ins,\n",
    "              x='smoker', order=['no', 'yes'])"
   ]
  },
  {
   "cell_type": "code",
   "execution_count": null,
   "id": "3bbea309",
   "metadata": {},
   "outputs": [],
   "source": [
    "# seaborn을 활용한 막대그래프\n",
    "sns.countplot(data=df_ins.sort_values(\"smoker\", ascending=True),\n",
    "              x='smoker')"
   ]
  },
  {
   "cell_type": "markdown",
   "id": "47e555ba",
   "metadata": {},
   "source": [
    "#### [실습]\n",
    "\n",
    "1. 데이터 df_sp에서 'parental level of education'별 관측치 수를 계산하고 matplotlib 막대그래프 그리기\n",
    "2. 'race/ethnicity'별 관측치 수를 계산하고, seaborn 막대그래프로 그리기"
   ]
  },
  {
   "cell_type": "code",
   "execution_count": null,
   "id": "6b57e9d5",
   "metadata": {},
   "outputs": [],
   "source": [
    "df_sp.head()"
   ]
  },
  {
   "cell_type": "code",
   "execution_count": null,
   "id": "b552e898",
   "metadata": {},
   "outputs": [],
   "source": [
    "count_edu = df_sp['parental level of education'].value_counts()\n",
    "count_edu.plot(kind='bar')"
   ]
  },
  {
   "cell_type": "code",
   "execution_count": null,
   "id": "37f867fa",
   "metadata": {},
   "outputs": [],
   "source": [
    "count_edu.index"
   ]
  },
  {
   "cell_type": "code",
   "execution_count": null,
   "id": "0ce6cc3c",
   "metadata": {},
   "outputs": [],
   "source": [
    "plt.bar(count_edu.index, count_edu)"
   ]
  },
  {
   "cell_type": "code",
   "execution_count": null,
   "id": "adb6c382",
   "metadata": {},
   "outputs": [],
   "source": [
    "sns.countplot(data=df_sp, x='race/ethnicity')"
   ]
  },
  {
   "cell_type": "code",
   "execution_count": null,
   "id": "7626505d",
   "metadata": {},
   "outputs": [],
   "source": []
  },
  {
   "cell_type": "markdown",
   "id": "d188c617",
   "metadata": {},
   "source": [
    "<br>  \n",
    "\n",
    "## 3. 산점도와 상관계수의 활용 \n",
    "\n",
    "두 수치형 변수의 관계를 파악하기 위해서 **산점도(scatterplot)** 를 그리고 **상관계수(correlation coefficient)** 를 계산  "
   ]
  },
  {
   "cell_type": "code",
   "execution_count": null,
   "id": "52899f0d",
   "metadata": {},
   "outputs": [],
   "source": [
    "# 예제 데이터 불러오기\n",
    "    # 아빠키와 아들키\n",
    "df_heights = pd.read_csv('data/heights.csv')\n",
    "df_heights"
   ]
  },
  {
   "cell_type": "code",
   "execution_count": null,
   "id": "1b0393c7",
   "metadata": {},
   "outputs": [],
   "source": [
    "# seaborn으로 산점도 그리기\n",
    "mean_f = df_heights['father'].mean()\n",
    "mean_s = df_heights['son'].mean()\n",
    "print(mean_f, mean_s)\n",
    "\n",
    "plt.figure(figsize=(8,8))\n",
    "\n",
    "sns.lmplot(data=df_heights, \n",
    "                x='father', \n",
    "                y='son')\n",
    "plt.axhline(mean_s) # 수평선 추가\n",
    "plt.axvline(mean_f) # 수직선 추가\n",
    "plt.show()\n"
   ]
  },
  {
   "cell_type": "code",
   "execution_count": null,
   "id": "c147b144",
   "metadata": {},
   "outputs": [],
   "source": [
    "# 공분산 계산하기\n",
    "df_heights[['father','son']].cov()"
   ]
  },
  {
   "cell_type": "code",
   "execution_count": null,
   "id": "e34ba1e3",
   "metadata": {},
   "outputs": [],
   "source": [
    "# 상관계수 계산하기\n",
    "df_heights[['father','son']].corr()"
   ]
  },
  {
   "cell_type": "code",
   "execution_count": null,
   "id": "5816df25",
   "metadata": {},
   "outputs": [],
   "source": [
    "0.501338**2"
   ]
  },
  {
   "cell_type": "code",
   "execution_count": null,
   "id": "c35da72e",
   "metadata": {},
   "outputs": [],
   "source": [
    "from sklearn.linear_model import LinearRegression\n",
    "\n",
    "# Set up the predictor and response\n",
    "X = df_heights[['father']]\n",
    "y = df_heights['son']\n",
    "\n",
    "# Create a linear regression model\n",
    "model = LinearRegression()\n",
    "model.fit(X, y)\n",
    "\n",
    "# Get R squared\n",
    "r2 = model.score(X, y)\n",
    "print(f\"R^2: {r2:.4f}\")\n",
    "\n",
    "plt.figure(figsize=(10, 6))\n",
    "sns.regplot(x='father', y='son', data=df_heights, line_kws={\"color\": \"red\"})\n",
    "plt.text(0.05, 0.95, f\"$R^2 = {r2:.4f}$\", transform=plt.gca().transAxes, fontsize=12, verticalalignment='top')\n",
    "plt.show()"
   ]
  },
  {
   "cell_type": "markdown",
   "id": "a641b83a",
   "metadata": {},
   "source": [
    "#### [실습] 두 수치형 변수의 관계 탐색\n",
    " \n",
    "1. df_sp에서 'math score'와 'reading score'의 산점도를 그리고 상관계수 계산하기\n",
    "2. df_ins에서 'bmi'와 'charges'의 산점도를 그리고 상관계수 계산하기\n",
    "3. (같이) df_ins에서 데이터 부분 선택을 활용해서 'bmi'와 'charges'의 상관계수를 'smoker'별로 나눠 계산하기"
   ]
  },
  {
   "cell_type": "code",
   "execution_count": null,
   "id": "8eb744eb",
   "metadata": {},
   "outputs": [],
   "source": [
    "sns.scatterplot(data=df_sp, x='writing score', y='reading score', alpha=0.5)"
   ]
  },
  {
   "cell_type": "code",
   "execution_count": null,
   "id": "fbac8880",
   "metadata": {},
   "outputs": [],
   "source": [
    "df_sp[['math score', 'reading score', 'writing score']].corr()"
   ]
  },
  {
   "cell_type": "code",
   "execution_count": null,
   "id": "e73add9e",
   "metadata": {},
   "outputs": [],
   "source": [
    "sns.scatterplot(data=df_ins,\n",
    "                x='bmi', y='charges', alpha=0.5)"
   ]
  },
  {
   "cell_type": "code",
   "execution_count": null,
   "id": "b1a01838",
   "metadata": {},
   "outputs": [],
   "source": [
    "df_ins[['bmi', 'charges']].corr()"
   ]
  },
  {
   "cell_type": "code",
   "execution_count": null,
   "id": "7c984d6f",
   "metadata": {},
   "outputs": [],
   "source": []
  },
  {
   "cell_type": "code",
   "execution_count": null,
   "id": "4b831c30",
   "metadata": {},
   "outputs": [],
   "source": [
    "df_ins_smoker = df_ins[df_ins['smoker']=='yes']\n",
    "df_ins_smoker[['bmi', 'charges']].corr()"
   ]
  },
  {
   "cell_type": "code",
   "execution_count": null,
   "id": "65c48ef5",
   "metadata": {},
   "outputs": [],
   "source": [
    "df_ins_smoker = df_ins[df_ins['smoker']=='no']\n",
    "df_ins_smoker[['bmi', 'charges']].corr()"
   ]
  },
  {
   "cell_type": "code",
   "execution_count": null,
   "id": "69e5f2fe",
   "metadata": {},
   "outputs": [],
   "source": [
    "for col in df_ins.columns:\n",
    "    sns.scatterplot(data=df_ins, x='bmi', y='charges', hue=col)\n",
    "    plt.show()"
   ]
  },
  {
   "cell_type": "markdown",
   "id": "c6ca5de2",
   "metadata": {},
   "source": [
    "<br>\n",
    "\n",
    "\n",
    "## 4. 그룹별 집계값의 계산과 분포 비교\n",
    "\n",
    "범주형 변수를 그룹처럼 활용해서 그룹별 평균을 계산하고, 그룹별 상자그림을 그려서 그룹간 분포를 비교  \n",
    "한 변수의 집계에서 `groupby()`를 추가하면 되고, 필요에 따라 `agg()`를 활용 가능 "
   ]
  },
  {
   "cell_type": "code",
   "execution_count": null,
   "id": "a94eb7f3",
   "metadata": {},
   "outputs": [],
   "source": [
    "# 전체 평균 계산\n",
    "df_ins['charges'].mean()"
   ]
  },
  {
   "cell_type": "code",
   "execution_count": null,
   "id": "5b4028be",
   "metadata": {},
   "outputs": [],
   "source": [
    "# 그룹별 평균 계산\n",
    "df_ins.groupby('sex')['charges'].mean()"
   ]
  },
  {
   "cell_type": "code",
   "execution_count": null,
   "id": "c1f873de",
   "metadata": {},
   "outputs": [],
   "source": [
    "# 그룹별 평균 계산(DataFrame 형식으로 출력)\n",
    "df_ins.groupby('sex', as_index=False)['charges'].mean()"
   ]
  },
  {
   "cell_type": "markdown",
   "id": "f5d9375a",
   "metadata": {},
   "source": [
    "<br>\n",
    "\n",
    "다양한 그룹 집계값의 계산 예제"
   ]
  },
  {
   "cell_type": "code",
   "execution_count": null,
   "id": "1bd7b7c2",
   "metadata": {},
   "outputs": [],
   "source": [
    "# 여러개 그룹변수를 활용한 평균 계산\n",
    "df_ins.groupby(['sex', 'smoker'], as_index=False)['charges'].mean()"
   ]
  },
  {
   "cell_type": "code",
   "execution_count": null,
   "id": "24dfbd95",
   "metadata": {},
   "outputs": [],
   "source": [
    "# 그룹별 여러 변수의 평균 계산 \n",
    "df_ins.groupby('sex', as_index=False)[['charges', 'age']].mean()"
   ]
  },
  {
   "cell_type": "code",
   "execution_count": null,
   "id": "f18850db",
   "metadata": {},
   "outputs": [],
   "source": [
    "# 그룹별 한 변수의 여러 집계값 계산\n",
    "df_ins.groupby('sex', as_index=False)['charges'].agg(['min','max','mean'])"
   ]
  },
  {
   "cell_type": "code",
   "execution_count": null,
   "id": "6fd3e48d",
   "metadata": {},
   "outputs": [],
   "source": [
    "# 일반적인 그룹별 집계값 계산\n",
    "df_ins.groupby('sex', as_index=False).agg({'age':['min','max','mean'], 'charges':['mean', 'median']})"
   ]
  },
  {
   "cell_type": "markdown",
   "id": "d3a1106f",
   "metadata": {},
   "source": [
    "<br>\n",
    "\n",
    "그룹 평균 등에 대응하는 그래프를 활용한 그룹 분포 비교"
   ]
  },
  {
   "cell_type": "code",
   "execution_count": null,
   "id": "677eb379",
   "metadata": {},
   "outputs": [],
   "source": [
    "# 겹쳐그린 히스토그램 \n",
    "sns.histplot(data=df_ins, \n",
    "             x = 'charges',\n",
    "             hue='sex')"
   ]
  },
  {
   "cell_type": "code",
   "execution_count": null,
   "id": "db7509d9",
   "metadata": {},
   "outputs": [],
   "source": [
    "sns.histplot(data=df_ins, \n",
    "             x = 'charges',\n",
    "             hue='smoker')"
   ]
  },
  {
   "cell_type": "code",
   "execution_count": null,
   "id": "52f3d65d",
   "metadata": {},
   "outputs": [],
   "source": [
    "# 많이 겹치기 어려운 히스토그램\n",
    "sns.histplot(data=df_ins, \n",
    "             x = 'charges',\n",
    "             hue='region')"
   ]
  },
  {
   "cell_type": "code",
   "execution_count": null,
   "id": "e40ac978",
   "metadata": {},
   "outputs": [],
   "source": [
    "# 그룹별 상자그림 \n",
    "sns.boxplot(data=df_ins,\n",
    "            x='sex', \n",
    "            y='charges')"
   ]
  },
  {
   "cell_type": "code",
   "execution_count": null,
   "id": "321710d7-6cc3-4295-a977-55f425c6bdb8",
   "metadata": {},
   "outputs": [],
   "source": [
    "sns.boxplot(data=df_ins,\n",
    "            x='region', \n",
    "            y='charges')"
   ]
  },
  {
   "cell_type": "code",
   "execution_count": null,
   "id": "95bc6e90",
   "metadata": {},
   "outputs": [],
   "source": [
    "# hue를 추가로 활용한 상자그림\n",
    "sns.boxplot(data=df_ins,\n",
    "            x='region', \n",
    "            y='charges',\n",
    "            hue='smoker')"
   ]
  },
  {
   "cell_type": "markdown",
   "id": "093b0416",
   "metadata": {},
   "source": [
    "#### [실습] 변수 관계 탐색\n",
    "\n",
    "1. 데이터 df_sp에서 수치형 변수 하나와 범주형 변수 하나를 선택해서 그룹별 평균을 계산하고 상자그림 그리기\n",
    "2. 데이터 df_sp에서 두 그룹 변수를 활용해서 `math score`의 평균을 계산하기\n",
    "3. 2.의 세 변수를 x, y, hue로 활용해 seaborn으로 상자그림 그리기\n",
    "\n",
    "\n"
   ]
  },
  {
   "cell_type": "code",
   "execution_count": null,
   "id": "40b52501",
   "metadata": {},
   "outputs": [],
   "source": [
    "df_sp.head()"
   ]
  },
  {
   "cell_type": "code",
   "execution_count": null,
   "id": "ab992ab0",
   "metadata": {},
   "outputs": [],
   "source": [
    "df_sp.groupby('parental level of education', as_index=False)['math score'].mean()"
   ]
  },
  {
   "cell_type": "code",
   "execution_count": null,
   "id": "d24de25b",
   "metadata": {},
   "outputs": [],
   "source": [
    "plt.figure(figsize=(10,5))\n",
    "sns.boxplot(data=df_sp, x='parental level of education', y='math score')"
   ]
  },
  {
   "cell_type": "code",
   "execution_count": null,
   "id": "6da942e0",
   "metadata": {},
   "outputs": [],
   "source": [
    "df_sp.groupby(['parental level of education', 'gender'], as_index=False)[['math score', 'reading score', 'writing score']].mean()"
   ]
  },
  {
   "cell_type": "code",
   "execution_count": null,
   "id": "80b99149",
   "metadata": {},
   "outputs": [],
   "source": [
    "plt.figure(figsize=(10,5))\n",
    "sns.boxplot(data=df_sp, x='parental level of education', y='reading score', hue='gender')"
   ]
  },
  {
   "cell_type": "code",
   "execution_count": null,
   "id": "88ed87b2",
   "metadata": {},
   "outputs": [],
   "source": []
  },
  {
   "cell_type": "markdown",
   "id": "fe28b623",
   "metadata": {},
   "source": [
    "## 5. 피벗 테이블과 열지도의 활용\n",
    "\n",
    "pandas의 *pivot_table()* 을 활용하면 Excel의 피벗테이블과 동일한 표 형태의 집계 가능"
   ]
  },
  {
   "cell_type": "code",
   "execution_count": null,
   "id": "2d96c50f",
   "metadata": {},
   "outputs": [],
   "source": [
    "# pivot_table()을 활용한 교차표 작성\n",
    "    ## values : 값 변수\n",
    "    ## index  : 행 그룹변수\n",
    "    ## columns: 열 그룹변수 \n",
    "    ## aggfunc: 집계 함수\n",
    "pd.pivot_table(df_ins, values='charges', index='sex', columns='region', aggfunc='size')"
   ]
  },
  {
   "cell_type": "code",
   "execution_count": null,
   "id": "9f5b2084",
   "metadata": {
    "scrolled": true
   },
   "outputs": [],
   "source": [
    "# pivot_table()을 활용한 평균 피벗테이블\n",
    "pd.pivot_table(df_ins, index='sex', columns='region',  values='charges', aggfunc='mean')\n",
    "df = pd.pivot_table(df_ins, 'age', 'sex', 'region')\n",
    "display(df)"
   ]
  },
  {
   "cell_type": "code",
   "execution_count": 143,
   "id": "06e8cc40",
   "metadata": {
    "collapsed": true
   },
   "outputs": [
    {
     "data": {
      "text/html": [
       "<div>\n",
       "<style scoped>\n",
       "    .dataframe tbody tr th:only-of-type {\n",
       "        vertical-align: middle;\n",
       "    }\n",
       "\n",
       "    .dataframe tbody tr th {\n",
       "        vertical-align: top;\n",
       "    }\n",
       "\n",
       "    .dataframe thead th {\n",
       "        text-align: right;\n",
       "    }\n",
       "</style>\n",
       "<table border=\"1\" class=\"dataframe\">\n",
       "  <thead>\n",
       "    <tr style=\"text-align: right;\">\n",
       "      <th></th>\n",
       "      <th>sex</th>\n",
       "      <th>region</th>\n",
       "      <th>charges</th>\n",
       "    </tr>\n",
       "  </thead>\n",
       "  <tbody>\n",
       "    <tr>\n",
       "      <th>0</th>\n",
       "      <td>female</td>\n",
       "      <td>northeast</td>\n",
       "      <td>12953.203151</td>\n",
       "    </tr>\n",
       "    <tr>\n",
       "      <th>1</th>\n",
       "      <td>female</td>\n",
       "      <td>northwest</td>\n",
       "      <td>12479.870397</td>\n",
       "    </tr>\n",
       "    <tr>\n",
       "      <th>2</th>\n",
       "      <td>female</td>\n",
       "      <td>southeast</td>\n",
       "      <td>13499.669243</td>\n",
       "    </tr>\n",
       "    <tr>\n",
       "      <th>3</th>\n",
       "      <td>female</td>\n",
       "      <td>southwest</td>\n",
       "      <td>11274.411264</td>\n",
       "    </tr>\n",
       "    <tr>\n",
       "      <th>4</th>\n",
       "      <td>male</td>\n",
       "      <td>northeast</td>\n",
       "      <td>13854.005374</td>\n",
       "    </tr>\n",
       "    <tr>\n",
       "      <th>5</th>\n",
       "      <td>male</td>\n",
       "      <td>northwest</td>\n",
       "      <td>12354.119575</td>\n",
       "    </tr>\n",
       "    <tr>\n",
       "      <th>6</th>\n",
       "      <td>male</td>\n",
       "      <td>southeast</td>\n",
       "      <td>15879.617173</td>\n",
       "    </tr>\n",
       "    <tr>\n",
       "      <th>7</th>\n",
       "      <td>male</td>\n",
       "      <td>southwest</td>\n",
       "      <td>13412.883576</td>\n",
       "    </tr>\n",
       "  </tbody>\n",
       "</table>\n",
       "</div>"
      ],
      "text/plain": [
       "      sex     region       charges\n",
       "0  female  northeast  12953.203151\n",
       "1  female  northwest  12479.870397\n",
       "2  female  southeast  13499.669243\n",
       "3  female  southwest  11274.411264\n",
       "4    male  northeast  13854.005374\n",
       "5    male  northwest  12354.119575\n",
       "6    male  southeast  15879.617173\n",
       "7    male  southwest  13412.883576"
      ]
     },
     "execution_count": 143,
     "metadata": {},
     "output_type": "execute_result"
    }
   ],
   "source": [
    "df_ins.groupby(['sex', 'region'], as_index=False)['charges'].mean()"
   ]
  },
  {
   "cell_type": "code",
   "execution_count": null,
   "id": "be48bc12",
   "metadata": {},
   "outputs": [],
   "source": [
    "# DataFrmae의 method, pivot_table()을 활용한 평균 피벗테이블\n",
    "agg2_wide = df_ins.pivot_table(values='charges', index='sex', columns='region', aggfunc='mean')\n",
    "agg2_wide"
   ]
  },
  {
   "cell_type": "code",
   "execution_count": null,
   "id": "c6368afa-e52e-4d3c-a3a6-7f191711994e",
   "metadata": {},
   "outputs": [],
   "source": [
    "# margins 옵션 활용\n",
    "df_ins.pivot_table(values='charges', index='sex', columns='region', aggfunc='mean', margins=True) "
   ]
  },
  {
   "cell_type": "code",
   "execution_count": null,
   "id": "cef4fa79",
   "metadata": {},
   "outputs": [],
   "source": [
    "# 열지도 시각화\n",
    "#sns.heatmap(agg2_wide)\n",
    "\n",
    "sns.heatmap(agg2_wide, cmap='YlGnBu', annot=True, fmt='.2f')"
   ]
  },
  {
   "cell_type": "markdown",
   "id": "bc7eb497-e448-4f5b-a769-63580ae5b5c7",
   "metadata": {},
   "source": [
    "* 참고: [Color Palette](https://seaborn.pydata.org/tutorial/color_palettes.html)"
   ]
  },
  {
   "cell_type": "markdown",
   "id": "bfb69c9e-e9ad-4ce6-a7d0-c5f28220a2bb",
   "metadata": {},
   "source": [
    "<br>\n",
    "\n",
    "#### [실습] df_sp 활용\n",
    "\n",
    "1. 'race/ethnicity', 'parental level of education'별 'math score'의 평균을 피벗테이블로 계산\n",
    "2. 1.의 결과를 열지도로 시각화"
   ]
  },
  {
   "cell_type": "code",
   "execution_count": null,
   "id": "9e6e98fb",
   "metadata": {},
   "outputs": [],
   "source": [
    "df_sp.head()"
   ]
  },
  {
   "cell_type": "code",
   "execution_count": 167,
   "id": "d68c48b5",
   "metadata": {},
   "outputs": [
    {
     "data": {
      "text/plain": [
       "\"associate's degree\""
      ]
     },
     "execution_count": 167,
     "metadata": {},
     "output_type": "execute_result"
    }
   ],
   "source": [
    "\"associate's degree\""
   ]
  },
  {
   "cell_type": "code",
   "execution_count": 161,
   "id": "72868ba5",
   "metadata": {},
   "outputs": [
    {
     "data": {
      "text/plain": [
       "Index(['associate's degree', 'bachelor's degree', 'high school',\n",
       "       'master's degree', 'some college', 'some high school'],\n",
       "      dtype='object', name='parental level of education')"
      ]
     },
     "execution_count": 161,
     "metadata": {},
     "output_type": "execute_result"
    }
   ],
   "source": [
    "pt.columns"
   ]
  },
  {
   "cell_type": "code",
   "execution_count": 165,
   "id": "1da3002d",
   "metadata": {},
   "outputs": [],
   "source": [
    "pt = df_sp.pivot_table(index='race/ethnicity', columns='parental level of education', values='math score', aggfunc='mean')\n",
    "pt = pt[['high school','some high school', 'some college',\"associate's degree\",\"bachelor's degree\",\"master's degree\"]]"
   ]
  },
  {
   "cell_type": "code",
   "execution_count": 166,
   "id": "41c282dd",
   "metadata": {},
   "outputs": [
    {
     "data": {
      "text/plain": [
       "<Axes: xlabel='parental level of education', ylabel='race/ethnicity'>"
      ]
     },
     "execution_count": 166,
     "metadata": {},
     "output_type": "execute_result"
    },
    {
     "data": {
      "image/png": "[encoded data removed]",
      "text/plain": [
       "<Figure size 640x480 with 2 Axes>"
      ]
     },
     "metadata": {},
     "output_type": "display_data"
    }
   ],
   "source": [
    "sns.heatmap(pt, cmap='Blues', annot=True)"
   ]
  },
  {
   "cell_type": "code",
   "execution_count": 154,
   "id": "7b89013d",
   "metadata": {},
   "outputs": [
    {
     "data": {
      "text/plain": [
       "50"
      ]
     },
     "execution_count": 154,
     "metadata": {},
     "output_type": "execute_result"
    }
   ],
   "source": [
    " 10*5"
   ]
  },
  {
   "cell_type": "markdown",
   "id": "6804ede0",
   "metadata": {},
   "source": [
    "<br>\n",
    "\n",
    "## 6. [참고]결과 데이터와 그래프의 저장\n",
    "\n",
    "함수를 활용해서 분석 결과 데이터와 그래프를 저장 가능"
   ]
  },
  {
   "cell_type": "code",
   "execution_count": 168,
   "id": "41b27d2c",
   "metadata": {},
   "outputs": [],
   "source": [
    "# 폴더 생성\n",
    "%mkdir result"
   ]
  },
  {
   "cell_type": "code",
   "execution_count": 169,
   "id": "ad5da86b",
   "metadata": {},
   "outputs": [
    {
     "data": {
      "text/html": [
       "<div>\n",
       "<style scoped>\n",
       "    .dataframe tbody tr th:only-of-type {\n",
       "        vertical-align: middle;\n",
       "    }\n",
       "\n",
       "    .dataframe tbody tr th {\n",
       "        vertical-align: top;\n",
       "    }\n",
       "\n",
       "    .dataframe thead th {\n",
       "        text-align: right;\n",
       "    }\n",
       "</style>\n",
       "<table border=\"1\" class=\"dataframe\">\n",
       "  <thead>\n",
       "    <tr style=\"text-align: right;\">\n",
       "      <th>smoker</th>\n",
       "      <th>no</th>\n",
       "      <th>yes</th>\n",
       "    </tr>\n",
       "    <tr>\n",
       "      <th>region</th>\n",
       "      <th></th>\n",
       "      <th></th>\n",
       "    </tr>\n",
       "  </thead>\n",
       "  <tbody>\n",
       "    <tr>\n",
       "      <th>northeast</th>\n",
       "      <td>9165.531672</td>\n",
       "      <td>29673.536473</td>\n",
       "    </tr>\n",
       "    <tr>\n",
       "      <th>northwest</th>\n",
       "      <td>8556.463715</td>\n",
       "      <td>30192.003182</td>\n",
       "    </tr>\n",
       "    <tr>\n",
       "      <th>southeast</th>\n",
       "      <td>8032.216309</td>\n",
       "      <td>34844.996824</td>\n",
       "    </tr>\n",
       "    <tr>\n",
       "      <th>southwest</th>\n",
       "      <td>8019.284513</td>\n",
       "      <td>32269.063494</td>\n",
       "    </tr>\n",
       "  </tbody>\n",
       "</table>\n",
       "</div>"
      ],
      "text/plain": [
       "smoker              no           yes\n",
       "region                              \n",
       "northeast  9165.531672  29673.536473\n",
       "northwest  8556.463715  30192.003182\n",
       "southeast  8032.216309  34844.996824\n",
       "southwest  8019.284513  32269.063494"
      ]
     },
     "execution_count": 169,
     "metadata": {},
     "output_type": "execute_result"
    }
   ],
   "source": [
    "# 대상 결과 데이터 확인\n",
    "pt1 = df_ins.pivot_table(index='region', columns='smoker', values='charges', aggfunc='mean')\n",
    "pt1"
   ]
  },
  {
   "cell_type": "code",
   "execution_count": 170,
   "id": "1dd35887",
   "metadata": {},
   "outputs": [],
   "source": [
    "# to_csv()로 결과 데이터를 csv 형식으로 저장하기\n",
    "pt1.to_csv('result/result.csv', index=True)"
   ]
  },
  {
   "cell_type": "code",
   "execution_count": 171,
   "id": "e8630696",
   "metadata": {},
   "outputs": [
    {
     "data": {
      "text/plain": [
       "<Axes: xlabel='smoker', ylabel='region'>"
      ]
     },
     "execution_count": 171,
     "metadata": {},
     "output_type": "execute_result"
    },
    {
     "data": {
      "image/png": "[encoded data removed]",
      "text/plain": [
       "<Figure size 640x480 with 2 Axes>"
      ]
     },
     "metadata": {},
     "output_type": "display_data"
    }
   ],
   "source": [
    "# 대상 그래프 확인\n",
    "plot1 = sns.heatmap(pt1, cmap='Blues', annot=True, fmt='.2f')\n",
    "plot1"
   ]
  },
  {
   "cell_type": "code",
   "execution_count": 172,
   "id": "82bf786e",
   "metadata": {},
   "outputs": [],
   "source": [
    "# savefig()을 활용한 그래프 저장\n",
    "plot1.figure.savefig('result/plot1.jpg')"
   ]
  },
  {
   "cell_type": "markdown",
   "id": "438a6fcf",
   "metadata": {},
   "source": [
    "#### End of script"
   ]
  }
 ],
 "metadata": {
  "kernelspec": {
   "display_name": "Python 3 (ipykernel)",
   "language": "python",
   "name": "python3"
  },
  "language_info": {
   "codemirror_mode": {
    "name": "ipython",
    "version": 3
   },
   "file_extension": ".py",
   "mimetype": "text/x-python",
   "name": "python",
   "nbconvert_exporter": "python",
   "pygments_lexer": "ipython3",
   "version": "3.10.9"
  }
 },
 "nbformat": 4,
 "nbformat_minor": 5
}
