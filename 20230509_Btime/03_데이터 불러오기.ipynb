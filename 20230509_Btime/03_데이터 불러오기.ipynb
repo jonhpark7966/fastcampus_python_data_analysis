{
 "cells": [
  {
   "cell_type": "markdown",
   "id": "8a6c67e2",
   "metadata": {},
   "source": [
    "# 데이터 불러오기/살펴보기\n",
    "\n",
    "### 주요 내용\n",
    "\n",
    "1. csv, xlsx 파일 불러오기\n",
    "2. 데이터 살펴보기\n",
    "3. DRM 보안 파일 불러오기\n",
    "\n",
    "<br>\n",
    "\n",
    "### 목표 \n",
    "1. 분석에 필요한 데이터를 python으로 불러올 수 있다.\n",
    "2. 데이터의 일부나 특성을 확인할 수 있다. \n",
    "\n",
    "\n",
    "<br>\n",
    "<hr>\n",
    "<br>"
   ]
  },
  {
   "cell_type": "markdown",
   "id": "7e80c404",
   "metadata": {},
   "source": [
    "## 1. 파일 불러와서 살펴보기\n",
    "\n",
    "**pandas** 라이브러리의 *read_csv()* 등의 함수를 활용해서 데이터 불러오기 가능 \n",
    "아래의 표현들을 활용해서 데이터 파일의 경로 지정 필요 \n",
    "\n",
    "* `/` : **root**. Windows에서는 C:\\\n",
    "* `~/` : 사용자 폴더. Windows에서는 C:\\Users\\사용자계정이름\n",
    "* `./` : 현재 작업 폴더(working directory), 별도로 작업하지 않은 경우 생략 가능\n",
    "* `../` : 현재 폴더의 상위 폴더\n",
    "\n",
    "\n",
    "`바탕화면`처럼 익숙한 곳에 새로운 폴더를 만들고, 데이터 파일을 옮겨서 작업하는 것을 추천\n",
    "\n"
   ]
  },
  {
   "cell_type": "code",
   "execution_count": 1,
   "id": "f4e68afb",
   "metadata": {},
   "outputs": [
    {
     "data": {
      "text/plain": [
       "'C:\\\\Users\\\\user\\\\Desktop\\\\강의자료\\\\실습자료_Python 데이터 분석'"
      ]
     },
     "execution_count": 1,
     "metadata": {},
     "output_type": "execute_result"
    }
   ],
   "source": [
    "# 현재 작업 폴더 확인\n",
    "    ## print working directory\n",
    "%pwd"
   ]
  },
  {
   "cell_type": "markdown",
   "id": "f1effbcd",
   "metadata": {},
   "source": [
    "<br>\n",
    "\n",
    "### 1.1. CSV 파일 불러오기\n",
    "\n",
    "**pandas** 라이브러리 불러오기 "
   ]
  },
  {
   "cell_type": "code",
   "execution_count": 2,
   "id": "1842e166",
   "metadata": {},
   "outputs": [],
   "source": [
    "import pandas as pd"
   ]
  },
  {
   "cell_type": "code",
   "execution_count": 3,
   "id": "d881a9a0",
   "metadata": {},
   "outputs": [
    {
     "data": {
      "text/html": [
       "<div>\n",
       "<style scoped>\n",
       "    .dataframe tbody tr th:only-of-type {\n",
       "        vertical-align: middle;\n",
       "    }\n",
       "\n",
       "    .dataframe tbody tr th {\n",
       "        vertical-align: top;\n",
       "    }\n",
       "\n",
       "    .dataframe thead th {\n",
       "        text-align: right;\n",
       "    }\n",
       "</style>\n",
       "<table border=\"1\" class=\"dataframe\">\n",
       "  <thead>\n",
       "    <tr style=\"text-align: right;\">\n",
       "      <th></th>\n",
       "      <th>age</th>\n",
       "      <th>sex</th>\n",
       "      <th>bmi</th>\n",
       "      <th>children</th>\n",
       "      <th>smoker</th>\n",
       "      <th>region</th>\n",
       "      <th>charges</th>\n",
       "    </tr>\n",
       "  </thead>\n",
       "  <tbody>\n",
       "    <tr>\n",
       "      <th>0</th>\n",
       "      <td>19</td>\n",
       "      <td>female</td>\n",
       "      <td>27.900</td>\n",
       "      <td>0</td>\n",
       "      <td>yes</td>\n",
       "      <td>southwest</td>\n",
       "      <td>16884.92400</td>\n",
       "    </tr>\n",
       "    <tr>\n",
       "      <th>1</th>\n",
       "      <td>18</td>\n",
       "      <td>male</td>\n",
       "      <td>33.770</td>\n",
       "      <td>1</td>\n",
       "      <td>no</td>\n",
       "      <td>southeast</td>\n",
       "      <td>1725.55230</td>\n",
       "    </tr>\n",
       "    <tr>\n",
       "      <th>2</th>\n",
       "      <td>28</td>\n",
       "      <td>male</td>\n",
       "      <td>33.000</td>\n",
       "      <td>3</td>\n",
       "      <td>no</td>\n",
       "      <td>southeast</td>\n",
       "      <td>4449.46200</td>\n",
       "    </tr>\n",
       "    <tr>\n",
       "      <th>3</th>\n",
       "      <td>33</td>\n",
       "      <td>male</td>\n",
       "      <td>22.705</td>\n",
       "      <td>0</td>\n",
       "      <td>no</td>\n",
       "      <td>northwest</td>\n",
       "      <td>21984.47061</td>\n",
       "    </tr>\n",
       "    <tr>\n",
       "      <th>4</th>\n",
       "      <td>32</td>\n",
       "      <td>male</td>\n",
       "      <td>28.880</td>\n",
       "      <td>0</td>\n",
       "      <td>no</td>\n",
       "      <td>northwest</td>\n",
       "      <td>3866.85520</td>\n",
       "    </tr>\n",
       "    <tr>\n",
       "      <th>...</th>\n",
       "      <td>...</td>\n",
       "      <td>...</td>\n",
       "      <td>...</td>\n",
       "      <td>...</td>\n",
       "      <td>...</td>\n",
       "      <td>...</td>\n",
       "      <td>...</td>\n",
       "    </tr>\n",
       "    <tr>\n",
       "      <th>1333</th>\n",
       "      <td>50</td>\n",
       "      <td>male</td>\n",
       "      <td>30.970</td>\n",
       "      <td>3</td>\n",
       "      <td>no</td>\n",
       "      <td>northwest</td>\n",
       "      <td>10600.54830</td>\n",
       "    </tr>\n",
       "    <tr>\n",
       "      <th>1334</th>\n",
       "      <td>18</td>\n",
       "      <td>female</td>\n",
       "      <td>31.920</td>\n",
       "      <td>0</td>\n",
       "      <td>no</td>\n",
       "      <td>northeast</td>\n",
       "      <td>2205.98080</td>\n",
       "    </tr>\n",
       "    <tr>\n",
       "      <th>1335</th>\n",
       "      <td>18</td>\n",
       "      <td>female</td>\n",
       "      <td>36.850</td>\n",
       "      <td>0</td>\n",
       "      <td>no</td>\n",
       "      <td>southeast</td>\n",
       "      <td>1629.83350</td>\n",
       "    </tr>\n",
       "    <tr>\n",
       "      <th>1336</th>\n",
       "      <td>21</td>\n",
       "      <td>female</td>\n",
       "      <td>25.800</td>\n",
       "      <td>0</td>\n",
       "      <td>no</td>\n",
       "      <td>southwest</td>\n",
       "      <td>2007.94500</td>\n",
       "    </tr>\n",
       "    <tr>\n",
       "      <th>1337</th>\n",
       "      <td>61</td>\n",
       "      <td>female</td>\n",
       "      <td>29.070</td>\n",
       "      <td>0</td>\n",
       "      <td>yes</td>\n",
       "      <td>northwest</td>\n",
       "      <td>29141.36030</td>\n",
       "    </tr>\n",
       "  </tbody>\n",
       "</table>\n",
       "<p>1338 rows × 7 columns</p>\n",
       "</div>"
      ],
      "text/plain": [
       "      age     sex     bmi  children smoker     region      charges\n",
       "0      19  female  27.900         0    yes  southwest  16884.92400\n",
       "1      18    male  33.770         1     no  southeast   1725.55230\n",
       "2      28    male  33.000         3     no  southeast   4449.46200\n",
       "3      33    male  22.705         0     no  northwest  21984.47061\n",
       "4      32    male  28.880         0     no  northwest   3866.85520\n",
       "...   ...     ...     ...       ...    ...        ...          ...\n",
       "1333   50    male  30.970         3     no  northwest  10600.54830\n",
       "1334   18  female  31.920         0     no  northeast   2205.98080\n",
       "1335   18  female  36.850         0     no  southeast   1629.83350\n",
       "1336   21  female  25.800         0     no  southwest   2007.94500\n",
       "1337   61  female  29.070         0    yes  northwest  29141.36030\n",
       "\n",
       "[1338 rows x 7 columns]"
      ]
     },
     "execution_count": 3,
     "metadata": {},
     "output_type": "execute_result"
    }
   ],
   "source": [
    "# pandas의 read_csv( ) 활용\n",
    "#df_ins= pd.read_csv(\"./data/insurance.csv\")\n",
    "df_ins= pd.read_csv(\"data/insurance.csv\")\n",
    "df_ins    \n",
    "    ## 경로가 중요! \n",
    "    ## ./ : ipynb 노트북 파일 폴더\n",
    "    ## ./ 생략 가능\n",
    "    ## Tab으로 자동 완성 기능 활용 가능 "
   ]
  },
  {
   "cell_type": "code",
   "execution_count": 4,
   "id": "a2756fb6",
   "metadata": {},
   "outputs": [
    {
     "data": {
      "text/plain": [
       "pandas.core.frame.DataFrame"
      ]
     },
     "execution_count": 4,
     "metadata": {},
     "output_type": "execute_result"
    }
   ],
   "source": [
    "# 타입 확인\n",
    "type(df_ins)\n",
    "    ## \"DataFrame\""
   ]
  },
  {
   "cell_type": "code",
   "execution_count": null,
   "id": "07e0a816",
   "metadata": {},
   "outputs": [],
   "source": [
    "# 메서드의 확인(마침표 뒤에서 Tab 누르기)\n",
    "df_ins."
   ]
  },
  {
   "cell_type": "markdown",
   "id": "76e7833b",
   "metadata": {},
   "source": [
    "<br>\n",
    "\n",
    "### 1.2. 데이터 살펴보기\n"
   ]
  },
  {
   "cell_type": "code",
   "execution_count": 9,
   "id": "723139a9",
   "metadata": {},
   "outputs": [
    {
     "data": {
      "text/html": [
       "<div>\n",
       "<style scoped>\n",
       "    .dataframe tbody tr th:only-of-type {\n",
       "        vertical-align: middle;\n",
       "    }\n",
       "\n",
       "    .dataframe tbody tr th {\n",
       "        vertical-align: top;\n",
       "    }\n",
       "\n",
       "    .dataframe thead th {\n",
       "        text-align: right;\n",
       "    }\n",
       "</style>\n",
       "<table border=\"1\" class=\"dataframe\">\n",
       "  <thead>\n",
       "    <tr style=\"text-align: right;\">\n",
       "      <th></th>\n",
       "      <th>age</th>\n",
       "      <th>sex</th>\n",
       "      <th>bmi</th>\n",
       "      <th>children</th>\n",
       "      <th>smoker</th>\n",
       "      <th>region</th>\n",
       "      <th>charges</th>\n",
       "    </tr>\n",
       "  </thead>\n",
       "  <tbody>\n",
       "    <tr>\n",
       "      <th>0</th>\n",
       "      <td>19</td>\n",
       "      <td>female</td>\n",
       "      <td>27.90</td>\n",
       "      <td>0</td>\n",
       "      <td>yes</td>\n",
       "      <td>southwest</td>\n",
       "      <td>16884.9240</td>\n",
       "    </tr>\n",
       "    <tr>\n",
       "      <th>1</th>\n",
       "      <td>18</td>\n",
       "      <td>male</td>\n",
       "      <td>33.77</td>\n",
       "      <td>1</td>\n",
       "      <td>no</td>\n",
       "      <td>southeast</td>\n",
       "      <td>1725.5523</td>\n",
       "    </tr>\n",
       "    <tr>\n",
       "      <th>2</th>\n",
       "      <td>28</td>\n",
       "      <td>male</td>\n",
       "      <td>33.00</td>\n",
       "      <td>3</td>\n",
       "      <td>no</td>\n",
       "      <td>southeast</td>\n",
       "      <td>4449.4620</td>\n",
       "    </tr>\n",
       "  </tbody>\n",
       "</table>\n",
       "</div>"
      ],
      "text/plain": [
       "   age     sex    bmi  children smoker     region     charges\n",
       "0   19  female  27.90         0    yes  southwest  16884.9240\n",
       "1   18    male  33.77         1     no  southeast   1725.5523\n",
       "2   28    male  33.00         3     no  southeast   4449.4620"
      ]
     },
     "execution_count": 9,
     "metadata": {},
     "output_type": "execute_result"
    }
   ],
   "source": [
    "# head( )로 앞 몇개 관측치 확인\n",
    "df_ins.head(3)"
   ]
  },
  {
   "cell_type": "code",
   "execution_count": 11,
   "id": "61e23b19",
   "metadata": {},
   "outputs": [
    {
     "data": {
      "text/html": [
       "<div>\n",
       "<style scoped>\n",
       "    .dataframe tbody tr th:only-of-type {\n",
       "        vertical-align: middle;\n",
       "    }\n",
       "\n",
       "    .dataframe tbody tr th {\n",
       "        vertical-align: top;\n",
       "    }\n",
       "\n",
       "    .dataframe thead th {\n",
       "        text-align: right;\n",
       "    }\n",
       "</style>\n",
       "<table border=\"1\" class=\"dataframe\">\n",
       "  <thead>\n",
       "    <tr style=\"text-align: right;\">\n",
       "      <th></th>\n",
       "      <th>age</th>\n",
       "      <th>sex</th>\n",
       "      <th>bmi</th>\n",
       "      <th>children</th>\n",
       "      <th>smoker</th>\n",
       "      <th>region</th>\n",
       "      <th>charges</th>\n",
       "    </tr>\n",
       "  </thead>\n",
       "  <tbody>\n",
       "    <tr>\n",
       "      <th>1333</th>\n",
       "      <td>50</td>\n",
       "      <td>male</td>\n",
       "      <td>30.97</td>\n",
       "      <td>3</td>\n",
       "      <td>no</td>\n",
       "      <td>northwest</td>\n",
       "      <td>10600.5483</td>\n",
       "    </tr>\n",
       "    <tr>\n",
       "      <th>1334</th>\n",
       "      <td>18</td>\n",
       "      <td>female</td>\n",
       "      <td>31.92</td>\n",
       "      <td>0</td>\n",
       "      <td>no</td>\n",
       "      <td>northeast</td>\n",
       "      <td>2205.9808</td>\n",
       "    </tr>\n",
       "    <tr>\n",
       "      <th>1335</th>\n",
       "      <td>18</td>\n",
       "      <td>female</td>\n",
       "      <td>36.85</td>\n",
       "      <td>0</td>\n",
       "      <td>no</td>\n",
       "      <td>southeast</td>\n",
       "      <td>1629.8335</td>\n",
       "    </tr>\n",
       "    <tr>\n",
       "      <th>1336</th>\n",
       "      <td>21</td>\n",
       "      <td>female</td>\n",
       "      <td>25.80</td>\n",
       "      <td>0</td>\n",
       "      <td>no</td>\n",
       "      <td>southwest</td>\n",
       "      <td>2007.9450</td>\n",
       "    </tr>\n",
       "    <tr>\n",
       "      <th>1337</th>\n",
       "      <td>61</td>\n",
       "      <td>female</td>\n",
       "      <td>29.07</td>\n",
       "      <td>0</td>\n",
       "      <td>yes</td>\n",
       "      <td>northwest</td>\n",
       "      <td>29141.3603</td>\n",
       "    </tr>\n",
       "  </tbody>\n",
       "</table>\n",
       "</div>"
      ],
      "text/plain": [
       "      age     sex    bmi  children smoker     region     charges\n",
       "1333   50    male  30.97         3     no  northwest  10600.5483\n",
       "1334   18  female  31.92         0     no  northeast   2205.9808\n",
       "1335   18  female  36.85         0     no  southeast   1629.8335\n",
       "1336   21  female  25.80         0     no  southwest   2007.9450\n",
       "1337   61  female  29.07         0    yes  northwest  29141.3603"
      ]
     },
     "execution_count": 11,
     "metadata": {},
     "output_type": "execute_result"
    }
   ],
   "source": [
    "# tail( )로 끝 몇 개 관측치 확인\n",
    "df_ins.tail()"
   ]
  },
  {
   "cell_type": "code",
   "execution_count": 12,
   "id": "656a369d",
   "metadata": {},
   "outputs": [
    {
     "data": {
      "text/plain": [
       "(1338, 7)"
      ]
     },
     "execution_count": 12,
     "metadata": {},
     "output_type": "execute_result"
    }
   ],
   "source": [
    "# 관측치/ 변수 개수 확인\n",
    "df_ins.shape"
   ]
  },
  {
   "cell_type": "code",
   "execution_count": 15,
   "id": "d7389977",
   "metadata": {},
   "outputs": [
    {
     "data": {
      "text/plain": [
       "1338"
      ]
     },
     "execution_count": 15,
     "metadata": {},
     "output_type": "execute_result"
    }
   ],
   "source": [
    "# 관측치 개수만 확인\n",
    "df_ins.shape[0]"
   ]
  },
  {
   "cell_type": "code",
   "execution_count": 16,
   "id": "0298f21e",
   "metadata": {},
   "outputs": [
    {
     "data": {
      "text/plain": [
       "RangeIndex(start=0, stop=1338, step=1)"
      ]
     },
     "execution_count": 16,
     "metadata": {},
     "output_type": "execute_result"
    }
   ],
   "source": [
    "# index(행 이름) 확인\n",
    "df_ins.index"
   ]
  },
  {
   "cell_type": "code",
   "execution_count": 17,
   "id": "0fd13fa2",
   "metadata": {},
   "outputs": [
    {
     "data": {
      "text/plain": [
       "Index(['age', 'sex', 'bmi', 'children', 'smoker', 'region', 'charges'], dtype='object')"
      ]
     },
     "execution_count": 17,
     "metadata": {},
     "output_type": "execute_result"
    }
   ],
   "source": [
    "# columns(변수 이름) 확인\n",
    "df_ins.columns"
   ]
  },
  {
   "cell_type": "code",
   "execution_count": 18,
   "id": "8505cfa2",
   "metadata": {},
   "outputs": [
    {
     "data": {
      "text/plain": [
       "age           int64\n",
       "sex          object\n",
       "bmi         float64\n",
       "children      int64\n",
       "smoker       object\n",
       "region       object\n",
       "charges     float64\n",
       "dtype: object"
      ]
     },
     "execution_count": 18,
     "metadata": {},
     "output_type": "execute_result"
    }
   ],
   "source": [
    "# 변수 형식 확인\n",
    "df_ins.dtypes"
   ]
  },
  {
   "cell_type": "markdown",
   "id": "574eabe7",
   "metadata": {},
   "source": [
    "<br>\n",
    "\n",
    "#### [실습] data 폴더의 PulseRates.csv를 불러와서 df_pr로 저장하기\n",
    "\n",
    "이후 자유롭게 데이터 탐색하기"
   ]
  },
  {
   "cell_type": "code",
   "execution_count": 19,
   "id": "174d3b09",
   "metadata": {},
   "outputs": [],
   "source": [
    "df_pr = pd.read_csv(\"data/PulseRates.csv\")"
   ]
  },
  {
   "cell_type": "code",
   "execution_count": 22,
   "id": "12708561",
   "metadata": {},
   "outputs": [
    {
     "data": {
      "text/html": [
       "<div>\n",
       "<style scoped>\n",
       "    .dataframe tbody tr th:only-of-type {\n",
       "        vertical-align: middle;\n",
       "    }\n",
       "\n",
       "    .dataframe tbody tr th {\n",
       "        vertical-align: top;\n",
       "    }\n",
       "\n",
       "    .dataframe thead th {\n",
       "        text-align: right;\n",
       "    }\n",
       "</style>\n",
       "<table border=\"1\" class=\"dataframe\">\n",
       "  <thead>\n",
       "    <tr style=\"text-align: right;\">\n",
       "      <th></th>\n",
       "      <th>Height</th>\n",
       "      <th>Weight</th>\n",
       "      <th>Age</th>\n",
       "      <th>Gender</th>\n",
       "      <th>Smokes</th>\n",
       "      <th>Alcohol</th>\n",
       "      <th>Exercise</th>\n",
       "      <th>Ran</th>\n",
       "      <th>Pulse1</th>\n",
       "      <th>Pulse2</th>\n",
       "      <th>Year</th>\n",
       "    </tr>\n",
       "  </thead>\n",
       "  <tbody>\n",
       "    <tr>\n",
       "      <th>0</th>\n",
       "      <td>173</td>\n",
       "      <td>57.0</td>\n",
       "      <td>18</td>\n",
       "      <td>2</td>\n",
       "      <td>2</td>\n",
       "      <td>1</td>\n",
       "      <td>2</td>\n",
       "      <td>2</td>\n",
       "      <td>86.0</td>\n",
       "      <td>88.0</td>\n",
       "      <td>93</td>\n",
       "    </tr>\n",
       "    <tr>\n",
       "      <th>1</th>\n",
       "      <td>179</td>\n",
       "      <td>58.0</td>\n",
       "      <td>19</td>\n",
       "      <td>2</td>\n",
       "      <td>2</td>\n",
       "      <td>1</td>\n",
       "      <td>2</td>\n",
       "      <td>1</td>\n",
       "      <td>82.0</td>\n",
       "      <td>150.0</td>\n",
       "      <td>93</td>\n",
       "    </tr>\n",
       "    <tr>\n",
       "      <th>2</th>\n",
       "      <td>167</td>\n",
       "      <td>62.0</td>\n",
       "      <td>18</td>\n",
       "      <td>2</td>\n",
       "      <td>2</td>\n",
       "      <td>1</td>\n",
       "      <td>1</td>\n",
       "      <td>1</td>\n",
       "      <td>96.0</td>\n",
       "      <td>176.0</td>\n",
       "      <td>93</td>\n",
       "    </tr>\n",
       "    <tr>\n",
       "      <th>3</th>\n",
       "      <td>195</td>\n",
       "      <td>84.0</td>\n",
       "      <td>18</td>\n",
       "      <td>1</td>\n",
       "      <td>2</td>\n",
       "      <td>1</td>\n",
       "      <td>1</td>\n",
       "      <td>2</td>\n",
       "      <td>71.0</td>\n",
       "      <td>73.0</td>\n",
       "      <td>93</td>\n",
       "    </tr>\n",
       "    <tr>\n",
       "      <th>4</th>\n",
       "      <td>173</td>\n",
       "      <td>64.0</td>\n",
       "      <td>18</td>\n",
       "      <td>2</td>\n",
       "      <td>2</td>\n",
       "      <td>1</td>\n",
       "      <td>3</td>\n",
       "      <td>2</td>\n",
       "      <td>90.0</td>\n",
       "      <td>88.0</td>\n",
       "      <td>93</td>\n",
       "    </tr>\n",
       "    <tr>\n",
       "      <th>...</th>\n",
       "      <td>...</td>\n",
       "      <td>...</td>\n",
       "      <td>...</td>\n",
       "      <td>...</td>\n",
       "      <td>...</td>\n",
       "      <td>...</td>\n",
       "      <td>...</td>\n",
       "      <td>...</td>\n",
       "      <td>...</td>\n",
       "      <td>...</td>\n",
       "      <td>...</td>\n",
       "    </tr>\n",
       "    <tr>\n",
       "      <th>105</th>\n",
       "      <td>93</td>\n",
       "      <td>27.0</td>\n",
       "      <td>19</td>\n",
       "      <td>2</td>\n",
       "      <td>2</td>\n",
       "      <td>2</td>\n",
       "      <td>3</td>\n",
       "      <td>2</td>\n",
       "      <td>119.0</td>\n",
       "      <td>120.0</td>\n",
       "      <td>98</td>\n",
       "    </tr>\n",
       "    <tr>\n",
       "      <th>106</th>\n",
       "      <td>161</td>\n",
       "      <td>43.0</td>\n",
       "      <td>19</td>\n",
       "      <td>2</td>\n",
       "      <td>2</td>\n",
       "      <td>2</td>\n",
       "      <td>3</td>\n",
       "      <td>2</td>\n",
       "      <td>90.0</td>\n",
       "      <td>89.0</td>\n",
       "      <td>98</td>\n",
       "    </tr>\n",
       "    <tr>\n",
       "      <th>107</th>\n",
       "      <td>182</td>\n",
       "      <td>60.0</td>\n",
       "      <td>22</td>\n",
       "      <td>1</td>\n",
       "      <td>2</td>\n",
       "      <td>1</td>\n",
       "      <td>3</td>\n",
       "      <td>2</td>\n",
       "      <td>86.0</td>\n",
       "      <td>84.0</td>\n",
       "      <td>98</td>\n",
       "    </tr>\n",
       "    <tr>\n",
       "      <th>108</th>\n",
       "      <td>170</td>\n",
       "      <td>65.0</td>\n",
       "      <td>18</td>\n",
       "      <td>1</td>\n",
       "      <td>2</td>\n",
       "      <td>1</td>\n",
       "      <td>1</td>\n",
       "      <td>2</td>\n",
       "      <td>69.0</td>\n",
       "      <td>64.0</td>\n",
       "      <td>98</td>\n",
       "    </tr>\n",
       "    <tr>\n",
       "      <th>109</th>\n",
       "      <td>185</td>\n",
       "      <td>85.0</td>\n",
       "      <td>19</td>\n",
       "      <td>1</td>\n",
       "      <td>2</td>\n",
       "      <td>1</td>\n",
       "      <td>2</td>\n",
       "      <td>2</td>\n",
       "      <td>75.0</td>\n",
       "      <td>68.0</td>\n",
       "      <td>98</td>\n",
       "    </tr>\n",
       "  </tbody>\n",
       "</table>\n",
       "<p>110 rows × 11 columns</p>\n",
       "</div>"
      ],
      "text/plain": [
       "     Height  Weight  Age  Gender  Smokes  Alcohol  Exercise  Ran  Pulse1  \\\n",
       "0       173    57.0   18       2       2        1         2    2    86.0   \n",
       "1       179    58.0   19       2       2        1         2    1    82.0   \n",
       "2       167    62.0   18       2       2        1         1    1    96.0   \n",
       "3       195    84.0   18       1       2        1         1    2    71.0   \n",
       "4       173    64.0   18       2       2        1         3    2    90.0   \n",
       "..      ...     ...  ...     ...     ...      ...       ...  ...     ...   \n",
       "105      93    27.0   19       2       2        2         3    2   119.0   \n",
       "106     161    43.0   19       2       2        2         3    2    90.0   \n",
       "107     182    60.0   22       1       2        1         3    2    86.0   \n",
       "108     170    65.0   18       1       2        1         1    2    69.0   \n",
       "109     185    85.0   19       1       2        1         2    2    75.0   \n",
       "\n",
       "     Pulse2  Year  \n",
       "0      88.0    93  \n",
       "1     150.0    93  \n",
       "2     176.0    93  \n",
       "3      73.0    93  \n",
       "4      88.0    93  \n",
       "..      ...   ...  \n",
       "105   120.0    98  \n",
       "106    89.0    98  \n",
       "107    84.0    98  \n",
       "108    64.0    98  \n",
       "109    68.0    98  \n",
       "\n",
       "[110 rows x 11 columns]"
      ]
     },
     "execution_count": 22,
     "metadata": {},
     "output_type": "execute_result"
    }
   ],
   "source": [
    "df_pr"
   ]
  },
  {
   "cell_type": "code",
   "execution_count": null,
   "id": "da9459ee",
   "metadata": {},
   "outputs": [],
   "source": []
  },
  {
   "cell_type": "markdown",
   "id": "19c4e641",
   "metadata": {},
   "source": [
    "#### [참고] Encoding 지정 및 index, header 지정"
   ]
  },
  {
   "cell_type": "code",
   "execution_count": null,
   "id": "ad167ad0",
   "metadata": {},
   "outputs": [],
   "source": [
    "# 인코딩(글자 저장 방법) 오류 발생\n",
    "    ## UnicodeDecodeError  'utf-8' codec can't decode byte 0xbc in position 1: invalid start byte\n",
    "pd.read_csv('data/고용지표_20221115084415.csv')"
   ]
  },
  {
   "cell_type": "code",
   "execution_count": null,
   "id": "00b4666d",
   "metadata": {},
   "outputs": [],
   "source": [
    "# 옵션 encoding='CP949' 추가\n",
    "pd.read_csv('data/고용지표_20221115084415.csv', encoding='CP949')"
   ]
  },
  {
   "cell_type": "code",
   "execution_count": 31,
   "id": "ffba3125",
   "metadata": {},
   "outputs": [
    {
     "data": {
      "text/plain": [
       "Index(['합계', '남자', '여자'], dtype='object')"
      ]
     },
     "execution_count": 31,
     "metadata": {},
     "output_type": "execute_result"
    }
   ],
   "source": [
    "# index, header 지정\n",
    "df_layoff = pd.read_csv('data/고용지표_20221115084415.csv', encoding='CP949', index_col=0, header=[0,1])\n",
    "df_layoff.index"
   ]
  },
  {
   "cell_type": "markdown",
   "id": "b9872636",
   "metadata": {},
   "source": [
    "<br>\n",
    "\n",
    "\n",
    "### 1.3. Excel 파일 불러오기  \n",
    "\n",
    "`Excel` 파일은 구버전의 **xls**와 새로운 버전의 **xlsx**로 구분하며 추가 라이브러리 `xlrd`와 `openpyxl` 설치 필수\n",
    " 이후 pandas의 `read_excel( )`을 사용 가능 \n",
    " > pandas 1.3 이전 버전에서는 **xlsx** 파일을 불러올 때 함수 안에 `, engine='openpyxl'`를 추가해야할 수도 있습니다."
   ]
  },
  {
   "cell_type": "code",
   "execution_count": 32,
   "id": "bcd317d2",
   "metadata": {},
   "outputs": [
    {
     "data": {
      "text/html": [
       "<div>\n",
       "<style scoped>\n",
       "    .dataframe tbody tr th:only-of-type {\n",
       "        vertical-align: middle;\n",
       "    }\n",
       "\n",
       "    .dataframe tbody tr th {\n",
       "        vertical-align: top;\n",
       "    }\n",
       "\n",
       "    .dataframe thead th {\n",
       "        text-align: right;\n",
       "    }\n",
       "</style>\n",
       "<table border=\"1\" class=\"dataframe\">\n",
       "  <thead>\n",
       "    <tr style=\"text-align: right;\">\n",
       "      <th></th>\n",
       "      <th>ID</th>\n",
       "      <th>Var1</th>\n",
       "      <th>Var2</th>\n",
       "      <th>Var3</th>\n",
       "    </tr>\n",
       "  </thead>\n",
       "  <tbody>\n",
       "    <tr>\n",
       "      <th>0</th>\n",
       "      <td>1</td>\n",
       "      <td>11</td>\n",
       "      <td>45</td>\n",
       "      <td>75</td>\n",
       "    </tr>\n",
       "    <tr>\n",
       "      <th>1</th>\n",
       "      <td>2</td>\n",
       "      <td>54</td>\n",
       "      <td>32</td>\n",
       "      <td>34</td>\n",
       "    </tr>\n",
       "    <tr>\n",
       "      <th>2</th>\n",
       "      <td>4</td>\n",
       "      <td>65</td>\n",
       "      <td>43</td>\n",
       "      <td>54</td>\n",
       "    </tr>\n",
       "  </tbody>\n",
       "</table>\n",
       "</div>"
      ],
      "text/plain": [
       "   ID  Var1  Var2  Var3\n",
       "0   1    11    45    75\n",
       "1   2    54    32    34\n",
       "2   4    65    43    54"
      ]
     },
     "execution_count": 32,
     "metadata": {},
     "output_type": "execute_result"
    }
   ],
   "source": [
    "# 무난한 첫번째 시트 데이터 불러오기\n",
    "sheet1 = pd.read_excel('./data/test.xlsx')\n",
    "sheet1"
   ]
  },
  {
   "cell_type": "code",
   "execution_count": 33,
   "id": "903d99a7",
   "metadata": {},
   "outputs": [
    {
     "data": {
      "text/html": [
       "<div>\n",
       "<style scoped>\n",
       "    .dataframe tbody tr th:only-of-type {\n",
       "        vertical-align: middle;\n",
       "    }\n",
       "\n",
       "    .dataframe tbody tr th {\n",
       "        vertical-align: top;\n",
       "    }\n",
       "\n",
       "    .dataframe thead th {\n",
       "        text-align: right;\n",
       "    }\n",
       "</style>\n",
       "<table border=\"1\" class=\"dataframe\">\n",
       "  <thead>\n",
       "    <tr style=\"text-align: right;\">\n",
       "      <th></th>\n",
       "      <th>이름</th>\n",
       "      <th>나이</th>\n",
       "      <th>키</th>\n",
       "    </tr>\n",
       "  </thead>\n",
       "  <tbody>\n",
       "    <tr>\n",
       "      <th>0</th>\n",
       "      <td>민서</td>\n",
       "      <td>20</td>\n",
       "      <td>160</td>\n",
       "    </tr>\n",
       "    <tr>\n",
       "      <th>1</th>\n",
       "      <td>민준</td>\n",
       "      <td>21</td>\n",
       "      <td>175</td>\n",
       "    </tr>\n",
       "  </tbody>\n",
       "</table>\n",
       "</div>"
      ],
      "text/plain": [
       "   이름  나이    키\n",
       "0  민서  20  160\n",
       "1  민준  21  175"
      ]
     },
     "execution_count": 33,
     "metadata": {},
     "output_type": "execute_result"
    }
   ],
   "source": [
    "# 시트 번호 지정하고 2줄 무시하기\n",
    "sheet2 = pd.read_excel('data/test.xlsx', sheet_name=1, skiprows=2)\n",
    "sheet2\n",
    "    ## sheet_name : 시트 이름이나 번호 지정, 번호는 0부터 시작\n",
    "    ## skiprows   : 무시할 행 수\n"
   ]
  },
  {
   "cell_type": "code",
   "execution_count": 37,
   "id": "1c8f32df",
   "metadata": {},
   "outputs": [
    {
     "data": {
      "text/plain": [
       "0     int64\n",
       "1    object\n",
       "dtype: object"
      ]
     },
     "execution_count": 37,
     "metadata": {},
     "output_type": "execute_result"
    }
   ],
   "source": [
    "# 첫 행부터 데이터가 시작되는 데이터 불러오기\n",
    "sheet3 = pd.read_excel('data/test.xlsx', sheet_name=2, header=None)\n",
    "sheet3.dtypes\n",
    "    ## header : 첫 행에 변수이름이 저장되었는지 여부\n"
   ]
  },
  {
   "cell_type": "code",
   "execution_count": 38,
   "id": "52e9d7ad",
   "metadata": {},
   "outputs": [
    {
     "data": {
      "text/html": [
       "<div>\n",
       "<style scoped>\n",
       "    .dataframe tbody tr th:only-of-type {\n",
       "        vertical-align: middle;\n",
       "    }\n",
       "\n",
       "    .dataframe tbody tr th {\n",
       "        vertical-align: top;\n",
       "    }\n",
       "\n",
       "    .dataframe thead th {\n",
       "        text-align: right;\n",
       "    }\n",
       "</style>\n",
       "<table border=\"1\" class=\"dataframe\">\n",
       "  <thead>\n",
       "    <tr style=\"text-align: right;\">\n",
       "      <th></th>\n",
       "      <th>년도</th>\n",
       "      <th>건수</th>\n",
       "    </tr>\n",
       "  </thead>\n",
       "  <tbody>\n",
       "    <tr>\n",
       "      <th>0</th>\n",
       "      <td>2015</td>\n",
       "      <td>32</td>\n",
       "    </tr>\n",
       "    <tr>\n",
       "      <th>1</th>\n",
       "      <td>2016</td>\n",
       "      <td>34</td>\n",
       "    </tr>\n",
       "    <tr>\n",
       "      <th>2</th>\n",
       "      <td>2017</td>\n",
       "      <td>-</td>\n",
       "    </tr>\n",
       "  </tbody>\n",
       "</table>\n",
       "</div>"
      ],
      "text/plain": [
       "     년도  건수\n",
       "0  2015  32\n",
       "1  2016  34\n",
       "2  2017   -"
      ]
     },
     "execution_count": 38,
     "metadata": {},
     "output_type": "execute_result"
    }
   ],
   "source": [
    "# 첫 행부터 데이터가 시작되는 데이터 불러오면서 변수 이름 지정하기\n",
    "sheet3 = pd.read_excel('data/test.xlsx', sheet_name=2, header=None, names=['년도','건수'])\n",
    "sheet3\n"
   ]
  },
  {
   "cell_type": "code",
   "execution_count": 41,
   "id": "a12778be",
   "metadata": {},
   "outputs": [
    {
     "data": {
      "text/html": [
       "<div>\n",
       "<style scoped>\n",
       "    .dataframe tbody tr th:only-of-type {\n",
       "        vertical-align: middle;\n",
       "    }\n",
       "\n",
       "    .dataframe tbody tr th {\n",
       "        vertical-align: top;\n",
       "    }\n",
       "\n",
       "    .dataframe thead th {\n",
       "        text-align: right;\n",
       "    }\n",
       "</style>\n",
       "<table border=\"1\" class=\"dataframe\">\n",
       "  <thead>\n",
       "    <tr style=\"text-align: right;\">\n",
       "      <th></th>\n",
       "      <th>년도</th>\n",
       "      <th>건수</th>\n",
       "    </tr>\n",
       "  </thead>\n",
       "  <tbody>\n",
       "    <tr>\n",
       "      <th>0</th>\n",
       "      <td>2015</td>\n",
       "      <td>32.0</td>\n",
       "    </tr>\n",
       "    <tr>\n",
       "      <th>1</th>\n",
       "      <td>2016</td>\n",
       "      <td>34.0</td>\n",
       "    </tr>\n",
       "    <tr>\n",
       "      <th>2</th>\n",
       "      <td>2017</td>\n",
       "      <td>NaN</td>\n",
       "    </tr>\n",
       "  </tbody>\n",
       "</table>\n",
       "</div>"
      ],
      "text/plain": [
       "     년도    건수\n",
       "0  2015  32.0\n",
       "1  2016  34.0\n",
       "2  2017   NaN"
      ]
     },
     "execution_count": 41,
     "metadata": {},
     "output_type": "execute_result"
    }
   ],
   "source": [
    "# 결측 저장값 지정하기\n",
    "sheet3 = pd.read_excel('data/test.xlsx', sheet_name=2, header=None, names=['년도','건수'], na_values='-')\n",
    "sheet3\n",
    "    ## NaN : 결측값"
   ]
  },
  {
   "cell_type": "markdown",
   "id": "4f1d2926",
   "metadata": {},
   "source": [
    "\n",
    "<br>  \n",
    "\n",
    "####  [실습] 아래의 사이트에서 관심있는 데이터를 탐색하기\n",
    "\n",
    "* csv 파일 중 인코딩 관련 에러가 발생할 경우 read_csv( )안에서 `encoding='CP949'` 옵션 추가\n",
    "* xlsx의 경우 다운로드한 파일을 열어서 읽기 전용을 해제해야 할 수도 있음\n",
    "\n",
    "\n",
    "\n",
    "[공공데이터포털](https://www.data.go.kr/index.do)\n",
    "\n",
    "[서울 열린데이터 광장](http://data.seoul.go.kr/)\n",
    "\n",
    "[Dacon](https://dacon.io/)\n",
    "\n",
    "\n",
    "\n"
   ]
  },
  {
   "cell_type": "code",
   "execution_count": 44,
   "id": "f64ae53f",
   "metadata": {},
   "outputs": [
    {
     "data": {
      "text/html": [
       "<div>\n",
       "<style scoped>\n",
       "    .dataframe tbody tr th:only-of-type {\n",
       "        vertical-align: middle;\n",
       "    }\n",
       "\n",
       "    .dataframe tbody tr th {\n",
       "        vertical-align: top;\n",
       "    }\n",
       "\n",
       "    .dataframe thead th {\n",
       "        text-align: right;\n",
       "    }\n",
       "</style>\n",
       "<table border=\"1\" class=\"dataframe\">\n",
       "  <thead>\n",
       "    <tr style=\"text-align: right;\">\n",
       "      <th></th>\n",
       "      <th>금융기관</th>\n",
       "      <th>점포명</th>\n",
       "      <th>주소</th>\n",
       "      <th>전화번호</th>\n",
       "      <th>위도</th>\n",
       "      <th>경도</th>\n",
       "      <th>데이터기준일자</th>\n",
       "    </tr>\n",
       "    <tr>\n",
       "      <th>연번</th>\n",
       "      <th></th>\n",
       "      <th></th>\n",
       "      <th></th>\n",
       "      <th></th>\n",
       "      <th></th>\n",
       "      <th></th>\n",
       "      <th></th>\n",
       "    </tr>\n",
       "  </thead>\n",
       "  <tbody>\n",
       "    <tr>\n",
       "      <th>1</th>\n",
       "      <td>산업</td>\n",
       "      <td>광주(지)</td>\n",
       "      <td>광주광역시 광산구 무진대로 261 (우산동)</td>\n",
       "      <td>062-958-1000</td>\n",
       "      <td>35.161999</td>\n",
       "      <td>126.809208</td>\n",
       "      <td>2023-05-08</td>\n",
       "    </tr>\n",
       "    <tr>\n",
       "      <th>2</th>\n",
       "      <td>기업</td>\n",
       "      <td>광산(지)</td>\n",
       "      <td>광주광역시 광산구 무진대로 261 (우산동)</td>\n",
       "      <td>062-942-9761</td>\n",
       "      <td>35.161999</td>\n",
       "      <td>126.809208</td>\n",
       "      <td>2023-05-08</td>\n",
       "    </tr>\n",
       "    <tr>\n",
       "      <th>3</th>\n",
       "      <td>기업</td>\n",
       "      <td>하남공단(지)</td>\n",
       "      <td>광주광역시 광산구 하남산단8번로 169 (도천동)</td>\n",
       "      <td>062-956-1811</td>\n",
       "      <td>35.209141</td>\n",
       "      <td>126.814229</td>\n",
       "      <td>2023-05-08</td>\n",
       "    </tr>\n",
       "    <tr>\n",
       "      <th>4</th>\n",
       "      <td>기업</td>\n",
       "      <td>평동공단</td>\n",
       "      <td>광주광역시 광산구 평동산단로 209 (옥동)</td>\n",
       "      <td>062-946-1644</td>\n",
       "      <td>35.125496</td>\n",
       "      <td>126.767691</td>\n",
       "      <td>2023-05-08</td>\n",
       "    </tr>\n",
       "    <tr>\n",
       "      <th>5</th>\n",
       "      <td>기업</td>\n",
       "      <td>광주수완</td>\n",
       "      <td>광주광역시 광산구 장신로 140 (수완동)</td>\n",
       "      <td>062-962-6501</td>\n",
       "      <td>35.190402</td>\n",
       "      <td>126.825320</td>\n",
       "      <td>2023-05-08</td>\n",
       "    </tr>\n",
       "    <tr>\n",
       "      <th>...</th>\n",
       "      <td>...</td>\n",
       "      <td>...</td>\n",
       "      <td>...</td>\n",
       "      <td>...</td>\n",
       "      <td>...</td>\n",
       "      <td>...</td>\n",
       "      <td>...</td>\n",
       "    </tr>\n",
       "    <tr>\n",
       "      <th>159</th>\n",
       "      <td>KB증권</td>\n",
       "      <td>광산</td>\n",
       "      <td>광주광역시 광산구 사암로 205(우산동)</td>\n",
       "      <td>062-450-0300</td>\n",
       "      <td>35.162783</td>\n",
       "      <td>126.807953</td>\n",
       "      <td>2023-05-08</td>\n",
       "    </tr>\n",
       "    <tr>\n",
       "      <th>160</th>\n",
       "      <td>KB증권</td>\n",
       "      <td>첨단라운지</td>\n",
       "      <td>광주광역시 광산구 월계로 175(월계동)</td>\n",
       "      <td>062-441-5100</td>\n",
       "      <td>35.213710</td>\n",
       "      <td>126.845272</td>\n",
       "      <td>2023-05-08</td>\n",
       "    </tr>\n",
       "    <tr>\n",
       "      <th>161</th>\n",
       "      <td>NH투자증권</td>\n",
       "      <td>수완ＷＭ센터</td>\n",
       "      <td>광주광역시 광산구 장신로50번길 4(장덕동)</td>\n",
       "      <td>02-1544-0000</td>\n",
       "      <td>35.190561</td>\n",
       "      <td>126.815424</td>\n",
       "      <td>2023-05-08</td>\n",
       "    </tr>\n",
       "    <tr>\n",
       "      <th>162</th>\n",
       "      <td>신한투자증권</td>\n",
       "      <td>수완</td>\n",
       "      <td>광주광역시 광산구 임방울대로 342(수완동)</td>\n",
       "      <td>062-956-0707</td>\n",
       "      <td>35.190384</td>\n",
       "      <td>126.824326</td>\n",
       "      <td>2023-05-08</td>\n",
       "    </tr>\n",
       "    <tr>\n",
       "      <th>163</th>\n",
       "      <td>DB금융투자</td>\n",
       "      <td>첨단</td>\n",
       "      <td>광주광역시 광산구 첨단중앙로 136(월계동)</td>\n",
       "      <td>062-975-1000</td>\n",
       "      <td>35.217229</td>\n",
       "      <td>126.842654</td>\n",
       "      <td>2023-05-08</td>\n",
       "    </tr>\n",
       "  </tbody>\n",
       "</table>\n",
       "<p>163 rows × 7 columns</p>\n",
       "</div>"
      ],
      "text/plain": [
       "           금융기관      점포명                           주소          전화번호  \\\n",
       "연번                                                                    \n",
       "1    산업　　　　　　　　    광주(지)     광주광역시 광산구 무진대로 261 (우산동)  062-958-1000   \n",
       "2    기업　　　　　　　　    광산(지)     광주광역시 광산구 무진대로 261 (우산동)  062-942-9761   \n",
       "3    기업　　　　　　　　  하남공단(지)  광주광역시 광산구 하남산단8번로 169 (도천동)  062-956-1811   \n",
       "4    기업　　　　　　　　     평동공단     광주광역시 광산구 평동산단로 209 (옥동)  062-946-1644   \n",
       "5    기업　　　　　　　　     광주수완      광주광역시 광산구 장신로 140 (수완동)  062-962-6501   \n",
       "..          ...      ...                          ...           ...   \n",
       "159  KB증권　　　　　　       광산       광주광역시 광산구 사암로 205(우산동)  062-450-0300   \n",
       "160  KB증권　　　　　　    첨단라운지       광주광역시 광산구 월계로 175(월계동)  062-441-5100   \n",
       "161  NH투자증권　　　　   수완ＷＭ센터     광주광역시 광산구 장신로50번길 4(장덕동)  02-1544-0000   \n",
       "162  신한투자증권　　　　       수완     광주광역시 광산구 임방울대로 342(수완동)  062-956-0707   \n",
       "163  DB금융투자　　　　       첨단     광주광역시 광산구 첨단중앙로 136(월계동)  062-975-1000   \n",
       "\n",
       "            위도          경도     데이터기준일자  \n",
       "연번                                      \n",
       "1    35.161999  126.809208  2023-05-08  \n",
       "2    35.161999  126.809208  2023-05-08  \n",
       "3    35.209141  126.814229  2023-05-08  \n",
       "4    35.125496  126.767691  2023-05-08  \n",
       "5    35.190402  126.825320  2023-05-08  \n",
       "..         ...         ...         ...  \n",
       "159  35.162783  126.807953  2023-05-08  \n",
       "160  35.213710  126.845272  2023-05-08  \n",
       "161  35.190561  126.815424  2023-05-08  \n",
       "162  35.190384  126.824326  2023-05-08  \n",
       "163  35.217229  126.842654  2023-05-08  \n",
       "\n",
       "[163 rows x 7 columns]"
      ]
     },
     "execution_count": 44,
     "metadata": {},
     "output_type": "execute_result"
    }
   ],
   "source": [
    "pd.read_csv(\"/Users/user/AppData/Local/Temp/MicrosoftEdgeDownloads/f5e47a01-9e4d-49e5-a916-d7ac5f5c78aa/광주광역시 광산구_금융기관 현황_20230508.csv\", encoding=\"cp949\", index_col=0)"
   ]
  },
  {
   "cell_type": "code",
   "execution_count": null,
   "id": "9ef0c035",
   "metadata": {},
   "outputs": [],
   "source": []
  },
  {
   "cell_type": "code",
   "execution_count": null,
   "id": "615e9904",
   "metadata": {},
   "outputs": [],
   "source": []
  },
  {
   "cell_type": "markdown",
   "id": "0ce52744",
   "metadata": {},
   "source": [
    "## 2.  DRM 보안 적용된 Excel 파일 불러오기\n",
    "\n"
   ]
  },
  {
   "cell_type": "markdown",
   "id": "546a6f71",
   "metadata": {},
   "source": [
    "### 2.1. pywin32 활용"
   ]
  },
  {
   "cell_type": "code",
   "execution_count": null,
   "id": "a4612ef3",
   "metadata": {
    "scrolled": true
   },
   "outputs": [],
   "source": [
    "import pandas as pd\n",
    "import win32com.client as win32\n",
    "import os \n",
    "\n",
    "# Excel 실행\n",
    "excel=win32.Dispatch('Excel.Application')   \n",
    "\n",
    "# 경로 지정 및 파일 열기\n",
    "filepath = os.getcwd() +'/data/test.xlsx'\n",
    "wb = excel.Workbooks.Open(filepath)\n",
    "\n",
    "filepath"
   ]
  },
  {
   "cell_type": "code",
   "execution_count": null,
   "id": "51d01ec5",
   "metadata": {},
   "outputs": [],
   "source": [
    "# Sheet 지정\n",
    "ws = wb.Worksheets(1) \n",
    "\n",
    "# 전체 행, 열 수 확인\n",
    "nRow = ws.UsedRange.Rows.Count \n",
    "nColumn = ws.UsedRange.Columns.Count \n",
    "\n",
    "# 불러올 범위 지정\n",
    "listValue = ws.Range(ws.Cells(1,1) , ws.Cells(nRow,nColumn)).Value\n",
    "pd.DataFrame(listValue[1:] , columns=listValue[0]) "
   ]
  },
  {
   "cell_type": "code",
   "execution_count": null,
   "id": "9e9b93a1",
   "metadata": {},
   "outputs": [],
   "source": [
    "# Excel 종료\n",
    "excel.Quit()     "
   ]
  },
  {
   "cell_type": "markdown",
   "id": "ce8017d6",
   "metadata": {},
   "source": [
    "<br>\n",
    "\n",
    "한번에 실행"
   ]
  },
  {
   "cell_type": "code",
   "execution_count": null,
   "id": "a56414c9",
   "metadata": {},
   "outputs": [],
   "source": [
    "import pandas as pd\n",
    "import win32com.client as win32\n",
    "import os \n",
    "\n",
    "# Excel 실행\n",
    "excel=win32.Dispatch('Excel.Application')   \n",
    "\n",
    "# 경로 지정 및 파일 열기\n",
    "filepath = os.getcwd() +'/data/test.xlsx'\n",
    "wb = excel.Workbooks.Open(filepath)\n",
    "\n",
    "# Sheet 지정\n",
    "ws = wb.Worksheets(1) \n",
    "\n",
    "# 전체 행, 열 수 확인\n",
    "nRow = ws.UsedRange.Rows.Count \n",
    "nColumn = ws.UsedRange.Columns.Count \n",
    "\n",
    "# 불러올 범위 지정\n",
    "listValue = ws.Range(ws.Cells(1,1) , ws.Cells(nRow,nColumn)).Value\n",
    "df_drm = pd.DataFrame(listValue[1:] , columns=listValue[0]) \n",
    "\n",
    "excel.Quit()     \n",
    "\n",
    "df_drm"
   ]
  },
  {
   "cell_type": "markdown",
   "id": "3224ca72",
   "metadata": {},
   "source": [
    "<br>\n",
    "<br>\n",
    "\n",
    "### 2.2. xlwings 라이브러리 활용\n",
    "\n",
    "+ 장점: VBA 연동 가능"
   ]
  },
  {
   "cell_type": "code",
   "execution_count": null,
   "id": "92111d4e",
   "metadata": {},
   "outputs": [],
   "source": [
    "# 라이브러리 설치\n",
    "# !pip install xlwings "
   ]
  },
  {
   "cell_type": "code",
   "execution_count": null,
   "id": "6cc27a98",
   "metadata": {},
   "outputs": [],
   "source": [
    "# 라이브러리 불러오기\n",
    "import xlwings as xw\n",
    "import pandas as pd\n",
    "import os"
   ]
  },
  {
   "cell_type": "code",
   "execution_count": null,
   "id": "ad67d74e",
   "metadata": {},
   "outputs": [],
   "source": [
    "# Excel 파일 열기\n",
    "# filepath = os.getcwd() +'/data/test.xlsx'\n",
    "book = xw.Book('./data/test.xlsx')"
   ]
  },
  {
   "cell_type": "code",
   "execution_count": null,
   "id": "3fce4b13",
   "metadata": {},
   "outputs": [],
   "source": [
    "# Sheet 선택\n",
    "sheet = book.sheets[0]    \n",
    "\n",
    "# 전체 데이터 데이터 불러오기\n",
    "df_drm = sheet.used_range.options(pd.DataFrame, index = False).value\n",
    "df_drm\n"
   ]
  },
  {
   "cell_type": "code",
   "execution_count": null,
   "id": "4e92feb8",
   "metadata": {},
   "outputs": [],
   "source": [
    "# 특정 부분만 불러오기\n",
    "sheet = book.sheets[1]    \n",
    "df_drm = sheet.range(\"A3:C5\").options(pd.DataFrame, index = False).value\n",
    "df_drm"
   ]
  },
  {
   "cell_type": "code",
   "execution_count": null,
   "id": "609bb528",
   "metadata": {},
   "outputs": [],
   "source": [
    "# 종료\n",
    "xw.apps.active.quit()"
   ]
  },
  {
   "cell_type": "markdown",
   "id": "3a9931ba",
   "metadata": {},
   "source": [
    "#### End of script"
   ]
  }
 ],
 "metadata": {
  "kernelspec": {
   "display_name": "Python 3 (ipykernel)",
   "language": "python",
   "name": "python3"
  },
  "language_info": {
   "codemirror_mode": {
    "name": "ipython",
    "version": 3
   },
   "file_extension": ".py",
   "mimetype": "text/x-python",
   "name": "python",
   "nbconvert_exporter": "python",
   "pygments_lexer": "ipython3",
   "version": "3.9.13"
  }
 },
 "nbformat": 4,
 "nbformat_minor": 5
}
