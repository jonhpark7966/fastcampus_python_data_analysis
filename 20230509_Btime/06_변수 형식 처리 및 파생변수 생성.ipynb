{
 "cells": [
  {
   "cell_type": "markdown",
   "id": "ba8e0db0",
   "metadata": {},
   "source": [
    "# 변수 형식 처리 및 파생변수 생성\n",
    "\n",
    "### 주요 내용\n",
    "\n",
    "1. 변수 수정, 추가 및 제거\n",
    "2. 형식 변환 및 파생변수 생성\n",
    "<br>\n",
    "\n",
    "### 목표 \n",
    "1. 분석 목적에 맞게 변수를 수정하고 파생 변수를 추가할 수 있다.\n",
    "2. 날짜 등 변수 형식을 활용할 수 있다.\n",
    "\n",
    "<br>\n",
    "<hr>\n",
    "<br>"
   ]
  },
  {
   "cell_type": "markdown",
   "id": "742e02b1",
   "metadata": {},
   "source": [
    "\n",
    "## 1. 변수(열)의 수정, 추가, 제거\n",
    "\n",
    "**pandas**의 기본 기능과 메서드를 활용하여 변수를 추가 하거나 수정, 업데이트하거나 제거 가능  \n",
    "변수를 선택하듯 **=**을 활용해서 변수를 추가하거나 업데이트 가능"
   ]
  },
  {
   "cell_type": "markdown",
   "id": "50aa7e9a",
   "metadata": {},
   "source": [
    "### 1.1. 변수 수정 및 추가"
   ]
  },
  {
   "cell_type": "code",
   "execution_count": null,
   "id": "828f2202",
   "metadata": {
    "scrolled": true
   },
   "outputs": [],
   "source": [
    "# 라이브러리 불러오기\n",
    "import pandas as pd\n",
    "\n",
    "\n",
    "# 예제 만들기 : 딕셔너리를 활용한 DataFrame 생성\n",
    "df_own = pd.DataFrame({'FIRST' : ['A', 'B', 'C', 'D'],\n",
    "                       'SECOND': [7,6,5,8], \n",
    "                       'THIRD' : pd.date_range('2023-01-01', periods=4, freq='W-SAT')})\n",
    "df_own"
   ]
  },
  {
   "cell_type": "code",
   "execution_count": null,
   "id": "050517af",
   "metadata": {},
   "outputs": [],
   "source": [
    "# 변수 형식 확인\n",
    "df_own.dtypes"
   ]
  },
  {
   "cell_type": "code",
   "execution_count": null,
   "id": "754b6273",
   "metadata": {},
   "outputs": [],
   "source": [
    "# 변수이름을 활용한 변수선택\n",
    "df_own['SECOND']"
   ]
  },
  {
   "cell_type": "code",
   "execution_count": null,
   "id": "02f6e5c1",
   "metadata": {},
   "outputs": [],
   "source": [
    "# =을 활용한 추가\n",
    "df_own['FOURTH'] = 8\n",
    "df_own"
   ]
  },
  {
   "cell_type": "code",
   "execution_count": null,
   "id": "0a269ba9",
   "metadata": {},
   "outputs": [],
   "source": [
    "# =을 활용한 업데이트\n",
    "df_own['FOURTH'] = df_own['SECOND'] + 1\n",
    "df_own"
   ]
  },
  {
   "cell_type": "code",
   "execution_count": null,
   "id": "f21cd4f1",
   "metadata": {},
   "outputs": [],
   "source": [
    "# .assign()도 활용 가능\n",
    "df_own.assign(FOURTH = df_own['SECOND'] + 1)"
   ]
  },
  {
   "cell_type": "markdown",
   "id": "4cac9c3c",
   "metadata": {},
   "source": [
    "<br>\n",
    "\n",
    "pandas의 *dt.weekday*를 활용하여 날짜시간 변수에서 날짜 요소를 추출\n",
    " * 참고: [dt.weekday](https://pandas.pydata.org/docs/reference/api/pandas.Series.dt.weekday.html)"
   ]
  },
  {
   "cell_type": "code",
   "execution_count": null,
   "id": "a86c3840",
   "metadata": {},
   "outputs": [],
   "source": [
    "# pandas의 dt.weekday 활용\n",
    "    ## ['THIRD'] 대신 .THIRD 활용가능\n",
    "df_own['THIRD'].dt.weekday"
   ]
  },
  {
   "cell_type": "code",
   "execution_count": null,
   "id": "a6ef740d",
   "metadata": {},
   "outputs": [],
   "source": [
    "df_own['WEEKDAY'] = df_own['THIRD'].dt.weekday\n",
    "df_own"
   ]
  },
  {
   "cell_type": "code",
   "execution_count": null,
   "id": "72152276",
   "metadata": {},
   "outputs": [],
   "source": [
    "day_dict = {\n",
    "    0: '월요일',\n",
    "    1: '화요일',\n",
    "    2: '수요일',\n",
    "    3: '목요일',\n",
    "    4: '금요일',\n",
    "    5: '토요일',\n",
    "    6: '일요일'\n",
    "}\n",
    "\n",
    "df_own['WEEKDAY'] = df_own['WEEKDAY'].map(day_dict)\n",
    "df_own\n"
   ]
  },
  {
   "cell_type": "markdown",
   "id": "a0dd17c7",
   "metadata": {},
   "source": [
    "<br>\n",
    "\n",
    "### 1.2.  변수 제거\n",
    "\n",
    "*drop()*은 **index**와 **columns**를 활용하여 관측치와 변수를 제거  \n",
    "`axis=`옵션에 따라 `axis=0`이면 관측치를 제거하거 `axis=1`이면 변수를 제거  \n",
    "\n",
    "`columns=`이라는 옵션을 명시해서 변수를 제거하는 것이 가장 명확하고 실수를 줄일 수 있음"
   ]
  },
  {
   "cell_type": "code",
   "execution_count": null,
   "id": "3907eb74",
   "metadata": {},
   "outputs": [],
   "source": [
    "# drop()을 활용한 관측치/변수 제거\n",
    "df_own.drop('FOURTH', axis=1)\n",
    "    # axis = 0 : 관측치\n",
    "    # axis = 1 : 변수"
   ]
  },
  {
   "cell_type": "code",
   "execution_count": null,
   "id": "d153005f",
   "metadata": {},
   "outputs": [],
   "source": [
    "# drop()을 활용한 관측치/변수 제거(columns 활용)\n",
    "df_own.drop(columns=['FOURTH'])\n",
    "  "
   ]
  },
  {
   "cell_type": "code",
   "execution_count": null,
   "id": "01c919fb",
   "metadata": {},
   "outputs": [],
   "source": [
    "# drop( ) 실행 후 원본 데이터는 변함이 없음\n",
    "df_own"
   ]
  },
  {
   "cell_type": "code",
   "execution_count": null,
   "id": "7d27e897",
   "metadata": {},
   "outputs": [],
   "source": [
    "# 원본 데이터의 업데이트\n",
    "df_own = df_own.drop(columns=['FOURTH'])\n",
    "df_own"
   ]
  },
  {
   "cell_type": "code",
   "execution_count": null,
   "id": "fa7dc3b2",
   "metadata": {},
   "outputs": [],
   "source": [
    "# 리스트를 활용한 복수 인덱스 제거\n",
    "df_own = df_own.drop([0,3], axis=0)\n",
    "df_own"
   ]
  },
  {
   "cell_type": "markdown",
   "id": "ee6285ad",
   "metadata": {},
   "source": [
    "<br>\n",
    "\n",
    "### 1.3. 변수 이름 변경\n",
    "\n",
    "변수이름을 바꾸고 싶을 때는 **DataFrame**의 메서드 *rename()*을 활용  \n",
    "이때 `columns=` 옵션을 활용하고 딕셔너리 형식으로 기존변수이름과 새변수이름을 콜론으로 연결"
   ]
  },
  {
   "cell_type": "code",
   "execution_count": null,
   "id": "43a42b7d",
   "metadata": {},
   "outputs": [],
   "source": [
    "# rename() 활용 변수 이름 바꾸기 \n",
    "df_own.rename(columns = {'FIRST':'var1', 'SECOND':'var2'})"
   ]
  },
  {
   "cell_type": "markdown",
   "id": "df7ce7c3",
   "metadata": {},
   "source": [
    "<br>\n",
    "\n",
    "#### [실습] df_sp를 활용\n",
    "\n",
    "1. 'math score', 'reading score', 'writing score'를 합한 변수 'sum'을 **df_sp**에 추가\n",
    "2. 'math score', 'reading score', 'writing score' 중 한과목이라도 40보다 작은지 확인하고 변수 'fail_yn' 추가\n",
    "3. 2.의 'fail_yn'을 활용해서 세 점수 중 하나라도 40점 미만인 학생 선택\n",
    "4. 변수 'sum'의 이름을 'total'로 변경\n",
    "5. 변수 'fail_yn'을 **df_sp**에서 제거하고 원본 데이터 업데이트 "
   ]
  },
  {
   "cell_type": "code",
   "execution_count": null,
   "id": "c1f0c085",
   "metadata": {},
   "outputs": [],
   "source": [
    "df_sp = pd.read_csv('data/StudentsPerformance.csv')\n",
    "df_sp.head(2)"
   ]
  },
  {
   "cell_type": "code",
   "execution_count": null,
   "id": "99ad4617",
   "metadata": {},
   "outputs": [],
   "source": [
    "df_sp[\"sum\"] = df_sp[\"math score\"] + df_sp[\"reading score\"] + df_sp[\"writing score\"]\n",
    "df_sp"
   ]
  },
  {
   "cell_type": "code",
   "execution_count": null,
   "id": "452ebaa6",
   "metadata": {},
   "outputs": [],
   "source": [
    "# 2. 참고\n",
    "df_sp[\"fail_yn\"] = (df_sp['math score']<40) | (df_sp['reading score']<40) | (df_sp['writing score']<40)\n",
    "df_sp"
   ]
  },
  {
   "cell_type": "code",
   "execution_count": null,
   "id": "888b2b78",
   "metadata": {
    "scrolled": true
   },
   "outputs": [],
   "source": [
    "df_sp[ df_sp[\"fail_yn\"]  ]"
   ]
  },
  {
   "cell_type": "code",
   "execution_count": null,
   "id": "51863ec8",
   "metadata": {},
   "outputs": [],
   "source": [
    "df_sp = df_sp.rename(columns={\"sum\":\"total\"})"
   ]
  },
  {
   "cell_type": "code",
   "execution_count": null,
   "id": "87c0b14d",
   "metadata": {},
   "outputs": [],
   "source": [
    "df_sp = df_sp.drop(columns=[\"fail_yn\"])\n",
    "df_sp"
   ]
  },
  {
   "cell_type": "code",
   "execution_count": null,
   "id": "ec453bec",
   "metadata": {},
   "outputs": [],
   "source": []
  },
  {
   "cell_type": "markdown",
   "id": "2fc8c5fb",
   "metadata": {},
   "source": [
    "#### 참고\n",
    "한번에 비교 연산을 하거나 DataFrame의 sum()을 활용 가능"
   ]
  },
  {
   "cell_type": "code",
   "execution_count": null,
   "id": "7932b5f3",
   "metadata": {},
   "outputs": [],
   "source": [
    "df_sp.select_dtypes('number') <= 40"
   ]
  },
  {
   "cell_type": "code",
   "execution_count": null,
   "id": "15545005",
   "metadata": {},
   "outputs": [],
   "source": [
    "# 하나라도 True인 것 찾기\n",
    "(df_sp.select_dtypes('number') <= 40).any(axis=1)"
   ]
  },
  {
   "cell_type": "code",
   "execution_count": null,
   "id": "534e5f65",
   "metadata": {},
   "outputs": [],
   "source": [
    "# 변수별로 40점 미만 학생수 계산하기\n",
    "(df_sp.select_dtypes('number') <= 40).sum(axis=0)"
   ]
  },
  {
   "cell_type": "code",
   "execution_count": null,
   "id": "e56190f6",
   "metadata": {},
   "outputs": [],
   "source": [
    "# 관측치별로 40점 미만 과목수 계산하기\n",
    "(df_sp.select_dtypes('number') <= 40).sum(axis=1)"
   ]
  },
  {
   "cell_type": "code",
   "execution_count": null,
   "id": "6e1011d1",
   "metadata": {},
   "outputs": [],
   "source": [
    "(df_sp.select_dtypes('number') <= 40).sum(axis=1).value_counts()"
   ]
  },
  {
   "cell_type": "markdown",
   "id": "3f8455ab",
   "metadata": {},
   "source": [
    "<br>\n",
    "<hr>\n",
    "<br>\n",
    "\n",
    "## 2. 변수 형식 변환 및 파생변수 생성\n",
    "\n",
    "분석과정에서 변수의 형식을 바꾸거나 기존 변수를 활용한 파생변수 생성 가능  \n",
    "\n",
    "\n",
    "\n",
    "### 2.1. 변수 형식의 확인/변환\n",
    "**DataFrame**에서는 아래와 같은 형식의 Seires를 활용  \n",
    "\n",
    "\n",
    "+ float: 실수(소수점을 포함한 숫자)\n",
    "+ int: 정수(integer)\n",
    "+ datetime: 날짜시간\n",
    "+ bool: 불/불린(True 혹은 False)\n",
    "+ category: 범주형\n",
    "+ object: 문자형(string) 혹은 그 외\n",
    "\n",
    "*.dtypes*를 활용하여 변수 형식을 확인  \n",
    "*.astype()*을 활용해서 변수 형식을 변환 \n",
    "\n"
   ]
  },
  {
   "cell_type": "code",
   "execution_count": null,
   "id": "da530ac9",
   "metadata": {},
   "outputs": [],
   "source": [
    "# 데이터 불러오기\n",
    "df_ins = pd.read_csv('data/insurance.csv')\n",
    "df_ins.head()"
   ]
  },
  {
   "cell_type": "code",
   "execution_count": null,
   "id": "a0ca72ac",
   "metadata": {},
   "outputs": [],
   "source": [
    "# 변수 형식 확인\n",
    "df_ins.dtypes"
   ]
  },
  {
   "cell_type": "code",
   "execution_count": null,
   "id": "39e1048a",
   "metadata": {},
   "outputs": [],
   "source": [
    "# children을 float으로 변환\n",
    "df_ins['children'].astype('float')"
   ]
  },
  {
   "cell_type": "code",
   "execution_count": null,
   "id": "17846dc5",
   "metadata": {},
   "outputs": [],
   "source": [
    "# 기존 변수의 형식 업데이트\n",
    "df_ins['children'] = df_ins['children'].astype('float')\n",
    "df_ins.dtypes"
   ]
  },
  {
   "cell_type": "code",
   "execution_count": null,
   "id": "b8b7795a",
   "metadata": {},
   "outputs": [],
   "source": [
    "# 복수 변수의 형식 일괄 업데이트\n",
    "category_vars = ['sex', 'smoker', 'region', 'children']\n",
    "df_ins[category_vars] = df_ins[category_vars].astype('category')\n",
    "df_ins"
   ]
  },
  {
   "cell_type": "code",
   "execution_count": null,
   "id": "e46a7a28",
   "metadata": {},
   "outputs": [],
   "source": [
    "df_ins[\"expected_grandchildren\"] =  df_ins[\"children\"]*2"
   ]
  },
  {
   "cell_type": "code",
   "execution_count": null,
   "id": "04b48d4b",
   "metadata": {},
   "outputs": [],
   "source": [
    "# select_dtypes()의 활용\n",
    "df_ins.select_dtypes('category')"
   ]
  },
  {
   "cell_type": "markdown",
   "id": "fea8890f",
   "metadata": {},
   "source": [
    "<br>\n",
    "\n",
    "#### [실습] df_pr의 활용\n",
    "\n",
    "1. Pulse2(뛴 후)와 Pulse1(뛰기 전)의 차이를 계산하고 'Diff'로 변수 추가하기\n",
    "2. .dtypes로 형식 확인하고 .nunique()로 중복값 제거한 값 개수 확인하기\n",
    "3. 범주형 형식이 적당한 변수 목록 만들기\n",
    "4. 3.의 변수들을 astype()으로 category 형식으로 변환하고 업데이트 하기\n",
    "5. Ran, Smokes, Alcohol별 1.의 Diff의 평균 계산하기"
   ]
  },
  {
   "cell_type": "code",
   "execution_count": null,
   "id": "66b37472",
   "metadata": {},
   "outputs": [],
   "source": [
    "df_pr = pd.read_csv('data/PulseRates.csv')\n",
    "df_pr.head(2)"
   ]
  },
  {
   "cell_type": "code",
   "execution_count": null,
   "id": "3d0e665a",
   "metadata": {},
   "outputs": [],
   "source": [
    "df_pr[\"Diff\"] = df_pr[\"Pulse2\"] - df_pr[\"Pulse1\"]\n",
    "df_pr"
   ]
  },
  {
   "cell_type": "code",
   "execution_count": null,
   "id": "00e58420",
   "metadata": {},
   "outputs": [],
   "source": [
    "df_pr.dtypes.nunique()"
   ]
  },
  {
   "cell_type": "code",
   "execution_count": null,
   "id": "f40d3819",
   "metadata": {},
   "outputs": [],
   "source": [
    "cat_vars = [\"Gender\", \"Smokes\", \"Alcohol\", \"Exercise\", \"Ran\"]\n",
    "df_pr[cat_vars] = df_pr[cat_vars].astype(\"category\")\n",
    "df_pr.dtypes"
   ]
  },
  {
   "cell_type": "code",
   "execution_count": null,
   "id": "921b40ac",
   "metadata": {},
   "outputs": [],
   "source": [
    "df_pr.groupby([\"Ran\", \"Smokes\", \"Alcohol\"], as_index=False)[\"Diff\"].mean()\n"
   ]
  },
  {
   "cell_type": "markdown",
   "id": "e8886112",
   "metadata": {},
   "source": [
    "<br>\n",
    "\n",
    "### 2.2. 수치형 변수의 구간화\n",
    "\n",
    "수치형 변수는 *cut()* 이나 *qcut()* 으로 구간화 가능  \n",
    "\n",
    "\n",
    "+ *cut()*: 등간격 혹은 주어진 구간 경계로 구간화\n",
    "+ *qcut()*: 등비율로 구간화"
   ]
  },
  {
   "cell_type": "markdown",
   "id": "cd9450ca",
   "metadata": {},
   "source": [
    "<br>\n",
    "\n",
    "*cut()*을 활용해서 등간격으로 구간화할 수 있고, `bins=` 옵션에 적절한 구간값을 직접 넣을 수도 있습니다. "
   ]
  },
  {
   "cell_type": "code",
   "execution_count": null,
   "id": "99aedfb0",
   "metadata": {
    "scrolled": true
   },
   "outputs": [],
   "source": [
    "# 등간격으로 구간화하기\n",
    "pd.cut(df_ins['charges'], bins=10)"
   ]
  },
  {
   "cell_type": "code",
   "execution_count": null,
   "id": "d02041da",
   "metadata": {},
   "outputs": [],
   "source": [
    "charges_breaks = [0, 5000, 10000, 20000, 99999999999999]"
   ]
  },
  {
   "cell_type": "code",
   "execution_count": null,
   "id": "5ddd906d",
   "metadata": {},
   "outputs": [],
   "source": [
    "pd.cut(df_ins['charges'], bins=charges_breaks, right=False, labels=['4','3','2','1'])"
   ]
  },
  {
   "cell_type": "code",
   "execution_count": null,
   "id": "acd9af61",
   "metadata": {},
   "outputs": [],
   "source": [
    "# cut()을 활용한 10등급화\n",
    "df_ins['charges_grp'] = pd.cut(df_ins['charges'], bins=10, labels=range(10))\n",
    "df_ins"
   ]
  },
  {
   "cell_type": "code",
   "execution_count": null,
   "id": "9d1973c0",
   "metadata": {},
   "outputs": [],
   "source": [
    "# 등구간의 관측치 불균형 문제\n",
    "df_ins['charges_grp'].value_counts()"
   ]
  },
  {
   "cell_type": "code",
   "execution_count": null,
   "id": "5b72b845",
   "metadata": {},
   "outputs": [],
   "source": [
    "# qcut()을 활용한 등비율 구간화\n",
    "df_ins['charges_grp2'] = pd.qcut(df_ins['charges'], q=10, labels=range(1,11))\n",
    "df_ins"
   ]
  },
  {
   "cell_type": "code",
   "execution_count": null,
   "id": "c5a44be6",
   "metadata": {},
   "outputs": [],
   "source": [
    "df_ins['charges_grp2'].value_counts()"
   ]
  },
  {
   "cell_type": "code",
   "execution_count": null,
   "id": "7b2578b8",
   "metadata": {},
   "outputs": [],
   "source": []
  },
  {
   "cell_type": "markdown",
   "id": "d4d43cde",
   "metadata": {},
   "source": [
    "<br>\n",
    "\n",
    "#### [실습] 데이터 df_sp 활용\n",
    "\n",
    "1. cut()으로 'reading score'를 20점 단위로 5개 그룹 변수 추가 \n",
    "2. cut()으로 'reading score'를 등간격(구간 길이 동일)으로 5개 그룹 변수 추가\n",
    "3. qcut()으로 'readiong score'를 등비율로 5 등급화\n",
    "4. crosstab()을 활용해서 'parental level of education'과 3.의 그룹 변수로 교차표 생성/열지도 시각화"
   ]
  },
  {
   "cell_type": "code",
   "execution_count": null,
   "id": "9adf57ef",
   "metadata": {},
   "outputs": [],
   "source": [
    "df_sp.head()"
   ]
  },
  {
   "cell_type": "code",
   "execution_count": null,
   "id": "08528574",
   "metadata": {},
   "outputs": [],
   "source": [
    "score_breaks = [0,20,40,60,80,100]"
   ]
  },
  {
   "cell_type": "code",
   "execution_count": null,
   "id": "affd0b5e",
   "metadata": {},
   "outputs": [],
   "source": [
    "pd.cut(df_sp['reading score'], bins=score_breaks, right=False)"
   ]
  },
  {
   "cell_type": "code",
   "execution_count": null,
   "id": "b0728640",
   "metadata": {},
   "outputs": [],
   "source": [
    "df_sp['reading_grp'] = pd.cut(df_sp['reading score'], bins=5)\n",
    "df_sp"
   ]
  },
  {
   "cell_type": "code",
   "execution_count": null,
   "id": "74aa35b2",
   "metadata": {},
   "outputs": [],
   "source": [
    "df_sp['reading_grp2'] = pd.qcut(df_sp['reading score'], q=5, labels=range(1,6))"
   ]
  },
  {
   "cell_type": "code",
   "execution_count": null,
   "id": "976112df",
   "metadata": {},
   "outputs": [],
   "source": [
    "import seaborn as sns\n",
    "\n",
    "tab1 = pd.crosstab(df_sp['parental level of education'], df_sp['reading_grp2'], normalize='index')\n",
    "sns.heatmap(tab1, cmap='YlGnBu', annot=True, fmt='.2f')"
   ]
  },
  {
   "cell_type": "code",
   "execution_count": null,
   "id": "da07322c",
   "metadata": {},
   "outputs": [],
   "source": [
    "sns.boxplot(data=df_sp, x='parental level of education', y='reading score')"
   ]
  },
  {
   "cell_type": "markdown",
   "id": "7edd620b",
   "metadata": {},
   "source": [
    "### 2.3. 날짜시간 변수 활용\n",
    "\n",
    "날짜시간 변수에서 요소를 추출할 수 있고, 날짜시간별로 집계된 데이터로 시각화 가능"
   ]
  },
  {
   "cell_type": "code",
   "execution_count": null,
   "id": "2ddb5eda",
   "metadata": {},
   "outputs": [],
   "source": [
    "import pandas as pd\n",
    "import matplotlib.pyplot as plt\n",
    "import seaborn as sns\n",
    "\n",
    "plt.rc('font', family='Malgun Gothic')\n",
    "plt.rc('axes', unicode_minus=False)"
   ]
  },
  {
   "cell_type": "code",
   "execution_count": null,
   "id": "bff9c65b",
   "metadata": {
    "scrolled": true
   },
   "outputs": [],
   "source": [
    "df_subway = pd.read_csv('data/서울교통공사_역별일별승하차인원정보_20220731.csv')\n",
    "df_subway.head()"
   ]
  },
  {
   "cell_type": "code",
   "execution_count": null,
   "id": "3461369b",
   "metadata": {},
   "outputs": [],
   "source": [
    "# to_datetime()을 활용한 형식 변환\n",
    "df_subway['호선'] = df_subway['호선'].astype('category')\n",
    "df_subway['날짜'] = pd.to_datetime(df_subway['날짜'])\n",
    "df_subway.dtypes"
   ]
  },
  {
   "cell_type": "code",
   "execution_count": null,
   "id": "cb2adeb7",
   "metadata": {},
   "outputs": [],
   "source": [
    "# 요일 변수 생성\n",
    "df_subway['요일'] = df_subway['날짜'].dt.weekday\n",
    "df_subway"
   ]
  },
  {
   "cell_type": "code",
   "execution_count": null,
   "id": "4d929b69",
   "metadata": {},
   "outputs": [],
   "source": [
    "# 월 변수 생성\n",
    "df_subway['월'] = df_subway['날짜'].dt.month\n",
    "df_subway"
   ]
  },
  {
   "cell_type": "code",
   "execution_count": null,
   "id": "e3ed8c69",
   "metadata": {
    "scrolled": true
   },
   "outputs": [],
   "source": [
    "# 날짜별 집계값의 생성\n",
    "agg = df_subway.groupby(['요일','호선'], as_index=False)['이용객수'].sum()\n",
    "agg"
   ]
  },
  {
   "cell_type": "code",
   "execution_count": null,
   "id": "4463267c",
   "metadata": {
    "scrolled": false
   },
   "outputs": [],
   "source": [
    "# 시계열 데이터의 시각화 \n",
    "sns.lineplot(data=agg, \n",
    "             x='요일',\n",
    "             y='이용객수',\n",
    "             hue='호선')"
   ]
  },
  {
   "cell_type": "code",
   "execution_count": null,
   "id": "86515b80",
   "metadata": {},
   "outputs": [],
   "source": []
  },
  {
   "cell_type": "markdown",
   "id": "1b07bac0",
   "metadata": {},
   "source": [
    "#### [실습] df_accident를 활용하여 7, 8월 새벽 1~5시 사고 건수 계산"
   ]
  },
  {
   "cell_type": "code",
   "execution_count": null,
   "id": "683290a6",
   "metadata": {
    "scrolled": false
   },
   "outputs": [],
   "source": [
    "df_accident = pd.read_csv('data/도로교통공단_사망 교통사고 정보_20211231_utf8.csv')\n",
    "df_accident"
   ]
  },
  {
   "cell_type": "code",
   "execution_count": null,
   "id": "b0e98959",
   "metadata": {
    "scrolled": true
   },
   "outputs": [],
   "source": [
    "df_accident['발생년월일시'] = pd.to_datetime(df_accident['발생년월일시'])\n",
    "df_accident.dtypes"
   ]
  },
  {
   "cell_type": "code",
   "execution_count": null,
   "id": "c3b80081",
   "metadata": {
    "scrolled": true
   },
   "outputs": [],
   "source": [
    "df_accident['월'] = df_accident['발생년월일시'].dt.month\n",
    "df_accident['시'] = df_accident['발생년월일시'].dt.hour\n",
    "df_accident"
   ]
  },
  {
   "cell_type": "code",
   "execution_count": null,
   "id": "ffb2eed1",
   "metadata": {},
   "outputs": [],
   "source": []
  },
  {
   "cell_type": "code",
   "execution_count": null,
   "id": "b4ad4097",
   "metadata": {},
   "outputs": [],
   "source": [
    "agg2_wide = df_accident.pivot_table(index='시', columns='월', values='사망자수', aggfunc='mean')\n",
    "agg2_wide"
   ]
  },
  {
   "cell_type": "code",
   "execution_count": null,
   "id": "f466824f",
   "metadata": {},
   "outputs": [],
   "source": [
    "sns.heatmap(agg2_wide, cmap='YlGnBu')"
   ]
  },
  {
   "cell_type": "code",
   "execution_count": null,
   "id": "edc0063a",
   "metadata": {},
   "outputs": [],
   "source": []
  },
  {
   "cell_type": "code",
   "execution_count": null,
   "id": "7d745b21",
   "metadata": {},
   "outputs": [],
   "source": []
  },
  {
   "cell_type": "code",
   "execution_count": null,
   "id": "d7794d79",
   "metadata": {},
   "outputs": [],
   "source": []
  },
  {
   "cell_type": "markdown",
   "id": "5ddc2689",
   "metadata": {},
   "source": [
    "#### End of script"
   ]
  }
 ],
 "metadata": {
  "kernelspec": {
   "display_name": "Python 3 (ipykernel)",
   "language": "python",
   "name": "python3"
  },
  "language_info": {
   "codemirror_mode": {
    "name": "ipython",
    "version": 3
   },
   "file_extension": ".py",
   "mimetype": "text/x-python",
   "name": "python",
   "nbconvert_exporter": "python",
   "pygments_lexer": "ipython3",
   "version": "3.9.13"
  }
 },
 "nbformat": 4,
 "nbformat_minor": 5
}
