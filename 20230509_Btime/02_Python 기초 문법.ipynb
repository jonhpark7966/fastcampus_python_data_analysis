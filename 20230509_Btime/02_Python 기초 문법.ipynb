{
 "cells": [
  {
   "cell_type": "markdown",
   "metadata": {},
   "source": [
    "# Python 기초 문법\n",
    "\n",
    "### 주요 내용\n",
    "\n",
    "1. int, str 등 주요 객체 형식\n",
    "2. 리스트와 튜플, 딕셔너리의 이해\n",
    "3. numpy를 활용한 행렬 연산\n",
    "\n",
    "<br>\n",
    "\n",
    "### 목표 \n",
    "1. int, str 등 객체 형식에 따라 적절한 메서드를 활용한다.\n",
    "2. 여러 개의 값을 리스트 형식 등으로 저장하고 활용한다.\n",
    "3. 리스트와 튜플, 딕셔너리의 차이를 이해한다.\n",
    "\n",
    "\n",
    "<br>\n",
    "<hr>\n",
    "<br>"
   ]
  },
  {
   "cell_type": "markdown",
   "metadata": {},
   "source": [
    "> Python은 개발 언어로 분석 중심의 언어가 아닙니다. 0에서 1을 만드는 개발과 달리 데이터 분석은 데이터라는 재료를 활용하기 때문에 방대한 Python 기초 문법을 모두 배워야하는 것은 아닙니다. 필요하고 중요한 내용 중심으로 살펴보겠습니다.\n",
    "\n",
    "\n",
    "<br>\n",
    "\n",
    "## 1. 형식의 이해\n",
    "\n",
    "\n",
    "\n",
    "<br>\n",
    "\n",
    "\n",
    "\n",
    "### 1.1. 숫자와 문자, 출력과 저장(할당)\n",
    "\n",
    "숫자는 그냥 입력하면 되고, 문자는 큰 따옴표나 작은 따옴표를 붙임  \n",
    "`print( )` 함수를 써서 출력하거나 `=`을 써서 값을 객체로 저장할 수도 있음"
   ]
  },
  {
   "cell_type": "code",
   "execution_count": 19,
   "metadata": {},
   "outputs": [
    {
     "name": "stdout",
     "output_type": "stream",
     "text": [
      "2.5\n",
      "1.005859375\n"
     ]
    }
   ],
   "source": [
    "# 숫자와 연산\n",
    "    ## 마지막 결과만 출력\n",
    "    ## 중간 공백은 문제 없지만 시작 위치는 민감\n",
    "print(1+2*3/4)\n",
    "\n",
    "print(1 + 2  * 3/4**5)"
   ]
  },
  {
   "cell_type": "code",
   "execution_count": 5,
   "metadata": {},
   "outputs": [
    {
     "data": {
      "text/plain": [
       "'삼성전자'"
      ]
     },
     "execution_count": 5,
     "metadata": {},
     "output_type": "execute_result"
    }
   ],
   "source": [
    "# 문자\n",
    "    ## 큰따옴표, 작은따옴표 차이 없음\n",
    "'삼성전자'"
   ]
  },
  {
   "cell_type": "code",
   "execution_count": 7,
   "metadata": {},
   "outputs": [
    {
     "data": {
      "text/plain": [
       "'삼성전자'"
      ]
     },
     "execution_count": 7,
     "metadata": {},
     "output_type": "execute_result"
    }
   ],
   "source": [
    "\"삼성전자\""
   ]
  },
  {
   "cell_type": "code",
   "execution_count": 8,
   "metadata": {},
   "outputs": [
    {
     "data": {
      "text/plain": [
       "\"작은따옴표(' ')를 포함한 글자\""
      ]
     },
     "execution_count": 8,
     "metadata": {},
     "output_type": "execute_result"
    }
   ],
   "source": [
    "\"작은따옴표(' ')를 포함한 글자\""
   ]
  },
  {
   "cell_type": "code",
   "execution_count": 10,
   "metadata": {},
   "outputs": [
    {
     "data": {
      "text/plain": [
       "'가나다라마바'"
      ]
     },
     "execution_count": 10,
     "metadata": {},
     "output_type": "execute_result"
    }
   ],
   "source": [
    "# 할당(assign), 저장\n",
    "    ## '+' : 숫자 덧셈 연산, 문자열 결합\n",
    "a = '가나다'\n",
    "b = '라마바'\n",
    "\n",
    "a+b"
   ]
  },
  {
   "cell_type": "code",
   "execution_count": 11,
   "metadata": {},
   "outputs": [
    {
     "data": {
      "text/plain": [
       "1"
      ]
     },
     "execution_count": 11,
     "metadata": {},
     "output_type": "execute_result"
    }
   ],
   "source": [
    "# 업데이트\n",
    "c = 0\n",
    "c = 1\n",
    "c"
   ]
  },
  {
   "cell_type": "code",
   "execution_count": 17,
   "metadata": {},
   "outputs": [
    {
     "data": {
      "text/plain": [
       "421"
      ]
     },
     "execution_count": 17,
     "metadata": {},
     "output_type": "execute_result"
    }
   ],
   "source": [
    "# 자기 자신을 활용한 업데이트\n",
    "#c = c + 10\n",
    "\n",
    "c += 100  \n",
    "    ## c += 100 : c = c + 100\n",
    "c"
   ]
  },
  {
   "cell_type": "code",
   "execution_count": 23,
   "metadata": {},
   "outputs": [
    {
     "name": "stdout",
     "output_type": "stream",
     "text": [
      "삼성전자\n",
      "DS DX test 100 421 521\n"
     ]
    }
   ],
   "source": [
    "# print( )를 활용한 출력\n",
    "    ## 숫자나 문자를 콤마(,)로 나열하면 출력\n",
    "    ## 함수 안에서 Shift + Tab 눌러 도움말 보기\n",
    "\n",
    "print('삼성전자')\n",
    "print('DS', 'DX', \"test\", 100, c, c+100)"
   ]
  },
  {
   "cell_type": "code",
   "execution_count": 25,
   "metadata": {},
   "outputs": [
    {
     "name": "stdout",
     "output_type": "stream",
     "text": [
      "x는 110이고, y는 999이다\n"
     ]
    }
   ],
   "source": [
    "# 문자열의 f-string 메서드를 활용한 출력\n",
    "    ## 콤마로 나열할 필요 없이 문자열 중간에 값을 넣어 출력 가능    \n",
    "\n",
    "x=110\n",
    "y=999\n",
    "\n",
    "print('x는 {}이고, y는 {}이다'.format(x, y)) # 과거에 주로 활용"
   ]
  },
  {
   "cell_type": "code",
   "execution_count": 27,
   "metadata": {},
   "outputs": [
    {
     "name": "stdout",
     "output_type": "stream",
     "text": [
      "x는 110이고, y는 1109이다\n"
     ]
    }
   ],
   "source": [
    "print(f'x는 {x}이고, y는 {y+x}이다') # 최근에 주로 활용"
   ]
  },
  {
   "cell_type": "markdown",
   "metadata": {},
   "source": [
    "#### [실습] x에 10.1을 저장하고, y에 101을 저장한 다음 더하기"
   ]
  },
  {
   "cell_type": "code",
   "execution_count": 28,
   "metadata": {},
   "outputs": [
    {
     "data": {
      "text/plain": [
       "111.1"
      ]
     },
     "execution_count": 28,
     "metadata": {},
     "output_type": "execute_result"
    }
   ],
   "source": [
    "x = 10.1\n",
    "y = 101\n",
    "x+y"
   ]
  },
  {
   "cell_type": "markdown",
   "metadata": {},
   "source": [
    "#### [실습] a=1, b=5로 할당하고 문자 'a + b는'과 a+b 계산 결과를 print( )로 함께 출력\n",
    "\n",
    "출력 결과 예시  \n",
    "`1 + 5는 6`"
   ]
  },
  {
   "cell_type": "code",
   "execution_count": 30,
   "metadata": {},
   "outputs": [
    {
     "name": "stdout",
     "output_type": "stream",
     "text": [
      "1 + 5는 6\n"
     ]
    }
   ],
   "source": [
    "a=1\n",
    "b=5\n",
    "\n",
    "print(f\"{a} + {b}는 {a+b}\")"
   ]
  },
  {
   "cell_type": "markdown",
   "metadata": {},
   "source": [
    "<br>\n",
    "\n",
    "#### [참고] print를 활용한 로그 저장"
   ]
  },
  {
   "cell_type": "code",
   "execution_count": 35,
   "metadata": {},
   "outputs": [],
   "source": [
    "from datetime import datetime\n",
    "\n",
    "\n",
    "with open('log.txt', 'w') as f:\n",
    "    time1 = datetime.now().strftime('%Y-%m-%d %H:%M:%S')\n",
    "    print(f'{time1} - 점심먹고왔음.', file=f)\n"
   ]
  },
  {
   "cell_type": "markdown",
   "metadata": {},
   "source": [
    "\n",
    "<br>\n",
    "<br>\n",
    "\n",
    "### 1.2. type( )을 활용한 데이터 타입(type, 형식) 확인 \n",
    "\n",
    "`type( )`을 활용해서 각 데이터, 객체(object)의 타입을 확인\n",
    "\n",
    "* int : 정수(integer)\n",
    "* str : 문자열(string)\n",
    "* float : 소수점, 비율을 포함한 실수\n"
   ]
  },
  {
   "cell_type": "code",
   "execution_count": 36,
   "metadata": {},
   "outputs": [
    {
     "data": {
      "text/plain": [
       "int"
      ]
     },
     "execution_count": 36,
     "metadata": {},
     "output_type": "execute_result"
    }
   ],
   "source": [
    "type(1)"
   ]
  },
  {
   "cell_type": "code",
   "execution_count": 37,
   "metadata": {},
   "outputs": [
    {
     "data": {
      "text/plain": [
       "str"
      ]
     },
     "execution_count": 37,
     "metadata": {},
     "output_type": "execute_result"
    }
   ],
   "source": [
    "type('가')"
   ]
  },
  {
   "cell_type": "code",
   "execution_count": 38,
   "metadata": {},
   "outputs": [
    {
     "data": {
      "text/plain": [
       "str"
      ]
     },
     "execution_count": 38,
     "metadata": {},
     "output_type": "execute_result"
    }
   ],
   "source": [
    "type('1')"
   ]
  },
  {
   "cell_type": "code",
   "execution_count": 39,
   "metadata": {},
   "outputs": [
    {
     "data": {
      "text/plain": [
       "float"
      ]
     },
     "execution_count": 39,
     "metadata": {},
     "output_type": "execute_result"
    }
   ],
   "source": [
    "type(1.0)"
   ]
  },
  {
   "cell_type": "markdown",
   "metadata": {},
   "source": [
    "<br>\n",
    "\n",
    "### 1.3.  비교 연산과 bool 형식의 이해\n",
    "등호와 부등호를 활용해서 숫자를 비교(비교 연산)\n",
    "`=`은 할당(저장)을 할 때 활용되므로 일치여부를 확인할 때는 `==`을 활용하고 불일치여부는 `!=`을 활용  \n",
    "\n",
    "비교 연산 등의 결과로 **True** 혹은 **False**가 출력되는데 이렇게 참, 거짓 두개의 값을 갖는 객체는 *불(bool)* 형식으로 저장"
   ]
  },
  {
   "cell_type": "code",
   "execution_count": 42,
   "metadata": {},
   "outputs": [],
   "source": [
    "x=10\n",
    "y=99"
   ]
  },
  {
   "cell_type": "code",
   "execution_count": 43,
   "metadata": {},
   "outputs": [
    {
     "data": {
      "text/plain": [
       "False"
      ]
     },
     "execution_count": 43,
     "metadata": {},
     "output_type": "execute_result"
    }
   ],
   "source": [
    "x>=y"
   ]
  },
  {
   "cell_type": "code",
   "execution_count": 44,
   "metadata": {},
   "outputs": [
    {
     "data": {
      "text/plain": [
       "False"
      ]
     },
     "execution_count": 44,
     "metadata": {},
     "output_type": "execute_result"
    }
   ],
   "source": [
    "y==9"
   ]
  },
  {
   "cell_type": "code",
   "execution_count": 45,
   "metadata": {},
   "outputs": [
    {
     "data": {
      "text/plain": [
       "True"
      ]
     },
     "execution_count": 45,
     "metadata": {},
     "output_type": "execute_result"
    }
   ],
   "source": [
    "y!=9"
   ]
  },
  {
   "cell_type": "code",
   "execution_count": 46,
   "metadata": {},
   "outputs": [
    {
     "data": {
      "text/plain": [
       "bool"
      ]
     },
     "execution_count": 46,
     "metadata": {},
     "output_type": "execute_result"
    }
   ],
   "source": [
    "type(y>0)"
   ]
  },
  {
   "cell_type": "markdown",
   "metadata": {},
   "source": [
    "\n",
    "<br>\n",
    "\n",
    "## 2. 여러 값을 묶은 리스트(list)\n",
    "\n",
    "`1`, `'삼성'`처럼 하나의 값이 아니라 여러개의 값을 묶으면 수열, 문자열이 생성  \n",
    "Python에서는 **리스트(list)** 형식 등으로 수열, 문자열을 다룸  \n",
    "\n",
    "\n",
    "### 2.1. 대괄호([ ])를 활용한 리스트 생성"
   ]
  },
  {
   "cell_type": "code",
   "execution_count": 47,
   "metadata": {},
   "outputs": [
    {
     "data": {
      "text/plain": [
       "[5000, 6000, 7000, 6000, 9000]"
      ]
     },
     "execution_count": 47,
     "metadata": {},
     "output_type": "execute_result"
    }
   ],
   "source": [
    "salary = [5000, 6000, 7000, 6000, 9000]\n",
    "salary"
   ]
  },
  {
   "cell_type": "code",
   "execution_count": 48,
   "metadata": {},
   "outputs": [
    {
     "data": {
      "text/plain": [
       "list"
      ]
     },
     "execution_count": 48,
     "metadata": {},
     "output_type": "execute_result"
    }
   ],
   "source": [
    "# 타입 확인 : list\n",
    "type(salary)"
   ]
  },
  {
   "cell_type": "code",
   "execution_count": 53,
   "metadata": {},
   "outputs": [
    {
     "data": {
      "text/plain": [
       "['회로설계',\n",
       " '반도체공정설계',\n",
       " '신호 및 시스템 설계',\n",
       " 'S/W개발',\n",
       " '영업마케팅',\n",
       " '경영지원',\n",
       " '생산관리',\n",
       " [5000, 6000]]"
      ]
     },
     "execution_count": 53,
     "metadata": {},
     "output_type": "execute_result"
    }
   ],
   "source": [
    "# 문자열 리스트\n",
    "jobs = ['회로설계', '반도체공정설계', '신호 및 시스템 설계', 'S/W개발', '영업마케팅', '경영지원', '생산관리', [5000, 6000]    ]\n",
    "(jobs)"
   ]
  },
  {
   "cell_type": "markdown",
   "metadata": {},
   "source": [
    "#### [실습] 1~45까지 숫자 중에서 마음대로 6개 숫자 선택해서 리스트로 만들어 저장하기\n",
    "\n",
    "\n",
    "\n",
    "#### [실습] 점심/저녁 메뉴 3개를 리스트로 묶어 menu로 저장하기 \n",
    "\n"
   ]
  },
  {
   "cell_type": "code",
   "execution_count": 55,
   "metadata": {},
   "outputs": [
    {
     "data": {
      "text/plain": [
       "[7, 9, 44, 11, 15, 21]"
      ]
     },
     "execution_count": 55,
     "metadata": {},
     "output_type": "execute_result"
    }
   ],
   "source": [
    "numList = [7, 9, 44, 11, 15, 21]\n",
    "numList"
   ]
  },
  {
   "cell_type": "code",
   "execution_count": 56,
   "metadata": {},
   "outputs": [],
   "source": [
    "menu = [\"coffee\", \"latte\", \"long black\"]"
   ]
  },
  {
   "cell_type": "code",
   "execution_count": null,
   "metadata": {},
   "outputs": [],
   "source": []
  },
  {
   "cell_type": "markdown",
   "metadata": {},
   "source": [
    "<br>\n",
    "\n",
    "### 2.2. 리스트의 주요 메서드\n",
    "\n",
    "append( )는 리스트에 값을 추가하고, extend( )는 리스트에 또다른 리스트를 이어 붙임"
   ]
  },
  {
   "cell_type": "code",
   "execution_count": 57,
   "metadata": {},
   "outputs": [
    {
     "data": {
      "text/plain": [
       "[5000, 6000, 7000, 6000, 9000]"
      ]
     },
     "execution_count": 57,
     "metadata": {},
     "output_type": "execute_result"
    }
   ],
   "source": [
    "# 리스트 만들기\n",
    "salary = [5000, 6000, 7000, 6000, 9000]\n",
    "salary"
   ]
  },
  {
   "cell_type": "code",
   "execution_count": 59,
   "metadata": {},
   "outputs": [
    {
     "data": {
      "text/plain": [
       "[5000, 6000, 7000, 6000, 9000, 10000, 10000]"
      ]
     },
     "execution_count": 59,
     "metadata": {},
     "output_type": "execute_result"
    }
   ],
   "source": [
    "# 리스트에 항목 하나 추가하기\n",
    "salary.append(10000)\n",
    "salary"
   ]
  },
  {
   "cell_type": "code",
   "execution_count": 60,
   "metadata": {},
   "outputs": [
    {
     "data": {
      "text/plain": [
       "[5000, 6000, 7000, 6000, 9000, 10000, 10000, 6000, 5000]"
      ]
     },
     "execution_count": 60,
     "metadata": {},
     "output_type": "execute_result"
    }
   ],
   "source": [
    "# 또다른 리스트를 이어 붙이기\n",
    "salary.extend([6000, 5000])\n",
    "salary"
   ]
  },
  {
   "cell_type": "code",
   "execution_count": 61,
   "metadata": {},
   "outputs": [
    {
     "data": {
      "text/plain": [
       "[5000, 6000, 7000, 6000, 9000, 10000, 10000, 6000, 5000, 5500, 6500]"
      ]
     },
     "execution_count": 61,
     "metadata": {},
     "output_type": "execute_result"
    }
   ],
   "source": [
    "b = [5500, 6500]\n",
    "salary.extend(b)\n",
    "salary"
   ]
  },
  {
   "cell_type": "markdown",
   "metadata": {},
   "source": [
    "#### [실습] 관심있는 메뉴 3개를 묶은 menu에 append( )로 메뉴 하나 더 추가하기\n",
    "\n"
   ]
  },
  {
   "cell_type": "code",
   "execution_count": 62,
   "metadata": {},
   "outputs": [
    {
     "name": "stdout",
     "output_type": "stream",
     "text": [
      "['coffee', 'latte', 'long black']\n",
      "['coffee', 'latte', 'long black', 'ramen']\n"
     ]
    }
   ],
   "source": [
    "print(menu)\n",
    "menu.append(\"ramen\")\n",
    "print(menu)"
   ]
  },
  {
   "cell_type": "markdown",
   "metadata": {},
   "source": [
    "<br>\n",
    "\n",
    "## 2.3. index의 활용   \n",
    "\n",
    "리스트를 만들 때 사용한 대괄호와 별개로, 만들어진 리스트에 대괄호 인덱스를 활용해서 부분을 선택\n",
    "\n"
   ]
  },
  {
   "cell_type": "code",
   "execution_count": 66,
   "metadata": {},
   "outputs": [
    {
     "data": {
      "text/plain": [
       "[5000, 6000, 7000, 6000, 9000, 10000, 10000, 6000, 5000, 5500, 6500]"
      ]
     },
     "execution_count": 66,
     "metadata": {},
     "output_type": "execute_result"
    }
   ],
   "source": [
    "salary"
   ]
  },
  {
   "cell_type": "code",
   "execution_count": 68,
   "metadata": {},
   "outputs": [
    {
     "data": {
      "text/plain": [
       "5500"
      ]
     },
     "execution_count": 68,
     "metadata": {},
     "output_type": "execute_result"
    }
   ],
   "source": [
    "# 대괄호 index를 활용한 부분 선택\n",
    "    ## index는 0부터 시작 : 첫번째 값이 0\n",
    "    ## 콜론(:)을 활용해 연속적인 인덱스 지정 가능(슬라이싱), 끝 인덱스 미포함\n",
    "salary[-2]"
   ]
  },
  {
   "cell_type": "code",
   "execution_count": 73,
   "metadata": {},
   "outputs": [
    {
     "data": {
      "text/plain": [
       "[5000, 6000, 7000, 6000, 9000, 10000, 10000, 6000, 5000, 5500, 6500]"
      ]
     },
     "execution_count": 73,
     "metadata": {},
     "output_type": "execute_result"
    }
   ],
   "source": [
    "salary[:]"
   ]
  },
  {
   "cell_type": "code",
   "execution_count": 75,
   "metadata": {},
   "outputs": [
    {
     "data": {
      "text/plain": [
       "[50000, 6000, 7000, 6000, 9000, 50000, 10000, 6000, 5000, 5500, 6500]"
      ]
     },
     "execution_count": 75,
     "metadata": {},
     "output_type": "execute_result"
    }
   ],
   "source": [
    "# 인덱스를 활용한 업데이트\n",
    "salary[5] = 50000\n",
    "salary"
   ]
  },
  {
   "cell_type": "markdown",
   "metadata": {},
   "source": [
    "#### [실습] menu에서 첫번째 메뉴만 선택\n",
    "\n",
    "\n",
    "#### [실습] menu에서 세번째 메뉴를 '우동'으로 변경\n",
    "\n"
   ]
  },
  {
   "cell_type": "code",
   "execution_count": 78,
   "metadata": {},
   "outputs": [],
   "source": [
    "menu[2] = \"udon\""
   ]
  },
  {
   "cell_type": "code",
   "execution_count": 79,
   "metadata": {},
   "outputs": [
    {
     "data": {
      "text/plain": [
       "['coffee', 'latte', 'udon', 'ramen']"
      ]
     },
     "execution_count": 79,
     "metadata": {},
     "output_type": "execute_result"
    }
   ],
   "source": [
    "menu"
   ]
  },
  {
   "cell_type": "markdown",
   "metadata": {},
   "source": []
  },
  {
   "cell_type": "markdown",
   "metadata": {},
   "source": [
    "### 2.4. 다양한 리스트 생성 방법\n",
    "<br> \n",
    "\n",
    "#### 2.4.1. list( )의 활용\n",
    "\n",
    "list( )로 빈 리스트를 만들거나 다른 타입의 값들을 리스트 형식으로 변환"
   ]
  },
  {
   "cell_type": "code",
   "execution_count": 80,
   "metadata": {},
   "outputs": [
    {
     "name": "stdout",
     "output_type": "stream",
     "text": [
      "[]\n",
      "['2023-12-25']\n",
      "['2023-12-25', '2023-12-31']\n"
     ]
    }
   ],
   "source": [
    "a = list()\n",
    "print(a)\n",
    "\n",
    "a.append('2023-12-25')\n",
    "print(a)\n",
    "\n",
    "a.append('2023-12-31')\n",
    "print(a)\n"
   ]
  },
  {
   "cell_type": "markdown",
   "metadata": {},
   "source": [
    "\n",
    "\n",
    "\n",
    "#### 2.4.2. range( )를 활용한 수열 만들기\n",
    "\n",
    "연속적인 수열을 만들 때는 range( )를 활용\n"
   ]
  },
  {
   "cell_type": "code",
   "execution_count": 81,
   "metadata": {},
   "outputs": [
    {
     "data": {
      "text/plain": [
       "range(0, 10)"
      ]
     },
     "execution_count": 81,
     "metadata": {},
     "output_type": "execute_result"
    }
   ],
   "source": [
    "# 0부터 시작하는 range\n",
    "range(10)"
   ]
  },
  {
   "cell_type": "code",
   "execution_count": 82,
   "metadata": {},
   "outputs": [
    {
     "data": {
      "text/plain": [
       "[0, 1, 2, 3, 4, 5, 6, 7, 8, 9]"
      ]
     },
     "execution_count": 82,
     "metadata": {},
     "output_type": "execute_result"
    }
   ],
   "source": [
    "# range( )와 list( )를 활용한 수열 생성\n",
    "list(range(10))"
   ]
  },
  {
   "cell_type": "code",
   "execution_count": 83,
   "metadata": {},
   "outputs": [
    {
     "data": {
      "text/plain": [
       "[1, 2, 3, 4, 5, 6, 7, 8, 9, 10, 11, 12, 13, 14, 15, 16, 17, 18, 19]"
      ]
     },
     "execution_count": 83,
     "metadata": {},
     "output_type": "execute_result"
    }
   ],
   "source": [
    "list(range(1, 20))\n",
    "    ## 1부터 20 바로 앞 19까지"
   ]
  },
  {
   "cell_type": "code",
   "execution_count": 84,
   "metadata": {},
   "outputs": [
    {
     "data": {
      "text/plain": [
       "[1, 4, 7, 10, 13, 16, 19]"
      ]
     },
     "execution_count": 84,
     "metadata": {},
     "output_type": "execute_result"
    }
   ],
   "source": [
    "list(range(1, 20, 3))\n",
    "    ## 1부터 19까지 3간격"
   ]
  },
  {
   "cell_type": "markdown",
   "metadata": {},
   "source": [
    "#### [실습] range( )와 list( )로 2013부터 2022까지 10개 연도 만들기\n",
    "\n",
    "\n"
   ]
  },
  {
   "cell_type": "code",
   "execution_count": 85,
   "metadata": {},
   "outputs": [
    {
     "data": {
      "text/plain": [
       "[2013, 2014, 2015, 2016, 2017, 2018, 2019, 2020, 2021, 2022]"
      ]
     },
     "execution_count": 85,
     "metadata": {},
     "output_type": "execute_result"
    }
   ],
   "source": [
    "list( range( 2013, 2023 )  )"
   ]
  },
  {
   "cell_type": "code",
   "execution_count": null,
   "metadata": {},
   "outputs": [],
   "source": []
  },
  {
   "cell_type": "markdown",
   "metadata": {},
   "source": [
    "<br>\n",
    "\n",
    "## 3. 여러 값을 묶은 튜플(tuple)과 딕셔너리(Dictionary)\n",
    "\n",
    "<br>\n",
    "\n",
    "### 3.1. 튜플\n",
    "\n",
    "> 리스트와 비슷하게 여러개의 값을 묶지만, 값 변경이 불가능해서 데이터 분석에서 활용도는 떨어집니다. 다만, 전체 분석과정에서 절대 바뀌지 않는 값 묶음이 있다면, 튜플 형식을 활용할 수 있습니다.  \n",
    "\n",
    "튜플은 소괄호를 활용해서 만들 수 있고, 소괄호는 생략 가능\n",
    "\n"
   ]
  },
  {
   "cell_type": "code",
   "execution_count": 87,
   "metadata": {},
   "outputs": [
    {
     "name": "stdout",
     "output_type": "stream",
     "text": [
      "<class 'tuple'>\n",
      "('아침', '점심', '저녁')\n"
     ]
    }
   ],
   "source": [
    "aa = (1, 2, 3)\n",
    "bb = '아침', '점심', '저녁'\n",
    "\n",
    "print(type(aa))\n",
    "print(bb)"
   ]
  },
  {
   "cell_type": "code",
   "execution_count": 88,
   "metadata": {},
   "outputs": [
    {
     "name": "stdout",
     "output_type": "stream",
     "text": [
      "1\n",
      "('점심', '저녁')\n"
     ]
    }
   ],
   "source": [
    "# 인덱스 활용 가능\n",
    "print(aa[0])\n",
    "print(bb[1:])"
   ]
  },
  {
   "cell_type": "code",
   "execution_count": 89,
   "metadata": {},
   "outputs": [
    {
     "ename": "TypeError",
     "evalue": "'tuple' object does not support item assignment",
     "output_type": "error",
     "traceback": [
      "\u001b[1;31m---------------------------------------------------------------------------\u001b[0m",
      "\u001b[1;31mTypeError\u001b[0m                                 Traceback (most recent call last)",
      "\u001b[1;32m~\\AppData\\Local\\Temp\\ipykernel_8844\\171842317.py\u001b[0m in \u001b[0;36m<module>\u001b[1;34m\u001b[0m\n\u001b[0;32m      1\u001b[0m \u001b[1;31m# 추가/업데이트 불가능\u001b[0m\u001b[1;33m\u001b[0m\u001b[1;33m\u001b[0m\u001b[0m\n\u001b[1;32m----> 2\u001b[1;33m \u001b[0maa\u001b[0m\u001b[1;33m[\u001b[0m\u001b[1;36m0\u001b[0m\u001b[1;33m]\u001b[0m \u001b[1;33m=\u001b[0m \u001b[1;36m4\u001b[0m\u001b[1;33m\u001b[0m\u001b[1;33m\u001b[0m\u001b[0m\n\u001b[0m",
      "\u001b[1;31mTypeError\u001b[0m: 'tuple' object does not support item assignment"
     ]
    }
   ],
   "source": [
    "# 추가/업데이트 불가능\n",
    "aa[0] = 4"
   ]
  },
  {
   "cell_type": "code",
   "execution_count": null,
   "metadata": {},
   "outputs": [],
   "source": []
  },
  {
   "cell_type": "code",
   "execution_count": null,
   "metadata": {},
   "outputs": [],
   "source": []
  },
  {
   "cell_type": "markdown",
   "metadata": {},
   "source": [
    "### 3.2. 딕셔너리\n",
    "\n",
    "딕셔너리는 **키(key)** 와 **값(value)** 을 연결한 **쌍** 을 활용해서 여러 값을 구분해서 저장  \n",
    "\n",
    "딕셔너리는 중괄호 `{ }`를 활용하고 아래와 같은 방법으로 생성합니다. \n",
    "\n",
    "```[Python]\n",
    "{'key1':'value1', 'key2':'value2', 'key3':'value3', ...}\n",
    "```\n",
    "\n",
    "> 리스트가 `연봉`처럼 여러 관측치의 동일한 속성을 저장한다면, 딕셔너리는 하나의 대상에 대해서 키라고 부르는 여러 속성의 값을 저장합니다.   \n"
   ]
  },
  {
   "cell_type": "code",
   "execution_count": 90,
   "metadata": {},
   "outputs": [
    {
     "data": {
      "text/plain": [
       "{'회사': '삼성전자', '분석도구': 'Python', '기간': '3일'}"
      ]
     },
     "execution_count": 90,
     "metadata": {},
     "output_type": "execute_result"
    }
   ],
   "source": [
    "# 이 강의의 속성을 딕셔너리로 저장\n",
    "this_lecture = {'회사':'삼성전자', '분석도구':'Python', '기간':'3일'}\n",
    "this_lecture"
   ]
  },
  {
   "cell_type": "code",
   "execution_count": 91,
   "metadata": {},
   "outputs": [
    {
     "data": {
      "text/plain": [
       "'삼성전자'"
      ]
     },
     "execution_count": 91,
     "metadata": {},
     "output_type": "execute_result"
    }
   ],
   "source": [
    "# 대괄호와 키를 활용한 선택\n",
    "    ## 리스트의 인덱스 대신 키를 활용\n",
    "this_lecture['회사']"
   ]
  },
  {
   "cell_type": "code",
   "execution_count": 92,
   "metadata": {},
   "outputs": [
    {
     "data": {
      "text/plain": [
       "'삼성전자'"
      ]
     },
     "execution_count": 92,
     "metadata": {},
     "output_type": "execute_result"
    }
   ],
   "source": [
    "# 메서드 get()을 활용한 선택\n",
    "this_lecture.get('회사')"
   ]
  },
  {
   "cell_type": "code",
   "execution_count": 93,
   "metadata": {},
   "outputs": [
    {
     "data": {
      "text/plain": [
       "{'회사': '삼성전자', '분석도구': 'Python', '기간': '3일', '수강인원': 20}"
      ]
     },
     "execution_count": 93,
     "metadata": {},
     "output_type": "execute_result"
    }
   ],
   "source": [
    "# 쌍 추가 \n",
    "this_lecture['수강인원'] = 20\n",
    "this_lecture"
   ]
  },
  {
   "cell_type": "code",
   "execution_count": 95,
   "metadata": {},
   "outputs": [
    {
     "data": {
      "text/plain": [
       "{'회사': '삼성전자', '분석도구': 'Python', '기간': 3, '수강인원': 20, 10: 20}"
      ]
     },
     "execution_count": 95,
     "metadata": {},
     "output_type": "execute_result"
    }
   ],
   "source": [
    "this_lecture[10] = 20\n",
    "this_lecture"
   ]
  },
  {
   "cell_type": "code",
   "execution_count": 97,
   "metadata": {},
   "outputs": [
    {
     "ename": "KeyError",
     "evalue": "0",
     "output_type": "error",
     "traceback": [
      "\u001b[1;31m---------------------------------------------------------------------------\u001b[0m",
      "\u001b[1;31mKeyError\u001b[0m                                  Traceback (most recent call last)",
      "\u001b[1;32m~\\AppData\\Local\\Temp\\ipykernel_8844\\2031897807.py\u001b[0m in \u001b[0;36m<module>\u001b[1;34m\u001b[0m\n\u001b[1;32m----> 1\u001b[1;33m \u001b[0mthis_lecture\u001b[0m\u001b[1;33m[\u001b[0m\u001b[1;36m0\u001b[0m\u001b[1;33m]\u001b[0m\u001b[1;33m\u001b[0m\u001b[1;33m\u001b[0m\u001b[0m\n\u001b[0m",
      "\u001b[1;31mKeyError\u001b[0m: 0"
     ]
    }
   ],
   "source": [
    "this_lecture[0]"
   ]
  },
  {
   "cell_type": "code",
   "execution_count": 98,
   "metadata": {},
   "outputs": [
    {
     "data": {
      "text/plain": [
       "{'회사': '삼성전자', '분석도구': 'Python', '수강인원': 20, 10: 20}"
      ]
     },
     "execution_count": 98,
     "metadata": {},
     "output_type": "execute_result"
    }
   ],
   "source": [
    "# 쌍 제거\n",
    "del this_lecture['기간']\n",
    "this_lecture"
   ]
  },
  {
   "cell_type": "code",
   "execution_count": 101,
   "metadata": {},
   "outputs": [
    {
     "data": {
      "text/plain": [
       "dict_keys(['회사', '분석도구', '수강인원', 10])"
      ]
     },
     "execution_count": 101,
     "metadata": {},
     "output_type": "execute_result"
    }
   ],
   "source": [
    "# 키 목록 선택\n",
    "(this_lecture.keys())"
   ]
  },
  {
   "cell_type": "code",
   "execution_count": 102,
   "metadata": {},
   "outputs": [
    {
     "data": {
      "text/plain": [
       "['회사', '분석도구', '수강인원', 10]"
      ]
     },
     "execution_count": 102,
     "metadata": {},
     "output_type": "execute_result"
    }
   ],
   "source": [
    "# 리스트 형식으로 변환\n",
    "list(this_lecture.keys())"
   ]
  },
  {
   "cell_type": "code",
   "execution_count": 103,
   "metadata": {},
   "outputs": [
    {
     "data": {
      "text/plain": [
       "dict_values(['삼성전자', 'Python', 20, 20])"
      ]
     },
     "execution_count": 103,
     "metadata": {},
     "output_type": "execute_result"
    }
   ],
   "source": [
    "# 값 목록 선택\n",
    "this_lecture.values()"
   ]
  },
  {
   "cell_type": "markdown",
   "metadata": {},
   "source": [
    "#### [실습] 각자 본인의 아래 정보를 딕셔너리로 저장\n",
    "\n",
    "(딕셔너리의 값(value)에 리스트를 넣는 것도 가능)\n",
    "\n",
    "* 이름\n",
    "* 부서\n",
    "* 연차\n",
    "* 관심메뉴(위에서 만든 menu를 값으로 지정)\n",
    "\n"
   ]
  },
  {
   "cell_type": "code",
   "execution_count": 105,
   "metadata": {},
   "outputs": [
    {
     "data": {
      "text/plain": [
       "{'부서': 'Research', '연차': 8, '관심메뉴': ['coffee', 'latte', 'udon', 'ramen']}"
      ]
     },
     "execution_count": 105,
     "metadata": {},
     "output_type": "execute_result"
    }
   ],
   "source": [
    "my_info = {\"부서\":\"Research\", \"연차\": 8, \"관심메뉴\":menu}\n",
    "my_info"
   ]
  },
  {
   "cell_type": "code",
   "execution_count": 106,
   "metadata": {},
   "outputs": [
    {
     "data": {
      "text/plain": [
       "{'부서': 'Research',\n",
       " '연차': 8,\n",
       " '관심메뉴': ['coffee', 'latte', 'udon', 'ramen'],\n",
       " '이름': '박종현'}"
      ]
     },
     "execution_count": 106,
     "metadata": {},
     "output_type": "execute_result"
    }
   ],
   "source": [
    "my_info[\"이름\"] = \"박종현\"\n",
    "my_info"
   ]
  },
  {
   "cell_type": "code",
   "execution_count": 108,
   "metadata": {},
   "outputs": [
    {
     "data": {
      "text/plain": [
       "{'이름': '박종현',\n",
       " '부서': 'Research',\n",
       " '연차': 8,\n",
       " '관심메뉴': ['coffee', 'latte', 'udon', 'ramen']}"
      ]
     },
     "execution_count": 108,
     "metadata": {},
     "output_type": "execute_result"
    }
   ],
   "source": [
    "my_info2 = {\"이름\":\"박종현\", \"부서\":\"Research\", \"연차\": 8, \"관심메뉴\":menu}\n",
    "my_info2"
   ]
  },
  {
   "cell_type": "code",
   "execution_count": 109,
   "metadata": {},
   "outputs": [
    {
     "data": {
      "text/plain": [
       "True"
      ]
     },
     "execution_count": 109,
     "metadata": {},
     "output_type": "execute_result"
    }
   ],
   "source": [
    "my_info == my_info2"
   ]
  },
  {
   "cell_type": "markdown",
   "metadata": {},
   "source": [
    "<br>\n",
    "\n",
    "## 4. 흐름 제어문의 활용\n",
    "\n",
    "### 4.1. if 조건문  \n",
    "\n",
    "**if** 를 활용하여 특정한 상황에서만 명령어를 실행 가능  \n",
    "**else**나  **elif**를 추가로 활용 가능  "
   ]
  },
  {
   "cell_type": "code",
   "execution_count": 125,
   "metadata": {},
   "outputs": [],
   "source": [
    "# if의 활용\n",
    "score=10\n",
    "\n",
    "if (score >=80) :\n",
    "    print('합격')\n",
    "    print('축하합니다!')"
   ]
  },
  {
   "cell_type": "code",
   "execution_count": 113,
   "metadata": {},
   "outputs": [
    {
     "name": "stdout",
     "output_type": "stream",
     "text": [
      "합격\n"
     ]
    }
   ],
   "source": [
    "# if와 else의 활용\n",
    "score=100\n",
    "\n",
    "if score >=80:\n",
    "    print('합격')\n",
    "else:\n",
    "    print('탈락')"
   ]
  },
  {
   "cell_type": "code",
   "execution_count": 116,
   "metadata": {},
   "outputs": [
    {
     "name": "stdout",
     "output_type": "stream",
     "text": [
      "탈락\n"
     ]
    }
   ],
   "source": [
    "# if와 elif와 else의 활용\n",
    "score = 50 # 결측\n",
    "\n",
    "if score is None:\n",
    "    print('미응시')\n",
    "elif score >=80:\n",
    "    print('합격')\n",
    "else:\n",
    "    print('탈락')"
   ]
  },
  {
   "cell_type": "markdown",
   "metadata": {},
   "source": [
    "<br>\n",
    "\n",
    "### 4.2. for 반복문\n",
    "**for**는 반복 대상을 지정하고 특정한 명령을 반복 실행"
   ]
  },
  {
   "cell_type": "code",
   "execution_count": 126,
   "metadata": {},
   "outputs": [
    {
     "name": "stdout",
     "output_type": "stream",
     "text": [
      "1번째 값은 11\n",
      "2번째 값은 12\n",
      "3번째 값은 13\n"
     ]
    }
   ],
   "source": [
    "# 간단한 for 예제\n",
    "count = 0\n",
    "\n",
    "for i in [11,12,13]:\n",
    "    count += 1 ## 반복할 때마다 1씩 증가    \n",
    "    print(f'{count}번째 값은 {i}')"
   ]
  },
  {
   "cell_type": "code",
   "execution_count": 127,
   "metadata": {},
   "outputs": [
    {
     "data": {
      "text/plain": [
       "3"
      ]
     },
     "execution_count": 127,
     "metadata": {},
     "output_type": "execute_result"
    }
   ],
   "source": [
    "count"
   ]
  },
  {
   "cell_type": "code",
   "execution_count": 128,
   "metadata": {},
   "outputs": [],
   "source": [
    "# for문 안에서 if문을 활용\n",
    "m2 = []\n",
    "\n",
    "for a in range(1,101):\n",
    "    if a % 7 ==0: # 7로 나눈 나머지가 0이면\n",
    "        m2.append(a)\n"
   ]
  },
  {
   "cell_type": "code",
   "execution_count": 129,
   "metadata": {},
   "outputs": [
    {
     "data": {
      "text/plain": [
       "[7, 14, 21, 28, 35, 42, 49, 56, 63, 70, 77, 84, 91, 98]"
      ]
     },
     "execution_count": 129,
     "metadata": {},
     "output_type": "execute_result"
    }
   ],
   "source": [
    "m2"
   ]
  },
  {
   "cell_type": "markdown",
   "metadata": {},
   "source": [
    "#### [ 참고] []와 for, if의 활용\n",
    "\n",
    "리스트를 만드는 [] 안에서 for와 if를 활용할 수도 있음"
   ]
  },
  {
   "cell_type": "code",
   "execution_count": 130,
   "metadata": {},
   "outputs": [
    {
     "data": {
      "text/plain": [
       "[7, 14, 21, 28, 35, 42, 49, 56, 63, 70, 77, 84, 91, 98]"
      ]
     },
     "execution_count": 130,
     "metadata": {},
     "output_type": "execute_result"
    }
   ],
   "source": [
    "[x for x in range(1,101) if x%7==0]"
   ]
  },
  {
   "cell_type": "markdown",
   "metadata": {},
   "source": [
    "<br>\n",
    "\n",
    "#### [실습]\n",
    "\n",
    "1. 구구단 19단 출력하기  \n",
    "`19 X 1 = 19`  \n",
    "`19 X 2 = 38 ... ` \n",
    "\n",
    "2. 아래의 숫자 리스트 *x* 에서 10 이상인 숫자만 따로 모아 합계 계산하기\n"
   ]
  },
  {
   "cell_type": "code",
   "execution_count": null,
   "metadata": {},
   "outputs": [],
   "source": [
    "#1. 참고\n",
    "print(f'{19} X {1} = {19}')"
   ]
  },
  {
   "cell_type": "code",
   "execution_count": 138,
   "metadata": {},
   "outputs": [
    {
     "name": "stdout",
     "output_type": "stream",
     "text": [
      "1X1=1\t2X1=2\t3X1=3\t4X1=4\t5X1=5\t6X1=6\t7X1=7\t8X1=8\t9X1=9\t\n",
      "1X2=2\t2X2=4\t3X2=6\t4X2=8\t5X2=10\t6X2=12\t7X2=14\t8X2=16\t9X2=18\t\n",
      "1X3=3\t2X3=6\t3X3=9\t4X3=12\t5X3=15\t6X3=18\t7X3=21\t8X3=24\t9X3=27\t\n",
      "1X4=4\t2X4=8\t3X4=12\t4X4=16\t5X4=20\t6X4=24\t7X4=28\t8X4=32\t9X4=36\t\n",
      "1X5=5\t2X5=10\t3X5=15\t4X5=20\t5X5=25\t6X5=30\t7X5=35\t8X5=40\t9X5=45\t\n",
      "1X6=6\t2X6=12\t3X6=18\t4X6=24\t5X6=30\t6X6=36\t7X6=42\t8X6=48\t9X6=54\t\n",
      "1X7=7\t2X7=14\t3X7=21\t4X7=28\t5X7=35\t6X7=42\t7X7=49\t8X7=56\t9X7=63\t\n",
      "1X8=8\t2X8=16\t3X8=24\t4X8=32\t5X8=40\t6X8=48\t7X8=56\t8X8=64\t9X8=72\t\n",
      "1X9=9\t2X9=18\t3X9=27\t4X9=36\t5X9=45\t6X9=54\t7X9=63\t8X9=72\t9X9=81\t\n"
     ]
    }
   ],
   "source": [
    "for i in range(1, 10):\n",
    "    for j in range(1,10):\n",
    "        print(f'{j}X{i}={j*i}', end=\"\\t\")\n",
    "    print(\"\")"
   ]
  },
  {
   "cell_type": "code",
   "execution_count": 140,
   "metadata": {},
   "outputs": [],
   "source": [
    "#2. \n",
    "x = [9, 10, 4, 22, 3, 19]"
   ]
  },
  {
   "cell_type": "code",
   "execution_count": 141,
   "metadata": {},
   "outputs": [
    {
     "name": "stdout",
     "output_type": "stream",
     "text": [
      "51\n"
     ]
    }
   ],
   "source": [
    "total = 0\n",
    "\n",
    "for e in x:\n",
    "    if e >= 10:\n",
    "        total +=e\n",
    "        \n",
    "print(total)"
   ]
  },
  {
   "cell_type": "code",
   "execution_count": 146,
   "metadata": {},
   "outputs": [
    {
     "data": {
      "text/plain": [
       "51"
      ]
     },
     "execution_count": 146,
     "metadata": {},
     "output_type": "execute_result"
    }
   ],
   "source": [
    "sum([e for e in x if e>=10])"
   ]
  },
  {
   "cell_type": "markdown",
   "metadata": {},
   "source": [
    "<br>\n",
    "\n",
    "## 5. numpy의 활용 \n",
    "\n",
    "**numpy**는 *ndarray*라는 형식을 활용해서 다양한 행렬 연산과 처리를 지원"
   ]
  },
  {
   "cell_type": "code",
   "execution_count": 147,
   "metadata": {},
   "outputs": [],
   "source": [
    "import numpy as np"
   ]
  },
  {
   "cell_type": "code",
   "execution_count": 148,
   "metadata": {},
   "outputs": [
    {
     "data": {
      "text/plain": [
       "array([1, 2, 4, 8])"
      ]
     },
     "execution_count": 148,
     "metadata": {},
     "output_type": "execute_result"
    }
   ],
   "source": [
    "x = [1, 2, 4, 8]\n",
    "y = np.array(x)\n",
    "y"
   ]
  },
  {
   "cell_type": "code",
   "execution_count": 149,
   "metadata": {},
   "outputs": [
    {
     "data": {
      "text/plain": [
       "(array([[1, 2, 3, 4],\n",
       "        [9, 8, 7, 6]]),\n",
       " array([[0, 1],\n",
       "        [1, 0]]))"
      ]
     },
     "execution_count": 149,
     "metadata": {},
     "output_type": "execute_result"
    }
   ],
   "source": [
    "y2 = np.array([ [1,2,3,4], [9,8,7,6] ])\n",
    "y3 = np.array([ [0, 1], [1, 0] ])\n",
    "\n",
    "y2, y3              "
   ]
  },
  {
   "cell_type": "code",
   "execution_count": 150,
   "metadata": {},
   "outputs": [
    {
     "data": {
      "text/plain": [
       "array([[ 3,  5,  7,  9],\n",
       "       [19, 17, 15, 13]])"
      ]
     },
     "execution_count": 150,
     "metadata": {},
     "output_type": "execute_result"
    }
   ],
   "source": [
    "# 산술 연산\n",
    "y2 * 2 + 1"
   ]
  },
  {
   "cell_type": "code",
   "execution_count": 151,
   "metadata": {},
   "outputs": [
    {
     "data": {
      "text/plain": [
       "array([[9, 8, 7, 6],\n",
       "       [1, 2, 3, 4]])"
      ]
     },
     "execution_count": 151,
     "metadata": {},
     "output_type": "execute_result"
    }
   ],
   "source": [
    "# 행렬 곱\n",
    "y3@y2"
   ]
  },
  {
   "cell_type": "code",
   "execution_count": 152,
   "metadata": {},
   "outputs": [
    {
     "data": {
      "text/plain": [
       "(2, 4)"
      ]
     },
     "execution_count": 152,
     "metadata": {},
     "output_type": "execute_result"
    }
   ],
   "source": [
    "# 행렬 크기 확인\n",
    "y2.shape"
   ]
  },
  {
   "cell_type": "markdown",
   "metadata": {},
   "source": [
    "#### End of script"
   ]
  }
 ],
 "metadata": {
  "kernelspec": {
   "display_name": "Python 3 (ipykernel)",
   "language": "python",
   "name": "python3"
  },
  "language_info": {
   "codemirror_mode": {
    "name": "ipython",
    "version": 3
   },
   "file_extension": ".py",
   "mimetype": "text/x-python",
   "name": "python",
   "nbconvert_exporter": "python",
   "pygments_lexer": "ipython3",
   "version": "3.9.13"
  }
 },
 "nbformat": 4,
 "nbformat_minor": 4
}
