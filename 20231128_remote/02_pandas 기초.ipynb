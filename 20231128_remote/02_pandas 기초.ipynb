{
 "cells": [
  {
   "cell_type": "markdown",
   "id": "8a6c67e2",
   "metadata": {},
   "source": [
    "# pandas 기초\n",
    "\n",
    "### 주요 내용\n",
    "\n",
    "1. csv, xlsx 파일 불러오기\n",
    "2. 데이터 살펴보기\n",
    "3. DRM 보안 파일 불러오기\n",
    "\n",
    "<br>\n",
    "\n",
    "### 목표 \n",
    "1. 분석에 필요한 데이터를 python으로 불러올 수 있다.\n",
    "2. 데이터의 일부나 특성을 확인할 수 있다. \n",
    "\n",
    "\n",
    "<br>\n",
    "<hr>\n",
    "<br>"
   ]
  },
  {
   "cell_type": "markdown",
   "id": "7e80c404",
   "metadata": {},
   "source": [
    "## 1. 파일 불러와서 살펴보기\n",
    "\n",
    "**pandas** 라이브러리의 *read_csv()* 등의 함수를 활용해서 데이터 불러오기 가능 \n",
    "아래의 표현들을 활용해서 데이터 파일의 경로 지정 필요 \n",
    "\n",
    "* `/` : **root**. Windows에서는 C:\\\n",
    "* `~/` : 사용자 폴더. Windows에서는 C:\\Users\\사용자계정이름\n",
    "* `./` : 현재 작업 폴더(working directory), 별도로 작업하지 않은 경우 생략 가능\n",
    "* `../` : 현재 폴더의 상위 폴더\n",
    "\n",
    "\n",
    "`바탕화면`처럼 익숙한 곳에 새로운 폴더를 만들고, 데이터 파일을 옮겨서 작업하는 것을 추천\n",
    "\n"
   ]
  },
  {
   "cell_type": "code",
   "execution_count": null,
   "id": "f4e68afb",
   "metadata": {},
   "outputs": [],
   "source": [
    "# 현재 작업 폴더 확인\n",
    "    ## print working directory\n",
    "%pwd"
   ]
  },
  {
   "cell_type": "code",
   "execution_count": null,
   "id": "12d00a8f",
   "metadata": {},
   "outputs": [],
   "source": [
    "# 경로 지정 실습\n",
    "\"./data/CARD_SUBWAY_MONTH_201907.csv\""
   ]
  },
  {
   "cell_type": "markdown",
   "id": "f1effbcd",
   "metadata": {},
   "source": [
    "<br>\n",
    "\n",
    "### 1.1. CSV 파일 불러오기\n",
    "\n",
    "**pandas** 라이브러리 불러오기 "
   ]
  },
  {
   "cell_type": "code",
   "execution_count": null,
   "id": "1842e166",
   "metadata": {},
   "outputs": [],
   "source": [
    "import pandas as pd"
   ]
  },
  {
   "cell_type": "code",
   "execution_count": null,
   "id": "d881a9a0",
   "metadata": {},
   "outputs": [],
   "source": [
    "# pandas의 read_csv( ) 활용\n",
    "df_ins= pd.read_csv(\"./data/insurance.csv\")\n",
    "df_ins= pd.read_csv(\"data/insurance.csv\") \n",
    "df_ins    \n",
    "    ## 경로가 중요! \n",
    "    ## ./ : ipynb 노트북 파일 폴더\n",
    "    ## ./ 생략 가능\n",
    "    ## Tab으로 자동 완성 기능 활용 가능 "
   ]
  },
  {
   "cell_type": "code",
   "execution_count": null,
   "id": "a2756fb6",
   "metadata": {},
   "outputs": [],
   "source": [
    "# 타입 확인\n",
    "type(df_ins)\n",
    "    ## \"DataFrame\""
   ]
  },
  {
   "cell_type": "code",
   "execution_count": null,
   "id": "07e0a816",
   "metadata": {},
   "outputs": [],
   "source": [
    "# 메서드의 확인(마침표 뒤에서 Tab 누르기)\n",
    "df_ins."
   ]
  },
  {
   "cell_type": "markdown",
   "id": "76e7833b",
   "metadata": {},
   "source": [
    "<br>\n",
    "\n",
    "### 1.2. 데이터 살펴보기\n"
   ]
  },
  {
   "cell_type": "code",
   "execution_count": null,
   "id": "723139a9",
   "metadata": {},
   "outputs": [],
   "source": [
    "# head( )로 앞 몇개 관측치 확인\n",
    "df_ins.head(n=10)"
   ]
  },
  {
   "cell_type": "code",
   "execution_count": null,
   "id": "61e23b19",
   "metadata": {},
   "outputs": [],
   "source": [
    "# tail( )로 끝 몇 개 관측치 확인\n",
    "df_ins.tail(n=10)"
   ]
  },
  {
   "cell_type": "code",
   "execution_count": null,
   "id": "656a369d",
   "metadata": {},
   "outputs": [],
   "source": [
    "# 관측치/ 변수 개수 확인\n",
    "df_ins.shape"
   ]
  },
  {
   "cell_type": "code",
   "execution_count": null,
   "id": "d7389977",
   "metadata": {},
   "outputs": [],
   "source": [
    "# 관측치 개수만 확인\n",
    "df_ins.shape[0]"
   ]
  },
  {
   "cell_type": "code",
   "execution_count": null,
   "id": "0298f21e",
   "metadata": {},
   "outputs": [],
   "source": [
    "# index(행 이름) 확인\n",
    "df_ins.index"
   ]
  },
  {
   "cell_type": "code",
   "execution_count": null,
   "id": "0fd13fa2",
   "metadata": {},
   "outputs": [],
   "source": [
    "# columns(변수 이름) 확인\n",
    "df_ins.columns"
   ]
  },
  {
   "cell_type": "code",
   "execution_count": null,
   "id": "8505cfa2",
   "metadata": {},
   "outputs": [],
   "source": [
    "# 변수 형식 확인\n",
    "df_ins.dtypes"
   ]
  },
  {
   "cell_type": "markdown",
   "id": "574eabe7",
   "metadata": {},
   "source": [
    "<br>\n",
    "\n",
    "#### [실습] data 폴더의 PulseRates.csv를 불러와서 df_pr로 저장하기\n",
    "\n",
    "이후 자유롭게 데이터 탐색하기"
   ]
  },
  {
   "cell_type": "code",
   "execution_count": null,
   "id": "174d3b09",
   "metadata": {},
   "outputs": [],
   "source": [
    "df_pr = pd.read_csv(\"./data/PulseRates.csv\")"
   ]
  },
  {
   "cell_type": "code",
   "execution_count": null,
   "id": "12708561",
   "metadata": {},
   "outputs": [],
   "source": [
    "df_pr.tail(10)"
   ]
  },
  {
   "cell_type": "code",
   "execution_count": null,
   "id": "da9459ee",
   "metadata": {},
   "outputs": [],
   "source": [
    "df_pr.head(20)"
   ]
  },
  {
   "cell_type": "markdown",
   "id": "19c4e641",
   "metadata": {},
   "source": [
    "#### [참고] Encoding 지정 및 index, header 지정"
   ]
  },
  {
   "cell_type": "code",
   "execution_count": null,
   "id": "ad167ad0",
   "metadata": {},
   "outputs": [],
   "source": [
    "# 인코딩(글자 저장 방법) 오류 발생\n",
    "    ## UnicodeDecodeError  'utf-8' codec can't decode byte 0xbc in position 1: invalid start byte\n",
    "pd.read_csv('data/고용지표_20221115084415.csv')"
   ]
  },
  {
   "cell_type": "code",
   "execution_count": null,
   "id": "00b4666d",
   "metadata": {},
   "outputs": [],
   "source": [
    "# 옵션 encoding='CP949' 추가\n",
    "pd.read_csv('data/고용지표_20221115084415.csv', encoding='CP949')"
   ]
  },
  {
   "cell_type": "code",
   "execution_count": null,
   "id": "ffba3125",
   "metadata": {},
   "outputs": [],
   "source": [
    "# index, header 지정\n",
    "pd.read_csv('data/고용지표_20221115084415.csv', encoding='CP949', index_col=0, header=[0,1])"
   ]
  },
  {
   "cell_type": "markdown",
   "id": "b9872636",
   "metadata": {},
   "source": [
    "<br>\n",
    "\n",
    "\n",
    "### 1.3. Excel 파일 불러오기  \n",
    "\n",
    "`Excel` 파일은 구버전의 **xls**와 새로운 버전의 **xlsx**로 구분하며 추가 라이브러리 `xlrd`와 `openpyxl` 설치 필수\n",
    " 이후 pandas의 `read_excel( )`을 사용 가능 "
   ]
  },
  {
   "cell_type": "code",
   "execution_count": null,
   "id": "bcd317d2",
   "metadata": {},
   "outputs": [],
   "source": [
    "# 무난한 첫번째 시트 데이터 불러오기\n",
    "sheet1 = pd.read_excel('./data/test.xlsx')\n",
    "sheet1"
   ]
  },
  {
   "cell_type": "code",
   "execution_count": null,
   "id": "903d99a7",
   "metadata": {},
   "outputs": [],
   "source": [
    "# 시트 번호 지정하고 2줄 무시하기\n",
    "sheet2 = pd.read_excel('data/test.xlsx', sheet_name=1, skiprows=2)\n",
    "sheet2\n",
    "    ## sheet_name : 시트 이름이나 번호 지정, 번호는 0부터 시작\n",
    "    ## skiprows   : 무시할 행 수\n"
   ]
  },
  {
   "cell_type": "code",
   "execution_count": null,
   "id": "1c8f32df",
   "metadata": {},
   "outputs": [],
   "source": [
    "# 첫 행부터 데이터가 시작되는 데이터 불러오기\n",
    "sheet3 = pd.read_excel('data/test.xlsx', sheet_name=2, header=None)\n",
    "sheet3\n",
    "    ## header : 첫 행에 변수이름이 저장되었는지 여부\n"
   ]
  },
  {
   "cell_type": "code",
   "execution_count": null,
   "id": "52e9d7ad",
   "metadata": {},
   "outputs": [],
   "source": [
    "# 첫 행부터 데이터가 시작되는 데이터 불러오면서 변수 이름 지정하기\n",
    "sheet3 = pd.read_excel('data/test.xlsx', sheet_name=2, header=None, names=['년도','건수'])\n",
    "sheet3.dtypes\n"
   ]
  },
  {
   "cell_type": "code",
   "execution_count": null,
   "id": "a12778be",
   "metadata": {},
   "outputs": [],
   "source": [
    "# 결측 저장값 지정하기\n",
    "sheet3 = pd.read_excel('data/test.xlsx', sheet_name=2, header=None, names=['년도','건수'], na_values='-')\n",
    "sheet3\n",
    "    ## NaN : 결측값"
   ]
  },
  {
   "cell_type": "markdown",
   "id": "4f1d2926",
   "metadata": {},
   "source": [
    "\n",
    "<br>  \n",
    "\n",
    "####  [실습] 아래의 사이트에서 관심있는 데이터를 탐색하기\n",
    "\n",
    "* csv 파일 중 인코딩 관련 에러가 발생할 경우 read_csv( )안에서 `encoding='CP949'` 옵션 추가\n",
    "* xlsx의 경우 다운로드한 파일을 열어서 읽기 전용을 해제해야 할 수도 있음\n",
    "\n",
    "\n",
    "\n",
    "[공공데이터포털](https://www.data.go.kr/index.do)\n",
    "\n",
    "[서울 열린데이터 광장](http://data.seoul.go.kr/)\n",
    "\n",
    "[Dacon](https://dacon.io/)\n",
    "\n",
    "\n",
    "\n"
   ]
  },
  {
   "cell_type": "code",
   "execution_count": 34,
   "id": "f64ae53f",
   "metadata": {
    "collapsed": true
   },
   "outputs": [
    {
     "data": {
      "text/html": [
       "<div>\n",
       "<style scoped>\n",
       "    .dataframe tbody tr th:only-of-type {\n",
       "        vertical-align: middle;\n",
       "    }\n",
       "\n",
       "    .dataframe tbody tr th {\n",
       "        vertical-align: top;\n",
       "    }\n",
       "\n",
       "    .dataframe thead th {\n",
       "        text-align: right;\n",
       "    }\n",
       "</style>\n",
       "<table border=\"1\" class=\"dataframe\">\n",
       "  <thead>\n",
       "    <tr style=\"text-align: right;\">\n",
       "      <th></th>\n",
       "      <th>진료년월</th>\n",
       "      <th>시도</th>\n",
       "      <th>시군구</th>\n",
       "      <th>질환</th>\n",
       "      <th>진료건수(건)</th>\n",
       "    </tr>\n",
       "  </thead>\n",
       "  <tbody>\n",
       "    <tr>\n",
       "      <th>0</th>\n",
       "      <td>2013-01</td>\n",
       "      <td>서울특별시</td>\n",
       "      <td>종로구</td>\n",
       "      <td>천식</td>\n",
       "      <td>4</td>\n",
       "    </tr>\n",
       "    <tr>\n",
       "      <th>1</th>\n",
       "      <td>2013-01</td>\n",
       "      <td>서울특별시</td>\n",
       "      <td>종로구</td>\n",
       "      <td>비염</td>\n",
       "      <td>15</td>\n",
       "    </tr>\n",
       "    <tr>\n",
       "      <th>2</th>\n",
       "      <td>2013-01</td>\n",
       "      <td>서울특별시</td>\n",
       "      <td>중구</td>\n",
       "      <td>천식</td>\n",
       "      <td>8</td>\n",
       "    </tr>\n",
       "    <tr>\n",
       "      <th>3</th>\n",
       "      <td>2013-01</td>\n",
       "      <td>서울특별시</td>\n",
       "      <td>중구</td>\n",
       "      <td>비염</td>\n",
       "      <td>28</td>\n",
       "    </tr>\n",
       "    <tr>\n",
       "      <th>4</th>\n",
       "      <td>2013-01</td>\n",
       "      <td>서울특별시</td>\n",
       "      <td>용산구</td>\n",
       "      <td>천식</td>\n",
       "      <td>7</td>\n",
       "    </tr>\n",
       "    <tr>\n",
       "      <th>...</th>\n",
       "      <td>...</td>\n",
       "      <td>...</td>\n",
       "      <td>...</td>\n",
       "      <td>...</td>\n",
       "      <td>...</td>\n",
       "    </tr>\n",
       "    <tr>\n",
       "      <th>45257</th>\n",
       "      <td>2019-12</td>\n",
       "      <td>제주특별자치도</td>\n",
       "      <td>제주시</td>\n",
       "      <td>천식</td>\n",
       "      <td>7</td>\n",
       "    </tr>\n",
       "    <tr>\n",
       "      <th>45258</th>\n",
       "      <td>2019-12</td>\n",
       "      <td>제주특별자치도</td>\n",
       "      <td>제주시</td>\n",
       "      <td>비염</td>\n",
       "      <td>105</td>\n",
       "    </tr>\n",
       "    <tr>\n",
       "      <th>45259</th>\n",
       "      <td>2019-12</td>\n",
       "      <td>제주특별자치도</td>\n",
       "      <td>서귀포시</td>\n",
       "      <td>천식</td>\n",
       "      <td>6</td>\n",
       "    </tr>\n",
       "    <tr>\n",
       "      <th>45260</th>\n",
       "      <td>2019-12</td>\n",
       "      <td>제주특별자치도</td>\n",
       "      <td>서귀포시</td>\n",
       "      <td>비염</td>\n",
       "      <td>72</td>\n",
       "    </tr>\n",
       "    <tr>\n",
       "      <th>45261</th>\n",
       "      <td>2019-12</td>\n",
       "      <td>제주특별자치도</td>\n",
       "      <td>서귀포시</td>\n",
       "      <td>아토피</td>\n",
       "      <td>1</td>\n",
       "    </tr>\n",
       "  </tbody>\n",
       "</table>\n",
       "<p>45262 rows × 5 columns</p>\n",
       "</div>"
      ],
      "text/plain": [
       "          진료년월       시도   시군구   질환  진료건수(건)\n",
       "0      2013-01    서울특별시   종로구   천식        4\n",
       "1      2013-01    서울특별시   종로구   비염       15\n",
       "2      2013-01    서울특별시    중구   천식        8\n",
       "3      2013-01    서울특별시    중구   비염       28\n",
       "4      2013-01    서울특별시   용산구   천식        7\n",
       "...        ...      ...   ...  ...      ...\n",
       "45257  2019-12  제주특별자치도   제주시   천식        7\n",
       "45258  2019-12  제주특별자치도   제주시   비염      105\n",
       "45259  2019-12  제주특별자치도  서귀포시   천식        6\n",
       "45260  2019-12  제주특별자치도  서귀포시   비염       72\n",
       "45261  2019-12  제주특별자치도  서귀포시  아토피        1\n",
       "\n",
       "[45262 rows x 5 columns]"
      ]
     },
     "execution_count": 34,
     "metadata": {},
     "output_type": "execute_result"
    }
   ],
   "source": [
    "pd.read_csv(\"../../../Downloads/국민건강보험공단_특정 질병의 응급실 방문 현황_20191231.csv\", encoding=\"cp949\")"
   ]
  },
  {
   "cell_type": "code",
   "execution_count": 35,
   "id": "9ef0c035",
   "metadata": {
    "collapsed": true
   },
   "outputs": [
    {
     "data": {
      "text/html": [
       "<div>\n",
       "<style scoped>\n",
       "    .dataframe tbody tr th:only-of-type {\n",
       "        vertical-align: middle;\n",
       "    }\n",
       "\n",
       "    .dataframe tbody tr th {\n",
       "        vertical-align: top;\n",
       "    }\n",
       "\n",
       "    .dataframe thead th {\n",
       "        text-align: right;\n",
       "    }\n",
       "</style>\n",
       "<table border=\"1\" class=\"dataframe\">\n",
       "  <thead>\n",
       "    <tr style=\"text-align: right;\">\n",
       "      <th></th>\n",
       "      <th>진료년월</th>\n",
       "      <th>시도</th>\n",
       "      <th>시군구</th>\n",
       "      <th>질환</th>\n",
       "      <th>진료건수(건)</th>\n",
       "    </tr>\n",
       "  </thead>\n",
       "  <tbody>\n",
       "    <tr>\n",
       "      <th>0</th>\n",
       "      <td>2013-01</td>\n",
       "      <td>서울특별시</td>\n",
       "      <td>종로구</td>\n",
       "      <td>천식</td>\n",
       "      <td>4</td>\n",
       "    </tr>\n",
       "    <tr>\n",
       "      <th>1</th>\n",
       "      <td>2013-01</td>\n",
       "      <td>서울특별시</td>\n",
       "      <td>종로구</td>\n",
       "      <td>비염</td>\n",
       "      <td>15</td>\n",
       "    </tr>\n",
       "    <tr>\n",
       "      <th>2</th>\n",
       "      <td>2013-01</td>\n",
       "      <td>서울특별시</td>\n",
       "      <td>중구</td>\n",
       "      <td>천식</td>\n",
       "      <td>8</td>\n",
       "    </tr>\n",
       "    <tr>\n",
       "      <th>3</th>\n",
       "      <td>2013-01</td>\n",
       "      <td>서울특별시</td>\n",
       "      <td>중구</td>\n",
       "      <td>비염</td>\n",
       "      <td>28</td>\n",
       "    </tr>\n",
       "    <tr>\n",
       "      <th>4</th>\n",
       "      <td>2013-01</td>\n",
       "      <td>서울특별시</td>\n",
       "      <td>용산구</td>\n",
       "      <td>천식</td>\n",
       "      <td>7</td>\n",
       "    </tr>\n",
       "    <tr>\n",
       "      <th>...</th>\n",
       "      <td>...</td>\n",
       "      <td>...</td>\n",
       "      <td>...</td>\n",
       "      <td>...</td>\n",
       "      <td>...</td>\n",
       "    </tr>\n",
       "    <tr>\n",
       "      <th>45257</th>\n",
       "      <td>2019-12</td>\n",
       "      <td>제주특별자치도</td>\n",
       "      <td>제주시</td>\n",
       "      <td>천식</td>\n",
       "      <td>7</td>\n",
       "    </tr>\n",
       "    <tr>\n",
       "      <th>45258</th>\n",
       "      <td>2019-12</td>\n",
       "      <td>제주특별자치도</td>\n",
       "      <td>제주시</td>\n",
       "      <td>비염</td>\n",
       "      <td>105</td>\n",
       "    </tr>\n",
       "    <tr>\n",
       "      <th>45259</th>\n",
       "      <td>2019-12</td>\n",
       "      <td>제주특별자치도</td>\n",
       "      <td>서귀포시</td>\n",
       "      <td>천식</td>\n",
       "      <td>6</td>\n",
       "    </tr>\n",
       "    <tr>\n",
       "      <th>45260</th>\n",
       "      <td>2019-12</td>\n",
       "      <td>제주특별자치도</td>\n",
       "      <td>서귀포시</td>\n",
       "      <td>비염</td>\n",
       "      <td>72</td>\n",
       "    </tr>\n",
       "    <tr>\n",
       "      <th>45261</th>\n",
       "      <td>2019-12</td>\n",
       "      <td>제주특별자치도</td>\n",
       "      <td>서귀포시</td>\n",
       "      <td>아토피</td>\n",
       "      <td>1</td>\n",
       "    </tr>\n",
       "  </tbody>\n",
       "</table>\n",
       "<p>45262 rows × 5 columns</p>\n",
       "</div>"
      ],
      "text/plain": [
       "          진료년월       시도   시군구   질환  진료건수(건)\n",
       "0      2013-01    서울특별시   종로구   천식        4\n",
       "1      2013-01    서울특별시   종로구   비염       15\n",
       "2      2013-01    서울특별시    중구   천식        8\n",
       "3      2013-01    서울특별시    중구   비염       28\n",
       "4      2013-01    서울특별시   용산구   천식        7\n",
       "...        ...      ...   ...  ...      ...\n",
       "45257  2019-12  제주특별자치도   제주시   천식        7\n",
       "45258  2019-12  제주특별자치도   제주시   비염      105\n",
       "45259  2019-12  제주특별자치도  서귀포시   천식        6\n",
       "45260  2019-12  제주특별자치도  서귀포시   비염       72\n",
       "45261  2019-12  제주특별자치도  서귀포시  아토피        1\n",
       "\n",
       "[45262 rows x 5 columns]"
      ]
     },
     "execution_count": 35,
     "metadata": {},
     "output_type": "execute_result"
    }
   ],
   "source": [
    "pd.read_csv(\"/Users/jhpark/Downloads/국민건강보험공단_특정 질병의 응급실 방문 현황_20191231.csv\", encoding=\"cp949\")"
   ]
  },
  {
   "cell_type": "code",
   "execution_count": null,
   "id": "615e9904",
   "metadata": {},
   "outputs": [],
   "source": []
  },
  {
   "cell_type": "markdown",
   "id": "0ce52744",
   "metadata": {},
   "source": [
    "## 2.  [참고]DRM 보안 적용된 Excel 파일 불러오기\n",
    "\n"
   ]
  },
  {
   "cell_type": "markdown",
   "id": "546a6f71",
   "metadata": {},
   "source": [
    "### 2.1. pywin32 활용"
   ]
  },
  {
   "cell_type": "code",
   "execution_count": null,
   "id": "a56414c9",
   "metadata": {},
   "outputs": [],
   "source": [
    "import pandas as pd\n",
    "import win32com.client as win32\n",
    "import os \n",
    "\n",
    "# Excel 실행\n",
    "excel=win32.Dispatch('Excel.Application')   \n",
    "\n",
    "# 경로 지정 및 파일 열기\n",
    "filepath = os.getcwd() +'/data/test.xlsx'\n",
    "wb = excel.Workbooks.Open(filepath)\n",
    "\n",
    "# Sheet 지정\n",
    "ws = wb.Worksheets(1) \n",
    "\n",
    "# 전체 행, 열 수 확인\n",
    "nRow = ws.UsedRange.Rows.Count \n",
    "nColumn = ws.UsedRange.Columns.Count \n",
    "\n",
    "# 불러올 범위 지정\n",
    "listValue = ws.Range(ws.Cells(1,1) , ws.Cells(nRow,nColumn)).Value\n",
    "df_drm = pd.DataFrame(listValue[1:] , columns=listValue[0]) \n",
    "\n",
    "excel.Quit()     \n",
    "\n",
    "df_drm"
   ]
  },
  {
   "cell_type": "markdown",
   "id": "3224ca72",
   "metadata": {},
   "source": [
    "<br>\n",
    "<br>\n",
    "\n",
    "### 2.2. xlwings 라이브러리 활용"
   ]
  },
  {
   "cell_type": "code",
   "execution_count": null,
   "id": "92111d4e",
   "metadata": {},
   "outputs": [],
   "source": [
    "# 라이브러리 설치\n",
    "# !pip install xlwings "
   ]
  },
  {
   "cell_type": "code",
   "execution_count": null,
   "id": "6cc27a98",
   "metadata": {},
   "outputs": [],
   "source": [
    "# 라이브러리 불러오기\n",
    "import xlwings as xw\n",
    "import pandas as pd\n",
    "import os"
   ]
  },
  {
   "cell_type": "code",
   "execution_count": null,
   "id": "ad67d74e",
   "metadata": {},
   "outputs": [],
   "source": [
    "# Excel 파일 열기\n",
    "# filepath = os.getcwd() +'/data/test.xlsx'\n",
    "book = xw.Book('./data/test.xlsx')"
   ]
  },
  {
   "cell_type": "code",
   "execution_count": null,
   "id": "3fce4b13",
   "metadata": {},
   "outputs": [],
   "source": [
    "# Sheet 선택\n",
    "sheet = book.sheets[0]    \n",
    "\n",
    "# 전체 데이터 데이터 불러오기\n",
    "df_drm = sheet.used_range.options(pd.DataFrame, index = False).value\n",
    "df_drm\n"
   ]
  },
  {
   "cell_type": "code",
   "execution_count": null,
   "id": "4e92feb8",
   "metadata": {},
   "outputs": [],
   "source": [
    "# 특정 부분만 불러오기\n",
    "sheet = book.sheets[1]    \n",
    "df_drm = sheet.range(\"A3:C5\").options(pd.DataFrame, index = False).value\n",
    "df_drm"
   ]
  },
  {
   "cell_type": "code",
   "execution_count": null,
   "id": "609bb528",
   "metadata": {},
   "outputs": [],
   "source": [
    "# 종료\n",
    "xw.apps.active.quit()"
   ]
  },
  {
   "cell_type": "markdown",
   "id": "3a9931ba",
   "metadata": {},
   "source": [
    "#### End of script"
   ]
  }
 ],
 "metadata": {
  "kernelspec": {
   "display_name": "Python 3 (ipykernel)",
   "language": "python",
   "name": "python3"
  },
  "language_info": {
   "codemirror_mode": {
    "name": "ipython",
    "version": 3
   },
   "file_extension": ".py",
   "mimetype": "text/x-python",
   "name": "python",
   "nbconvert_exporter": "python",
   "pygments_lexer": "ipython3",
   "version": "3.10.9"
  }
 },
 "nbformat": 4,
 "nbformat_minor": 5
}
