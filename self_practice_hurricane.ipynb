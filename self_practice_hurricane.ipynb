{
 "cells": [
  {
   "cell_type": "markdown",
   "id": "f27a61d3",
   "metadata": {},
   "source": [
    "# 실습 - 허리케인 피해 지역 구분하기\n",
    "\n",
    "\n",
    "## 개요\n",
    "  - 허리케인이 지나간 위치의 위성 이미지를 보고, 피해 여부를 판단하는 모델을 만들어 봅시다.\n",
    "\n",
    "## 목표\n",
    "  - validation dataset 에 대해 95% 이상의 정확도를 가지는 것이 목표입니다."
   ]
  },
  {
   "cell_type": "code",
   "execution_count": 1,
   "id": "2c0fee65",
   "metadata": {},
   "outputs": [],
   "source": [
    "import urllib\n",
    "import zipfile\n",
    "\n",
    "import tensorflow as tf\n",
    "from tensorflow.keras.preprocessing.image import ImageDataGenerator"
   ]
  },
  {
   "cell_type": "code",
   "execution_count": 2,
   "id": "4a8920c2",
   "metadata": {},
   "outputs": [],
   "source": [
    "def download_and_extract_data():\n",
    "    url = 'https://storage.googleapis.com/download.tensorflow.org/data/certificate/satellitehurricaneimages.zip'\n",
    "    urllib.request.urlretrieve(url, 'satellitehurricaneimages.zip')\n",
    "    with zipfile.ZipFile('satellitehurricaneimages.zip', 'r') as zip_ref:\n",
    "        zip_ref.extractall()\n",
    "\n",
    "download_and_extract_data()"
   ]
  },
  {
   "cell_type": "markdown",
   "id": "fd3a6192",
   "metadata": {},
   "source": [
    "# 1 & 2. 데이터 준비 & 이미지 전처리\n",
    "\n",
    "  - 다운로드 받은 데이터를 읽어서 준비합니다.\n",
    "  - 전처리를 수행합니다."
   ]
  },
  {
   "cell_type": "code",
   "execution_count": 10,
   "id": "96d74e12",
   "metadata": {},
   "outputs": [
    {
     "name": "stdout",
     "output_type": "stream",
     "text": [
      "Found 10000 images belonging to 2 classes.\n",
      "Found 2000 images belonging to 2 classes.\n"
     ]
    }
   ],
   "source": [
    "IMG_SIZE = 128\n",
    "BATCH_SIZE = 64\n",
    "\n",
    "train_datagen = ImageDataGenerator(\n",
    "          rotation_range=40,\n",
    "      width_shift_range=0.2,\n",
    "      height_shift_range=0.2,\n",
    "      shear_range=0.2,\n",
    "      zoom_range=0.2,\n",
    "      horizontal_flip=True,\n",
    "      fill_mode='nearest',\n",
    "      rescale=1./255)\n",
    "\n",
    "test_datagen = ImageDataGenerator(rescale=1./255)\n",
    "\n",
    "train_generator = train_datagen.flow_from_directory(\n",
    "        'train/', \n",
    "    target_size= (IMG_SIZE,IMG_SIZE),\n",
    "    batch_size=BATCH_SIZE,\n",
    "        class_mode='binary')\n",
    "\n",
    "validation_generator = test_datagen.flow_from_directory(\n",
    "        'validation/',\n",
    "    target_size= (IMG_SIZE,IMG_SIZE),\n",
    "    batch_size=BATCH_SIZE,\n",
    "        class_mode='binary')"
   ]
  },
  {
   "cell_type": "markdown",
   "id": "494b2133",
   "metadata": {},
   "source": [
    "# 3. 모델 정의\n",
    "\n",
    "  - 모델 모양을 정의합니다.\n",
    "  - Input, Output 모양을 유의하세요."
   ]
  },
  {
   "cell_type": "code",
   "execution_count": 5,
   "id": "33824a94",
   "metadata": {},
   "outputs": [
    {
     "name": "stderr",
     "output_type": "stream",
     "text": [
      "C:\\Users\\User\\miniconda3\\envs\\dl\\Lib\\site-packages\\keras\\src\\layers\\convolutional\\base_conv.py:107: UserWarning: Do not pass an `input_shape`/`input_dim` argument to a layer. When using Sequential models, prefer using an `Input(shape)` object as the first layer in the model instead.\n",
      "  super().__init__(activity_regularizer=activity_regularizer, **kwargs)\n"
     ]
    }
   ],
   "source": [
    "model = tf.keras.models.Sequential([\n",
    "    # 함수 내용을 작성하세요.\n",
    "    tf.keras.layers.Conv2D(16, (3,3), activation='relu', input_shape=(IMG_SIZE, IMG_SIZE, 3)),\n",
    "    tf.keras.layers.MaxPooling2D(2,2),\n",
    "    tf.keras.layers.Conv2D(16, (3,3), activation='relu'),\n",
    "    tf.keras.layers.Conv2D(16, (3,3), activation='relu'),\n",
    "    tf.keras.layers.MaxPooling2D(2,2),\n",
    "    tf.keras.layers.Conv2D(16, (3,3), activation='relu'),\n",
    "    tf.keras.layers.Conv2D(16, (3,3), activation='relu'),\n",
    "    tf.keras.layers.MaxPooling2D(2,2),\n",
    "    tf.keras.layers.Conv2D(16, (3,3), activation='relu'),\n",
    "    tf.keras.layers.Conv2D(16, (3,3), activation='relu'),\n",
    "    tf.keras.layers.MaxPooling2D(2,2),\n",
    "    tf.keras.layers.Flatten(),\n",
    "    tf.keras.layers.Dense(512, activation='relu'),\n",
    "    tf.keras.layers.Dense(1, activation='sigmoid')\n",
    "])"
   ]
  },
  {
   "cell_type": "markdown",
   "id": "b0050399",
   "metadata": {},
   "source": [
    "# 4. 모델 컴파일\n",
    "\n",
    "  - 학습 방법을 정의하세요\n",
    "  - loss, optimizer, metrics 를 올바르게 지정하면 충분합니다."
   ]
  },
  {
   "cell_type": "code",
   "execution_count": 6,
   "id": "846c32a6",
   "metadata": {},
   "outputs": [],
   "source": [
    "model.compile(\n",
    "    # 함수 내용을 작성하세요.\n",
    "    optimizer='adam',\n",
    "              loss='binary_crossentropy',\n",
    "              metrics = ['accuracy']\n",
    ")"
   ]
  },
  {
   "cell_type": "markdown",
   "id": "d5e0c79f",
   "metadata": {},
   "source": [
    "# 5. 모델 학습\n",
    "\n",
    "  - 학습을 위한 epoch, batch_size 등을 설정하세요.\n",
    "  - 이 외에 사용하고 싶은 기법들은 자유롭게 도입하셔도 됩니다."
   ]
  },
  {
   "cell_type": "code",
   "execution_count": 11,
   "id": "1cc6f9b3",
   "metadata": {},
   "outputs": [
    {
     "name": "stdout",
     "output_type": "stream",
     "text": [
      "Epoch 1/10\n"
     ]
    },
    {
     "name": "stderr",
     "output_type": "stream",
     "text": [
      "C:\\Users\\User\\miniconda3\\envs\\dl\\Lib\\site-packages\\keras\\src\\trainers\\data_adapters\\py_dataset_adapter.py:121: UserWarning: Your `PyDataset` class should call `super().__init__(**kwargs)` in its constructor. `**kwargs` can include `workers`, `use_multiprocessing`, `max_queue_size`. Do not pass these arguments to `fit()`, as they will be ignored.\n",
      "  self._warn_if_super_not_called()\n"
     ]
    },
    {
     "name": "stdout",
     "output_type": "stream",
     "text": [
      "\u001b[1m157/157\u001b[0m \u001b[32m━━━━━━━━━━━━━━━━━━━━\u001b[0m\u001b[37m\u001b[0m \u001b[1m34s\u001b[0m 207ms/step - accuracy: 0.9175 - loss: 0.2193 - val_accuracy: 0.9375 - val_loss: 0.1655\n",
      "Epoch 2/10\n",
      "\u001b[1m157/157\u001b[0m \u001b[32m━━━━━━━━━━━━━━━━━━━━\u001b[0m\u001b[37m\u001b[0m \u001b[1m34s\u001b[0m 206ms/step - accuracy: 0.9295 - loss: 0.1730 - val_accuracy: 0.9560 - val_loss: 0.1184\n",
      "Epoch 3/10\n",
      "\u001b[1m157/157\u001b[0m \u001b[32m━━━━━━━━━━━━━━━━━━━━\u001b[0m\u001b[37m\u001b[0m \u001b[1m34s\u001b[0m 205ms/step - accuracy: 0.9450 - loss: 0.1468 - val_accuracy: 0.9605 - val_loss: 0.1032\n",
      "Epoch 4/10\n",
      "\u001b[1m157/157\u001b[0m \u001b[32m━━━━━━━━━━━━━━━━━━━━\u001b[0m\u001b[37m\u001b[0m \u001b[1m34s\u001b[0m 207ms/step - accuracy: 0.9455 - loss: 0.1384 - val_accuracy: 0.9525 - val_loss: 0.1216\n",
      "Epoch 5/10\n",
      "\u001b[1m157/157\u001b[0m \u001b[32m━━━━━━━━━━━━━━━━━━━━\u001b[0m\u001b[37m\u001b[0m \u001b[1m34s\u001b[0m 211ms/step - accuracy: 0.9431 - loss: 0.1444 - val_accuracy: 0.9585 - val_loss: 0.1127\n",
      "Epoch 6/10\n",
      "\u001b[1m157/157\u001b[0m \u001b[32m━━━━━━━━━━━━━━━━━━━━\u001b[0m\u001b[37m\u001b[0m \u001b[1m34s\u001b[0m 207ms/step - accuracy: 0.9455 - loss: 0.1367 - val_accuracy: 0.9670 - val_loss: 0.0918\n",
      "Epoch 7/10\n",
      "\u001b[1m157/157\u001b[0m \u001b[32m━━━━━━━━━━━━━━━━━━━━\u001b[0m\u001b[37m\u001b[0m \u001b[1m34s\u001b[0m 207ms/step - accuracy: 0.9436 - loss: 0.1510 - val_accuracy: 0.9585 - val_loss: 0.1092\n",
      "Epoch 8/10\n",
      "\u001b[1m157/157\u001b[0m \u001b[32m━━━━━━━━━━━━━━━━━━━━\u001b[0m\u001b[37m\u001b[0m \u001b[1m34s\u001b[0m 207ms/step - accuracy: 0.9474 - loss: 0.1341 - val_accuracy: 0.9585 - val_loss: 0.1107\n",
      "Epoch 9/10\n",
      "\u001b[1m157/157\u001b[0m \u001b[32m━━━━━━━━━━━━━━━━━━━━\u001b[0m\u001b[37m\u001b[0m \u001b[1m34s\u001b[0m 207ms/step - accuracy: 0.9507 - loss: 0.1299 - val_accuracy: 0.9400 - val_loss: 0.1374\n",
      "Epoch 10/10\n",
      "\u001b[1m157/157\u001b[0m \u001b[32m━━━━━━━━━━━━━━━━━━━━\u001b[0m\u001b[37m\u001b[0m \u001b[1m34s\u001b[0m 208ms/step - accuracy: 0.9516 - loss: 0.1304 - val_accuracy: 0.9620 - val_loss: 0.1045\n"
     ]
    },
    {
     "data": {
      "text/plain": [
       "<keras.src.callbacks.history.History at 0x24777f138c0>"
      ]
     },
     "execution_count": 11,
     "metadata": {},
     "output_type": "execute_result"
    }
   ],
   "source": [
    "model.fit(\n",
    "        train_generator,\n",
    "        validation_data=validation_generator,\n",
    "        epochs=10,\n",
    "        batch_size=BATCH_SIZE\n",
    ")"
   ]
  },
  {
   "cell_type": "markdown",
   "id": "44a477f2",
   "metadata": {},
   "source": [
    "# Appendix\n",
    "\n",
    "- 이미지를 View 합니다.\n",
    "- model 로 predict 를 합니다."
   ]
  },
  {
   "cell_type": "code",
   "execution_count": 12,
   "id": "45fb2e2f",
   "metadata": {},
   "outputs": [
    {
     "name": "stdout",
     "output_type": "stream",
     "text": [
      "Found 2000 files belonging to 2 classes.\n"
     ]
    }
   ],
   "source": [
    "import matplotlib.pyplot as plt\n",
    "import numpy as np\n",
    "\n",
    "# Take one batch of images and labels\n",
    "val_ds = tf.keras.preprocessing.image_dataset_from_directory(\n",
    "    directory='validation/',\n",
    "    image_size= (IMG_SIZE,IMG_SIZE)\n",
    "    , batch_size=BATCH_SIZE)"
   ]
  },
  {
   "cell_type": "code",
   "execution_count": 13,
   "id": "70c78673-3f34-4f6e-8b2e-2052e86d6273",
   "metadata": {},
   "outputs": [],
   "source": [
    "images, labels = next(iter(val_ds.shuffle(buffer_size=10000)))"
   ]
  },
  {
   "cell_type": "code",
   "execution_count": 16,
   "id": "a4d0f123-54db-4a63-a6d8-593d5a6d79f6",
   "metadata": {},
   "outputs": [
    {
     "data": {
      "text/plain": [
       "tensorflow.python.framework.ops.EagerTensor"
      ]
     },
     "execution_count": 16,
     "metadata": {},
     "output_type": "execute_result"
    }
   ],
   "source": [
    "images[0]"
   ]
  },
  {
   "cell_type": "code",
   "execution_count": 17,
   "id": "45cc2ca3",
   "metadata": {},
   "outputs": [
    {
     "name": "stdout",
     "output_type": "stream",
     "text": [
      "\u001b[1m1/1\u001b[0m \u001b[32m━━━━━━━━━━━━━━━━━━━━\u001b[0m\u001b[37m\u001b[0m \u001b[1m0s\u001b[0m 94ms/step\n"
     ]
    },
    {
     "name": "stderr",
     "output_type": "stream",
     "text": [
      "C:\\Users\\User\\AppData\\Local\\Temp\\ipykernel_15696\\3009641869.py:10: DeprecationWarning: Conversion of an array with ndim > 0 to a scalar is deprecated, and will error in future. Ensure you extract a single element from your array before performing this operation. (Deprecated NumPy 1.25.)\n",
      "  predicted_label = int(predictions.round())\n"
     ]
    },
    {
     "data": {
      "image/png": "[encoded data removed]",
      "text/plain": [
       "<Figure size 500x500 with 1 Axes>"
      ]
     },
     "metadata": {},
     "output_type": "display_data"
    }
   ],
   "source": [
    "data_index = 19\n",
    "\n",
    "selected_image = images[data_index].numpy().astype(\"uint8\")\n",
    "selected_label = labels[data_index].numpy()\n",
    "\n",
    "image_to_predict = np.expand_dims(selected_image/255, axis=0)\n",
    "\n",
    "# Make a prediction\n",
    "predictions = model.predict(image_to_predict)\n",
    "predicted_label = int(predictions.round())\n",
    "\n",
    "plt.figure(figsize=(5,5))\n",
    "plt.imshow(selected_image)\n",
    "class_names = val_ds.class_names\n",
    "plt.title(f\"True Label: {class_names[selected_label]}, Predicted: {class_names[predicted_label]}\")\n",
    "plt.axis(\"off\")\n",
    "plt.show()"
   ]
  },
  {
   "cell_type": "markdown",
   "id": "289c40db",
   "metadata": {},
   "source": [
    "# Transfer Learning\n",
    "\n",
    "- transfer learning 을 이용해서도 풀어봅시다."
   ]
  },
  {
   "cell_type": "code",
   "execution_count": null,
   "id": "579cb971",
   "metadata": {},
   "outputs": [],
   "source": [
    "# 자유롭게 작성하세요."
   ]
  },
  {
   "cell_type": "code",
   "execution_count": null,
   "id": "079174c6",
   "metadata": {},
   "outputs": [],
   "source": []
  },
  {
   "cell_type": "code",
   "execution_count": null,
   "id": "3cc33104",
   "metadata": {},
   "outputs": [],
   "source": []
  }
 ],
 "metadata": {
  "kernelspec": {
   "display_name": "Python 3 (ipykernel)",
   "language": "python",
   "name": "python3"
  },
  "language_info": {
   "codemirror_mode": {
    "name": "ipython",
    "version": 3
   },
   "file_extension": ".py",
   "mimetype": "text/x-python",
   "name": "python",
   "nbconvert_exporter": "python",
   "pygments_lexer": "ipython3",
   "version": "3.12.3"
  }
 },
 "nbformat": 4,
 "nbformat_minor": 5
}
